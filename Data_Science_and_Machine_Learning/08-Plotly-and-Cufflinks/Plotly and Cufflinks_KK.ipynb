{
 "cells": [
  {
   "cell_type": "code",
   "execution_count": 14,
   "metadata": {},
   "outputs": [],
   "source": [
    "import pandas as pd\n",
    "import numpy as np\n",
    "%matplotlib inline"
   ]
  },
  {
   "cell_type": "code",
   "execution_count": 4,
   "metadata": {},
   "outputs": [
    {
     "name": "stdout",
     "output_type": "stream",
     "text": [
      "4.6.0\n"
     ]
    }
   ],
   "source": [
    "from plotly import __version__\n",
    "print(__version__)"
   ]
  },
  {
   "cell_type": "code",
   "execution_count": 5,
   "metadata": {},
   "outputs": [],
   "source": [
    "import cufflinks as cf"
   ]
  },
  {
   "cell_type": "code",
   "execution_count": 7,
   "metadata": {},
   "outputs": [],
   "source": [
    "from plotly.offline import download_plotlyjs,init_notebook_mode,plot,iplot"
   ]
  },
  {
   "cell_type": "code",
   "execution_count": 8,
   "metadata": {},
   "outputs": [
    {
     "data": {
      "text/html": [
       "        <script type=\"text/javascript\">\n",
       "        window.PlotlyConfig = {MathJaxConfig: 'local'};\n",
       "        if (window.MathJax) {MathJax.Hub.Config({SVG: {font: \"STIX-Web\"}});}\n",
       "        if (typeof require !== 'undefined') {\n",
       "        require.undef(\"plotly\");\n",
       "        requirejs.config({\n",
       "            paths: {\n",
       "                'plotly': ['https://cdn.plot.ly/plotly-latest.min']\n",
       "            }\n",
       "        });\n",
       "        require(['plotly'], function(Plotly) {\n",
       "            window._Plotly = Plotly;\n",
       "        });\n",
       "        }\n",
       "        </script>\n",
       "        "
      ]
     },
     "metadata": {},
     "output_type": "display_data"
    }
   ],
   "source": [
    "init_notebook_mode(connected=True)"
   ]
  },
  {
   "cell_type": "code",
   "execution_count": 9,
   "metadata": {},
   "outputs": [
    {
     "data": {
      "text/html": [
       "        <script type=\"text/javascript\">\n",
       "        window.PlotlyConfig = {MathJaxConfig: 'local'};\n",
       "        if (window.MathJax) {MathJax.Hub.Config({SVG: {font: \"STIX-Web\"}});}\n",
       "        if (typeof require !== 'undefined') {\n",
       "        require.undef(\"plotly\");\n",
       "        requirejs.config({\n",
       "            paths: {\n",
       "                'plotly': ['https://cdn.plot.ly/plotly-latest.min']\n",
       "            }\n",
       "        });\n",
       "        require(['plotly'], function(Plotly) {\n",
       "            window._Plotly = Plotly;\n",
       "        });\n",
       "        }\n",
       "        </script>\n",
       "        "
      ]
     },
     "metadata": {},
     "output_type": "display_data"
    }
   ],
   "source": [
    "cf.go_offline()"
   ]
  },
  {
   "cell_type": "code",
   "execution_count": 11,
   "metadata": {},
   "outputs": [
    {
     "data": {
      "text/html": [
       "<div>\n",
       "<style scoped>\n",
       "    .dataframe tbody tr th:only-of-type {\n",
       "        vertical-align: middle;\n",
       "    }\n",
       "\n",
       "    .dataframe tbody tr th {\n",
       "        vertical-align: top;\n",
       "    }\n",
       "\n",
       "    .dataframe thead th {\n",
       "        text-align: right;\n",
       "    }\n",
       "</style>\n",
       "<table border=\"1\" class=\"dataframe\">\n",
       "  <thead>\n",
       "    <tr style=\"text-align: right;\">\n",
       "      <th></th>\n",
       "      <th>A</th>\n",
       "      <th>B</th>\n",
       "      <th>C</th>\n",
       "      <th>D</th>\n",
       "    </tr>\n",
       "  </thead>\n",
       "  <tbody>\n",
       "    <tr>\n",
       "      <td>0</td>\n",
       "      <td>-0.171641</td>\n",
       "      <td>0.548451</td>\n",
       "      <td>-0.598344</td>\n",
       "      <td>0.833851</td>\n",
       "    </tr>\n",
       "    <tr>\n",
       "      <td>1</td>\n",
       "      <td>-0.436513</td>\n",
       "      <td>-2.325437</td>\n",
       "      <td>-2.660418</td>\n",
       "      <td>-0.105850</td>\n",
       "    </tr>\n",
       "    <tr>\n",
       "      <td>2</td>\n",
       "      <td>0.191561</td>\n",
       "      <td>-0.177685</td>\n",
       "      <td>-0.689358</td>\n",
       "      <td>-0.270661</td>\n",
       "    </tr>\n",
       "    <tr>\n",
       "      <td>3</td>\n",
       "      <td>-1.056703</td>\n",
       "      <td>-0.041358</td>\n",
       "      <td>-0.522988</td>\n",
       "      <td>0.599680</td>\n",
       "    </tr>\n",
       "    <tr>\n",
       "      <td>4</td>\n",
       "      <td>0.422332</td>\n",
       "      <td>1.037768</td>\n",
       "      <td>-1.114257</td>\n",
       "      <td>0.403591</td>\n",
       "    </tr>\n",
       "  </tbody>\n",
       "</table>\n",
       "</div>"
      ],
      "text/plain": [
       "          A         B         C         D\n",
       "0 -0.171641  0.548451 -0.598344  0.833851\n",
       "1 -0.436513 -2.325437 -2.660418 -0.105850\n",
       "2  0.191561 -0.177685 -0.689358 -0.270661\n",
       "3 -1.056703 -0.041358 -0.522988  0.599680\n",
       "4  0.422332  1.037768 -1.114257  0.403591"
      ]
     },
     "execution_count": 11,
     "metadata": {},
     "output_type": "execute_result"
    }
   ],
   "source": [
    "#Data\n",
    "df =pd.DataFrame(np.random.randn(100,4),columns='A B C D'.split())\n",
    "df.head()"
   ]
  },
  {
   "cell_type": "code",
   "execution_count": 13,
   "metadata": {},
   "outputs": [
    {
     "data": {
      "text/html": [
       "<div>\n",
       "<style scoped>\n",
       "    .dataframe tbody tr th:only-of-type {\n",
       "        vertical-align: middle;\n",
       "    }\n",
       "\n",
       "    .dataframe tbody tr th {\n",
       "        vertical-align: top;\n",
       "    }\n",
       "\n",
       "    .dataframe thead th {\n",
       "        text-align: right;\n",
       "    }\n",
       "</style>\n",
       "<table border=\"1\" class=\"dataframe\">\n",
       "  <thead>\n",
       "    <tr style=\"text-align: right;\">\n",
       "      <th></th>\n",
       "      <th>Category</th>\n",
       "      <th>Value</th>\n",
       "    </tr>\n",
       "  </thead>\n",
       "  <tbody>\n",
       "    <tr>\n",
       "      <td>0</td>\n",
       "      <td>A</td>\n",
       "      <td>32</td>\n",
       "    </tr>\n",
       "    <tr>\n",
       "      <td>1</td>\n",
       "      <td>B</td>\n",
       "      <td>43</td>\n",
       "    </tr>\n",
       "    <tr>\n",
       "      <td>2</td>\n",
       "      <td>C</td>\n",
       "      <td>50</td>\n",
       "    </tr>\n",
       "  </tbody>\n",
       "</table>\n",
       "</div>"
      ],
      "text/plain": [
       "  Category  Value\n",
       "0        A     32\n",
       "1        B     43\n",
       "2        C     50"
      ]
     },
     "execution_count": 13,
     "metadata": {},
     "output_type": "execute_result"
    }
   ],
   "source": [
    "df2=pd.DataFrame({'Category':['A','B','C'],'Value':[32,43,50]})\n",
    "df2"
   ]
  },
  {
   "cell_type": "code",
   "execution_count": 15,
   "metadata": {},
   "outputs": [
    {
     "data": {
      "text/plain": [
       "<matplotlib.axes._subplots.AxesSubplot at 0x1c25bff690>"
      ]
     },
     "execution_count": 15,
     "metadata": {},
     "output_type": "execute_result"
    },
    {
     "data": {
      "image/png": "[encoded data removed]",
      "text/plain": [
       "<Figure size 432x288 with 1 Axes>"
      ]
     },
     "metadata": {
      "needs_background": "light"
     },
     "output_type": "display_data"
    }
   ],
   "source": [
    "#Using Matplot lib which plots static gragh\n",
    "df.plot()"
   ]
  },
  {
   "cell_type": "code",
   "execution_count": 18,
   "metadata": {},
   "outputs": [
    {
     "data": {
      "application/vnd.plotly.v1+json": {
       "config": {
        "linkText": "Export to plot.ly",
        "plotlyServerURL": "https://plot.ly",
        "showLink": true
       },
       "data": [
        {
         "line": {
          "color": "rgba(255, 153, 51, 1.0)",
          "dash": "solid",
          "shape": "linear",
          "width": 1.3
         },
         "mode": "lines",
         "name": "A",
         "text": "",
         "type": "scatter",
         "x": [
          0,
          1,
          2,
          3,
          4,
          5,
          6,
          7,
          8,
          9,
          10,
          11,
          12,
          13,
          14,
          15,
          16,
          17,
          18,
          19,
          20,
          21,
          22,
          23,
          24,
          25,
          26,
          27,
          28,
          29,
          30,
          31,
          32,
          33,
          34,
          35,
          36,
          37,
          38,
          39,
          40,
          41,
          42,
          43,
          44,
          45,
          46,
          47,
          48,
          49,
          50,
          51,
          52,
          53,
          54,
          55,
          56,
          57,
          58,
          59,
          60,
          61,
          62,
          63,
          64,
          65,
          66,
          67,
          68,
          69,
          70,
          71,
          72,
          73,
          74,
          75,
          76,
          77,
          78,
          79,
          80,
          81,
          82,
          83,
          84,
          85,
          86,
          87,
          88,
          89,
          90,
          91,
          92,
          93,
          94,
          95,
          96,
          97,
          98,
          99
         ],
         "y": [
          -0.171640601897393,
          -0.43651310026760143,
          0.1915612390123302,
          -1.056703312019151,
          0.4223324960551365,
          1.2877468203367912,
          -0.5709727518406853,
          2.1648676554773516,
          -1.2710537136872033,
          0.16778935785866875,
          1.0923398653718392,
          0.4925306791099881,
          -0.703668513206629,
          -1.4524459966421268,
          -1.2744387261513341,
          0.48551604613423355,
          -0.08955322711220023,
          -0.29027573121328615,
          0.7745650160804478,
          -1.1099619262798022,
          -1.9683383872344231,
          -0.29436352576008007,
          -0.6114534149828592,
          -0.6016002569315776,
          0.6621081449698877,
          0.21266807621964742,
          -0.14196204190623365,
          0.8455808080508328,
          2.218513523093423,
          1.225509030816993,
          -0.05744835346384874,
          -0.11673789320091013,
          -0.30301635565632434,
          -0.6627327489766144,
          -0.294755132084432,
          -0.133052082126597,
          -0.7027262561520775,
          0.21363941721995688,
          0.7533029620632767,
          0.9161599146948339,
          -0.38695616486884626,
          0.19596958959686875,
          2.1597457209110167,
          1.6330219307099394,
          -0.053064503558190354,
          0.6603445747130693,
          0.3207945904648976,
          -1.1050354243244225,
          1.5637954578971218,
          1.2541918745480611,
          -2.095064611555383,
          -0.7845842103111716,
          -0.19468049802855614,
          -0.4014548287149151,
          0.3407950800545804,
          0.03272595875779687,
          -1.3056241417427392,
          0.7438543233795972,
          -1.3227506872869208,
          1.0784707979095176,
          -0.815334722857213,
          -0.5373819359409527,
          -1.0606203281249487,
          0.441700587416723,
          -0.32878279305935415,
          -0.46581137917888865,
          -1.0904053135674916,
          -1.26924927808231,
          0.31270617806826667,
          0.6970749712875615,
          0.3153736148451356,
          -0.45080146910650637,
          -0.2720063615339261,
          1.4044677356602207,
          -0.019348041080346393,
          1.1049428128294767,
          -2.377128291270848,
          -1.5073793637973727,
          -0.926666748211941,
          1.8579700229276017,
          -1.2116095443091348,
          0.8236413783722552,
          -0.32430248425442165,
          2.0906677707983916,
          -0.7044681959680065,
          -0.1546026406012769,
          -0.9385406062305209,
          -0.8692498584291668,
          -2.3768058600922677,
          -2.4065090278566914,
          1.7172860060023276,
          0.16700914108697476,
          -1.0892987171083033,
          1.1821925982620303,
          0.3761064908178598,
          -0.6081613870137292,
          0.5683748477954369,
          -0.2666353852917895,
          0.9020386387275965,
          0.22303842334880358
         ]
        },
        {
         "line": {
          "color": "rgba(55, 128, 191, 1.0)",
          "dash": "solid",
          "shape": "linear",
          "width": 1.3
         },
         "mode": "lines",
         "name": "B",
         "text": "",
         "type": "scatter",
         "x": [
          0,
          1,
          2,
          3,
          4,
          5,
          6,
          7,
          8,
          9,
          10,
          11,
          12,
          13,
          14,
          15,
          16,
          17,
          18,
          19,
          20,
          21,
          22,
          23,
          24,
          25,
          26,
          27,
          28,
          29,
          30,
          31,
          32,
          33,
          34,
          35,
          36,
          37,
          38,
          39,
          40,
          41,
          42,
          43,
          44,
          45,
          46,
          47,
          48,
          49,
          50,
          51,
          52,
          53,
          54,
          55,
          56,
          57,
          58,
          59,
          60,
          61,
          62,
          63,
          64,
          65,
          66,
          67,
          68,
          69,
          70,
          71,
          72,
          73,
          74,
          75,
          76,
          77,
          78,
          79,
          80,
          81,
          82,
          83,
          84,
          85,
          86,
          87,
          88,
          89,
          90,
          91,
          92,
          93,
          94,
          95,
          96,
          97,
          98,
          99
         ],
         "y": [
          0.5484513444208927,
          -2.3254372400024663,
          -0.17768498503930882,
          -0.0413575571659648,
          1.0377678595702458,
          -0.7116014651027107,
          0.26857162154881,
          1.5290566395723573,
          -0.2567586755527022,
          -0.357121113255171,
          0.8094544672338446,
          -0.18796083964617127,
          -0.027477640202128045,
          -0.11870292311303313,
          -2.269461527526842,
          1.5955328577357266,
          -0.8644545357821648,
          -1.8642968220350373,
          0.09017916692978532,
          -1.344766726938334,
          1.1745824220442214,
          -0.8414367236253527,
          -0.7884004277579315,
          -0.1489331864549383,
          0.7728688387695918,
          -2.1409153230074534,
          0.34821592049908134,
          -0.27498245733340865,
          0.6490421722801153,
          -0.3095015003082018,
          1.3755435096077888,
          0.5295635663635087,
          0.3035655123758679,
          -0.15702303716074245,
          1.1704292564472734,
          -1.52193050513255,
          -0.17304696512117046,
          0.500742618651033,
          -2.411263379463824,
          -0.2764586244288876,
          -0.9354022868432563,
          1.6180987037807752,
          -0.5850556670966817,
          0.8064515288677078,
          -0.1925316499670654,
          2.1249498691984603,
          0.28824678756934996,
          1.0808924511417874,
          -1.0991069038596877,
          2.8523270968784757,
          -0.1462276160136622,
          -0.7269456317989939,
          1.009683169084365,
          -0.9128087165867703,
          2.739386314769789,
          -1.3757622114686658,
          1.4407905278507112,
          -2.1437891180414965,
          -0.8685438816408083,
          -1.0684204255937035,
          -1.3909622043143515,
          -1.708519617763413,
          -1.033225258404668,
          -0.9273179566800895,
          0.9622755612144613,
          0.4036958283171158,
          -2.066620915349806,
          -0.5313498777603,
          -0.37213553235231156,
          0.5566243901674788,
          0.46809411497026965,
          0.03231282758546965,
          1.5950315245268063,
          -0.8677057971639819,
          0.5934132541166431,
          0.6665791844271618,
          -1.070293341617307,
          0.23247746328414118,
          0.1636105945212715,
          1.3847638680189123,
          -0.7468787389615569,
          -0.6336863846695935,
          -0.15418321052239078,
          -0.022964779182480508,
          0.13067056650667006,
          -0.8346647281545524,
          -0.08276756281076375,
          -0.23593108329391443,
          1.4223691939157483,
          -1.475177034806321,
          -0.5631133271333681,
          -0.9498587583942311,
          -1.1180928581281955,
          -1.9290450825993415,
          0.22878195896987918,
          -1.16846732408735,
          -1.201800804545687,
          0.6324538976960572,
          -0.1723277128840355,
          0.2296303534317323
         ]
        },
        {
         "line": {
          "color": "rgba(50, 171, 96, 1.0)",
          "dash": "solid",
          "shape": "linear",
          "width": 1.3
         },
         "mode": "lines",
         "name": "C",
         "text": "",
         "type": "scatter",
         "x": [
          0,
          1,
          2,
          3,
          4,
          5,
          6,
          7,
          8,
          9,
          10,
          11,
          12,
          13,
          14,
          15,
          16,
          17,
          18,
          19,
          20,
          21,
          22,
          23,
          24,
          25,
          26,
          27,
          28,
          29,
          30,
          31,
          32,
          33,
          34,
          35,
          36,
          37,
          38,
          39,
          40,
          41,
          42,
          43,
          44,
          45,
          46,
          47,
          48,
          49,
          50,
          51,
          52,
          53,
          54,
          55,
          56,
          57,
          58,
          59,
          60,
          61,
          62,
          63,
          64,
          65,
          66,
          67,
          68,
          69,
          70,
          71,
          72,
          73,
          74,
          75,
          76,
          77,
          78,
          79,
          80,
          81,
          82,
          83,
          84,
          85,
          86,
          87,
          88,
          89,
          90,
          91,
          92,
          93,
          94,
          95,
          96,
          97,
          98,
          99
         ],
         "y": [
          -0.5983437620713272,
          -2.6604175619961046,
          -0.6893577279175397,
          -0.5229880431507179,
          -1.1142570311277662,
          0.4144329010324235,
          1.0709199857046865,
          0.24185000081928387,
          0.8679028870583181,
          0.8552503604199,
          -0.6897875923656063,
          -0.6170711861715913,
          -0.574019045561744,
          -0.42602932488795464,
          -0.06540747052858152,
          1.01225862618407,
          0.5725334774448296,
          -0.47718574956385784,
          0.29591534234625394,
          1.0713609097573518,
          1.7850760760870759,
          0.6615370182444141,
          -0.09975617128227394,
          0.6265897988876452,
          -0.434442435536369,
          0.9189381575943047,
          1.1426297546254645,
          0.05469376367844408,
          0.7664286517069745,
          1.4460545893069578,
          -1.2564294325418002,
          0.4220576687942533,
          0.6289966738488311,
          -0.2788764402500565,
          0.5015049964356932,
          1.514458160544959,
          0.2782476011345647,
          0.269754598159741,
          1.3519102352351455,
          -0.12193137836822808,
          -2.178769420790974,
          0.8539668969339135,
          1.3839608405729358,
          0.46683197255988956,
          1.8590406800885484,
          0.3395093676304781,
          0.40311363481143375,
          -1.0741084327550467,
          -0.6594594819662645,
          -0.1065325263332107,
          1.0030409948514505,
          -2.2465625425281024,
          0.5250755374331697,
          0.5874277050905309,
          0.06617762829699439,
          -0.44520947266094435,
          1.5031363729296439,
          0.2683309891489996,
          0.8941013914258936,
          1.1900921079684381,
          -1.592338528514025,
          0.7848888225422255,
          1.8842823892513476,
          -0.2825083302404101,
          -0.33813550666448006,
          -0.25537087832581873,
          -0.7211597678307854,
          -1.734912570192576,
          0.9561537011128859,
          0.16208957636882837,
          -1.2000533555518906,
          0.4408341380584331,
          -1.449277089723586,
          0.034329587009165954,
          -0.04604054983925971,
          0.8974630060064327,
          0.16304891450080738,
          1.9638360203986867,
          -1.5776099100630412,
          0.7609264198270365,
          0.969561171471672,
          -1.0991506011551149,
          -1.465825439340637,
          -1.314898729207641,
          -0.8380424127033789,
          0.4373953826702947,
          0.45037384631284544,
          -0.8904920643002715,
          -0.5810637913845554,
          0.3925376368775025,
          0.2579651317698921,
          -1.0810556062247758,
          -0.31741955255737236,
          1.618570911321861,
          1.0238726864773395,
          -0.13573365567790135,
          -0.8632715661196068,
          0.6288163109271624,
          -0.2819767637068381,
          2.2988019665203265
         ]
        },
        {
         "line": {
          "color": "rgba(128, 0, 128, 1.0)",
          "dash": "solid",
          "shape": "linear",
          "width": 1.3
         },
         "mode": "lines",
         "name": "D",
         "text": "",
         "type": "scatter",
         "x": [
          0,
          1,
          2,
          3,
          4,
          5,
          6,
          7,
          8,
          9,
          10,
          11,
          12,
          13,
          14,
          15,
          16,
          17,
          18,
          19,
          20,
          21,
          22,
          23,
          24,
          25,
          26,
          27,
          28,
          29,
          30,
          31,
          32,
          33,
          34,
          35,
          36,
          37,
          38,
          39,
          40,
          41,
          42,
          43,
          44,
          45,
          46,
          47,
          48,
          49,
          50,
          51,
          52,
          53,
          54,
          55,
          56,
          57,
          58,
          59,
          60,
          61,
          62,
          63,
          64,
          65,
          66,
          67,
          68,
          69,
          70,
          71,
          72,
          73,
          74,
          75,
          76,
          77,
          78,
          79,
          80,
          81,
          82,
          83,
          84,
          85,
          86,
          87,
          88,
          89,
          90,
          91,
          92,
          93,
          94,
          95,
          96,
          97,
          98,
          99
         ],
         "y": [
          0.8338514606350064,
          -0.10584992645229413,
          -0.2706609825615641,
          0.5996801983644825,
          0.40359100466599535,
          2.641790207427108,
          0.13224103676807694,
          0.35313713991942014,
          1.144896307631846,
          1.9946928047934107,
          -0.9171338011956501,
          -0.4791782716060962,
          -0.6726579700852056,
          1.831020641813482,
          -0.1523547432486442,
          0.3354427663278796,
          -2.441582962241704,
          1.9715015842875654,
          0.5494742773319939,
          0.6145317653973147,
          -1.1806025799960154,
          0.5155567640803262,
          -1.3242560220644943,
          0.041700160836206965,
          0.9468186268366223,
          -0.5619512409700159,
          -0.7413321342009079,
          0.820528530608833,
          -0.6458138002254487,
          0.050524454707551014,
          0.862396604461523,
          2.253816471768166,
          0.4648313687438735,
          -0.16136990451619151,
          2.1987705070284673,
          -0.5727987959263574,
          -1.7115241145055666,
          2.073776369230856,
          0.625241141366843,
          1.5292209070329297,
          -0.5107014925784714,
          -0.31939413263433497,
          0.646758037652685,
          -0.2779513216230143,
          -0.19124944161845978,
          0.9571695847179208,
          -1.1048580560914822,
          -0.8984915407298146,
          1.3273431506933735,
          -1.333150838500644,
          -0.1985793201190395,
          2.019330939054003,
          1.2948297395951902,
          -0.3749962350083088,
          0.7563352984444898,
          0.1117176438204793,
          0.5872748114399307,
          -0.429718197605014,
          1.1580569489872719,
          -0.7458610043235129,
          0.8355882588036868,
          0.42485291323705143,
          0.4424168054773275,
          0.14127394287620942,
          -0.6154617117321134,
          -0.5110598682054509,
          0.13496982598516002,
          1.0245401663215845,
          -2.0311036813716705,
          -1.0250819271742715,
          -1.8636033313844171,
          0.8574905588910688,
          0.049503038730056084,
          -0.4104207782106683,
          -0.13764615619265963,
          0.2844344254242617,
          -0.7411574434948729,
          -0.9502016965746825,
          0.8689197050008775,
          -1.9318681506349502,
          0.471433643085626,
          0.585171420032461,
          0.6404961794771034,
          -0.22741488276623759,
          -1.0205085255341666,
          0.05233227104990713,
          0.49628856355218215,
          -0.8950524060645041,
          1.8180841461402975,
          -0.817214388120829,
          1.1765542892213678,
          0.6038964891497567,
          -0.29640169240258973,
          1.7917165418241447,
          -0.9923304082753172,
          1.4156913840918108,
          -0.37184430284858083,
          0.3670786989417944,
          -1.0405526567533496,
          0.9209916696959721
         ]
        }
       ],
       "layout": {
        "legend": {
         "bgcolor": "#F5F6F9",
         "font": {
          "color": "#4D5663"
         }
        },
        "paper_bgcolor": "#F5F6F9",
        "plot_bgcolor": "#F5F6F9",
        "template": {
         "data": {
          "bar": [
           {
            "error_x": {
             "color": "#2a3f5f"
            },
            "error_y": {
             "color": "#2a3f5f"
            },
            "marker": {
             "line": {
              "color": "#E5ECF6",
              "width": 0.5
             }
            },
            "type": "bar"
           }
          ],
          "barpolar": [
           {
            "marker": {
             "line": {
              "color": "#E5ECF6",
              "width": 0.5
             }
            },
            "type": "barpolar"
           }
          ],
          "carpet": [
           {
            "aaxis": {
             "endlinecolor": "#2a3f5f",
             "gridcolor": "white",
             "linecolor": "white",
             "minorgridcolor": "white",
             "startlinecolor": "#2a3f5f"
            },
            "baxis": {
             "endlinecolor": "#2a3f5f",
             "gridcolor": "white",
             "linecolor": "white",
             "minorgridcolor": "white",
             "startlinecolor": "#2a3f5f"
            },
            "type": "carpet"
           }
          ],
          "choropleth": [
           {
            "colorbar": {
             "outlinewidth": 0,
             "ticks": ""
            },
            "type": "choropleth"
           }
          ],
          "contour": [
           {
            "colorbar": {
             "outlinewidth": 0,
             "ticks": ""
            },
            "colorscale": [
             [
              0,
              "#0d0887"
             ],
             [
              0.1111111111111111,
              "#46039f"
             ],
             [
              0.2222222222222222,
              "#7201a8"
             ],
             [
              0.3333333333333333,
              "#9c179e"
             ],
             [
              0.4444444444444444,
              "#bd3786"
             ],
             [
              0.5555555555555556,
              "#d8576b"
             ],
             [
              0.6666666666666666,
              "#ed7953"
             ],
             [
              0.7777777777777778,
              "#fb9f3a"
             ],
             [
              0.8888888888888888,
              "#fdca26"
             ],
             [
              1,
              "#f0f921"
             ]
            ],
            "type": "contour"
           }
          ],
          "contourcarpet": [
           {
            "colorbar": {
             "outlinewidth": 0,
             "ticks": ""
            },
            "type": "contourcarpet"
           }
          ],
          "heatmap": [
           {
            "colorbar": {
             "outlinewidth": 0,
             "ticks": ""
            },
            "colorscale": [
             [
              0,
              "#0d0887"
             ],
             [
              0.1111111111111111,
              "#46039f"
             ],
             [
              0.2222222222222222,
              "#7201a8"
             ],
             [
              0.3333333333333333,
              "#9c179e"
             ],
             [
              0.4444444444444444,
              "#bd3786"
             ],
             [
              0.5555555555555556,
              "#d8576b"
             ],
             [
              0.6666666666666666,
              "#ed7953"
             ],
             [
              0.7777777777777778,
              "#fb9f3a"
             ],
             [
              0.8888888888888888,
              "#fdca26"
             ],
             [
              1,
              "#f0f921"
             ]
            ],
            "type": "heatmap"
           }
          ],
          "heatmapgl": [
           {
            "colorbar": {
             "outlinewidth": 0,
             "ticks": ""
            },
            "colorscale": [
             [
              0,
              "#0d0887"
             ],
             [
              0.1111111111111111,
              "#46039f"
             ],
             [
              0.2222222222222222,
              "#7201a8"
             ],
             [
              0.3333333333333333,
              "#9c179e"
             ],
             [
              0.4444444444444444,
              "#bd3786"
             ],
             [
              0.5555555555555556,
              "#d8576b"
             ],
             [
              0.6666666666666666,
              "#ed7953"
             ],
             [
              0.7777777777777778,
              "#fb9f3a"
             ],
             [
              0.8888888888888888,
              "#fdca26"
             ],
             [
              1,
              "#f0f921"
             ]
            ],
            "type": "heatmapgl"
           }
          ],
          "histogram": [
           {
            "marker": {
             "colorbar": {
              "outlinewidth": 0,
              "ticks": ""
             }
            },
            "type": "histogram"
           }
          ],
          "histogram2d": [
           {
            "colorbar": {
             "outlinewidth": 0,
             "ticks": ""
            },
            "colorscale": [
             [
              0,
              "#0d0887"
             ],
             [
              0.1111111111111111,
              "#46039f"
             ],
             [
              0.2222222222222222,
              "#7201a8"
             ],
             [
              0.3333333333333333,
              "#9c179e"
             ],
             [
              0.4444444444444444,
              "#bd3786"
             ],
             [
              0.5555555555555556,
              "#d8576b"
             ],
             [
              0.6666666666666666,
              "#ed7953"
             ],
             [
              0.7777777777777778,
              "#fb9f3a"
             ],
             [
              0.8888888888888888,
              "#fdca26"
             ],
             [
              1,
              "#f0f921"
             ]
            ],
            "type": "histogram2d"
           }
          ],
          "histogram2dcontour": [
           {
            "colorbar": {
             "outlinewidth": 0,
             "ticks": ""
            },
            "colorscale": [
             [
              0,
              "#0d0887"
             ],
             [
              0.1111111111111111,
              "#46039f"
             ],
             [
              0.2222222222222222,
              "#7201a8"
             ],
             [
              0.3333333333333333,
              "#9c179e"
             ],
             [
              0.4444444444444444,
              "#bd3786"
             ],
             [
              0.5555555555555556,
              "#d8576b"
             ],
             [
              0.6666666666666666,
              "#ed7953"
             ],
             [
              0.7777777777777778,
              "#fb9f3a"
             ],
             [
              0.8888888888888888,
              "#fdca26"
             ],
             [
              1,
              "#f0f921"
             ]
            ],
            "type": "histogram2dcontour"
           }
          ],
          "mesh3d": [
           {
            "colorbar": {
             "outlinewidth": 0,
             "ticks": ""
            },
            "type": "mesh3d"
           }
          ],
          "parcoords": [
           {
            "line": {
             "colorbar": {
              "outlinewidth": 0,
              "ticks": ""
             }
            },
            "type": "parcoords"
           }
          ],
          "pie": [
           {
            "automargin": true,
            "type": "pie"
           }
          ],
          "scatter": [
           {
            "marker": {
             "colorbar": {
              "outlinewidth": 0,
              "ticks": ""
             }
            },
            "type": "scatter"
           }
          ],
          "scatter3d": [
           {
            "line": {
             "colorbar": {
              "outlinewidth": 0,
              "ticks": ""
             }
            },
            "marker": {
             "colorbar": {
              "outlinewidth": 0,
              "ticks": ""
             }
            },
            "type": "scatter3d"
           }
          ],
          "scattercarpet": [
           {
            "marker": {
             "colorbar": {
              "outlinewidth": 0,
              "ticks": ""
             }
            },
            "type": "scattercarpet"
           }
          ],
          "scattergeo": [
           {
            "marker": {
             "colorbar": {
              "outlinewidth": 0,
              "ticks": ""
             }
            },
            "type": "scattergeo"
           }
          ],
          "scattergl": [
           {
            "marker": {
             "colorbar": {
              "outlinewidth": 0,
              "ticks": ""
             }
            },
            "type": "scattergl"
           }
          ],
          "scattermapbox": [
           {
            "marker": {
             "colorbar": {
              "outlinewidth": 0,
              "ticks": ""
             }
            },
            "type": "scattermapbox"
           }
          ],
          "scatterpolar": [
           {
            "marker": {
             "colorbar": {
              "outlinewidth": 0,
              "ticks": ""
             }
            },
            "type": "scatterpolar"
           }
          ],
          "scatterpolargl": [
           {
            "marker": {
             "colorbar": {
              "outlinewidth": 0,
              "ticks": ""
             }
            },
            "type": "scatterpolargl"
           }
          ],
          "scatterternary": [
           {
            "marker": {
             "colorbar": {
              "outlinewidth": 0,
              "ticks": ""
             }
            },
            "type": "scatterternary"
           }
          ],
          "surface": [
           {
            "colorbar": {
             "outlinewidth": 0,
             "ticks": ""
            },
            "colorscale": [
             [
              0,
              "#0d0887"
             ],
             [
              0.1111111111111111,
              "#46039f"
             ],
             [
              0.2222222222222222,
              "#7201a8"
             ],
             [
              0.3333333333333333,
              "#9c179e"
             ],
             [
              0.4444444444444444,
              "#bd3786"
             ],
             [
              0.5555555555555556,
              "#d8576b"
             ],
             [
              0.6666666666666666,
              "#ed7953"
             ],
             [
              0.7777777777777778,
              "#fb9f3a"
             ],
             [
              0.8888888888888888,
              "#fdca26"
             ],
             [
              1,
              "#f0f921"
             ]
            ],
            "type": "surface"
           }
          ],
          "table": [
           {
            "cells": {
             "fill": {
              "color": "#EBF0F8"
             },
             "line": {
              "color": "white"
             }
            },
            "header": {
             "fill": {
              "color": "#C8D4E3"
             },
             "line": {
              "color": "white"
             }
            },
            "type": "table"
           }
          ]
         },
         "layout": {
          "annotationdefaults": {
           "arrowcolor": "#2a3f5f",
           "arrowhead": 0,
           "arrowwidth": 1
          },
          "coloraxis": {
           "colorbar": {
            "outlinewidth": 0,
            "ticks": ""
           }
          },
          "colorscale": {
           "diverging": [
            [
             0,
             "#8e0152"
            ],
            [
             0.1,
             "#c51b7d"
            ],
            [
             0.2,
             "#de77ae"
            ],
            [
             0.3,
             "#f1b6da"
            ],
            [
             0.4,
             "#fde0ef"
            ],
            [
             0.5,
             "#f7f7f7"
            ],
            [
             0.6,
             "#e6f5d0"
            ],
            [
             0.7,
             "#b8e186"
            ],
            [
             0.8,
             "#7fbc41"
            ],
            [
             0.9,
             "#4d9221"
            ],
            [
             1,
             "#276419"
            ]
           ],
           "sequential": [
            [
             0,
             "#0d0887"
            ],
            [
             0.1111111111111111,
             "#46039f"
            ],
            [
             0.2222222222222222,
             "#7201a8"
            ],
            [
             0.3333333333333333,
             "#9c179e"
            ],
            [
             0.4444444444444444,
             "#bd3786"
            ],
            [
             0.5555555555555556,
             "#d8576b"
            ],
            [
             0.6666666666666666,
             "#ed7953"
            ],
            [
             0.7777777777777778,
             "#fb9f3a"
            ],
            [
             0.8888888888888888,
             "#fdca26"
            ],
            [
             1,
             "#f0f921"
            ]
           ],
           "sequentialminus": [
            [
             0,
             "#0d0887"
            ],
            [
             0.1111111111111111,
             "#46039f"
            ],
            [
             0.2222222222222222,
             "#7201a8"
            ],
            [
             0.3333333333333333,
             "#9c179e"
            ],
            [
             0.4444444444444444,
             "#bd3786"
            ],
            [
             0.5555555555555556,
             "#d8576b"
            ],
            [
             0.6666666666666666,
             "#ed7953"
            ],
            [
             0.7777777777777778,
             "#fb9f3a"
            ],
            [
             0.8888888888888888,
             "#fdca26"
            ],
            [
             1,
             "#f0f921"
            ]
           ]
          },
          "colorway": [
           "#636efa",
           "#EF553B",
           "#00cc96",
           "#ab63fa",
           "#FFA15A",
           "#19d3f3",
           "#FF6692",
           "#B6E880",
           "#FF97FF",
           "#FECB52"
          ],
          "font": {
           "color": "#2a3f5f"
          },
          "geo": {
           "bgcolor": "white",
           "lakecolor": "white",
           "landcolor": "#E5ECF6",
           "showlakes": true,
           "showland": true,
           "subunitcolor": "white"
          },
          "hoverlabel": {
           "align": "left"
          },
          "hovermode": "closest",
          "mapbox": {
           "style": "light"
          },
          "paper_bgcolor": "white",
          "plot_bgcolor": "#E5ECF6",
          "polar": {
           "angularaxis": {
            "gridcolor": "white",
            "linecolor": "white",
            "ticks": ""
           },
           "bgcolor": "#E5ECF6",
           "radialaxis": {
            "gridcolor": "white",
            "linecolor": "white",
            "ticks": ""
           }
          },
          "scene": {
           "xaxis": {
            "backgroundcolor": "#E5ECF6",
            "gridcolor": "white",
            "gridwidth": 2,
            "linecolor": "white",
            "showbackground": true,
            "ticks": "",
            "zerolinecolor": "white"
           },
           "yaxis": {
            "backgroundcolor": "#E5ECF6",
            "gridcolor": "white",
            "gridwidth": 2,
            "linecolor": "white",
            "showbackground": true,
            "ticks": "",
            "zerolinecolor": "white"
           },
           "zaxis": {
            "backgroundcolor": "#E5ECF6",
            "gridcolor": "white",
            "gridwidth": 2,
            "linecolor": "white",
            "showbackground": true,
            "ticks": "",
            "zerolinecolor": "white"
           }
          },
          "shapedefaults": {
           "line": {
            "color": "#2a3f5f"
           }
          },
          "ternary": {
           "aaxis": {
            "gridcolor": "white",
            "linecolor": "white",
            "ticks": ""
           },
           "baxis": {
            "gridcolor": "white",
            "linecolor": "white",
            "ticks": ""
           },
           "bgcolor": "#E5ECF6",
           "caxis": {
            "gridcolor": "white",
            "linecolor": "white",
            "ticks": ""
           }
          },
          "title": {
           "x": 0.05
          },
          "xaxis": {
           "automargin": true,
           "gridcolor": "white",
           "linecolor": "white",
           "ticks": "",
           "title": {
            "standoff": 15
           },
           "zerolinecolor": "white",
           "zerolinewidth": 2
          },
          "yaxis": {
           "automargin": true,
           "gridcolor": "white",
           "linecolor": "white",
           "ticks": "",
           "title": {
            "standoff": 15
           },
           "zerolinecolor": "white",
           "zerolinewidth": 2
          }
         }
        },
        "title": {
         "font": {
          "color": "#4D5663"
         }
        },
        "xaxis": {
         "gridcolor": "#E1E5ED",
         "showgrid": true,
         "tickfont": {
          "color": "#4D5663"
         },
         "title": {
          "font": {
           "color": "#4D5663"
          },
          "text": ""
         },
         "zerolinecolor": "#E1E5ED"
        },
        "yaxis": {
         "gridcolor": "#E1E5ED",
         "showgrid": true,
         "tickfont": {
          "color": "#4D5663"
         },
         "title": {
          "font": {
           "color": "#4D5663"
          },
          "text": ""
         },
         "zerolinecolor": "#E1E5ED"
        }
       }
      },
      "text/html": [
       "<div>\n",
       "        \n",
       "        \n",
       "            <div id=\"73ec4a14-da2f-4b72-910c-897e9ce45c36\" class=\"plotly-graph-div\" style=\"height:525px; width:100%;\"></div>\n",
       "            <script type=\"text/javascript\">\n",
       "                require([\"plotly\"], function(Plotly) {\n",
       "                    window.PLOTLYENV=window.PLOTLYENV || {};\n",
       "                    window.PLOTLYENV.BASE_URL='https://plot.ly';\n",
       "                    \n",
       "                if (document.getElementById(\"73ec4a14-da2f-4b72-910c-897e9ce45c36\")) {\n",
       "                    Plotly.newPlot(\n",
       "                        '73ec4a14-da2f-4b72-910c-897e9ce45c36',\n",
       "                        [{\"line\": {\"color\": \"rgba(255, 153, 51, 1.0)\", \"dash\": \"solid\", \"shape\": \"linear\", \"width\": 1.3}, \"mode\": \"lines\", \"name\": \"A\", \"text\": \"\", \"type\": \"scatter\", \"x\": [0, 1, 2, 3, 4, 5, 6, 7, 8, 9, 10, 11, 12, 13, 14, 15, 16, 17, 18, 19, 20, 21, 22, 23, 24, 25, 26, 27, 28, 29, 30, 31, 32, 33, 34, 35, 36, 37, 38, 39, 40, 41, 42, 43, 44, 45, 46, 47, 48, 49, 50, 51, 52, 53, 54, 55, 56, 57, 58, 59, 60, 61, 62, 63, 64, 65, 66, 67, 68, 69, 70, 71, 72, 73, 74, 75, 76, 77, 78, 79, 80, 81, 82, 83, 84, 85, 86, 87, 88, 89, 90, 91, 92, 93, 94, 95, 96, 97, 98, 99], \"y\": [-0.171640601897393, -0.43651310026760143, 0.1915612390123302, -1.056703312019151, 0.4223324960551365, 1.2877468203367912, -0.5709727518406853, 2.1648676554773516, -1.2710537136872033, 0.16778935785866875, 1.0923398653718392, 0.4925306791099881, -0.703668513206629, -1.4524459966421268, -1.2744387261513341, 0.48551604613423355, -0.08955322711220023, -0.29027573121328615, 0.7745650160804478, -1.1099619262798022, -1.9683383872344231, -0.29436352576008007, -0.6114534149828592, -0.6016002569315776, 0.6621081449698877, 0.21266807621964742, -0.14196204190623365, 0.8455808080508328, 2.218513523093423, 1.225509030816993, -0.05744835346384874, -0.11673789320091013, -0.30301635565632434, -0.6627327489766144, -0.294755132084432, -0.133052082126597, -0.7027262561520775, 0.21363941721995688, 0.7533029620632767, 0.9161599146948339, -0.38695616486884626, 0.19596958959686875, 2.1597457209110167, 1.6330219307099394, -0.053064503558190354, 0.6603445747130693, 0.3207945904648976, -1.1050354243244225, 1.5637954578971218, 1.2541918745480611, -2.095064611555383, -0.7845842103111716, -0.19468049802855614, -0.4014548287149151, 0.3407950800545804, 0.03272595875779687, -1.3056241417427392, 0.7438543233795972, -1.3227506872869208, 1.0784707979095176, -0.815334722857213, -0.5373819359409527, -1.0606203281249487, 0.441700587416723, -0.32878279305935415, -0.46581137917888865, -1.0904053135674916, -1.26924927808231, 0.31270617806826667, 0.6970749712875615, 0.3153736148451356, -0.45080146910650637, -0.2720063615339261, 1.4044677356602207, -0.019348041080346393, 1.1049428128294767, -2.377128291270848, -1.5073793637973727, -0.926666748211941, 1.8579700229276017, -1.2116095443091348, 0.8236413783722552, -0.32430248425442165, 2.0906677707983916, -0.7044681959680065, -0.1546026406012769, -0.9385406062305209, -0.8692498584291668, -2.3768058600922677, -2.4065090278566914, 1.7172860060023276, 0.16700914108697476, -1.0892987171083033, 1.1821925982620303, 0.3761064908178598, -0.6081613870137292, 0.5683748477954369, -0.2666353852917895, 0.9020386387275965, 0.22303842334880358]}, {\"line\": {\"color\": \"rgba(55, 128, 191, 1.0)\", \"dash\": \"solid\", \"shape\": \"linear\", \"width\": 1.3}, \"mode\": \"lines\", \"name\": \"B\", \"text\": \"\", \"type\": \"scatter\", \"x\": [0, 1, 2, 3, 4, 5, 6, 7, 8, 9, 10, 11, 12, 13, 14, 15, 16, 17, 18, 19, 20, 21, 22, 23, 24, 25, 26, 27, 28, 29, 30, 31, 32, 33, 34, 35, 36, 37, 38, 39, 40, 41, 42, 43, 44, 45, 46, 47, 48, 49, 50, 51, 52, 53, 54, 55, 56, 57, 58, 59, 60, 61, 62, 63, 64, 65, 66, 67, 68, 69, 70, 71, 72, 73, 74, 75, 76, 77, 78, 79, 80, 81, 82, 83, 84, 85, 86, 87, 88, 89, 90, 91, 92, 93, 94, 95, 96, 97, 98, 99], \"y\": [0.5484513444208927, -2.3254372400024663, -0.17768498503930882, -0.0413575571659648, 1.0377678595702458, -0.7116014651027107, 0.26857162154881, 1.5290566395723573, -0.2567586755527022, -0.357121113255171, 0.8094544672338446, -0.18796083964617127, -0.027477640202128045, -0.11870292311303313, -2.269461527526842, 1.5955328577357266, -0.8644545357821648, -1.8642968220350373, 0.09017916692978532, -1.344766726938334, 1.1745824220442214, -0.8414367236253527, -0.7884004277579315, -0.1489331864549383, 0.7728688387695918, -2.1409153230074534, 0.34821592049908134, -0.27498245733340865, 0.6490421722801153, -0.3095015003082018, 1.3755435096077888, 0.5295635663635087, 0.3035655123758679, -0.15702303716074245, 1.1704292564472734, -1.52193050513255, -0.17304696512117046, 0.500742618651033, -2.411263379463824, -0.2764586244288876, -0.9354022868432563, 1.6180987037807752, -0.5850556670966817, 0.8064515288677078, -0.1925316499670654, 2.1249498691984603, 0.28824678756934996, 1.0808924511417874, -1.0991069038596877, 2.8523270968784757, -0.1462276160136622, -0.7269456317989939, 1.009683169084365, -0.9128087165867703, 2.739386314769789, -1.3757622114686658, 1.4407905278507112, -2.1437891180414965, -0.8685438816408083, -1.0684204255937035, -1.3909622043143515, -1.708519617763413, -1.033225258404668, -0.9273179566800895, 0.9622755612144613, 0.4036958283171158, -2.066620915349806, -0.5313498777603, -0.37213553235231156, 0.5566243901674788, 0.46809411497026965, 0.03231282758546965, 1.5950315245268063, -0.8677057971639819, 0.5934132541166431, 0.6665791844271618, -1.070293341617307, 0.23247746328414118, 0.1636105945212715, 1.3847638680189123, -0.7468787389615569, -0.6336863846695935, -0.15418321052239078, -0.022964779182480508, 0.13067056650667006, -0.8346647281545524, -0.08276756281076375, -0.23593108329391443, 1.4223691939157483, -1.475177034806321, -0.5631133271333681, -0.9498587583942311, -1.1180928581281955, -1.9290450825993415, 0.22878195896987918, -1.16846732408735, -1.201800804545687, 0.6324538976960572, -0.1723277128840355, 0.2296303534317323]}, {\"line\": {\"color\": \"rgba(50, 171, 96, 1.0)\", \"dash\": \"solid\", \"shape\": \"linear\", \"width\": 1.3}, \"mode\": \"lines\", \"name\": \"C\", \"text\": \"\", \"type\": \"scatter\", \"x\": [0, 1, 2, 3, 4, 5, 6, 7, 8, 9, 10, 11, 12, 13, 14, 15, 16, 17, 18, 19, 20, 21, 22, 23, 24, 25, 26, 27, 28, 29, 30, 31, 32, 33, 34, 35, 36, 37, 38, 39, 40, 41, 42, 43, 44, 45, 46, 47, 48, 49, 50, 51, 52, 53, 54, 55, 56, 57, 58, 59, 60, 61, 62, 63, 64, 65, 66, 67, 68, 69, 70, 71, 72, 73, 74, 75, 76, 77, 78, 79, 80, 81, 82, 83, 84, 85, 86, 87, 88, 89, 90, 91, 92, 93, 94, 95, 96, 97, 98, 99], \"y\": [-0.5983437620713272, -2.6604175619961046, -0.6893577279175397, -0.5229880431507179, -1.1142570311277662, 0.4144329010324235, 1.0709199857046865, 0.24185000081928387, 0.8679028870583181, 0.8552503604199, -0.6897875923656063, -0.6170711861715913, -0.574019045561744, -0.42602932488795464, -0.06540747052858152, 1.01225862618407, 0.5725334774448296, -0.47718574956385784, 0.29591534234625394, 1.0713609097573518, 1.7850760760870759, 0.6615370182444141, -0.09975617128227394, 0.6265897988876452, -0.434442435536369, 0.9189381575943047, 1.1426297546254645, 0.05469376367844408, 0.7664286517069745, 1.4460545893069578, -1.2564294325418002, 0.4220576687942533, 0.6289966738488311, -0.2788764402500565, 0.5015049964356932, 1.514458160544959, 0.2782476011345647, 0.269754598159741, 1.3519102352351455, -0.12193137836822808, -2.178769420790974, 0.8539668969339135, 1.3839608405729358, 0.46683197255988956, 1.8590406800885484, 0.3395093676304781, 0.40311363481143375, -1.0741084327550467, -0.6594594819662645, -0.1065325263332107, 1.0030409948514505, -2.2465625425281024, 0.5250755374331697, 0.5874277050905309, 0.06617762829699439, -0.44520947266094435, 1.5031363729296439, 0.2683309891489996, 0.8941013914258936, 1.1900921079684381, -1.592338528514025, 0.7848888225422255, 1.8842823892513476, -0.2825083302404101, -0.33813550666448006, -0.25537087832581873, -0.7211597678307854, -1.734912570192576, 0.9561537011128859, 0.16208957636882837, -1.2000533555518906, 0.4408341380584331, -1.449277089723586, 0.034329587009165954, -0.04604054983925971, 0.8974630060064327, 0.16304891450080738, 1.9638360203986867, -1.5776099100630412, 0.7609264198270365, 0.969561171471672, -1.0991506011551149, -1.465825439340637, -1.314898729207641, -0.8380424127033789, 0.4373953826702947, 0.45037384631284544, -0.8904920643002715, -0.5810637913845554, 0.3925376368775025, 0.2579651317698921, -1.0810556062247758, -0.31741955255737236, 1.618570911321861, 1.0238726864773395, -0.13573365567790135, -0.8632715661196068, 0.6288163109271624, -0.2819767637068381, 2.2988019665203265]}, {\"line\": {\"color\": \"rgba(128, 0, 128, 1.0)\", \"dash\": \"solid\", \"shape\": \"linear\", \"width\": 1.3}, \"mode\": \"lines\", \"name\": \"D\", \"text\": \"\", \"type\": \"scatter\", \"x\": [0, 1, 2, 3, 4, 5, 6, 7, 8, 9, 10, 11, 12, 13, 14, 15, 16, 17, 18, 19, 20, 21, 22, 23, 24, 25, 26, 27, 28, 29, 30, 31, 32, 33, 34, 35, 36, 37, 38, 39, 40, 41, 42, 43, 44, 45, 46, 47, 48, 49, 50, 51, 52, 53, 54, 55, 56, 57, 58, 59, 60, 61, 62, 63, 64, 65, 66, 67, 68, 69, 70, 71, 72, 73, 74, 75, 76, 77, 78, 79, 80, 81, 82, 83, 84, 85, 86, 87, 88, 89, 90, 91, 92, 93, 94, 95, 96, 97, 98, 99], \"y\": [0.8338514606350064, -0.10584992645229413, -0.2706609825615641, 0.5996801983644825, 0.40359100466599535, 2.641790207427108, 0.13224103676807694, 0.35313713991942014, 1.144896307631846, 1.9946928047934107, -0.9171338011956501, -0.4791782716060962, -0.6726579700852056, 1.831020641813482, -0.1523547432486442, 0.3354427663278796, -2.441582962241704, 1.9715015842875654, 0.5494742773319939, 0.6145317653973147, -1.1806025799960154, 0.5155567640803262, -1.3242560220644943, 0.041700160836206965, 0.9468186268366223, -0.5619512409700159, -0.7413321342009079, 0.820528530608833, -0.6458138002254487, 0.050524454707551014, 0.862396604461523, 2.253816471768166, 0.4648313687438735, -0.16136990451619151, 2.1987705070284673, -0.5727987959263574, -1.7115241145055666, 2.073776369230856, 0.625241141366843, 1.5292209070329297, -0.5107014925784714, -0.31939413263433497, 0.646758037652685, -0.2779513216230143, -0.19124944161845978, 0.9571695847179208, -1.1048580560914822, -0.8984915407298146, 1.3273431506933735, -1.333150838500644, -0.1985793201190395, 2.019330939054003, 1.2948297395951902, -0.3749962350083088, 0.7563352984444898, 0.1117176438204793, 0.5872748114399307, -0.429718197605014, 1.1580569489872719, -0.7458610043235129, 0.8355882588036868, 0.42485291323705143, 0.4424168054773275, 0.14127394287620942, -0.6154617117321134, -0.5110598682054509, 0.13496982598516002, 1.0245401663215845, -2.0311036813716705, -1.0250819271742715, -1.8636033313844171, 0.8574905588910688, 0.049503038730056084, -0.4104207782106683, -0.13764615619265963, 0.2844344254242617, -0.7411574434948729, -0.9502016965746825, 0.8689197050008775, -1.9318681506349502, 0.471433643085626, 0.585171420032461, 0.6404961794771034, -0.22741488276623759, -1.0205085255341666, 0.05233227104990713, 0.49628856355218215, -0.8950524060645041, 1.8180841461402975, -0.817214388120829, 1.1765542892213678, 0.6038964891497567, -0.29640169240258973, 1.7917165418241447, -0.9923304082753172, 1.4156913840918108, -0.37184430284858083, 0.3670786989417944, -1.0405526567533496, 0.9209916696959721]}],\n",
       "                        {\"legend\": {\"bgcolor\": \"#F5F6F9\", \"font\": {\"color\": \"#4D5663\"}}, \"paper_bgcolor\": \"#F5F6F9\", \"plot_bgcolor\": \"#F5F6F9\", \"template\": {\"data\": {\"bar\": [{\"error_x\": {\"color\": \"#2a3f5f\"}, \"error_y\": {\"color\": \"#2a3f5f\"}, \"marker\": {\"line\": {\"color\": \"#E5ECF6\", \"width\": 0.5}}, \"type\": \"bar\"}], \"barpolar\": [{\"marker\": {\"line\": {\"color\": \"#E5ECF6\", \"width\": 0.5}}, \"type\": \"barpolar\"}], \"carpet\": [{\"aaxis\": {\"endlinecolor\": \"#2a3f5f\", \"gridcolor\": \"white\", \"linecolor\": \"white\", \"minorgridcolor\": \"white\", \"startlinecolor\": \"#2a3f5f\"}, \"baxis\": {\"endlinecolor\": \"#2a3f5f\", \"gridcolor\": \"white\", \"linecolor\": \"white\", \"minorgridcolor\": \"white\", \"startlinecolor\": \"#2a3f5f\"}, \"type\": \"carpet\"}], \"choropleth\": [{\"colorbar\": {\"outlinewidth\": 0, \"ticks\": \"\"}, \"type\": \"choropleth\"}], \"contour\": [{\"colorbar\": {\"outlinewidth\": 0, \"ticks\": \"\"}, \"colorscale\": [[0.0, \"#0d0887\"], [0.1111111111111111, \"#46039f\"], [0.2222222222222222, \"#7201a8\"], [0.3333333333333333, \"#9c179e\"], [0.4444444444444444, \"#bd3786\"], [0.5555555555555556, \"#d8576b\"], [0.6666666666666666, \"#ed7953\"], [0.7777777777777778, \"#fb9f3a\"], [0.8888888888888888, \"#fdca26\"], [1.0, \"#f0f921\"]], \"type\": \"contour\"}], \"contourcarpet\": [{\"colorbar\": {\"outlinewidth\": 0, \"ticks\": \"\"}, \"type\": \"contourcarpet\"}], \"heatmap\": [{\"colorbar\": {\"outlinewidth\": 0, \"ticks\": \"\"}, \"colorscale\": [[0.0, \"#0d0887\"], [0.1111111111111111, \"#46039f\"], [0.2222222222222222, \"#7201a8\"], [0.3333333333333333, \"#9c179e\"], [0.4444444444444444, \"#bd3786\"], [0.5555555555555556, \"#d8576b\"], [0.6666666666666666, \"#ed7953\"], [0.7777777777777778, \"#fb9f3a\"], [0.8888888888888888, \"#fdca26\"], [1.0, \"#f0f921\"]], \"type\": \"heatmap\"}], \"heatmapgl\": [{\"colorbar\": {\"outlinewidth\": 0, \"ticks\": \"\"}, \"colorscale\": [[0.0, \"#0d0887\"], [0.1111111111111111, \"#46039f\"], [0.2222222222222222, \"#7201a8\"], [0.3333333333333333, \"#9c179e\"], [0.4444444444444444, \"#bd3786\"], [0.5555555555555556, \"#d8576b\"], [0.6666666666666666, \"#ed7953\"], [0.7777777777777778, \"#fb9f3a\"], [0.8888888888888888, \"#fdca26\"], [1.0, \"#f0f921\"]], \"type\": \"heatmapgl\"}], \"histogram\": [{\"marker\": {\"colorbar\": {\"outlinewidth\": 0, \"ticks\": \"\"}}, \"type\": \"histogram\"}], \"histogram2d\": [{\"colorbar\": {\"outlinewidth\": 0, \"ticks\": \"\"}, \"colorscale\": [[0.0, \"#0d0887\"], [0.1111111111111111, \"#46039f\"], [0.2222222222222222, \"#7201a8\"], [0.3333333333333333, \"#9c179e\"], [0.4444444444444444, \"#bd3786\"], [0.5555555555555556, \"#d8576b\"], [0.6666666666666666, \"#ed7953\"], [0.7777777777777778, \"#fb9f3a\"], [0.8888888888888888, \"#fdca26\"], [1.0, \"#f0f921\"]], \"type\": \"histogram2d\"}], \"histogram2dcontour\": [{\"colorbar\": {\"outlinewidth\": 0, \"ticks\": \"\"}, \"colorscale\": [[0.0, \"#0d0887\"], [0.1111111111111111, \"#46039f\"], [0.2222222222222222, \"#7201a8\"], [0.3333333333333333, \"#9c179e\"], [0.4444444444444444, \"#bd3786\"], [0.5555555555555556, \"#d8576b\"], [0.6666666666666666, \"#ed7953\"], [0.7777777777777778, \"#fb9f3a\"], [0.8888888888888888, \"#fdca26\"], [1.0, \"#f0f921\"]], \"type\": \"histogram2dcontour\"}], \"mesh3d\": [{\"colorbar\": {\"outlinewidth\": 0, \"ticks\": \"\"}, \"type\": \"mesh3d\"}], \"parcoords\": [{\"line\": {\"colorbar\": {\"outlinewidth\": 0, \"ticks\": \"\"}}, \"type\": \"parcoords\"}], \"pie\": [{\"automargin\": true, \"type\": \"pie\"}], \"scatter\": [{\"marker\": {\"colorbar\": {\"outlinewidth\": 0, \"ticks\": \"\"}}, \"type\": \"scatter\"}], \"scatter3d\": [{\"line\": {\"colorbar\": {\"outlinewidth\": 0, \"ticks\": \"\"}}, \"marker\": {\"colorbar\": {\"outlinewidth\": 0, \"ticks\": \"\"}}, \"type\": \"scatter3d\"}], \"scattercarpet\": [{\"marker\": {\"colorbar\": {\"outlinewidth\": 0, \"ticks\": \"\"}}, \"type\": \"scattercarpet\"}], \"scattergeo\": [{\"marker\": {\"colorbar\": {\"outlinewidth\": 0, \"ticks\": \"\"}}, \"type\": \"scattergeo\"}], \"scattergl\": [{\"marker\": {\"colorbar\": {\"outlinewidth\": 0, \"ticks\": \"\"}}, \"type\": \"scattergl\"}], \"scattermapbox\": [{\"marker\": {\"colorbar\": {\"outlinewidth\": 0, \"ticks\": \"\"}}, \"type\": \"scattermapbox\"}], \"scatterpolar\": [{\"marker\": {\"colorbar\": {\"outlinewidth\": 0, \"ticks\": \"\"}}, \"type\": \"scatterpolar\"}], \"scatterpolargl\": [{\"marker\": {\"colorbar\": {\"outlinewidth\": 0, \"ticks\": \"\"}}, \"type\": \"scatterpolargl\"}], \"scatterternary\": [{\"marker\": {\"colorbar\": {\"outlinewidth\": 0, \"ticks\": \"\"}}, \"type\": \"scatterternary\"}], \"surface\": [{\"colorbar\": {\"outlinewidth\": 0, \"ticks\": \"\"}, \"colorscale\": [[0.0, \"#0d0887\"], [0.1111111111111111, \"#46039f\"], [0.2222222222222222, \"#7201a8\"], [0.3333333333333333, \"#9c179e\"], [0.4444444444444444, \"#bd3786\"], [0.5555555555555556, \"#d8576b\"], [0.6666666666666666, \"#ed7953\"], [0.7777777777777778, \"#fb9f3a\"], [0.8888888888888888, \"#fdca26\"], [1.0, \"#f0f921\"]], \"type\": \"surface\"}], \"table\": [{\"cells\": {\"fill\": {\"color\": \"#EBF0F8\"}, \"line\": {\"color\": \"white\"}}, \"header\": {\"fill\": {\"color\": \"#C8D4E3\"}, \"line\": {\"color\": \"white\"}}, \"type\": \"table\"}]}, \"layout\": {\"annotationdefaults\": {\"arrowcolor\": \"#2a3f5f\", \"arrowhead\": 0, \"arrowwidth\": 1}, \"coloraxis\": {\"colorbar\": {\"outlinewidth\": 0, \"ticks\": \"\"}}, \"colorscale\": {\"diverging\": [[0, \"#8e0152\"], [0.1, \"#c51b7d\"], [0.2, \"#de77ae\"], [0.3, \"#f1b6da\"], [0.4, \"#fde0ef\"], [0.5, \"#f7f7f7\"], [0.6, \"#e6f5d0\"], [0.7, \"#b8e186\"], [0.8, \"#7fbc41\"], [0.9, \"#4d9221\"], [1, \"#276419\"]], \"sequential\": [[0.0, \"#0d0887\"], [0.1111111111111111, \"#46039f\"], [0.2222222222222222, \"#7201a8\"], [0.3333333333333333, \"#9c179e\"], [0.4444444444444444, \"#bd3786\"], [0.5555555555555556, \"#d8576b\"], [0.6666666666666666, \"#ed7953\"], [0.7777777777777778, \"#fb9f3a\"], [0.8888888888888888, \"#fdca26\"], [1.0, \"#f0f921\"]], \"sequentialminus\": [[0.0, \"#0d0887\"], [0.1111111111111111, \"#46039f\"], [0.2222222222222222, \"#7201a8\"], [0.3333333333333333, \"#9c179e\"], [0.4444444444444444, \"#bd3786\"], [0.5555555555555556, \"#d8576b\"], [0.6666666666666666, \"#ed7953\"], [0.7777777777777778, \"#fb9f3a\"], [0.8888888888888888, \"#fdca26\"], [1.0, \"#f0f921\"]]}, \"colorway\": [\"#636efa\", \"#EF553B\", \"#00cc96\", \"#ab63fa\", \"#FFA15A\", \"#19d3f3\", \"#FF6692\", \"#B6E880\", \"#FF97FF\", \"#FECB52\"], \"font\": {\"color\": \"#2a3f5f\"}, \"geo\": {\"bgcolor\": \"white\", \"lakecolor\": \"white\", \"landcolor\": \"#E5ECF6\", \"showlakes\": true, \"showland\": true, \"subunitcolor\": \"white\"}, \"hoverlabel\": {\"align\": \"left\"}, \"hovermode\": \"closest\", \"mapbox\": {\"style\": \"light\"}, \"paper_bgcolor\": \"white\", \"plot_bgcolor\": \"#E5ECF6\", \"polar\": {\"angularaxis\": {\"gridcolor\": \"white\", \"linecolor\": \"white\", \"ticks\": \"\"}, \"bgcolor\": \"#E5ECF6\", \"radialaxis\": {\"gridcolor\": \"white\", \"linecolor\": \"white\", \"ticks\": \"\"}}, \"scene\": {\"xaxis\": {\"backgroundcolor\": \"#E5ECF6\", \"gridcolor\": \"white\", \"gridwidth\": 2, \"linecolor\": \"white\", \"showbackground\": true, \"ticks\": \"\", \"zerolinecolor\": \"white\"}, \"yaxis\": {\"backgroundcolor\": \"#E5ECF6\", \"gridcolor\": \"white\", \"gridwidth\": 2, \"linecolor\": \"white\", \"showbackground\": true, \"ticks\": \"\", \"zerolinecolor\": \"white\"}, \"zaxis\": {\"backgroundcolor\": \"#E5ECF6\", \"gridcolor\": \"white\", \"gridwidth\": 2, \"linecolor\": \"white\", \"showbackground\": true, \"ticks\": \"\", \"zerolinecolor\": \"white\"}}, \"shapedefaults\": {\"line\": {\"color\": \"#2a3f5f\"}}, \"ternary\": {\"aaxis\": {\"gridcolor\": \"white\", \"linecolor\": \"white\", \"ticks\": \"\"}, \"baxis\": {\"gridcolor\": \"white\", \"linecolor\": \"white\", \"ticks\": \"\"}, \"bgcolor\": \"#E5ECF6\", \"caxis\": {\"gridcolor\": \"white\", \"linecolor\": \"white\", \"ticks\": \"\"}}, \"title\": {\"x\": 0.05}, \"xaxis\": {\"automargin\": true, \"gridcolor\": \"white\", \"linecolor\": \"white\", \"ticks\": \"\", \"title\": {\"standoff\": 15}, \"zerolinecolor\": \"white\", \"zerolinewidth\": 2}, \"yaxis\": {\"automargin\": true, \"gridcolor\": \"white\", \"linecolor\": \"white\", \"ticks\": \"\", \"title\": {\"standoff\": 15}, \"zerolinecolor\": \"white\", \"zerolinewidth\": 2}}}, \"title\": {\"font\": {\"color\": \"#4D5663\"}}, \"xaxis\": {\"gridcolor\": \"#E1E5ED\", \"showgrid\": true, \"tickfont\": {\"color\": \"#4D5663\"}, \"title\": {\"font\": {\"color\": \"#4D5663\"}, \"text\": \"\"}, \"zerolinecolor\": \"#E1E5ED\"}, \"yaxis\": {\"gridcolor\": \"#E1E5ED\", \"showgrid\": true, \"tickfont\": {\"color\": \"#4D5663\"}, \"title\": {\"font\": {\"color\": \"#4D5663\"}, \"text\": \"\"}, \"zerolinecolor\": \"#E1E5ED\"}},\n",
       "                        {\"showLink\": true, \"linkText\": \"Export to plot.ly\", \"plotlyServerURL\": \"https://plot.ly\", \"responsive\": true}\n",
       "                    ).then(function(){\n",
       "                            \n",
       "var gd = document.getElementById('73ec4a14-da2f-4b72-910c-897e9ce45c36');\n",
       "var x = new MutationObserver(function (mutations, observer) {{\n",
       "        var display = window.getComputedStyle(gd).display;\n",
       "        if (!display || display === 'none') {{\n",
       "            console.log([gd, 'removed!']);\n",
       "            Plotly.purge(gd);\n",
       "            observer.disconnect();\n",
       "        }}\n",
       "}});\n",
       "\n",
       "// Listen for the removal of the full notebook cells\n",
       "var notebookContainer = gd.closest('#notebook-container');\n",
       "if (notebookContainer) {{\n",
       "    x.observe(notebookContainer, {childList: true});\n",
       "}}\n",
       "\n",
       "// Listen for the clearing of the current output cell\n",
       "var outputEl = gd.closest('.output');\n",
       "if (outputEl) {{\n",
       "    x.observe(outputEl, {childList: true});\n",
       "}}\n",
       "\n",
       "                        })\n",
       "                };\n",
       "                });\n",
       "            </script>\n",
       "        </div>"
      ]
     },
     "metadata": {},
     "output_type": "display_data"
    }
   ],
   "source": [
    "#Using Plotly gragh plotted is interactive\n",
    "df.iplot()"
   ]
  },
  {
   "cell_type": "code",
   "execution_count": 19,
   "metadata": {},
   "outputs": [
    {
     "data": {
      "application/vnd.plotly.v1+json": {
       "config": {
        "linkText": "Export to plot.ly",
        "plotlyServerURL": "https://plot.ly",
        "showLink": true
       },
       "data": [
        {
         "line": {
          "color": "rgba(255, 153, 51, 1.0)",
          "dash": "solid",
          "shape": "linear",
          "width": 1.3
         },
         "mode": "lines",
         "name": "B",
         "text": "",
         "type": "scatter",
         "x": [
          -0.171640601897393,
          -0.43651310026760143,
          0.1915612390123302,
          -1.056703312019151,
          0.4223324960551365,
          1.2877468203367912,
          -0.5709727518406853,
          2.1648676554773516,
          -1.2710537136872033,
          0.16778935785866875,
          1.0923398653718392,
          0.4925306791099881,
          -0.703668513206629,
          -1.4524459966421268,
          -1.2744387261513341,
          0.48551604613423355,
          -0.08955322711220023,
          -0.29027573121328615,
          0.7745650160804478,
          -1.1099619262798022,
          -1.9683383872344231,
          -0.29436352576008007,
          -0.6114534149828592,
          -0.6016002569315776,
          0.6621081449698877,
          0.21266807621964742,
          -0.14196204190623365,
          0.8455808080508328,
          2.218513523093423,
          1.225509030816993,
          -0.05744835346384874,
          -0.11673789320091013,
          -0.30301635565632434,
          -0.6627327489766144,
          -0.294755132084432,
          -0.133052082126597,
          -0.7027262561520775,
          0.21363941721995688,
          0.7533029620632767,
          0.9161599146948339,
          -0.38695616486884626,
          0.19596958959686875,
          2.1597457209110167,
          1.6330219307099394,
          -0.053064503558190354,
          0.6603445747130693,
          0.3207945904648976,
          -1.1050354243244225,
          1.5637954578971218,
          1.2541918745480611,
          -2.095064611555383,
          -0.7845842103111716,
          -0.19468049802855614,
          -0.4014548287149151,
          0.3407950800545804,
          0.03272595875779687,
          -1.3056241417427392,
          0.7438543233795972,
          -1.3227506872869208,
          1.0784707979095176,
          -0.815334722857213,
          -0.5373819359409527,
          -1.0606203281249487,
          0.441700587416723,
          -0.32878279305935415,
          -0.46581137917888865,
          -1.0904053135674916,
          -1.26924927808231,
          0.31270617806826667,
          0.6970749712875615,
          0.3153736148451356,
          -0.45080146910650637,
          -0.2720063615339261,
          1.4044677356602207,
          -0.019348041080346393,
          1.1049428128294767,
          -2.377128291270848,
          -1.5073793637973727,
          -0.926666748211941,
          1.8579700229276017,
          -1.2116095443091348,
          0.8236413783722552,
          -0.32430248425442165,
          2.0906677707983916,
          -0.7044681959680065,
          -0.1546026406012769,
          -0.9385406062305209,
          -0.8692498584291668,
          -2.3768058600922677,
          -2.4065090278566914,
          1.7172860060023276,
          0.16700914108697476,
          -1.0892987171083033,
          1.1821925982620303,
          0.3761064908178598,
          -0.6081613870137292,
          0.5683748477954369,
          -0.2666353852917895,
          0.9020386387275965,
          0.22303842334880358
         ],
         "y": [
          0.5484513444208927,
          -2.3254372400024663,
          -0.17768498503930882,
          -0.0413575571659648,
          1.0377678595702458,
          -0.7116014651027107,
          0.26857162154881,
          1.5290566395723573,
          -0.2567586755527022,
          -0.357121113255171,
          0.8094544672338446,
          -0.18796083964617127,
          -0.027477640202128045,
          -0.11870292311303313,
          -2.269461527526842,
          1.5955328577357266,
          -0.8644545357821648,
          -1.8642968220350373,
          0.09017916692978532,
          -1.344766726938334,
          1.1745824220442214,
          -0.8414367236253527,
          -0.7884004277579315,
          -0.1489331864549383,
          0.7728688387695918,
          -2.1409153230074534,
          0.34821592049908134,
          -0.27498245733340865,
          0.6490421722801153,
          -0.3095015003082018,
          1.3755435096077888,
          0.5295635663635087,
          0.3035655123758679,
          -0.15702303716074245,
          1.1704292564472734,
          -1.52193050513255,
          -0.17304696512117046,
          0.500742618651033,
          -2.411263379463824,
          -0.2764586244288876,
          -0.9354022868432563,
          1.6180987037807752,
          -0.5850556670966817,
          0.8064515288677078,
          -0.1925316499670654,
          2.1249498691984603,
          0.28824678756934996,
          1.0808924511417874,
          -1.0991069038596877,
          2.8523270968784757,
          -0.1462276160136622,
          -0.7269456317989939,
          1.009683169084365,
          -0.9128087165867703,
          2.739386314769789,
          -1.3757622114686658,
          1.4407905278507112,
          -2.1437891180414965,
          -0.8685438816408083,
          -1.0684204255937035,
          -1.3909622043143515,
          -1.708519617763413,
          -1.033225258404668,
          -0.9273179566800895,
          0.9622755612144613,
          0.4036958283171158,
          -2.066620915349806,
          -0.5313498777603,
          -0.37213553235231156,
          0.5566243901674788,
          0.46809411497026965,
          0.03231282758546965,
          1.5950315245268063,
          -0.8677057971639819,
          0.5934132541166431,
          0.6665791844271618,
          -1.070293341617307,
          0.23247746328414118,
          0.1636105945212715,
          1.3847638680189123,
          -0.7468787389615569,
          -0.6336863846695935,
          -0.15418321052239078,
          -0.022964779182480508,
          0.13067056650667006,
          -0.8346647281545524,
          -0.08276756281076375,
          -0.23593108329391443,
          1.4223691939157483,
          -1.475177034806321,
          -0.5631133271333681,
          -0.9498587583942311,
          -1.1180928581281955,
          -1.9290450825993415,
          0.22878195896987918,
          -1.16846732408735,
          -1.201800804545687,
          0.6324538976960572,
          -0.1723277128840355,
          0.2296303534317323
         ]
        }
       ],
       "layout": {
        "legend": {
         "bgcolor": "#F5F6F9",
         "font": {
          "color": "#4D5663"
         }
        },
        "paper_bgcolor": "#F5F6F9",
        "plot_bgcolor": "#F5F6F9",
        "template": {
         "data": {
          "bar": [
           {
            "error_x": {
             "color": "#2a3f5f"
            },
            "error_y": {
             "color": "#2a3f5f"
            },
            "marker": {
             "line": {
              "color": "#E5ECF6",
              "width": 0.5
             }
            },
            "type": "bar"
           }
          ],
          "barpolar": [
           {
            "marker": {
             "line": {
              "color": "#E5ECF6",
              "width": 0.5
             }
            },
            "type": "barpolar"
           }
          ],
          "carpet": [
           {
            "aaxis": {
             "endlinecolor": "#2a3f5f",
             "gridcolor": "white",
             "linecolor": "white",
             "minorgridcolor": "white",
             "startlinecolor": "#2a3f5f"
            },
            "baxis": {
             "endlinecolor": "#2a3f5f",
             "gridcolor": "white",
             "linecolor": "white",
             "minorgridcolor": "white",
             "startlinecolor": "#2a3f5f"
            },
            "type": "carpet"
           }
          ],
          "choropleth": [
           {
            "colorbar": {
             "outlinewidth": 0,
             "ticks": ""
            },
            "type": "choropleth"
           }
          ],
          "contour": [
           {
            "colorbar": {
             "outlinewidth": 0,
             "ticks": ""
            },
            "colorscale": [
             [
              0,
              "#0d0887"
             ],
             [
              0.1111111111111111,
              "#46039f"
             ],
             [
              0.2222222222222222,
              "#7201a8"
             ],
             [
              0.3333333333333333,
              "#9c179e"
             ],
             [
              0.4444444444444444,
              "#bd3786"
             ],
             [
              0.5555555555555556,
              "#d8576b"
             ],
             [
              0.6666666666666666,
              "#ed7953"
             ],
             [
              0.7777777777777778,
              "#fb9f3a"
             ],
             [
              0.8888888888888888,
              "#fdca26"
             ],
             [
              1,
              "#f0f921"
             ]
            ],
            "type": "contour"
           }
          ],
          "contourcarpet": [
           {
            "colorbar": {
             "outlinewidth": 0,
             "ticks": ""
            },
            "type": "contourcarpet"
           }
          ],
          "heatmap": [
           {
            "colorbar": {
             "outlinewidth": 0,
             "ticks": ""
            },
            "colorscale": [
             [
              0,
              "#0d0887"
             ],
             [
              0.1111111111111111,
              "#46039f"
             ],
             [
              0.2222222222222222,
              "#7201a8"
             ],
             [
              0.3333333333333333,
              "#9c179e"
             ],
             [
              0.4444444444444444,
              "#bd3786"
             ],
             [
              0.5555555555555556,
              "#d8576b"
             ],
             [
              0.6666666666666666,
              "#ed7953"
             ],
             [
              0.7777777777777778,
              "#fb9f3a"
             ],
             [
              0.8888888888888888,
              "#fdca26"
             ],
             [
              1,
              "#f0f921"
             ]
            ],
            "type": "heatmap"
           }
          ],
          "heatmapgl": [
           {
            "colorbar": {
             "outlinewidth": 0,
             "ticks": ""
            },
            "colorscale": [
             [
              0,
              "#0d0887"
             ],
             [
              0.1111111111111111,
              "#46039f"
             ],
             [
              0.2222222222222222,
              "#7201a8"
             ],
             [
              0.3333333333333333,
              "#9c179e"
             ],
             [
              0.4444444444444444,
              "#bd3786"
             ],
             [
              0.5555555555555556,
              "#d8576b"
             ],
             [
              0.6666666666666666,
              "#ed7953"
             ],
             [
              0.7777777777777778,
              "#fb9f3a"
             ],
             [
              0.8888888888888888,
              "#fdca26"
             ],
             [
              1,
              "#f0f921"
             ]
            ],
            "type": "heatmapgl"
           }
          ],
          "histogram": [
           {
            "marker": {
             "colorbar": {
              "outlinewidth": 0,
              "ticks": ""
             }
            },
            "type": "histogram"
           }
          ],
          "histogram2d": [
           {
            "colorbar": {
             "outlinewidth": 0,
             "ticks": ""
            },
            "colorscale": [
             [
              0,
              "#0d0887"
             ],
             [
              0.1111111111111111,
              "#46039f"
             ],
             [
              0.2222222222222222,
              "#7201a8"
             ],
             [
              0.3333333333333333,
              "#9c179e"
             ],
             [
              0.4444444444444444,
              "#bd3786"
             ],
             [
              0.5555555555555556,
              "#d8576b"
             ],
             [
              0.6666666666666666,
              "#ed7953"
             ],
             [
              0.7777777777777778,
              "#fb9f3a"
             ],
             [
              0.8888888888888888,
              "#fdca26"
             ],
             [
              1,
              "#f0f921"
             ]
            ],
            "type": "histogram2d"
           }
          ],
          "histogram2dcontour": [
           {
            "colorbar": {
             "outlinewidth": 0,
             "ticks": ""
            },
            "colorscale": [
             [
              0,
              "#0d0887"
             ],
             [
              0.1111111111111111,
              "#46039f"
             ],
             [
              0.2222222222222222,
              "#7201a8"
             ],
             [
              0.3333333333333333,
              "#9c179e"
             ],
             [
              0.4444444444444444,
              "#bd3786"
             ],
             [
              0.5555555555555556,
              "#d8576b"
             ],
             [
              0.6666666666666666,
              "#ed7953"
             ],
             [
              0.7777777777777778,
              "#fb9f3a"
             ],
             [
              0.8888888888888888,
              "#fdca26"
             ],
             [
              1,
              "#f0f921"
             ]
            ],
            "type": "histogram2dcontour"
           }
          ],
          "mesh3d": [
           {
            "colorbar": {
             "outlinewidth": 0,
             "ticks": ""
            },
            "type": "mesh3d"
           }
          ],
          "parcoords": [
           {
            "line": {
             "colorbar": {
              "outlinewidth": 0,
              "ticks": ""
             }
            },
            "type": "parcoords"
           }
          ],
          "pie": [
           {
            "automargin": true,
            "type": "pie"
           }
          ],
          "scatter": [
           {
            "marker": {
             "colorbar": {
              "outlinewidth": 0,
              "ticks": ""
             }
            },
            "type": "scatter"
           }
          ],
          "scatter3d": [
           {
            "line": {
             "colorbar": {
              "outlinewidth": 0,
              "ticks": ""
             }
            },
            "marker": {
             "colorbar": {
              "outlinewidth": 0,
              "ticks": ""
             }
            },
            "type": "scatter3d"
           }
          ],
          "scattercarpet": [
           {
            "marker": {
             "colorbar": {
              "outlinewidth": 0,
              "ticks": ""
             }
            },
            "type": "scattercarpet"
           }
          ],
          "scattergeo": [
           {
            "marker": {
             "colorbar": {
              "outlinewidth": 0,
              "ticks": ""
             }
            },
            "type": "scattergeo"
           }
          ],
          "scattergl": [
           {
            "marker": {
             "colorbar": {
              "outlinewidth": 0,
              "ticks": ""
             }
            },
            "type": "scattergl"
           }
          ],
          "scattermapbox": [
           {
            "marker": {
             "colorbar": {
              "outlinewidth": 0,
              "ticks": ""
             }
            },
            "type": "scattermapbox"
           }
          ],
          "scatterpolar": [
           {
            "marker": {
             "colorbar": {
              "outlinewidth": 0,
              "ticks": ""
             }
            },
            "type": "scatterpolar"
           }
          ],
          "scatterpolargl": [
           {
            "marker": {
             "colorbar": {
              "outlinewidth": 0,
              "ticks": ""
             }
            },
            "type": "scatterpolargl"
           }
          ],
          "scatterternary": [
           {
            "marker": {
             "colorbar": {
              "outlinewidth": 0,
              "ticks": ""
             }
            },
            "type": "scatterternary"
           }
          ],
          "surface": [
           {
            "colorbar": {
             "outlinewidth": 0,
             "ticks": ""
            },
            "colorscale": [
             [
              0,
              "#0d0887"
             ],
             [
              0.1111111111111111,
              "#46039f"
             ],
             [
              0.2222222222222222,
              "#7201a8"
             ],
             [
              0.3333333333333333,
              "#9c179e"
             ],
             [
              0.4444444444444444,
              "#bd3786"
             ],
             [
              0.5555555555555556,
              "#d8576b"
             ],
             [
              0.6666666666666666,
              "#ed7953"
             ],
             [
              0.7777777777777778,
              "#fb9f3a"
             ],
             [
              0.8888888888888888,
              "#fdca26"
             ],
             [
              1,
              "#f0f921"
             ]
            ],
            "type": "surface"
           }
          ],
          "table": [
           {
            "cells": {
             "fill": {
              "color": "#EBF0F8"
             },
             "line": {
              "color": "white"
             }
            },
            "header": {
             "fill": {
              "color": "#C8D4E3"
             },
             "line": {
              "color": "white"
             }
            },
            "type": "table"
           }
          ]
         },
         "layout": {
          "annotationdefaults": {
           "arrowcolor": "#2a3f5f",
           "arrowhead": 0,
           "arrowwidth": 1
          },
          "coloraxis": {
           "colorbar": {
            "outlinewidth": 0,
            "ticks": ""
           }
          },
          "colorscale": {
           "diverging": [
            [
             0,
             "#8e0152"
            ],
            [
             0.1,
             "#c51b7d"
            ],
            [
             0.2,
             "#de77ae"
            ],
            [
             0.3,
             "#f1b6da"
            ],
            [
             0.4,
             "#fde0ef"
            ],
            [
             0.5,
             "#f7f7f7"
            ],
            [
             0.6,
             "#e6f5d0"
            ],
            [
             0.7,
             "#b8e186"
            ],
            [
             0.8,
             "#7fbc41"
            ],
            [
             0.9,
             "#4d9221"
            ],
            [
             1,
             "#276419"
            ]
           ],
           "sequential": [
            [
             0,
             "#0d0887"
            ],
            [
             0.1111111111111111,
             "#46039f"
            ],
            [
             0.2222222222222222,
             "#7201a8"
            ],
            [
             0.3333333333333333,
             "#9c179e"
            ],
            [
             0.4444444444444444,
             "#bd3786"
            ],
            [
             0.5555555555555556,
             "#d8576b"
            ],
            [
             0.6666666666666666,
             "#ed7953"
            ],
            [
             0.7777777777777778,
             "#fb9f3a"
            ],
            [
             0.8888888888888888,
             "#fdca26"
            ],
            [
             1,
             "#f0f921"
            ]
           ],
           "sequentialminus": [
            [
             0,
             "#0d0887"
            ],
            [
             0.1111111111111111,
             "#46039f"
            ],
            [
             0.2222222222222222,
             "#7201a8"
            ],
            [
             0.3333333333333333,
             "#9c179e"
            ],
            [
             0.4444444444444444,
             "#bd3786"
            ],
            [
             0.5555555555555556,
             "#d8576b"
            ],
            [
             0.6666666666666666,
             "#ed7953"
            ],
            [
             0.7777777777777778,
             "#fb9f3a"
            ],
            [
             0.8888888888888888,
             "#fdca26"
            ],
            [
             1,
             "#f0f921"
            ]
           ]
          },
          "colorway": [
           "#636efa",
           "#EF553B",
           "#00cc96",
           "#ab63fa",
           "#FFA15A",
           "#19d3f3",
           "#FF6692",
           "#B6E880",
           "#FF97FF",
           "#FECB52"
          ],
          "font": {
           "color": "#2a3f5f"
          },
          "geo": {
           "bgcolor": "white",
           "lakecolor": "white",
           "landcolor": "#E5ECF6",
           "showlakes": true,
           "showland": true,
           "subunitcolor": "white"
          },
          "hoverlabel": {
           "align": "left"
          },
          "hovermode": "closest",
          "mapbox": {
           "style": "light"
          },
          "paper_bgcolor": "white",
          "plot_bgcolor": "#E5ECF6",
          "polar": {
           "angularaxis": {
            "gridcolor": "white",
            "linecolor": "white",
            "ticks": ""
           },
           "bgcolor": "#E5ECF6",
           "radialaxis": {
            "gridcolor": "white",
            "linecolor": "white",
            "ticks": ""
           }
          },
          "scene": {
           "xaxis": {
            "backgroundcolor": "#E5ECF6",
            "gridcolor": "white",
            "gridwidth": 2,
            "linecolor": "white",
            "showbackground": true,
            "ticks": "",
            "zerolinecolor": "white"
           },
           "yaxis": {
            "backgroundcolor": "#E5ECF6",
            "gridcolor": "white",
            "gridwidth": 2,
            "linecolor": "white",
            "showbackground": true,
            "ticks": "",
            "zerolinecolor": "white"
           },
           "zaxis": {
            "backgroundcolor": "#E5ECF6",
            "gridcolor": "white",
            "gridwidth": 2,
            "linecolor": "white",
            "showbackground": true,
            "ticks": "",
            "zerolinecolor": "white"
           }
          },
          "shapedefaults": {
           "line": {
            "color": "#2a3f5f"
           }
          },
          "ternary": {
           "aaxis": {
            "gridcolor": "white",
            "linecolor": "white",
            "ticks": ""
           },
           "baxis": {
            "gridcolor": "white",
            "linecolor": "white",
            "ticks": ""
           },
           "bgcolor": "#E5ECF6",
           "caxis": {
            "gridcolor": "white",
            "linecolor": "white",
            "ticks": ""
           }
          },
          "title": {
           "x": 0.05
          },
          "xaxis": {
           "automargin": true,
           "gridcolor": "white",
           "linecolor": "white",
           "ticks": "",
           "title": {
            "standoff": 15
           },
           "zerolinecolor": "white",
           "zerolinewidth": 2
          },
          "yaxis": {
           "automargin": true,
           "gridcolor": "white",
           "linecolor": "white",
           "ticks": "",
           "title": {
            "standoff": 15
           },
           "zerolinecolor": "white",
           "zerolinewidth": 2
          }
         }
        },
        "title": {
         "font": {
          "color": "#4D5663"
         }
        },
        "xaxis": {
         "gridcolor": "#E1E5ED",
         "showgrid": true,
         "tickfont": {
          "color": "#4D5663"
         },
         "title": {
          "font": {
           "color": "#4D5663"
          },
          "text": ""
         },
         "zerolinecolor": "#E1E5ED"
        },
        "yaxis": {
         "gridcolor": "#E1E5ED",
         "showgrid": true,
         "tickfont": {
          "color": "#4D5663"
         },
         "title": {
          "font": {
           "color": "#4D5663"
          },
          "text": ""
         },
         "zerolinecolor": "#E1E5ED"
        }
       }
      },
      "text/html": [
       "<div>\n",
       "        \n",
       "        \n",
       "            <div id=\"e0f10c7b-4713-440d-b929-d949d6ac5a8a\" class=\"plotly-graph-div\" style=\"height:525px; width:100%;\"></div>\n",
       "            <script type=\"text/javascript\">\n",
       "                require([\"plotly\"], function(Plotly) {\n",
       "                    window.PLOTLYENV=window.PLOTLYENV || {};\n",
       "                    window.PLOTLYENV.BASE_URL='https://plot.ly';\n",
       "                    \n",
       "                if (document.getElementById(\"e0f10c7b-4713-440d-b929-d949d6ac5a8a\")) {\n",
       "                    Plotly.newPlot(\n",
       "                        'e0f10c7b-4713-440d-b929-d949d6ac5a8a',\n",
       "                        [{\"line\": {\"color\": \"rgba(255, 153, 51, 1.0)\", \"dash\": \"solid\", \"shape\": \"linear\", \"width\": 1.3}, \"mode\": \"lines\", \"name\": \"B\", \"text\": \"\", \"type\": \"scatter\", \"x\": [-0.171640601897393, -0.43651310026760143, 0.1915612390123302, -1.056703312019151, 0.4223324960551365, 1.2877468203367912, -0.5709727518406853, 2.1648676554773516, -1.2710537136872033, 0.16778935785866875, 1.0923398653718392, 0.4925306791099881, -0.703668513206629, -1.4524459966421268, -1.2744387261513341, 0.48551604613423355, -0.08955322711220023, -0.29027573121328615, 0.7745650160804478, -1.1099619262798022, -1.9683383872344231, -0.29436352576008007, -0.6114534149828592, -0.6016002569315776, 0.6621081449698877, 0.21266807621964742, -0.14196204190623365, 0.8455808080508328, 2.218513523093423, 1.225509030816993, -0.05744835346384874, -0.11673789320091013, -0.30301635565632434, -0.6627327489766144, -0.294755132084432, -0.133052082126597, -0.7027262561520775, 0.21363941721995688, 0.7533029620632767, 0.9161599146948339, -0.38695616486884626, 0.19596958959686875, 2.1597457209110167, 1.6330219307099394, -0.053064503558190354, 0.6603445747130693, 0.3207945904648976, -1.1050354243244225, 1.5637954578971218, 1.2541918745480611, -2.095064611555383, -0.7845842103111716, -0.19468049802855614, -0.4014548287149151, 0.3407950800545804, 0.03272595875779687, -1.3056241417427392, 0.7438543233795972, -1.3227506872869208, 1.0784707979095176, -0.815334722857213, -0.5373819359409527, -1.0606203281249487, 0.441700587416723, -0.32878279305935415, -0.46581137917888865, -1.0904053135674916, -1.26924927808231, 0.31270617806826667, 0.6970749712875615, 0.3153736148451356, -0.45080146910650637, -0.2720063615339261, 1.4044677356602207, -0.019348041080346393, 1.1049428128294767, -2.377128291270848, -1.5073793637973727, -0.926666748211941, 1.8579700229276017, -1.2116095443091348, 0.8236413783722552, -0.32430248425442165, 2.0906677707983916, -0.7044681959680065, -0.1546026406012769, -0.9385406062305209, -0.8692498584291668, -2.3768058600922677, -2.4065090278566914, 1.7172860060023276, 0.16700914108697476, -1.0892987171083033, 1.1821925982620303, 0.3761064908178598, -0.6081613870137292, 0.5683748477954369, -0.2666353852917895, 0.9020386387275965, 0.22303842334880358], \"y\": [0.5484513444208927, -2.3254372400024663, -0.17768498503930882, -0.0413575571659648, 1.0377678595702458, -0.7116014651027107, 0.26857162154881, 1.5290566395723573, -0.2567586755527022, -0.357121113255171, 0.8094544672338446, -0.18796083964617127, -0.027477640202128045, -0.11870292311303313, -2.269461527526842, 1.5955328577357266, -0.8644545357821648, -1.8642968220350373, 0.09017916692978532, -1.344766726938334, 1.1745824220442214, -0.8414367236253527, -0.7884004277579315, -0.1489331864549383, 0.7728688387695918, -2.1409153230074534, 0.34821592049908134, -0.27498245733340865, 0.6490421722801153, -0.3095015003082018, 1.3755435096077888, 0.5295635663635087, 0.3035655123758679, -0.15702303716074245, 1.1704292564472734, -1.52193050513255, -0.17304696512117046, 0.500742618651033, -2.411263379463824, -0.2764586244288876, -0.9354022868432563, 1.6180987037807752, -0.5850556670966817, 0.8064515288677078, -0.1925316499670654, 2.1249498691984603, 0.28824678756934996, 1.0808924511417874, -1.0991069038596877, 2.8523270968784757, -0.1462276160136622, -0.7269456317989939, 1.009683169084365, -0.9128087165867703, 2.739386314769789, -1.3757622114686658, 1.4407905278507112, -2.1437891180414965, -0.8685438816408083, -1.0684204255937035, -1.3909622043143515, -1.708519617763413, -1.033225258404668, -0.9273179566800895, 0.9622755612144613, 0.4036958283171158, -2.066620915349806, -0.5313498777603, -0.37213553235231156, 0.5566243901674788, 0.46809411497026965, 0.03231282758546965, 1.5950315245268063, -0.8677057971639819, 0.5934132541166431, 0.6665791844271618, -1.070293341617307, 0.23247746328414118, 0.1636105945212715, 1.3847638680189123, -0.7468787389615569, -0.6336863846695935, -0.15418321052239078, -0.022964779182480508, 0.13067056650667006, -0.8346647281545524, -0.08276756281076375, -0.23593108329391443, 1.4223691939157483, -1.475177034806321, -0.5631133271333681, -0.9498587583942311, -1.1180928581281955, -1.9290450825993415, 0.22878195896987918, -1.16846732408735, -1.201800804545687, 0.6324538976960572, -0.1723277128840355, 0.2296303534317323]}],\n",
       "                        {\"legend\": {\"bgcolor\": \"#F5F6F9\", \"font\": {\"color\": \"#4D5663\"}}, \"paper_bgcolor\": \"#F5F6F9\", \"plot_bgcolor\": \"#F5F6F9\", \"template\": {\"data\": {\"bar\": [{\"error_x\": {\"color\": \"#2a3f5f\"}, \"error_y\": {\"color\": \"#2a3f5f\"}, \"marker\": {\"line\": {\"color\": \"#E5ECF6\", \"width\": 0.5}}, \"type\": \"bar\"}], \"barpolar\": [{\"marker\": {\"line\": {\"color\": \"#E5ECF6\", \"width\": 0.5}}, \"type\": \"barpolar\"}], \"carpet\": [{\"aaxis\": {\"endlinecolor\": \"#2a3f5f\", \"gridcolor\": \"white\", \"linecolor\": \"white\", \"minorgridcolor\": \"white\", \"startlinecolor\": \"#2a3f5f\"}, \"baxis\": {\"endlinecolor\": \"#2a3f5f\", \"gridcolor\": \"white\", \"linecolor\": \"white\", \"minorgridcolor\": \"white\", \"startlinecolor\": \"#2a3f5f\"}, \"type\": \"carpet\"}], \"choropleth\": [{\"colorbar\": {\"outlinewidth\": 0, \"ticks\": \"\"}, \"type\": \"choropleth\"}], \"contour\": [{\"colorbar\": {\"outlinewidth\": 0, \"ticks\": \"\"}, \"colorscale\": [[0.0, \"#0d0887\"], [0.1111111111111111, \"#46039f\"], [0.2222222222222222, \"#7201a8\"], [0.3333333333333333, \"#9c179e\"], [0.4444444444444444, \"#bd3786\"], [0.5555555555555556, \"#d8576b\"], [0.6666666666666666, \"#ed7953\"], [0.7777777777777778, \"#fb9f3a\"], [0.8888888888888888, \"#fdca26\"], [1.0, \"#f0f921\"]], \"type\": \"contour\"}], \"contourcarpet\": [{\"colorbar\": {\"outlinewidth\": 0, \"ticks\": \"\"}, \"type\": \"contourcarpet\"}], \"heatmap\": [{\"colorbar\": {\"outlinewidth\": 0, \"ticks\": \"\"}, \"colorscale\": [[0.0, \"#0d0887\"], [0.1111111111111111, \"#46039f\"], [0.2222222222222222, \"#7201a8\"], [0.3333333333333333, \"#9c179e\"], [0.4444444444444444, \"#bd3786\"], [0.5555555555555556, \"#d8576b\"], [0.6666666666666666, \"#ed7953\"], [0.7777777777777778, \"#fb9f3a\"], [0.8888888888888888, \"#fdca26\"], [1.0, \"#f0f921\"]], \"type\": \"heatmap\"}], \"heatmapgl\": [{\"colorbar\": {\"outlinewidth\": 0, \"ticks\": \"\"}, \"colorscale\": [[0.0, \"#0d0887\"], [0.1111111111111111, \"#46039f\"], [0.2222222222222222, \"#7201a8\"], [0.3333333333333333, \"#9c179e\"], [0.4444444444444444, \"#bd3786\"], [0.5555555555555556, \"#d8576b\"], [0.6666666666666666, \"#ed7953\"], [0.7777777777777778, \"#fb9f3a\"], [0.8888888888888888, \"#fdca26\"], [1.0, \"#f0f921\"]], \"type\": \"heatmapgl\"}], \"histogram\": [{\"marker\": {\"colorbar\": {\"outlinewidth\": 0, \"ticks\": \"\"}}, \"type\": \"histogram\"}], \"histogram2d\": [{\"colorbar\": {\"outlinewidth\": 0, \"ticks\": \"\"}, \"colorscale\": [[0.0, \"#0d0887\"], [0.1111111111111111, \"#46039f\"], [0.2222222222222222, \"#7201a8\"], [0.3333333333333333, \"#9c179e\"], [0.4444444444444444, \"#bd3786\"], [0.5555555555555556, \"#d8576b\"], [0.6666666666666666, \"#ed7953\"], [0.7777777777777778, \"#fb9f3a\"], [0.8888888888888888, \"#fdca26\"], [1.0, \"#f0f921\"]], \"type\": \"histogram2d\"}], \"histogram2dcontour\": [{\"colorbar\": {\"outlinewidth\": 0, \"ticks\": \"\"}, \"colorscale\": [[0.0, \"#0d0887\"], [0.1111111111111111, \"#46039f\"], [0.2222222222222222, \"#7201a8\"], [0.3333333333333333, \"#9c179e\"], [0.4444444444444444, \"#bd3786\"], [0.5555555555555556, \"#d8576b\"], [0.6666666666666666, \"#ed7953\"], [0.7777777777777778, \"#fb9f3a\"], [0.8888888888888888, \"#fdca26\"], [1.0, \"#f0f921\"]], \"type\": \"histogram2dcontour\"}], \"mesh3d\": [{\"colorbar\": {\"outlinewidth\": 0, \"ticks\": \"\"}, \"type\": \"mesh3d\"}], \"parcoords\": [{\"line\": {\"colorbar\": {\"outlinewidth\": 0, \"ticks\": \"\"}}, \"type\": \"parcoords\"}], \"pie\": [{\"automargin\": true, \"type\": \"pie\"}], \"scatter\": [{\"marker\": {\"colorbar\": {\"outlinewidth\": 0, \"ticks\": \"\"}}, \"type\": \"scatter\"}], \"scatter3d\": [{\"line\": {\"colorbar\": {\"outlinewidth\": 0, \"ticks\": \"\"}}, \"marker\": {\"colorbar\": {\"outlinewidth\": 0, \"ticks\": \"\"}}, \"type\": \"scatter3d\"}], \"scattercarpet\": [{\"marker\": {\"colorbar\": {\"outlinewidth\": 0, \"ticks\": \"\"}}, \"type\": \"scattercarpet\"}], \"scattergeo\": [{\"marker\": {\"colorbar\": {\"outlinewidth\": 0, \"ticks\": \"\"}}, \"type\": \"scattergeo\"}], \"scattergl\": [{\"marker\": {\"colorbar\": {\"outlinewidth\": 0, \"ticks\": \"\"}}, \"type\": \"scattergl\"}], \"scattermapbox\": [{\"marker\": {\"colorbar\": {\"outlinewidth\": 0, \"ticks\": \"\"}}, \"type\": \"scattermapbox\"}], \"scatterpolar\": [{\"marker\": {\"colorbar\": {\"outlinewidth\": 0, \"ticks\": \"\"}}, \"type\": \"scatterpolar\"}], \"scatterpolargl\": [{\"marker\": {\"colorbar\": {\"outlinewidth\": 0, \"ticks\": \"\"}}, \"type\": \"scatterpolargl\"}], \"scatterternary\": [{\"marker\": {\"colorbar\": {\"outlinewidth\": 0, \"ticks\": \"\"}}, \"type\": \"scatterternary\"}], \"surface\": [{\"colorbar\": {\"outlinewidth\": 0, \"ticks\": \"\"}, \"colorscale\": [[0.0, \"#0d0887\"], [0.1111111111111111, \"#46039f\"], [0.2222222222222222, \"#7201a8\"], [0.3333333333333333, \"#9c179e\"], [0.4444444444444444, \"#bd3786\"], [0.5555555555555556, \"#d8576b\"], [0.6666666666666666, \"#ed7953\"], [0.7777777777777778, \"#fb9f3a\"], [0.8888888888888888, \"#fdca26\"], [1.0, \"#f0f921\"]], \"type\": \"surface\"}], \"table\": [{\"cells\": {\"fill\": {\"color\": \"#EBF0F8\"}, \"line\": {\"color\": \"white\"}}, \"header\": {\"fill\": {\"color\": \"#C8D4E3\"}, \"line\": {\"color\": \"white\"}}, \"type\": \"table\"}]}, \"layout\": {\"annotationdefaults\": {\"arrowcolor\": \"#2a3f5f\", \"arrowhead\": 0, \"arrowwidth\": 1}, \"coloraxis\": {\"colorbar\": {\"outlinewidth\": 0, \"ticks\": \"\"}}, \"colorscale\": {\"diverging\": [[0, \"#8e0152\"], [0.1, \"#c51b7d\"], [0.2, \"#de77ae\"], [0.3, \"#f1b6da\"], [0.4, \"#fde0ef\"], [0.5, \"#f7f7f7\"], [0.6, \"#e6f5d0\"], [0.7, \"#b8e186\"], [0.8, \"#7fbc41\"], [0.9, \"#4d9221\"], [1, \"#276419\"]], \"sequential\": [[0.0, \"#0d0887\"], [0.1111111111111111, \"#46039f\"], [0.2222222222222222, \"#7201a8\"], [0.3333333333333333, \"#9c179e\"], [0.4444444444444444, \"#bd3786\"], [0.5555555555555556, \"#d8576b\"], [0.6666666666666666, \"#ed7953\"], [0.7777777777777778, \"#fb9f3a\"], [0.8888888888888888, \"#fdca26\"], [1.0, \"#f0f921\"]], \"sequentialminus\": [[0.0, \"#0d0887\"], [0.1111111111111111, \"#46039f\"], [0.2222222222222222, \"#7201a8\"], [0.3333333333333333, \"#9c179e\"], [0.4444444444444444, \"#bd3786\"], [0.5555555555555556, \"#d8576b\"], [0.6666666666666666, \"#ed7953\"], [0.7777777777777778, \"#fb9f3a\"], [0.8888888888888888, \"#fdca26\"], [1.0, \"#f0f921\"]]}, \"colorway\": [\"#636efa\", \"#EF553B\", \"#00cc96\", \"#ab63fa\", \"#FFA15A\", \"#19d3f3\", \"#FF6692\", \"#B6E880\", \"#FF97FF\", \"#FECB52\"], \"font\": {\"color\": \"#2a3f5f\"}, \"geo\": {\"bgcolor\": \"white\", \"lakecolor\": \"white\", \"landcolor\": \"#E5ECF6\", \"showlakes\": true, \"showland\": true, \"subunitcolor\": \"white\"}, \"hoverlabel\": {\"align\": \"left\"}, \"hovermode\": \"closest\", \"mapbox\": {\"style\": \"light\"}, \"paper_bgcolor\": \"white\", \"plot_bgcolor\": \"#E5ECF6\", \"polar\": {\"angularaxis\": {\"gridcolor\": \"white\", \"linecolor\": \"white\", \"ticks\": \"\"}, \"bgcolor\": \"#E5ECF6\", \"radialaxis\": {\"gridcolor\": \"white\", \"linecolor\": \"white\", \"ticks\": \"\"}}, \"scene\": {\"xaxis\": {\"backgroundcolor\": \"#E5ECF6\", \"gridcolor\": \"white\", \"gridwidth\": 2, \"linecolor\": \"white\", \"showbackground\": true, \"ticks\": \"\", \"zerolinecolor\": \"white\"}, \"yaxis\": {\"backgroundcolor\": \"#E5ECF6\", \"gridcolor\": \"white\", \"gridwidth\": 2, \"linecolor\": \"white\", \"showbackground\": true, \"ticks\": \"\", \"zerolinecolor\": \"white\"}, \"zaxis\": {\"backgroundcolor\": \"#E5ECF6\", \"gridcolor\": \"white\", \"gridwidth\": 2, \"linecolor\": \"white\", \"showbackground\": true, \"ticks\": \"\", \"zerolinecolor\": \"white\"}}, \"shapedefaults\": {\"line\": {\"color\": \"#2a3f5f\"}}, \"ternary\": {\"aaxis\": {\"gridcolor\": \"white\", \"linecolor\": \"white\", \"ticks\": \"\"}, \"baxis\": {\"gridcolor\": \"white\", \"linecolor\": \"white\", \"ticks\": \"\"}, \"bgcolor\": \"#E5ECF6\", \"caxis\": {\"gridcolor\": \"white\", \"linecolor\": \"white\", \"ticks\": \"\"}}, \"title\": {\"x\": 0.05}, \"xaxis\": {\"automargin\": true, \"gridcolor\": \"white\", \"linecolor\": \"white\", \"ticks\": \"\", \"title\": {\"standoff\": 15}, \"zerolinecolor\": \"white\", \"zerolinewidth\": 2}, \"yaxis\": {\"automargin\": true, \"gridcolor\": \"white\", \"linecolor\": \"white\", \"ticks\": \"\", \"title\": {\"standoff\": 15}, \"zerolinecolor\": \"white\", \"zerolinewidth\": 2}}}, \"title\": {\"font\": {\"color\": \"#4D5663\"}}, \"xaxis\": {\"gridcolor\": \"#E1E5ED\", \"showgrid\": true, \"tickfont\": {\"color\": \"#4D5663\"}, \"title\": {\"font\": {\"color\": \"#4D5663\"}, \"text\": \"\"}, \"zerolinecolor\": \"#E1E5ED\"}, \"yaxis\": {\"gridcolor\": \"#E1E5ED\", \"showgrid\": true, \"tickfont\": {\"color\": \"#4D5663\"}, \"title\": {\"font\": {\"color\": \"#4D5663\"}, \"text\": \"\"}, \"zerolinecolor\": \"#E1E5ED\"}},\n",
       "                        {\"showLink\": true, \"linkText\": \"Export to plot.ly\", \"plotlyServerURL\": \"https://plot.ly\", \"responsive\": true}\n",
       "                    ).then(function(){\n",
       "                            \n",
       "var gd = document.getElementById('e0f10c7b-4713-440d-b929-d949d6ac5a8a');\n",
       "var x = new MutationObserver(function (mutations, observer) {{\n",
       "        var display = window.getComputedStyle(gd).display;\n",
       "        if (!display || display === 'none') {{\n",
       "            console.log([gd, 'removed!']);\n",
       "            Plotly.purge(gd);\n",
       "            observer.disconnect();\n",
       "        }}\n",
       "}});\n",
       "\n",
       "// Listen for the removal of the full notebook cells\n",
       "var notebookContainer = gd.closest('#notebook-container');\n",
       "if (notebookContainer) {{\n",
       "    x.observe(notebookContainer, {childList: true});\n",
       "}}\n",
       "\n",
       "// Listen for the clearing of the current output cell\n",
       "var outputEl = gd.closest('.output');\n",
       "if (outputEl) {{\n",
       "    x.observe(outputEl, {childList: true});\n",
       "}}\n",
       "\n",
       "                        })\n",
       "                };\n",
       "                });\n",
       "            </script>\n",
       "        </div>"
      ]
     },
     "metadata": {},
     "output_type": "display_data"
    }
   ],
   "source": [
    "df.iplot(kind='scatter',x='A',y='B')"
   ]
  },
  {
   "cell_type": "code",
   "execution_count": 20,
   "metadata": {},
   "outputs": [
    {
     "data": {
      "application/vnd.plotly.v1+json": {
       "config": {
        "linkText": "Export to plot.ly",
        "plotlyServerURL": "https://plot.ly",
        "showLink": true
       },
       "data": [
        {
         "line": {
          "color": "rgba(255, 153, 51, 1.0)",
          "dash": "solid",
          "shape": "linear",
          "width": 1.3
         },
         "marker": {
          "size": 12,
          "symbol": "circle"
         },
         "mode": "markers",
         "name": "B",
         "text": "",
         "type": "scatter",
         "x": [
          -0.171640601897393,
          -0.43651310026760143,
          0.1915612390123302,
          -1.056703312019151,
          0.4223324960551365,
          1.2877468203367912,
          -0.5709727518406853,
          2.1648676554773516,
          -1.2710537136872033,
          0.16778935785866875,
          1.0923398653718392,
          0.4925306791099881,
          -0.703668513206629,
          -1.4524459966421268,
          -1.2744387261513341,
          0.48551604613423355,
          -0.08955322711220023,
          -0.29027573121328615,
          0.7745650160804478,
          -1.1099619262798022,
          -1.9683383872344231,
          -0.29436352576008007,
          -0.6114534149828592,
          -0.6016002569315776,
          0.6621081449698877,
          0.21266807621964742,
          -0.14196204190623365,
          0.8455808080508328,
          2.218513523093423,
          1.225509030816993,
          -0.05744835346384874,
          -0.11673789320091013,
          -0.30301635565632434,
          -0.6627327489766144,
          -0.294755132084432,
          -0.133052082126597,
          -0.7027262561520775,
          0.21363941721995688,
          0.7533029620632767,
          0.9161599146948339,
          -0.38695616486884626,
          0.19596958959686875,
          2.1597457209110167,
          1.6330219307099394,
          -0.053064503558190354,
          0.6603445747130693,
          0.3207945904648976,
          -1.1050354243244225,
          1.5637954578971218,
          1.2541918745480611,
          -2.095064611555383,
          -0.7845842103111716,
          -0.19468049802855614,
          -0.4014548287149151,
          0.3407950800545804,
          0.03272595875779687,
          -1.3056241417427392,
          0.7438543233795972,
          -1.3227506872869208,
          1.0784707979095176,
          -0.815334722857213,
          -0.5373819359409527,
          -1.0606203281249487,
          0.441700587416723,
          -0.32878279305935415,
          -0.46581137917888865,
          -1.0904053135674916,
          -1.26924927808231,
          0.31270617806826667,
          0.6970749712875615,
          0.3153736148451356,
          -0.45080146910650637,
          -0.2720063615339261,
          1.4044677356602207,
          -0.019348041080346393,
          1.1049428128294767,
          -2.377128291270848,
          -1.5073793637973727,
          -0.926666748211941,
          1.8579700229276017,
          -1.2116095443091348,
          0.8236413783722552,
          -0.32430248425442165,
          2.0906677707983916,
          -0.7044681959680065,
          -0.1546026406012769,
          -0.9385406062305209,
          -0.8692498584291668,
          -2.3768058600922677,
          -2.4065090278566914,
          1.7172860060023276,
          0.16700914108697476,
          -1.0892987171083033,
          1.1821925982620303,
          0.3761064908178598,
          -0.6081613870137292,
          0.5683748477954369,
          -0.2666353852917895,
          0.9020386387275965,
          0.22303842334880358
         ],
         "y": [
          0.5484513444208927,
          -2.3254372400024663,
          -0.17768498503930882,
          -0.0413575571659648,
          1.0377678595702458,
          -0.7116014651027107,
          0.26857162154881,
          1.5290566395723573,
          -0.2567586755527022,
          -0.357121113255171,
          0.8094544672338446,
          -0.18796083964617127,
          -0.027477640202128045,
          -0.11870292311303313,
          -2.269461527526842,
          1.5955328577357266,
          -0.8644545357821648,
          -1.8642968220350373,
          0.09017916692978532,
          -1.344766726938334,
          1.1745824220442214,
          -0.8414367236253527,
          -0.7884004277579315,
          -0.1489331864549383,
          0.7728688387695918,
          -2.1409153230074534,
          0.34821592049908134,
          -0.27498245733340865,
          0.6490421722801153,
          -0.3095015003082018,
          1.3755435096077888,
          0.5295635663635087,
          0.3035655123758679,
          -0.15702303716074245,
          1.1704292564472734,
          -1.52193050513255,
          -0.17304696512117046,
          0.500742618651033,
          -2.411263379463824,
          -0.2764586244288876,
          -0.9354022868432563,
          1.6180987037807752,
          -0.5850556670966817,
          0.8064515288677078,
          -0.1925316499670654,
          2.1249498691984603,
          0.28824678756934996,
          1.0808924511417874,
          -1.0991069038596877,
          2.8523270968784757,
          -0.1462276160136622,
          -0.7269456317989939,
          1.009683169084365,
          -0.9128087165867703,
          2.739386314769789,
          -1.3757622114686658,
          1.4407905278507112,
          -2.1437891180414965,
          -0.8685438816408083,
          -1.0684204255937035,
          -1.3909622043143515,
          -1.708519617763413,
          -1.033225258404668,
          -0.9273179566800895,
          0.9622755612144613,
          0.4036958283171158,
          -2.066620915349806,
          -0.5313498777603,
          -0.37213553235231156,
          0.5566243901674788,
          0.46809411497026965,
          0.03231282758546965,
          1.5950315245268063,
          -0.8677057971639819,
          0.5934132541166431,
          0.6665791844271618,
          -1.070293341617307,
          0.23247746328414118,
          0.1636105945212715,
          1.3847638680189123,
          -0.7468787389615569,
          -0.6336863846695935,
          -0.15418321052239078,
          -0.022964779182480508,
          0.13067056650667006,
          -0.8346647281545524,
          -0.08276756281076375,
          -0.23593108329391443,
          1.4223691939157483,
          -1.475177034806321,
          -0.5631133271333681,
          -0.9498587583942311,
          -1.1180928581281955,
          -1.9290450825993415,
          0.22878195896987918,
          -1.16846732408735,
          -1.201800804545687,
          0.6324538976960572,
          -0.1723277128840355,
          0.2296303534317323
         ]
        }
       ],
       "layout": {
        "legend": {
         "bgcolor": "#F5F6F9",
         "font": {
          "color": "#4D5663"
         }
        },
        "paper_bgcolor": "#F5F6F9",
        "plot_bgcolor": "#F5F6F9",
        "template": {
         "data": {
          "bar": [
           {
            "error_x": {
             "color": "#2a3f5f"
            },
            "error_y": {
             "color": "#2a3f5f"
            },
            "marker": {
             "line": {
              "color": "#E5ECF6",
              "width": 0.5
             }
            },
            "type": "bar"
           }
          ],
          "barpolar": [
           {
            "marker": {
             "line": {
              "color": "#E5ECF6",
              "width": 0.5
             }
            },
            "type": "barpolar"
           }
          ],
          "carpet": [
           {
            "aaxis": {
             "endlinecolor": "#2a3f5f",
             "gridcolor": "white",
             "linecolor": "white",
             "minorgridcolor": "white",
             "startlinecolor": "#2a3f5f"
            },
            "baxis": {
             "endlinecolor": "#2a3f5f",
             "gridcolor": "white",
             "linecolor": "white",
             "minorgridcolor": "white",
             "startlinecolor": "#2a3f5f"
            },
            "type": "carpet"
           }
          ],
          "choropleth": [
           {
            "colorbar": {
             "outlinewidth": 0,
             "ticks": ""
            },
            "type": "choropleth"
           }
          ],
          "contour": [
           {
            "colorbar": {
             "outlinewidth": 0,
             "ticks": ""
            },
            "colorscale": [
             [
              0,
              "#0d0887"
             ],
             [
              0.1111111111111111,
              "#46039f"
             ],
             [
              0.2222222222222222,
              "#7201a8"
             ],
             [
              0.3333333333333333,
              "#9c179e"
             ],
             [
              0.4444444444444444,
              "#bd3786"
             ],
             [
              0.5555555555555556,
              "#d8576b"
             ],
             [
              0.6666666666666666,
              "#ed7953"
             ],
             [
              0.7777777777777778,
              "#fb9f3a"
             ],
             [
              0.8888888888888888,
              "#fdca26"
             ],
             [
              1,
              "#f0f921"
             ]
            ],
            "type": "contour"
           }
          ],
          "contourcarpet": [
           {
            "colorbar": {
             "outlinewidth": 0,
             "ticks": ""
            },
            "type": "contourcarpet"
           }
          ],
          "heatmap": [
           {
            "colorbar": {
             "outlinewidth": 0,
             "ticks": ""
            },
            "colorscale": [
             [
              0,
              "#0d0887"
             ],
             [
              0.1111111111111111,
              "#46039f"
             ],
             [
              0.2222222222222222,
              "#7201a8"
             ],
             [
              0.3333333333333333,
              "#9c179e"
             ],
             [
              0.4444444444444444,
              "#bd3786"
             ],
             [
              0.5555555555555556,
              "#d8576b"
             ],
             [
              0.6666666666666666,
              "#ed7953"
             ],
             [
              0.7777777777777778,
              "#fb9f3a"
             ],
             [
              0.8888888888888888,
              "#fdca26"
             ],
             [
              1,
              "#f0f921"
             ]
            ],
            "type": "heatmap"
           }
          ],
          "heatmapgl": [
           {
            "colorbar": {
             "outlinewidth": 0,
             "ticks": ""
            },
            "colorscale": [
             [
              0,
              "#0d0887"
             ],
             [
              0.1111111111111111,
              "#46039f"
             ],
             [
              0.2222222222222222,
              "#7201a8"
             ],
             [
              0.3333333333333333,
              "#9c179e"
             ],
             [
              0.4444444444444444,
              "#bd3786"
             ],
             [
              0.5555555555555556,
              "#d8576b"
             ],
             [
              0.6666666666666666,
              "#ed7953"
             ],
             [
              0.7777777777777778,
              "#fb9f3a"
             ],
             [
              0.8888888888888888,
              "#fdca26"
             ],
             [
              1,
              "#f0f921"
             ]
            ],
            "type": "heatmapgl"
           }
          ],
          "histogram": [
           {
            "marker": {
             "colorbar": {
              "outlinewidth": 0,
              "ticks": ""
             }
            },
            "type": "histogram"
           }
          ],
          "histogram2d": [
           {
            "colorbar": {
             "outlinewidth": 0,
             "ticks": ""
            },
            "colorscale": [
             [
              0,
              "#0d0887"
             ],
             [
              0.1111111111111111,
              "#46039f"
             ],
             [
              0.2222222222222222,
              "#7201a8"
             ],
             [
              0.3333333333333333,
              "#9c179e"
             ],
             [
              0.4444444444444444,
              "#bd3786"
             ],
             [
              0.5555555555555556,
              "#d8576b"
             ],
             [
              0.6666666666666666,
              "#ed7953"
             ],
             [
              0.7777777777777778,
              "#fb9f3a"
             ],
             [
              0.8888888888888888,
              "#fdca26"
             ],
             [
              1,
              "#f0f921"
             ]
            ],
            "type": "histogram2d"
           }
          ],
          "histogram2dcontour": [
           {
            "colorbar": {
             "outlinewidth": 0,
             "ticks": ""
            },
            "colorscale": [
             [
              0,
              "#0d0887"
             ],
             [
              0.1111111111111111,
              "#46039f"
             ],
             [
              0.2222222222222222,
              "#7201a8"
             ],
             [
              0.3333333333333333,
              "#9c179e"
             ],
             [
              0.4444444444444444,
              "#bd3786"
             ],
             [
              0.5555555555555556,
              "#d8576b"
             ],
             [
              0.6666666666666666,
              "#ed7953"
             ],
             [
              0.7777777777777778,
              "#fb9f3a"
             ],
             [
              0.8888888888888888,
              "#fdca26"
             ],
             [
              1,
              "#f0f921"
             ]
            ],
            "type": "histogram2dcontour"
           }
          ],
          "mesh3d": [
           {
            "colorbar": {
             "outlinewidth": 0,
             "ticks": ""
            },
            "type": "mesh3d"
           }
          ],
          "parcoords": [
           {
            "line": {
             "colorbar": {
              "outlinewidth": 0,
              "ticks": ""
             }
            },
            "type": "parcoords"
           }
          ],
          "pie": [
           {
            "automargin": true,
            "type": "pie"
           }
          ],
          "scatter": [
           {
            "marker": {
             "colorbar": {
              "outlinewidth": 0,
              "ticks": ""
             }
            },
            "type": "scatter"
           }
          ],
          "scatter3d": [
           {
            "line": {
             "colorbar": {
              "outlinewidth": 0,
              "ticks": ""
             }
            },
            "marker": {
             "colorbar": {
              "outlinewidth": 0,
              "ticks": ""
             }
            },
            "type": "scatter3d"
           }
          ],
          "scattercarpet": [
           {
            "marker": {
             "colorbar": {
              "outlinewidth": 0,
              "ticks": ""
             }
            },
            "type": "scattercarpet"
           }
          ],
          "scattergeo": [
           {
            "marker": {
             "colorbar": {
              "outlinewidth": 0,
              "ticks": ""
             }
            },
            "type": "scattergeo"
           }
          ],
          "scattergl": [
           {
            "marker": {
             "colorbar": {
              "outlinewidth": 0,
              "ticks": ""
             }
            },
            "type": "scattergl"
           }
          ],
          "scattermapbox": [
           {
            "marker": {
             "colorbar": {
              "outlinewidth": 0,
              "ticks": ""
             }
            },
            "type": "scattermapbox"
           }
          ],
          "scatterpolar": [
           {
            "marker": {
             "colorbar": {
              "outlinewidth": 0,
              "ticks": ""
             }
            },
            "type": "scatterpolar"
           }
          ],
          "scatterpolargl": [
           {
            "marker": {
             "colorbar": {
              "outlinewidth": 0,
              "ticks": ""
             }
            },
            "type": "scatterpolargl"
           }
          ],
          "scatterternary": [
           {
            "marker": {
             "colorbar": {
              "outlinewidth": 0,
              "ticks": ""
             }
            },
            "type": "scatterternary"
           }
          ],
          "surface": [
           {
            "colorbar": {
             "outlinewidth": 0,
             "ticks": ""
            },
            "colorscale": [
             [
              0,
              "#0d0887"
             ],
             [
              0.1111111111111111,
              "#46039f"
             ],
             [
              0.2222222222222222,
              "#7201a8"
             ],
             [
              0.3333333333333333,
              "#9c179e"
             ],
             [
              0.4444444444444444,
              "#bd3786"
             ],
             [
              0.5555555555555556,
              "#d8576b"
             ],
             [
              0.6666666666666666,
              "#ed7953"
             ],
             [
              0.7777777777777778,
              "#fb9f3a"
             ],
             [
              0.8888888888888888,
              "#fdca26"
             ],
             [
              1,
              "#f0f921"
             ]
            ],
            "type": "surface"
           }
          ],
          "table": [
           {
            "cells": {
             "fill": {
              "color": "#EBF0F8"
             },
             "line": {
              "color": "white"
             }
            },
            "header": {
             "fill": {
              "color": "#C8D4E3"
             },
             "line": {
              "color": "white"
             }
            },
            "type": "table"
           }
          ]
         },
         "layout": {
          "annotationdefaults": {
           "arrowcolor": "#2a3f5f",
           "arrowhead": 0,
           "arrowwidth": 1
          },
          "coloraxis": {
           "colorbar": {
            "outlinewidth": 0,
            "ticks": ""
           }
          },
          "colorscale": {
           "diverging": [
            [
             0,
             "#8e0152"
            ],
            [
             0.1,
             "#c51b7d"
            ],
            [
             0.2,
             "#de77ae"
            ],
            [
             0.3,
             "#f1b6da"
            ],
            [
             0.4,
             "#fde0ef"
            ],
            [
             0.5,
             "#f7f7f7"
            ],
            [
             0.6,
             "#e6f5d0"
            ],
            [
             0.7,
             "#b8e186"
            ],
            [
             0.8,
             "#7fbc41"
            ],
            [
             0.9,
             "#4d9221"
            ],
            [
             1,
             "#276419"
            ]
           ],
           "sequential": [
            [
             0,
             "#0d0887"
            ],
            [
             0.1111111111111111,
             "#46039f"
            ],
            [
             0.2222222222222222,
             "#7201a8"
            ],
            [
             0.3333333333333333,
             "#9c179e"
            ],
            [
             0.4444444444444444,
             "#bd3786"
            ],
            [
             0.5555555555555556,
             "#d8576b"
            ],
            [
             0.6666666666666666,
             "#ed7953"
            ],
            [
             0.7777777777777778,
             "#fb9f3a"
            ],
            [
             0.8888888888888888,
             "#fdca26"
            ],
            [
             1,
             "#f0f921"
            ]
           ],
           "sequentialminus": [
            [
             0,
             "#0d0887"
            ],
            [
             0.1111111111111111,
             "#46039f"
            ],
            [
             0.2222222222222222,
             "#7201a8"
            ],
            [
             0.3333333333333333,
             "#9c179e"
            ],
            [
             0.4444444444444444,
             "#bd3786"
            ],
            [
             0.5555555555555556,
             "#d8576b"
            ],
            [
             0.6666666666666666,
             "#ed7953"
            ],
            [
             0.7777777777777778,
             "#fb9f3a"
            ],
            [
             0.8888888888888888,
             "#fdca26"
            ],
            [
             1,
             "#f0f921"
            ]
           ]
          },
          "colorway": [
           "#636efa",
           "#EF553B",
           "#00cc96",
           "#ab63fa",
           "#FFA15A",
           "#19d3f3",
           "#FF6692",
           "#B6E880",
           "#FF97FF",
           "#FECB52"
          ],
          "font": {
           "color": "#2a3f5f"
          },
          "geo": {
           "bgcolor": "white",
           "lakecolor": "white",
           "landcolor": "#E5ECF6",
           "showlakes": true,
           "showland": true,
           "subunitcolor": "white"
          },
          "hoverlabel": {
           "align": "left"
          },
          "hovermode": "closest",
          "mapbox": {
           "style": "light"
          },
          "paper_bgcolor": "white",
          "plot_bgcolor": "#E5ECF6",
          "polar": {
           "angularaxis": {
            "gridcolor": "white",
            "linecolor": "white",
            "ticks": ""
           },
           "bgcolor": "#E5ECF6",
           "radialaxis": {
            "gridcolor": "white",
            "linecolor": "white",
            "ticks": ""
           }
          },
          "scene": {
           "xaxis": {
            "backgroundcolor": "#E5ECF6",
            "gridcolor": "white",
            "gridwidth": 2,
            "linecolor": "white",
            "showbackground": true,
            "ticks": "",
            "zerolinecolor": "white"
           },
           "yaxis": {
            "backgroundcolor": "#E5ECF6",
            "gridcolor": "white",
            "gridwidth": 2,
            "linecolor": "white",
            "showbackground": true,
            "ticks": "",
            "zerolinecolor": "white"
           },
           "zaxis": {
            "backgroundcolor": "#E5ECF6",
            "gridcolor": "white",
            "gridwidth": 2,
            "linecolor": "white",
            "showbackground": true,
            "ticks": "",
            "zerolinecolor": "white"
           }
          },
          "shapedefaults": {
           "line": {
            "color": "#2a3f5f"
           }
          },
          "ternary": {
           "aaxis": {
            "gridcolor": "white",
            "linecolor": "white",
            "ticks": ""
           },
           "baxis": {
            "gridcolor": "white",
            "linecolor": "white",
            "ticks": ""
           },
           "bgcolor": "#E5ECF6",
           "caxis": {
            "gridcolor": "white",
            "linecolor": "white",
            "ticks": ""
           }
          },
          "title": {
           "x": 0.05
          },
          "xaxis": {
           "automargin": true,
           "gridcolor": "white",
           "linecolor": "white",
           "ticks": "",
           "title": {
            "standoff": 15
           },
           "zerolinecolor": "white",
           "zerolinewidth": 2
          },
          "yaxis": {
           "automargin": true,
           "gridcolor": "white",
           "linecolor": "white",
           "ticks": "",
           "title": {
            "standoff": 15
           },
           "zerolinecolor": "white",
           "zerolinewidth": 2
          }
         }
        },
        "title": {
         "font": {
          "color": "#4D5663"
         }
        },
        "xaxis": {
         "gridcolor": "#E1E5ED",
         "showgrid": true,
         "tickfont": {
          "color": "#4D5663"
         },
         "title": {
          "font": {
           "color": "#4D5663"
          },
          "text": ""
         },
         "zerolinecolor": "#E1E5ED"
        },
        "yaxis": {
         "gridcolor": "#E1E5ED",
         "showgrid": true,
         "tickfont": {
          "color": "#4D5663"
         },
         "title": {
          "font": {
           "color": "#4D5663"
          },
          "text": ""
         },
         "zerolinecolor": "#E1E5ED"
        }
       }
      },
      "text/html": [
       "<div>\n",
       "        \n",
       "        \n",
       "            <div id=\"a7db010f-c27e-45a6-add5-c32d3c2f3a3d\" class=\"plotly-graph-div\" style=\"height:525px; width:100%;\"></div>\n",
       "            <script type=\"text/javascript\">\n",
       "                require([\"plotly\"], function(Plotly) {\n",
       "                    window.PLOTLYENV=window.PLOTLYENV || {};\n",
       "                    window.PLOTLYENV.BASE_URL='https://plot.ly';\n",
       "                    \n",
       "                if (document.getElementById(\"a7db010f-c27e-45a6-add5-c32d3c2f3a3d\")) {\n",
       "                    Plotly.newPlot(\n",
       "                        'a7db010f-c27e-45a6-add5-c32d3c2f3a3d',\n",
       "                        [{\"line\": {\"color\": \"rgba(255, 153, 51, 1.0)\", \"dash\": \"solid\", \"shape\": \"linear\", \"width\": 1.3}, \"marker\": {\"size\": 12, \"symbol\": \"circle\"}, \"mode\": \"markers\", \"name\": \"B\", \"text\": \"\", \"type\": \"scatter\", \"x\": [-0.171640601897393, -0.43651310026760143, 0.1915612390123302, -1.056703312019151, 0.4223324960551365, 1.2877468203367912, -0.5709727518406853, 2.1648676554773516, -1.2710537136872033, 0.16778935785866875, 1.0923398653718392, 0.4925306791099881, -0.703668513206629, -1.4524459966421268, -1.2744387261513341, 0.48551604613423355, -0.08955322711220023, -0.29027573121328615, 0.7745650160804478, -1.1099619262798022, -1.9683383872344231, -0.29436352576008007, -0.6114534149828592, -0.6016002569315776, 0.6621081449698877, 0.21266807621964742, -0.14196204190623365, 0.8455808080508328, 2.218513523093423, 1.225509030816993, -0.05744835346384874, -0.11673789320091013, -0.30301635565632434, -0.6627327489766144, -0.294755132084432, -0.133052082126597, -0.7027262561520775, 0.21363941721995688, 0.7533029620632767, 0.9161599146948339, -0.38695616486884626, 0.19596958959686875, 2.1597457209110167, 1.6330219307099394, -0.053064503558190354, 0.6603445747130693, 0.3207945904648976, -1.1050354243244225, 1.5637954578971218, 1.2541918745480611, -2.095064611555383, -0.7845842103111716, -0.19468049802855614, -0.4014548287149151, 0.3407950800545804, 0.03272595875779687, -1.3056241417427392, 0.7438543233795972, -1.3227506872869208, 1.0784707979095176, -0.815334722857213, -0.5373819359409527, -1.0606203281249487, 0.441700587416723, -0.32878279305935415, -0.46581137917888865, -1.0904053135674916, -1.26924927808231, 0.31270617806826667, 0.6970749712875615, 0.3153736148451356, -0.45080146910650637, -0.2720063615339261, 1.4044677356602207, -0.019348041080346393, 1.1049428128294767, -2.377128291270848, -1.5073793637973727, -0.926666748211941, 1.8579700229276017, -1.2116095443091348, 0.8236413783722552, -0.32430248425442165, 2.0906677707983916, -0.7044681959680065, -0.1546026406012769, -0.9385406062305209, -0.8692498584291668, -2.3768058600922677, -2.4065090278566914, 1.7172860060023276, 0.16700914108697476, -1.0892987171083033, 1.1821925982620303, 0.3761064908178598, -0.6081613870137292, 0.5683748477954369, -0.2666353852917895, 0.9020386387275965, 0.22303842334880358], \"y\": [0.5484513444208927, -2.3254372400024663, -0.17768498503930882, -0.0413575571659648, 1.0377678595702458, -0.7116014651027107, 0.26857162154881, 1.5290566395723573, -0.2567586755527022, -0.357121113255171, 0.8094544672338446, -0.18796083964617127, -0.027477640202128045, -0.11870292311303313, -2.269461527526842, 1.5955328577357266, -0.8644545357821648, -1.8642968220350373, 0.09017916692978532, -1.344766726938334, 1.1745824220442214, -0.8414367236253527, -0.7884004277579315, -0.1489331864549383, 0.7728688387695918, -2.1409153230074534, 0.34821592049908134, -0.27498245733340865, 0.6490421722801153, -0.3095015003082018, 1.3755435096077888, 0.5295635663635087, 0.3035655123758679, -0.15702303716074245, 1.1704292564472734, -1.52193050513255, -0.17304696512117046, 0.500742618651033, -2.411263379463824, -0.2764586244288876, -0.9354022868432563, 1.6180987037807752, -0.5850556670966817, 0.8064515288677078, -0.1925316499670654, 2.1249498691984603, 0.28824678756934996, 1.0808924511417874, -1.0991069038596877, 2.8523270968784757, -0.1462276160136622, -0.7269456317989939, 1.009683169084365, -0.9128087165867703, 2.739386314769789, -1.3757622114686658, 1.4407905278507112, -2.1437891180414965, -0.8685438816408083, -1.0684204255937035, -1.3909622043143515, -1.708519617763413, -1.033225258404668, -0.9273179566800895, 0.9622755612144613, 0.4036958283171158, -2.066620915349806, -0.5313498777603, -0.37213553235231156, 0.5566243901674788, 0.46809411497026965, 0.03231282758546965, 1.5950315245268063, -0.8677057971639819, 0.5934132541166431, 0.6665791844271618, -1.070293341617307, 0.23247746328414118, 0.1636105945212715, 1.3847638680189123, -0.7468787389615569, -0.6336863846695935, -0.15418321052239078, -0.022964779182480508, 0.13067056650667006, -0.8346647281545524, -0.08276756281076375, -0.23593108329391443, 1.4223691939157483, -1.475177034806321, -0.5631133271333681, -0.9498587583942311, -1.1180928581281955, -1.9290450825993415, 0.22878195896987918, -1.16846732408735, -1.201800804545687, 0.6324538976960572, -0.1723277128840355, 0.2296303534317323]}],\n",
       "                        {\"legend\": {\"bgcolor\": \"#F5F6F9\", \"font\": {\"color\": \"#4D5663\"}}, \"paper_bgcolor\": \"#F5F6F9\", \"plot_bgcolor\": \"#F5F6F9\", \"template\": {\"data\": {\"bar\": [{\"error_x\": {\"color\": \"#2a3f5f\"}, \"error_y\": {\"color\": \"#2a3f5f\"}, \"marker\": {\"line\": {\"color\": \"#E5ECF6\", \"width\": 0.5}}, \"type\": \"bar\"}], \"barpolar\": [{\"marker\": {\"line\": {\"color\": \"#E5ECF6\", \"width\": 0.5}}, \"type\": \"barpolar\"}], \"carpet\": [{\"aaxis\": {\"endlinecolor\": \"#2a3f5f\", \"gridcolor\": \"white\", \"linecolor\": \"white\", \"minorgridcolor\": \"white\", \"startlinecolor\": \"#2a3f5f\"}, \"baxis\": {\"endlinecolor\": \"#2a3f5f\", \"gridcolor\": \"white\", \"linecolor\": \"white\", \"minorgridcolor\": \"white\", \"startlinecolor\": \"#2a3f5f\"}, \"type\": \"carpet\"}], \"choropleth\": [{\"colorbar\": {\"outlinewidth\": 0, \"ticks\": \"\"}, \"type\": \"choropleth\"}], \"contour\": [{\"colorbar\": {\"outlinewidth\": 0, \"ticks\": \"\"}, \"colorscale\": [[0.0, \"#0d0887\"], [0.1111111111111111, \"#46039f\"], [0.2222222222222222, \"#7201a8\"], [0.3333333333333333, \"#9c179e\"], [0.4444444444444444, \"#bd3786\"], [0.5555555555555556, \"#d8576b\"], [0.6666666666666666, \"#ed7953\"], [0.7777777777777778, \"#fb9f3a\"], [0.8888888888888888, \"#fdca26\"], [1.0, \"#f0f921\"]], \"type\": \"contour\"}], \"contourcarpet\": [{\"colorbar\": {\"outlinewidth\": 0, \"ticks\": \"\"}, \"type\": \"contourcarpet\"}], \"heatmap\": [{\"colorbar\": {\"outlinewidth\": 0, \"ticks\": \"\"}, \"colorscale\": [[0.0, \"#0d0887\"], [0.1111111111111111, \"#46039f\"], [0.2222222222222222, \"#7201a8\"], [0.3333333333333333, \"#9c179e\"], [0.4444444444444444, \"#bd3786\"], [0.5555555555555556, \"#d8576b\"], [0.6666666666666666, \"#ed7953\"], [0.7777777777777778, \"#fb9f3a\"], [0.8888888888888888, \"#fdca26\"], [1.0, \"#f0f921\"]], \"type\": \"heatmap\"}], \"heatmapgl\": [{\"colorbar\": {\"outlinewidth\": 0, \"ticks\": \"\"}, \"colorscale\": [[0.0, \"#0d0887\"], [0.1111111111111111, \"#46039f\"], [0.2222222222222222, \"#7201a8\"], [0.3333333333333333, \"#9c179e\"], [0.4444444444444444, \"#bd3786\"], [0.5555555555555556, \"#d8576b\"], [0.6666666666666666, \"#ed7953\"], [0.7777777777777778, \"#fb9f3a\"], [0.8888888888888888, \"#fdca26\"], [1.0, \"#f0f921\"]], \"type\": \"heatmapgl\"}], \"histogram\": [{\"marker\": {\"colorbar\": {\"outlinewidth\": 0, \"ticks\": \"\"}}, \"type\": \"histogram\"}], \"histogram2d\": [{\"colorbar\": {\"outlinewidth\": 0, \"ticks\": \"\"}, \"colorscale\": [[0.0, \"#0d0887\"], [0.1111111111111111, \"#46039f\"], [0.2222222222222222, \"#7201a8\"], [0.3333333333333333, \"#9c179e\"], [0.4444444444444444, \"#bd3786\"], [0.5555555555555556, \"#d8576b\"], [0.6666666666666666, \"#ed7953\"], [0.7777777777777778, \"#fb9f3a\"], [0.8888888888888888, \"#fdca26\"], [1.0, \"#f0f921\"]], \"type\": \"histogram2d\"}], \"histogram2dcontour\": [{\"colorbar\": {\"outlinewidth\": 0, \"ticks\": \"\"}, \"colorscale\": [[0.0, \"#0d0887\"], [0.1111111111111111, \"#46039f\"], [0.2222222222222222, \"#7201a8\"], [0.3333333333333333, \"#9c179e\"], [0.4444444444444444, \"#bd3786\"], [0.5555555555555556, \"#d8576b\"], [0.6666666666666666, \"#ed7953\"], [0.7777777777777778, \"#fb9f3a\"], [0.8888888888888888, \"#fdca26\"], [1.0, \"#f0f921\"]], \"type\": \"histogram2dcontour\"}], \"mesh3d\": [{\"colorbar\": {\"outlinewidth\": 0, \"ticks\": \"\"}, \"type\": \"mesh3d\"}], \"parcoords\": [{\"line\": {\"colorbar\": {\"outlinewidth\": 0, \"ticks\": \"\"}}, \"type\": \"parcoords\"}], \"pie\": [{\"automargin\": true, \"type\": \"pie\"}], \"scatter\": [{\"marker\": {\"colorbar\": {\"outlinewidth\": 0, \"ticks\": \"\"}}, \"type\": \"scatter\"}], \"scatter3d\": [{\"line\": {\"colorbar\": {\"outlinewidth\": 0, \"ticks\": \"\"}}, \"marker\": {\"colorbar\": {\"outlinewidth\": 0, \"ticks\": \"\"}}, \"type\": \"scatter3d\"}], \"scattercarpet\": [{\"marker\": {\"colorbar\": {\"outlinewidth\": 0, \"ticks\": \"\"}}, \"type\": \"scattercarpet\"}], \"scattergeo\": [{\"marker\": {\"colorbar\": {\"outlinewidth\": 0, \"ticks\": \"\"}}, \"type\": \"scattergeo\"}], \"scattergl\": [{\"marker\": {\"colorbar\": {\"outlinewidth\": 0, \"ticks\": \"\"}}, \"type\": \"scattergl\"}], \"scattermapbox\": [{\"marker\": {\"colorbar\": {\"outlinewidth\": 0, \"ticks\": \"\"}}, \"type\": \"scattermapbox\"}], \"scatterpolar\": [{\"marker\": {\"colorbar\": {\"outlinewidth\": 0, \"ticks\": \"\"}}, \"type\": \"scatterpolar\"}], \"scatterpolargl\": [{\"marker\": {\"colorbar\": {\"outlinewidth\": 0, \"ticks\": \"\"}}, \"type\": \"scatterpolargl\"}], \"scatterternary\": [{\"marker\": {\"colorbar\": {\"outlinewidth\": 0, \"ticks\": \"\"}}, \"type\": \"scatterternary\"}], \"surface\": [{\"colorbar\": {\"outlinewidth\": 0, \"ticks\": \"\"}, \"colorscale\": [[0.0, \"#0d0887\"], [0.1111111111111111, \"#46039f\"], [0.2222222222222222, \"#7201a8\"], [0.3333333333333333, \"#9c179e\"], [0.4444444444444444, \"#bd3786\"], [0.5555555555555556, \"#d8576b\"], [0.6666666666666666, \"#ed7953\"], [0.7777777777777778, \"#fb9f3a\"], [0.8888888888888888, \"#fdca26\"], [1.0, \"#f0f921\"]], \"type\": \"surface\"}], \"table\": [{\"cells\": {\"fill\": {\"color\": \"#EBF0F8\"}, \"line\": {\"color\": \"white\"}}, \"header\": {\"fill\": {\"color\": \"#C8D4E3\"}, \"line\": {\"color\": \"white\"}}, \"type\": \"table\"}]}, \"layout\": {\"annotationdefaults\": {\"arrowcolor\": \"#2a3f5f\", \"arrowhead\": 0, \"arrowwidth\": 1}, \"coloraxis\": {\"colorbar\": {\"outlinewidth\": 0, \"ticks\": \"\"}}, \"colorscale\": {\"diverging\": [[0, \"#8e0152\"], [0.1, \"#c51b7d\"], [0.2, \"#de77ae\"], [0.3, \"#f1b6da\"], [0.4, \"#fde0ef\"], [0.5, \"#f7f7f7\"], [0.6, \"#e6f5d0\"], [0.7, \"#b8e186\"], [0.8, \"#7fbc41\"], [0.9, \"#4d9221\"], [1, \"#276419\"]], \"sequential\": [[0.0, \"#0d0887\"], [0.1111111111111111, \"#46039f\"], [0.2222222222222222, \"#7201a8\"], [0.3333333333333333, \"#9c179e\"], [0.4444444444444444, \"#bd3786\"], [0.5555555555555556, \"#d8576b\"], [0.6666666666666666, \"#ed7953\"], [0.7777777777777778, \"#fb9f3a\"], [0.8888888888888888, \"#fdca26\"], [1.0, \"#f0f921\"]], \"sequentialminus\": [[0.0, \"#0d0887\"], [0.1111111111111111, \"#46039f\"], [0.2222222222222222, \"#7201a8\"], [0.3333333333333333, \"#9c179e\"], [0.4444444444444444, \"#bd3786\"], [0.5555555555555556, \"#d8576b\"], [0.6666666666666666, \"#ed7953\"], [0.7777777777777778, \"#fb9f3a\"], [0.8888888888888888, \"#fdca26\"], [1.0, \"#f0f921\"]]}, \"colorway\": [\"#636efa\", \"#EF553B\", \"#00cc96\", \"#ab63fa\", \"#FFA15A\", \"#19d3f3\", \"#FF6692\", \"#B6E880\", \"#FF97FF\", \"#FECB52\"], \"font\": {\"color\": \"#2a3f5f\"}, \"geo\": {\"bgcolor\": \"white\", \"lakecolor\": \"white\", \"landcolor\": \"#E5ECF6\", \"showlakes\": true, \"showland\": true, \"subunitcolor\": \"white\"}, \"hoverlabel\": {\"align\": \"left\"}, \"hovermode\": \"closest\", \"mapbox\": {\"style\": \"light\"}, \"paper_bgcolor\": \"white\", \"plot_bgcolor\": \"#E5ECF6\", \"polar\": {\"angularaxis\": {\"gridcolor\": \"white\", \"linecolor\": \"white\", \"ticks\": \"\"}, \"bgcolor\": \"#E5ECF6\", \"radialaxis\": {\"gridcolor\": \"white\", \"linecolor\": \"white\", \"ticks\": \"\"}}, \"scene\": {\"xaxis\": {\"backgroundcolor\": \"#E5ECF6\", \"gridcolor\": \"white\", \"gridwidth\": 2, \"linecolor\": \"white\", \"showbackground\": true, \"ticks\": \"\", \"zerolinecolor\": \"white\"}, \"yaxis\": {\"backgroundcolor\": \"#E5ECF6\", \"gridcolor\": \"white\", \"gridwidth\": 2, \"linecolor\": \"white\", \"showbackground\": true, \"ticks\": \"\", \"zerolinecolor\": \"white\"}, \"zaxis\": {\"backgroundcolor\": \"#E5ECF6\", \"gridcolor\": \"white\", \"gridwidth\": 2, \"linecolor\": \"white\", \"showbackground\": true, \"ticks\": \"\", \"zerolinecolor\": \"white\"}}, \"shapedefaults\": {\"line\": {\"color\": \"#2a3f5f\"}}, \"ternary\": {\"aaxis\": {\"gridcolor\": \"white\", \"linecolor\": \"white\", \"ticks\": \"\"}, \"baxis\": {\"gridcolor\": \"white\", \"linecolor\": \"white\", \"ticks\": \"\"}, \"bgcolor\": \"#E5ECF6\", \"caxis\": {\"gridcolor\": \"white\", \"linecolor\": \"white\", \"ticks\": \"\"}}, \"title\": {\"x\": 0.05}, \"xaxis\": {\"automargin\": true, \"gridcolor\": \"white\", \"linecolor\": \"white\", \"ticks\": \"\", \"title\": {\"standoff\": 15}, \"zerolinecolor\": \"white\", \"zerolinewidth\": 2}, \"yaxis\": {\"automargin\": true, \"gridcolor\": \"white\", \"linecolor\": \"white\", \"ticks\": \"\", \"title\": {\"standoff\": 15}, \"zerolinecolor\": \"white\", \"zerolinewidth\": 2}}}, \"title\": {\"font\": {\"color\": \"#4D5663\"}}, \"xaxis\": {\"gridcolor\": \"#E1E5ED\", \"showgrid\": true, \"tickfont\": {\"color\": \"#4D5663\"}, \"title\": {\"font\": {\"color\": \"#4D5663\"}, \"text\": \"\"}, \"zerolinecolor\": \"#E1E5ED\"}, \"yaxis\": {\"gridcolor\": \"#E1E5ED\", \"showgrid\": true, \"tickfont\": {\"color\": \"#4D5663\"}, \"title\": {\"font\": {\"color\": \"#4D5663\"}, \"text\": \"\"}, \"zerolinecolor\": \"#E1E5ED\"}},\n",
       "                        {\"showLink\": true, \"linkText\": \"Export to plot.ly\", \"plotlyServerURL\": \"https://plot.ly\", \"responsive\": true}\n",
       "                    ).then(function(){\n",
       "                            \n",
       "var gd = document.getElementById('a7db010f-c27e-45a6-add5-c32d3c2f3a3d');\n",
       "var x = new MutationObserver(function (mutations, observer) {{\n",
       "        var display = window.getComputedStyle(gd).display;\n",
       "        if (!display || display === 'none') {{\n",
       "            console.log([gd, 'removed!']);\n",
       "            Plotly.purge(gd);\n",
       "            observer.disconnect();\n",
       "        }}\n",
       "}});\n",
       "\n",
       "// Listen for the removal of the full notebook cells\n",
       "var notebookContainer = gd.closest('#notebook-container');\n",
       "if (notebookContainer) {{\n",
       "    x.observe(notebookContainer, {childList: true});\n",
       "}}\n",
       "\n",
       "// Listen for the clearing of the current output cell\n",
       "var outputEl = gd.closest('.output');\n",
       "if (outputEl) {{\n",
       "    x.observe(outputEl, {childList: true});\n",
       "}}\n",
       "\n",
       "                        })\n",
       "                };\n",
       "                });\n",
       "            </script>\n",
       "        </div>"
      ]
     },
     "metadata": {},
     "output_type": "display_data"
    }
   ],
   "source": [
    "df.iplot(kind='scatter',x='A',y='B',mode='markers')"
   ]
  },
  {
   "cell_type": "code",
   "execution_count": 21,
   "metadata": {},
   "outputs": [
    {
     "data": {
      "application/vnd.plotly.v1+json": {
       "config": {
        "linkText": "Export to plot.ly",
        "plotlyServerURL": "https://plot.ly",
        "showLink": true
       },
       "data": [
        {
         "line": {
          "color": "rgba(255, 153, 51, 1.0)",
          "dash": "solid",
          "shape": "linear",
          "width": 1.3
         },
         "marker": {
          "size": 20,
          "symbol": "circle"
         },
         "mode": "markers",
         "name": "B",
         "text": "",
         "type": "scatter",
         "x": [
          -0.171640601897393,
          -0.43651310026760143,
          0.1915612390123302,
          -1.056703312019151,
          0.4223324960551365,
          1.2877468203367912,
          -0.5709727518406853,
          2.1648676554773516,
          -1.2710537136872033,
          0.16778935785866875,
          1.0923398653718392,
          0.4925306791099881,
          -0.703668513206629,
          -1.4524459966421268,
          -1.2744387261513341,
          0.48551604613423355,
          -0.08955322711220023,
          -0.29027573121328615,
          0.7745650160804478,
          -1.1099619262798022,
          -1.9683383872344231,
          -0.29436352576008007,
          -0.6114534149828592,
          -0.6016002569315776,
          0.6621081449698877,
          0.21266807621964742,
          -0.14196204190623365,
          0.8455808080508328,
          2.218513523093423,
          1.225509030816993,
          -0.05744835346384874,
          -0.11673789320091013,
          -0.30301635565632434,
          -0.6627327489766144,
          -0.294755132084432,
          -0.133052082126597,
          -0.7027262561520775,
          0.21363941721995688,
          0.7533029620632767,
          0.9161599146948339,
          -0.38695616486884626,
          0.19596958959686875,
          2.1597457209110167,
          1.6330219307099394,
          -0.053064503558190354,
          0.6603445747130693,
          0.3207945904648976,
          -1.1050354243244225,
          1.5637954578971218,
          1.2541918745480611,
          -2.095064611555383,
          -0.7845842103111716,
          -0.19468049802855614,
          -0.4014548287149151,
          0.3407950800545804,
          0.03272595875779687,
          -1.3056241417427392,
          0.7438543233795972,
          -1.3227506872869208,
          1.0784707979095176,
          -0.815334722857213,
          -0.5373819359409527,
          -1.0606203281249487,
          0.441700587416723,
          -0.32878279305935415,
          -0.46581137917888865,
          -1.0904053135674916,
          -1.26924927808231,
          0.31270617806826667,
          0.6970749712875615,
          0.3153736148451356,
          -0.45080146910650637,
          -0.2720063615339261,
          1.4044677356602207,
          -0.019348041080346393,
          1.1049428128294767,
          -2.377128291270848,
          -1.5073793637973727,
          -0.926666748211941,
          1.8579700229276017,
          -1.2116095443091348,
          0.8236413783722552,
          -0.32430248425442165,
          2.0906677707983916,
          -0.7044681959680065,
          -0.1546026406012769,
          -0.9385406062305209,
          -0.8692498584291668,
          -2.3768058600922677,
          -2.4065090278566914,
          1.7172860060023276,
          0.16700914108697476,
          -1.0892987171083033,
          1.1821925982620303,
          0.3761064908178598,
          -0.6081613870137292,
          0.5683748477954369,
          -0.2666353852917895,
          0.9020386387275965,
          0.22303842334880358
         ],
         "y": [
          0.5484513444208927,
          -2.3254372400024663,
          -0.17768498503930882,
          -0.0413575571659648,
          1.0377678595702458,
          -0.7116014651027107,
          0.26857162154881,
          1.5290566395723573,
          -0.2567586755527022,
          -0.357121113255171,
          0.8094544672338446,
          -0.18796083964617127,
          -0.027477640202128045,
          -0.11870292311303313,
          -2.269461527526842,
          1.5955328577357266,
          -0.8644545357821648,
          -1.8642968220350373,
          0.09017916692978532,
          -1.344766726938334,
          1.1745824220442214,
          -0.8414367236253527,
          -0.7884004277579315,
          -0.1489331864549383,
          0.7728688387695918,
          -2.1409153230074534,
          0.34821592049908134,
          -0.27498245733340865,
          0.6490421722801153,
          -0.3095015003082018,
          1.3755435096077888,
          0.5295635663635087,
          0.3035655123758679,
          -0.15702303716074245,
          1.1704292564472734,
          -1.52193050513255,
          -0.17304696512117046,
          0.500742618651033,
          -2.411263379463824,
          -0.2764586244288876,
          -0.9354022868432563,
          1.6180987037807752,
          -0.5850556670966817,
          0.8064515288677078,
          -0.1925316499670654,
          2.1249498691984603,
          0.28824678756934996,
          1.0808924511417874,
          -1.0991069038596877,
          2.8523270968784757,
          -0.1462276160136622,
          -0.7269456317989939,
          1.009683169084365,
          -0.9128087165867703,
          2.739386314769789,
          -1.3757622114686658,
          1.4407905278507112,
          -2.1437891180414965,
          -0.8685438816408083,
          -1.0684204255937035,
          -1.3909622043143515,
          -1.708519617763413,
          -1.033225258404668,
          -0.9273179566800895,
          0.9622755612144613,
          0.4036958283171158,
          -2.066620915349806,
          -0.5313498777603,
          -0.37213553235231156,
          0.5566243901674788,
          0.46809411497026965,
          0.03231282758546965,
          1.5950315245268063,
          -0.8677057971639819,
          0.5934132541166431,
          0.6665791844271618,
          -1.070293341617307,
          0.23247746328414118,
          0.1636105945212715,
          1.3847638680189123,
          -0.7468787389615569,
          -0.6336863846695935,
          -0.15418321052239078,
          -0.022964779182480508,
          0.13067056650667006,
          -0.8346647281545524,
          -0.08276756281076375,
          -0.23593108329391443,
          1.4223691939157483,
          -1.475177034806321,
          -0.5631133271333681,
          -0.9498587583942311,
          -1.1180928581281955,
          -1.9290450825993415,
          0.22878195896987918,
          -1.16846732408735,
          -1.201800804545687,
          0.6324538976960572,
          -0.1723277128840355,
          0.2296303534317323
         ]
        }
       ],
       "layout": {
        "legend": {
         "bgcolor": "#F5F6F9",
         "font": {
          "color": "#4D5663"
         }
        },
        "paper_bgcolor": "#F5F6F9",
        "plot_bgcolor": "#F5F6F9",
        "template": {
         "data": {
          "bar": [
           {
            "error_x": {
             "color": "#2a3f5f"
            },
            "error_y": {
             "color": "#2a3f5f"
            },
            "marker": {
             "line": {
              "color": "#E5ECF6",
              "width": 0.5
             }
            },
            "type": "bar"
           }
          ],
          "barpolar": [
           {
            "marker": {
             "line": {
              "color": "#E5ECF6",
              "width": 0.5
             }
            },
            "type": "barpolar"
           }
          ],
          "carpet": [
           {
            "aaxis": {
             "endlinecolor": "#2a3f5f",
             "gridcolor": "white",
             "linecolor": "white",
             "minorgridcolor": "white",
             "startlinecolor": "#2a3f5f"
            },
            "baxis": {
             "endlinecolor": "#2a3f5f",
             "gridcolor": "white",
             "linecolor": "white",
             "minorgridcolor": "white",
             "startlinecolor": "#2a3f5f"
            },
            "type": "carpet"
           }
          ],
          "choropleth": [
           {
            "colorbar": {
             "outlinewidth": 0,
             "ticks": ""
            },
            "type": "choropleth"
           }
          ],
          "contour": [
           {
            "colorbar": {
             "outlinewidth": 0,
             "ticks": ""
            },
            "colorscale": [
             [
              0,
              "#0d0887"
             ],
             [
              0.1111111111111111,
              "#46039f"
             ],
             [
              0.2222222222222222,
              "#7201a8"
             ],
             [
              0.3333333333333333,
              "#9c179e"
             ],
             [
              0.4444444444444444,
              "#bd3786"
             ],
             [
              0.5555555555555556,
              "#d8576b"
             ],
             [
              0.6666666666666666,
              "#ed7953"
             ],
             [
              0.7777777777777778,
              "#fb9f3a"
             ],
             [
              0.8888888888888888,
              "#fdca26"
             ],
             [
              1,
              "#f0f921"
             ]
            ],
            "type": "contour"
           }
          ],
          "contourcarpet": [
           {
            "colorbar": {
             "outlinewidth": 0,
             "ticks": ""
            },
            "type": "contourcarpet"
           }
          ],
          "heatmap": [
           {
            "colorbar": {
             "outlinewidth": 0,
             "ticks": ""
            },
            "colorscale": [
             [
              0,
              "#0d0887"
             ],
             [
              0.1111111111111111,
              "#46039f"
             ],
             [
              0.2222222222222222,
              "#7201a8"
             ],
             [
              0.3333333333333333,
              "#9c179e"
             ],
             [
              0.4444444444444444,
              "#bd3786"
             ],
             [
              0.5555555555555556,
              "#d8576b"
             ],
             [
              0.6666666666666666,
              "#ed7953"
             ],
             [
              0.7777777777777778,
              "#fb9f3a"
             ],
             [
              0.8888888888888888,
              "#fdca26"
             ],
             [
              1,
              "#f0f921"
             ]
            ],
            "type": "heatmap"
           }
          ],
          "heatmapgl": [
           {
            "colorbar": {
             "outlinewidth": 0,
             "ticks": ""
            },
            "colorscale": [
             [
              0,
              "#0d0887"
             ],
             [
              0.1111111111111111,
              "#46039f"
             ],
             [
              0.2222222222222222,
              "#7201a8"
             ],
             [
              0.3333333333333333,
              "#9c179e"
             ],
             [
              0.4444444444444444,
              "#bd3786"
             ],
             [
              0.5555555555555556,
              "#d8576b"
             ],
             [
              0.6666666666666666,
              "#ed7953"
             ],
             [
              0.7777777777777778,
              "#fb9f3a"
             ],
             [
              0.8888888888888888,
              "#fdca26"
             ],
             [
              1,
              "#f0f921"
             ]
            ],
            "type": "heatmapgl"
           }
          ],
          "histogram": [
           {
            "marker": {
             "colorbar": {
              "outlinewidth": 0,
              "ticks": ""
             }
            },
            "type": "histogram"
           }
          ],
          "histogram2d": [
           {
            "colorbar": {
             "outlinewidth": 0,
             "ticks": ""
            },
            "colorscale": [
             [
              0,
              "#0d0887"
             ],
             [
              0.1111111111111111,
              "#46039f"
             ],
             [
              0.2222222222222222,
              "#7201a8"
             ],
             [
              0.3333333333333333,
              "#9c179e"
             ],
             [
              0.4444444444444444,
              "#bd3786"
             ],
             [
              0.5555555555555556,
              "#d8576b"
             ],
             [
              0.6666666666666666,
              "#ed7953"
             ],
             [
              0.7777777777777778,
              "#fb9f3a"
             ],
             [
              0.8888888888888888,
              "#fdca26"
             ],
             [
              1,
              "#f0f921"
             ]
            ],
            "type": "histogram2d"
           }
          ],
          "histogram2dcontour": [
           {
            "colorbar": {
             "outlinewidth": 0,
             "ticks": ""
            },
            "colorscale": [
             [
              0,
              "#0d0887"
             ],
             [
              0.1111111111111111,
              "#46039f"
             ],
             [
              0.2222222222222222,
              "#7201a8"
             ],
             [
              0.3333333333333333,
              "#9c179e"
             ],
             [
              0.4444444444444444,
              "#bd3786"
             ],
             [
              0.5555555555555556,
              "#d8576b"
             ],
             [
              0.6666666666666666,
              "#ed7953"
             ],
             [
              0.7777777777777778,
              "#fb9f3a"
             ],
             [
              0.8888888888888888,
              "#fdca26"
             ],
             [
              1,
              "#f0f921"
             ]
            ],
            "type": "histogram2dcontour"
           }
          ],
          "mesh3d": [
           {
            "colorbar": {
             "outlinewidth": 0,
             "ticks": ""
            },
            "type": "mesh3d"
           }
          ],
          "parcoords": [
           {
            "line": {
             "colorbar": {
              "outlinewidth": 0,
              "ticks": ""
             }
            },
            "type": "parcoords"
           }
          ],
          "pie": [
           {
            "automargin": true,
            "type": "pie"
           }
          ],
          "scatter": [
           {
            "marker": {
             "colorbar": {
              "outlinewidth": 0,
              "ticks": ""
             }
            },
            "type": "scatter"
           }
          ],
          "scatter3d": [
           {
            "line": {
             "colorbar": {
              "outlinewidth": 0,
              "ticks": ""
             }
            },
            "marker": {
             "colorbar": {
              "outlinewidth": 0,
              "ticks": ""
             }
            },
            "type": "scatter3d"
           }
          ],
          "scattercarpet": [
           {
            "marker": {
             "colorbar": {
              "outlinewidth": 0,
              "ticks": ""
             }
            },
            "type": "scattercarpet"
           }
          ],
          "scattergeo": [
           {
            "marker": {
             "colorbar": {
              "outlinewidth": 0,
              "ticks": ""
             }
            },
            "type": "scattergeo"
           }
          ],
          "scattergl": [
           {
            "marker": {
             "colorbar": {
              "outlinewidth": 0,
              "ticks": ""
             }
            },
            "type": "scattergl"
           }
          ],
          "scattermapbox": [
           {
            "marker": {
             "colorbar": {
              "outlinewidth": 0,
              "ticks": ""
             }
            },
            "type": "scattermapbox"
           }
          ],
          "scatterpolar": [
           {
            "marker": {
             "colorbar": {
              "outlinewidth": 0,
              "ticks": ""
             }
            },
            "type": "scatterpolar"
           }
          ],
          "scatterpolargl": [
           {
            "marker": {
             "colorbar": {
              "outlinewidth": 0,
              "ticks": ""
             }
            },
            "type": "scatterpolargl"
           }
          ],
          "scatterternary": [
           {
            "marker": {
             "colorbar": {
              "outlinewidth": 0,
              "ticks": ""
             }
            },
            "type": "scatterternary"
           }
          ],
          "surface": [
           {
            "colorbar": {
             "outlinewidth": 0,
             "ticks": ""
            },
            "colorscale": [
             [
              0,
              "#0d0887"
             ],
             [
              0.1111111111111111,
              "#46039f"
             ],
             [
              0.2222222222222222,
              "#7201a8"
             ],
             [
              0.3333333333333333,
              "#9c179e"
             ],
             [
              0.4444444444444444,
              "#bd3786"
             ],
             [
              0.5555555555555556,
              "#d8576b"
             ],
             [
              0.6666666666666666,
              "#ed7953"
             ],
             [
              0.7777777777777778,
              "#fb9f3a"
             ],
             [
              0.8888888888888888,
              "#fdca26"
             ],
             [
              1,
              "#f0f921"
             ]
            ],
            "type": "surface"
           }
          ],
          "table": [
           {
            "cells": {
             "fill": {
              "color": "#EBF0F8"
             },
             "line": {
              "color": "white"
             }
            },
            "header": {
             "fill": {
              "color": "#C8D4E3"
             },
             "line": {
              "color": "white"
             }
            },
            "type": "table"
           }
          ]
         },
         "layout": {
          "annotationdefaults": {
           "arrowcolor": "#2a3f5f",
           "arrowhead": 0,
           "arrowwidth": 1
          },
          "coloraxis": {
           "colorbar": {
            "outlinewidth": 0,
            "ticks": ""
           }
          },
          "colorscale": {
           "diverging": [
            [
             0,
             "#8e0152"
            ],
            [
             0.1,
             "#c51b7d"
            ],
            [
             0.2,
             "#de77ae"
            ],
            [
             0.3,
             "#f1b6da"
            ],
            [
             0.4,
             "#fde0ef"
            ],
            [
             0.5,
             "#f7f7f7"
            ],
            [
             0.6,
             "#e6f5d0"
            ],
            [
             0.7,
             "#b8e186"
            ],
            [
             0.8,
             "#7fbc41"
            ],
            [
             0.9,
             "#4d9221"
            ],
            [
             1,
             "#276419"
            ]
           ],
           "sequential": [
            [
             0,
             "#0d0887"
            ],
            [
             0.1111111111111111,
             "#46039f"
            ],
            [
             0.2222222222222222,
             "#7201a8"
            ],
            [
             0.3333333333333333,
             "#9c179e"
            ],
            [
             0.4444444444444444,
             "#bd3786"
            ],
            [
             0.5555555555555556,
             "#d8576b"
            ],
            [
             0.6666666666666666,
             "#ed7953"
            ],
            [
             0.7777777777777778,
             "#fb9f3a"
            ],
            [
             0.8888888888888888,
             "#fdca26"
            ],
            [
             1,
             "#f0f921"
            ]
           ],
           "sequentialminus": [
            [
             0,
             "#0d0887"
            ],
            [
             0.1111111111111111,
             "#46039f"
            ],
            [
             0.2222222222222222,
             "#7201a8"
            ],
            [
             0.3333333333333333,
             "#9c179e"
            ],
            [
             0.4444444444444444,
             "#bd3786"
            ],
            [
             0.5555555555555556,
             "#d8576b"
            ],
            [
             0.6666666666666666,
             "#ed7953"
            ],
            [
             0.7777777777777778,
             "#fb9f3a"
            ],
            [
             0.8888888888888888,
             "#fdca26"
            ],
            [
             1,
             "#f0f921"
            ]
           ]
          },
          "colorway": [
           "#636efa",
           "#EF553B",
           "#00cc96",
           "#ab63fa",
           "#FFA15A",
           "#19d3f3",
           "#FF6692",
           "#B6E880",
           "#FF97FF",
           "#FECB52"
          ],
          "font": {
           "color": "#2a3f5f"
          },
          "geo": {
           "bgcolor": "white",
           "lakecolor": "white",
           "landcolor": "#E5ECF6",
           "showlakes": true,
           "showland": true,
           "subunitcolor": "white"
          },
          "hoverlabel": {
           "align": "left"
          },
          "hovermode": "closest",
          "mapbox": {
           "style": "light"
          },
          "paper_bgcolor": "white",
          "plot_bgcolor": "#E5ECF6",
          "polar": {
           "angularaxis": {
            "gridcolor": "white",
            "linecolor": "white",
            "ticks": ""
           },
           "bgcolor": "#E5ECF6",
           "radialaxis": {
            "gridcolor": "white",
            "linecolor": "white",
            "ticks": ""
           }
          },
          "scene": {
           "xaxis": {
            "backgroundcolor": "#E5ECF6",
            "gridcolor": "white",
            "gridwidth": 2,
            "linecolor": "white",
            "showbackground": true,
            "ticks": "",
            "zerolinecolor": "white"
           },
           "yaxis": {
            "backgroundcolor": "#E5ECF6",
            "gridcolor": "white",
            "gridwidth": 2,
            "linecolor": "white",
            "showbackground": true,
            "ticks": "",
            "zerolinecolor": "white"
           },
           "zaxis": {
            "backgroundcolor": "#E5ECF6",
            "gridcolor": "white",
            "gridwidth": 2,
            "linecolor": "white",
            "showbackground": true,
            "ticks": "",
            "zerolinecolor": "white"
           }
          },
          "shapedefaults": {
           "line": {
            "color": "#2a3f5f"
           }
          },
          "ternary": {
           "aaxis": {
            "gridcolor": "white",
            "linecolor": "white",
            "ticks": ""
           },
           "baxis": {
            "gridcolor": "white",
            "linecolor": "white",
            "ticks": ""
           },
           "bgcolor": "#E5ECF6",
           "caxis": {
            "gridcolor": "white",
            "linecolor": "white",
            "ticks": ""
           }
          },
          "title": {
           "x": 0.05
          },
          "xaxis": {
           "automargin": true,
           "gridcolor": "white",
           "linecolor": "white",
           "ticks": "",
           "title": {
            "standoff": 15
           },
           "zerolinecolor": "white",
           "zerolinewidth": 2
          },
          "yaxis": {
           "automargin": true,
           "gridcolor": "white",
           "linecolor": "white",
           "ticks": "",
           "title": {
            "standoff": 15
           },
           "zerolinecolor": "white",
           "zerolinewidth": 2
          }
         }
        },
        "title": {
         "font": {
          "color": "#4D5663"
         }
        },
        "xaxis": {
         "gridcolor": "#E1E5ED",
         "showgrid": true,
         "tickfont": {
          "color": "#4D5663"
         },
         "title": {
          "font": {
           "color": "#4D5663"
          },
          "text": ""
         },
         "zerolinecolor": "#E1E5ED"
        },
        "yaxis": {
         "gridcolor": "#E1E5ED",
         "showgrid": true,
         "tickfont": {
          "color": "#4D5663"
         },
         "title": {
          "font": {
           "color": "#4D5663"
          },
          "text": ""
         },
         "zerolinecolor": "#E1E5ED"
        }
       }
      },
      "text/html": [
       "<div>\n",
       "        \n",
       "        \n",
       "            <div id=\"1f0e6f60-01ff-4f8a-ac69-6421b7b60263\" class=\"plotly-graph-div\" style=\"height:525px; width:100%;\"></div>\n",
       "            <script type=\"text/javascript\">\n",
       "                require([\"plotly\"], function(Plotly) {\n",
       "                    window.PLOTLYENV=window.PLOTLYENV || {};\n",
       "                    window.PLOTLYENV.BASE_URL='https://plot.ly';\n",
       "                    \n",
       "                if (document.getElementById(\"1f0e6f60-01ff-4f8a-ac69-6421b7b60263\")) {\n",
       "                    Plotly.newPlot(\n",
       "                        '1f0e6f60-01ff-4f8a-ac69-6421b7b60263',\n",
       "                        [{\"line\": {\"color\": \"rgba(255, 153, 51, 1.0)\", \"dash\": \"solid\", \"shape\": \"linear\", \"width\": 1.3}, \"marker\": {\"size\": 20, \"symbol\": \"circle\"}, \"mode\": \"markers\", \"name\": \"B\", \"text\": \"\", \"type\": \"scatter\", \"x\": [-0.171640601897393, -0.43651310026760143, 0.1915612390123302, -1.056703312019151, 0.4223324960551365, 1.2877468203367912, -0.5709727518406853, 2.1648676554773516, -1.2710537136872033, 0.16778935785866875, 1.0923398653718392, 0.4925306791099881, -0.703668513206629, -1.4524459966421268, -1.2744387261513341, 0.48551604613423355, -0.08955322711220023, -0.29027573121328615, 0.7745650160804478, -1.1099619262798022, -1.9683383872344231, -0.29436352576008007, -0.6114534149828592, -0.6016002569315776, 0.6621081449698877, 0.21266807621964742, -0.14196204190623365, 0.8455808080508328, 2.218513523093423, 1.225509030816993, -0.05744835346384874, -0.11673789320091013, -0.30301635565632434, -0.6627327489766144, -0.294755132084432, -0.133052082126597, -0.7027262561520775, 0.21363941721995688, 0.7533029620632767, 0.9161599146948339, -0.38695616486884626, 0.19596958959686875, 2.1597457209110167, 1.6330219307099394, -0.053064503558190354, 0.6603445747130693, 0.3207945904648976, -1.1050354243244225, 1.5637954578971218, 1.2541918745480611, -2.095064611555383, -0.7845842103111716, -0.19468049802855614, -0.4014548287149151, 0.3407950800545804, 0.03272595875779687, -1.3056241417427392, 0.7438543233795972, -1.3227506872869208, 1.0784707979095176, -0.815334722857213, -0.5373819359409527, -1.0606203281249487, 0.441700587416723, -0.32878279305935415, -0.46581137917888865, -1.0904053135674916, -1.26924927808231, 0.31270617806826667, 0.6970749712875615, 0.3153736148451356, -0.45080146910650637, -0.2720063615339261, 1.4044677356602207, -0.019348041080346393, 1.1049428128294767, -2.377128291270848, -1.5073793637973727, -0.926666748211941, 1.8579700229276017, -1.2116095443091348, 0.8236413783722552, -0.32430248425442165, 2.0906677707983916, -0.7044681959680065, -0.1546026406012769, -0.9385406062305209, -0.8692498584291668, -2.3768058600922677, -2.4065090278566914, 1.7172860060023276, 0.16700914108697476, -1.0892987171083033, 1.1821925982620303, 0.3761064908178598, -0.6081613870137292, 0.5683748477954369, -0.2666353852917895, 0.9020386387275965, 0.22303842334880358], \"y\": [0.5484513444208927, -2.3254372400024663, -0.17768498503930882, -0.0413575571659648, 1.0377678595702458, -0.7116014651027107, 0.26857162154881, 1.5290566395723573, -0.2567586755527022, -0.357121113255171, 0.8094544672338446, -0.18796083964617127, -0.027477640202128045, -0.11870292311303313, -2.269461527526842, 1.5955328577357266, -0.8644545357821648, -1.8642968220350373, 0.09017916692978532, -1.344766726938334, 1.1745824220442214, -0.8414367236253527, -0.7884004277579315, -0.1489331864549383, 0.7728688387695918, -2.1409153230074534, 0.34821592049908134, -0.27498245733340865, 0.6490421722801153, -0.3095015003082018, 1.3755435096077888, 0.5295635663635087, 0.3035655123758679, -0.15702303716074245, 1.1704292564472734, -1.52193050513255, -0.17304696512117046, 0.500742618651033, -2.411263379463824, -0.2764586244288876, -0.9354022868432563, 1.6180987037807752, -0.5850556670966817, 0.8064515288677078, -0.1925316499670654, 2.1249498691984603, 0.28824678756934996, 1.0808924511417874, -1.0991069038596877, 2.8523270968784757, -0.1462276160136622, -0.7269456317989939, 1.009683169084365, -0.9128087165867703, 2.739386314769789, -1.3757622114686658, 1.4407905278507112, -2.1437891180414965, -0.8685438816408083, -1.0684204255937035, -1.3909622043143515, -1.708519617763413, -1.033225258404668, -0.9273179566800895, 0.9622755612144613, 0.4036958283171158, -2.066620915349806, -0.5313498777603, -0.37213553235231156, 0.5566243901674788, 0.46809411497026965, 0.03231282758546965, 1.5950315245268063, -0.8677057971639819, 0.5934132541166431, 0.6665791844271618, -1.070293341617307, 0.23247746328414118, 0.1636105945212715, 1.3847638680189123, -0.7468787389615569, -0.6336863846695935, -0.15418321052239078, -0.022964779182480508, 0.13067056650667006, -0.8346647281545524, -0.08276756281076375, -0.23593108329391443, 1.4223691939157483, -1.475177034806321, -0.5631133271333681, -0.9498587583942311, -1.1180928581281955, -1.9290450825993415, 0.22878195896987918, -1.16846732408735, -1.201800804545687, 0.6324538976960572, -0.1723277128840355, 0.2296303534317323]}],\n",
       "                        {\"legend\": {\"bgcolor\": \"#F5F6F9\", \"font\": {\"color\": \"#4D5663\"}}, \"paper_bgcolor\": \"#F5F6F9\", \"plot_bgcolor\": \"#F5F6F9\", \"template\": {\"data\": {\"bar\": [{\"error_x\": {\"color\": \"#2a3f5f\"}, \"error_y\": {\"color\": \"#2a3f5f\"}, \"marker\": {\"line\": {\"color\": \"#E5ECF6\", \"width\": 0.5}}, \"type\": \"bar\"}], \"barpolar\": [{\"marker\": {\"line\": {\"color\": \"#E5ECF6\", \"width\": 0.5}}, \"type\": \"barpolar\"}], \"carpet\": [{\"aaxis\": {\"endlinecolor\": \"#2a3f5f\", \"gridcolor\": \"white\", \"linecolor\": \"white\", \"minorgridcolor\": \"white\", \"startlinecolor\": \"#2a3f5f\"}, \"baxis\": {\"endlinecolor\": \"#2a3f5f\", \"gridcolor\": \"white\", \"linecolor\": \"white\", \"minorgridcolor\": \"white\", \"startlinecolor\": \"#2a3f5f\"}, \"type\": \"carpet\"}], \"choropleth\": [{\"colorbar\": {\"outlinewidth\": 0, \"ticks\": \"\"}, \"type\": \"choropleth\"}], \"contour\": [{\"colorbar\": {\"outlinewidth\": 0, \"ticks\": \"\"}, \"colorscale\": [[0.0, \"#0d0887\"], [0.1111111111111111, \"#46039f\"], [0.2222222222222222, \"#7201a8\"], [0.3333333333333333, \"#9c179e\"], [0.4444444444444444, \"#bd3786\"], [0.5555555555555556, \"#d8576b\"], [0.6666666666666666, \"#ed7953\"], [0.7777777777777778, \"#fb9f3a\"], [0.8888888888888888, \"#fdca26\"], [1.0, \"#f0f921\"]], \"type\": \"contour\"}], \"contourcarpet\": [{\"colorbar\": {\"outlinewidth\": 0, \"ticks\": \"\"}, \"type\": \"contourcarpet\"}], \"heatmap\": [{\"colorbar\": {\"outlinewidth\": 0, \"ticks\": \"\"}, \"colorscale\": [[0.0, \"#0d0887\"], [0.1111111111111111, \"#46039f\"], [0.2222222222222222, \"#7201a8\"], [0.3333333333333333, \"#9c179e\"], [0.4444444444444444, \"#bd3786\"], [0.5555555555555556, \"#d8576b\"], [0.6666666666666666, \"#ed7953\"], [0.7777777777777778, \"#fb9f3a\"], [0.8888888888888888, \"#fdca26\"], [1.0, \"#f0f921\"]], \"type\": \"heatmap\"}], \"heatmapgl\": [{\"colorbar\": {\"outlinewidth\": 0, \"ticks\": \"\"}, \"colorscale\": [[0.0, \"#0d0887\"], [0.1111111111111111, \"#46039f\"], [0.2222222222222222, \"#7201a8\"], [0.3333333333333333, \"#9c179e\"], [0.4444444444444444, \"#bd3786\"], [0.5555555555555556, \"#d8576b\"], [0.6666666666666666, \"#ed7953\"], [0.7777777777777778, \"#fb9f3a\"], [0.8888888888888888, \"#fdca26\"], [1.0, \"#f0f921\"]], \"type\": \"heatmapgl\"}], \"histogram\": [{\"marker\": {\"colorbar\": {\"outlinewidth\": 0, \"ticks\": \"\"}}, \"type\": \"histogram\"}], \"histogram2d\": [{\"colorbar\": {\"outlinewidth\": 0, \"ticks\": \"\"}, \"colorscale\": [[0.0, \"#0d0887\"], [0.1111111111111111, \"#46039f\"], [0.2222222222222222, \"#7201a8\"], [0.3333333333333333, \"#9c179e\"], [0.4444444444444444, \"#bd3786\"], [0.5555555555555556, \"#d8576b\"], [0.6666666666666666, \"#ed7953\"], [0.7777777777777778, \"#fb9f3a\"], [0.8888888888888888, \"#fdca26\"], [1.0, \"#f0f921\"]], \"type\": \"histogram2d\"}], \"histogram2dcontour\": [{\"colorbar\": {\"outlinewidth\": 0, \"ticks\": \"\"}, \"colorscale\": [[0.0, \"#0d0887\"], [0.1111111111111111, \"#46039f\"], [0.2222222222222222, \"#7201a8\"], [0.3333333333333333, \"#9c179e\"], [0.4444444444444444, \"#bd3786\"], [0.5555555555555556, \"#d8576b\"], [0.6666666666666666, \"#ed7953\"], [0.7777777777777778, \"#fb9f3a\"], [0.8888888888888888, \"#fdca26\"], [1.0, \"#f0f921\"]], \"type\": \"histogram2dcontour\"}], \"mesh3d\": [{\"colorbar\": {\"outlinewidth\": 0, \"ticks\": \"\"}, \"type\": \"mesh3d\"}], \"parcoords\": [{\"line\": {\"colorbar\": {\"outlinewidth\": 0, \"ticks\": \"\"}}, \"type\": \"parcoords\"}], \"pie\": [{\"automargin\": true, \"type\": \"pie\"}], \"scatter\": [{\"marker\": {\"colorbar\": {\"outlinewidth\": 0, \"ticks\": \"\"}}, \"type\": \"scatter\"}], \"scatter3d\": [{\"line\": {\"colorbar\": {\"outlinewidth\": 0, \"ticks\": \"\"}}, \"marker\": {\"colorbar\": {\"outlinewidth\": 0, \"ticks\": \"\"}}, \"type\": \"scatter3d\"}], \"scattercarpet\": [{\"marker\": {\"colorbar\": {\"outlinewidth\": 0, \"ticks\": \"\"}}, \"type\": \"scattercarpet\"}], \"scattergeo\": [{\"marker\": {\"colorbar\": {\"outlinewidth\": 0, \"ticks\": \"\"}}, \"type\": \"scattergeo\"}], \"scattergl\": [{\"marker\": {\"colorbar\": {\"outlinewidth\": 0, \"ticks\": \"\"}}, \"type\": \"scattergl\"}], \"scattermapbox\": [{\"marker\": {\"colorbar\": {\"outlinewidth\": 0, \"ticks\": \"\"}}, \"type\": \"scattermapbox\"}], \"scatterpolar\": [{\"marker\": {\"colorbar\": {\"outlinewidth\": 0, \"ticks\": \"\"}}, \"type\": \"scatterpolar\"}], \"scatterpolargl\": [{\"marker\": {\"colorbar\": {\"outlinewidth\": 0, \"ticks\": \"\"}}, \"type\": \"scatterpolargl\"}], \"scatterternary\": [{\"marker\": {\"colorbar\": {\"outlinewidth\": 0, \"ticks\": \"\"}}, \"type\": \"scatterternary\"}], \"surface\": [{\"colorbar\": {\"outlinewidth\": 0, \"ticks\": \"\"}, \"colorscale\": [[0.0, \"#0d0887\"], [0.1111111111111111, \"#46039f\"], [0.2222222222222222, \"#7201a8\"], [0.3333333333333333, \"#9c179e\"], [0.4444444444444444, \"#bd3786\"], [0.5555555555555556, \"#d8576b\"], [0.6666666666666666, \"#ed7953\"], [0.7777777777777778, \"#fb9f3a\"], [0.8888888888888888, \"#fdca26\"], [1.0, \"#f0f921\"]], \"type\": \"surface\"}], \"table\": [{\"cells\": {\"fill\": {\"color\": \"#EBF0F8\"}, \"line\": {\"color\": \"white\"}}, \"header\": {\"fill\": {\"color\": \"#C8D4E3\"}, \"line\": {\"color\": \"white\"}}, \"type\": \"table\"}]}, \"layout\": {\"annotationdefaults\": {\"arrowcolor\": \"#2a3f5f\", \"arrowhead\": 0, \"arrowwidth\": 1}, \"coloraxis\": {\"colorbar\": {\"outlinewidth\": 0, \"ticks\": \"\"}}, \"colorscale\": {\"diverging\": [[0, \"#8e0152\"], [0.1, \"#c51b7d\"], [0.2, \"#de77ae\"], [0.3, \"#f1b6da\"], [0.4, \"#fde0ef\"], [0.5, \"#f7f7f7\"], [0.6, \"#e6f5d0\"], [0.7, \"#b8e186\"], [0.8, \"#7fbc41\"], [0.9, \"#4d9221\"], [1, \"#276419\"]], \"sequential\": [[0.0, \"#0d0887\"], [0.1111111111111111, \"#46039f\"], [0.2222222222222222, \"#7201a8\"], [0.3333333333333333, \"#9c179e\"], [0.4444444444444444, \"#bd3786\"], [0.5555555555555556, \"#d8576b\"], [0.6666666666666666, \"#ed7953\"], [0.7777777777777778, \"#fb9f3a\"], [0.8888888888888888, \"#fdca26\"], [1.0, \"#f0f921\"]], \"sequentialminus\": [[0.0, \"#0d0887\"], [0.1111111111111111, \"#46039f\"], [0.2222222222222222, \"#7201a8\"], [0.3333333333333333, \"#9c179e\"], [0.4444444444444444, \"#bd3786\"], [0.5555555555555556, \"#d8576b\"], [0.6666666666666666, \"#ed7953\"], [0.7777777777777778, \"#fb9f3a\"], [0.8888888888888888, \"#fdca26\"], [1.0, \"#f0f921\"]]}, \"colorway\": [\"#636efa\", \"#EF553B\", \"#00cc96\", \"#ab63fa\", \"#FFA15A\", \"#19d3f3\", \"#FF6692\", \"#B6E880\", \"#FF97FF\", \"#FECB52\"], \"font\": {\"color\": \"#2a3f5f\"}, \"geo\": {\"bgcolor\": \"white\", \"lakecolor\": \"white\", \"landcolor\": \"#E5ECF6\", \"showlakes\": true, \"showland\": true, \"subunitcolor\": \"white\"}, \"hoverlabel\": {\"align\": \"left\"}, \"hovermode\": \"closest\", \"mapbox\": {\"style\": \"light\"}, \"paper_bgcolor\": \"white\", \"plot_bgcolor\": \"#E5ECF6\", \"polar\": {\"angularaxis\": {\"gridcolor\": \"white\", \"linecolor\": \"white\", \"ticks\": \"\"}, \"bgcolor\": \"#E5ECF6\", \"radialaxis\": {\"gridcolor\": \"white\", \"linecolor\": \"white\", \"ticks\": \"\"}}, \"scene\": {\"xaxis\": {\"backgroundcolor\": \"#E5ECF6\", \"gridcolor\": \"white\", \"gridwidth\": 2, \"linecolor\": \"white\", \"showbackground\": true, \"ticks\": \"\", \"zerolinecolor\": \"white\"}, \"yaxis\": {\"backgroundcolor\": \"#E5ECF6\", \"gridcolor\": \"white\", \"gridwidth\": 2, \"linecolor\": \"white\", \"showbackground\": true, \"ticks\": \"\", \"zerolinecolor\": \"white\"}, \"zaxis\": {\"backgroundcolor\": \"#E5ECF6\", \"gridcolor\": \"white\", \"gridwidth\": 2, \"linecolor\": \"white\", \"showbackground\": true, \"ticks\": \"\", \"zerolinecolor\": \"white\"}}, \"shapedefaults\": {\"line\": {\"color\": \"#2a3f5f\"}}, \"ternary\": {\"aaxis\": {\"gridcolor\": \"white\", \"linecolor\": \"white\", \"ticks\": \"\"}, \"baxis\": {\"gridcolor\": \"white\", \"linecolor\": \"white\", \"ticks\": \"\"}, \"bgcolor\": \"#E5ECF6\", \"caxis\": {\"gridcolor\": \"white\", \"linecolor\": \"white\", \"ticks\": \"\"}}, \"title\": {\"x\": 0.05}, \"xaxis\": {\"automargin\": true, \"gridcolor\": \"white\", \"linecolor\": \"white\", \"ticks\": \"\", \"title\": {\"standoff\": 15}, \"zerolinecolor\": \"white\", \"zerolinewidth\": 2}, \"yaxis\": {\"automargin\": true, \"gridcolor\": \"white\", \"linecolor\": \"white\", \"ticks\": \"\", \"title\": {\"standoff\": 15}, \"zerolinecolor\": \"white\", \"zerolinewidth\": 2}}}, \"title\": {\"font\": {\"color\": \"#4D5663\"}}, \"xaxis\": {\"gridcolor\": \"#E1E5ED\", \"showgrid\": true, \"tickfont\": {\"color\": \"#4D5663\"}, \"title\": {\"font\": {\"color\": \"#4D5663\"}, \"text\": \"\"}, \"zerolinecolor\": \"#E1E5ED\"}, \"yaxis\": {\"gridcolor\": \"#E1E5ED\", \"showgrid\": true, \"tickfont\": {\"color\": \"#4D5663\"}, \"title\": {\"font\": {\"color\": \"#4D5663\"}, \"text\": \"\"}, \"zerolinecolor\": \"#E1E5ED\"}},\n",
       "                        {\"showLink\": true, \"linkText\": \"Export to plot.ly\", \"plotlyServerURL\": \"https://plot.ly\", \"responsive\": true}\n",
       "                    ).then(function(){\n",
       "                            \n",
       "var gd = document.getElementById('1f0e6f60-01ff-4f8a-ac69-6421b7b60263');\n",
       "var x = new MutationObserver(function (mutations, observer) {{\n",
       "        var display = window.getComputedStyle(gd).display;\n",
       "        if (!display || display === 'none') {{\n",
       "            console.log([gd, 'removed!']);\n",
       "            Plotly.purge(gd);\n",
       "            observer.disconnect();\n",
       "        }}\n",
       "}});\n",
       "\n",
       "// Listen for the removal of the full notebook cells\n",
       "var notebookContainer = gd.closest('#notebook-container');\n",
       "if (notebookContainer) {{\n",
       "    x.observe(notebookContainer, {childList: true});\n",
       "}}\n",
       "\n",
       "// Listen for the clearing of the current output cell\n",
       "var outputEl = gd.closest('.output');\n",
       "if (outputEl) {{\n",
       "    x.observe(outputEl, {childList: true});\n",
       "}}\n",
       "\n",
       "                        })\n",
       "                };\n",
       "                });\n",
       "            </script>\n",
       "        </div>"
      ]
     },
     "metadata": {},
     "output_type": "display_data"
    }
   ],
   "source": [
    "df.iplot(kind='scatter',x='A',y='B',mode='markers',size=20)"
   ]
  },
  {
   "cell_type": "code",
   "execution_count": 23,
   "metadata": {},
   "outputs": [
    {
     "data": {
      "application/vnd.plotly.v1+json": {
       "config": {
        "linkText": "Export to plot.ly",
        "plotlyServerURL": "https://plot.ly",
        "showLink": true
       },
       "data": [
        {
         "marker": {
          "color": "rgba(255, 153, 51, 0.6)",
          "line": {
           "color": "rgba(255, 153, 51, 1.0)",
           "width": 1
          }
         },
         "name": "Value",
         "orientation": "v",
         "text": "",
         "type": "bar",
         "x": [
          "A",
          "B",
          "C"
         ],
         "y": [
          32,
          43,
          50
         ]
        }
       ],
       "layout": {
        "legend": {
         "bgcolor": "#F5F6F9",
         "font": {
          "color": "#4D5663"
         }
        },
        "paper_bgcolor": "#F5F6F9",
        "plot_bgcolor": "#F5F6F9",
        "template": {
         "data": {
          "bar": [
           {
            "error_x": {
             "color": "#2a3f5f"
            },
            "error_y": {
             "color": "#2a3f5f"
            },
            "marker": {
             "line": {
              "color": "#E5ECF6",
              "width": 0.5
             }
            },
            "type": "bar"
           }
          ],
          "barpolar": [
           {
            "marker": {
             "line": {
              "color": "#E5ECF6",
              "width": 0.5
             }
            },
            "type": "barpolar"
           }
          ],
          "carpet": [
           {
            "aaxis": {
             "endlinecolor": "#2a3f5f",
             "gridcolor": "white",
             "linecolor": "white",
             "minorgridcolor": "white",
             "startlinecolor": "#2a3f5f"
            },
            "baxis": {
             "endlinecolor": "#2a3f5f",
             "gridcolor": "white",
             "linecolor": "white",
             "minorgridcolor": "white",
             "startlinecolor": "#2a3f5f"
            },
            "type": "carpet"
           }
          ],
          "choropleth": [
           {
            "colorbar": {
             "outlinewidth": 0,
             "ticks": ""
            },
            "type": "choropleth"
           }
          ],
          "contour": [
           {
            "colorbar": {
             "outlinewidth": 0,
             "ticks": ""
            },
            "colorscale": [
             [
              0,
              "#0d0887"
             ],
             [
              0.1111111111111111,
              "#46039f"
             ],
             [
              0.2222222222222222,
              "#7201a8"
             ],
             [
              0.3333333333333333,
              "#9c179e"
             ],
             [
              0.4444444444444444,
              "#bd3786"
             ],
             [
              0.5555555555555556,
              "#d8576b"
             ],
             [
              0.6666666666666666,
              "#ed7953"
             ],
             [
              0.7777777777777778,
              "#fb9f3a"
             ],
             [
              0.8888888888888888,
              "#fdca26"
             ],
             [
              1,
              "#f0f921"
             ]
            ],
            "type": "contour"
           }
          ],
          "contourcarpet": [
           {
            "colorbar": {
             "outlinewidth": 0,
             "ticks": ""
            },
            "type": "contourcarpet"
           }
          ],
          "heatmap": [
           {
            "colorbar": {
             "outlinewidth": 0,
             "ticks": ""
            },
            "colorscale": [
             [
              0,
              "#0d0887"
             ],
             [
              0.1111111111111111,
              "#46039f"
             ],
             [
              0.2222222222222222,
              "#7201a8"
             ],
             [
              0.3333333333333333,
              "#9c179e"
             ],
             [
              0.4444444444444444,
              "#bd3786"
             ],
             [
              0.5555555555555556,
              "#d8576b"
             ],
             [
              0.6666666666666666,
              "#ed7953"
             ],
             [
              0.7777777777777778,
              "#fb9f3a"
             ],
             [
              0.8888888888888888,
              "#fdca26"
             ],
             [
              1,
              "#f0f921"
             ]
            ],
            "type": "heatmap"
           }
          ],
          "heatmapgl": [
           {
            "colorbar": {
             "outlinewidth": 0,
             "ticks": ""
            },
            "colorscale": [
             [
              0,
              "#0d0887"
             ],
             [
              0.1111111111111111,
              "#46039f"
             ],
             [
              0.2222222222222222,
              "#7201a8"
             ],
             [
              0.3333333333333333,
              "#9c179e"
             ],
             [
              0.4444444444444444,
              "#bd3786"
             ],
             [
              0.5555555555555556,
              "#d8576b"
             ],
             [
              0.6666666666666666,
              "#ed7953"
             ],
             [
              0.7777777777777778,
              "#fb9f3a"
             ],
             [
              0.8888888888888888,
              "#fdca26"
             ],
             [
              1,
              "#f0f921"
             ]
            ],
            "type": "heatmapgl"
           }
          ],
          "histogram": [
           {
            "marker": {
             "colorbar": {
              "outlinewidth": 0,
              "ticks": ""
             }
            },
            "type": "histogram"
           }
          ],
          "histogram2d": [
           {
            "colorbar": {
             "outlinewidth": 0,
             "ticks": ""
            },
            "colorscale": [
             [
              0,
              "#0d0887"
             ],
             [
              0.1111111111111111,
              "#46039f"
             ],
             [
              0.2222222222222222,
              "#7201a8"
             ],
             [
              0.3333333333333333,
              "#9c179e"
             ],
             [
              0.4444444444444444,
              "#bd3786"
             ],
             [
              0.5555555555555556,
              "#d8576b"
             ],
             [
              0.6666666666666666,
              "#ed7953"
             ],
             [
              0.7777777777777778,
              "#fb9f3a"
             ],
             [
              0.8888888888888888,
              "#fdca26"
             ],
             [
              1,
              "#f0f921"
             ]
            ],
            "type": "histogram2d"
           }
          ],
          "histogram2dcontour": [
           {
            "colorbar": {
             "outlinewidth": 0,
             "ticks": ""
            },
            "colorscale": [
             [
              0,
              "#0d0887"
             ],
             [
              0.1111111111111111,
              "#46039f"
             ],
             [
              0.2222222222222222,
              "#7201a8"
             ],
             [
              0.3333333333333333,
              "#9c179e"
             ],
             [
              0.4444444444444444,
              "#bd3786"
             ],
             [
              0.5555555555555556,
              "#d8576b"
             ],
             [
              0.6666666666666666,
              "#ed7953"
             ],
             [
              0.7777777777777778,
              "#fb9f3a"
             ],
             [
              0.8888888888888888,
              "#fdca26"
             ],
             [
              1,
              "#f0f921"
             ]
            ],
            "type": "histogram2dcontour"
           }
          ],
          "mesh3d": [
           {
            "colorbar": {
             "outlinewidth": 0,
             "ticks": ""
            },
            "type": "mesh3d"
           }
          ],
          "parcoords": [
           {
            "line": {
             "colorbar": {
              "outlinewidth": 0,
              "ticks": ""
             }
            },
            "type": "parcoords"
           }
          ],
          "pie": [
           {
            "automargin": true,
            "type": "pie"
           }
          ],
          "scatter": [
           {
            "marker": {
             "colorbar": {
              "outlinewidth": 0,
              "ticks": ""
             }
            },
            "type": "scatter"
           }
          ],
          "scatter3d": [
           {
            "line": {
             "colorbar": {
              "outlinewidth": 0,
              "ticks": ""
             }
            },
            "marker": {
             "colorbar": {
              "outlinewidth": 0,
              "ticks": ""
             }
            },
            "type": "scatter3d"
           }
          ],
          "scattercarpet": [
           {
            "marker": {
             "colorbar": {
              "outlinewidth": 0,
              "ticks": ""
             }
            },
            "type": "scattercarpet"
           }
          ],
          "scattergeo": [
           {
            "marker": {
             "colorbar": {
              "outlinewidth": 0,
              "ticks": ""
             }
            },
            "type": "scattergeo"
           }
          ],
          "scattergl": [
           {
            "marker": {
             "colorbar": {
              "outlinewidth": 0,
              "ticks": ""
             }
            },
            "type": "scattergl"
           }
          ],
          "scattermapbox": [
           {
            "marker": {
             "colorbar": {
              "outlinewidth": 0,
              "ticks": ""
             }
            },
            "type": "scattermapbox"
           }
          ],
          "scatterpolar": [
           {
            "marker": {
             "colorbar": {
              "outlinewidth": 0,
              "ticks": ""
             }
            },
            "type": "scatterpolar"
           }
          ],
          "scatterpolargl": [
           {
            "marker": {
             "colorbar": {
              "outlinewidth": 0,
              "ticks": ""
             }
            },
            "type": "scatterpolargl"
           }
          ],
          "scatterternary": [
           {
            "marker": {
             "colorbar": {
              "outlinewidth": 0,
              "ticks": ""
             }
            },
            "type": "scatterternary"
           }
          ],
          "surface": [
           {
            "colorbar": {
             "outlinewidth": 0,
             "ticks": ""
            },
            "colorscale": [
             [
              0,
              "#0d0887"
             ],
             [
              0.1111111111111111,
              "#46039f"
             ],
             [
              0.2222222222222222,
              "#7201a8"
             ],
             [
              0.3333333333333333,
              "#9c179e"
             ],
             [
              0.4444444444444444,
              "#bd3786"
             ],
             [
              0.5555555555555556,
              "#d8576b"
             ],
             [
              0.6666666666666666,
              "#ed7953"
             ],
             [
              0.7777777777777778,
              "#fb9f3a"
             ],
             [
              0.8888888888888888,
              "#fdca26"
             ],
             [
              1,
              "#f0f921"
             ]
            ],
            "type": "surface"
           }
          ],
          "table": [
           {
            "cells": {
             "fill": {
              "color": "#EBF0F8"
             },
             "line": {
              "color": "white"
             }
            },
            "header": {
             "fill": {
              "color": "#C8D4E3"
             },
             "line": {
              "color": "white"
             }
            },
            "type": "table"
           }
          ]
         },
         "layout": {
          "annotationdefaults": {
           "arrowcolor": "#2a3f5f",
           "arrowhead": 0,
           "arrowwidth": 1
          },
          "coloraxis": {
           "colorbar": {
            "outlinewidth": 0,
            "ticks": ""
           }
          },
          "colorscale": {
           "diverging": [
            [
             0,
             "#8e0152"
            ],
            [
             0.1,
             "#c51b7d"
            ],
            [
             0.2,
             "#de77ae"
            ],
            [
             0.3,
             "#f1b6da"
            ],
            [
             0.4,
             "#fde0ef"
            ],
            [
             0.5,
             "#f7f7f7"
            ],
            [
             0.6,
             "#e6f5d0"
            ],
            [
             0.7,
             "#b8e186"
            ],
            [
             0.8,
             "#7fbc41"
            ],
            [
             0.9,
             "#4d9221"
            ],
            [
             1,
             "#276419"
            ]
           ],
           "sequential": [
            [
             0,
             "#0d0887"
            ],
            [
             0.1111111111111111,
             "#46039f"
            ],
            [
             0.2222222222222222,
             "#7201a8"
            ],
            [
             0.3333333333333333,
             "#9c179e"
            ],
            [
             0.4444444444444444,
             "#bd3786"
            ],
            [
             0.5555555555555556,
             "#d8576b"
            ],
            [
             0.6666666666666666,
             "#ed7953"
            ],
            [
             0.7777777777777778,
             "#fb9f3a"
            ],
            [
             0.8888888888888888,
             "#fdca26"
            ],
            [
             1,
             "#f0f921"
            ]
           ],
           "sequentialminus": [
            [
             0,
             "#0d0887"
            ],
            [
             0.1111111111111111,
             "#46039f"
            ],
            [
             0.2222222222222222,
             "#7201a8"
            ],
            [
             0.3333333333333333,
             "#9c179e"
            ],
            [
             0.4444444444444444,
             "#bd3786"
            ],
            [
             0.5555555555555556,
             "#d8576b"
            ],
            [
             0.6666666666666666,
             "#ed7953"
            ],
            [
             0.7777777777777778,
             "#fb9f3a"
            ],
            [
             0.8888888888888888,
             "#fdca26"
            ],
            [
             1,
             "#f0f921"
            ]
           ]
          },
          "colorway": [
           "#636efa",
           "#EF553B",
           "#00cc96",
           "#ab63fa",
           "#FFA15A",
           "#19d3f3",
           "#FF6692",
           "#B6E880",
           "#FF97FF",
           "#FECB52"
          ],
          "font": {
           "color": "#2a3f5f"
          },
          "geo": {
           "bgcolor": "white",
           "lakecolor": "white",
           "landcolor": "#E5ECF6",
           "showlakes": true,
           "showland": true,
           "subunitcolor": "white"
          },
          "hoverlabel": {
           "align": "left"
          },
          "hovermode": "closest",
          "mapbox": {
           "style": "light"
          },
          "paper_bgcolor": "white",
          "plot_bgcolor": "#E5ECF6",
          "polar": {
           "angularaxis": {
            "gridcolor": "white",
            "linecolor": "white",
            "ticks": ""
           },
           "bgcolor": "#E5ECF6",
           "radialaxis": {
            "gridcolor": "white",
            "linecolor": "white",
            "ticks": ""
           }
          },
          "scene": {
           "xaxis": {
            "backgroundcolor": "#E5ECF6",
            "gridcolor": "white",
            "gridwidth": 2,
            "linecolor": "white",
            "showbackground": true,
            "ticks": "",
            "zerolinecolor": "white"
           },
           "yaxis": {
            "backgroundcolor": "#E5ECF6",
            "gridcolor": "white",
            "gridwidth": 2,
            "linecolor": "white",
            "showbackground": true,
            "ticks": "",
            "zerolinecolor": "white"
           },
           "zaxis": {
            "backgroundcolor": "#E5ECF6",
            "gridcolor": "white",
            "gridwidth": 2,
            "linecolor": "white",
            "showbackground": true,
            "ticks": "",
            "zerolinecolor": "white"
           }
          },
          "shapedefaults": {
           "line": {
            "color": "#2a3f5f"
           }
          },
          "ternary": {
           "aaxis": {
            "gridcolor": "white",
            "linecolor": "white",
            "ticks": ""
           },
           "baxis": {
            "gridcolor": "white",
            "linecolor": "white",
            "ticks": ""
           },
           "bgcolor": "#E5ECF6",
           "caxis": {
            "gridcolor": "white",
            "linecolor": "white",
            "ticks": ""
           }
          },
          "title": {
           "x": 0.05
          },
          "xaxis": {
           "automargin": true,
           "gridcolor": "white",
           "linecolor": "white",
           "ticks": "",
           "title": {
            "standoff": 15
           },
           "zerolinecolor": "white",
           "zerolinewidth": 2
          },
          "yaxis": {
           "automargin": true,
           "gridcolor": "white",
           "linecolor": "white",
           "ticks": "",
           "title": {
            "standoff": 15
           },
           "zerolinecolor": "white",
           "zerolinewidth": 2
          }
         }
        },
        "title": {
         "font": {
          "color": "#4D5663"
         }
        },
        "xaxis": {
         "gridcolor": "#E1E5ED",
         "showgrid": true,
         "tickfont": {
          "color": "#4D5663"
         },
         "title": {
          "font": {
           "color": "#4D5663"
          },
          "text": ""
         },
         "zerolinecolor": "#E1E5ED"
        },
        "yaxis": {
         "gridcolor": "#E1E5ED",
         "showgrid": true,
         "tickfont": {
          "color": "#4D5663"
         },
         "title": {
          "font": {
           "color": "#4D5663"
          },
          "text": ""
         },
         "zerolinecolor": "#E1E5ED"
        }
       }
      },
      "text/html": [
       "<div>\n",
       "        \n",
       "        \n",
       "            <div id=\"bfef3c43-e16b-4fe3-81a4-1262dd1760df\" class=\"plotly-graph-div\" style=\"height:525px; width:100%;\"></div>\n",
       "            <script type=\"text/javascript\">\n",
       "                require([\"plotly\"], function(Plotly) {\n",
       "                    window.PLOTLYENV=window.PLOTLYENV || {};\n",
       "                    window.PLOTLYENV.BASE_URL='https://plot.ly';\n",
       "                    \n",
       "                if (document.getElementById(\"bfef3c43-e16b-4fe3-81a4-1262dd1760df\")) {\n",
       "                    Plotly.newPlot(\n",
       "                        'bfef3c43-e16b-4fe3-81a4-1262dd1760df',\n",
       "                        [{\"marker\": {\"color\": \"rgba(255, 153, 51, 0.6)\", \"line\": {\"color\": \"rgba(255, 153, 51, 1.0)\", \"width\": 1}}, \"name\": \"Value\", \"orientation\": \"v\", \"text\": \"\", \"type\": \"bar\", \"x\": [\"A\", \"B\", \"C\"], \"y\": [32, 43, 50]}],\n",
       "                        {\"legend\": {\"bgcolor\": \"#F5F6F9\", \"font\": {\"color\": \"#4D5663\"}}, \"paper_bgcolor\": \"#F5F6F9\", \"plot_bgcolor\": \"#F5F6F9\", \"template\": {\"data\": {\"bar\": [{\"error_x\": {\"color\": \"#2a3f5f\"}, \"error_y\": {\"color\": \"#2a3f5f\"}, \"marker\": {\"line\": {\"color\": \"#E5ECF6\", \"width\": 0.5}}, \"type\": \"bar\"}], \"barpolar\": [{\"marker\": {\"line\": {\"color\": \"#E5ECF6\", \"width\": 0.5}}, \"type\": \"barpolar\"}], \"carpet\": [{\"aaxis\": {\"endlinecolor\": \"#2a3f5f\", \"gridcolor\": \"white\", \"linecolor\": \"white\", \"minorgridcolor\": \"white\", \"startlinecolor\": \"#2a3f5f\"}, \"baxis\": {\"endlinecolor\": \"#2a3f5f\", \"gridcolor\": \"white\", \"linecolor\": \"white\", \"minorgridcolor\": \"white\", \"startlinecolor\": \"#2a3f5f\"}, \"type\": \"carpet\"}], \"choropleth\": [{\"colorbar\": {\"outlinewidth\": 0, \"ticks\": \"\"}, \"type\": \"choropleth\"}], \"contour\": [{\"colorbar\": {\"outlinewidth\": 0, \"ticks\": \"\"}, \"colorscale\": [[0.0, \"#0d0887\"], [0.1111111111111111, \"#46039f\"], [0.2222222222222222, \"#7201a8\"], [0.3333333333333333, \"#9c179e\"], [0.4444444444444444, \"#bd3786\"], [0.5555555555555556, \"#d8576b\"], [0.6666666666666666, \"#ed7953\"], [0.7777777777777778, \"#fb9f3a\"], [0.8888888888888888, \"#fdca26\"], [1.0, \"#f0f921\"]], \"type\": \"contour\"}], \"contourcarpet\": [{\"colorbar\": {\"outlinewidth\": 0, \"ticks\": \"\"}, \"type\": \"contourcarpet\"}], \"heatmap\": [{\"colorbar\": {\"outlinewidth\": 0, \"ticks\": \"\"}, \"colorscale\": [[0.0, \"#0d0887\"], [0.1111111111111111, \"#46039f\"], [0.2222222222222222, \"#7201a8\"], [0.3333333333333333, \"#9c179e\"], [0.4444444444444444, \"#bd3786\"], [0.5555555555555556, \"#d8576b\"], [0.6666666666666666, \"#ed7953\"], [0.7777777777777778, \"#fb9f3a\"], [0.8888888888888888, \"#fdca26\"], [1.0, \"#f0f921\"]], \"type\": \"heatmap\"}], \"heatmapgl\": [{\"colorbar\": {\"outlinewidth\": 0, \"ticks\": \"\"}, \"colorscale\": [[0.0, \"#0d0887\"], [0.1111111111111111, \"#46039f\"], [0.2222222222222222, \"#7201a8\"], [0.3333333333333333, \"#9c179e\"], [0.4444444444444444, \"#bd3786\"], [0.5555555555555556, \"#d8576b\"], [0.6666666666666666, \"#ed7953\"], [0.7777777777777778, \"#fb9f3a\"], [0.8888888888888888, \"#fdca26\"], [1.0, \"#f0f921\"]], \"type\": \"heatmapgl\"}], \"histogram\": [{\"marker\": {\"colorbar\": {\"outlinewidth\": 0, \"ticks\": \"\"}}, \"type\": \"histogram\"}], \"histogram2d\": [{\"colorbar\": {\"outlinewidth\": 0, \"ticks\": \"\"}, \"colorscale\": [[0.0, \"#0d0887\"], [0.1111111111111111, \"#46039f\"], [0.2222222222222222, \"#7201a8\"], [0.3333333333333333, \"#9c179e\"], [0.4444444444444444, \"#bd3786\"], [0.5555555555555556, \"#d8576b\"], [0.6666666666666666, \"#ed7953\"], [0.7777777777777778, \"#fb9f3a\"], [0.8888888888888888, \"#fdca26\"], [1.0, \"#f0f921\"]], \"type\": \"histogram2d\"}], \"histogram2dcontour\": [{\"colorbar\": {\"outlinewidth\": 0, \"ticks\": \"\"}, \"colorscale\": [[0.0, \"#0d0887\"], [0.1111111111111111, \"#46039f\"], [0.2222222222222222, \"#7201a8\"], [0.3333333333333333, \"#9c179e\"], [0.4444444444444444, \"#bd3786\"], [0.5555555555555556, \"#d8576b\"], [0.6666666666666666, \"#ed7953\"], [0.7777777777777778, \"#fb9f3a\"], [0.8888888888888888, \"#fdca26\"], [1.0, \"#f0f921\"]], \"type\": \"histogram2dcontour\"}], \"mesh3d\": [{\"colorbar\": {\"outlinewidth\": 0, \"ticks\": \"\"}, \"type\": \"mesh3d\"}], \"parcoords\": [{\"line\": {\"colorbar\": {\"outlinewidth\": 0, \"ticks\": \"\"}}, \"type\": \"parcoords\"}], \"pie\": [{\"automargin\": true, \"type\": \"pie\"}], \"scatter\": [{\"marker\": {\"colorbar\": {\"outlinewidth\": 0, \"ticks\": \"\"}}, \"type\": \"scatter\"}], \"scatter3d\": [{\"line\": {\"colorbar\": {\"outlinewidth\": 0, \"ticks\": \"\"}}, \"marker\": {\"colorbar\": {\"outlinewidth\": 0, \"ticks\": \"\"}}, \"type\": \"scatter3d\"}], \"scattercarpet\": [{\"marker\": {\"colorbar\": {\"outlinewidth\": 0, \"ticks\": \"\"}}, \"type\": \"scattercarpet\"}], \"scattergeo\": [{\"marker\": {\"colorbar\": {\"outlinewidth\": 0, \"ticks\": \"\"}}, \"type\": \"scattergeo\"}], \"scattergl\": [{\"marker\": {\"colorbar\": {\"outlinewidth\": 0, \"ticks\": \"\"}}, \"type\": \"scattergl\"}], \"scattermapbox\": [{\"marker\": {\"colorbar\": {\"outlinewidth\": 0, \"ticks\": \"\"}}, \"type\": \"scattermapbox\"}], \"scatterpolar\": [{\"marker\": {\"colorbar\": {\"outlinewidth\": 0, \"ticks\": \"\"}}, \"type\": \"scatterpolar\"}], \"scatterpolargl\": [{\"marker\": {\"colorbar\": {\"outlinewidth\": 0, \"ticks\": \"\"}}, \"type\": \"scatterpolargl\"}], \"scatterternary\": [{\"marker\": {\"colorbar\": {\"outlinewidth\": 0, \"ticks\": \"\"}}, \"type\": \"scatterternary\"}], \"surface\": [{\"colorbar\": {\"outlinewidth\": 0, \"ticks\": \"\"}, \"colorscale\": [[0.0, \"#0d0887\"], [0.1111111111111111, \"#46039f\"], [0.2222222222222222, \"#7201a8\"], [0.3333333333333333, \"#9c179e\"], [0.4444444444444444, \"#bd3786\"], [0.5555555555555556, \"#d8576b\"], [0.6666666666666666, \"#ed7953\"], [0.7777777777777778, \"#fb9f3a\"], [0.8888888888888888, \"#fdca26\"], [1.0, \"#f0f921\"]], \"type\": \"surface\"}], \"table\": [{\"cells\": {\"fill\": {\"color\": \"#EBF0F8\"}, \"line\": {\"color\": \"white\"}}, \"header\": {\"fill\": {\"color\": \"#C8D4E3\"}, \"line\": {\"color\": \"white\"}}, \"type\": \"table\"}]}, \"layout\": {\"annotationdefaults\": {\"arrowcolor\": \"#2a3f5f\", \"arrowhead\": 0, \"arrowwidth\": 1}, \"coloraxis\": {\"colorbar\": {\"outlinewidth\": 0, \"ticks\": \"\"}}, \"colorscale\": {\"diverging\": [[0, \"#8e0152\"], [0.1, \"#c51b7d\"], [0.2, \"#de77ae\"], [0.3, \"#f1b6da\"], [0.4, \"#fde0ef\"], [0.5, \"#f7f7f7\"], [0.6, \"#e6f5d0\"], [0.7, \"#b8e186\"], [0.8, \"#7fbc41\"], [0.9, \"#4d9221\"], [1, \"#276419\"]], \"sequential\": [[0.0, \"#0d0887\"], [0.1111111111111111, \"#46039f\"], [0.2222222222222222, \"#7201a8\"], [0.3333333333333333, \"#9c179e\"], [0.4444444444444444, \"#bd3786\"], [0.5555555555555556, \"#d8576b\"], [0.6666666666666666, \"#ed7953\"], [0.7777777777777778, \"#fb9f3a\"], [0.8888888888888888, \"#fdca26\"], [1.0, \"#f0f921\"]], \"sequentialminus\": [[0.0, \"#0d0887\"], [0.1111111111111111, \"#46039f\"], [0.2222222222222222, \"#7201a8\"], [0.3333333333333333, \"#9c179e\"], [0.4444444444444444, \"#bd3786\"], [0.5555555555555556, \"#d8576b\"], [0.6666666666666666, \"#ed7953\"], [0.7777777777777778, \"#fb9f3a\"], [0.8888888888888888, \"#fdca26\"], [1.0, \"#f0f921\"]]}, \"colorway\": [\"#636efa\", \"#EF553B\", \"#00cc96\", \"#ab63fa\", \"#FFA15A\", \"#19d3f3\", \"#FF6692\", \"#B6E880\", \"#FF97FF\", \"#FECB52\"], \"font\": {\"color\": \"#2a3f5f\"}, \"geo\": {\"bgcolor\": \"white\", \"lakecolor\": \"white\", \"landcolor\": \"#E5ECF6\", \"showlakes\": true, \"showland\": true, \"subunitcolor\": \"white\"}, \"hoverlabel\": {\"align\": \"left\"}, \"hovermode\": \"closest\", \"mapbox\": {\"style\": \"light\"}, \"paper_bgcolor\": \"white\", \"plot_bgcolor\": \"#E5ECF6\", \"polar\": {\"angularaxis\": {\"gridcolor\": \"white\", \"linecolor\": \"white\", \"ticks\": \"\"}, \"bgcolor\": \"#E5ECF6\", \"radialaxis\": {\"gridcolor\": \"white\", \"linecolor\": \"white\", \"ticks\": \"\"}}, \"scene\": {\"xaxis\": {\"backgroundcolor\": \"#E5ECF6\", \"gridcolor\": \"white\", \"gridwidth\": 2, \"linecolor\": \"white\", \"showbackground\": true, \"ticks\": \"\", \"zerolinecolor\": \"white\"}, \"yaxis\": {\"backgroundcolor\": \"#E5ECF6\", \"gridcolor\": \"white\", \"gridwidth\": 2, \"linecolor\": \"white\", \"showbackground\": true, \"ticks\": \"\", \"zerolinecolor\": \"white\"}, \"zaxis\": {\"backgroundcolor\": \"#E5ECF6\", \"gridcolor\": \"white\", \"gridwidth\": 2, \"linecolor\": \"white\", \"showbackground\": true, \"ticks\": \"\", \"zerolinecolor\": \"white\"}}, \"shapedefaults\": {\"line\": {\"color\": \"#2a3f5f\"}}, \"ternary\": {\"aaxis\": {\"gridcolor\": \"white\", \"linecolor\": \"white\", \"ticks\": \"\"}, \"baxis\": {\"gridcolor\": \"white\", \"linecolor\": \"white\", \"ticks\": \"\"}, \"bgcolor\": \"#E5ECF6\", \"caxis\": {\"gridcolor\": \"white\", \"linecolor\": \"white\", \"ticks\": \"\"}}, \"title\": {\"x\": 0.05}, \"xaxis\": {\"automargin\": true, \"gridcolor\": \"white\", \"linecolor\": \"white\", \"ticks\": \"\", \"title\": {\"standoff\": 15}, \"zerolinecolor\": \"white\", \"zerolinewidth\": 2}, \"yaxis\": {\"automargin\": true, \"gridcolor\": \"white\", \"linecolor\": \"white\", \"ticks\": \"\", \"title\": {\"standoff\": 15}, \"zerolinecolor\": \"white\", \"zerolinewidth\": 2}}}, \"title\": {\"font\": {\"color\": \"#4D5663\"}}, \"xaxis\": {\"gridcolor\": \"#E1E5ED\", \"showgrid\": true, \"tickfont\": {\"color\": \"#4D5663\"}, \"title\": {\"font\": {\"color\": \"#4D5663\"}, \"text\": \"\"}, \"zerolinecolor\": \"#E1E5ED\"}, \"yaxis\": {\"gridcolor\": \"#E1E5ED\", \"showgrid\": true, \"tickfont\": {\"color\": \"#4D5663\"}, \"title\": {\"font\": {\"color\": \"#4D5663\"}, \"text\": \"\"}, \"zerolinecolor\": \"#E1E5ED\"}},\n",
       "                        {\"showLink\": true, \"linkText\": \"Export to plot.ly\", \"plotlyServerURL\": \"https://plot.ly\", \"responsive\": true}\n",
       "                    ).then(function(){\n",
       "                            \n",
       "var gd = document.getElementById('bfef3c43-e16b-4fe3-81a4-1262dd1760df');\n",
       "var x = new MutationObserver(function (mutations, observer) {{\n",
       "        var display = window.getComputedStyle(gd).display;\n",
       "        if (!display || display === 'none') {{\n",
       "            console.log([gd, 'removed!']);\n",
       "            Plotly.purge(gd);\n",
       "            observer.disconnect();\n",
       "        }}\n",
       "}});\n",
       "\n",
       "// Listen for the removal of the full notebook cells\n",
       "var notebookContainer = gd.closest('#notebook-container');\n",
       "if (notebookContainer) {{\n",
       "    x.observe(notebookContainer, {childList: true});\n",
       "}}\n",
       "\n",
       "// Listen for the clearing of the current output cell\n",
       "var outputEl = gd.closest('.output');\n",
       "if (outputEl) {{\n",
       "    x.observe(outputEl, {childList: true});\n",
       "}}\n",
       "\n",
       "                        })\n",
       "                };\n",
       "                });\n",
       "            </script>\n",
       "        </div>"
      ]
     },
     "metadata": {},
     "output_type": "display_data"
    }
   ],
   "source": [
    "df2.iplot(kind='bar',x='Category',y='Value')"
   ]
  },
  {
   "cell_type": "code",
   "execution_count": 25,
   "metadata": {},
   "outputs": [
    {
     "data": {
      "application/vnd.plotly.v1+json": {
       "config": {
        "linkText": "Export to plot.ly",
        "plotlyServerURL": "https://plot.ly",
        "showLink": true
       },
       "data": [
        {
         "marker": {
          "color": "rgba(255, 153, 51, 0.6)",
          "line": {
           "color": "rgba(255, 153, 51, 1.0)",
           "width": 1
          }
         },
         "name": "A",
         "orientation": "v",
         "text": "",
         "type": "bar",
         "x": [
          0,
          1,
          2,
          3,
          4,
          5,
          6,
          7,
          8,
          9,
          10,
          11,
          12,
          13,
          14,
          15,
          16,
          17,
          18,
          19,
          20,
          21,
          22,
          23,
          24,
          25,
          26,
          27,
          28,
          29,
          30,
          31,
          32,
          33,
          34,
          35,
          36,
          37,
          38,
          39,
          40,
          41,
          42,
          43,
          44,
          45,
          46,
          47,
          48,
          49,
          50,
          51,
          52,
          53,
          54,
          55,
          56,
          57,
          58,
          59,
          60,
          61,
          62,
          63,
          64,
          65,
          66,
          67,
          68,
          69,
          70,
          71,
          72,
          73,
          74,
          75,
          76,
          77,
          78,
          79,
          80,
          81,
          82,
          83,
          84,
          85,
          86,
          87,
          88,
          89,
          90,
          91,
          92,
          93,
          94,
          95,
          96,
          97,
          98,
          99
         ],
         "y": [
          -0.171640601897393,
          -0.43651310026760143,
          0.1915612390123302,
          -1.056703312019151,
          0.4223324960551365,
          1.2877468203367912,
          -0.5709727518406853,
          2.1648676554773516,
          -1.2710537136872033,
          0.16778935785866875,
          1.0923398653718392,
          0.4925306791099881,
          -0.703668513206629,
          -1.4524459966421268,
          -1.2744387261513341,
          0.48551604613423355,
          -0.08955322711220023,
          -0.29027573121328615,
          0.7745650160804478,
          -1.1099619262798022,
          -1.9683383872344231,
          -0.29436352576008007,
          -0.6114534149828592,
          -0.6016002569315776,
          0.6621081449698877,
          0.21266807621964742,
          -0.14196204190623365,
          0.8455808080508328,
          2.218513523093423,
          1.225509030816993,
          -0.05744835346384874,
          -0.11673789320091013,
          -0.30301635565632434,
          -0.6627327489766144,
          -0.294755132084432,
          -0.133052082126597,
          -0.7027262561520775,
          0.21363941721995688,
          0.7533029620632767,
          0.9161599146948339,
          -0.38695616486884626,
          0.19596958959686875,
          2.1597457209110167,
          1.6330219307099394,
          -0.053064503558190354,
          0.6603445747130693,
          0.3207945904648976,
          -1.1050354243244225,
          1.5637954578971218,
          1.2541918745480611,
          -2.095064611555383,
          -0.7845842103111716,
          -0.19468049802855614,
          -0.4014548287149151,
          0.3407950800545804,
          0.03272595875779687,
          -1.3056241417427392,
          0.7438543233795972,
          -1.3227506872869208,
          1.0784707979095176,
          -0.815334722857213,
          -0.5373819359409527,
          -1.0606203281249487,
          0.441700587416723,
          -0.32878279305935415,
          -0.46581137917888865,
          -1.0904053135674916,
          -1.26924927808231,
          0.31270617806826667,
          0.6970749712875615,
          0.3153736148451356,
          -0.45080146910650637,
          -0.2720063615339261,
          1.4044677356602207,
          -0.019348041080346393,
          1.1049428128294767,
          -2.377128291270848,
          -1.5073793637973727,
          -0.926666748211941,
          1.8579700229276017,
          -1.2116095443091348,
          0.8236413783722552,
          -0.32430248425442165,
          2.0906677707983916,
          -0.7044681959680065,
          -0.1546026406012769,
          -0.9385406062305209,
          -0.8692498584291668,
          -2.3768058600922677,
          -2.4065090278566914,
          1.7172860060023276,
          0.16700914108697476,
          -1.0892987171083033,
          1.1821925982620303,
          0.3761064908178598,
          -0.6081613870137292,
          0.5683748477954369,
          -0.2666353852917895,
          0.9020386387275965,
          0.22303842334880358
         ]
        },
        {
         "marker": {
          "color": "rgba(55, 128, 191, 0.6)",
          "line": {
           "color": "rgba(55, 128, 191, 1.0)",
           "width": 1
          }
         },
         "name": "B",
         "orientation": "v",
         "text": "",
         "type": "bar",
         "x": [
          0,
          1,
          2,
          3,
          4,
          5,
          6,
          7,
          8,
          9,
          10,
          11,
          12,
          13,
          14,
          15,
          16,
          17,
          18,
          19,
          20,
          21,
          22,
          23,
          24,
          25,
          26,
          27,
          28,
          29,
          30,
          31,
          32,
          33,
          34,
          35,
          36,
          37,
          38,
          39,
          40,
          41,
          42,
          43,
          44,
          45,
          46,
          47,
          48,
          49,
          50,
          51,
          52,
          53,
          54,
          55,
          56,
          57,
          58,
          59,
          60,
          61,
          62,
          63,
          64,
          65,
          66,
          67,
          68,
          69,
          70,
          71,
          72,
          73,
          74,
          75,
          76,
          77,
          78,
          79,
          80,
          81,
          82,
          83,
          84,
          85,
          86,
          87,
          88,
          89,
          90,
          91,
          92,
          93,
          94,
          95,
          96,
          97,
          98,
          99
         ],
         "y": [
          0.5484513444208927,
          -2.3254372400024663,
          -0.17768498503930882,
          -0.0413575571659648,
          1.0377678595702458,
          -0.7116014651027107,
          0.26857162154881,
          1.5290566395723573,
          -0.2567586755527022,
          -0.357121113255171,
          0.8094544672338446,
          -0.18796083964617127,
          -0.027477640202128045,
          -0.11870292311303313,
          -2.269461527526842,
          1.5955328577357266,
          -0.8644545357821648,
          -1.8642968220350373,
          0.09017916692978532,
          -1.344766726938334,
          1.1745824220442214,
          -0.8414367236253527,
          -0.7884004277579315,
          -0.1489331864549383,
          0.7728688387695918,
          -2.1409153230074534,
          0.34821592049908134,
          -0.27498245733340865,
          0.6490421722801153,
          -0.3095015003082018,
          1.3755435096077888,
          0.5295635663635087,
          0.3035655123758679,
          -0.15702303716074245,
          1.1704292564472734,
          -1.52193050513255,
          -0.17304696512117046,
          0.500742618651033,
          -2.411263379463824,
          -0.2764586244288876,
          -0.9354022868432563,
          1.6180987037807752,
          -0.5850556670966817,
          0.8064515288677078,
          -0.1925316499670654,
          2.1249498691984603,
          0.28824678756934996,
          1.0808924511417874,
          -1.0991069038596877,
          2.8523270968784757,
          -0.1462276160136622,
          -0.7269456317989939,
          1.009683169084365,
          -0.9128087165867703,
          2.739386314769789,
          -1.3757622114686658,
          1.4407905278507112,
          -2.1437891180414965,
          -0.8685438816408083,
          -1.0684204255937035,
          -1.3909622043143515,
          -1.708519617763413,
          -1.033225258404668,
          -0.9273179566800895,
          0.9622755612144613,
          0.4036958283171158,
          -2.066620915349806,
          -0.5313498777603,
          -0.37213553235231156,
          0.5566243901674788,
          0.46809411497026965,
          0.03231282758546965,
          1.5950315245268063,
          -0.8677057971639819,
          0.5934132541166431,
          0.6665791844271618,
          -1.070293341617307,
          0.23247746328414118,
          0.1636105945212715,
          1.3847638680189123,
          -0.7468787389615569,
          -0.6336863846695935,
          -0.15418321052239078,
          -0.022964779182480508,
          0.13067056650667006,
          -0.8346647281545524,
          -0.08276756281076375,
          -0.23593108329391443,
          1.4223691939157483,
          -1.475177034806321,
          -0.5631133271333681,
          -0.9498587583942311,
          -1.1180928581281955,
          -1.9290450825993415,
          0.22878195896987918,
          -1.16846732408735,
          -1.201800804545687,
          0.6324538976960572,
          -0.1723277128840355,
          0.2296303534317323
         ]
        },
        {
         "marker": {
          "color": "rgba(50, 171, 96, 0.6)",
          "line": {
           "color": "rgba(50, 171, 96, 1.0)",
           "width": 1
          }
         },
         "name": "C",
         "orientation": "v",
         "text": "",
         "type": "bar",
         "x": [
          0,
          1,
          2,
          3,
          4,
          5,
          6,
          7,
          8,
          9,
          10,
          11,
          12,
          13,
          14,
          15,
          16,
          17,
          18,
          19,
          20,
          21,
          22,
          23,
          24,
          25,
          26,
          27,
          28,
          29,
          30,
          31,
          32,
          33,
          34,
          35,
          36,
          37,
          38,
          39,
          40,
          41,
          42,
          43,
          44,
          45,
          46,
          47,
          48,
          49,
          50,
          51,
          52,
          53,
          54,
          55,
          56,
          57,
          58,
          59,
          60,
          61,
          62,
          63,
          64,
          65,
          66,
          67,
          68,
          69,
          70,
          71,
          72,
          73,
          74,
          75,
          76,
          77,
          78,
          79,
          80,
          81,
          82,
          83,
          84,
          85,
          86,
          87,
          88,
          89,
          90,
          91,
          92,
          93,
          94,
          95,
          96,
          97,
          98,
          99
         ],
         "y": [
          -0.5983437620713272,
          -2.6604175619961046,
          -0.6893577279175397,
          -0.5229880431507179,
          -1.1142570311277662,
          0.4144329010324235,
          1.0709199857046865,
          0.24185000081928387,
          0.8679028870583181,
          0.8552503604199,
          -0.6897875923656063,
          -0.6170711861715913,
          -0.574019045561744,
          -0.42602932488795464,
          -0.06540747052858152,
          1.01225862618407,
          0.5725334774448296,
          -0.47718574956385784,
          0.29591534234625394,
          1.0713609097573518,
          1.7850760760870759,
          0.6615370182444141,
          -0.09975617128227394,
          0.6265897988876452,
          -0.434442435536369,
          0.9189381575943047,
          1.1426297546254645,
          0.05469376367844408,
          0.7664286517069745,
          1.4460545893069578,
          -1.2564294325418002,
          0.4220576687942533,
          0.6289966738488311,
          -0.2788764402500565,
          0.5015049964356932,
          1.514458160544959,
          0.2782476011345647,
          0.269754598159741,
          1.3519102352351455,
          -0.12193137836822808,
          -2.178769420790974,
          0.8539668969339135,
          1.3839608405729358,
          0.46683197255988956,
          1.8590406800885484,
          0.3395093676304781,
          0.40311363481143375,
          -1.0741084327550467,
          -0.6594594819662645,
          -0.1065325263332107,
          1.0030409948514505,
          -2.2465625425281024,
          0.5250755374331697,
          0.5874277050905309,
          0.06617762829699439,
          -0.44520947266094435,
          1.5031363729296439,
          0.2683309891489996,
          0.8941013914258936,
          1.1900921079684381,
          -1.592338528514025,
          0.7848888225422255,
          1.8842823892513476,
          -0.2825083302404101,
          -0.33813550666448006,
          -0.25537087832581873,
          -0.7211597678307854,
          -1.734912570192576,
          0.9561537011128859,
          0.16208957636882837,
          -1.2000533555518906,
          0.4408341380584331,
          -1.449277089723586,
          0.034329587009165954,
          -0.04604054983925971,
          0.8974630060064327,
          0.16304891450080738,
          1.9638360203986867,
          -1.5776099100630412,
          0.7609264198270365,
          0.969561171471672,
          -1.0991506011551149,
          -1.465825439340637,
          -1.314898729207641,
          -0.8380424127033789,
          0.4373953826702947,
          0.45037384631284544,
          -0.8904920643002715,
          -0.5810637913845554,
          0.3925376368775025,
          0.2579651317698921,
          -1.0810556062247758,
          -0.31741955255737236,
          1.618570911321861,
          1.0238726864773395,
          -0.13573365567790135,
          -0.8632715661196068,
          0.6288163109271624,
          -0.2819767637068381,
          2.2988019665203265
         ]
        },
        {
         "marker": {
          "color": "rgba(128, 0, 128, 0.6)",
          "line": {
           "color": "rgba(128, 0, 128, 1.0)",
           "width": 1
          }
         },
         "name": "D",
         "orientation": "v",
         "text": "",
         "type": "bar",
         "x": [
          0,
          1,
          2,
          3,
          4,
          5,
          6,
          7,
          8,
          9,
          10,
          11,
          12,
          13,
          14,
          15,
          16,
          17,
          18,
          19,
          20,
          21,
          22,
          23,
          24,
          25,
          26,
          27,
          28,
          29,
          30,
          31,
          32,
          33,
          34,
          35,
          36,
          37,
          38,
          39,
          40,
          41,
          42,
          43,
          44,
          45,
          46,
          47,
          48,
          49,
          50,
          51,
          52,
          53,
          54,
          55,
          56,
          57,
          58,
          59,
          60,
          61,
          62,
          63,
          64,
          65,
          66,
          67,
          68,
          69,
          70,
          71,
          72,
          73,
          74,
          75,
          76,
          77,
          78,
          79,
          80,
          81,
          82,
          83,
          84,
          85,
          86,
          87,
          88,
          89,
          90,
          91,
          92,
          93,
          94,
          95,
          96,
          97,
          98,
          99
         ],
         "y": [
          0.8338514606350064,
          -0.10584992645229413,
          -0.2706609825615641,
          0.5996801983644825,
          0.40359100466599535,
          2.641790207427108,
          0.13224103676807694,
          0.35313713991942014,
          1.144896307631846,
          1.9946928047934107,
          -0.9171338011956501,
          -0.4791782716060962,
          -0.6726579700852056,
          1.831020641813482,
          -0.1523547432486442,
          0.3354427663278796,
          -2.441582962241704,
          1.9715015842875654,
          0.5494742773319939,
          0.6145317653973147,
          -1.1806025799960154,
          0.5155567640803262,
          -1.3242560220644943,
          0.041700160836206965,
          0.9468186268366223,
          -0.5619512409700159,
          -0.7413321342009079,
          0.820528530608833,
          -0.6458138002254487,
          0.050524454707551014,
          0.862396604461523,
          2.253816471768166,
          0.4648313687438735,
          -0.16136990451619151,
          2.1987705070284673,
          -0.5727987959263574,
          -1.7115241145055666,
          2.073776369230856,
          0.625241141366843,
          1.5292209070329297,
          -0.5107014925784714,
          -0.31939413263433497,
          0.646758037652685,
          -0.2779513216230143,
          -0.19124944161845978,
          0.9571695847179208,
          -1.1048580560914822,
          -0.8984915407298146,
          1.3273431506933735,
          -1.333150838500644,
          -0.1985793201190395,
          2.019330939054003,
          1.2948297395951902,
          -0.3749962350083088,
          0.7563352984444898,
          0.1117176438204793,
          0.5872748114399307,
          -0.429718197605014,
          1.1580569489872719,
          -0.7458610043235129,
          0.8355882588036868,
          0.42485291323705143,
          0.4424168054773275,
          0.14127394287620942,
          -0.6154617117321134,
          -0.5110598682054509,
          0.13496982598516002,
          1.0245401663215845,
          -2.0311036813716705,
          -1.0250819271742715,
          -1.8636033313844171,
          0.8574905588910688,
          0.049503038730056084,
          -0.4104207782106683,
          -0.13764615619265963,
          0.2844344254242617,
          -0.7411574434948729,
          -0.9502016965746825,
          0.8689197050008775,
          -1.9318681506349502,
          0.471433643085626,
          0.585171420032461,
          0.6404961794771034,
          -0.22741488276623759,
          -1.0205085255341666,
          0.05233227104990713,
          0.49628856355218215,
          -0.8950524060645041,
          1.8180841461402975,
          -0.817214388120829,
          1.1765542892213678,
          0.6038964891497567,
          -0.29640169240258973,
          1.7917165418241447,
          -0.9923304082753172,
          1.4156913840918108,
          -0.37184430284858083,
          0.3670786989417944,
          -1.0405526567533496,
          0.9209916696959721
         ]
        }
       ],
       "layout": {
        "legend": {
         "bgcolor": "#F5F6F9",
         "font": {
          "color": "#4D5663"
         }
        },
        "paper_bgcolor": "#F5F6F9",
        "plot_bgcolor": "#F5F6F9",
        "template": {
         "data": {
          "bar": [
           {
            "error_x": {
             "color": "#2a3f5f"
            },
            "error_y": {
             "color": "#2a3f5f"
            },
            "marker": {
             "line": {
              "color": "#E5ECF6",
              "width": 0.5
             }
            },
            "type": "bar"
           }
          ],
          "barpolar": [
           {
            "marker": {
             "line": {
              "color": "#E5ECF6",
              "width": 0.5
             }
            },
            "type": "barpolar"
           }
          ],
          "carpet": [
           {
            "aaxis": {
             "endlinecolor": "#2a3f5f",
             "gridcolor": "white",
             "linecolor": "white",
             "minorgridcolor": "white",
             "startlinecolor": "#2a3f5f"
            },
            "baxis": {
             "endlinecolor": "#2a3f5f",
             "gridcolor": "white",
             "linecolor": "white",
             "minorgridcolor": "white",
             "startlinecolor": "#2a3f5f"
            },
            "type": "carpet"
           }
          ],
          "choropleth": [
           {
            "colorbar": {
             "outlinewidth": 0,
             "ticks": ""
            },
            "type": "choropleth"
           }
          ],
          "contour": [
           {
            "colorbar": {
             "outlinewidth": 0,
             "ticks": ""
            },
            "colorscale": [
             [
              0,
              "#0d0887"
             ],
             [
              0.1111111111111111,
              "#46039f"
             ],
             [
              0.2222222222222222,
              "#7201a8"
             ],
             [
              0.3333333333333333,
              "#9c179e"
             ],
             [
              0.4444444444444444,
              "#bd3786"
             ],
             [
              0.5555555555555556,
              "#d8576b"
             ],
             [
              0.6666666666666666,
              "#ed7953"
             ],
             [
              0.7777777777777778,
              "#fb9f3a"
             ],
             [
              0.8888888888888888,
              "#fdca26"
             ],
             [
              1,
              "#f0f921"
             ]
            ],
            "type": "contour"
           }
          ],
          "contourcarpet": [
           {
            "colorbar": {
             "outlinewidth": 0,
             "ticks": ""
            },
            "type": "contourcarpet"
           }
          ],
          "heatmap": [
           {
            "colorbar": {
             "outlinewidth": 0,
             "ticks": ""
            },
            "colorscale": [
             [
              0,
              "#0d0887"
             ],
             [
              0.1111111111111111,
              "#46039f"
             ],
             [
              0.2222222222222222,
              "#7201a8"
             ],
             [
              0.3333333333333333,
              "#9c179e"
             ],
             [
              0.4444444444444444,
              "#bd3786"
             ],
             [
              0.5555555555555556,
              "#d8576b"
             ],
             [
              0.6666666666666666,
              "#ed7953"
             ],
             [
              0.7777777777777778,
              "#fb9f3a"
             ],
             [
              0.8888888888888888,
              "#fdca26"
             ],
             [
              1,
              "#f0f921"
             ]
            ],
            "type": "heatmap"
           }
          ],
          "heatmapgl": [
           {
            "colorbar": {
             "outlinewidth": 0,
             "ticks": ""
            },
            "colorscale": [
             [
              0,
              "#0d0887"
             ],
             [
              0.1111111111111111,
              "#46039f"
             ],
             [
              0.2222222222222222,
              "#7201a8"
             ],
             [
              0.3333333333333333,
              "#9c179e"
             ],
             [
              0.4444444444444444,
              "#bd3786"
             ],
             [
              0.5555555555555556,
              "#d8576b"
             ],
             [
              0.6666666666666666,
              "#ed7953"
             ],
             [
              0.7777777777777778,
              "#fb9f3a"
             ],
             [
              0.8888888888888888,
              "#fdca26"
             ],
             [
              1,
              "#f0f921"
             ]
            ],
            "type": "heatmapgl"
           }
          ],
          "histogram": [
           {
            "marker": {
             "colorbar": {
              "outlinewidth": 0,
              "ticks": ""
             }
            },
            "type": "histogram"
           }
          ],
          "histogram2d": [
           {
            "colorbar": {
             "outlinewidth": 0,
             "ticks": ""
            },
            "colorscale": [
             [
              0,
              "#0d0887"
             ],
             [
              0.1111111111111111,
              "#46039f"
             ],
             [
              0.2222222222222222,
              "#7201a8"
             ],
             [
              0.3333333333333333,
              "#9c179e"
             ],
             [
              0.4444444444444444,
              "#bd3786"
             ],
             [
              0.5555555555555556,
              "#d8576b"
             ],
             [
              0.6666666666666666,
              "#ed7953"
             ],
             [
              0.7777777777777778,
              "#fb9f3a"
             ],
             [
              0.8888888888888888,
              "#fdca26"
             ],
             [
              1,
              "#f0f921"
             ]
            ],
            "type": "histogram2d"
           }
          ],
          "histogram2dcontour": [
           {
            "colorbar": {
             "outlinewidth": 0,
             "ticks": ""
            },
            "colorscale": [
             [
              0,
              "#0d0887"
             ],
             [
              0.1111111111111111,
              "#46039f"
             ],
             [
              0.2222222222222222,
              "#7201a8"
             ],
             [
              0.3333333333333333,
              "#9c179e"
             ],
             [
              0.4444444444444444,
              "#bd3786"
             ],
             [
              0.5555555555555556,
              "#d8576b"
             ],
             [
              0.6666666666666666,
              "#ed7953"
             ],
             [
              0.7777777777777778,
              "#fb9f3a"
             ],
             [
              0.8888888888888888,
              "#fdca26"
             ],
             [
              1,
              "#f0f921"
             ]
            ],
            "type": "histogram2dcontour"
           }
          ],
          "mesh3d": [
           {
            "colorbar": {
             "outlinewidth": 0,
             "ticks": ""
            },
            "type": "mesh3d"
           }
          ],
          "parcoords": [
           {
            "line": {
             "colorbar": {
              "outlinewidth": 0,
              "ticks": ""
             }
            },
            "type": "parcoords"
           }
          ],
          "pie": [
           {
            "automargin": true,
            "type": "pie"
           }
          ],
          "scatter": [
           {
            "marker": {
             "colorbar": {
              "outlinewidth": 0,
              "ticks": ""
             }
            },
            "type": "scatter"
           }
          ],
          "scatter3d": [
           {
            "line": {
             "colorbar": {
              "outlinewidth": 0,
              "ticks": ""
             }
            },
            "marker": {
             "colorbar": {
              "outlinewidth": 0,
              "ticks": ""
             }
            },
            "type": "scatter3d"
           }
          ],
          "scattercarpet": [
           {
            "marker": {
             "colorbar": {
              "outlinewidth": 0,
              "ticks": ""
             }
            },
            "type": "scattercarpet"
           }
          ],
          "scattergeo": [
           {
            "marker": {
             "colorbar": {
              "outlinewidth": 0,
              "ticks": ""
             }
            },
            "type": "scattergeo"
           }
          ],
          "scattergl": [
           {
            "marker": {
             "colorbar": {
              "outlinewidth": 0,
              "ticks": ""
             }
            },
            "type": "scattergl"
           }
          ],
          "scattermapbox": [
           {
            "marker": {
             "colorbar": {
              "outlinewidth": 0,
              "ticks": ""
             }
            },
            "type": "scattermapbox"
           }
          ],
          "scatterpolar": [
           {
            "marker": {
             "colorbar": {
              "outlinewidth": 0,
              "ticks": ""
             }
            },
            "type": "scatterpolar"
           }
          ],
          "scatterpolargl": [
           {
            "marker": {
             "colorbar": {
              "outlinewidth": 0,
              "ticks": ""
             }
            },
            "type": "scatterpolargl"
           }
          ],
          "scatterternary": [
           {
            "marker": {
             "colorbar": {
              "outlinewidth": 0,
              "ticks": ""
             }
            },
            "type": "scatterternary"
           }
          ],
          "surface": [
           {
            "colorbar": {
             "outlinewidth": 0,
             "ticks": ""
            },
            "colorscale": [
             [
              0,
              "#0d0887"
             ],
             [
              0.1111111111111111,
              "#46039f"
             ],
             [
              0.2222222222222222,
              "#7201a8"
             ],
             [
              0.3333333333333333,
              "#9c179e"
             ],
             [
              0.4444444444444444,
              "#bd3786"
             ],
             [
              0.5555555555555556,
              "#d8576b"
             ],
             [
              0.6666666666666666,
              "#ed7953"
             ],
             [
              0.7777777777777778,
              "#fb9f3a"
             ],
             [
              0.8888888888888888,
              "#fdca26"
             ],
             [
              1,
              "#f0f921"
             ]
            ],
            "type": "surface"
           }
          ],
          "table": [
           {
            "cells": {
             "fill": {
              "color": "#EBF0F8"
             },
             "line": {
              "color": "white"
             }
            },
            "header": {
             "fill": {
              "color": "#C8D4E3"
             },
             "line": {
              "color": "white"
             }
            },
            "type": "table"
           }
          ]
         },
         "layout": {
          "annotationdefaults": {
           "arrowcolor": "#2a3f5f",
           "arrowhead": 0,
           "arrowwidth": 1
          },
          "coloraxis": {
           "colorbar": {
            "outlinewidth": 0,
            "ticks": ""
           }
          },
          "colorscale": {
           "diverging": [
            [
             0,
             "#8e0152"
            ],
            [
             0.1,
             "#c51b7d"
            ],
            [
             0.2,
             "#de77ae"
            ],
            [
             0.3,
             "#f1b6da"
            ],
            [
             0.4,
             "#fde0ef"
            ],
            [
             0.5,
             "#f7f7f7"
            ],
            [
             0.6,
             "#e6f5d0"
            ],
            [
             0.7,
             "#b8e186"
            ],
            [
             0.8,
             "#7fbc41"
            ],
            [
             0.9,
             "#4d9221"
            ],
            [
             1,
             "#276419"
            ]
           ],
           "sequential": [
            [
             0,
             "#0d0887"
            ],
            [
             0.1111111111111111,
             "#46039f"
            ],
            [
             0.2222222222222222,
             "#7201a8"
            ],
            [
             0.3333333333333333,
             "#9c179e"
            ],
            [
             0.4444444444444444,
             "#bd3786"
            ],
            [
             0.5555555555555556,
             "#d8576b"
            ],
            [
             0.6666666666666666,
             "#ed7953"
            ],
            [
             0.7777777777777778,
             "#fb9f3a"
            ],
            [
             0.8888888888888888,
             "#fdca26"
            ],
            [
             1,
             "#f0f921"
            ]
           ],
           "sequentialminus": [
            [
             0,
             "#0d0887"
            ],
            [
             0.1111111111111111,
             "#46039f"
            ],
            [
             0.2222222222222222,
             "#7201a8"
            ],
            [
             0.3333333333333333,
             "#9c179e"
            ],
            [
             0.4444444444444444,
             "#bd3786"
            ],
            [
             0.5555555555555556,
             "#d8576b"
            ],
            [
             0.6666666666666666,
             "#ed7953"
            ],
            [
             0.7777777777777778,
             "#fb9f3a"
            ],
            [
             0.8888888888888888,
             "#fdca26"
            ],
            [
             1,
             "#f0f921"
            ]
           ]
          },
          "colorway": [
           "#636efa",
           "#EF553B",
           "#00cc96",
           "#ab63fa",
           "#FFA15A",
           "#19d3f3",
           "#FF6692",
           "#B6E880",
           "#FF97FF",
           "#FECB52"
          ],
          "font": {
           "color": "#2a3f5f"
          },
          "geo": {
           "bgcolor": "white",
           "lakecolor": "white",
           "landcolor": "#E5ECF6",
           "showlakes": true,
           "showland": true,
           "subunitcolor": "white"
          },
          "hoverlabel": {
           "align": "left"
          },
          "hovermode": "closest",
          "mapbox": {
           "style": "light"
          },
          "paper_bgcolor": "white",
          "plot_bgcolor": "#E5ECF6",
          "polar": {
           "angularaxis": {
            "gridcolor": "white",
            "linecolor": "white",
            "ticks": ""
           },
           "bgcolor": "#E5ECF6",
           "radialaxis": {
            "gridcolor": "white",
            "linecolor": "white",
            "ticks": ""
           }
          },
          "scene": {
           "xaxis": {
            "backgroundcolor": "#E5ECF6",
            "gridcolor": "white",
            "gridwidth": 2,
            "linecolor": "white",
            "showbackground": true,
            "ticks": "",
            "zerolinecolor": "white"
           },
           "yaxis": {
            "backgroundcolor": "#E5ECF6",
            "gridcolor": "white",
            "gridwidth": 2,
            "linecolor": "white",
            "showbackground": true,
            "ticks": "",
            "zerolinecolor": "white"
           },
           "zaxis": {
            "backgroundcolor": "#E5ECF6",
            "gridcolor": "white",
            "gridwidth": 2,
            "linecolor": "white",
            "showbackground": true,
            "ticks": "",
            "zerolinecolor": "white"
           }
          },
          "shapedefaults": {
           "line": {
            "color": "#2a3f5f"
           }
          },
          "ternary": {
           "aaxis": {
            "gridcolor": "white",
            "linecolor": "white",
            "ticks": ""
           },
           "baxis": {
            "gridcolor": "white",
            "linecolor": "white",
            "ticks": ""
           },
           "bgcolor": "#E5ECF6",
           "caxis": {
            "gridcolor": "white",
            "linecolor": "white",
            "ticks": ""
           }
          },
          "title": {
           "x": 0.05
          },
          "xaxis": {
           "automargin": true,
           "gridcolor": "white",
           "linecolor": "white",
           "ticks": "",
           "title": {
            "standoff": 15
           },
           "zerolinecolor": "white",
           "zerolinewidth": 2
          },
          "yaxis": {
           "automargin": true,
           "gridcolor": "white",
           "linecolor": "white",
           "ticks": "",
           "title": {
            "standoff": 15
           },
           "zerolinecolor": "white",
           "zerolinewidth": 2
          }
         }
        },
        "title": {
         "font": {
          "color": "#4D5663"
         }
        },
        "xaxis": {
         "gridcolor": "#E1E5ED",
         "showgrid": true,
         "tickfont": {
          "color": "#4D5663"
         },
         "title": {
          "font": {
           "color": "#4D5663"
          },
          "text": ""
         },
         "zerolinecolor": "#E1E5ED"
        },
        "yaxis": {
         "gridcolor": "#E1E5ED",
         "showgrid": true,
         "tickfont": {
          "color": "#4D5663"
         },
         "title": {
          "font": {
           "color": "#4D5663"
          },
          "text": ""
         },
         "zerolinecolor": "#E1E5ED"
        }
       }
      },
      "text/html": [
       "<div>\n",
       "        \n",
       "        \n",
       "            <div id=\"f8410a44-61c9-4363-8fb5-ac426755d0d9\" class=\"plotly-graph-div\" style=\"height:525px; width:100%;\"></div>\n",
       "            <script type=\"text/javascript\">\n",
       "                require([\"plotly\"], function(Plotly) {\n",
       "                    window.PLOTLYENV=window.PLOTLYENV || {};\n",
       "                    window.PLOTLYENV.BASE_URL='https://plot.ly';\n",
       "                    \n",
       "                if (document.getElementById(\"f8410a44-61c9-4363-8fb5-ac426755d0d9\")) {\n",
       "                    Plotly.newPlot(\n",
       "                        'f8410a44-61c9-4363-8fb5-ac426755d0d9',\n",
       "                        [{\"marker\": {\"color\": \"rgba(255, 153, 51, 0.6)\", \"line\": {\"color\": \"rgba(255, 153, 51, 1.0)\", \"width\": 1}}, \"name\": \"A\", \"orientation\": \"v\", \"text\": \"\", \"type\": \"bar\", \"x\": [0, 1, 2, 3, 4, 5, 6, 7, 8, 9, 10, 11, 12, 13, 14, 15, 16, 17, 18, 19, 20, 21, 22, 23, 24, 25, 26, 27, 28, 29, 30, 31, 32, 33, 34, 35, 36, 37, 38, 39, 40, 41, 42, 43, 44, 45, 46, 47, 48, 49, 50, 51, 52, 53, 54, 55, 56, 57, 58, 59, 60, 61, 62, 63, 64, 65, 66, 67, 68, 69, 70, 71, 72, 73, 74, 75, 76, 77, 78, 79, 80, 81, 82, 83, 84, 85, 86, 87, 88, 89, 90, 91, 92, 93, 94, 95, 96, 97, 98, 99], \"y\": [-0.171640601897393, -0.43651310026760143, 0.1915612390123302, -1.056703312019151, 0.4223324960551365, 1.2877468203367912, -0.5709727518406853, 2.1648676554773516, -1.2710537136872033, 0.16778935785866875, 1.0923398653718392, 0.4925306791099881, -0.703668513206629, -1.4524459966421268, -1.2744387261513341, 0.48551604613423355, -0.08955322711220023, -0.29027573121328615, 0.7745650160804478, -1.1099619262798022, -1.9683383872344231, -0.29436352576008007, -0.6114534149828592, -0.6016002569315776, 0.6621081449698877, 0.21266807621964742, -0.14196204190623365, 0.8455808080508328, 2.218513523093423, 1.225509030816993, -0.05744835346384874, -0.11673789320091013, -0.30301635565632434, -0.6627327489766144, -0.294755132084432, -0.133052082126597, -0.7027262561520775, 0.21363941721995688, 0.7533029620632767, 0.9161599146948339, -0.38695616486884626, 0.19596958959686875, 2.1597457209110167, 1.6330219307099394, -0.053064503558190354, 0.6603445747130693, 0.3207945904648976, -1.1050354243244225, 1.5637954578971218, 1.2541918745480611, -2.095064611555383, -0.7845842103111716, -0.19468049802855614, -0.4014548287149151, 0.3407950800545804, 0.03272595875779687, -1.3056241417427392, 0.7438543233795972, -1.3227506872869208, 1.0784707979095176, -0.815334722857213, -0.5373819359409527, -1.0606203281249487, 0.441700587416723, -0.32878279305935415, -0.46581137917888865, -1.0904053135674916, -1.26924927808231, 0.31270617806826667, 0.6970749712875615, 0.3153736148451356, -0.45080146910650637, -0.2720063615339261, 1.4044677356602207, -0.019348041080346393, 1.1049428128294767, -2.377128291270848, -1.5073793637973727, -0.926666748211941, 1.8579700229276017, -1.2116095443091348, 0.8236413783722552, -0.32430248425442165, 2.0906677707983916, -0.7044681959680065, -0.1546026406012769, -0.9385406062305209, -0.8692498584291668, -2.3768058600922677, -2.4065090278566914, 1.7172860060023276, 0.16700914108697476, -1.0892987171083033, 1.1821925982620303, 0.3761064908178598, -0.6081613870137292, 0.5683748477954369, -0.2666353852917895, 0.9020386387275965, 0.22303842334880358]}, {\"marker\": {\"color\": \"rgba(55, 128, 191, 0.6)\", \"line\": {\"color\": \"rgba(55, 128, 191, 1.0)\", \"width\": 1}}, \"name\": \"B\", \"orientation\": \"v\", \"text\": \"\", \"type\": \"bar\", \"x\": [0, 1, 2, 3, 4, 5, 6, 7, 8, 9, 10, 11, 12, 13, 14, 15, 16, 17, 18, 19, 20, 21, 22, 23, 24, 25, 26, 27, 28, 29, 30, 31, 32, 33, 34, 35, 36, 37, 38, 39, 40, 41, 42, 43, 44, 45, 46, 47, 48, 49, 50, 51, 52, 53, 54, 55, 56, 57, 58, 59, 60, 61, 62, 63, 64, 65, 66, 67, 68, 69, 70, 71, 72, 73, 74, 75, 76, 77, 78, 79, 80, 81, 82, 83, 84, 85, 86, 87, 88, 89, 90, 91, 92, 93, 94, 95, 96, 97, 98, 99], \"y\": [0.5484513444208927, -2.3254372400024663, -0.17768498503930882, -0.0413575571659648, 1.0377678595702458, -0.7116014651027107, 0.26857162154881, 1.5290566395723573, -0.2567586755527022, -0.357121113255171, 0.8094544672338446, -0.18796083964617127, -0.027477640202128045, -0.11870292311303313, -2.269461527526842, 1.5955328577357266, -0.8644545357821648, -1.8642968220350373, 0.09017916692978532, -1.344766726938334, 1.1745824220442214, -0.8414367236253527, -0.7884004277579315, -0.1489331864549383, 0.7728688387695918, -2.1409153230074534, 0.34821592049908134, -0.27498245733340865, 0.6490421722801153, -0.3095015003082018, 1.3755435096077888, 0.5295635663635087, 0.3035655123758679, -0.15702303716074245, 1.1704292564472734, -1.52193050513255, -0.17304696512117046, 0.500742618651033, -2.411263379463824, -0.2764586244288876, -0.9354022868432563, 1.6180987037807752, -0.5850556670966817, 0.8064515288677078, -0.1925316499670654, 2.1249498691984603, 0.28824678756934996, 1.0808924511417874, -1.0991069038596877, 2.8523270968784757, -0.1462276160136622, -0.7269456317989939, 1.009683169084365, -0.9128087165867703, 2.739386314769789, -1.3757622114686658, 1.4407905278507112, -2.1437891180414965, -0.8685438816408083, -1.0684204255937035, -1.3909622043143515, -1.708519617763413, -1.033225258404668, -0.9273179566800895, 0.9622755612144613, 0.4036958283171158, -2.066620915349806, -0.5313498777603, -0.37213553235231156, 0.5566243901674788, 0.46809411497026965, 0.03231282758546965, 1.5950315245268063, -0.8677057971639819, 0.5934132541166431, 0.6665791844271618, -1.070293341617307, 0.23247746328414118, 0.1636105945212715, 1.3847638680189123, -0.7468787389615569, -0.6336863846695935, -0.15418321052239078, -0.022964779182480508, 0.13067056650667006, -0.8346647281545524, -0.08276756281076375, -0.23593108329391443, 1.4223691939157483, -1.475177034806321, -0.5631133271333681, -0.9498587583942311, -1.1180928581281955, -1.9290450825993415, 0.22878195896987918, -1.16846732408735, -1.201800804545687, 0.6324538976960572, -0.1723277128840355, 0.2296303534317323]}, {\"marker\": {\"color\": \"rgba(50, 171, 96, 0.6)\", \"line\": {\"color\": \"rgba(50, 171, 96, 1.0)\", \"width\": 1}}, \"name\": \"C\", \"orientation\": \"v\", \"text\": \"\", \"type\": \"bar\", \"x\": [0, 1, 2, 3, 4, 5, 6, 7, 8, 9, 10, 11, 12, 13, 14, 15, 16, 17, 18, 19, 20, 21, 22, 23, 24, 25, 26, 27, 28, 29, 30, 31, 32, 33, 34, 35, 36, 37, 38, 39, 40, 41, 42, 43, 44, 45, 46, 47, 48, 49, 50, 51, 52, 53, 54, 55, 56, 57, 58, 59, 60, 61, 62, 63, 64, 65, 66, 67, 68, 69, 70, 71, 72, 73, 74, 75, 76, 77, 78, 79, 80, 81, 82, 83, 84, 85, 86, 87, 88, 89, 90, 91, 92, 93, 94, 95, 96, 97, 98, 99], \"y\": [-0.5983437620713272, -2.6604175619961046, -0.6893577279175397, -0.5229880431507179, -1.1142570311277662, 0.4144329010324235, 1.0709199857046865, 0.24185000081928387, 0.8679028870583181, 0.8552503604199, -0.6897875923656063, -0.6170711861715913, -0.574019045561744, -0.42602932488795464, -0.06540747052858152, 1.01225862618407, 0.5725334774448296, -0.47718574956385784, 0.29591534234625394, 1.0713609097573518, 1.7850760760870759, 0.6615370182444141, -0.09975617128227394, 0.6265897988876452, -0.434442435536369, 0.9189381575943047, 1.1426297546254645, 0.05469376367844408, 0.7664286517069745, 1.4460545893069578, -1.2564294325418002, 0.4220576687942533, 0.6289966738488311, -0.2788764402500565, 0.5015049964356932, 1.514458160544959, 0.2782476011345647, 0.269754598159741, 1.3519102352351455, -0.12193137836822808, -2.178769420790974, 0.8539668969339135, 1.3839608405729358, 0.46683197255988956, 1.8590406800885484, 0.3395093676304781, 0.40311363481143375, -1.0741084327550467, -0.6594594819662645, -0.1065325263332107, 1.0030409948514505, -2.2465625425281024, 0.5250755374331697, 0.5874277050905309, 0.06617762829699439, -0.44520947266094435, 1.5031363729296439, 0.2683309891489996, 0.8941013914258936, 1.1900921079684381, -1.592338528514025, 0.7848888225422255, 1.8842823892513476, -0.2825083302404101, -0.33813550666448006, -0.25537087832581873, -0.7211597678307854, -1.734912570192576, 0.9561537011128859, 0.16208957636882837, -1.2000533555518906, 0.4408341380584331, -1.449277089723586, 0.034329587009165954, -0.04604054983925971, 0.8974630060064327, 0.16304891450080738, 1.9638360203986867, -1.5776099100630412, 0.7609264198270365, 0.969561171471672, -1.0991506011551149, -1.465825439340637, -1.314898729207641, -0.8380424127033789, 0.4373953826702947, 0.45037384631284544, -0.8904920643002715, -0.5810637913845554, 0.3925376368775025, 0.2579651317698921, -1.0810556062247758, -0.31741955255737236, 1.618570911321861, 1.0238726864773395, -0.13573365567790135, -0.8632715661196068, 0.6288163109271624, -0.2819767637068381, 2.2988019665203265]}, {\"marker\": {\"color\": \"rgba(128, 0, 128, 0.6)\", \"line\": {\"color\": \"rgba(128, 0, 128, 1.0)\", \"width\": 1}}, \"name\": \"D\", \"orientation\": \"v\", \"text\": \"\", \"type\": \"bar\", \"x\": [0, 1, 2, 3, 4, 5, 6, 7, 8, 9, 10, 11, 12, 13, 14, 15, 16, 17, 18, 19, 20, 21, 22, 23, 24, 25, 26, 27, 28, 29, 30, 31, 32, 33, 34, 35, 36, 37, 38, 39, 40, 41, 42, 43, 44, 45, 46, 47, 48, 49, 50, 51, 52, 53, 54, 55, 56, 57, 58, 59, 60, 61, 62, 63, 64, 65, 66, 67, 68, 69, 70, 71, 72, 73, 74, 75, 76, 77, 78, 79, 80, 81, 82, 83, 84, 85, 86, 87, 88, 89, 90, 91, 92, 93, 94, 95, 96, 97, 98, 99], \"y\": [0.8338514606350064, -0.10584992645229413, -0.2706609825615641, 0.5996801983644825, 0.40359100466599535, 2.641790207427108, 0.13224103676807694, 0.35313713991942014, 1.144896307631846, 1.9946928047934107, -0.9171338011956501, -0.4791782716060962, -0.6726579700852056, 1.831020641813482, -0.1523547432486442, 0.3354427663278796, -2.441582962241704, 1.9715015842875654, 0.5494742773319939, 0.6145317653973147, -1.1806025799960154, 0.5155567640803262, -1.3242560220644943, 0.041700160836206965, 0.9468186268366223, -0.5619512409700159, -0.7413321342009079, 0.820528530608833, -0.6458138002254487, 0.050524454707551014, 0.862396604461523, 2.253816471768166, 0.4648313687438735, -0.16136990451619151, 2.1987705070284673, -0.5727987959263574, -1.7115241145055666, 2.073776369230856, 0.625241141366843, 1.5292209070329297, -0.5107014925784714, -0.31939413263433497, 0.646758037652685, -0.2779513216230143, -0.19124944161845978, 0.9571695847179208, -1.1048580560914822, -0.8984915407298146, 1.3273431506933735, -1.333150838500644, -0.1985793201190395, 2.019330939054003, 1.2948297395951902, -0.3749962350083088, 0.7563352984444898, 0.1117176438204793, 0.5872748114399307, -0.429718197605014, 1.1580569489872719, -0.7458610043235129, 0.8355882588036868, 0.42485291323705143, 0.4424168054773275, 0.14127394287620942, -0.6154617117321134, -0.5110598682054509, 0.13496982598516002, 1.0245401663215845, -2.0311036813716705, -1.0250819271742715, -1.8636033313844171, 0.8574905588910688, 0.049503038730056084, -0.4104207782106683, -0.13764615619265963, 0.2844344254242617, -0.7411574434948729, -0.9502016965746825, 0.8689197050008775, -1.9318681506349502, 0.471433643085626, 0.585171420032461, 0.6404961794771034, -0.22741488276623759, -1.0205085255341666, 0.05233227104990713, 0.49628856355218215, -0.8950524060645041, 1.8180841461402975, -0.817214388120829, 1.1765542892213678, 0.6038964891497567, -0.29640169240258973, 1.7917165418241447, -0.9923304082753172, 1.4156913840918108, -0.37184430284858083, 0.3670786989417944, -1.0405526567533496, 0.9209916696959721]}],\n",
       "                        {\"legend\": {\"bgcolor\": \"#F5F6F9\", \"font\": {\"color\": \"#4D5663\"}}, \"paper_bgcolor\": \"#F5F6F9\", \"plot_bgcolor\": \"#F5F6F9\", \"template\": {\"data\": {\"bar\": [{\"error_x\": {\"color\": \"#2a3f5f\"}, \"error_y\": {\"color\": \"#2a3f5f\"}, \"marker\": {\"line\": {\"color\": \"#E5ECF6\", \"width\": 0.5}}, \"type\": \"bar\"}], \"barpolar\": [{\"marker\": {\"line\": {\"color\": \"#E5ECF6\", \"width\": 0.5}}, \"type\": \"barpolar\"}], \"carpet\": [{\"aaxis\": {\"endlinecolor\": \"#2a3f5f\", \"gridcolor\": \"white\", \"linecolor\": \"white\", \"minorgridcolor\": \"white\", \"startlinecolor\": \"#2a3f5f\"}, \"baxis\": {\"endlinecolor\": \"#2a3f5f\", \"gridcolor\": \"white\", \"linecolor\": \"white\", \"minorgridcolor\": \"white\", \"startlinecolor\": \"#2a3f5f\"}, \"type\": \"carpet\"}], \"choropleth\": [{\"colorbar\": {\"outlinewidth\": 0, \"ticks\": \"\"}, \"type\": \"choropleth\"}], \"contour\": [{\"colorbar\": {\"outlinewidth\": 0, \"ticks\": \"\"}, \"colorscale\": [[0.0, \"#0d0887\"], [0.1111111111111111, \"#46039f\"], [0.2222222222222222, \"#7201a8\"], [0.3333333333333333, \"#9c179e\"], [0.4444444444444444, \"#bd3786\"], [0.5555555555555556, \"#d8576b\"], [0.6666666666666666, \"#ed7953\"], [0.7777777777777778, \"#fb9f3a\"], [0.8888888888888888, \"#fdca26\"], [1.0, \"#f0f921\"]], \"type\": \"contour\"}], \"contourcarpet\": [{\"colorbar\": {\"outlinewidth\": 0, \"ticks\": \"\"}, \"type\": \"contourcarpet\"}], \"heatmap\": [{\"colorbar\": {\"outlinewidth\": 0, \"ticks\": \"\"}, \"colorscale\": [[0.0, \"#0d0887\"], [0.1111111111111111, \"#46039f\"], [0.2222222222222222, \"#7201a8\"], [0.3333333333333333, \"#9c179e\"], [0.4444444444444444, \"#bd3786\"], [0.5555555555555556, \"#d8576b\"], [0.6666666666666666, \"#ed7953\"], [0.7777777777777778, \"#fb9f3a\"], [0.8888888888888888, \"#fdca26\"], [1.0, \"#f0f921\"]], \"type\": \"heatmap\"}], \"heatmapgl\": [{\"colorbar\": {\"outlinewidth\": 0, \"ticks\": \"\"}, \"colorscale\": [[0.0, \"#0d0887\"], [0.1111111111111111, \"#46039f\"], [0.2222222222222222, \"#7201a8\"], [0.3333333333333333, \"#9c179e\"], [0.4444444444444444, \"#bd3786\"], [0.5555555555555556, \"#d8576b\"], [0.6666666666666666, \"#ed7953\"], [0.7777777777777778, \"#fb9f3a\"], [0.8888888888888888, \"#fdca26\"], [1.0, \"#f0f921\"]], \"type\": \"heatmapgl\"}], \"histogram\": [{\"marker\": {\"colorbar\": {\"outlinewidth\": 0, \"ticks\": \"\"}}, \"type\": \"histogram\"}], \"histogram2d\": [{\"colorbar\": {\"outlinewidth\": 0, \"ticks\": \"\"}, \"colorscale\": [[0.0, \"#0d0887\"], [0.1111111111111111, \"#46039f\"], [0.2222222222222222, \"#7201a8\"], [0.3333333333333333, \"#9c179e\"], [0.4444444444444444, \"#bd3786\"], [0.5555555555555556, \"#d8576b\"], [0.6666666666666666, \"#ed7953\"], [0.7777777777777778, \"#fb9f3a\"], [0.8888888888888888, \"#fdca26\"], [1.0, \"#f0f921\"]], \"type\": \"histogram2d\"}], \"histogram2dcontour\": [{\"colorbar\": {\"outlinewidth\": 0, \"ticks\": \"\"}, \"colorscale\": [[0.0, \"#0d0887\"], [0.1111111111111111, \"#46039f\"], [0.2222222222222222, \"#7201a8\"], [0.3333333333333333, \"#9c179e\"], [0.4444444444444444, \"#bd3786\"], [0.5555555555555556, \"#d8576b\"], [0.6666666666666666, \"#ed7953\"], [0.7777777777777778, \"#fb9f3a\"], [0.8888888888888888, \"#fdca26\"], [1.0, \"#f0f921\"]], \"type\": \"histogram2dcontour\"}], \"mesh3d\": [{\"colorbar\": {\"outlinewidth\": 0, \"ticks\": \"\"}, \"type\": \"mesh3d\"}], \"parcoords\": [{\"line\": {\"colorbar\": {\"outlinewidth\": 0, \"ticks\": \"\"}}, \"type\": \"parcoords\"}], \"pie\": [{\"automargin\": true, \"type\": \"pie\"}], \"scatter\": [{\"marker\": {\"colorbar\": {\"outlinewidth\": 0, \"ticks\": \"\"}}, \"type\": \"scatter\"}], \"scatter3d\": [{\"line\": {\"colorbar\": {\"outlinewidth\": 0, \"ticks\": \"\"}}, \"marker\": {\"colorbar\": {\"outlinewidth\": 0, \"ticks\": \"\"}}, \"type\": \"scatter3d\"}], \"scattercarpet\": [{\"marker\": {\"colorbar\": {\"outlinewidth\": 0, \"ticks\": \"\"}}, \"type\": \"scattercarpet\"}], \"scattergeo\": [{\"marker\": {\"colorbar\": {\"outlinewidth\": 0, \"ticks\": \"\"}}, \"type\": \"scattergeo\"}], \"scattergl\": [{\"marker\": {\"colorbar\": {\"outlinewidth\": 0, \"ticks\": \"\"}}, \"type\": \"scattergl\"}], \"scattermapbox\": [{\"marker\": {\"colorbar\": {\"outlinewidth\": 0, \"ticks\": \"\"}}, \"type\": \"scattermapbox\"}], \"scatterpolar\": [{\"marker\": {\"colorbar\": {\"outlinewidth\": 0, \"ticks\": \"\"}}, \"type\": \"scatterpolar\"}], \"scatterpolargl\": [{\"marker\": {\"colorbar\": {\"outlinewidth\": 0, \"ticks\": \"\"}}, \"type\": \"scatterpolargl\"}], \"scatterternary\": [{\"marker\": {\"colorbar\": {\"outlinewidth\": 0, \"ticks\": \"\"}}, \"type\": \"scatterternary\"}], \"surface\": [{\"colorbar\": {\"outlinewidth\": 0, \"ticks\": \"\"}, \"colorscale\": [[0.0, \"#0d0887\"], [0.1111111111111111, \"#46039f\"], [0.2222222222222222, \"#7201a8\"], [0.3333333333333333, \"#9c179e\"], [0.4444444444444444, \"#bd3786\"], [0.5555555555555556, \"#d8576b\"], [0.6666666666666666, \"#ed7953\"], [0.7777777777777778, \"#fb9f3a\"], [0.8888888888888888, \"#fdca26\"], [1.0, \"#f0f921\"]], \"type\": \"surface\"}], \"table\": [{\"cells\": {\"fill\": {\"color\": \"#EBF0F8\"}, \"line\": {\"color\": \"white\"}}, \"header\": {\"fill\": {\"color\": \"#C8D4E3\"}, \"line\": {\"color\": \"white\"}}, \"type\": \"table\"}]}, \"layout\": {\"annotationdefaults\": {\"arrowcolor\": \"#2a3f5f\", \"arrowhead\": 0, \"arrowwidth\": 1}, \"coloraxis\": {\"colorbar\": {\"outlinewidth\": 0, \"ticks\": \"\"}}, \"colorscale\": {\"diverging\": [[0, \"#8e0152\"], [0.1, \"#c51b7d\"], [0.2, \"#de77ae\"], [0.3, \"#f1b6da\"], [0.4, \"#fde0ef\"], [0.5, \"#f7f7f7\"], [0.6, \"#e6f5d0\"], [0.7, \"#b8e186\"], [0.8, \"#7fbc41\"], [0.9, \"#4d9221\"], [1, \"#276419\"]], \"sequential\": [[0.0, \"#0d0887\"], [0.1111111111111111, \"#46039f\"], [0.2222222222222222, \"#7201a8\"], [0.3333333333333333, \"#9c179e\"], [0.4444444444444444, \"#bd3786\"], [0.5555555555555556, \"#d8576b\"], [0.6666666666666666, \"#ed7953\"], [0.7777777777777778, \"#fb9f3a\"], [0.8888888888888888, \"#fdca26\"], [1.0, \"#f0f921\"]], \"sequentialminus\": [[0.0, \"#0d0887\"], [0.1111111111111111, \"#46039f\"], [0.2222222222222222, \"#7201a8\"], [0.3333333333333333, \"#9c179e\"], [0.4444444444444444, \"#bd3786\"], [0.5555555555555556, \"#d8576b\"], [0.6666666666666666, \"#ed7953\"], [0.7777777777777778, \"#fb9f3a\"], [0.8888888888888888, \"#fdca26\"], [1.0, \"#f0f921\"]]}, \"colorway\": [\"#636efa\", \"#EF553B\", \"#00cc96\", \"#ab63fa\", \"#FFA15A\", \"#19d3f3\", \"#FF6692\", \"#B6E880\", \"#FF97FF\", \"#FECB52\"], \"font\": {\"color\": \"#2a3f5f\"}, \"geo\": {\"bgcolor\": \"white\", \"lakecolor\": \"white\", \"landcolor\": \"#E5ECF6\", \"showlakes\": true, \"showland\": true, \"subunitcolor\": \"white\"}, \"hoverlabel\": {\"align\": \"left\"}, \"hovermode\": \"closest\", \"mapbox\": {\"style\": \"light\"}, \"paper_bgcolor\": \"white\", \"plot_bgcolor\": \"#E5ECF6\", \"polar\": {\"angularaxis\": {\"gridcolor\": \"white\", \"linecolor\": \"white\", \"ticks\": \"\"}, \"bgcolor\": \"#E5ECF6\", \"radialaxis\": {\"gridcolor\": \"white\", \"linecolor\": \"white\", \"ticks\": \"\"}}, \"scene\": {\"xaxis\": {\"backgroundcolor\": \"#E5ECF6\", \"gridcolor\": \"white\", \"gridwidth\": 2, \"linecolor\": \"white\", \"showbackground\": true, \"ticks\": \"\", \"zerolinecolor\": \"white\"}, \"yaxis\": {\"backgroundcolor\": \"#E5ECF6\", \"gridcolor\": \"white\", \"gridwidth\": 2, \"linecolor\": \"white\", \"showbackground\": true, \"ticks\": \"\", \"zerolinecolor\": \"white\"}, \"zaxis\": {\"backgroundcolor\": \"#E5ECF6\", \"gridcolor\": \"white\", \"gridwidth\": 2, \"linecolor\": \"white\", \"showbackground\": true, \"ticks\": \"\", \"zerolinecolor\": \"white\"}}, \"shapedefaults\": {\"line\": {\"color\": \"#2a3f5f\"}}, \"ternary\": {\"aaxis\": {\"gridcolor\": \"white\", \"linecolor\": \"white\", \"ticks\": \"\"}, \"baxis\": {\"gridcolor\": \"white\", \"linecolor\": \"white\", \"ticks\": \"\"}, \"bgcolor\": \"#E5ECF6\", \"caxis\": {\"gridcolor\": \"white\", \"linecolor\": \"white\", \"ticks\": \"\"}}, \"title\": {\"x\": 0.05}, \"xaxis\": {\"automargin\": true, \"gridcolor\": \"white\", \"linecolor\": \"white\", \"ticks\": \"\", \"title\": {\"standoff\": 15}, \"zerolinecolor\": \"white\", \"zerolinewidth\": 2}, \"yaxis\": {\"automargin\": true, \"gridcolor\": \"white\", \"linecolor\": \"white\", \"ticks\": \"\", \"title\": {\"standoff\": 15}, \"zerolinecolor\": \"white\", \"zerolinewidth\": 2}}}, \"title\": {\"font\": {\"color\": \"#4D5663\"}}, \"xaxis\": {\"gridcolor\": \"#E1E5ED\", \"showgrid\": true, \"tickfont\": {\"color\": \"#4D5663\"}, \"title\": {\"font\": {\"color\": \"#4D5663\"}, \"text\": \"\"}, \"zerolinecolor\": \"#E1E5ED\"}, \"yaxis\": {\"gridcolor\": \"#E1E5ED\", \"showgrid\": true, \"tickfont\": {\"color\": \"#4D5663\"}, \"title\": {\"font\": {\"color\": \"#4D5663\"}, \"text\": \"\"}, \"zerolinecolor\": \"#E1E5ED\"}},\n",
       "                        {\"showLink\": true, \"linkText\": \"Export to plot.ly\", \"plotlyServerURL\": \"https://plot.ly\", \"responsive\": true}\n",
       "                    ).then(function(){\n",
       "                            \n",
       "var gd = document.getElementById('f8410a44-61c9-4363-8fb5-ac426755d0d9');\n",
       "var x = new MutationObserver(function (mutations, observer) {{\n",
       "        var display = window.getComputedStyle(gd).display;\n",
       "        if (!display || display === 'none') {{\n",
       "            console.log([gd, 'removed!']);\n",
       "            Plotly.purge(gd);\n",
       "            observer.disconnect();\n",
       "        }}\n",
       "}});\n",
       "\n",
       "// Listen for the removal of the full notebook cells\n",
       "var notebookContainer = gd.closest('#notebook-container');\n",
       "if (notebookContainer) {{\n",
       "    x.observe(notebookContainer, {childList: true});\n",
       "}}\n",
       "\n",
       "// Listen for the clearing of the current output cell\n",
       "var outputEl = gd.closest('.output');\n",
       "if (outputEl) {{\n",
       "    x.observe(outputEl, {childList: true});\n",
       "}}\n",
       "\n",
       "                        })\n",
       "                };\n",
       "                });\n",
       "            </script>\n",
       "        </div>"
      ]
     },
     "metadata": {},
     "output_type": "display_data"
    }
   ],
   "source": [
    "df.iplot(kind='bar')"
   ]
  },
  {
   "cell_type": "code",
   "execution_count": 27,
   "metadata": {},
   "outputs": [
    {
     "data": {
      "application/vnd.plotly.v1+json": {
       "config": {
        "linkText": "Export to plot.ly",
        "plotlyServerURL": "https://plot.ly",
        "showLink": true
       },
       "data": [
        {
         "marker": {
          "color": "rgba(255, 153, 51, 0.6)",
          "line": {
           "color": "rgba(255, 153, 51, 1.0)",
           "width": 1
          }
         },
         "name": "None",
         "orientation": "v",
         "text": "",
         "type": "bar",
         "x": [
          "A",
          "B",
          "C",
          "D"
         ],
         "y": [
          -5.740696682397175,
          -14.535479376785915,
          10.83757707453862,
          15.848631355111248
         ]
        }
       ],
       "layout": {
        "legend": {
         "bgcolor": "#F5F6F9",
         "font": {
          "color": "#4D5663"
         }
        },
        "paper_bgcolor": "#F5F6F9",
        "plot_bgcolor": "#F5F6F9",
        "template": {
         "data": {
          "bar": [
           {
            "error_x": {
             "color": "#2a3f5f"
            },
            "error_y": {
             "color": "#2a3f5f"
            },
            "marker": {
             "line": {
              "color": "#E5ECF6",
              "width": 0.5
             }
            },
            "type": "bar"
           }
          ],
          "barpolar": [
           {
            "marker": {
             "line": {
              "color": "#E5ECF6",
              "width": 0.5
             }
            },
            "type": "barpolar"
           }
          ],
          "carpet": [
           {
            "aaxis": {
             "endlinecolor": "#2a3f5f",
             "gridcolor": "white",
             "linecolor": "white",
             "minorgridcolor": "white",
             "startlinecolor": "#2a3f5f"
            },
            "baxis": {
             "endlinecolor": "#2a3f5f",
             "gridcolor": "white",
             "linecolor": "white",
             "minorgridcolor": "white",
             "startlinecolor": "#2a3f5f"
            },
            "type": "carpet"
           }
          ],
          "choropleth": [
           {
            "colorbar": {
             "outlinewidth": 0,
             "ticks": ""
            },
            "type": "choropleth"
           }
          ],
          "contour": [
           {
            "colorbar": {
             "outlinewidth": 0,
             "ticks": ""
            },
            "colorscale": [
             [
              0,
              "#0d0887"
             ],
             [
              0.1111111111111111,
              "#46039f"
             ],
             [
              0.2222222222222222,
              "#7201a8"
             ],
             [
              0.3333333333333333,
              "#9c179e"
             ],
             [
              0.4444444444444444,
              "#bd3786"
             ],
             [
              0.5555555555555556,
              "#d8576b"
             ],
             [
              0.6666666666666666,
              "#ed7953"
             ],
             [
              0.7777777777777778,
              "#fb9f3a"
             ],
             [
              0.8888888888888888,
              "#fdca26"
             ],
             [
              1,
              "#f0f921"
             ]
            ],
            "type": "contour"
           }
          ],
          "contourcarpet": [
           {
            "colorbar": {
             "outlinewidth": 0,
             "ticks": ""
            },
            "type": "contourcarpet"
           }
          ],
          "heatmap": [
           {
            "colorbar": {
             "outlinewidth": 0,
             "ticks": ""
            },
            "colorscale": [
             [
              0,
              "#0d0887"
             ],
             [
              0.1111111111111111,
              "#46039f"
             ],
             [
              0.2222222222222222,
              "#7201a8"
             ],
             [
              0.3333333333333333,
              "#9c179e"
             ],
             [
              0.4444444444444444,
              "#bd3786"
             ],
             [
              0.5555555555555556,
              "#d8576b"
             ],
             [
              0.6666666666666666,
              "#ed7953"
             ],
             [
              0.7777777777777778,
              "#fb9f3a"
             ],
             [
              0.8888888888888888,
              "#fdca26"
             ],
             [
              1,
              "#f0f921"
             ]
            ],
            "type": "heatmap"
           }
          ],
          "heatmapgl": [
           {
            "colorbar": {
             "outlinewidth": 0,
             "ticks": ""
            },
            "colorscale": [
             [
              0,
              "#0d0887"
             ],
             [
              0.1111111111111111,
              "#46039f"
             ],
             [
              0.2222222222222222,
              "#7201a8"
             ],
             [
              0.3333333333333333,
              "#9c179e"
             ],
             [
              0.4444444444444444,
              "#bd3786"
             ],
             [
              0.5555555555555556,
              "#d8576b"
             ],
             [
              0.6666666666666666,
              "#ed7953"
             ],
             [
              0.7777777777777778,
              "#fb9f3a"
             ],
             [
              0.8888888888888888,
              "#fdca26"
             ],
             [
              1,
              "#f0f921"
             ]
            ],
            "type": "heatmapgl"
           }
          ],
          "histogram": [
           {
            "marker": {
             "colorbar": {
              "outlinewidth": 0,
              "ticks": ""
             }
            },
            "type": "histogram"
           }
          ],
          "histogram2d": [
           {
            "colorbar": {
             "outlinewidth": 0,
             "ticks": ""
            },
            "colorscale": [
             [
              0,
              "#0d0887"
             ],
             [
              0.1111111111111111,
              "#46039f"
             ],
             [
              0.2222222222222222,
              "#7201a8"
             ],
             [
              0.3333333333333333,
              "#9c179e"
             ],
             [
              0.4444444444444444,
              "#bd3786"
             ],
             [
              0.5555555555555556,
              "#d8576b"
             ],
             [
              0.6666666666666666,
              "#ed7953"
             ],
             [
              0.7777777777777778,
              "#fb9f3a"
             ],
             [
              0.8888888888888888,
              "#fdca26"
             ],
             [
              1,
              "#f0f921"
             ]
            ],
            "type": "histogram2d"
           }
          ],
          "histogram2dcontour": [
           {
            "colorbar": {
             "outlinewidth": 0,
             "ticks": ""
            },
            "colorscale": [
             [
              0,
              "#0d0887"
             ],
             [
              0.1111111111111111,
              "#46039f"
             ],
             [
              0.2222222222222222,
              "#7201a8"
             ],
             [
              0.3333333333333333,
              "#9c179e"
             ],
             [
              0.4444444444444444,
              "#bd3786"
             ],
             [
              0.5555555555555556,
              "#d8576b"
             ],
             [
              0.6666666666666666,
              "#ed7953"
             ],
             [
              0.7777777777777778,
              "#fb9f3a"
             ],
             [
              0.8888888888888888,
              "#fdca26"
             ],
             [
              1,
              "#f0f921"
             ]
            ],
            "type": "histogram2dcontour"
           }
          ],
          "mesh3d": [
           {
            "colorbar": {
             "outlinewidth": 0,
             "ticks": ""
            },
            "type": "mesh3d"
           }
          ],
          "parcoords": [
           {
            "line": {
             "colorbar": {
              "outlinewidth": 0,
              "ticks": ""
             }
            },
            "type": "parcoords"
           }
          ],
          "pie": [
           {
            "automargin": true,
            "type": "pie"
           }
          ],
          "scatter": [
           {
            "marker": {
             "colorbar": {
              "outlinewidth": 0,
              "ticks": ""
             }
            },
            "type": "scatter"
           }
          ],
          "scatter3d": [
           {
            "line": {
             "colorbar": {
              "outlinewidth": 0,
              "ticks": ""
             }
            },
            "marker": {
             "colorbar": {
              "outlinewidth": 0,
              "ticks": ""
             }
            },
            "type": "scatter3d"
           }
          ],
          "scattercarpet": [
           {
            "marker": {
             "colorbar": {
              "outlinewidth": 0,
              "ticks": ""
             }
            },
            "type": "scattercarpet"
           }
          ],
          "scattergeo": [
           {
            "marker": {
             "colorbar": {
              "outlinewidth": 0,
              "ticks": ""
             }
            },
            "type": "scattergeo"
           }
          ],
          "scattergl": [
           {
            "marker": {
             "colorbar": {
              "outlinewidth": 0,
              "ticks": ""
             }
            },
            "type": "scattergl"
           }
          ],
          "scattermapbox": [
           {
            "marker": {
             "colorbar": {
              "outlinewidth": 0,
              "ticks": ""
             }
            },
            "type": "scattermapbox"
           }
          ],
          "scatterpolar": [
           {
            "marker": {
             "colorbar": {
              "outlinewidth": 0,
              "ticks": ""
             }
            },
            "type": "scatterpolar"
           }
          ],
          "scatterpolargl": [
           {
            "marker": {
             "colorbar": {
              "outlinewidth": 0,
              "ticks": ""
             }
            },
            "type": "scatterpolargl"
           }
          ],
          "scatterternary": [
           {
            "marker": {
             "colorbar": {
              "outlinewidth": 0,
              "ticks": ""
             }
            },
            "type": "scatterternary"
           }
          ],
          "surface": [
           {
            "colorbar": {
             "outlinewidth": 0,
             "ticks": ""
            },
            "colorscale": [
             [
              0,
              "#0d0887"
             ],
             [
              0.1111111111111111,
              "#46039f"
             ],
             [
              0.2222222222222222,
              "#7201a8"
             ],
             [
              0.3333333333333333,
              "#9c179e"
             ],
             [
              0.4444444444444444,
              "#bd3786"
             ],
             [
              0.5555555555555556,
              "#d8576b"
             ],
             [
              0.6666666666666666,
              "#ed7953"
             ],
             [
              0.7777777777777778,
              "#fb9f3a"
             ],
             [
              0.8888888888888888,
              "#fdca26"
             ],
             [
              1,
              "#f0f921"
             ]
            ],
            "type": "surface"
           }
          ],
          "table": [
           {
            "cells": {
             "fill": {
              "color": "#EBF0F8"
             },
             "line": {
              "color": "white"
             }
            },
            "header": {
             "fill": {
              "color": "#C8D4E3"
             },
             "line": {
              "color": "white"
             }
            },
            "type": "table"
           }
          ]
         },
         "layout": {
          "annotationdefaults": {
           "arrowcolor": "#2a3f5f",
           "arrowhead": 0,
           "arrowwidth": 1
          },
          "coloraxis": {
           "colorbar": {
            "outlinewidth": 0,
            "ticks": ""
           }
          },
          "colorscale": {
           "diverging": [
            [
             0,
             "#8e0152"
            ],
            [
             0.1,
             "#c51b7d"
            ],
            [
             0.2,
             "#de77ae"
            ],
            [
             0.3,
             "#f1b6da"
            ],
            [
             0.4,
             "#fde0ef"
            ],
            [
             0.5,
             "#f7f7f7"
            ],
            [
             0.6,
             "#e6f5d0"
            ],
            [
             0.7,
             "#b8e186"
            ],
            [
             0.8,
             "#7fbc41"
            ],
            [
             0.9,
             "#4d9221"
            ],
            [
             1,
             "#276419"
            ]
           ],
           "sequential": [
            [
             0,
             "#0d0887"
            ],
            [
             0.1111111111111111,
             "#46039f"
            ],
            [
             0.2222222222222222,
             "#7201a8"
            ],
            [
             0.3333333333333333,
             "#9c179e"
            ],
            [
             0.4444444444444444,
             "#bd3786"
            ],
            [
             0.5555555555555556,
             "#d8576b"
            ],
            [
             0.6666666666666666,
             "#ed7953"
            ],
            [
             0.7777777777777778,
             "#fb9f3a"
            ],
            [
             0.8888888888888888,
             "#fdca26"
            ],
            [
             1,
             "#f0f921"
            ]
           ],
           "sequentialminus": [
            [
             0,
             "#0d0887"
            ],
            [
             0.1111111111111111,
             "#46039f"
            ],
            [
             0.2222222222222222,
             "#7201a8"
            ],
            [
             0.3333333333333333,
             "#9c179e"
            ],
            [
             0.4444444444444444,
             "#bd3786"
            ],
            [
             0.5555555555555556,
             "#d8576b"
            ],
            [
             0.6666666666666666,
             "#ed7953"
            ],
            [
             0.7777777777777778,
             "#fb9f3a"
            ],
            [
             0.8888888888888888,
             "#fdca26"
            ],
            [
             1,
             "#f0f921"
            ]
           ]
          },
          "colorway": [
           "#636efa",
           "#EF553B",
           "#00cc96",
           "#ab63fa",
           "#FFA15A",
           "#19d3f3",
           "#FF6692",
           "#B6E880",
           "#FF97FF",
           "#FECB52"
          ],
          "font": {
           "color": "#2a3f5f"
          },
          "geo": {
           "bgcolor": "white",
           "lakecolor": "white",
           "landcolor": "#E5ECF6",
           "showlakes": true,
           "showland": true,
           "subunitcolor": "white"
          },
          "hoverlabel": {
           "align": "left"
          },
          "hovermode": "closest",
          "mapbox": {
           "style": "light"
          },
          "paper_bgcolor": "white",
          "plot_bgcolor": "#E5ECF6",
          "polar": {
           "angularaxis": {
            "gridcolor": "white",
            "linecolor": "white",
            "ticks": ""
           },
           "bgcolor": "#E5ECF6",
           "radialaxis": {
            "gridcolor": "white",
            "linecolor": "white",
            "ticks": ""
           }
          },
          "scene": {
           "xaxis": {
            "backgroundcolor": "#E5ECF6",
            "gridcolor": "white",
            "gridwidth": 2,
            "linecolor": "white",
            "showbackground": true,
            "ticks": "",
            "zerolinecolor": "white"
           },
           "yaxis": {
            "backgroundcolor": "#E5ECF6",
            "gridcolor": "white",
            "gridwidth": 2,
            "linecolor": "white",
            "showbackground": true,
            "ticks": "",
            "zerolinecolor": "white"
           },
           "zaxis": {
            "backgroundcolor": "#E5ECF6",
            "gridcolor": "white",
            "gridwidth": 2,
            "linecolor": "white",
            "showbackground": true,
            "ticks": "",
            "zerolinecolor": "white"
           }
          },
          "shapedefaults": {
           "line": {
            "color": "#2a3f5f"
           }
          },
          "ternary": {
           "aaxis": {
            "gridcolor": "white",
            "linecolor": "white",
            "ticks": ""
           },
           "baxis": {
            "gridcolor": "white",
            "linecolor": "white",
            "ticks": ""
           },
           "bgcolor": "#E5ECF6",
           "caxis": {
            "gridcolor": "white",
            "linecolor": "white",
            "ticks": ""
           }
          },
          "title": {
           "x": 0.05
          },
          "xaxis": {
           "automargin": true,
           "gridcolor": "white",
           "linecolor": "white",
           "ticks": "",
           "title": {
            "standoff": 15
           },
           "zerolinecolor": "white",
           "zerolinewidth": 2
          },
          "yaxis": {
           "automargin": true,
           "gridcolor": "white",
           "linecolor": "white",
           "ticks": "",
           "title": {
            "standoff": 15
           },
           "zerolinecolor": "white",
           "zerolinewidth": 2
          }
         }
        },
        "title": {
         "font": {
          "color": "#4D5663"
         }
        },
        "xaxis": {
         "gridcolor": "#E1E5ED",
         "showgrid": true,
         "tickfont": {
          "color": "#4D5663"
         },
         "title": {
          "font": {
           "color": "#4D5663"
          },
          "text": ""
         },
         "zerolinecolor": "#E1E5ED"
        },
        "yaxis": {
         "gridcolor": "#E1E5ED",
         "showgrid": true,
         "tickfont": {
          "color": "#4D5663"
         },
         "title": {
          "font": {
           "color": "#4D5663"
          },
          "text": ""
         },
         "zerolinecolor": "#E1E5ED"
        }
       }
      },
      "text/html": [
       "<div>\n",
       "        \n",
       "        \n",
       "            <div id=\"30bd82a6-3ed2-482c-b62f-25be3e0a880c\" class=\"plotly-graph-div\" style=\"height:525px; width:100%;\"></div>\n",
       "            <script type=\"text/javascript\">\n",
       "                require([\"plotly\"], function(Plotly) {\n",
       "                    window.PLOTLYENV=window.PLOTLYENV || {};\n",
       "                    window.PLOTLYENV.BASE_URL='https://plot.ly';\n",
       "                    \n",
       "                if (document.getElementById(\"30bd82a6-3ed2-482c-b62f-25be3e0a880c\")) {\n",
       "                    Plotly.newPlot(\n",
       "                        '30bd82a6-3ed2-482c-b62f-25be3e0a880c',\n",
       "                        [{\"marker\": {\"color\": \"rgba(255, 153, 51, 0.6)\", \"line\": {\"color\": \"rgba(255, 153, 51, 1.0)\", \"width\": 1}}, \"name\": \"None\", \"orientation\": \"v\", \"text\": \"\", \"type\": \"bar\", \"x\": [\"A\", \"B\", \"C\", \"D\"], \"y\": [-5.740696682397175, -14.535479376785915, 10.83757707453862, 15.848631355111248]}],\n",
       "                        {\"legend\": {\"bgcolor\": \"#F5F6F9\", \"font\": {\"color\": \"#4D5663\"}}, \"paper_bgcolor\": \"#F5F6F9\", \"plot_bgcolor\": \"#F5F6F9\", \"template\": {\"data\": {\"bar\": [{\"error_x\": {\"color\": \"#2a3f5f\"}, \"error_y\": {\"color\": \"#2a3f5f\"}, \"marker\": {\"line\": {\"color\": \"#E5ECF6\", \"width\": 0.5}}, \"type\": \"bar\"}], \"barpolar\": [{\"marker\": {\"line\": {\"color\": \"#E5ECF6\", \"width\": 0.5}}, \"type\": \"barpolar\"}], \"carpet\": [{\"aaxis\": {\"endlinecolor\": \"#2a3f5f\", \"gridcolor\": \"white\", \"linecolor\": \"white\", \"minorgridcolor\": \"white\", \"startlinecolor\": \"#2a3f5f\"}, \"baxis\": {\"endlinecolor\": \"#2a3f5f\", \"gridcolor\": \"white\", \"linecolor\": \"white\", \"minorgridcolor\": \"white\", \"startlinecolor\": \"#2a3f5f\"}, \"type\": \"carpet\"}], \"choropleth\": [{\"colorbar\": {\"outlinewidth\": 0, \"ticks\": \"\"}, \"type\": \"choropleth\"}], \"contour\": [{\"colorbar\": {\"outlinewidth\": 0, \"ticks\": \"\"}, \"colorscale\": [[0.0, \"#0d0887\"], [0.1111111111111111, \"#46039f\"], [0.2222222222222222, \"#7201a8\"], [0.3333333333333333, \"#9c179e\"], [0.4444444444444444, \"#bd3786\"], [0.5555555555555556, \"#d8576b\"], [0.6666666666666666, \"#ed7953\"], [0.7777777777777778, \"#fb9f3a\"], [0.8888888888888888, \"#fdca26\"], [1.0, \"#f0f921\"]], \"type\": \"contour\"}], \"contourcarpet\": [{\"colorbar\": {\"outlinewidth\": 0, \"ticks\": \"\"}, \"type\": \"contourcarpet\"}], \"heatmap\": [{\"colorbar\": {\"outlinewidth\": 0, \"ticks\": \"\"}, \"colorscale\": [[0.0, \"#0d0887\"], [0.1111111111111111, \"#46039f\"], [0.2222222222222222, \"#7201a8\"], [0.3333333333333333, \"#9c179e\"], [0.4444444444444444, \"#bd3786\"], [0.5555555555555556, \"#d8576b\"], [0.6666666666666666, \"#ed7953\"], [0.7777777777777778, \"#fb9f3a\"], [0.8888888888888888, \"#fdca26\"], [1.0, \"#f0f921\"]], \"type\": \"heatmap\"}], \"heatmapgl\": [{\"colorbar\": {\"outlinewidth\": 0, \"ticks\": \"\"}, \"colorscale\": [[0.0, \"#0d0887\"], [0.1111111111111111, \"#46039f\"], [0.2222222222222222, \"#7201a8\"], [0.3333333333333333, \"#9c179e\"], [0.4444444444444444, \"#bd3786\"], [0.5555555555555556, \"#d8576b\"], [0.6666666666666666, \"#ed7953\"], [0.7777777777777778, \"#fb9f3a\"], [0.8888888888888888, \"#fdca26\"], [1.0, \"#f0f921\"]], \"type\": \"heatmapgl\"}], \"histogram\": [{\"marker\": {\"colorbar\": {\"outlinewidth\": 0, \"ticks\": \"\"}}, \"type\": \"histogram\"}], \"histogram2d\": [{\"colorbar\": {\"outlinewidth\": 0, \"ticks\": \"\"}, \"colorscale\": [[0.0, \"#0d0887\"], [0.1111111111111111, \"#46039f\"], [0.2222222222222222, \"#7201a8\"], [0.3333333333333333, \"#9c179e\"], [0.4444444444444444, \"#bd3786\"], [0.5555555555555556, \"#d8576b\"], [0.6666666666666666, \"#ed7953\"], [0.7777777777777778, \"#fb9f3a\"], [0.8888888888888888, \"#fdca26\"], [1.0, \"#f0f921\"]], \"type\": \"histogram2d\"}], \"histogram2dcontour\": [{\"colorbar\": {\"outlinewidth\": 0, \"ticks\": \"\"}, \"colorscale\": [[0.0, \"#0d0887\"], [0.1111111111111111, \"#46039f\"], [0.2222222222222222, \"#7201a8\"], [0.3333333333333333, \"#9c179e\"], [0.4444444444444444, \"#bd3786\"], [0.5555555555555556, \"#d8576b\"], [0.6666666666666666, \"#ed7953\"], [0.7777777777777778, \"#fb9f3a\"], [0.8888888888888888, \"#fdca26\"], [1.0, \"#f0f921\"]], \"type\": \"histogram2dcontour\"}], \"mesh3d\": [{\"colorbar\": {\"outlinewidth\": 0, \"ticks\": \"\"}, \"type\": \"mesh3d\"}], \"parcoords\": [{\"line\": {\"colorbar\": {\"outlinewidth\": 0, \"ticks\": \"\"}}, \"type\": \"parcoords\"}], \"pie\": [{\"automargin\": true, \"type\": \"pie\"}], \"scatter\": [{\"marker\": {\"colorbar\": {\"outlinewidth\": 0, \"ticks\": \"\"}}, \"type\": \"scatter\"}], \"scatter3d\": [{\"line\": {\"colorbar\": {\"outlinewidth\": 0, \"ticks\": \"\"}}, \"marker\": {\"colorbar\": {\"outlinewidth\": 0, \"ticks\": \"\"}}, \"type\": \"scatter3d\"}], \"scattercarpet\": [{\"marker\": {\"colorbar\": {\"outlinewidth\": 0, \"ticks\": \"\"}}, \"type\": \"scattercarpet\"}], \"scattergeo\": [{\"marker\": {\"colorbar\": {\"outlinewidth\": 0, \"ticks\": \"\"}}, \"type\": \"scattergeo\"}], \"scattergl\": [{\"marker\": {\"colorbar\": {\"outlinewidth\": 0, \"ticks\": \"\"}}, \"type\": \"scattergl\"}], \"scattermapbox\": [{\"marker\": {\"colorbar\": {\"outlinewidth\": 0, \"ticks\": \"\"}}, \"type\": \"scattermapbox\"}], \"scatterpolar\": [{\"marker\": {\"colorbar\": {\"outlinewidth\": 0, \"ticks\": \"\"}}, \"type\": \"scatterpolar\"}], \"scatterpolargl\": [{\"marker\": {\"colorbar\": {\"outlinewidth\": 0, \"ticks\": \"\"}}, \"type\": \"scatterpolargl\"}], \"scatterternary\": [{\"marker\": {\"colorbar\": {\"outlinewidth\": 0, \"ticks\": \"\"}}, \"type\": \"scatterternary\"}], \"surface\": [{\"colorbar\": {\"outlinewidth\": 0, \"ticks\": \"\"}, \"colorscale\": [[0.0, \"#0d0887\"], [0.1111111111111111, \"#46039f\"], [0.2222222222222222, \"#7201a8\"], [0.3333333333333333, \"#9c179e\"], [0.4444444444444444, \"#bd3786\"], [0.5555555555555556, \"#d8576b\"], [0.6666666666666666, \"#ed7953\"], [0.7777777777777778, \"#fb9f3a\"], [0.8888888888888888, \"#fdca26\"], [1.0, \"#f0f921\"]], \"type\": \"surface\"}], \"table\": [{\"cells\": {\"fill\": {\"color\": \"#EBF0F8\"}, \"line\": {\"color\": \"white\"}}, \"header\": {\"fill\": {\"color\": \"#C8D4E3\"}, \"line\": {\"color\": \"white\"}}, \"type\": \"table\"}]}, \"layout\": {\"annotationdefaults\": {\"arrowcolor\": \"#2a3f5f\", \"arrowhead\": 0, \"arrowwidth\": 1}, \"coloraxis\": {\"colorbar\": {\"outlinewidth\": 0, \"ticks\": \"\"}}, \"colorscale\": {\"diverging\": [[0, \"#8e0152\"], [0.1, \"#c51b7d\"], [0.2, \"#de77ae\"], [0.3, \"#f1b6da\"], [0.4, \"#fde0ef\"], [0.5, \"#f7f7f7\"], [0.6, \"#e6f5d0\"], [0.7, \"#b8e186\"], [0.8, \"#7fbc41\"], [0.9, \"#4d9221\"], [1, \"#276419\"]], \"sequential\": [[0.0, \"#0d0887\"], [0.1111111111111111, \"#46039f\"], [0.2222222222222222, \"#7201a8\"], [0.3333333333333333, \"#9c179e\"], [0.4444444444444444, \"#bd3786\"], [0.5555555555555556, \"#d8576b\"], [0.6666666666666666, \"#ed7953\"], [0.7777777777777778, \"#fb9f3a\"], [0.8888888888888888, \"#fdca26\"], [1.0, \"#f0f921\"]], \"sequentialminus\": [[0.0, \"#0d0887\"], [0.1111111111111111, \"#46039f\"], [0.2222222222222222, \"#7201a8\"], [0.3333333333333333, \"#9c179e\"], [0.4444444444444444, \"#bd3786\"], [0.5555555555555556, \"#d8576b\"], [0.6666666666666666, \"#ed7953\"], [0.7777777777777778, \"#fb9f3a\"], [0.8888888888888888, \"#fdca26\"], [1.0, \"#f0f921\"]]}, \"colorway\": [\"#636efa\", \"#EF553B\", \"#00cc96\", \"#ab63fa\", \"#FFA15A\", \"#19d3f3\", \"#FF6692\", \"#B6E880\", \"#FF97FF\", \"#FECB52\"], \"font\": {\"color\": \"#2a3f5f\"}, \"geo\": {\"bgcolor\": \"white\", \"lakecolor\": \"white\", \"landcolor\": \"#E5ECF6\", \"showlakes\": true, \"showland\": true, \"subunitcolor\": \"white\"}, \"hoverlabel\": {\"align\": \"left\"}, \"hovermode\": \"closest\", \"mapbox\": {\"style\": \"light\"}, \"paper_bgcolor\": \"white\", \"plot_bgcolor\": \"#E5ECF6\", \"polar\": {\"angularaxis\": {\"gridcolor\": \"white\", \"linecolor\": \"white\", \"ticks\": \"\"}, \"bgcolor\": \"#E5ECF6\", \"radialaxis\": {\"gridcolor\": \"white\", \"linecolor\": \"white\", \"ticks\": \"\"}}, \"scene\": {\"xaxis\": {\"backgroundcolor\": \"#E5ECF6\", \"gridcolor\": \"white\", \"gridwidth\": 2, \"linecolor\": \"white\", \"showbackground\": true, \"ticks\": \"\", \"zerolinecolor\": \"white\"}, \"yaxis\": {\"backgroundcolor\": \"#E5ECF6\", \"gridcolor\": \"white\", \"gridwidth\": 2, \"linecolor\": \"white\", \"showbackground\": true, \"ticks\": \"\", \"zerolinecolor\": \"white\"}, \"zaxis\": {\"backgroundcolor\": \"#E5ECF6\", \"gridcolor\": \"white\", \"gridwidth\": 2, \"linecolor\": \"white\", \"showbackground\": true, \"ticks\": \"\", \"zerolinecolor\": \"white\"}}, \"shapedefaults\": {\"line\": {\"color\": \"#2a3f5f\"}}, \"ternary\": {\"aaxis\": {\"gridcolor\": \"white\", \"linecolor\": \"white\", \"ticks\": \"\"}, \"baxis\": {\"gridcolor\": \"white\", \"linecolor\": \"white\", \"ticks\": \"\"}, \"bgcolor\": \"#E5ECF6\", \"caxis\": {\"gridcolor\": \"white\", \"linecolor\": \"white\", \"ticks\": \"\"}}, \"title\": {\"x\": 0.05}, \"xaxis\": {\"automargin\": true, \"gridcolor\": \"white\", \"linecolor\": \"white\", \"ticks\": \"\", \"title\": {\"standoff\": 15}, \"zerolinecolor\": \"white\", \"zerolinewidth\": 2}, \"yaxis\": {\"automargin\": true, \"gridcolor\": \"white\", \"linecolor\": \"white\", \"ticks\": \"\", \"title\": {\"standoff\": 15}, \"zerolinecolor\": \"white\", \"zerolinewidth\": 2}}}, \"title\": {\"font\": {\"color\": \"#4D5663\"}}, \"xaxis\": {\"gridcolor\": \"#E1E5ED\", \"showgrid\": true, \"tickfont\": {\"color\": \"#4D5663\"}, \"title\": {\"font\": {\"color\": \"#4D5663\"}, \"text\": \"\"}, \"zerolinecolor\": \"#E1E5ED\"}, \"yaxis\": {\"gridcolor\": \"#E1E5ED\", \"showgrid\": true, \"tickfont\": {\"color\": \"#4D5663\"}, \"title\": {\"font\": {\"color\": \"#4D5663\"}, \"text\": \"\"}, \"zerolinecolor\": \"#E1E5ED\"}},\n",
       "                        {\"showLink\": true, \"linkText\": \"Export to plot.ly\", \"plotlyServerURL\": \"https://plot.ly\", \"responsive\": true}\n",
       "                    ).then(function(){\n",
       "                            \n",
       "var gd = document.getElementById('30bd82a6-3ed2-482c-b62f-25be3e0a880c');\n",
       "var x = new MutationObserver(function (mutations, observer) {{\n",
       "        var display = window.getComputedStyle(gd).display;\n",
       "        if (!display || display === 'none') {{\n",
       "            console.log([gd, 'removed!']);\n",
       "            Plotly.purge(gd);\n",
       "            observer.disconnect();\n",
       "        }}\n",
       "}});\n",
       "\n",
       "// Listen for the removal of the full notebook cells\n",
       "var notebookContainer = gd.closest('#notebook-container');\n",
       "if (notebookContainer) {{\n",
       "    x.observe(notebookContainer, {childList: true});\n",
       "}}\n",
       "\n",
       "// Listen for the clearing of the current output cell\n",
       "var outputEl = gd.closest('.output');\n",
       "if (outputEl) {{\n",
       "    x.observe(outputEl, {childList: true});\n",
       "}}\n",
       "\n",
       "                        })\n",
       "                };\n",
       "                });\n",
       "            </script>\n",
       "        </div>"
      ]
     },
     "metadata": {},
     "output_type": "display_data"
    }
   ],
   "source": [
    "df.sum().iplot(kind='bar')"
   ]
  },
  {
   "cell_type": "code",
   "execution_count": 28,
   "metadata": {},
   "outputs": [
    {
     "data": {
      "application/vnd.plotly.v1+json": {
       "config": {
        "linkText": "Export to plot.ly",
        "plotlyServerURL": "https://plot.ly",
        "showLink": true
       },
       "data": [
        {
         "boxpoints": false,
         "line": {
          "width": 1.3
         },
         "marker": {
          "color": "rgba(255, 153, 51, 1.0)"
         },
         "name": "A",
         "orientation": "v",
         "type": "box",
         "y": [
          -0.171640601897393,
          -0.43651310026760143,
          0.1915612390123302,
          -1.056703312019151,
          0.4223324960551365,
          1.2877468203367912,
          -0.5709727518406853,
          2.1648676554773516,
          -1.2710537136872033,
          0.16778935785866875,
          1.0923398653718392,
          0.4925306791099881,
          -0.703668513206629,
          -1.4524459966421268,
          -1.2744387261513341,
          0.48551604613423355,
          -0.08955322711220023,
          -0.29027573121328615,
          0.7745650160804478,
          -1.1099619262798022,
          -1.9683383872344231,
          -0.29436352576008007,
          -0.6114534149828592,
          -0.6016002569315776,
          0.6621081449698877,
          0.21266807621964742,
          -0.14196204190623365,
          0.8455808080508328,
          2.218513523093423,
          1.225509030816993,
          -0.05744835346384874,
          -0.11673789320091013,
          -0.30301635565632434,
          -0.6627327489766144,
          -0.294755132084432,
          -0.133052082126597,
          -0.7027262561520775,
          0.21363941721995688,
          0.7533029620632767,
          0.9161599146948339,
          -0.38695616486884626,
          0.19596958959686875,
          2.1597457209110167,
          1.6330219307099394,
          -0.053064503558190354,
          0.6603445747130693,
          0.3207945904648976,
          -1.1050354243244225,
          1.5637954578971218,
          1.2541918745480611,
          -2.095064611555383,
          -0.7845842103111716,
          -0.19468049802855614,
          -0.4014548287149151,
          0.3407950800545804,
          0.03272595875779687,
          -1.3056241417427392,
          0.7438543233795972,
          -1.3227506872869208,
          1.0784707979095176,
          -0.815334722857213,
          -0.5373819359409527,
          -1.0606203281249487,
          0.441700587416723,
          -0.32878279305935415,
          -0.46581137917888865,
          -1.0904053135674916,
          -1.26924927808231,
          0.31270617806826667,
          0.6970749712875615,
          0.3153736148451356,
          -0.45080146910650637,
          -0.2720063615339261,
          1.4044677356602207,
          -0.019348041080346393,
          1.1049428128294767,
          -2.377128291270848,
          -1.5073793637973727,
          -0.926666748211941,
          1.8579700229276017,
          -1.2116095443091348,
          0.8236413783722552,
          -0.32430248425442165,
          2.0906677707983916,
          -0.7044681959680065,
          -0.1546026406012769,
          -0.9385406062305209,
          -0.8692498584291668,
          -2.3768058600922677,
          -2.4065090278566914,
          1.7172860060023276,
          0.16700914108697476,
          -1.0892987171083033,
          1.1821925982620303,
          0.3761064908178598,
          -0.6081613870137292,
          0.5683748477954369,
          -0.2666353852917895,
          0.9020386387275965,
          0.22303842334880358
         ]
        },
        {
         "boxpoints": false,
         "line": {
          "width": 1.3
         },
         "marker": {
          "color": "rgba(55, 128, 191, 1.0)"
         },
         "name": "B",
         "orientation": "v",
         "type": "box",
         "y": [
          0.5484513444208927,
          -2.3254372400024663,
          -0.17768498503930882,
          -0.0413575571659648,
          1.0377678595702458,
          -0.7116014651027107,
          0.26857162154881,
          1.5290566395723573,
          -0.2567586755527022,
          -0.357121113255171,
          0.8094544672338446,
          -0.18796083964617127,
          -0.027477640202128045,
          -0.11870292311303313,
          -2.269461527526842,
          1.5955328577357266,
          -0.8644545357821648,
          -1.8642968220350373,
          0.09017916692978532,
          -1.344766726938334,
          1.1745824220442214,
          -0.8414367236253527,
          -0.7884004277579315,
          -0.1489331864549383,
          0.7728688387695918,
          -2.1409153230074534,
          0.34821592049908134,
          -0.27498245733340865,
          0.6490421722801153,
          -0.3095015003082018,
          1.3755435096077888,
          0.5295635663635087,
          0.3035655123758679,
          -0.15702303716074245,
          1.1704292564472734,
          -1.52193050513255,
          -0.17304696512117046,
          0.500742618651033,
          -2.411263379463824,
          -0.2764586244288876,
          -0.9354022868432563,
          1.6180987037807752,
          -0.5850556670966817,
          0.8064515288677078,
          -0.1925316499670654,
          2.1249498691984603,
          0.28824678756934996,
          1.0808924511417874,
          -1.0991069038596877,
          2.8523270968784757,
          -0.1462276160136622,
          -0.7269456317989939,
          1.009683169084365,
          -0.9128087165867703,
          2.739386314769789,
          -1.3757622114686658,
          1.4407905278507112,
          -2.1437891180414965,
          -0.8685438816408083,
          -1.0684204255937035,
          -1.3909622043143515,
          -1.708519617763413,
          -1.033225258404668,
          -0.9273179566800895,
          0.9622755612144613,
          0.4036958283171158,
          -2.066620915349806,
          -0.5313498777603,
          -0.37213553235231156,
          0.5566243901674788,
          0.46809411497026965,
          0.03231282758546965,
          1.5950315245268063,
          -0.8677057971639819,
          0.5934132541166431,
          0.6665791844271618,
          -1.070293341617307,
          0.23247746328414118,
          0.1636105945212715,
          1.3847638680189123,
          -0.7468787389615569,
          -0.6336863846695935,
          -0.15418321052239078,
          -0.022964779182480508,
          0.13067056650667006,
          -0.8346647281545524,
          -0.08276756281076375,
          -0.23593108329391443,
          1.4223691939157483,
          -1.475177034806321,
          -0.5631133271333681,
          -0.9498587583942311,
          -1.1180928581281955,
          -1.9290450825993415,
          0.22878195896987918,
          -1.16846732408735,
          -1.201800804545687,
          0.6324538976960572,
          -0.1723277128840355,
          0.2296303534317323
         ]
        },
        {
         "boxpoints": false,
         "line": {
          "width": 1.3
         },
         "marker": {
          "color": "rgba(50, 171, 96, 1.0)"
         },
         "name": "C",
         "orientation": "v",
         "type": "box",
         "y": [
          -0.5983437620713272,
          -2.6604175619961046,
          -0.6893577279175397,
          -0.5229880431507179,
          -1.1142570311277662,
          0.4144329010324235,
          1.0709199857046865,
          0.24185000081928387,
          0.8679028870583181,
          0.8552503604199,
          -0.6897875923656063,
          -0.6170711861715913,
          -0.574019045561744,
          -0.42602932488795464,
          -0.06540747052858152,
          1.01225862618407,
          0.5725334774448296,
          -0.47718574956385784,
          0.29591534234625394,
          1.0713609097573518,
          1.7850760760870759,
          0.6615370182444141,
          -0.09975617128227394,
          0.6265897988876452,
          -0.434442435536369,
          0.9189381575943047,
          1.1426297546254645,
          0.05469376367844408,
          0.7664286517069745,
          1.4460545893069578,
          -1.2564294325418002,
          0.4220576687942533,
          0.6289966738488311,
          -0.2788764402500565,
          0.5015049964356932,
          1.514458160544959,
          0.2782476011345647,
          0.269754598159741,
          1.3519102352351455,
          -0.12193137836822808,
          -2.178769420790974,
          0.8539668969339135,
          1.3839608405729358,
          0.46683197255988956,
          1.8590406800885484,
          0.3395093676304781,
          0.40311363481143375,
          -1.0741084327550467,
          -0.6594594819662645,
          -0.1065325263332107,
          1.0030409948514505,
          -2.2465625425281024,
          0.5250755374331697,
          0.5874277050905309,
          0.06617762829699439,
          -0.44520947266094435,
          1.5031363729296439,
          0.2683309891489996,
          0.8941013914258936,
          1.1900921079684381,
          -1.592338528514025,
          0.7848888225422255,
          1.8842823892513476,
          -0.2825083302404101,
          -0.33813550666448006,
          -0.25537087832581873,
          -0.7211597678307854,
          -1.734912570192576,
          0.9561537011128859,
          0.16208957636882837,
          -1.2000533555518906,
          0.4408341380584331,
          -1.449277089723586,
          0.034329587009165954,
          -0.04604054983925971,
          0.8974630060064327,
          0.16304891450080738,
          1.9638360203986867,
          -1.5776099100630412,
          0.7609264198270365,
          0.969561171471672,
          -1.0991506011551149,
          -1.465825439340637,
          -1.314898729207641,
          -0.8380424127033789,
          0.4373953826702947,
          0.45037384631284544,
          -0.8904920643002715,
          -0.5810637913845554,
          0.3925376368775025,
          0.2579651317698921,
          -1.0810556062247758,
          -0.31741955255737236,
          1.618570911321861,
          1.0238726864773395,
          -0.13573365567790135,
          -0.8632715661196068,
          0.6288163109271624,
          -0.2819767637068381,
          2.2988019665203265
         ]
        },
        {
         "boxpoints": false,
         "line": {
          "width": 1.3
         },
         "marker": {
          "color": "rgba(128, 0, 128, 1.0)"
         },
         "name": "D",
         "orientation": "v",
         "type": "box",
         "y": [
          0.8338514606350064,
          -0.10584992645229413,
          -0.2706609825615641,
          0.5996801983644825,
          0.40359100466599535,
          2.641790207427108,
          0.13224103676807694,
          0.35313713991942014,
          1.144896307631846,
          1.9946928047934107,
          -0.9171338011956501,
          -0.4791782716060962,
          -0.6726579700852056,
          1.831020641813482,
          -0.1523547432486442,
          0.3354427663278796,
          -2.441582962241704,
          1.9715015842875654,
          0.5494742773319939,
          0.6145317653973147,
          -1.1806025799960154,
          0.5155567640803262,
          -1.3242560220644943,
          0.041700160836206965,
          0.9468186268366223,
          -0.5619512409700159,
          -0.7413321342009079,
          0.820528530608833,
          -0.6458138002254487,
          0.050524454707551014,
          0.862396604461523,
          2.253816471768166,
          0.4648313687438735,
          -0.16136990451619151,
          2.1987705070284673,
          -0.5727987959263574,
          -1.7115241145055666,
          2.073776369230856,
          0.625241141366843,
          1.5292209070329297,
          -0.5107014925784714,
          -0.31939413263433497,
          0.646758037652685,
          -0.2779513216230143,
          -0.19124944161845978,
          0.9571695847179208,
          -1.1048580560914822,
          -0.8984915407298146,
          1.3273431506933735,
          -1.333150838500644,
          -0.1985793201190395,
          2.019330939054003,
          1.2948297395951902,
          -0.3749962350083088,
          0.7563352984444898,
          0.1117176438204793,
          0.5872748114399307,
          -0.429718197605014,
          1.1580569489872719,
          -0.7458610043235129,
          0.8355882588036868,
          0.42485291323705143,
          0.4424168054773275,
          0.14127394287620942,
          -0.6154617117321134,
          -0.5110598682054509,
          0.13496982598516002,
          1.0245401663215845,
          -2.0311036813716705,
          -1.0250819271742715,
          -1.8636033313844171,
          0.8574905588910688,
          0.049503038730056084,
          -0.4104207782106683,
          -0.13764615619265963,
          0.2844344254242617,
          -0.7411574434948729,
          -0.9502016965746825,
          0.8689197050008775,
          -1.9318681506349502,
          0.471433643085626,
          0.585171420032461,
          0.6404961794771034,
          -0.22741488276623759,
          -1.0205085255341666,
          0.05233227104990713,
          0.49628856355218215,
          -0.8950524060645041,
          1.8180841461402975,
          -0.817214388120829,
          1.1765542892213678,
          0.6038964891497567,
          -0.29640169240258973,
          1.7917165418241447,
          -0.9923304082753172,
          1.4156913840918108,
          -0.37184430284858083,
          0.3670786989417944,
          -1.0405526567533496,
          0.9209916696959721
         ]
        }
       ],
       "layout": {
        "legend": {
         "bgcolor": "#F5F6F9",
         "font": {
          "color": "#4D5663"
         }
        },
        "paper_bgcolor": "#F5F6F9",
        "plot_bgcolor": "#F5F6F9",
        "template": {
         "data": {
          "bar": [
           {
            "error_x": {
             "color": "#2a3f5f"
            },
            "error_y": {
             "color": "#2a3f5f"
            },
            "marker": {
             "line": {
              "color": "#E5ECF6",
              "width": 0.5
             }
            },
            "type": "bar"
           }
          ],
          "barpolar": [
           {
            "marker": {
             "line": {
              "color": "#E5ECF6",
              "width": 0.5
             }
            },
            "type": "barpolar"
           }
          ],
          "carpet": [
           {
            "aaxis": {
             "endlinecolor": "#2a3f5f",
             "gridcolor": "white",
             "linecolor": "white",
             "minorgridcolor": "white",
             "startlinecolor": "#2a3f5f"
            },
            "baxis": {
             "endlinecolor": "#2a3f5f",
             "gridcolor": "white",
             "linecolor": "white",
             "minorgridcolor": "white",
             "startlinecolor": "#2a3f5f"
            },
            "type": "carpet"
           }
          ],
          "choropleth": [
           {
            "colorbar": {
             "outlinewidth": 0,
             "ticks": ""
            },
            "type": "choropleth"
           }
          ],
          "contour": [
           {
            "colorbar": {
             "outlinewidth": 0,
             "ticks": ""
            },
            "colorscale": [
             [
              0,
              "#0d0887"
             ],
             [
              0.1111111111111111,
              "#46039f"
             ],
             [
              0.2222222222222222,
              "#7201a8"
             ],
             [
              0.3333333333333333,
              "#9c179e"
             ],
             [
              0.4444444444444444,
              "#bd3786"
             ],
             [
              0.5555555555555556,
              "#d8576b"
             ],
             [
              0.6666666666666666,
              "#ed7953"
             ],
             [
              0.7777777777777778,
              "#fb9f3a"
             ],
             [
              0.8888888888888888,
              "#fdca26"
             ],
             [
              1,
              "#f0f921"
             ]
            ],
            "type": "contour"
           }
          ],
          "contourcarpet": [
           {
            "colorbar": {
             "outlinewidth": 0,
             "ticks": ""
            },
            "type": "contourcarpet"
           }
          ],
          "heatmap": [
           {
            "colorbar": {
             "outlinewidth": 0,
             "ticks": ""
            },
            "colorscale": [
             [
              0,
              "#0d0887"
             ],
             [
              0.1111111111111111,
              "#46039f"
             ],
             [
              0.2222222222222222,
              "#7201a8"
             ],
             [
              0.3333333333333333,
              "#9c179e"
             ],
             [
              0.4444444444444444,
              "#bd3786"
             ],
             [
              0.5555555555555556,
              "#d8576b"
             ],
             [
              0.6666666666666666,
              "#ed7953"
             ],
             [
              0.7777777777777778,
              "#fb9f3a"
             ],
             [
              0.8888888888888888,
              "#fdca26"
             ],
             [
              1,
              "#f0f921"
             ]
            ],
            "type": "heatmap"
           }
          ],
          "heatmapgl": [
           {
            "colorbar": {
             "outlinewidth": 0,
             "ticks": ""
            },
            "colorscale": [
             [
              0,
              "#0d0887"
             ],
             [
              0.1111111111111111,
              "#46039f"
             ],
             [
              0.2222222222222222,
              "#7201a8"
             ],
             [
              0.3333333333333333,
              "#9c179e"
             ],
             [
              0.4444444444444444,
              "#bd3786"
             ],
             [
              0.5555555555555556,
              "#d8576b"
             ],
             [
              0.6666666666666666,
              "#ed7953"
             ],
             [
              0.7777777777777778,
              "#fb9f3a"
             ],
             [
              0.8888888888888888,
              "#fdca26"
             ],
             [
              1,
              "#f0f921"
             ]
            ],
            "type": "heatmapgl"
           }
          ],
          "histogram": [
           {
            "marker": {
             "colorbar": {
              "outlinewidth": 0,
              "ticks": ""
             }
            },
            "type": "histogram"
           }
          ],
          "histogram2d": [
           {
            "colorbar": {
             "outlinewidth": 0,
             "ticks": ""
            },
            "colorscale": [
             [
              0,
              "#0d0887"
             ],
             [
              0.1111111111111111,
              "#46039f"
             ],
             [
              0.2222222222222222,
              "#7201a8"
             ],
             [
              0.3333333333333333,
              "#9c179e"
             ],
             [
              0.4444444444444444,
              "#bd3786"
             ],
             [
              0.5555555555555556,
              "#d8576b"
             ],
             [
              0.6666666666666666,
              "#ed7953"
             ],
             [
              0.7777777777777778,
              "#fb9f3a"
             ],
             [
              0.8888888888888888,
              "#fdca26"
             ],
             [
              1,
              "#f0f921"
             ]
            ],
            "type": "histogram2d"
           }
          ],
          "histogram2dcontour": [
           {
            "colorbar": {
             "outlinewidth": 0,
             "ticks": ""
            },
            "colorscale": [
             [
              0,
              "#0d0887"
             ],
             [
              0.1111111111111111,
              "#46039f"
             ],
             [
              0.2222222222222222,
              "#7201a8"
             ],
             [
              0.3333333333333333,
              "#9c179e"
             ],
             [
              0.4444444444444444,
              "#bd3786"
             ],
             [
              0.5555555555555556,
              "#d8576b"
             ],
             [
              0.6666666666666666,
              "#ed7953"
             ],
             [
              0.7777777777777778,
              "#fb9f3a"
             ],
             [
              0.8888888888888888,
              "#fdca26"
             ],
             [
              1,
              "#f0f921"
             ]
            ],
            "type": "histogram2dcontour"
           }
          ],
          "mesh3d": [
           {
            "colorbar": {
             "outlinewidth": 0,
             "ticks": ""
            },
            "type": "mesh3d"
           }
          ],
          "parcoords": [
           {
            "line": {
             "colorbar": {
              "outlinewidth": 0,
              "ticks": ""
             }
            },
            "type": "parcoords"
           }
          ],
          "pie": [
           {
            "automargin": true,
            "type": "pie"
           }
          ],
          "scatter": [
           {
            "marker": {
             "colorbar": {
              "outlinewidth": 0,
              "ticks": ""
             }
            },
            "type": "scatter"
           }
          ],
          "scatter3d": [
           {
            "line": {
             "colorbar": {
              "outlinewidth": 0,
              "ticks": ""
             }
            },
            "marker": {
             "colorbar": {
              "outlinewidth": 0,
              "ticks": ""
             }
            },
            "type": "scatter3d"
           }
          ],
          "scattercarpet": [
           {
            "marker": {
             "colorbar": {
              "outlinewidth": 0,
              "ticks": ""
             }
            },
            "type": "scattercarpet"
           }
          ],
          "scattergeo": [
           {
            "marker": {
             "colorbar": {
              "outlinewidth": 0,
              "ticks": ""
             }
            },
            "type": "scattergeo"
           }
          ],
          "scattergl": [
           {
            "marker": {
             "colorbar": {
              "outlinewidth": 0,
              "ticks": ""
             }
            },
            "type": "scattergl"
           }
          ],
          "scattermapbox": [
           {
            "marker": {
             "colorbar": {
              "outlinewidth": 0,
              "ticks": ""
             }
            },
            "type": "scattermapbox"
           }
          ],
          "scatterpolar": [
           {
            "marker": {
             "colorbar": {
              "outlinewidth": 0,
              "ticks": ""
             }
            },
            "type": "scatterpolar"
           }
          ],
          "scatterpolargl": [
           {
            "marker": {
             "colorbar": {
              "outlinewidth": 0,
              "ticks": ""
             }
            },
            "type": "scatterpolargl"
           }
          ],
          "scatterternary": [
           {
            "marker": {
             "colorbar": {
              "outlinewidth": 0,
              "ticks": ""
             }
            },
            "type": "scatterternary"
           }
          ],
          "surface": [
           {
            "colorbar": {
             "outlinewidth": 0,
             "ticks": ""
            },
            "colorscale": [
             [
              0,
              "#0d0887"
             ],
             [
              0.1111111111111111,
              "#46039f"
             ],
             [
              0.2222222222222222,
              "#7201a8"
             ],
             [
              0.3333333333333333,
              "#9c179e"
             ],
             [
              0.4444444444444444,
              "#bd3786"
             ],
             [
              0.5555555555555556,
              "#d8576b"
             ],
             [
              0.6666666666666666,
              "#ed7953"
             ],
             [
              0.7777777777777778,
              "#fb9f3a"
             ],
             [
              0.8888888888888888,
              "#fdca26"
             ],
             [
              1,
              "#f0f921"
             ]
            ],
            "type": "surface"
           }
          ],
          "table": [
           {
            "cells": {
             "fill": {
              "color": "#EBF0F8"
             },
             "line": {
              "color": "white"
             }
            },
            "header": {
             "fill": {
              "color": "#C8D4E3"
             },
             "line": {
              "color": "white"
             }
            },
            "type": "table"
           }
          ]
         },
         "layout": {
          "annotationdefaults": {
           "arrowcolor": "#2a3f5f",
           "arrowhead": 0,
           "arrowwidth": 1
          },
          "coloraxis": {
           "colorbar": {
            "outlinewidth": 0,
            "ticks": ""
           }
          },
          "colorscale": {
           "diverging": [
            [
             0,
             "#8e0152"
            ],
            [
             0.1,
             "#c51b7d"
            ],
            [
             0.2,
             "#de77ae"
            ],
            [
             0.3,
             "#f1b6da"
            ],
            [
             0.4,
             "#fde0ef"
            ],
            [
             0.5,
             "#f7f7f7"
            ],
            [
             0.6,
             "#e6f5d0"
            ],
            [
             0.7,
             "#b8e186"
            ],
            [
             0.8,
             "#7fbc41"
            ],
            [
             0.9,
             "#4d9221"
            ],
            [
             1,
             "#276419"
            ]
           ],
           "sequential": [
            [
             0,
             "#0d0887"
            ],
            [
             0.1111111111111111,
             "#46039f"
            ],
            [
             0.2222222222222222,
             "#7201a8"
            ],
            [
             0.3333333333333333,
             "#9c179e"
            ],
            [
             0.4444444444444444,
             "#bd3786"
            ],
            [
             0.5555555555555556,
             "#d8576b"
            ],
            [
             0.6666666666666666,
             "#ed7953"
            ],
            [
             0.7777777777777778,
             "#fb9f3a"
            ],
            [
             0.8888888888888888,
             "#fdca26"
            ],
            [
             1,
             "#f0f921"
            ]
           ],
           "sequentialminus": [
            [
             0,
             "#0d0887"
            ],
            [
             0.1111111111111111,
             "#46039f"
            ],
            [
             0.2222222222222222,
             "#7201a8"
            ],
            [
             0.3333333333333333,
             "#9c179e"
            ],
            [
             0.4444444444444444,
             "#bd3786"
            ],
            [
             0.5555555555555556,
             "#d8576b"
            ],
            [
             0.6666666666666666,
             "#ed7953"
            ],
            [
             0.7777777777777778,
             "#fb9f3a"
            ],
            [
             0.8888888888888888,
             "#fdca26"
            ],
            [
             1,
             "#f0f921"
            ]
           ]
          },
          "colorway": [
           "#636efa",
           "#EF553B",
           "#00cc96",
           "#ab63fa",
           "#FFA15A",
           "#19d3f3",
           "#FF6692",
           "#B6E880",
           "#FF97FF",
           "#FECB52"
          ],
          "font": {
           "color": "#2a3f5f"
          },
          "geo": {
           "bgcolor": "white",
           "lakecolor": "white",
           "landcolor": "#E5ECF6",
           "showlakes": true,
           "showland": true,
           "subunitcolor": "white"
          },
          "hoverlabel": {
           "align": "left"
          },
          "hovermode": "closest",
          "mapbox": {
           "style": "light"
          },
          "paper_bgcolor": "white",
          "plot_bgcolor": "#E5ECF6",
          "polar": {
           "angularaxis": {
            "gridcolor": "white",
            "linecolor": "white",
            "ticks": ""
           },
           "bgcolor": "#E5ECF6",
           "radialaxis": {
            "gridcolor": "white",
            "linecolor": "white",
            "ticks": ""
           }
          },
          "scene": {
           "xaxis": {
            "backgroundcolor": "#E5ECF6",
            "gridcolor": "white",
            "gridwidth": 2,
            "linecolor": "white",
            "showbackground": true,
            "ticks": "",
            "zerolinecolor": "white"
           },
           "yaxis": {
            "backgroundcolor": "#E5ECF6",
            "gridcolor": "white",
            "gridwidth": 2,
            "linecolor": "white",
            "showbackground": true,
            "ticks": "",
            "zerolinecolor": "white"
           },
           "zaxis": {
            "backgroundcolor": "#E5ECF6",
            "gridcolor": "white",
            "gridwidth": 2,
            "linecolor": "white",
            "showbackground": true,
            "ticks": "",
            "zerolinecolor": "white"
           }
          },
          "shapedefaults": {
           "line": {
            "color": "#2a3f5f"
           }
          },
          "ternary": {
           "aaxis": {
            "gridcolor": "white",
            "linecolor": "white",
            "ticks": ""
           },
           "baxis": {
            "gridcolor": "white",
            "linecolor": "white",
            "ticks": ""
           },
           "bgcolor": "#E5ECF6",
           "caxis": {
            "gridcolor": "white",
            "linecolor": "white",
            "ticks": ""
           }
          },
          "title": {
           "x": 0.05
          },
          "xaxis": {
           "automargin": true,
           "gridcolor": "white",
           "linecolor": "white",
           "ticks": "",
           "title": {
            "standoff": 15
           },
           "zerolinecolor": "white",
           "zerolinewidth": 2
          },
          "yaxis": {
           "automargin": true,
           "gridcolor": "white",
           "linecolor": "white",
           "ticks": "",
           "title": {
            "standoff": 15
           },
           "zerolinecolor": "white",
           "zerolinewidth": 2
          }
         }
        },
        "title": {
         "font": {
          "color": "#4D5663"
         }
        },
        "xaxis": {
         "gridcolor": "#E1E5ED",
         "showgrid": true,
         "tickfont": {
          "color": "#4D5663"
         },
         "title": {
          "font": {
           "color": "#4D5663"
          },
          "text": ""
         },
         "zerolinecolor": "#E1E5ED"
        },
        "yaxis": {
         "gridcolor": "#E1E5ED",
         "showgrid": true,
         "tickfont": {
          "color": "#4D5663"
         },
         "title": {
          "font": {
           "color": "#4D5663"
          },
          "text": ""
         },
         "zerolinecolor": "#E1E5ED"
        }
       }
      },
      "text/html": [
       "<div>\n",
       "        \n",
       "        \n",
       "            <div id=\"bebb00a7-8a76-4262-a1ee-e29344bee01c\" class=\"plotly-graph-div\" style=\"height:525px; width:100%;\"></div>\n",
       "            <script type=\"text/javascript\">\n",
       "                require([\"plotly\"], function(Plotly) {\n",
       "                    window.PLOTLYENV=window.PLOTLYENV || {};\n",
       "                    window.PLOTLYENV.BASE_URL='https://plot.ly';\n",
       "                    \n",
       "                if (document.getElementById(\"bebb00a7-8a76-4262-a1ee-e29344bee01c\")) {\n",
       "                    Plotly.newPlot(\n",
       "                        'bebb00a7-8a76-4262-a1ee-e29344bee01c',\n",
       "                        [{\"boxpoints\": false, \"line\": {\"width\": 1.3}, \"marker\": {\"color\": \"rgba(255, 153, 51, 1.0)\"}, \"name\": \"A\", \"orientation\": \"v\", \"type\": \"box\", \"y\": [-0.171640601897393, -0.43651310026760143, 0.1915612390123302, -1.056703312019151, 0.4223324960551365, 1.2877468203367912, -0.5709727518406853, 2.1648676554773516, -1.2710537136872033, 0.16778935785866875, 1.0923398653718392, 0.4925306791099881, -0.703668513206629, -1.4524459966421268, -1.2744387261513341, 0.48551604613423355, -0.08955322711220023, -0.29027573121328615, 0.7745650160804478, -1.1099619262798022, -1.9683383872344231, -0.29436352576008007, -0.6114534149828592, -0.6016002569315776, 0.6621081449698877, 0.21266807621964742, -0.14196204190623365, 0.8455808080508328, 2.218513523093423, 1.225509030816993, -0.05744835346384874, -0.11673789320091013, -0.30301635565632434, -0.6627327489766144, -0.294755132084432, -0.133052082126597, -0.7027262561520775, 0.21363941721995688, 0.7533029620632767, 0.9161599146948339, -0.38695616486884626, 0.19596958959686875, 2.1597457209110167, 1.6330219307099394, -0.053064503558190354, 0.6603445747130693, 0.3207945904648976, -1.1050354243244225, 1.5637954578971218, 1.2541918745480611, -2.095064611555383, -0.7845842103111716, -0.19468049802855614, -0.4014548287149151, 0.3407950800545804, 0.03272595875779687, -1.3056241417427392, 0.7438543233795972, -1.3227506872869208, 1.0784707979095176, -0.815334722857213, -0.5373819359409527, -1.0606203281249487, 0.441700587416723, -0.32878279305935415, -0.46581137917888865, -1.0904053135674916, -1.26924927808231, 0.31270617806826667, 0.6970749712875615, 0.3153736148451356, -0.45080146910650637, -0.2720063615339261, 1.4044677356602207, -0.019348041080346393, 1.1049428128294767, -2.377128291270848, -1.5073793637973727, -0.926666748211941, 1.8579700229276017, -1.2116095443091348, 0.8236413783722552, -0.32430248425442165, 2.0906677707983916, -0.7044681959680065, -0.1546026406012769, -0.9385406062305209, -0.8692498584291668, -2.3768058600922677, -2.4065090278566914, 1.7172860060023276, 0.16700914108697476, -1.0892987171083033, 1.1821925982620303, 0.3761064908178598, -0.6081613870137292, 0.5683748477954369, -0.2666353852917895, 0.9020386387275965, 0.22303842334880358]}, {\"boxpoints\": false, \"line\": {\"width\": 1.3}, \"marker\": {\"color\": \"rgba(55, 128, 191, 1.0)\"}, \"name\": \"B\", \"orientation\": \"v\", \"type\": \"box\", \"y\": [0.5484513444208927, -2.3254372400024663, -0.17768498503930882, -0.0413575571659648, 1.0377678595702458, -0.7116014651027107, 0.26857162154881, 1.5290566395723573, -0.2567586755527022, -0.357121113255171, 0.8094544672338446, -0.18796083964617127, -0.027477640202128045, -0.11870292311303313, -2.269461527526842, 1.5955328577357266, -0.8644545357821648, -1.8642968220350373, 0.09017916692978532, -1.344766726938334, 1.1745824220442214, -0.8414367236253527, -0.7884004277579315, -0.1489331864549383, 0.7728688387695918, -2.1409153230074534, 0.34821592049908134, -0.27498245733340865, 0.6490421722801153, -0.3095015003082018, 1.3755435096077888, 0.5295635663635087, 0.3035655123758679, -0.15702303716074245, 1.1704292564472734, -1.52193050513255, -0.17304696512117046, 0.500742618651033, -2.411263379463824, -0.2764586244288876, -0.9354022868432563, 1.6180987037807752, -0.5850556670966817, 0.8064515288677078, -0.1925316499670654, 2.1249498691984603, 0.28824678756934996, 1.0808924511417874, -1.0991069038596877, 2.8523270968784757, -0.1462276160136622, -0.7269456317989939, 1.009683169084365, -0.9128087165867703, 2.739386314769789, -1.3757622114686658, 1.4407905278507112, -2.1437891180414965, -0.8685438816408083, -1.0684204255937035, -1.3909622043143515, -1.708519617763413, -1.033225258404668, -0.9273179566800895, 0.9622755612144613, 0.4036958283171158, -2.066620915349806, -0.5313498777603, -0.37213553235231156, 0.5566243901674788, 0.46809411497026965, 0.03231282758546965, 1.5950315245268063, -0.8677057971639819, 0.5934132541166431, 0.6665791844271618, -1.070293341617307, 0.23247746328414118, 0.1636105945212715, 1.3847638680189123, -0.7468787389615569, -0.6336863846695935, -0.15418321052239078, -0.022964779182480508, 0.13067056650667006, -0.8346647281545524, -0.08276756281076375, -0.23593108329391443, 1.4223691939157483, -1.475177034806321, -0.5631133271333681, -0.9498587583942311, -1.1180928581281955, -1.9290450825993415, 0.22878195896987918, -1.16846732408735, -1.201800804545687, 0.6324538976960572, -0.1723277128840355, 0.2296303534317323]}, {\"boxpoints\": false, \"line\": {\"width\": 1.3}, \"marker\": {\"color\": \"rgba(50, 171, 96, 1.0)\"}, \"name\": \"C\", \"orientation\": \"v\", \"type\": \"box\", \"y\": [-0.5983437620713272, -2.6604175619961046, -0.6893577279175397, -0.5229880431507179, -1.1142570311277662, 0.4144329010324235, 1.0709199857046865, 0.24185000081928387, 0.8679028870583181, 0.8552503604199, -0.6897875923656063, -0.6170711861715913, -0.574019045561744, -0.42602932488795464, -0.06540747052858152, 1.01225862618407, 0.5725334774448296, -0.47718574956385784, 0.29591534234625394, 1.0713609097573518, 1.7850760760870759, 0.6615370182444141, -0.09975617128227394, 0.6265897988876452, -0.434442435536369, 0.9189381575943047, 1.1426297546254645, 0.05469376367844408, 0.7664286517069745, 1.4460545893069578, -1.2564294325418002, 0.4220576687942533, 0.6289966738488311, -0.2788764402500565, 0.5015049964356932, 1.514458160544959, 0.2782476011345647, 0.269754598159741, 1.3519102352351455, -0.12193137836822808, -2.178769420790974, 0.8539668969339135, 1.3839608405729358, 0.46683197255988956, 1.8590406800885484, 0.3395093676304781, 0.40311363481143375, -1.0741084327550467, -0.6594594819662645, -0.1065325263332107, 1.0030409948514505, -2.2465625425281024, 0.5250755374331697, 0.5874277050905309, 0.06617762829699439, -0.44520947266094435, 1.5031363729296439, 0.2683309891489996, 0.8941013914258936, 1.1900921079684381, -1.592338528514025, 0.7848888225422255, 1.8842823892513476, -0.2825083302404101, -0.33813550666448006, -0.25537087832581873, -0.7211597678307854, -1.734912570192576, 0.9561537011128859, 0.16208957636882837, -1.2000533555518906, 0.4408341380584331, -1.449277089723586, 0.034329587009165954, -0.04604054983925971, 0.8974630060064327, 0.16304891450080738, 1.9638360203986867, -1.5776099100630412, 0.7609264198270365, 0.969561171471672, -1.0991506011551149, -1.465825439340637, -1.314898729207641, -0.8380424127033789, 0.4373953826702947, 0.45037384631284544, -0.8904920643002715, -0.5810637913845554, 0.3925376368775025, 0.2579651317698921, -1.0810556062247758, -0.31741955255737236, 1.618570911321861, 1.0238726864773395, -0.13573365567790135, -0.8632715661196068, 0.6288163109271624, -0.2819767637068381, 2.2988019665203265]}, {\"boxpoints\": false, \"line\": {\"width\": 1.3}, \"marker\": {\"color\": \"rgba(128, 0, 128, 1.0)\"}, \"name\": \"D\", \"orientation\": \"v\", \"type\": \"box\", \"y\": [0.8338514606350064, -0.10584992645229413, -0.2706609825615641, 0.5996801983644825, 0.40359100466599535, 2.641790207427108, 0.13224103676807694, 0.35313713991942014, 1.144896307631846, 1.9946928047934107, -0.9171338011956501, -0.4791782716060962, -0.6726579700852056, 1.831020641813482, -0.1523547432486442, 0.3354427663278796, -2.441582962241704, 1.9715015842875654, 0.5494742773319939, 0.6145317653973147, -1.1806025799960154, 0.5155567640803262, -1.3242560220644943, 0.041700160836206965, 0.9468186268366223, -0.5619512409700159, -0.7413321342009079, 0.820528530608833, -0.6458138002254487, 0.050524454707551014, 0.862396604461523, 2.253816471768166, 0.4648313687438735, -0.16136990451619151, 2.1987705070284673, -0.5727987959263574, -1.7115241145055666, 2.073776369230856, 0.625241141366843, 1.5292209070329297, -0.5107014925784714, -0.31939413263433497, 0.646758037652685, -0.2779513216230143, -0.19124944161845978, 0.9571695847179208, -1.1048580560914822, -0.8984915407298146, 1.3273431506933735, -1.333150838500644, -0.1985793201190395, 2.019330939054003, 1.2948297395951902, -0.3749962350083088, 0.7563352984444898, 0.1117176438204793, 0.5872748114399307, -0.429718197605014, 1.1580569489872719, -0.7458610043235129, 0.8355882588036868, 0.42485291323705143, 0.4424168054773275, 0.14127394287620942, -0.6154617117321134, -0.5110598682054509, 0.13496982598516002, 1.0245401663215845, -2.0311036813716705, -1.0250819271742715, -1.8636033313844171, 0.8574905588910688, 0.049503038730056084, -0.4104207782106683, -0.13764615619265963, 0.2844344254242617, -0.7411574434948729, -0.9502016965746825, 0.8689197050008775, -1.9318681506349502, 0.471433643085626, 0.585171420032461, 0.6404961794771034, -0.22741488276623759, -1.0205085255341666, 0.05233227104990713, 0.49628856355218215, -0.8950524060645041, 1.8180841461402975, -0.817214388120829, 1.1765542892213678, 0.6038964891497567, -0.29640169240258973, 1.7917165418241447, -0.9923304082753172, 1.4156913840918108, -0.37184430284858083, 0.3670786989417944, -1.0405526567533496, 0.9209916696959721]}],\n",
       "                        {\"legend\": {\"bgcolor\": \"#F5F6F9\", \"font\": {\"color\": \"#4D5663\"}}, \"paper_bgcolor\": \"#F5F6F9\", \"plot_bgcolor\": \"#F5F6F9\", \"template\": {\"data\": {\"bar\": [{\"error_x\": {\"color\": \"#2a3f5f\"}, \"error_y\": {\"color\": \"#2a3f5f\"}, \"marker\": {\"line\": {\"color\": \"#E5ECF6\", \"width\": 0.5}}, \"type\": \"bar\"}], \"barpolar\": [{\"marker\": {\"line\": {\"color\": \"#E5ECF6\", \"width\": 0.5}}, \"type\": \"barpolar\"}], \"carpet\": [{\"aaxis\": {\"endlinecolor\": \"#2a3f5f\", \"gridcolor\": \"white\", \"linecolor\": \"white\", \"minorgridcolor\": \"white\", \"startlinecolor\": \"#2a3f5f\"}, \"baxis\": {\"endlinecolor\": \"#2a3f5f\", \"gridcolor\": \"white\", \"linecolor\": \"white\", \"minorgridcolor\": \"white\", \"startlinecolor\": \"#2a3f5f\"}, \"type\": \"carpet\"}], \"choropleth\": [{\"colorbar\": {\"outlinewidth\": 0, \"ticks\": \"\"}, \"type\": \"choropleth\"}], \"contour\": [{\"colorbar\": {\"outlinewidth\": 0, \"ticks\": \"\"}, \"colorscale\": [[0.0, \"#0d0887\"], [0.1111111111111111, \"#46039f\"], [0.2222222222222222, \"#7201a8\"], [0.3333333333333333, \"#9c179e\"], [0.4444444444444444, \"#bd3786\"], [0.5555555555555556, \"#d8576b\"], [0.6666666666666666, \"#ed7953\"], [0.7777777777777778, \"#fb9f3a\"], [0.8888888888888888, \"#fdca26\"], [1.0, \"#f0f921\"]], \"type\": \"contour\"}], \"contourcarpet\": [{\"colorbar\": {\"outlinewidth\": 0, \"ticks\": \"\"}, \"type\": \"contourcarpet\"}], \"heatmap\": [{\"colorbar\": {\"outlinewidth\": 0, \"ticks\": \"\"}, \"colorscale\": [[0.0, \"#0d0887\"], [0.1111111111111111, \"#46039f\"], [0.2222222222222222, \"#7201a8\"], [0.3333333333333333, \"#9c179e\"], [0.4444444444444444, \"#bd3786\"], [0.5555555555555556, \"#d8576b\"], [0.6666666666666666, \"#ed7953\"], [0.7777777777777778, \"#fb9f3a\"], [0.8888888888888888, \"#fdca26\"], [1.0, \"#f0f921\"]], \"type\": \"heatmap\"}], \"heatmapgl\": [{\"colorbar\": {\"outlinewidth\": 0, \"ticks\": \"\"}, \"colorscale\": [[0.0, \"#0d0887\"], [0.1111111111111111, \"#46039f\"], [0.2222222222222222, \"#7201a8\"], [0.3333333333333333, \"#9c179e\"], [0.4444444444444444, \"#bd3786\"], [0.5555555555555556, \"#d8576b\"], [0.6666666666666666, \"#ed7953\"], [0.7777777777777778, \"#fb9f3a\"], [0.8888888888888888, \"#fdca26\"], [1.0, \"#f0f921\"]], \"type\": \"heatmapgl\"}], \"histogram\": [{\"marker\": {\"colorbar\": {\"outlinewidth\": 0, \"ticks\": \"\"}}, \"type\": \"histogram\"}], \"histogram2d\": [{\"colorbar\": {\"outlinewidth\": 0, \"ticks\": \"\"}, \"colorscale\": [[0.0, \"#0d0887\"], [0.1111111111111111, \"#46039f\"], [0.2222222222222222, \"#7201a8\"], [0.3333333333333333, \"#9c179e\"], [0.4444444444444444, \"#bd3786\"], [0.5555555555555556, \"#d8576b\"], [0.6666666666666666, \"#ed7953\"], [0.7777777777777778, \"#fb9f3a\"], [0.8888888888888888, \"#fdca26\"], [1.0, \"#f0f921\"]], \"type\": \"histogram2d\"}], \"histogram2dcontour\": [{\"colorbar\": {\"outlinewidth\": 0, \"ticks\": \"\"}, \"colorscale\": [[0.0, \"#0d0887\"], [0.1111111111111111, \"#46039f\"], [0.2222222222222222, \"#7201a8\"], [0.3333333333333333, \"#9c179e\"], [0.4444444444444444, \"#bd3786\"], [0.5555555555555556, \"#d8576b\"], [0.6666666666666666, \"#ed7953\"], [0.7777777777777778, \"#fb9f3a\"], [0.8888888888888888, \"#fdca26\"], [1.0, \"#f0f921\"]], \"type\": \"histogram2dcontour\"}], \"mesh3d\": [{\"colorbar\": {\"outlinewidth\": 0, \"ticks\": \"\"}, \"type\": \"mesh3d\"}], \"parcoords\": [{\"line\": {\"colorbar\": {\"outlinewidth\": 0, \"ticks\": \"\"}}, \"type\": \"parcoords\"}], \"pie\": [{\"automargin\": true, \"type\": \"pie\"}], \"scatter\": [{\"marker\": {\"colorbar\": {\"outlinewidth\": 0, \"ticks\": \"\"}}, \"type\": \"scatter\"}], \"scatter3d\": [{\"line\": {\"colorbar\": {\"outlinewidth\": 0, \"ticks\": \"\"}}, \"marker\": {\"colorbar\": {\"outlinewidth\": 0, \"ticks\": \"\"}}, \"type\": \"scatter3d\"}], \"scattercarpet\": [{\"marker\": {\"colorbar\": {\"outlinewidth\": 0, \"ticks\": \"\"}}, \"type\": \"scattercarpet\"}], \"scattergeo\": [{\"marker\": {\"colorbar\": {\"outlinewidth\": 0, \"ticks\": \"\"}}, \"type\": \"scattergeo\"}], \"scattergl\": [{\"marker\": {\"colorbar\": {\"outlinewidth\": 0, \"ticks\": \"\"}}, \"type\": \"scattergl\"}], \"scattermapbox\": [{\"marker\": {\"colorbar\": {\"outlinewidth\": 0, \"ticks\": \"\"}}, \"type\": \"scattermapbox\"}], \"scatterpolar\": [{\"marker\": {\"colorbar\": {\"outlinewidth\": 0, \"ticks\": \"\"}}, \"type\": \"scatterpolar\"}], \"scatterpolargl\": [{\"marker\": {\"colorbar\": {\"outlinewidth\": 0, \"ticks\": \"\"}}, \"type\": \"scatterpolargl\"}], \"scatterternary\": [{\"marker\": {\"colorbar\": {\"outlinewidth\": 0, \"ticks\": \"\"}}, \"type\": \"scatterternary\"}], \"surface\": [{\"colorbar\": {\"outlinewidth\": 0, \"ticks\": \"\"}, \"colorscale\": [[0.0, \"#0d0887\"], [0.1111111111111111, \"#46039f\"], [0.2222222222222222, \"#7201a8\"], [0.3333333333333333, \"#9c179e\"], [0.4444444444444444, \"#bd3786\"], [0.5555555555555556, \"#d8576b\"], [0.6666666666666666, \"#ed7953\"], [0.7777777777777778, \"#fb9f3a\"], [0.8888888888888888, \"#fdca26\"], [1.0, \"#f0f921\"]], \"type\": \"surface\"}], \"table\": [{\"cells\": {\"fill\": {\"color\": \"#EBF0F8\"}, \"line\": {\"color\": \"white\"}}, \"header\": {\"fill\": {\"color\": \"#C8D4E3\"}, \"line\": {\"color\": \"white\"}}, \"type\": \"table\"}]}, \"layout\": {\"annotationdefaults\": {\"arrowcolor\": \"#2a3f5f\", \"arrowhead\": 0, \"arrowwidth\": 1}, \"coloraxis\": {\"colorbar\": {\"outlinewidth\": 0, \"ticks\": \"\"}}, \"colorscale\": {\"diverging\": [[0, \"#8e0152\"], [0.1, \"#c51b7d\"], [0.2, \"#de77ae\"], [0.3, \"#f1b6da\"], [0.4, \"#fde0ef\"], [0.5, \"#f7f7f7\"], [0.6, \"#e6f5d0\"], [0.7, \"#b8e186\"], [0.8, \"#7fbc41\"], [0.9, \"#4d9221\"], [1, \"#276419\"]], \"sequential\": [[0.0, \"#0d0887\"], [0.1111111111111111, \"#46039f\"], [0.2222222222222222, \"#7201a8\"], [0.3333333333333333, \"#9c179e\"], [0.4444444444444444, \"#bd3786\"], [0.5555555555555556, \"#d8576b\"], [0.6666666666666666, \"#ed7953\"], [0.7777777777777778, \"#fb9f3a\"], [0.8888888888888888, \"#fdca26\"], [1.0, \"#f0f921\"]], \"sequentialminus\": [[0.0, \"#0d0887\"], [0.1111111111111111, \"#46039f\"], [0.2222222222222222, \"#7201a8\"], [0.3333333333333333, \"#9c179e\"], [0.4444444444444444, \"#bd3786\"], [0.5555555555555556, \"#d8576b\"], [0.6666666666666666, \"#ed7953\"], [0.7777777777777778, \"#fb9f3a\"], [0.8888888888888888, \"#fdca26\"], [1.0, \"#f0f921\"]]}, \"colorway\": [\"#636efa\", \"#EF553B\", \"#00cc96\", \"#ab63fa\", \"#FFA15A\", \"#19d3f3\", \"#FF6692\", \"#B6E880\", \"#FF97FF\", \"#FECB52\"], \"font\": {\"color\": \"#2a3f5f\"}, \"geo\": {\"bgcolor\": \"white\", \"lakecolor\": \"white\", \"landcolor\": \"#E5ECF6\", \"showlakes\": true, \"showland\": true, \"subunitcolor\": \"white\"}, \"hoverlabel\": {\"align\": \"left\"}, \"hovermode\": \"closest\", \"mapbox\": {\"style\": \"light\"}, \"paper_bgcolor\": \"white\", \"plot_bgcolor\": \"#E5ECF6\", \"polar\": {\"angularaxis\": {\"gridcolor\": \"white\", \"linecolor\": \"white\", \"ticks\": \"\"}, \"bgcolor\": \"#E5ECF6\", \"radialaxis\": {\"gridcolor\": \"white\", \"linecolor\": \"white\", \"ticks\": \"\"}}, \"scene\": {\"xaxis\": {\"backgroundcolor\": \"#E5ECF6\", \"gridcolor\": \"white\", \"gridwidth\": 2, \"linecolor\": \"white\", \"showbackground\": true, \"ticks\": \"\", \"zerolinecolor\": \"white\"}, \"yaxis\": {\"backgroundcolor\": \"#E5ECF6\", \"gridcolor\": \"white\", \"gridwidth\": 2, \"linecolor\": \"white\", \"showbackground\": true, \"ticks\": \"\", \"zerolinecolor\": \"white\"}, \"zaxis\": {\"backgroundcolor\": \"#E5ECF6\", \"gridcolor\": \"white\", \"gridwidth\": 2, \"linecolor\": \"white\", \"showbackground\": true, \"ticks\": \"\", \"zerolinecolor\": \"white\"}}, \"shapedefaults\": {\"line\": {\"color\": \"#2a3f5f\"}}, \"ternary\": {\"aaxis\": {\"gridcolor\": \"white\", \"linecolor\": \"white\", \"ticks\": \"\"}, \"baxis\": {\"gridcolor\": \"white\", \"linecolor\": \"white\", \"ticks\": \"\"}, \"bgcolor\": \"#E5ECF6\", \"caxis\": {\"gridcolor\": \"white\", \"linecolor\": \"white\", \"ticks\": \"\"}}, \"title\": {\"x\": 0.05}, \"xaxis\": {\"automargin\": true, \"gridcolor\": \"white\", \"linecolor\": \"white\", \"ticks\": \"\", \"title\": {\"standoff\": 15}, \"zerolinecolor\": \"white\", \"zerolinewidth\": 2}, \"yaxis\": {\"automargin\": true, \"gridcolor\": \"white\", \"linecolor\": \"white\", \"ticks\": \"\", \"title\": {\"standoff\": 15}, \"zerolinecolor\": \"white\", \"zerolinewidth\": 2}}}, \"title\": {\"font\": {\"color\": \"#4D5663\"}}, \"xaxis\": {\"gridcolor\": \"#E1E5ED\", \"showgrid\": true, \"tickfont\": {\"color\": \"#4D5663\"}, \"title\": {\"font\": {\"color\": \"#4D5663\"}, \"text\": \"\"}, \"zerolinecolor\": \"#E1E5ED\"}, \"yaxis\": {\"gridcolor\": \"#E1E5ED\", \"showgrid\": true, \"tickfont\": {\"color\": \"#4D5663\"}, \"title\": {\"font\": {\"color\": \"#4D5663\"}, \"text\": \"\"}, \"zerolinecolor\": \"#E1E5ED\"}},\n",
       "                        {\"showLink\": true, \"linkText\": \"Export to plot.ly\", \"plotlyServerURL\": \"https://plot.ly\", \"responsive\": true}\n",
       "                    ).then(function(){\n",
       "                            \n",
       "var gd = document.getElementById('bebb00a7-8a76-4262-a1ee-e29344bee01c');\n",
       "var x = new MutationObserver(function (mutations, observer) {{\n",
       "        var display = window.getComputedStyle(gd).display;\n",
       "        if (!display || display === 'none') {{\n",
       "            console.log([gd, 'removed!']);\n",
       "            Plotly.purge(gd);\n",
       "            observer.disconnect();\n",
       "        }}\n",
       "}});\n",
       "\n",
       "// Listen for the removal of the full notebook cells\n",
       "var notebookContainer = gd.closest('#notebook-container');\n",
       "if (notebookContainer) {{\n",
       "    x.observe(notebookContainer, {childList: true});\n",
       "}}\n",
       "\n",
       "// Listen for the clearing of the current output cell\n",
       "var outputEl = gd.closest('.output');\n",
       "if (outputEl) {{\n",
       "    x.observe(outputEl, {childList: true});\n",
       "}}\n",
       "\n",
       "                        })\n",
       "                };\n",
       "                });\n",
       "            </script>\n",
       "        </div>"
      ]
     },
     "metadata": {},
     "output_type": "display_data"
    }
   ],
   "source": [
    "df.iplot(kind='box')"
   ]
  },
  {
   "cell_type": "code",
   "execution_count": 33,
   "metadata": {},
   "outputs": [],
   "source": [
    "df3=pd.DataFrame({'x':[1,2,3,4,5],'y':[10,20,30,20,10],'z':[5,4,3,2,1]})"
   ]
  },
  {
   "cell_type": "code",
   "execution_count": 34,
   "metadata": {},
   "outputs": [
    {
     "data": {
      "application/vnd.plotly.v1+json": {
       "config": {
        "linkText": "Export to plot.ly",
        "plotlyServerURL": "https://plot.ly",
        "showLink": true
       },
       "data": [
        {
         "colorscale": [
          [
           0,
           "rgb(255, 153, 51)"
          ],
          [
           0.1111111111111111,
           "rgb(55, 128, 191)"
          ],
          [
           0.2222222222222222,
           "rgb(50, 171, 96)"
          ],
          [
           0.3333333333333333,
           "rgb(128, 0, 128)"
          ],
          [
           0.4444444444444444,
           "rgb(219, 64, 82)"
          ],
          [
           0.5555555555555556,
           "rgb(0, 128, 128)"
          ],
          [
           0.6666666666666666,
           "rgb(255, 255, 51)"
          ],
          [
           0.7777777777777778,
           "rgb(128, 128, 0)"
          ],
          [
           0.8888888888888888,
           "rgb(251, 128, 114)"
          ],
          [
           1,
           "rgb(128, 177, 211)"
          ]
         ],
         "type": "surface",
         "x": [
          0,
          1,
          2,
          3,
          4
         ],
         "y": [
          "x",
          "y",
          "z"
         ],
         "z": [
          [
           1,
           2,
           3,
           4,
           5
          ],
          [
           10,
           20,
           30,
           20,
           10
          ],
          [
           5,
           4,
           3,
           2,
           1
          ]
         ]
        }
       ],
       "layout": {
        "legend": {
         "bgcolor": "#F5F6F9",
         "font": {
          "color": "#4D5663"
         }
        },
        "paper_bgcolor": "#F5F6F9",
        "plot_bgcolor": "#F5F6F9",
        "template": {
         "data": {
          "bar": [
           {
            "error_x": {
             "color": "#2a3f5f"
            },
            "error_y": {
             "color": "#2a3f5f"
            },
            "marker": {
             "line": {
              "color": "#E5ECF6",
              "width": 0.5
             }
            },
            "type": "bar"
           }
          ],
          "barpolar": [
           {
            "marker": {
             "line": {
              "color": "#E5ECF6",
              "width": 0.5
             }
            },
            "type": "barpolar"
           }
          ],
          "carpet": [
           {
            "aaxis": {
             "endlinecolor": "#2a3f5f",
             "gridcolor": "white",
             "linecolor": "white",
             "minorgridcolor": "white",
             "startlinecolor": "#2a3f5f"
            },
            "baxis": {
             "endlinecolor": "#2a3f5f",
             "gridcolor": "white",
             "linecolor": "white",
             "minorgridcolor": "white",
             "startlinecolor": "#2a3f5f"
            },
            "type": "carpet"
           }
          ],
          "choropleth": [
           {
            "colorbar": {
             "outlinewidth": 0,
             "ticks": ""
            },
            "type": "choropleth"
           }
          ],
          "contour": [
           {
            "colorbar": {
             "outlinewidth": 0,
             "ticks": ""
            },
            "colorscale": [
             [
              0,
              "#0d0887"
             ],
             [
              0.1111111111111111,
              "#46039f"
             ],
             [
              0.2222222222222222,
              "#7201a8"
             ],
             [
              0.3333333333333333,
              "#9c179e"
             ],
             [
              0.4444444444444444,
              "#bd3786"
             ],
             [
              0.5555555555555556,
              "#d8576b"
             ],
             [
              0.6666666666666666,
              "#ed7953"
             ],
             [
              0.7777777777777778,
              "#fb9f3a"
             ],
             [
              0.8888888888888888,
              "#fdca26"
             ],
             [
              1,
              "#f0f921"
             ]
            ],
            "type": "contour"
           }
          ],
          "contourcarpet": [
           {
            "colorbar": {
             "outlinewidth": 0,
             "ticks": ""
            },
            "type": "contourcarpet"
           }
          ],
          "heatmap": [
           {
            "colorbar": {
             "outlinewidth": 0,
             "ticks": ""
            },
            "colorscale": [
             [
              0,
              "#0d0887"
             ],
             [
              0.1111111111111111,
              "#46039f"
             ],
             [
              0.2222222222222222,
              "#7201a8"
             ],
             [
              0.3333333333333333,
              "#9c179e"
             ],
             [
              0.4444444444444444,
              "#bd3786"
             ],
             [
              0.5555555555555556,
              "#d8576b"
             ],
             [
              0.6666666666666666,
              "#ed7953"
             ],
             [
              0.7777777777777778,
              "#fb9f3a"
             ],
             [
              0.8888888888888888,
              "#fdca26"
             ],
             [
              1,
              "#f0f921"
             ]
            ],
            "type": "heatmap"
           }
          ],
          "heatmapgl": [
           {
            "colorbar": {
             "outlinewidth": 0,
             "ticks": ""
            },
            "colorscale": [
             [
              0,
              "#0d0887"
             ],
             [
              0.1111111111111111,
              "#46039f"
             ],
             [
              0.2222222222222222,
              "#7201a8"
             ],
             [
              0.3333333333333333,
              "#9c179e"
             ],
             [
              0.4444444444444444,
              "#bd3786"
             ],
             [
              0.5555555555555556,
              "#d8576b"
             ],
             [
              0.6666666666666666,
              "#ed7953"
             ],
             [
              0.7777777777777778,
              "#fb9f3a"
             ],
             [
              0.8888888888888888,
              "#fdca26"
             ],
             [
              1,
              "#f0f921"
             ]
            ],
            "type": "heatmapgl"
           }
          ],
          "histogram": [
           {
            "marker": {
             "colorbar": {
              "outlinewidth": 0,
              "ticks": ""
             }
            },
            "type": "histogram"
           }
          ],
          "histogram2d": [
           {
            "colorbar": {
             "outlinewidth": 0,
             "ticks": ""
            },
            "colorscale": [
             [
              0,
              "#0d0887"
             ],
             [
              0.1111111111111111,
              "#46039f"
             ],
             [
              0.2222222222222222,
              "#7201a8"
             ],
             [
              0.3333333333333333,
              "#9c179e"
             ],
             [
              0.4444444444444444,
              "#bd3786"
             ],
             [
              0.5555555555555556,
              "#d8576b"
             ],
             [
              0.6666666666666666,
              "#ed7953"
             ],
             [
              0.7777777777777778,
              "#fb9f3a"
             ],
             [
              0.8888888888888888,
              "#fdca26"
             ],
             [
              1,
              "#f0f921"
             ]
            ],
            "type": "histogram2d"
           }
          ],
          "histogram2dcontour": [
           {
            "colorbar": {
             "outlinewidth": 0,
             "ticks": ""
            },
            "colorscale": [
             [
              0,
              "#0d0887"
             ],
             [
              0.1111111111111111,
              "#46039f"
             ],
             [
              0.2222222222222222,
              "#7201a8"
             ],
             [
              0.3333333333333333,
              "#9c179e"
             ],
             [
              0.4444444444444444,
              "#bd3786"
             ],
             [
              0.5555555555555556,
              "#d8576b"
             ],
             [
              0.6666666666666666,
              "#ed7953"
             ],
             [
              0.7777777777777778,
              "#fb9f3a"
             ],
             [
              0.8888888888888888,
              "#fdca26"
             ],
             [
              1,
              "#f0f921"
             ]
            ],
            "type": "histogram2dcontour"
           }
          ],
          "mesh3d": [
           {
            "colorbar": {
             "outlinewidth": 0,
             "ticks": ""
            },
            "type": "mesh3d"
           }
          ],
          "parcoords": [
           {
            "line": {
             "colorbar": {
              "outlinewidth": 0,
              "ticks": ""
             }
            },
            "type": "parcoords"
           }
          ],
          "pie": [
           {
            "automargin": true,
            "type": "pie"
           }
          ],
          "scatter": [
           {
            "marker": {
             "colorbar": {
              "outlinewidth": 0,
              "ticks": ""
             }
            },
            "type": "scatter"
           }
          ],
          "scatter3d": [
           {
            "line": {
             "colorbar": {
              "outlinewidth": 0,
              "ticks": ""
             }
            },
            "marker": {
             "colorbar": {
              "outlinewidth": 0,
              "ticks": ""
             }
            },
            "type": "scatter3d"
           }
          ],
          "scattercarpet": [
           {
            "marker": {
             "colorbar": {
              "outlinewidth": 0,
              "ticks": ""
             }
            },
            "type": "scattercarpet"
           }
          ],
          "scattergeo": [
           {
            "marker": {
             "colorbar": {
              "outlinewidth": 0,
              "ticks": ""
             }
            },
            "type": "scattergeo"
           }
          ],
          "scattergl": [
           {
            "marker": {
             "colorbar": {
              "outlinewidth": 0,
              "ticks": ""
             }
            },
            "type": "scattergl"
           }
          ],
          "scattermapbox": [
           {
            "marker": {
             "colorbar": {
              "outlinewidth": 0,
              "ticks": ""
             }
            },
            "type": "scattermapbox"
           }
          ],
          "scatterpolar": [
           {
            "marker": {
             "colorbar": {
              "outlinewidth": 0,
              "ticks": ""
             }
            },
            "type": "scatterpolar"
           }
          ],
          "scatterpolargl": [
           {
            "marker": {
             "colorbar": {
              "outlinewidth": 0,
              "ticks": ""
             }
            },
            "type": "scatterpolargl"
           }
          ],
          "scatterternary": [
           {
            "marker": {
             "colorbar": {
              "outlinewidth": 0,
              "ticks": ""
             }
            },
            "type": "scatterternary"
           }
          ],
          "surface": [
           {
            "colorbar": {
             "outlinewidth": 0,
             "ticks": ""
            },
            "colorscale": [
             [
              0,
              "#0d0887"
             ],
             [
              0.1111111111111111,
              "#46039f"
             ],
             [
              0.2222222222222222,
              "#7201a8"
             ],
             [
              0.3333333333333333,
              "#9c179e"
             ],
             [
              0.4444444444444444,
              "#bd3786"
             ],
             [
              0.5555555555555556,
              "#d8576b"
             ],
             [
              0.6666666666666666,
              "#ed7953"
             ],
             [
              0.7777777777777778,
              "#fb9f3a"
             ],
             [
              0.8888888888888888,
              "#fdca26"
             ],
             [
              1,
              "#f0f921"
             ]
            ],
            "type": "surface"
           }
          ],
          "table": [
           {
            "cells": {
             "fill": {
              "color": "#EBF0F8"
             },
             "line": {
              "color": "white"
             }
            },
            "header": {
             "fill": {
              "color": "#C8D4E3"
             },
             "line": {
              "color": "white"
             }
            },
            "type": "table"
           }
          ]
         },
         "layout": {
          "annotationdefaults": {
           "arrowcolor": "#2a3f5f",
           "arrowhead": 0,
           "arrowwidth": 1
          },
          "coloraxis": {
           "colorbar": {
            "outlinewidth": 0,
            "ticks": ""
           }
          },
          "colorscale": {
           "diverging": [
            [
             0,
             "#8e0152"
            ],
            [
             0.1,
             "#c51b7d"
            ],
            [
             0.2,
             "#de77ae"
            ],
            [
             0.3,
             "#f1b6da"
            ],
            [
             0.4,
             "#fde0ef"
            ],
            [
             0.5,
             "#f7f7f7"
            ],
            [
             0.6,
             "#e6f5d0"
            ],
            [
             0.7,
             "#b8e186"
            ],
            [
             0.8,
             "#7fbc41"
            ],
            [
             0.9,
             "#4d9221"
            ],
            [
             1,
             "#276419"
            ]
           ],
           "sequential": [
            [
             0,
             "#0d0887"
            ],
            [
             0.1111111111111111,
             "#46039f"
            ],
            [
             0.2222222222222222,
             "#7201a8"
            ],
            [
             0.3333333333333333,
             "#9c179e"
            ],
            [
             0.4444444444444444,
             "#bd3786"
            ],
            [
             0.5555555555555556,
             "#d8576b"
            ],
            [
             0.6666666666666666,
             "#ed7953"
            ],
            [
             0.7777777777777778,
             "#fb9f3a"
            ],
            [
             0.8888888888888888,
             "#fdca26"
            ],
            [
             1,
             "#f0f921"
            ]
           ],
           "sequentialminus": [
            [
             0,
             "#0d0887"
            ],
            [
             0.1111111111111111,
             "#46039f"
            ],
            [
             0.2222222222222222,
             "#7201a8"
            ],
            [
             0.3333333333333333,
             "#9c179e"
            ],
            [
             0.4444444444444444,
             "#bd3786"
            ],
            [
             0.5555555555555556,
             "#d8576b"
            ],
            [
             0.6666666666666666,
             "#ed7953"
            ],
            [
             0.7777777777777778,
             "#fb9f3a"
            ],
            [
             0.8888888888888888,
             "#fdca26"
            ],
            [
             1,
             "#f0f921"
            ]
           ]
          },
          "colorway": [
           "#636efa",
           "#EF553B",
           "#00cc96",
           "#ab63fa",
           "#FFA15A",
           "#19d3f3",
           "#FF6692",
           "#B6E880",
           "#FF97FF",
           "#FECB52"
          ],
          "font": {
           "color": "#2a3f5f"
          },
          "geo": {
           "bgcolor": "white",
           "lakecolor": "white",
           "landcolor": "#E5ECF6",
           "showlakes": true,
           "showland": true,
           "subunitcolor": "white"
          },
          "hoverlabel": {
           "align": "left"
          },
          "hovermode": "closest",
          "mapbox": {
           "style": "light"
          },
          "paper_bgcolor": "white",
          "plot_bgcolor": "#E5ECF6",
          "polar": {
           "angularaxis": {
            "gridcolor": "white",
            "linecolor": "white",
            "ticks": ""
           },
           "bgcolor": "#E5ECF6",
           "radialaxis": {
            "gridcolor": "white",
            "linecolor": "white",
            "ticks": ""
           }
          },
          "scene": {
           "xaxis": {
            "backgroundcolor": "#E5ECF6",
            "gridcolor": "white",
            "gridwidth": 2,
            "linecolor": "white",
            "showbackground": true,
            "ticks": "",
            "zerolinecolor": "white"
           },
           "yaxis": {
            "backgroundcolor": "#E5ECF6",
            "gridcolor": "white",
            "gridwidth": 2,
            "linecolor": "white",
            "showbackground": true,
            "ticks": "",
            "zerolinecolor": "white"
           },
           "zaxis": {
            "backgroundcolor": "#E5ECF6",
            "gridcolor": "white",
            "gridwidth": 2,
            "linecolor": "white",
            "showbackground": true,
            "ticks": "",
            "zerolinecolor": "white"
           }
          },
          "shapedefaults": {
           "line": {
            "color": "#2a3f5f"
           }
          },
          "ternary": {
           "aaxis": {
            "gridcolor": "white",
            "linecolor": "white",
            "ticks": ""
           },
           "baxis": {
            "gridcolor": "white",
            "linecolor": "white",
            "ticks": ""
           },
           "bgcolor": "#E5ECF6",
           "caxis": {
            "gridcolor": "white",
            "linecolor": "white",
            "ticks": ""
           }
          },
          "title": {
           "x": 0.05
          },
          "xaxis": {
           "automargin": true,
           "gridcolor": "white",
           "linecolor": "white",
           "ticks": "",
           "title": {
            "standoff": 15
           },
           "zerolinecolor": "white",
           "zerolinewidth": 2
          },
          "yaxis": {
           "automargin": true,
           "gridcolor": "white",
           "linecolor": "white",
           "ticks": "",
           "title": {
            "standoff": 15
           },
           "zerolinecolor": "white",
           "zerolinewidth": 2
          }
         }
        },
        "title": {
         "font": {
          "color": "#4D5663"
         }
        },
        "xaxis": {
         "gridcolor": "#E1E5ED",
         "showgrid": true,
         "tickfont": {
          "color": "#4D5663"
         },
         "title": {
          "font": {
           "color": "#4D5663"
          },
          "text": ""
         },
         "zerolinecolor": "#E1E5ED"
        },
        "yaxis": {
         "gridcolor": "#E1E5ED",
         "showgrid": true,
         "tickfont": {
          "color": "#4D5663"
         },
         "title": {
          "font": {
           "color": "#4D5663"
          },
          "text": ""
         },
         "zerolinecolor": "#E1E5ED"
        }
       }
      },
      "text/html": [
       "<div>\n",
       "        \n",
       "        \n",
       "            <div id=\"3e9f0870-0f39-4f7f-87d5-90a6a304e6e8\" class=\"plotly-graph-div\" style=\"height:525px; width:100%;\"></div>\n",
       "            <script type=\"text/javascript\">\n",
       "                require([\"plotly\"], function(Plotly) {\n",
       "                    window.PLOTLYENV=window.PLOTLYENV || {};\n",
       "                    window.PLOTLYENV.BASE_URL='https://plot.ly';\n",
       "                    \n",
       "                if (document.getElementById(\"3e9f0870-0f39-4f7f-87d5-90a6a304e6e8\")) {\n",
       "                    Plotly.newPlot(\n",
       "                        '3e9f0870-0f39-4f7f-87d5-90a6a304e6e8',\n",
       "                        [{\"colorscale\": [[0.0, \"rgb(255, 153, 51)\"], [0.1111111111111111, \"rgb(55, 128, 191)\"], [0.2222222222222222, \"rgb(50, 171, 96)\"], [0.3333333333333333, \"rgb(128, 0, 128)\"], [0.4444444444444444, \"rgb(219, 64, 82)\"], [0.5555555555555556, \"rgb(0, 128, 128)\"], [0.6666666666666666, \"rgb(255, 255, 51)\"], [0.7777777777777778, \"rgb(128, 128, 0)\"], [0.8888888888888888, \"rgb(251, 128, 114)\"], [1.0, \"rgb(128, 177, 211)\"]], \"type\": \"surface\", \"x\": [0, 1, 2, 3, 4], \"y\": [\"x\", \"y\", \"z\"], \"z\": [[1, 2, 3, 4, 5], [10, 20, 30, 20, 10], [5, 4, 3, 2, 1]]}],\n",
       "                        {\"legend\": {\"bgcolor\": \"#F5F6F9\", \"font\": {\"color\": \"#4D5663\"}}, \"paper_bgcolor\": \"#F5F6F9\", \"plot_bgcolor\": \"#F5F6F9\", \"template\": {\"data\": {\"bar\": [{\"error_x\": {\"color\": \"#2a3f5f\"}, \"error_y\": {\"color\": \"#2a3f5f\"}, \"marker\": {\"line\": {\"color\": \"#E5ECF6\", \"width\": 0.5}}, \"type\": \"bar\"}], \"barpolar\": [{\"marker\": {\"line\": {\"color\": \"#E5ECF6\", \"width\": 0.5}}, \"type\": \"barpolar\"}], \"carpet\": [{\"aaxis\": {\"endlinecolor\": \"#2a3f5f\", \"gridcolor\": \"white\", \"linecolor\": \"white\", \"minorgridcolor\": \"white\", \"startlinecolor\": \"#2a3f5f\"}, \"baxis\": {\"endlinecolor\": \"#2a3f5f\", \"gridcolor\": \"white\", \"linecolor\": \"white\", \"minorgridcolor\": \"white\", \"startlinecolor\": \"#2a3f5f\"}, \"type\": \"carpet\"}], \"choropleth\": [{\"colorbar\": {\"outlinewidth\": 0, \"ticks\": \"\"}, \"type\": \"choropleth\"}], \"contour\": [{\"colorbar\": {\"outlinewidth\": 0, \"ticks\": \"\"}, \"colorscale\": [[0.0, \"#0d0887\"], [0.1111111111111111, \"#46039f\"], [0.2222222222222222, \"#7201a8\"], [0.3333333333333333, \"#9c179e\"], [0.4444444444444444, \"#bd3786\"], [0.5555555555555556, \"#d8576b\"], [0.6666666666666666, \"#ed7953\"], [0.7777777777777778, \"#fb9f3a\"], [0.8888888888888888, \"#fdca26\"], [1.0, \"#f0f921\"]], \"type\": \"contour\"}], \"contourcarpet\": [{\"colorbar\": {\"outlinewidth\": 0, \"ticks\": \"\"}, \"type\": \"contourcarpet\"}], \"heatmap\": [{\"colorbar\": {\"outlinewidth\": 0, \"ticks\": \"\"}, \"colorscale\": [[0.0, \"#0d0887\"], [0.1111111111111111, \"#46039f\"], [0.2222222222222222, \"#7201a8\"], [0.3333333333333333, \"#9c179e\"], [0.4444444444444444, \"#bd3786\"], [0.5555555555555556, \"#d8576b\"], [0.6666666666666666, \"#ed7953\"], [0.7777777777777778, \"#fb9f3a\"], [0.8888888888888888, \"#fdca26\"], [1.0, \"#f0f921\"]], \"type\": \"heatmap\"}], \"heatmapgl\": [{\"colorbar\": {\"outlinewidth\": 0, \"ticks\": \"\"}, \"colorscale\": [[0.0, \"#0d0887\"], [0.1111111111111111, \"#46039f\"], [0.2222222222222222, \"#7201a8\"], [0.3333333333333333, \"#9c179e\"], [0.4444444444444444, \"#bd3786\"], [0.5555555555555556, \"#d8576b\"], [0.6666666666666666, \"#ed7953\"], [0.7777777777777778, \"#fb9f3a\"], [0.8888888888888888, \"#fdca26\"], [1.0, \"#f0f921\"]], \"type\": \"heatmapgl\"}], \"histogram\": [{\"marker\": {\"colorbar\": {\"outlinewidth\": 0, \"ticks\": \"\"}}, \"type\": \"histogram\"}], \"histogram2d\": [{\"colorbar\": {\"outlinewidth\": 0, \"ticks\": \"\"}, \"colorscale\": [[0.0, \"#0d0887\"], [0.1111111111111111, \"#46039f\"], [0.2222222222222222, \"#7201a8\"], [0.3333333333333333, \"#9c179e\"], [0.4444444444444444, \"#bd3786\"], [0.5555555555555556, \"#d8576b\"], [0.6666666666666666, \"#ed7953\"], [0.7777777777777778, \"#fb9f3a\"], [0.8888888888888888, \"#fdca26\"], [1.0, \"#f0f921\"]], \"type\": \"histogram2d\"}], \"histogram2dcontour\": [{\"colorbar\": {\"outlinewidth\": 0, \"ticks\": \"\"}, \"colorscale\": [[0.0, \"#0d0887\"], [0.1111111111111111, \"#46039f\"], [0.2222222222222222, \"#7201a8\"], [0.3333333333333333, \"#9c179e\"], [0.4444444444444444, \"#bd3786\"], [0.5555555555555556, \"#d8576b\"], [0.6666666666666666, \"#ed7953\"], [0.7777777777777778, \"#fb9f3a\"], [0.8888888888888888, \"#fdca26\"], [1.0, \"#f0f921\"]], \"type\": \"histogram2dcontour\"}], \"mesh3d\": [{\"colorbar\": {\"outlinewidth\": 0, \"ticks\": \"\"}, \"type\": \"mesh3d\"}], \"parcoords\": [{\"line\": {\"colorbar\": {\"outlinewidth\": 0, \"ticks\": \"\"}}, \"type\": \"parcoords\"}], \"pie\": [{\"automargin\": true, \"type\": \"pie\"}], \"scatter\": [{\"marker\": {\"colorbar\": {\"outlinewidth\": 0, \"ticks\": \"\"}}, \"type\": \"scatter\"}], \"scatter3d\": [{\"line\": {\"colorbar\": {\"outlinewidth\": 0, \"ticks\": \"\"}}, \"marker\": {\"colorbar\": {\"outlinewidth\": 0, \"ticks\": \"\"}}, \"type\": \"scatter3d\"}], \"scattercarpet\": [{\"marker\": {\"colorbar\": {\"outlinewidth\": 0, \"ticks\": \"\"}}, \"type\": \"scattercarpet\"}], \"scattergeo\": [{\"marker\": {\"colorbar\": {\"outlinewidth\": 0, \"ticks\": \"\"}}, \"type\": \"scattergeo\"}], \"scattergl\": [{\"marker\": {\"colorbar\": {\"outlinewidth\": 0, \"ticks\": \"\"}}, \"type\": \"scattergl\"}], \"scattermapbox\": [{\"marker\": {\"colorbar\": {\"outlinewidth\": 0, \"ticks\": \"\"}}, \"type\": \"scattermapbox\"}], \"scatterpolar\": [{\"marker\": {\"colorbar\": {\"outlinewidth\": 0, \"ticks\": \"\"}}, \"type\": \"scatterpolar\"}], \"scatterpolargl\": [{\"marker\": {\"colorbar\": {\"outlinewidth\": 0, \"ticks\": \"\"}}, \"type\": \"scatterpolargl\"}], \"scatterternary\": [{\"marker\": {\"colorbar\": {\"outlinewidth\": 0, \"ticks\": \"\"}}, \"type\": \"scatterternary\"}], \"surface\": [{\"colorbar\": {\"outlinewidth\": 0, \"ticks\": \"\"}, \"colorscale\": [[0.0, \"#0d0887\"], [0.1111111111111111, \"#46039f\"], [0.2222222222222222, \"#7201a8\"], [0.3333333333333333, \"#9c179e\"], [0.4444444444444444, \"#bd3786\"], [0.5555555555555556, \"#d8576b\"], [0.6666666666666666, \"#ed7953\"], [0.7777777777777778, \"#fb9f3a\"], [0.8888888888888888, \"#fdca26\"], [1.0, \"#f0f921\"]], \"type\": \"surface\"}], \"table\": [{\"cells\": {\"fill\": {\"color\": \"#EBF0F8\"}, \"line\": {\"color\": \"white\"}}, \"header\": {\"fill\": {\"color\": \"#C8D4E3\"}, \"line\": {\"color\": \"white\"}}, \"type\": \"table\"}]}, \"layout\": {\"annotationdefaults\": {\"arrowcolor\": \"#2a3f5f\", \"arrowhead\": 0, \"arrowwidth\": 1}, \"coloraxis\": {\"colorbar\": {\"outlinewidth\": 0, \"ticks\": \"\"}}, \"colorscale\": {\"diverging\": [[0, \"#8e0152\"], [0.1, \"#c51b7d\"], [0.2, \"#de77ae\"], [0.3, \"#f1b6da\"], [0.4, \"#fde0ef\"], [0.5, \"#f7f7f7\"], [0.6, \"#e6f5d0\"], [0.7, \"#b8e186\"], [0.8, \"#7fbc41\"], [0.9, \"#4d9221\"], [1, \"#276419\"]], \"sequential\": [[0.0, \"#0d0887\"], [0.1111111111111111, \"#46039f\"], [0.2222222222222222, \"#7201a8\"], [0.3333333333333333, \"#9c179e\"], [0.4444444444444444, \"#bd3786\"], [0.5555555555555556, \"#d8576b\"], [0.6666666666666666, \"#ed7953\"], [0.7777777777777778, \"#fb9f3a\"], [0.8888888888888888, \"#fdca26\"], [1.0, \"#f0f921\"]], \"sequentialminus\": [[0.0, \"#0d0887\"], [0.1111111111111111, \"#46039f\"], [0.2222222222222222, \"#7201a8\"], [0.3333333333333333, \"#9c179e\"], [0.4444444444444444, \"#bd3786\"], [0.5555555555555556, \"#d8576b\"], [0.6666666666666666, \"#ed7953\"], [0.7777777777777778, \"#fb9f3a\"], [0.8888888888888888, \"#fdca26\"], [1.0, \"#f0f921\"]]}, \"colorway\": [\"#636efa\", \"#EF553B\", \"#00cc96\", \"#ab63fa\", \"#FFA15A\", \"#19d3f3\", \"#FF6692\", \"#B6E880\", \"#FF97FF\", \"#FECB52\"], \"font\": {\"color\": \"#2a3f5f\"}, \"geo\": {\"bgcolor\": \"white\", \"lakecolor\": \"white\", \"landcolor\": \"#E5ECF6\", \"showlakes\": true, \"showland\": true, \"subunitcolor\": \"white\"}, \"hoverlabel\": {\"align\": \"left\"}, \"hovermode\": \"closest\", \"mapbox\": {\"style\": \"light\"}, \"paper_bgcolor\": \"white\", \"plot_bgcolor\": \"#E5ECF6\", \"polar\": {\"angularaxis\": {\"gridcolor\": \"white\", \"linecolor\": \"white\", \"ticks\": \"\"}, \"bgcolor\": \"#E5ECF6\", \"radialaxis\": {\"gridcolor\": \"white\", \"linecolor\": \"white\", \"ticks\": \"\"}}, \"scene\": {\"xaxis\": {\"backgroundcolor\": \"#E5ECF6\", \"gridcolor\": \"white\", \"gridwidth\": 2, \"linecolor\": \"white\", \"showbackground\": true, \"ticks\": \"\", \"zerolinecolor\": \"white\"}, \"yaxis\": {\"backgroundcolor\": \"#E5ECF6\", \"gridcolor\": \"white\", \"gridwidth\": 2, \"linecolor\": \"white\", \"showbackground\": true, \"ticks\": \"\", \"zerolinecolor\": \"white\"}, \"zaxis\": {\"backgroundcolor\": \"#E5ECF6\", \"gridcolor\": \"white\", \"gridwidth\": 2, \"linecolor\": \"white\", \"showbackground\": true, \"ticks\": \"\", \"zerolinecolor\": \"white\"}}, \"shapedefaults\": {\"line\": {\"color\": \"#2a3f5f\"}}, \"ternary\": {\"aaxis\": {\"gridcolor\": \"white\", \"linecolor\": \"white\", \"ticks\": \"\"}, \"baxis\": {\"gridcolor\": \"white\", \"linecolor\": \"white\", \"ticks\": \"\"}, \"bgcolor\": \"#E5ECF6\", \"caxis\": {\"gridcolor\": \"white\", \"linecolor\": \"white\", \"ticks\": \"\"}}, \"title\": {\"x\": 0.05}, \"xaxis\": {\"automargin\": true, \"gridcolor\": \"white\", \"linecolor\": \"white\", \"ticks\": \"\", \"title\": {\"standoff\": 15}, \"zerolinecolor\": \"white\", \"zerolinewidth\": 2}, \"yaxis\": {\"automargin\": true, \"gridcolor\": \"white\", \"linecolor\": \"white\", \"ticks\": \"\", \"title\": {\"standoff\": 15}, \"zerolinecolor\": \"white\", \"zerolinewidth\": 2}}}, \"title\": {\"font\": {\"color\": \"#4D5663\"}}, \"xaxis\": {\"gridcolor\": \"#E1E5ED\", \"showgrid\": true, \"tickfont\": {\"color\": \"#4D5663\"}, \"title\": {\"font\": {\"color\": \"#4D5663\"}, \"text\": \"\"}, \"zerolinecolor\": \"#E1E5ED\"}, \"yaxis\": {\"gridcolor\": \"#E1E5ED\", \"showgrid\": true, \"tickfont\": {\"color\": \"#4D5663\"}, \"title\": {\"font\": {\"color\": \"#4D5663\"}, \"text\": \"\"}, \"zerolinecolor\": \"#E1E5ED\"}},\n",
       "                        {\"showLink\": true, \"linkText\": \"Export to plot.ly\", \"plotlyServerURL\": \"https://plot.ly\", \"responsive\": true}\n",
       "                    ).then(function(){\n",
       "                            \n",
       "var gd = document.getElementById('3e9f0870-0f39-4f7f-87d5-90a6a304e6e8');\n",
       "var x = new MutationObserver(function (mutations, observer) {{\n",
       "        var display = window.getComputedStyle(gd).display;\n",
       "        if (!display || display === 'none') {{\n",
       "            console.log([gd, 'removed!']);\n",
       "            Plotly.purge(gd);\n",
       "            observer.disconnect();\n",
       "        }}\n",
       "}});\n",
       "\n",
       "// Listen for the removal of the full notebook cells\n",
       "var notebookContainer = gd.closest('#notebook-container');\n",
       "if (notebookContainer) {{\n",
       "    x.observe(notebookContainer, {childList: true});\n",
       "}}\n",
       "\n",
       "// Listen for the clearing of the current output cell\n",
       "var outputEl = gd.closest('.output');\n",
       "if (outputEl) {{\n",
       "    x.observe(outputEl, {childList: true});\n",
       "}}\n",
       "\n",
       "                        })\n",
       "                };\n",
       "                });\n",
       "            </script>\n",
       "        </div>"
      ]
     },
     "metadata": {},
     "output_type": "display_data"
    }
   ],
   "source": [
    "df3.iplot(kind='surface')"
   ]
  },
  {
   "cell_type": "code",
   "execution_count": 35,
   "metadata": {},
   "outputs": [
    {
     "data": {
      "application/vnd.plotly.v1+json": {
       "config": {
        "linkText": "Export to plot.ly",
        "plotlyServerURL": "https://plot.ly",
        "showLink": true
       },
       "data": [
        {
         "colorscale": [
          [
           0,
           "rgb(165,0,38)"
          ],
          [
           0.1,
           "rgb(215,48,39)"
          ],
          [
           0.2,
           "rgb(244,109,67)"
          ],
          [
           0.3,
           "rgb(253,174,97)"
          ],
          [
           0.4,
           "rgb(254,224,144)"
          ],
          [
           0.5,
           "rgb(255,255,191)"
          ],
          [
           0.6,
           "rgb(224,243,248)"
          ],
          [
           0.7,
           "rgb(171,217,233)"
          ],
          [
           0.8,
           "rgb(116,173,209)"
          ],
          [
           0.9,
           "rgb(69,117,180)"
          ],
          [
           1,
           "rgb(49,54,149)"
          ]
         ],
         "type": "surface",
         "x": [
          0,
          1,
          2,
          3,
          4
         ],
         "y": [
          "x",
          "y",
          "z"
         ],
         "z": [
          [
           1,
           2,
           3,
           4,
           5
          ],
          [
           10,
           20,
           30,
           20,
           10
          ],
          [
           5,
           4,
           3,
           2,
           1
          ]
         ]
        }
       ],
       "layout": {
        "legend": {
         "bgcolor": "#F5F6F9",
         "font": {
          "color": "#4D5663"
         }
        },
        "paper_bgcolor": "#F5F6F9",
        "plot_bgcolor": "#F5F6F9",
        "template": {
         "data": {
          "bar": [
           {
            "error_x": {
             "color": "#2a3f5f"
            },
            "error_y": {
             "color": "#2a3f5f"
            },
            "marker": {
             "line": {
              "color": "#E5ECF6",
              "width": 0.5
             }
            },
            "type": "bar"
           }
          ],
          "barpolar": [
           {
            "marker": {
             "line": {
              "color": "#E5ECF6",
              "width": 0.5
             }
            },
            "type": "barpolar"
           }
          ],
          "carpet": [
           {
            "aaxis": {
             "endlinecolor": "#2a3f5f",
             "gridcolor": "white",
             "linecolor": "white",
             "minorgridcolor": "white",
             "startlinecolor": "#2a3f5f"
            },
            "baxis": {
             "endlinecolor": "#2a3f5f",
             "gridcolor": "white",
             "linecolor": "white",
             "minorgridcolor": "white",
             "startlinecolor": "#2a3f5f"
            },
            "type": "carpet"
           }
          ],
          "choropleth": [
           {
            "colorbar": {
             "outlinewidth": 0,
             "ticks": ""
            },
            "type": "choropleth"
           }
          ],
          "contour": [
           {
            "colorbar": {
             "outlinewidth": 0,
             "ticks": ""
            },
            "colorscale": [
             [
              0,
              "#0d0887"
             ],
             [
              0.1111111111111111,
              "#46039f"
             ],
             [
              0.2222222222222222,
              "#7201a8"
             ],
             [
              0.3333333333333333,
              "#9c179e"
             ],
             [
              0.4444444444444444,
              "#bd3786"
             ],
             [
              0.5555555555555556,
              "#d8576b"
             ],
             [
              0.6666666666666666,
              "#ed7953"
             ],
             [
              0.7777777777777778,
              "#fb9f3a"
             ],
             [
              0.8888888888888888,
              "#fdca26"
             ],
             [
              1,
              "#f0f921"
             ]
            ],
            "type": "contour"
           }
          ],
          "contourcarpet": [
           {
            "colorbar": {
             "outlinewidth": 0,
             "ticks": ""
            },
            "type": "contourcarpet"
           }
          ],
          "heatmap": [
           {
            "colorbar": {
             "outlinewidth": 0,
             "ticks": ""
            },
            "colorscale": [
             [
              0,
              "#0d0887"
             ],
             [
              0.1111111111111111,
              "#46039f"
             ],
             [
              0.2222222222222222,
              "#7201a8"
             ],
             [
              0.3333333333333333,
              "#9c179e"
             ],
             [
              0.4444444444444444,
              "#bd3786"
             ],
             [
              0.5555555555555556,
              "#d8576b"
             ],
             [
              0.6666666666666666,
              "#ed7953"
             ],
             [
              0.7777777777777778,
              "#fb9f3a"
             ],
             [
              0.8888888888888888,
              "#fdca26"
             ],
             [
              1,
              "#f0f921"
             ]
            ],
            "type": "heatmap"
           }
          ],
          "heatmapgl": [
           {
            "colorbar": {
             "outlinewidth": 0,
             "ticks": ""
            },
            "colorscale": [
             [
              0,
              "#0d0887"
             ],
             [
              0.1111111111111111,
              "#46039f"
             ],
             [
              0.2222222222222222,
              "#7201a8"
             ],
             [
              0.3333333333333333,
              "#9c179e"
             ],
             [
              0.4444444444444444,
              "#bd3786"
             ],
             [
              0.5555555555555556,
              "#d8576b"
             ],
             [
              0.6666666666666666,
              "#ed7953"
             ],
             [
              0.7777777777777778,
              "#fb9f3a"
             ],
             [
              0.8888888888888888,
              "#fdca26"
             ],
             [
              1,
              "#f0f921"
             ]
            ],
            "type": "heatmapgl"
           }
          ],
          "histogram": [
           {
            "marker": {
             "colorbar": {
              "outlinewidth": 0,
              "ticks": ""
             }
            },
            "type": "histogram"
           }
          ],
          "histogram2d": [
           {
            "colorbar": {
             "outlinewidth": 0,
             "ticks": ""
            },
            "colorscale": [
             [
              0,
              "#0d0887"
             ],
             [
              0.1111111111111111,
              "#46039f"
             ],
             [
              0.2222222222222222,
              "#7201a8"
             ],
             [
              0.3333333333333333,
              "#9c179e"
             ],
             [
              0.4444444444444444,
              "#bd3786"
             ],
             [
              0.5555555555555556,
              "#d8576b"
             ],
             [
              0.6666666666666666,
              "#ed7953"
             ],
             [
              0.7777777777777778,
              "#fb9f3a"
             ],
             [
              0.8888888888888888,
              "#fdca26"
             ],
             [
              1,
              "#f0f921"
             ]
            ],
            "type": "histogram2d"
           }
          ],
          "histogram2dcontour": [
           {
            "colorbar": {
             "outlinewidth": 0,
             "ticks": ""
            },
            "colorscale": [
             [
              0,
              "#0d0887"
             ],
             [
              0.1111111111111111,
              "#46039f"
             ],
             [
              0.2222222222222222,
              "#7201a8"
             ],
             [
              0.3333333333333333,
              "#9c179e"
             ],
             [
              0.4444444444444444,
              "#bd3786"
             ],
             [
              0.5555555555555556,
              "#d8576b"
             ],
             [
              0.6666666666666666,
              "#ed7953"
             ],
             [
              0.7777777777777778,
              "#fb9f3a"
             ],
             [
              0.8888888888888888,
              "#fdca26"
             ],
             [
              1,
              "#f0f921"
             ]
            ],
            "type": "histogram2dcontour"
           }
          ],
          "mesh3d": [
           {
            "colorbar": {
             "outlinewidth": 0,
             "ticks": ""
            },
            "type": "mesh3d"
           }
          ],
          "parcoords": [
           {
            "line": {
             "colorbar": {
              "outlinewidth": 0,
              "ticks": ""
             }
            },
            "type": "parcoords"
           }
          ],
          "pie": [
           {
            "automargin": true,
            "type": "pie"
           }
          ],
          "scatter": [
           {
            "marker": {
             "colorbar": {
              "outlinewidth": 0,
              "ticks": ""
             }
            },
            "type": "scatter"
           }
          ],
          "scatter3d": [
           {
            "line": {
             "colorbar": {
              "outlinewidth": 0,
              "ticks": ""
             }
            },
            "marker": {
             "colorbar": {
              "outlinewidth": 0,
              "ticks": ""
             }
            },
            "type": "scatter3d"
           }
          ],
          "scattercarpet": [
           {
            "marker": {
             "colorbar": {
              "outlinewidth": 0,
              "ticks": ""
             }
            },
            "type": "scattercarpet"
           }
          ],
          "scattergeo": [
           {
            "marker": {
             "colorbar": {
              "outlinewidth": 0,
              "ticks": ""
             }
            },
            "type": "scattergeo"
           }
          ],
          "scattergl": [
           {
            "marker": {
             "colorbar": {
              "outlinewidth": 0,
              "ticks": ""
             }
            },
            "type": "scattergl"
           }
          ],
          "scattermapbox": [
           {
            "marker": {
             "colorbar": {
              "outlinewidth": 0,
              "ticks": ""
             }
            },
            "type": "scattermapbox"
           }
          ],
          "scatterpolar": [
           {
            "marker": {
             "colorbar": {
              "outlinewidth": 0,
              "ticks": ""
             }
            },
            "type": "scatterpolar"
           }
          ],
          "scatterpolargl": [
           {
            "marker": {
             "colorbar": {
              "outlinewidth": 0,
              "ticks": ""
             }
            },
            "type": "scatterpolargl"
           }
          ],
          "scatterternary": [
           {
            "marker": {
             "colorbar": {
              "outlinewidth": 0,
              "ticks": ""
             }
            },
            "type": "scatterternary"
           }
          ],
          "surface": [
           {
            "colorbar": {
             "outlinewidth": 0,
             "ticks": ""
            },
            "colorscale": [
             [
              0,
              "#0d0887"
             ],
             [
              0.1111111111111111,
              "#46039f"
             ],
             [
              0.2222222222222222,
              "#7201a8"
             ],
             [
              0.3333333333333333,
              "#9c179e"
             ],
             [
              0.4444444444444444,
              "#bd3786"
             ],
             [
              0.5555555555555556,
              "#d8576b"
             ],
             [
              0.6666666666666666,
              "#ed7953"
             ],
             [
              0.7777777777777778,
              "#fb9f3a"
             ],
             [
              0.8888888888888888,
              "#fdca26"
             ],
             [
              1,
              "#f0f921"
             ]
            ],
            "type": "surface"
           }
          ],
          "table": [
           {
            "cells": {
             "fill": {
              "color": "#EBF0F8"
             },
             "line": {
              "color": "white"
             }
            },
            "header": {
             "fill": {
              "color": "#C8D4E3"
             },
             "line": {
              "color": "white"
             }
            },
            "type": "table"
           }
          ]
         },
         "layout": {
          "annotationdefaults": {
           "arrowcolor": "#2a3f5f",
           "arrowhead": 0,
           "arrowwidth": 1
          },
          "coloraxis": {
           "colorbar": {
            "outlinewidth": 0,
            "ticks": ""
           }
          },
          "colorscale": {
           "diverging": [
            [
             0,
             "#8e0152"
            ],
            [
             0.1,
             "#c51b7d"
            ],
            [
             0.2,
             "#de77ae"
            ],
            [
             0.3,
             "#f1b6da"
            ],
            [
             0.4,
             "#fde0ef"
            ],
            [
             0.5,
             "#f7f7f7"
            ],
            [
             0.6,
             "#e6f5d0"
            ],
            [
             0.7,
             "#b8e186"
            ],
            [
             0.8,
             "#7fbc41"
            ],
            [
             0.9,
             "#4d9221"
            ],
            [
             1,
             "#276419"
            ]
           ],
           "sequential": [
            [
             0,
             "#0d0887"
            ],
            [
             0.1111111111111111,
             "#46039f"
            ],
            [
             0.2222222222222222,
             "#7201a8"
            ],
            [
             0.3333333333333333,
             "#9c179e"
            ],
            [
             0.4444444444444444,
             "#bd3786"
            ],
            [
             0.5555555555555556,
             "#d8576b"
            ],
            [
             0.6666666666666666,
             "#ed7953"
            ],
            [
             0.7777777777777778,
             "#fb9f3a"
            ],
            [
             0.8888888888888888,
             "#fdca26"
            ],
            [
             1,
             "#f0f921"
            ]
           ],
           "sequentialminus": [
            [
             0,
             "#0d0887"
            ],
            [
             0.1111111111111111,
             "#46039f"
            ],
            [
             0.2222222222222222,
             "#7201a8"
            ],
            [
             0.3333333333333333,
             "#9c179e"
            ],
            [
             0.4444444444444444,
             "#bd3786"
            ],
            [
             0.5555555555555556,
             "#d8576b"
            ],
            [
             0.6666666666666666,
             "#ed7953"
            ],
            [
             0.7777777777777778,
             "#fb9f3a"
            ],
            [
             0.8888888888888888,
             "#fdca26"
            ],
            [
             1,
             "#f0f921"
            ]
           ]
          },
          "colorway": [
           "#636efa",
           "#EF553B",
           "#00cc96",
           "#ab63fa",
           "#FFA15A",
           "#19d3f3",
           "#FF6692",
           "#B6E880",
           "#FF97FF",
           "#FECB52"
          ],
          "font": {
           "color": "#2a3f5f"
          },
          "geo": {
           "bgcolor": "white",
           "lakecolor": "white",
           "landcolor": "#E5ECF6",
           "showlakes": true,
           "showland": true,
           "subunitcolor": "white"
          },
          "hoverlabel": {
           "align": "left"
          },
          "hovermode": "closest",
          "mapbox": {
           "style": "light"
          },
          "paper_bgcolor": "white",
          "plot_bgcolor": "#E5ECF6",
          "polar": {
           "angularaxis": {
            "gridcolor": "white",
            "linecolor": "white",
            "ticks": ""
           },
           "bgcolor": "#E5ECF6",
           "radialaxis": {
            "gridcolor": "white",
            "linecolor": "white",
            "ticks": ""
           }
          },
          "scene": {
           "xaxis": {
            "backgroundcolor": "#E5ECF6",
            "gridcolor": "white",
            "gridwidth": 2,
            "linecolor": "white",
            "showbackground": true,
            "ticks": "",
            "zerolinecolor": "white"
           },
           "yaxis": {
            "backgroundcolor": "#E5ECF6",
            "gridcolor": "white",
            "gridwidth": 2,
            "linecolor": "white",
            "showbackground": true,
            "ticks": "",
            "zerolinecolor": "white"
           },
           "zaxis": {
            "backgroundcolor": "#E5ECF6",
            "gridcolor": "white",
            "gridwidth": 2,
            "linecolor": "white",
            "showbackground": true,
            "ticks": "",
            "zerolinecolor": "white"
           }
          },
          "shapedefaults": {
           "line": {
            "color": "#2a3f5f"
           }
          },
          "ternary": {
           "aaxis": {
            "gridcolor": "white",
            "linecolor": "white",
            "ticks": ""
           },
           "baxis": {
            "gridcolor": "white",
            "linecolor": "white",
            "ticks": ""
           },
           "bgcolor": "#E5ECF6",
           "caxis": {
            "gridcolor": "white",
            "linecolor": "white",
            "ticks": ""
           }
          },
          "title": {
           "x": 0.05
          },
          "xaxis": {
           "automargin": true,
           "gridcolor": "white",
           "linecolor": "white",
           "ticks": "",
           "title": {
            "standoff": 15
           },
           "zerolinecolor": "white",
           "zerolinewidth": 2
          },
          "yaxis": {
           "automargin": true,
           "gridcolor": "white",
           "linecolor": "white",
           "ticks": "",
           "title": {
            "standoff": 15
           },
           "zerolinecolor": "white",
           "zerolinewidth": 2
          }
         }
        },
        "title": {
         "font": {
          "color": "#4D5663"
         }
        },
        "xaxis": {
         "gridcolor": "#E1E5ED",
         "showgrid": true,
         "tickfont": {
          "color": "#4D5663"
         },
         "title": {
          "font": {
           "color": "#4D5663"
          },
          "text": ""
         },
         "zerolinecolor": "#E1E5ED"
        },
        "yaxis": {
         "gridcolor": "#E1E5ED",
         "showgrid": true,
         "tickfont": {
          "color": "#4D5663"
         },
         "title": {
          "font": {
           "color": "#4D5663"
          },
          "text": ""
         },
         "zerolinecolor": "#E1E5ED"
        }
       }
      },
      "text/html": [
       "<div>\n",
       "        \n",
       "        \n",
       "            <div id=\"a9da5a16-42c1-4ba5-be9a-d7becf3b5e86\" class=\"plotly-graph-div\" style=\"height:525px; width:100%;\"></div>\n",
       "            <script type=\"text/javascript\">\n",
       "                require([\"plotly\"], function(Plotly) {\n",
       "                    window.PLOTLYENV=window.PLOTLYENV || {};\n",
       "                    window.PLOTLYENV.BASE_URL='https://plot.ly';\n",
       "                    \n",
       "                if (document.getElementById(\"a9da5a16-42c1-4ba5-be9a-d7becf3b5e86\")) {\n",
       "                    Plotly.newPlot(\n",
       "                        'a9da5a16-42c1-4ba5-be9a-d7becf3b5e86',\n",
       "                        [{\"colorscale\": [[0.0, \"rgb(165,0,38)\"], [0.1, \"rgb(215,48,39)\"], [0.2, \"rgb(244,109,67)\"], [0.3, \"rgb(253,174,97)\"], [0.4, \"rgb(254,224,144)\"], [0.5, \"rgb(255,255,191)\"], [0.6, \"rgb(224,243,248)\"], [0.7, \"rgb(171,217,233)\"], [0.8, \"rgb(116,173,209)\"], [0.9, \"rgb(69,117,180)\"], [1.0, \"rgb(49,54,149)\"]], \"type\": \"surface\", \"x\": [0, 1, 2, 3, 4], \"y\": [\"x\", \"y\", \"z\"], \"z\": [[1, 2, 3, 4, 5], [10, 20, 30, 20, 10], [5, 4, 3, 2, 1]]}],\n",
       "                        {\"legend\": {\"bgcolor\": \"#F5F6F9\", \"font\": {\"color\": \"#4D5663\"}}, \"paper_bgcolor\": \"#F5F6F9\", \"plot_bgcolor\": \"#F5F6F9\", \"template\": {\"data\": {\"bar\": [{\"error_x\": {\"color\": \"#2a3f5f\"}, \"error_y\": {\"color\": \"#2a3f5f\"}, \"marker\": {\"line\": {\"color\": \"#E5ECF6\", \"width\": 0.5}}, \"type\": \"bar\"}], \"barpolar\": [{\"marker\": {\"line\": {\"color\": \"#E5ECF6\", \"width\": 0.5}}, \"type\": \"barpolar\"}], \"carpet\": [{\"aaxis\": {\"endlinecolor\": \"#2a3f5f\", \"gridcolor\": \"white\", \"linecolor\": \"white\", \"minorgridcolor\": \"white\", \"startlinecolor\": \"#2a3f5f\"}, \"baxis\": {\"endlinecolor\": \"#2a3f5f\", \"gridcolor\": \"white\", \"linecolor\": \"white\", \"minorgridcolor\": \"white\", \"startlinecolor\": \"#2a3f5f\"}, \"type\": \"carpet\"}], \"choropleth\": [{\"colorbar\": {\"outlinewidth\": 0, \"ticks\": \"\"}, \"type\": \"choropleth\"}], \"contour\": [{\"colorbar\": {\"outlinewidth\": 0, \"ticks\": \"\"}, \"colorscale\": [[0.0, \"#0d0887\"], [0.1111111111111111, \"#46039f\"], [0.2222222222222222, \"#7201a8\"], [0.3333333333333333, \"#9c179e\"], [0.4444444444444444, \"#bd3786\"], [0.5555555555555556, \"#d8576b\"], [0.6666666666666666, \"#ed7953\"], [0.7777777777777778, \"#fb9f3a\"], [0.8888888888888888, \"#fdca26\"], [1.0, \"#f0f921\"]], \"type\": \"contour\"}], \"contourcarpet\": [{\"colorbar\": {\"outlinewidth\": 0, \"ticks\": \"\"}, \"type\": \"contourcarpet\"}], \"heatmap\": [{\"colorbar\": {\"outlinewidth\": 0, \"ticks\": \"\"}, \"colorscale\": [[0.0, \"#0d0887\"], [0.1111111111111111, \"#46039f\"], [0.2222222222222222, \"#7201a8\"], [0.3333333333333333, \"#9c179e\"], [0.4444444444444444, \"#bd3786\"], [0.5555555555555556, \"#d8576b\"], [0.6666666666666666, \"#ed7953\"], [0.7777777777777778, \"#fb9f3a\"], [0.8888888888888888, \"#fdca26\"], [1.0, \"#f0f921\"]], \"type\": \"heatmap\"}], \"heatmapgl\": [{\"colorbar\": {\"outlinewidth\": 0, \"ticks\": \"\"}, \"colorscale\": [[0.0, \"#0d0887\"], [0.1111111111111111, \"#46039f\"], [0.2222222222222222, \"#7201a8\"], [0.3333333333333333, \"#9c179e\"], [0.4444444444444444, \"#bd3786\"], [0.5555555555555556, \"#d8576b\"], [0.6666666666666666, \"#ed7953\"], [0.7777777777777778, \"#fb9f3a\"], [0.8888888888888888, \"#fdca26\"], [1.0, \"#f0f921\"]], \"type\": \"heatmapgl\"}], \"histogram\": [{\"marker\": {\"colorbar\": {\"outlinewidth\": 0, \"ticks\": \"\"}}, \"type\": \"histogram\"}], \"histogram2d\": [{\"colorbar\": {\"outlinewidth\": 0, \"ticks\": \"\"}, \"colorscale\": [[0.0, \"#0d0887\"], [0.1111111111111111, \"#46039f\"], [0.2222222222222222, \"#7201a8\"], [0.3333333333333333, \"#9c179e\"], [0.4444444444444444, \"#bd3786\"], [0.5555555555555556, \"#d8576b\"], [0.6666666666666666, \"#ed7953\"], [0.7777777777777778, \"#fb9f3a\"], [0.8888888888888888, \"#fdca26\"], [1.0, \"#f0f921\"]], \"type\": \"histogram2d\"}], \"histogram2dcontour\": [{\"colorbar\": {\"outlinewidth\": 0, \"ticks\": \"\"}, \"colorscale\": [[0.0, \"#0d0887\"], [0.1111111111111111, \"#46039f\"], [0.2222222222222222, \"#7201a8\"], [0.3333333333333333, \"#9c179e\"], [0.4444444444444444, \"#bd3786\"], [0.5555555555555556, \"#d8576b\"], [0.6666666666666666, \"#ed7953\"], [0.7777777777777778, \"#fb9f3a\"], [0.8888888888888888, \"#fdca26\"], [1.0, \"#f0f921\"]], \"type\": \"histogram2dcontour\"}], \"mesh3d\": [{\"colorbar\": {\"outlinewidth\": 0, \"ticks\": \"\"}, \"type\": \"mesh3d\"}], \"parcoords\": [{\"line\": {\"colorbar\": {\"outlinewidth\": 0, \"ticks\": \"\"}}, \"type\": \"parcoords\"}], \"pie\": [{\"automargin\": true, \"type\": \"pie\"}], \"scatter\": [{\"marker\": {\"colorbar\": {\"outlinewidth\": 0, \"ticks\": \"\"}}, \"type\": \"scatter\"}], \"scatter3d\": [{\"line\": {\"colorbar\": {\"outlinewidth\": 0, \"ticks\": \"\"}}, \"marker\": {\"colorbar\": {\"outlinewidth\": 0, \"ticks\": \"\"}}, \"type\": \"scatter3d\"}], \"scattercarpet\": [{\"marker\": {\"colorbar\": {\"outlinewidth\": 0, \"ticks\": \"\"}}, \"type\": \"scattercarpet\"}], \"scattergeo\": [{\"marker\": {\"colorbar\": {\"outlinewidth\": 0, \"ticks\": \"\"}}, \"type\": \"scattergeo\"}], \"scattergl\": [{\"marker\": {\"colorbar\": {\"outlinewidth\": 0, \"ticks\": \"\"}}, \"type\": \"scattergl\"}], \"scattermapbox\": [{\"marker\": {\"colorbar\": {\"outlinewidth\": 0, \"ticks\": \"\"}}, \"type\": \"scattermapbox\"}], \"scatterpolar\": [{\"marker\": {\"colorbar\": {\"outlinewidth\": 0, \"ticks\": \"\"}}, \"type\": \"scatterpolar\"}], \"scatterpolargl\": [{\"marker\": {\"colorbar\": {\"outlinewidth\": 0, \"ticks\": \"\"}}, \"type\": \"scatterpolargl\"}], \"scatterternary\": [{\"marker\": {\"colorbar\": {\"outlinewidth\": 0, \"ticks\": \"\"}}, \"type\": \"scatterternary\"}], \"surface\": [{\"colorbar\": {\"outlinewidth\": 0, \"ticks\": \"\"}, \"colorscale\": [[0.0, \"#0d0887\"], [0.1111111111111111, \"#46039f\"], [0.2222222222222222, \"#7201a8\"], [0.3333333333333333, \"#9c179e\"], [0.4444444444444444, \"#bd3786\"], [0.5555555555555556, \"#d8576b\"], [0.6666666666666666, \"#ed7953\"], [0.7777777777777778, \"#fb9f3a\"], [0.8888888888888888, \"#fdca26\"], [1.0, \"#f0f921\"]], \"type\": \"surface\"}], \"table\": [{\"cells\": {\"fill\": {\"color\": \"#EBF0F8\"}, \"line\": {\"color\": \"white\"}}, \"header\": {\"fill\": {\"color\": \"#C8D4E3\"}, \"line\": {\"color\": \"white\"}}, \"type\": \"table\"}]}, \"layout\": {\"annotationdefaults\": {\"arrowcolor\": \"#2a3f5f\", \"arrowhead\": 0, \"arrowwidth\": 1}, \"coloraxis\": {\"colorbar\": {\"outlinewidth\": 0, \"ticks\": \"\"}}, \"colorscale\": {\"diverging\": [[0, \"#8e0152\"], [0.1, \"#c51b7d\"], [0.2, \"#de77ae\"], [0.3, \"#f1b6da\"], [0.4, \"#fde0ef\"], [0.5, \"#f7f7f7\"], [0.6, \"#e6f5d0\"], [0.7, \"#b8e186\"], [0.8, \"#7fbc41\"], [0.9, \"#4d9221\"], [1, \"#276419\"]], \"sequential\": [[0.0, \"#0d0887\"], [0.1111111111111111, \"#46039f\"], [0.2222222222222222, \"#7201a8\"], [0.3333333333333333, \"#9c179e\"], [0.4444444444444444, \"#bd3786\"], [0.5555555555555556, \"#d8576b\"], [0.6666666666666666, \"#ed7953\"], [0.7777777777777778, \"#fb9f3a\"], [0.8888888888888888, \"#fdca26\"], [1.0, \"#f0f921\"]], \"sequentialminus\": [[0.0, \"#0d0887\"], [0.1111111111111111, \"#46039f\"], [0.2222222222222222, \"#7201a8\"], [0.3333333333333333, \"#9c179e\"], [0.4444444444444444, \"#bd3786\"], [0.5555555555555556, \"#d8576b\"], [0.6666666666666666, \"#ed7953\"], [0.7777777777777778, \"#fb9f3a\"], [0.8888888888888888, \"#fdca26\"], [1.0, \"#f0f921\"]]}, \"colorway\": [\"#636efa\", \"#EF553B\", \"#00cc96\", \"#ab63fa\", \"#FFA15A\", \"#19d3f3\", \"#FF6692\", \"#B6E880\", \"#FF97FF\", \"#FECB52\"], \"font\": {\"color\": \"#2a3f5f\"}, \"geo\": {\"bgcolor\": \"white\", \"lakecolor\": \"white\", \"landcolor\": \"#E5ECF6\", \"showlakes\": true, \"showland\": true, \"subunitcolor\": \"white\"}, \"hoverlabel\": {\"align\": \"left\"}, \"hovermode\": \"closest\", \"mapbox\": {\"style\": \"light\"}, \"paper_bgcolor\": \"white\", \"plot_bgcolor\": \"#E5ECF6\", \"polar\": {\"angularaxis\": {\"gridcolor\": \"white\", \"linecolor\": \"white\", \"ticks\": \"\"}, \"bgcolor\": \"#E5ECF6\", \"radialaxis\": {\"gridcolor\": \"white\", \"linecolor\": \"white\", \"ticks\": \"\"}}, \"scene\": {\"xaxis\": {\"backgroundcolor\": \"#E5ECF6\", \"gridcolor\": \"white\", \"gridwidth\": 2, \"linecolor\": \"white\", \"showbackground\": true, \"ticks\": \"\", \"zerolinecolor\": \"white\"}, \"yaxis\": {\"backgroundcolor\": \"#E5ECF6\", \"gridcolor\": \"white\", \"gridwidth\": 2, \"linecolor\": \"white\", \"showbackground\": true, \"ticks\": \"\", \"zerolinecolor\": \"white\"}, \"zaxis\": {\"backgroundcolor\": \"#E5ECF6\", \"gridcolor\": \"white\", \"gridwidth\": 2, \"linecolor\": \"white\", \"showbackground\": true, \"ticks\": \"\", \"zerolinecolor\": \"white\"}}, \"shapedefaults\": {\"line\": {\"color\": \"#2a3f5f\"}}, \"ternary\": {\"aaxis\": {\"gridcolor\": \"white\", \"linecolor\": \"white\", \"ticks\": \"\"}, \"baxis\": {\"gridcolor\": \"white\", \"linecolor\": \"white\", \"ticks\": \"\"}, \"bgcolor\": \"#E5ECF6\", \"caxis\": {\"gridcolor\": \"white\", \"linecolor\": \"white\", \"ticks\": \"\"}}, \"title\": {\"x\": 0.05}, \"xaxis\": {\"automargin\": true, \"gridcolor\": \"white\", \"linecolor\": \"white\", \"ticks\": \"\", \"title\": {\"standoff\": 15}, \"zerolinecolor\": \"white\", \"zerolinewidth\": 2}, \"yaxis\": {\"automargin\": true, \"gridcolor\": \"white\", \"linecolor\": \"white\", \"ticks\": \"\", \"title\": {\"standoff\": 15}, \"zerolinecolor\": \"white\", \"zerolinewidth\": 2}}}, \"title\": {\"font\": {\"color\": \"#4D5663\"}}, \"xaxis\": {\"gridcolor\": \"#E1E5ED\", \"showgrid\": true, \"tickfont\": {\"color\": \"#4D5663\"}, \"title\": {\"font\": {\"color\": \"#4D5663\"}, \"text\": \"\"}, \"zerolinecolor\": \"#E1E5ED\"}, \"yaxis\": {\"gridcolor\": \"#E1E5ED\", \"showgrid\": true, \"tickfont\": {\"color\": \"#4D5663\"}, \"title\": {\"font\": {\"color\": \"#4D5663\"}, \"text\": \"\"}, \"zerolinecolor\": \"#E1E5ED\"}},\n",
       "                        {\"showLink\": true, \"linkText\": \"Export to plot.ly\", \"plotlyServerURL\": \"https://plot.ly\", \"responsive\": true}\n",
       "                    ).then(function(){\n",
       "                            \n",
       "var gd = document.getElementById('a9da5a16-42c1-4ba5-be9a-d7becf3b5e86');\n",
       "var x = new MutationObserver(function (mutations, observer) {{\n",
       "        var display = window.getComputedStyle(gd).display;\n",
       "        if (!display || display === 'none') {{\n",
       "            console.log([gd, 'removed!']);\n",
       "            Plotly.purge(gd);\n",
       "            observer.disconnect();\n",
       "        }}\n",
       "}});\n",
       "\n",
       "// Listen for the removal of the full notebook cells\n",
       "var notebookContainer = gd.closest('#notebook-container');\n",
       "if (notebookContainer) {{\n",
       "    x.observe(notebookContainer, {childList: true});\n",
       "}}\n",
       "\n",
       "// Listen for the clearing of the current output cell\n",
       "var outputEl = gd.closest('.output');\n",
       "if (outputEl) {{\n",
       "    x.observe(outputEl, {childList: true});\n",
       "}}\n",
       "\n",
       "                        })\n",
       "                };\n",
       "                });\n",
       "            </script>\n",
       "        </div>"
      ]
     },
     "metadata": {},
     "output_type": "display_data"
    }
   ],
   "source": [
    "df3.iplot(kind='surface',colorscale='rdylbu')"
   ]
  },
  {
   "cell_type": "code",
   "execution_count": 37,
   "metadata": {},
   "outputs": [
    {
     "data": {
      "application/vnd.plotly.v1+json": {
       "config": {
        "linkText": "Export to plot.ly",
        "plotlyServerURL": "https://plot.ly",
        "showLink": true
       },
       "data": [
        {
         "histfunc": "count",
         "histnorm": "",
         "marker": {
          "color": "rgba(255, 153, 51, 1.0)",
          "line": {
           "color": "#4D5663",
           "width": 1.3
          }
         },
         "name": "A",
         "nbinsx": 50,
         "opacity": 0.8,
         "orientation": "v",
         "type": "histogram",
         "x": [
          -0.171640601897393,
          -0.43651310026760143,
          0.1915612390123302,
          -1.056703312019151,
          0.4223324960551365,
          1.2877468203367912,
          -0.5709727518406853,
          2.1648676554773516,
          -1.2710537136872033,
          0.16778935785866875,
          1.0923398653718392,
          0.4925306791099881,
          -0.703668513206629,
          -1.4524459966421268,
          -1.2744387261513341,
          0.48551604613423355,
          -0.08955322711220023,
          -0.29027573121328615,
          0.7745650160804478,
          -1.1099619262798022,
          -1.9683383872344231,
          -0.29436352576008007,
          -0.6114534149828592,
          -0.6016002569315776,
          0.6621081449698877,
          0.21266807621964742,
          -0.14196204190623365,
          0.8455808080508328,
          2.218513523093423,
          1.225509030816993,
          -0.05744835346384874,
          -0.11673789320091013,
          -0.30301635565632434,
          -0.6627327489766144,
          -0.294755132084432,
          -0.133052082126597,
          -0.7027262561520775,
          0.21363941721995688,
          0.7533029620632767,
          0.9161599146948339,
          -0.38695616486884626,
          0.19596958959686875,
          2.1597457209110167,
          1.6330219307099394,
          -0.053064503558190354,
          0.6603445747130693,
          0.3207945904648976,
          -1.1050354243244225,
          1.5637954578971218,
          1.2541918745480611,
          -2.095064611555383,
          -0.7845842103111716,
          -0.19468049802855614,
          -0.4014548287149151,
          0.3407950800545804,
          0.03272595875779687,
          -1.3056241417427392,
          0.7438543233795972,
          -1.3227506872869208,
          1.0784707979095176,
          -0.815334722857213,
          -0.5373819359409527,
          -1.0606203281249487,
          0.441700587416723,
          -0.32878279305935415,
          -0.46581137917888865,
          -1.0904053135674916,
          -1.26924927808231,
          0.31270617806826667,
          0.6970749712875615,
          0.3153736148451356,
          -0.45080146910650637,
          -0.2720063615339261,
          1.4044677356602207,
          -0.019348041080346393,
          1.1049428128294767,
          -2.377128291270848,
          -1.5073793637973727,
          -0.926666748211941,
          1.8579700229276017,
          -1.2116095443091348,
          0.8236413783722552,
          -0.32430248425442165,
          2.0906677707983916,
          -0.7044681959680065,
          -0.1546026406012769,
          -0.9385406062305209,
          -0.8692498584291668,
          -2.3768058600922677,
          -2.4065090278566914,
          1.7172860060023276,
          0.16700914108697476,
          -1.0892987171083033,
          1.1821925982620303,
          0.3761064908178598,
          -0.6081613870137292,
          0.5683748477954369,
          -0.2666353852917895,
          0.9020386387275965,
          0.22303842334880358
         ]
        }
       ],
       "layout": {
        "barmode": "overlay",
        "legend": {
         "bgcolor": "#F5F6F9",
         "font": {
          "color": "#4D5663"
         }
        },
        "paper_bgcolor": "#F5F6F9",
        "plot_bgcolor": "#F5F6F9",
        "template": {
         "data": {
          "bar": [
           {
            "error_x": {
             "color": "#2a3f5f"
            },
            "error_y": {
             "color": "#2a3f5f"
            },
            "marker": {
             "line": {
              "color": "#E5ECF6",
              "width": 0.5
             }
            },
            "type": "bar"
           }
          ],
          "barpolar": [
           {
            "marker": {
             "line": {
              "color": "#E5ECF6",
              "width": 0.5
             }
            },
            "type": "barpolar"
           }
          ],
          "carpet": [
           {
            "aaxis": {
             "endlinecolor": "#2a3f5f",
             "gridcolor": "white",
             "linecolor": "white",
             "minorgridcolor": "white",
             "startlinecolor": "#2a3f5f"
            },
            "baxis": {
             "endlinecolor": "#2a3f5f",
             "gridcolor": "white",
             "linecolor": "white",
             "minorgridcolor": "white",
             "startlinecolor": "#2a3f5f"
            },
            "type": "carpet"
           }
          ],
          "choropleth": [
           {
            "colorbar": {
             "outlinewidth": 0,
             "ticks": ""
            },
            "type": "choropleth"
           }
          ],
          "contour": [
           {
            "colorbar": {
             "outlinewidth": 0,
             "ticks": ""
            },
            "colorscale": [
             [
              0,
              "#0d0887"
             ],
             [
              0.1111111111111111,
              "#46039f"
             ],
             [
              0.2222222222222222,
              "#7201a8"
             ],
             [
              0.3333333333333333,
              "#9c179e"
             ],
             [
              0.4444444444444444,
              "#bd3786"
             ],
             [
              0.5555555555555556,
              "#d8576b"
             ],
             [
              0.6666666666666666,
              "#ed7953"
             ],
             [
              0.7777777777777778,
              "#fb9f3a"
             ],
             [
              0.8888888888888888,
              "#fdca26"
             ],
             [
              1,
              "#f0f921"
             ]
            ],
            "type": "contour"
           }
          ],
          "contourcarpet": [
           {
            "colorbar": {
             "outlinewidth": 0,
             "ticks": ""
            },
            "type": "contourcarpet"
           }
          ],
          "heatmap": [
           {
            "colorbar": {
             "outlinewidth": 0,
             "ticks": ""
            },
            "colorscale": [
             [
              0,
              "#0d0887"
             ],
             [
              0.1111111111111111,
              "#46039f"
             ],
             [
              0.2222222222222222,
              "#7201a8"
             ],
             [
              0.3333333333333333,
              "#9c179e"
             ],
             [
              0.4444444444444444,
              "#bd3786"
             ],
             [
              0.5555555555555556,
              "#d8576b"
             ],
             [
              0.6666666666666666,
              "#ed7953"
             ],
             [
              0.7777777777777778,
              "#fb9f3a"
             ],
             [
              0.8888888888888888,
              "#fdca26"
             ],
             [
              1,
              "#f0f921"
             ]
            ],
            "type": "heatmap"
           }
          ],
          "heatmapgl": [
           {
            "colorbar": {
             "outlinewidth": 0,
             "ticks": ""
            },
            "colorscale": [
             [
              0,
              "#0d0887"
             ],
             [
              0.1111111111111111,
              "#46039f"
             ],
             [
              0.2222222222222222,
              "#7201a8"
             ],
             [
              0.3333333333333333,
              "#9c179e"
             ],
             [
              0.4444444444444444,
              "#bd3786"
             ],
             [
              0.5555555555555556,
              "#d8576b"
             ],
             [
              0.6666666666666666,
              "#ed7953"
             ],
             [
              0.7777777777777778,
              "#fb9f3a"
             ],
             [
              0.8888888888888888,
              "#fdca26"
             ],
             [
              1,
              "#f0f921"
             ]
            ],
            "type": "heatmapgl"
           }
          ],
          "histogram": [
           {
            "marker": {
             "colorbar": {
              "outlinewidth": 0,
              "ticks": ""
             }
            },
            "type": "histogram"
           }
          ],
          "histogram2d": [
           {
            "colorbar": {
             "outlinewidth": 0,
             "ticks": ""
            },
            "colorscale": [
             [
              0,
              "#0d0887"
             ],
             [
              0.1111111111111111,
              "#46039f"
             ],
             [
              0.2222222222222222,
              "#7201a8"
             ],
             [
              0.3333333333333333,
              "#9c179e"
             ],
             [
              0.4444444444444444,
              "#bd3786"
             ],
             [
              0.5555555555555556,
              "#d8576b"
             ],
             [
              0.6666666666666666,
              "#ed7953"
             ],
             [
              0.7777777777777778,
              "#fb9f3a"
             ],
             [
              0.8888888888888888,
              "#fdca26"
             ],
             [
              1,
              "#f0f921"
             ]
            ],
            "type": "histogram2d"
           }
          ],
          "histogram2dcontour": [
           {
            "colorbar": {
             "outlinewidth": 0,
             "ticks": ""
            },
            "colorscale": [
             [
              0,
              "#0d0887"
             ],
             [
              0.1111111111111111,
              "#46039f"
             ],
             [
              0.2222222222222222,
              "#7201a8"
             ],
             [
              0.3333333333333333,
              "#9c179e"
             ],
             [
              0.4444444444444444,
              "#bd3786"
             ],
             [
              0.5555555555555556,
              "#d8576b"
             ],
             [
              0.6666666666666666,
              "#ed7953"
             ],
             [
              0.7777777777777778,
              "#fb9f3a"
             ],
             [
              0.8888888888888888,
              "#fdca26"
             ],
             [
              1,
              "#f0f921"
             ]
            ],
            "type": "histogram2dcontour"
           }
          ],
          "mesh3d": [
           {
            "colorbar": {
             "outlinewidth": 0,
             "ticks": ""
            },
            "type": "mesh3d"
           }
          ],
          "parcoords": [
           {
            "line": {
             "colorbar": {
              "outlinewidth": 0,
              "ticks": ""
             }
            },
            "type": "parcoords"
           }
          ],
          "pie": [
           {
            "automargin": true,
            "type": "pie"
           }
          ],
          "scatter": [
           {
            "marker": {
             "colorbar": {
              "outlinewidth": 0,
              "ticks": ""
             }
            },
            "type": "scatter"
           }
          ],
          "scatter3d": [
           {
            "line": {
             "colorbar": {
              "outlinewidth": 0,
              "ticks": ""
             }
            },
            "marker": {
             "colorbar": {
              "outlinewidth": 0,
              "ticks": ""
             }
            },
            "type": "scatter3d"
           }
          ],
          "scattercarpet": [
           {
            "marker": {
             "colorbar": {
              "outlinewidth": 0,
              "ticks": ""
             }
            },
            "type": "scattercarpet"
           }
          ],
          "scattergeo": [
           {
            "marker": {
             "colorbar": {
              "outlinewidth": 0,
              "ticks": ""
             }
            },
            "type": "scattergeo"
           }
          ],
          "scattergl": [
           {
            "marker": {
             "colorbar": {
              "outlinewidth": 0,
              "ticks": ""
             }
            },
            "type": "scattergl"
           }
          ],
          "scattermapbox": [
           {
            "marker": {
             "colorbar": {
              "outlinewidth": 0,
              "ticks": ""
             }
            },
            "type": "scattermapbox"
           }
          ],
          "scatterpolar": [
           {
            "marker": {
             "colorbar": {
              "outlinewidth": 0,
              "ticks": ""
             }
            },
            "type": "scatterpolar"
           }
          ],
          "scatterpolargl": [
           {
            "marker": {
             "colorbar": {
              "outlinewidth": 0,
              "ticks": ""
             }
            },
            "type": "scatterpolargl"
           }
          ],
          "scatterternary": [
           {
            "marker": {
             "colorbar": {
              "outlinewidth": 0,
              "ticks": ""
             }
            },
            "type": "scatterternary"
           }
          ],
          "surface": [
           {
            "colorbar": {
             "outlinewidth": 0,
             "ticks": ""
            },
            "colorscale": [
             [
              0,
              "#0d0887"
             ],
             [
              0.1111111111111111,
              "#46039f"
             ],
             [
              0.2222222222222222,
              "#7201a8"
             ],
             [
              0.3333333333333333,
              "#9c179e"
             ],
             [
              0.4444444444444444,
              "#bd3786"
             ],
             [
              0.5555555555555556,
              "#d8576b"
             ],
             [
              0.6666666666666666,
              "#ed7953"
             ],
             [
              0.7777777777777778,
              "#fb9f3a"
             ],
             [
              0.8888888888888888,
              "#fdca26"
             ],
             [
              1,
              "#f0f921"
             ]
            ],
            "type": "surface"
           }
          ],
          "table": [
           {
            "cells": {
             "fill": {
              "color": "#EBF0F8"
             },
             "line": {
              "color": "white"
             }
            },
            "header": {
             "fill": {
              "color": "#C8D4E3"
             },
             "line": {
              "color": "white"
             }
            },
            "type": "table"
           }
          ]
         },
         "layout": {
          "annotationdefaults": {
           "arrowcolor": "#2a3f5f",
           "arrowhead": 0,
           "arrowwidth": 1
          },
          "coloraxis": {
           "colorbar": {
            "outlinewidth": 0,
            "ticks": ""
           }
          },
          "colorscale": {
           "diverging": [
            [
             0,
             "#8e0152"
            ],
            [
             0.1,
             "#c51b7d"
            ],
            [
             0.2,
             "#de77ae"
            ],
            [
             0.3,
             "#f1b6da"
            ],
            [
             0.4,
             "#fde0ef"
            ],
            [
             0.5,
             "#f7f7f7"
            ],
            [
             0.6,
             "#e6f5d0"
            ],
            [
             0.7,
             "#b8e186"
            ],
            [
             0.8,
             "#7fbc41"
            ],
            [
             0.9,
             "#4d9221"
            ],
            [
             1,
             "#276419"
            ]
           ],
           "sequential": [
            [
             0,
             "#0d0887"
            ],
            [
             0.1111111111111111,
             "#46039f"
            ],
            [
             0.2222222222222222,
             "#7201a8"
            ],
            [
             0.3333333333333333,
             "#9c179e"
            ],
            [
             0.4444444444444444,
             "#bd3786"
            ],
            [
             0.5555555555555556,
             "#d8576b"
            ],
            [
             0.6666666666666666,
             "#ed7953"
            ],
            [
             0.7777777777777778,
             "#fb9f3a"
            ],
            [
             0.8888888888888888,
             "#fdca26"
            ],
            [
             1,
             "#f0f921"
            ]
           ],
           "sequentialminus": [
            [
             0,
             "#0d0887"
            ],
            [
             0.1111111111111111,
             "#46039f"
            ],
            [
             0.2222222222222222,
             "#7201a8"
            ],
            [
             0.3333333333333333,
             "#9c179e"
            ],
            [
             0.4444444444444444,
             "#bd3786"
            ],
            [
             0.5555555555555556,
             "#d8576b"
            ],
            [
             0.6666666666666666,
             "#ed7953"
            ],
            [
             0.7777777777777778,
             "#fb9f3a"
            ],
            [
             0.8888888888888888,
             "#fdca26"
            ],
            [
             1,
             "#f0f921"
            ]
           ]
          },
          "colorway": [
           "#636efa",
           "#EF553B",
           "#00cc96",
           "#ab63fa",
           "#FFA15A",
           "#19d3f3",
           "#FF6692",
           "#B6E880",
           "#FF97FF",
           "#FECB52"
          ],
          "font": {
           "color": "#2a3f5f"
          },
          "geo": {
           "bgcolor": "white",
           "lakecolor": "white",
           "landcolor": "#E5ECF6",
           "showlakes": true,
           "showland": true,
           "subunitcolor": "white"
          },
          "hoverlabel": {
           "align": "left"
          },
          "hovermode": "closest",
          "mapbox": {
           "style": "light"
          },
          "paper_bgcolor": "white",
          "plot_bgcolor": "#E5ECF6",
          "polar": {
           "angularaxis": {
            "gridcolor": "white",
            "linecolor": "white",
            "ticks": ""
           },
           "bgcolor": "#E5ECF6",
           "radialaxis": {
            "gridcolor": "white",
            "linecolor": "white",
            "ticks": ""
           }
          },
          "scene": {
           "xaxis": {
            "backgroundcolor": "#E5ECF6",
            "gridcolor": "white",
            "gridwidth": 2,
            "linecolor": "white",
            "showbackground": true,
            "ticks": "",
            "zerolinecolor": "white"
           },
           "yaxis": {
            "backgroundcolor": "#E5ECF6",
            "gridcolor": "white",
            "gridwidth": 2,
            "linecolor": "white",
            "showbackground": true,
            "ticks": "",
            "zerolinecolor": "white"
           },
           "zaxis": {
            "backgroundcolor": "#E5ECF6",
            "gridcolor": "white",
            "gridwidth": 2,
            "linecolor": "white",
            "showbackground": true,
            "ticks": "",
            "zerolinecolor": "white"
           }
          },
          "shapedefaults": {
           "line": {
            "color": "#2a3f5f"
           }
          },
          "ternary": {
           "aaxis": {
            "gridcolor": "white",
            "linecolor": "white",
            "ticks": ""
           },
           "baxis": {
            "gridcolor": "white",
            "linecolor": "white",
            "ticks": ""
           },
           "bgcolor": "#E5ECF6",
           "caxis": {
            "gridcolor": "white",
            "linecolor": "white",
            "ticks": ""
           }
          },
          "title": {
           "x": 0.05
          },
          "xaxis": {
           "automargin": true,
           "gridcolor": "white",
           "linecolor": "white",
           "ticks": "",
           "title": {
            "standoff": 15
           },
           "zerolinecolor": "white",
           "zerolinewidth": 2
          },
          "yaxis": {
           "automargin": true,
           "gridcolor": "white",
           "linecolor": "white",
           "ticks": "",
           "title": {
            "standoff": 15
           },
           "zerolinecolor": "white",
           "zerolinewidth": 2
          }
         }
        },
        "title": {
         "font": {
          "color": "#4D5663"
         }
        },
        "xaxis": {
         "gridcolor": "#E1E5ED",
         "showgrid": true,
         "tickfont": {
          "color": "#4D5663"
         },
         "title": {
          "font": {
           "color": "#4D5663"
          },
          "text": ""
         },
         "zerolinecolor": "#E1E5ED"
        },
        "yaxis": {
         "gridcolor": "#E1E5ED",
         "showgrid": true,
         "tickfont": {
          "color": "#4D5663"
         },
         "title": {
          "font": {
           "color": "#4D5663"
          },
          "text": ""
         },
         "zerolinecolor": "#E1E5ED"
        }
       }
      },
      "text/html": [
       "<div>\n",
       "        \n",
       "        \n",
       "            <div id=\"d07e837e-a6a5-46bf-bb54-c844b68f04cf\" class=\"plotly-graph-div\" style=\"height:525px; width:100%;\"></div>\n",
       "            <script type=\"text/javascript\">\n",
       "                require([\"plotly\"], function(Plotly) {\n",
       "                    window.PLOTLYENV=window.PLOTLYENV || {};\n",
       "                    window.PLOTLYENV.BASE_URL='https://plot.ly';\n",
       "                    \n",
       "                if (document.getElementById(\"d07e837e-a6a5-46bf-bb54-c844b68f04cf\")) {\n",
       "                    Plotly.newPlot(\n",
       "                        'd07e837e-a6a5-46bf-bb54-c844b68f04cf',\n",
       "                        [{\"histfunc\": \"count\", \"histnorm\": \"\", \"marker\": {\"color\": \"rgba(255, 153, 51, 1.0)\", \"line\": {\"color\": \"#4D5663\", \"width\": 1.3}}, \"name\": \"A\", \"nbinsx\": 50, \"opacity\": 0.8, \"orientation\": \"v\", \"type\": \"histogram\", \"x\": [-0.171640601897393, -0.43651310026760143, 0.1915612390123302, -1.056703312019151, 0.4223324960551365, 1.2877468203367912, -0.5709727518406853, 2.1648676554773516, -1.2710537136872033, 0.16778935785866875, 1.0923398653718392, 0.4925306791099881, -0.703668513206629, -1.4524459966421268, -1.2744387261513341, 0.48551604613423355, -0.08955322711220023, -0.29027573121328615, 0.7745650160804478, -1.1099619262798022, -1.9683383872344231, -0.29436352576008007, -0.6114534149828592, -0.6016002569315776, 0.6621081449698877, 0.21266807621964742, -0.14196204190623365, 0.8455808080508328, 2.218513523093423, 1.225509030816993, -0.05744835346384874, -0.11673789320091013, -0.30301635565632434, -0.6627327489766144, -0.294755132084432, -0.133052082126597, -0.7027262561520775, 0.21363941721995688, 0.7533029620632767, 0.9161599146948339, -0.38695616486884626, 0.19596958959686875, 2.1597457209110167, 1.6330219307099394, -0.053064503558190354, 0.6603445747130693, 0.3207945904648976, -1.1050354243244225, 1.5637954578971218, 1.2541918745480611, -2.095064611555383, -0.7845842103111716, -0.19468049802855614, -0.4014548287149151, 0.3407950800545804, 0.03272595875779687, -1.3056241417427392, 0.7438543233795972, -1.3227506872869208, 1.0784707979095176, -0.815334722857213, -0.5373819359409527, -1.0606203281249487, 0.441700587416723, -0.32878279305935415, -0.46581137917888865, -1.0904053135674916, -1.26924927808231, 0.31270617806826667, 0.6970749712875615, 0.3153736148451356, -0.45080146910650637, -0.2720063615339261, 1.4044677356602207, -0.019348041080346393, 1.1049428128294767, -2.377128291270848, -1.5073793637973727, -0.926666748211941, 1.8579700229276017, -1.2116095443091348, 0.8236413783722552, -0.32430248425442165, 2.0906677707983916, -0.7044681959680065, -0.1546026406012769, -0.9385406062305209, -0.8692498584291668, -2.3768058600922677, -2.4065090278566914, 1.7172860060023276, 0.16700914108697476, -1.0892987171083033, 1.1821925982620303, 0.3761064908178598, -0.6081613870137292, 0.5683748477954369, -0.2666353852917895, 0.9020386387275965, 0.22303842334880358]}],\n",
       "                        {\"barmode\": \"overlay\", \"legend\": {\"bgcolor\": \"#F5F6F9\", \"font\": {\"color\": \"#4D5663\"}}, \"paper_bgcolor\": \"#F5F6F9\", \"plot_bgcolor\": \"#F5F6F9\", \"template\": {\"data\": {\"bar\": [{\"error_x\": {\"color\": \"#2a3f5f\"}, \"error_y\": {\"color\": \"#2a3f5f\"}, \"marker\": {\"line\": {\"color\": \"#E5ECF6\", \"width\": 0.5}}, \"type\": \"bar\"}], \"barpolar\": [{\"marker\": {\"line\": {\"color\": \"#E5ECF6\", \"width\": 0.5}}, \"type\": \"barpolar\"}], \"carpet\": [{\"aaxis\": {\"endlinecolor\": \"#2a3f5f\", \"gridcolor\": \"white\", \"linecolor\": \"white\", \"minorgridcolor\": \"white\", \"startlinecolor\": \"#2a3f5f\"}, \"baxis\": {\"endlinecolor\": \"#2a3f5f\", \"gridcolor\": \"white\", \"linecolor\": \"white\", \"minorgridcolor\": \"white\", \"startlinecolor\": \"#2a3f5f\"}, \"type\": \"carpet\"}], \"choropleth\": [{\"colorbar\": {\"outlinewidth\": 0, \"ticks\": \"\"}, \"type\": \"choropleth\"}], \"contour\": [{\"colorbar\": {\"outlinewidth\": 0, \"ticks\": \"\"}, \"colorscale\": [[0.0, \"#0d0887\"], [0.1111111111111111, \"#46039f\"], [0.2222222222222222, \"#7201a8\"], [0.3333333333333333, \"#9c179e\"], [0.4444444444444444, \"#bd3786\"], [0.5555555555555556, \"#d8576b\"], [0.6666666666666666, \"#ed7953\"], [0.7777777777777778, \"#fb9f3a\"], [0.8888888888888888, \"#fdca26\"], [1.0, \"#f0f921\"]], \"type\": \"contour\"}], \"contourcarpet\": [{\"colorbar\": {\"outlinewidth\": 0, \"ticks\": \"\"}, \"type\": \"contourcarpet\"}], \"heatmap\": [{\"colorbar\": {\"outlinewidth\": 0, \"ticks\": \"\"}, \"colorscale\": [[0.0, \"#0d0887\"], [0.1111111111111111, \"#46039f\"], [0.2222222222222222, \"#7201a8\"], [0.3333333333333333, \"#9c179e\"], [0.4444444444444444, \"#bd3786\"], [0.5555555555555556, \"#d8576b\"], [0.6666666666666666, \"#ed7953\"], [0.7777777777777778, \"#fb9f3a\"], [0.8888888888888888, \"#fdca26\"], [1.0, \"#f0f921\"]], \"type\": \"heatmap\"}], \"heatmapgl\": [{\"colorbar\": {\"outlinewidth\": 0, \"ticks\": \"\"}, \"colorscale\": [[0.0, \"#0d0887\"], [0.1111111111111111, \"#46039f\"], [0.2222222222222222, \"#7201a8\"], [0.3333333333333333, \"#9c179e\"], [0.4444444444444444, \"#bd3786\"], [0.5555555555555556, \"#d8576b\"], [0.6666666666666666, \"#ed7953\"], [0.7777777777777778, \"#fb9f3a\"], [0.8888888888888888, \"#fdca26\"], [1.0, \"#f0f921\"]], \"type\": \"heatmapgl\"}], \"histogram\": [{\"marker\": {\"colorbar\": {\"outlinewidth\": 0, \"ticks\": \"\"}}, \"type\": \"histogram\"}], \"histogram2d\": [{\"colorbar\": {\"outlinewidth\": 0, \"ticks\": \"\"}, \"colorscale\": [[0.0, \"#0d0887\"], [0.1111111111111111, \"#46039f\"], [0.2222222222222222, \"#7201a8\"], [0.3333333333333333, \"#9c179e\"], [0.4444444444444444, \"#bd3786\"], [0.5555555555555556, \"#d8576b\"], [0.6666666666666666, \"#ed7953\"], [0.7777777777777778, \"#fb9f3a\"], [0.8888888888888888, \"#fdca26\"], [1.0, \"#f0f921\"]], \"type\": \"histogram2d\"}], \"histogram2dcontour\": [{\"colorbar\": {\"outlinewidth\": 0, \"ticks\": \"\"}, \"colorscale\": [[0.0, \"#0d0887\"], [0.1111111111111111, \"#46039f\"], [0.2222222222222222, \"#7201a8\"], [0.3333333333333333, \"#9c179e\"], [0.4444444444444444, \"#bd3786\"], [0.5555555555555556, \"#d8576b\"], [0.6666666666666666, \"#ed7953\"], [0.7777777777777778, \"#fb9f3a\"], [0.8888888888888888, \"#fdca26\"], [1.0, \"#f0f921\"]], \"type\": \"histogram2dcontour\"}], \"mesh3d\": [{\"colorbar\": {\"outlinewidth\": 0, \"ticks\": \"\"}, \"type\": \"mesh3d\"}], \"parcoords\": [{\"line\": {\"colorbar\": {\"outlinewidth\": 0, \"ticks\": \"\"}}, \"type\": \"parcoords\"}], \"pie\": [{\"automargin\": true, \"type\": \"pie\"}], \"scatter\": [{\"marker\": {\"colorbar\": {\"outlinewidth\": 0, \"ticks\": \"\"}}, \"type\": \"scatter\"}], \"scatter3d\": [{\"line\": {\"colorbar\": {\"outlinewidth\": 0, \"ticks\": \"\"}}, \"marker\": {\"colorbar\": {\"outlinewidth\": 0, \"ticks\": \"\"}}, \"type\": \"scatter3d\"}], \"scattercarpet\": [{\"marker\": {\"colorbar\": {\"outlinewidth\": 0, \"ticks\": \"\"}}, \"type\": \"scattercarpet\"}], \"scattergeo\": [{\"marker\": {\"colorbar\": {\"outlinewidth\": 0, \"ticks\": \"\"}}, \"type\": \"scattergeo\"}], \"scattergl\": [{\"marker\": {\"colorbar\": {\"outlinewidth\": 0, \"ticks\": \"\"}}, \"type\": \"scattergl\"}], \"scattermapbox\": [{\"marker\": {\"colorbar\": {\"outlinewidth\": 0, \"ticks\": \"\"}}, \"type\": \"scattermapbox\"}], \"scatterpolar\": [{\"marker\": {\"colorbar\": {\"outlinewidth\": 0, \"ticks\": \"\"}}, \"type\": \"scatterpolar\"}], \"scatterpolargl\": [{\"marker\": {\"colorbar\": {\"outlinewidth\": 0, \"ticks\": \"\"}}, \"type\": \"scatterpolargl\"}], \"scatterternary\": [{\"marker\": {\"colorbar\": {\"outlinewidth\": 0, \"ticks\": \"\"}}, \"type\": \"scatterternary\"}], \"surface\": [{\"colorbar\": {\"outlinewidth\": 0, \"ticks\": \"\"}, \"colorscale\": [[0.0, \"#0d0887\"], [0.1111111111111111, \"#46039f\"], [0.2222222222222222, \"#7201a8\"], [0.3333333333333333, \"#9c179e\"], [0.4444444444444444, \"#bd3786\"], [0.5555555555555556, \"#d8576b\"], [0.6666666666666666, \"#ed7953\"], [0.7777777777777778, \"#fb9f3a\"], [0.8888888888888888, \"#fdca26\"], [1.0, \"#f0f921\"]], \"type\": \"surface\"}], \"table\": [{\"cells\": {\"fill\": {\"color\": \"#EBF0F8\"}, \"line\": {\"color\": \"white\"}}, \"header\": {\"fill\": {\"color\": \"#C8D4E3\"}, \"line\": {\"color\": \"white\"}}, \"type\": \"table\"}]}, \"layout\": {\"annotationdefaults\": {\"arrowcolor\": \"#2a3f5f\", \"arrowhead\": 0, \"arrowwidth\": 1}, \"coloraxis\": {\"colorbar\": {\"outlinewidth\": 0, \"ticks\": \"\"}}, \"colorscale\": {\"diverging\": [[0, \"#8e0152\"], [0.1, \"#c51b7d\"], [0.2, \"#de77ae\"], [0.3, \"#f1b6da\"], [0.4, \"#fde0ef\"], [0.5, \"#f7f7f7\"], [0.6, \"#e6f5d0\"], [0.7, \"#b8e186\"], [0.8, \"#7fbc41\"], [0.9, \"#4d9221\"], [1, \"#276419\"]], \"sequential\": [[0.0, \"#0d0887\"], [0.1111111111111111, \"#46039f\"], [0.2222222222222222, \"#7201a8\"], [0.3333333333333333, \"#9c179e\"], [0.4444444444444444, \"#bd3786\"], [0.5555555555555556, \"#d8576b\"], [0.6666666666666666, \"#ed7953\"], [0.7777777777777778, \"#fb9f3a\"], [0.8888888888888888, \"#fdca26\"], [1.0, \"#f0f921\"]], \"sequentialminus\": [[0.0, \"#0d0887\"], [0.1111111111111111, \"#46039f\"], [0.2222222222222222, \"#7201a8\"], [0.3333333333333333, \"#9c179e\"], [0.4444444444444444, \"#bd3786\"], [0.5555555555555556, \"#d8576b\"], [0.6666666666666666, \"#ed7953\"], [0.7777777777777778, \"#fb9f3a\"], [0.8888888888888888, \"#fdca26\"], [1.0, \"#f0f921\"]]}, \"colorway\": [\"#636efa\", \"#EF553B\", \"#00cc96\", \"#ab63fa\", \"#FFA15A\", \"#19d3f3\", \"#FF6692\", \"#B6E880\", \"#FF97FF\", \"#FECB52\"], \"font\": {\"color\": \"#2a3f5f\"}, \"geo\": {\"bgcolor\": \"white\", \"lakecolor\": \"white\", \"landcolor\": \"#E5ECF6\", \"showlakes\": true, \"showland\": true, \"subunitcolor\": \"white\"}, \"hoverlabel\": {\"align\": \"left\"}, \"hovermode\": \"closest\", \"mapbox\": {\"style\": \"light\"}, \"paper_bgcolor\": \"white\", \"plot_bgcolor\": \"#E5ECF6\", \"polar\": {\"angularaxis\": {\"gridcolor\": \"white\", \"linecolor\": \"white\", \"ticks\": \"\"}, \"bgcolor\": \"#E5ECF6\", \"radialaxis\": {\"gridcolor\": \"white\", \"linecolor\": \"white\", \"ticks\": \"\"}}, \"scene\": {\"xaxis\": {\"backgroundcolor\": \"#E5ECF6\", \"gridcolor\": \"white\", \"gridwidth\": 2, \"linecolor\": \"white\", \"showbackground\": true, \"ticks\": \"\", \"zerolinecolor\": \"white\"}, \"yaxis\": {\"backgroundcolor\": \"#E5ECF6\", \"gridcolor\": \"white\", \"gridwidth\": 2, \"linecolor\": \"white\", \"showbackground\": true, \"ticks\": \"\", \"zerolinecolor\": \"white\"}, \"zaxis\": {\"backgroundcolor\": \"#E5ECF6\", \"gridcolor\": \"white\", \"gridwidth\": 2, \"linecolor\": \"white\", \"showbackground\": true, \"ticks\": \"\", \"zerolinecolor\": \"white\"}}, \"shapedefaults\": {\"line\": {\"color\": \"#2a3f5f\"}}, \"ternary\": {\"aaxis\": {\"gridcolor\": \"white\", \"linecolor\": \"white\", \"ticks\": \"\"}, \"baxis\": {\"gridcolor\": \"white\", \"linecolor\": \"white\", \"ticks\": \"\"}, \"bgcolor\": \"#E5ECF6\", \"caxis\": {\"gridcolor\": \"white\", \"linecolor\": \"white\", \"ticks\": \"\"}}, \"title\": {\"x\": 0.05}, \"xaxis\": {\"automargin\": true, \"gridcolor\": \"white\", \"linecolor\": \"white\", \"ticks\": \"\", \"title\": {\"standoff\": 15}, \"zerolinecolor\": \"white\", \"zerolinewidth\": 2}, \"yaxis\": {\"automargin\": true, \"gridcolor\": \"white\", \"linecolor\": \"white\", \"ticks\": \"\", \"title\": {\"standoff\": 15}, \"zerolinecolor\": \"white\", \"zerolinewidth\": 2}}}, \"title\": {\"font\": {\"color\": \"#4D5663\"}}, \"xaxis\": {\"gridcolor\": \"#E1E5ED\", \"showgrid\": true, \"tickfont\": {\"color\": \"#4D5663\"}, \"title\": {\"font\": {\"color\": \"#4D5663\"}, \"text\": \"\"}, \"zerolinecolor\": \"#E1E5ED\"}, \"yaxis\": {\"gridcolor\": \"#E1E5ED\", \"showgrid\": true, \"tickfont\": {\"color\": \"#4D5663\"}, \"title\": {\"font\": {\"color\": \"#4D5663\"}, \"text\": \"\"}, \"zerolinecolor\": \"#E1E5ED\"}},\n",
       "                        {\"showLink\": true, \"linkText\": \"Export to plot.ly\", \"plotlyServerURL\": \"https://plot.ly\", \"responsive\": true}\n",
       "                    ).then(function(){\n",
       "                            \n",
       "var gd = document.getElementById('d07e837e-a6a5-46bf-bb54-c844b68f04cf');\n",
       "var x = new MutationObserver(function (mutations, observer) {{\n",
       "        var display = window.getComputedStyle(gd).display;\n",
       "        if (!display || display === 'none') {{\n",
       "            console.log([gd, 'removed!']);\n",
       "            Plotly.purge(gd);\n",
       "            observer.disconnect();\n",
       "        }}\n",
       "}});\n",
       "\n",
       "// Listen for the removal of the full notebook cells\n",
       "var notebookContainer = gd.closest('#notebook-container');\n",
       "if (notebookContainer) {{\n",
       "    x.observe(notebookContainer, {childList: true});\n",
       "}}\n",
       "\n",
       "// Listen for the clearing of the current output cell\n",
       "var outputEl = gd.closest('.output');\n",
       "if (outputEl) {{\n",
       "    x.observe(outputEl, {childList: true});\n",
       "}}\n",
       "\n",
       "                        })\n",
       "                };\n",
       "                });\n",
       "            </script>\n",
       "        </div>"
      ]
     },
     "metadata": {},
     "output_type": "display_data"
    }
   ],
   "source": [
    "df['A'].iplot(kind='hist',bins=50)"
   ]
  },
  {
   "cell_type": "code",
   "execution_count": 38,
   "metadata": {},
   "outputs": [
    {
     "data": {
      "application/vnd.plotly.v1+json": {
       "config": {
        "linkText": "Export to plot.ly",
        "plotlyServerURL": "https://plot.ly",
        "showLink": true
       },
       "data": [
        {
         "histfunc": "count",
         "histnorm": "",
         "marker": {
          "color": "rgba(255, 153, 51, 1.0)",
          "line": {
           "color": "#4D5663",
           "width": 1.3
          }
         },
         "name": "A",
         "nbinsx": 50,
         "opacity": 0.8,
         "orientation": "v",
         "type": "histogram",
         "x": [
          -0.171640601897393,
          -0.43651310026760143,
          0.1915612390123302,
          -1.056703312019151,
          0.4223324960551365,
          1.2877468203367912,
          -0.5709727518406853,
          2.1648676554773516,
          -1.2710537136872033,
          0.16778935785866875,
          1.0923398653718392,
          0.4925306791099881,
          -0.703668513206629,
          -1.4524459966421268,
          -1.2744387261513341,
          0.48551604613423355,
          -0.08955322711220023,
          -0.29027573121328615,
          0.7745650160804478,
          -1.1099619262798022,
          -1.9683383872344231,
          -0.29436352576008007,
          -0.6114534149828592,
          -0.6016002569315776,
          0.6621081449698877,
          0.21266807621964742,
          -0.14196204190623365,
          0.8455808080508328,
          2.218513523093423,
          1.225509030816993,
          -0.05744835346384874,
          -0.11673789320091013,
          -0.30301635565632434,
          -0.6627327489766144,
          -0.294755132084432,
          -0.133052082126597,
          -0.7027262561520775,
          0.21363941721995688,
          0.7533029620632767,
          0.9161599146948339,
          -0.38695616486884626,
          0.19596958959686875,
          2.1597457209110167,
          1.6330219307099394,
          -0.053064503558190354,
          0.6603445747130693,
          0.3207945904648976,
          -1.1050354243244225,
          1.5637954578971218,
          1.2541918745480611,
          -2.095064611555383,
          -0.7845842103111716,
          -0.19468049802855614,
          -0.4014548287149151,
          0.3407950800545804,
          0.03272595875779687,
          -1.3056241417427392,
          0.7438543233795972,
          -1.3227506872869208,
          1.0784707979095176,
          -0.815334722857213,
          -0.5373819359409527,
          -1.0606203281249487,
          0.441700587416723,
          -0.32878279305935415,
          -0.46581137917888865,
          -1.0904053135674916,
          -1.26924927808231,
          0.31270617806826667,
          0.6970749712875615,
          0.3153736148451356,
          -0.45080146910650637,
          -0.2720063615339261,
          1.4044677356602207,
          -0.019348041080346393,
          1.1049428128294767,
          -2.377128291270848,
          -1.5073793637973727,
          -0.926666748211941,
          1.8579700229276017,
          -1.2116095443091348,
          0.8236413783722552,
          -0.32430248425442165,
          2.0906677707983916,
          -0.7044681959680065,
          -0.1546026406012769,
          -0.9385406062305209,
          -0.8692498584291668,
          -2.3768058600922677,
          -2.4065090278566914,
          1.7172860060023276,
          0.16700914108697476,
          -1.0892987171083033,
          1.1821925982620303,
          0.3761064908178598,
          -0.6081613870137292,
          0.5683748477954369,
          -0.2666353852917895,
          0.9020386387275965,
          0.22303842334880358
         ]
        },
        {
         "histfunc": "count",
         "histnorm": "",
         "marker": {
          "color": "rgba(55, 128, 191, 1.0)",
          "line": {
           "color": "#4D5663",
           "width": 1.3
          }
         },
         "name": "B",
         "nbinsx": 50,
         "opacity": 0.8,
         "orientation": "v",
         "type": "histogram",
         "x": [
          0.5484513444208927,
          -2.3254372400024663,
          -0.17768498503930882,
          -0.0413575571659648,
          1.0377678595702458,
          -0.7116014651027107,
          0.26857162154881,
          1.5290566395723573,
          -0.2567586755527022,
          -0.357121113255171,
          0.8094544672338446,
          -0.18796083964617127,
          -0.027477640202128045,
          -0.11870292311303313,
          -2.269461527526842,
          1.5955328577357266,
          -0.8644545357821648,
          -1.8642968220350373,
          0.09017916692978532,
          -1.344766726938334,
          1.1745824220442214,
          -0.8414367236253527,
          -0.7884004277579315,
          -0.1489331864549383,
          0.7728688387695918,
          -2.1409153230074534,
          0.34821592049908134,
          -0.27498245733340865,
          0.6490421722801153,
          -0.3095015003082018,
          1.3755435096077888,
          0.5295635663635087,
          0.3035655123758679,
          -0.15702303716074245,
          1.1704292564472734,
          -1.52193050513255,
          -0.17304696512117046,
          0.500742618651033,
          -2.411263379463824,
          -0.2764586244288876,
          -0.9354022868432563,
          1.6180987037807752,
          -0.5850556670966817,
          0.8064515288677078,
          -0.1925316499670654,
          2.1249498691984603,
          0.28824678756934996,
          1.0808924511417874,
          -1.0991069038596877,
          2.8523270968784757,
          -0.1462276160136622,
          -0.7269456317989939,
          1.009683169084365,
          -0.9128087165867703,
          2.739386314769789,
          -1.3757622114686658,
          1.4407905278507112,
          -2.1437891180414965,
          -0.8685438816408083,
          -1.0684204255937035,
          -1.3909622043143515,
          -1.708519617763413,
          -1.033225258404668,
          -0.9273179566800895,
          0.9622755612144613,
          0.4036958283171158,
          -2.066620915349806,
          -0.5313498777603,
          -0.37213553235231156,
          0.5566243901674788,
          0.46809411497026965,
          0.03231282758546965,
          1.5950315245268063,
          -0.8677057971639819,
          0.5934132541166431,
          0.6665791844271618,
          -1.070293341617307,
          0.23247746328414118,
          0.1636105945212715,
          1.3847638680189123,
          -0.7468787389615569,
          -0.6336863846695935,
          -0.15418321052239078,
          -0.022964779182480508,
          0.13067056650667006,
          -0.8346647281545524,
          -0.08276756281076375,
          -0.23593108329391443,
          1.4223691939157483,
          -1.475177034806321,
          -0.5631133271333681,
          -0.9498587583942311,
          -1.1180928581281955,
          -1.9290450825993415,
          0.22878195896987918,
          -1.16846732408735,
          -1.201800804545687,
          0.6324538976960572,
          -0.1723277128840355,
          0.2296303534317323
         ]
        },
        {
         "histfunc": "count",
         "histnorm": "",
         "marker": {
          "color": "rgba(50, 171, 96, 1.0)",
          "line": {
           "color": "#4D5663",
           "width": 1.3
          }
         },
         "name": "C",
         "nbinsx": 50,
         "opacity": 0.8,
         "orientation": "v",
         "type": "histogram",
         "x": [
          -0.5983437620713272,
          -2.6604175619961046,
          -0.6893577279175397,
          -0.5229880431507179,
          -1.1142570311277662,
          0.4144329010324235,
          1.0709199857046865,
          0.24185000081928387,
          0.8679028870583181,
          0.8552503604199,
          -0.6897875923656063,
          -0.6170711861715913,
          -0.574019045561744,
          -0.42602932488795464,
          -0.06540747052858152,
          1.01225862618407,
          0.5725334774448296,
          -0.47718574956385784,
          0.29591534234625394,
          1.0713609097573518,
          1.7850760760870759,
          0.6615370182444141,
          -0.09975617128227394,
          0.6265897988876452,
          -0.434442435536369,
          0.9189381575943047,
          1.1426297546254645,
          0.05469376367844408,
          0.7664286517069745,
          1.4460545893069578,
          -1.2564294325418002,
          0.4220576687942533,
          0.6289966738488311,
          -0.2788764402500565,
          0.5015049964356932,
          1.514458160544959,
          0.2782476011345647,
          0.269754598159741,
          1.3519102352351455,
          -0.12193137836822808,
          -2.178769420790974,
          0.8539668969339135,
          1.3839608405729358,
          0.46683197255988956,
          1.8590406800885484,
          0.3395093676304781,
          0.40311363481143375,
          -1.0741084327550467,
          -0.6594594819662645,
          -0.1065325263332107,
          1.0030409948514505,
          -2.2465625425281024,
          0.5250755374331697,
          0.5874277050905309,
          0.06617762829699439,
          -0.44520947266094435,
          1.5031363729296439,
          0.2683309891489996,
          0.8941013914258936,
          1.1900921079684381,
          -1.592338528514025,
          0.7848888225422255,
          1.8842823892513476,
          -0.2825083302404101,
          -0.33813550666448006,
          -0.25537087832581873,
          -0.7211597678307854,
          -1.734912570192576,
          0.9561537011128859,
          0.16208957636882837,
          -1.2000533555518906,
          0.4408341380584331,
          -1.449277089723586,
          0.034329587009165954,
          -0.04604054983925971,
          0.8974630060064327,
          0.16304891450080738,
          1.9638360203986867,
          -1.5776099100630412,
          0.7609264198270365,
          0.969561171471672,
          -1.0991506011551149,
          -1.465825439340637,
          -1.314898729207641,
          -0.8380424127033789,
          0.4373953826702947,
          0.45037384631284544,
          -0.8904920643002715,
          -0.5810637913845554,
          0.3925376368775025,
          0.2579651317698921,
          -1.0810556062247758,
          -0.31741955255737236,
          1.618570911321861,
          1.0238726864773395,
          -0.13573365567790135,
          -0.8632715661196068,
          0.6288163109271624,
          -0.2819767637068381,
          2.2988019665203265
         ]
        },
        {
         "histfunc": "count",
         "histnorm": "",
         "marker": {
          "color": "rgba(128, 0, 128, 1.0)",
          "line": {
           "color": "#4D5663",
           "width": 1.3
          }
         },
         "name": "D",
         "nbinsx": 50,
         "opacity": 0.8,
         "orientation": "v",
         "type": "histogram",
         "x": [
          0.8338514606350064,
          -0.10584992645229413,
          -0.2706609825615641,
          0.5996801983644825,
          0.40359100466599535,
          2.641790207427108,
          0.13224103676807694,
          0.35313713991942014,
          1.144896307631846,
          1.9946928047934107,
          -0.9171338011956501,
          -0.4791782716060962,
          -0.6726579700852056,
          1.831020641813482,
          -0.1523547432486442,
          0.3354427663278796,
          -2.441582962241704,
          1.9715015842875654,
          0.5494742773319939,
          0.6145317653973147,
          -1.1806025799960154,
          0.5155567640803262,
          -1.3242560220644943,
          0.041700160836206965,
          0.9468186268366223,
          -0.5619512409700159,
          -0.7413321342009079,
          0.820528530608833,
          -0.6458138002254487,
          0.050524454707551014,
          0.862396604461523,
          2.253816471768166,
          0.4648313687438735,
          -0.16136990451619151,
          2.1987705070284673,
          -0.5727987959263574,
          -1.7115241145055666,
          2.073776369230856,
          0.625241141366843,
          1.5292209070329297,
          -0.5107014925784714,
          -0.31939413263433497,
          0.646758037652685,
          -0.2779513216230143,
          -0.19124944161845978,
          0.9571695847179208,
          -1.1048580560914822,
          -0.8984915407298146,
          1.3273431506933735,
          -1.333150838500644,
          -0.1985793201190395,
          2.019330939054003,
          1.2948297395951902,
          -0.3749962350083088,
          0.7563352984444898,
          0.1117176438204793,
          0.5872748114399307,
          -0.429718197605014,
          1.1580569489872719,
          -0.7458610043235129,
          0.8355882588036868,
          0.42485291323705143,
          0.4424168054773275,
          0.14127394287620942,
          -0.6154617117321134,
          -0.5110598682054509,
          0.13496982598516002,
          1.0245401663215845,
          -2.0311036813716705,
          -1.0250819271742715,
          -1.8636033313844171,
          0.8574905588910688,
          0.049503038730056084,
          -0.4104207782106683,
          -0.13764615619265963,
          0.2844344254242617,
          -0.7411574434948729,
          -0.9502016965746825,
          0.8689197050008775,
          -1.9318681506349502,
          0.471433643085626,
          0.585171420032461,
          0.6404961794771034,
          -0.22741488276623759,
          -1.0205085255341666,
          0.05233227104990713,
          0.49628856355218215,
          -0.8950524060645041,
          1.8180841461402975,
          -0.817214388120829,
          1.1765542892213678,
          0.6038964891497567,
          -0.29640169240258973,
          1.7917165418241447,
          -0.9923304082753172,
          1.4156913840918108,
          -0.37184430284858083,
          0.3670786989417944,
          -1.0405526567533496,
          0.9209916696959721
         ]
        }
       ],
       "layout": {
        "barmode": "overlay",
        "legend": {
         "bgcolor": "#F5F6F9",
         "font": {
          "color": "#4D5663"
         }
        },
        "paper_bgcolor": "#F5F6F9",
        "plot_bgcolor": "#F5F6F9",
        "template": {
         "data": {
          "bar": [
           {
            "error_x": {
             "color": "#2a3f5f"
            },
            "error_y": {
             "color": "#2a3f5f"
            },
            "marker": {
             "line": {
              "color": "#E5ECF6",
              "width": 0.5
             }
            },
            "type": "bar"
           }
          ],
          "barpolar": [
           {
            "marker": {
             "line": {
              "color": "#E5ECF6",
              "width": 0.5
             }
            },
            "type": "barpolar"
           }
          ],
          "carpet": [
           {
            "aaxis": {
             "endlinecolor": "#2a3f5f",
             "gridcolor": "white",
             "linecolor": "white",
             "minorgridcolor": "white",
             "startlinecolor": "#2a3f5f"
            },
            "baxis": {
             "endlinecolor": "#2a3f5f",
             "gridcolor": "white",
             "linecolor": "white",
             "minorgridcolor": "white",
             "startlinecolor": "#2a3f5f"
            },
            "type": "carpet"
           }
          ],
          "choropleth": [
           {
            "colorbar": {
             "outlinewidth": 0,
             "ticks": ""
            },
            "type": "choropleth"
           }
          ],
          "contour": [
           {
            "colorbar": {
             "outlinewidth": 0,
             "ticks": ""
            },
            "colorscale": [
             [
              0,
              "#0d0887"
             ],
             [
              0.1111111111111111,
              "#46039f"
             ],
             [
              0.2222222222222222,
              "#7201a8"
             ],
             [
              0.3333333333333333,
              "#9c179e"
             ],
             [
              0.4444444444444444,
              "#bd3786"
             ],
             [
              0.5555555555555556,
              "#d8576b"
             ],
             [
              0.6666666666666666,
              "#ed7953"
             ],
             [
              0.7777777777777778,
              "#fb9f3a"
             ],
             [
              0.8888888888888888,
              "#fdca26"
             ],
             [
              1,
              "#f0f921"
             ]
            ],
            "type": "contour"
           }
          ],
          "contourcarpet": [
           {
            "colorbar": {
             "outlinewidth": 0,
             "ticks": ""
            },
            "type": "contourcarpet"
           }
          ],
          "heatmap": [
           {
            "colorbar": {
             "outlinewidth": 0,
             "ticks": ""
            },
            "colorscale": [
             [
              0,
              "#0d0887"
             ],
             [
              0.1111111111111111,
              "#46039f"
             ],
             [
              0.2222222222222222,
              "#7201a8"
             ],
             [
              0.3333333333333333,
              "#9c179e"
             ],
             [
              0.4444444444444444,
              "#bd3786"
             ],
             [
              0.5555555555555556,
              "#d8576b"
             ],
             [
              0.6666666666666666,
              "#ed7953"
             ],
             [
              0.7777777777777778,
              "#fb9f3a"
             ],
             [
              0.8888888888888888,
              "#fdca26"
             ],
             [
              1,
              "#f0f921"
             ]
            ],
            "type": "heatmap"
           }
          ],
          "heatmapgl": [
           {
            "colorbar": {
             "outlinewidth": 0,
             "ticks": ""
            },
            "colorscale": [
             [
              0,
              "#0d0887"
             ],
             [
              0.1111111111111111,
              "#46039f"
             ],
             [
              0.2222222222222222,
              "#7201a8"
             ],
             [
              0.3333333333333333,
              "#9c179e"
             ],
             [
              0.4444444444444444,
              "#bd3786"
             ],
             [
              0.5555555555555556,
              "#d8576b"
             ],
             [
              0.6666666666666666,
              "#ed7953"
             ],
             [
              0.7777777777777778,
              "#fb9f3a"
             ],
             [
              0.8888888888888888,
              "#fdca26"
             ],
             [
              1,
              "#f0f921"
             ]
            ],
            "type": "heatmapgl"
           }
          ],
          "histogram": [
           {
            "marker": {
             "colorbar": {
              "outlinewidth": 0,
              "ticks": ""
             }
            },
            "type": "histogram"
           }
          ],
          "histogram2d": [
           {
            "colorbar": {
             "outlinewidth": 0,
             "ticks": ""
            },
            "colorscale": [
             [
              0,
              "#0d0887"
             ],
             [
              0.1111111111111111,
              "#46039f"
             ],
             [
              0.2222222222222222,
              "#7201a8"
             ],
             [
              0.3333333333333333,
              "#9c179e"
             ],
             [
              0.4444444444444444,
              "#bd3786"
             ],
             [
              0.5555555555555556,
              "#d8576b"
             ],
             [
              0.6666666666666666,
              "#ed7953"
             ],
             [
              0.7777777777777778,
              "#fb9f3a"
             ],
             [
              0.8888888888888888,
              "#fdca26"
             ],
             [
              1,
              "#f0f921"
             ]
            ],
            "type": "histogram2d"
           }
          ],
          "histogram2dcontour": [
           {
            "colorbar": {
             "outlinewidth": 0,
             "ticks": ""
            },
            "colorscale": [
             [
              0,
              "#0d0887"
             ],
             [
              0.1111111111111111,
              "#46039f"
             ],
             [
              0.2222222222222222,
              "#7201a8"
             ],
             [
              0.3333333333333333,
              "#9c179e"
             ],
             [
              0.4444444444444444,
              "#bd3786"
             ],
             [
              0.5555555555555556,
              "#d8576b"
             ],
             [
              0.6666666666666666,
              "#ed7953"
             ],
             [
              0.7777777777777778,
              "#fb9f3a"
             ],
             [
              0.8888888888888888,
              "#fdca26"
             ],
             [
              1,
              "#f0f921"
             ]
            ],
            "type": "histogram2dcontour"
           }
          ],
          "mesh3d": [
           {
            "colorbar": {
             "outlinewidth": 0,
             "ticks": ""
            },
            "type": "mesh3d"
           }
          ],
          "parcoords": [
           {
            "line": {
             "colorbar": {
              "outlinewidth": 0,
              "ticks": ""
             }
            },
            "type": "parcoords"
           }
          ],
          "pie": [
           {
            "automargin": true,
            "type": "pie"
           }
          ],
          "scatter": [
           {
            "marker": {
             "colorbar": {
              "outlinewidth": 0,
              "ticks": ""
             }
            },
            "type": "scatter"
           }
          ],
          "scatter3d": [
           {
            "line": {
             "colorbar": {
              "outlinewidth": 0,
              "ticks": ""
             }
            },
            "marker": {
             "colorbar": {
              "outlinewidth": 0,
              "ticks": ""
             }
            },
            "type": "scatter3d"
           }
          ],
          "scattercarpet": [
           {
            "marker": {
             "colorbar": {
              "outlinewidth": 0,
              "ticks": ""
             }
            },
            "type": "scattercarpet"
           }
          ],
          "scattergeo": [
           {
            "marker": {
             "colorbar": {
              "outlinewidth": 0,
              "ticks": ""
             }
            },
            "type": "scattergeo"
           }
          ],
          "scattergl": [
           {
            "marker": {
             "colorbar": {
              "outlinewidth": 0,
              "ticks": ""
             }
            },
            "type": "scattergl"
           }
          ],
          "scattermapbox": [
           {
            "marker": {
             "colorbar": {
              "outlinewidth": 0,
              "ticks": ""
             }
            },
            "type": "scattermapbox"
           }
          ],
          "scatterpolar": [
           {
            "marker": {
             "colorbar": {
              "outlinewidth": 0,
              "ticks": ""
             }
            },
            "type": "scatterpolar"
           }
          ],
          "scatterpolargl": [
           {
            "marker": {
             "colorbar": {
              "outlinewidth": 0,
              "ticks": ""
             }
            },
            "type": "scatterpolargl"
           }
          ],
          "scatterternary": [
           {
            "marker": {
             "colorbar": {
              "outlinewidth": 0,
              "ticks": ""
             }
            },
            "type": "scatterternary"
           }
          ],
          "surface": [
           {
            "colorbar": {
             "outlinewidth": 0,
             "ticks": ""
            },
            "colorscale": [
             [
              0,
              "#0d0887"
             ],
             [
              0.1111111111111111,
              "#46039f"
             ],
             [
              0.2222222222222222,
              "#7201a8"
             ],
             [
              0.3333333333333333,
              "#9c179e"
             ],
             [
              0.4444444444444444,
              "#bd3786"
             ],
             [
              0.5555555555555556,
              "#d8576b"
             ],
             [
              0.6666666666666666,
              "#ed7953"
             ],
             [
              0.7777777777777778,
              "#fb9f3a"
             ],
             [
              0.8888888888888888,
              "#fdca26"
             ],
             [
              1,
              "#f0f921"
             ]
            ],
            "type": "surface"
           }
          ],
          "table": [
           {
            "cells": {
             "fill": {
              "color": "#EBF0F8"
             },
             "line": {
              "color": "white"
             }
            },
            "header": {
             "fill": {
              "color": "#C8D4E3"
             },
             "line": {
              "color": "white"
             }
            },
            "type": "table"
           }
          ]
         },
         "layout": {
          "annotationdefaults": {
           "arrowcolor": "#2a3f5f",
           "arrowhead": 0,
           "arrowwidth": 1
          },
          "coloraxis": {
           "colorbar": {
            "outlinewidth": 0,
            "ticks": ""
           }
          },
          "colorscale": {
           "diverging": [
            [
             0,
             "#8e0152"
            ],
            [
             0.1,
             "#c51b7d"
            ],
            [
             0.2,
             "#de77ae"
            ],
            [
             0.3,
             "#f1b6da"
            ],
            [
             0.4,
             "#fde0ef"
            ],
            [
             0.5,
             "#f7f7f7"
            ],
            [
             0.6,
             "#e6f5d0"
            ],
            [
             0.7,
             "#b8e186"
            ],
            [
             0.8,
             "#7fbc41"
            ],
            [
             0.9,
             "#4d9221"
            ],
            [
             1,
             "#276419"
            ]
           ],
           "sequential": [
            [
             0,
             "#0d0887"
            ],
            [
             0.1111111111111111,
             "#46039f"
            ],
            [
             0.2222222222222222,
             "#7201a8"
            ],
            [
             0.3333333333333333,
             "#9c179e"
            ],
            [
             0.4444444444444444,
             "#bd3786"
            ],
            [
             0.5555555555555556,
             "#d8576b"
            ],
            [
             0.6666666666666666,
             "#ed7953"
            ],
            [
             0.7777777777777778,
             "#fb9f3a"
            ],
            [
             0.8888888888888888,
             "#fdca26"
            ],
            [
             1,
             "#f0f921"
            ]
           ],
           "sequentialminus": [
            [
             0,
             "#0d0887"
            ],
            [
             0.1111111111111111,
             "#46039f"
            ],
            [
             0.2222222222222222,
             "#7201a8"
            ],
            [
             0.3333333333333333,
             "#9c179e"
            ],
            [
             0.4444444444444444,
             "#bd3786"
            ],
            [
             0.5555555555555556,
             "#d8576b"
            ],
            [
             0.6666666666666666,
             "#ed7953"
            ],
            [
             0.7777777777777778,
             "#fb9f3a"
            ],
            [
             0.8888888888888888,
             "#fdca26"
            ],
            [
             1,
             "#f0f921"
            ]
           ]
          },
          "colorway": [
           "#636efa",
           "#EF553B",
           "#00cc96",
           "#ab63fa",
           "#FFA15A",
           "#19d3f3",
           "#FF6692",
           "#B6E880",
           "#FF97FF",
           "#FECB52"
          ],
          "font": {
           "color": "#2a3f5f"
          },
          "geo": {
           "bgcolor": "white",
           "lakecolor": "white",
           "landcolor": "#E5ECF6",
           "showlakes": true,
           "showland": true,
           "subunitcolor": "white"
          },
          "hoverlabel": {
           "align": "left"
          },
          "hovermode": "closest",
          "mapbox": {
           "style": "light"
          },
          "paper_bgcolor": "white",
          "plot_bgcolor": "#E5ECF6",
          "polar": {
           "angularaxis": {
            "gridcolor": "white",
            "linecolor": "white",
            "ticks": ""
           },
           "bgcolor": "#E5ECF6",
           "radialaxis": {
            "gridcolor": "white",
            "linecolor": "white",
            "ticks": ""
           }
          },
          "scene": {
           "xaxis": {
            "backgroundcolor": "#E5ECF6",
            "gridcolor": "white",
            "gridwidth": 2,
            "linecolor": "white",
            "showbackground": true,
            "ticks": "",
            "zerolinecolor": "white"
           },
           "yaxis": {
            "backgroundcolor": "#E5ECF6",
            "gridcolor": "white",
            "gridwidth": 2,
            "linecolor": "white",
            "showbackground": true,
            "ticks": "",
            "zerolinecolor": "white"
           },
           "zaxis": {
            "backgroundcolor": "#E5ECF6",
            "gridcolor": "white",
            "gridwidth": 2,
            "linecolor": "white",
            "showbackground": true,
            "ticks": "",
            "zerolinecolor": "white"
           }
          },
          "shapedefaults": {
           "line": {
            "color": "#2a3f5f"
           }
          },
          "ternary": {
           "aaxis": {
            "gridcolor": "white",
            "linecolor": "white",
            "ticks": ""
           },
           "baxis": {
            "gridcolor": "white",
            "linecolor": "white",
            "ticks": ""
           },
           "bgcolor": "#E5ECF6",
           "caxis": {
            "gridcolor": "white",
            "linecolor": "white",
            "ticks": ""
           }
          },
          "title": {
           "x": 0.05
          },
          "xaxis": {
           "automargin": true,
           "gridcolor": "white",
           "linecolor": "white",
           "ticks": "",
           "title": {
            "standoff": 15
           },
           "zerolinecolor": "white",
           "zerolinewidth": 2
          },
          "yaxis": {
           "automargin": true,
           "gridcolor": "white",
           "linecolor": "white",
           "ticks": "",
           "title": {
            "standoff": 15
           },
           "zerolinecolor": "white",
           "zerolinewidth": 2
          }
         }
        },
        "title": {
         "font": {
          "color": "#4D5663"
         }
        },
        "xaxis": {
         "gridcolor": "#E1E5ED",
         "showgrid": true,
         "tickfont": {
          "color": "#4D5663"
         },
         "title": {
          "font": {
           "color": "#4D5663"
          },
          "text": ""
         },
         "zerolinecolor": "#E1E5ED"
        },
        "yaxis": {
         "gridcolor": "#E1E5ED",
         "showgrid": true,
         "tickfont": {
          "color": "#4D5663"
         },
         "title": {
          "font": {
           "color": "#4D5663"
          },
          "text": ""
         },
         "zerolinecolor": "#E1E5ED"
        }
       }
      },
      "text/html": [
       "<div>\n",
       "        \n",
       "        \n",
       "            <div id=\"c2024e2e-b838-4746-9f5b-c276d644abf0\" class=\"plotly-graph-div\" style=\"height:525px; width:100%;\"></div>\n",
       "            <script type=\"text/javascript\">\n",
       "                require([\"plotly\"], function(Plotly) {\n",
       "                    window.PLOTLYENV=window.PLOTLYENV || {};\n",
       "                    window.PLOTLYENV.BASE_URL='https://plot.ly';\n",
       "                    \n",
       "                if (document.getElementById(\"c2024e2e-b838-4746-9f5b-c276d644abf0\")) {\n",
       "                    Plotly.newPlot(\n",
       "                        'c2024e2e-b838-4746-9f5b-c276d644abf0',\n",
       "                        [{\"histfunc\": \"count\", \"histnorm\": \"\", \"marker\": {\"color\": \"rgba(255, 153, 51, 1.0)\", \"line\": {\"color\": \"#4D5663\", \"width\": 1.3}}, \"name\": \"A\", \"nbinsx\": 50, \"opacity\": 0.8, \"orientation\": \"v\", \"type\": \"histogram\", \"x\": [-0.171640601897393, -0.43651310026760143, 0.1915612390123302, -1.056703312019151, 0.4223324960551365, 1.2877468203367912, -0.5709727518406853, 2.1648676554773516, -1.2710537136872033, 0.16778935785866875, 1.0923398653718392, 0.4925306791099881, -0.703668513206629, -1.4524459966421268, -1.2744387261513341, 0.48551604613423355, -0.08955322711220023, -0.29027573121328615, 0.7745650160804478, -1.1099619262798022, -1.9683383872344231, -0.29436352576008007, -0.6114534149828592, -0.6016002569315776, 0.6621081449698877, 0.21266807621964742, -0.14196204190623365, 0.8455808080508328, 2.218513523093423, 1.225509030816993, -0.05744835346384874, -0.11673789320091013, -0.30301635565632434, -0.6627327489766144, -0.294755132084432, -0.133052082126597, -0.7027262561520775, 0.21363941721995688, 0.7533029620632767, 0.9161599146948339, -0.38695616486884626, 0.19596958959686875, 2.1597457209110167, 1.6330219307099394, -0.053064503558190354, 0.6603445747130693, 0.3207945904648976, -1.1050354243244225, 1.5637954578971218, 1.2541918745480611, -2.095064611555383, -0.7845842103111716, -0.19468049802855614, -0.4014548287149151, 0.3407950800545804, 0.03272595875779687, -1.3056241417427392, 0.7438543233795972, -1.3227506872869208, 1.0784707979095176, -0.815334722857213, -0.5373819359409527, -1.0606203281249487, 0.441700587416723, -0.32878279305935415, -0.46581137917888865, -1.0904053135674916, -1.26924927808231, 0.31270617806826667, 0.6970749712875615, 0.3153736148451356, -0.45080146910650637, -0.2720063615339261, 1.4044677356602207, -0.019348041080346393, 1.1049428128294767, -2.377128291270848, -1.5073793637973727, -0.926666748211941, 1.8579700229276017, -1.2116095443091348, 0.8236413783722552, -0.32430248425442165, 2.0906677707983916, -0.7044681959680065, -0.1546026406012769, -0.9385406062305209, -0.8692498584291668, -2.3768058600922677, -2.4065090278566914, 1.7172860060023276, 0.16700914108697476, -1.0892987171083033, 1.1821925982620303, 0.3761064908178598, -0.6081613870137292, 0.5683748477954369, -0.2666353852917895, 0.9020386387275965, 0.22303842334880358]}, {\"histfunc\": \"count\", \"histnorm\": \"\", \"marker\": {\"color\": \"rgba(55, 128, 191, 1.0)\", \"line\": {\"color\": \"#4D5663\", \"width\": 1.3}}, \"name\": \"B\", \"nbinsx\": 50, \"opacity\": 0.8, \"orientation\": \"v\", \"type\": \"histogram\", \"x\": [0.5484513444208927, -2.3254372400024663, -0.17768498503930882, -0.0413575571659648, 1.0377678595702458, -0.7116014651027107, 0.26857162154881, 1.5290566395723573, -0.2567586755527022, -0.357121113255171, 0.8094544672338446, -0.18796083964617127, -0.027477640202128045, -0.11870292311303313, -2.269461527526842, 1.5955328577357266, -0.8644545357821648, -1.8642968220350373, 0.09017916692978532, -1.344766726938334, 1.1745824220442214, -0.8414367236253527, -0.7884004277579315, -0.1489331864549383, 0.7728688387695918, -2.1409153230074534, 0.34821592049908134, -0.27498245733340865, 0.6490421722801153, -0.3095015003082018, 1.3755435096077888, 0.5295635663635087, 0.3035655123758679, -0.15702303716074245, 1.1704292564472734, -1.52193050513255, -0.17304696512117046, 0.500742618651033, -2.411263379463824, -0.2764586244288876, -0.9354022868432563, 1.6180987037807752, -0.5850556670966817, 0.8064515288677078, -0.1925316499670654, 2.1249498691984603, 0.28824678756934996, 1.0808924511417874, -1.0991069038596877, 2.8523270968784757, -0.1462276160136622, -0.7269456317989939, 1.009683169084365, -0.9128087165867703, 2.739386314769789, -1.3757622114686658, 1.4407905278507112, -2.1437891180414965, -0.8685438816408083, -1.0684204255937035, -1.3909622043143515, -1.708519617763413, -1.033225258404668, -0.9273179566800895, 0.9622755612144613, 0.4036958283171158, -2.066620915349806, -0.5313498777603, -0.37213553235231156, 0.5566243901674788, 0.46809411497026965, 0.03231282758546965, 1.5950315245268063, -0.8677057971639819, 0.5934132541166431, 0.6665791844271618, -1.070293341617307, 0.23247746328414118, 0.1636105945212715, 1.3847638680189123, -0.7468787389615569, -0.6336863846695935, -0.15418321052239078, -0.022964779182480508, 0.13067056650667006, -0.8346647281545524, -0.08276756281076375, -0.23593108329391443, 1.4223691939157483, -1.475177034806321, -0.5631133271333681, -0.9498587583942311, -1.1180928581281955, -1.9290450825993415, 0.22878195896987918, -1.16846732408735, -1.201800804545687, 0.6324538976960572, -0.1723277128840355, 0.2296303534317323]}, {\"histfunc\": \"count\", \"histnorm\": \"\", \"marker\": {\"color\": \"rgba(50, 171, 96, 1.0)\", \"line\": {\"color\": \"#4D5663\", \"width\": 1.3}}, \"name\": \"C\", \"nbinsx\": 50, \"opacity\": 0.8, \"orientation\": \"v\", \"type\": \"histogram\", \"x\": [-0.5983437620713272, -2.6604175619961046, -0.6893577279175397, -0.5229880431507179, -1.1142570311277662, 0.4144329010324235, 1.0709199857046865, 0.24185000081928387, 0.8679028870583181, 0.8552503604199, -0.6897875923656063, -0.6170711861715913, -0.574019045561744, -0.42602932488795464, -0.06540747052858152, 1.01225862618407, 0.5725334774448296, -0.47718574956385784, 0.29591534234625394, 1.0713609097573518, 1.7850760760870759, 0.6615370182444141, -0.09975617128227394, 0.6265897988876452, -0.434442435536369, 0.9189381575943047, 1.1426297546254645, 0.05469376367844408, 0.7664286517069745, 1.4460545893069578, -1.2564294325418002, 0.4220576687942533, 0.6289966738488311, -0.2788764402500565, 0.5015049964356932, 1.514458160544959, 0.2782476011345647, 0.269754598159741, 1.3519102352351455, -0.12193137836822808, -2.178769420790974, 0.8539668969339135, 1.3839608405729358, 0.46683197255988956, 1.8590406800885484, 0.3395093676304781, 0.40311363481143375, -1.0741084327550467, -0.6594594819662645, -0.1065325263332107, 1.0030409948514505, -2.2465625425281024, 0.5250755374331697, 0.5874277050905309, 0.06617762829699439, -0.44520947266094435, 1.5031363729296439, 0.2683309891489996, 0.8941013914258936, 1.1900921079684381, -1.592338528514025, 0.7848888225422255, 1.8842823892513476, -0.2825083302404101, -0.33813550666448006, -0.25537087832581873, -0.7211597678307854, -1.734912570192576, 0.9561537011128859, 0.16208957636882837, -1.2000533555518906, 0.4408341380584331, -1.449277089723586, 0.034329587009165954, -0.04604054983925971, 0.8974630060064327, 0.16304891450080738, 1.9638360203986867, -1.5776099100630412, 0.7609264198270365, 0.969561171471672, -1.0991506011551149, -1.465825439340637, -1.314898729207641, -0.8380424127033789, 0.4373953826702947, 0.45037384631284544, -0.8904920643002715, -0.5810637913845554, 0.3925376368775025, 0.2579651317698921, -1.0810556062247758, -0.31741955255737236, 1.618570911321861, 1.0238726864773395, -0.13573365567790135, -0.8632715661196068, 0.6288163109271624, -0.2819767637068381, 2.2988019665203265]}, {\"histfunc\": \"count\", \"histnorm\": \"\", \"marker\": {\"color\": \"rgba(128, 0, 128, 1.0)\", \"line\": {\"color\": \"#4D5663\", \"width\": 1.3}}, \"name\": \"D\", \"nbinsx\": 50, \"opacity\": 0.8, \"orientation\": \"v\", \"type\": \"histogram\", \"x\": [0.8338514606350064, -0.10584992645229413, -0.2706609825615641, 0.5996801983644825, 0.40359100466599535, 2.641790207427108, 0.13224103676807694, 0.35313713991942014, 1.144896307631846, 1.9946928047934107, -0.9171338011956501, -0.4791782716060962, -0.6726579700852056, 1.831020641813482, -0.1523547432486442, 0.3354427663278796, -2.441582962241704, 1.9715015842875654, 0.5494742773319939, 0.6145317653973147, -1.1806025799960154, 0.5155567640803262, -1.3242560220644943, 0.041700160836206965, 0.9468186268366223, -0.5619512409700159, -0.7413321342009079, 0.820528530608833, -0.6458138002254487, 0.050524454707551014, 0.862396604461523, 2.253816471768166, 0.4648313687438735, -0.16136990451619151, 2.1987705070284673, -0.5727987959263574, -1.7115241145055666, 2.073776369230856, 0.625241141366843, 1.5292209070329297, -0.5107014925784714, -0.31939413263433497, 0.646758037652685, -0.2779513216230143, -0.19124944161845978, 0.9571695847179208, -1.1048580560914822, -0.8984915407298146, 1.3273431506933735, -1.333150838500644, -0.1985793201190395, 2.019330939054003, 1.2948297395951902, -0.3749962350083088, 0.7563352984444898, 0.1117176438204793, 0.5872748114399307, -0.429718197605014, 1.1580569489872719, -0.7458610043235129, 0.8355882588036868, 0.42485291323705143, 0.4424168054773275, 0.14127394287620942, -0.6154617117321134, -0.5110598682054509, 0.13496982598516002, 1.0245401663215845, -2.0311036813716705, -1.0250819271742715, -1.8636033313844171, 0.8574905588910688, 0.049503038730056084, -0.4104207782106683, -0.13764615619265963, 0.2844344254242617, -0.7411574434948729, -0.9502016965746825, 0.8689197050008775, -1.9318681506349502, 0.471433643085626, 0.585171420032461, 0.6404961794771034, -0.22741488276623759, -1.0205085255341666, 0.05233227104990713, 0.49628856355218215, -0.8950524060645041, 1.8180841461402975, -0.817214388120829, 1.1765542892213678, 0.6038964891497567, -0.29640169240258973, 1.7917165418241447, -0.9923304082753172, 1.4156913840918108, -0.37184430284858083, 0.3670786989417944, -1.0405526567533496, 0.9209916696959721]}],\n",
       "                        {\"barmode\": \"overlay\", \"legend\": {\"bgcolor\": \"#F5F6F9\", \"font\": {\"color\": \"#4D5663\"}}, \"paper_bgcolor\": \"#F5F6F9\", \"plot_bgcolor\": \"#F5F6F9\", \"template\": {\"data\": {\"bar\": [{\"error_x\": {\"color\": \"#2a3f5f\"}, \"error_y\": {\"color\": \"#2a3f5f\"}, \"marker\": {\"line\": {\"color\": \"#E5ECF6\", \"width\": 0.5}}, \"type\": \"bar\"}], \"barpolar\": [{\"marker\": {\"line\": {\"color\": \"#E5ECF6\", \"width\": 0.5}}, \"type\": \"barpolar\"}], \"carpet\": [{\"aaxis\": {\"endlinecolor\": \"#2a3f5f\", \"gridcolor\": \"white\", \"linecolor\": \"white\", \"minorgridcolor\": \"white\", \"startlinecolor\": \"#2a3f5f\"}, \"baxis\": {\"endlinecolor\": \"#2a3f5f\", \"gridcolor\": \"white\", \"linecolor\": \"white\", \"minorgridcolor\": \"white\", \"startlinecolor\": \"#2a3f5f\"}, \"type\": \"carpet\"}], \"choropleth\": [{\"colorbar\": {\"outlinewidth\": 0, \"ticks\": \"\"}, \"type\": \"choropleth\"}], \"contour\": [{\"colorbar\": {\"outlinewidth\": 0, \"ticks\": \"\"}, \"colorscale\": [[0.0, \"#0d0887\"], [0.1111111111111111, \"#46039f\"], [0.2222222222222222, \"#7201a8\"], [0.3333333333333333, \"#9c179e\"], [0.4444444444444444, \"#bd3786\"], [0.5555555555555556, \"#d8576b\"], [0.6666666666666666, \"#ed7953\"], [0.7777777777777778, \"#fb9f3a\"], [0.8888888888888888, \"#fdca26\"], [1.0, \"#f0f921\"]], \"type\": \"contour\"}], \"contourcarpet\": [{\"colorbar\": {\"outlinewidth\": 0, \"ticks\": \"\"}, \"type\": \"contourcarpet\"}], \"heatmap\": [{\"colorbar\": {\"outlinewidth\": 0, \"ticks\": \"\"}, \"colorscale\": [[0.0, \"#0d0887\"], [0.1111111111111111, \"#46039f\"], [0.2222222222222222, \"#7201a8\"], [0.3333333333333333, \"#9c179e\"], [0.4444444444444444, \"#bd3786\"], [0.5555555555555556, \"#d8576b\"], [0.6666666666666666, \"#ed7953\"], [0.7777777777777778, \"#fb9f3a\"], [0.8888888888888888, \"#fdca26\"], [1.0, \"#f0f921\"]], \"type\": \"heatmap\"}], \"heatmapgl\": [{\"colorbar\": {\"outlinewidth\": 0, \"ticks\": \"\"}, \"colorscale\": [[0.0, \"#0d0887\"], [0.1111111111111111, \"#46039f\"], [0.2222222222222222, \"#7201a8\"], [0.3333333333333333, \"#9c179e\"], [0.4444444444444444, \"#bd3786\"], [0.5555555555555556, \"#d8576b\"], [0.6666666666666666, \"#ed7953\"], [0.7777777777777778, \"#fb9f3a\"], [0.8888888888888888, \"#fdca26\"], [1.0, \"#f0f921\"]], \"type\": \"heatmapgl\"}], \"histogram\": [{\"marker\": {\"colorbar\": {\"outlinewidth\": 0, \"ticks\": \"\"}}, \"type\": \"histogram\"}], \"histogram2d\": [{\"colorbar\": {\"outlinewidth\": 0, \"ticks\": \"\"}, \"colorscale\": [[0.0, \"#0d0887\"], [0.1111111111111111, \"#46039f\"], [0.2222222222222222, \"#7201a8\"], [0.3333333333333333, \"#9c179e\"], [0.4444444444444444, \"#bd3786\"], [0.5555555555555556, \"#d8576b\"], [0.6666666666666666, \"#ed7953\"], [0.7777777777777778, \"#fb9f3a\"], [0.8888888888888888, \"#fdca26\"], [1.0, \"#f0f921\"]], \"type\": \"histogram2d\"}], \"histogram2dcontour\": [{\"colorbar\": {\"outlinewidth\": 0, \"ticks\": \"\"}, \"colorscale\": [[0.0, \"#0d0887\"], [0.1111111111111111, \"#46039f\"], [0.2222222222222222, \"#7201a8\"], [0.3333333333333333, \"#9c179e\"], [0.4444444444444444, \"#bd3786\"], [0.5555555555555556, \"#d8576b\"], [0.6666666666666666, \"#ed7953\"], [0.7777777777777778, \"#fb9f3a\"], [0.8888888888888888, \"#fdca26\"], [1.0, \"#f0f921\"]], \"type\": \"histogram2dcontour\"}], \"mesh3d\": [{\"colorbar\": {\"outlinewidth\": 0, \"ticks\": \"\"}, \"type\": \"mesh3d\"}], \"parcoords\": [{\"line\": {\"colorbar\": {\"outlinewidth\": 0, \"ticks\": \"\"}}, \"type\": \"parcoords\"}], \"pie\": [{\"automargin\": true, \"type\": \"pie\"}], \"scatter\": [{\"marker\": {\"colorbar\": {\"outlinewidth\": 0, \"ticks\": \"\"}}, \"type\": \"scatter\"}], \"scatter3d\": [{\"line\": {\"colorbar\": {\"outlinewidth\": 0, \"ticks\": \"\"}}, \"marker\": {\"colorbar\": {\"outlinewidth\": 0, \"ticks\": \"\"}}, \"type\": \"scatter3d\"}], \"scattercarpet\": [{\"marker\": {\"colorbar\": {\"outlinewidth\": 0, \"ticks\": \"\"}}, \"type\": \"scattercarpet\"}], \"scattergeo\": [{\"marker\": {\"colorbar\": {\"outlinewidth\": 0, \"ticks\": \"\"}}, \"type\": \"scattergeo\"}], \"scattergl\": [{\"marker\": {\"colorbar\": {\"outlinewidth\": 0, \"ticks\": \"\"}}, \"type\": \"scattergl\"}], \"scattermapbox\": [{\"marker\": {\"colorbar\": {\"outlinewidth\": 0, \"ticks\": \"\"}}, \"type\": \"scattermapbox\"}], \"scatterpolar\": [{\"marker\": {\"colorbar\": {\"outlinewidth\": 0, \"ticks\": \"\"}}, \"type\": \"scatterpolar\"}], \"scatterpolargl\": [{\"marker\": {\"colorbar\": {\"outlinewidth\": 0, \"ticks\": \"\"}}, \"type\": \"scatterpolargl\"}], \"scatterternary\": [{\"marker\": {\"colorbar\": {\"outlinewidth\": 0, \"ticks\": \"\"}}, \"type\": \"scatterternary\"}], \"surface\": [{\"colorbar\": {\"outlinewidth\": 0, \"ticks\": \"\"}, \"colorscale\": [[0.0, \"#0d0887\"], [0.1111111111111111, \"#46039f\"], [0.2222222222222222, \"#7201a8\"], [0.3333333333333333, \"#9c179e\"], [0.4444444444444444, \"#bd3786\"], [0.5555555555555556, \"#d8576b\"], [0.6666666666666666, \"#ed7953\"], [0.7777777777777778, \"#fb9f3a\"], [0.8888888888888888, \"#fdca26\"], [1.0, \"#f0f921\"]], \"type\": \"surface\"}], \"table\": [{\"cells\": {\"fill\": {\"color\": \"#EBF0F8\"}, \"line\": {\"color\": \"white\"}}, \"header\": {\"fill\": {\"color\": \"#C8D4E3\"}, \"line\": {\"color\": \"white\"}}, \"type\": \"table\"}]}, \"layout\": {\"annotationdefaults\": {\"arrowcolor\": \"#2a3f5f\", \"arrowhead\": 0, \"arrowwidth\": 1}, \"coloraxis\": {\"colorbar\": {\"outlinewidth\": 0, \"ticks\": \"\"}}, \"colorscale\": {\"diverging\": [[0, \"#8e0152\"], [0.1, \"#c51b7d\"], [0.2, \"#de77ae\"], [0.3, \"#f1b6da\"], [0.4, \"#fde0ef\"], [0.5, \"#f7f7f7\"], [0.6, \"#e6f5d0\"], [0.7, \"#b8e186\"], [0.8, \"#7fbc41\"], [0.9, \"#4d9221\"], [1, \"#276419\"]], \"sequential\": [[0.0, \"#0d0887\"], [0.1111111111111111, \"#46039f\"], [0.2222222222222222, \"#7201a8\"], [0.3333333333333333, \"#9c179e\"], [0.4444444444444444, \"#bd3786\"], [0.5555555555555556, \"#d8576b\"], [0.6666666666666666, \"#ed7953\"], [0.7777777777777778, \"#fb9f3a\"], [0.8888888888888888, \"#fdca26\"], [1.0, \"#f0f921\"]], \"sequentialminus\": [[0.0, \"#0d0887\"], [0.1111111111111111, \"#46039f\"], [0.2222222222222222, \"#7201a8\"], [0.3333333333333333, \"#9c179e\"], [0.4444444444444444, \"#bd3786\"], [0.5555555555555556, \"#d8576b\"], [0.6666666666666666, \"#ed7953\"], [0.7777777777777778, \"#fb9f3a\"], [0.8888888888888888, \"#fdca26\"], [1.0, \"#f0f921\"]]}, \"colorway\": [\"#636efa\", \"#EF553B\", \"#00cc96\", \"#ab63fa\", \"#FFA15A\", \"#19d3f3\", \"#FF6692\", \"#B6E880\", \"#FF97FF\", \"#FECB52\"], \"font\": {\"color\": \"#2a3f5f\"}, \"geo\": {\"bgcolor\": \"white\", \"lakecolor\": \"white\", \"landcolor\": \"#E5ECF6\", \"showlakes\": true, \"showland\": true, \"subunitcolor\": \"white\"}, \"hoverlabel\": {\"align\": \"left\"}, \"hovermode\": \"closest\", \"mapbox\": {\"style\": \"light\"}, \"paper_bgcolor\": \"white\", \"plot_bgcolor\": \"#E5ECF6\", \"polar\": {\"angularaxis\": {\"gridcolor\": \"white\", \"linecolor\": \"white\", \"ticks\": \"\"}, \"bgcolor\": \"#E5ECF6\", \"radialaxis\": {\"gridcolor\": \"white\", \"linecolor\": \"white\", \"ticks\": \"\"}}, \"scene\": {\"xaxis\": {\"backgroundcolor\": \"#E5ECF6\", \"gridcolor\": \"white\", \"gridwidth\": 2, \"linecolor\": \"white\", \"showbackground\": true, \"ticks\": \"\", \"zerolinecolor\": \"white\"}, \"yaxis\": {\"backgroundcolor\": \"#E5ECF6\", \"gridcolor\": \"white\", \"gridwidth\": 2, \"linecolor\": \"white\", \"showbackground\": true, \"ticks\": \"\", \"zerolinecolor\": \"white\"}, \"zaxis\": {\"backgroundcolor\": \"#E5ECF6\", \"gridcolor\": \"white\", \"gridwidth\": 2, \"linecolor\": \"white\", \"showbackground\": true, \"ticks\": \"\", \"zerolinecolor\": \"white\"}}, \"shapedefaults\": {\"line\": {\"color\": \"#2a3f5f\"}}, \"ternary\": {\"aaxis\": {\"gridcolor\": \"white\", \"linecolor\": \"white\", \"ticks\": \"\"}, \"baxis\": {\"gridcolor\": \"white\", \"linecolor\": \"white\", \"ticks\": \"\"}, \"bgcolor\": \"#E5ECF6\", \"caxis\": {\"gridcolor\": \"white\", \"linecolor\": \"white\", \"ticks\": \"\"}}, \"title\": {\"x\": 0.05}, \"xaxis\": {\"automargin\": true, \"gridcolor\": \"white\", \"linecolor\": \"white\", \"ticks\": \"\", \"title\": {\"standoff\": 15}, \"zerolinecolor\": \"white\", \"zerolinewidth\": 2}, \"yaxis\": {\"automargin\": true, \"gridcolor\": \"white\", \"linecolor\": \"white\", \"ticks\": \"\", \"title\": {\"standoff\": 15}, \"zerolinecolor\": \"white\", \"zerolinewidth\": 2}}}, \"title\": {\"font\": {\"color\": \"#4D5663\"}}, \"xaxis\": {\"gridcolor\": \"#E1E5ED\", \"showgrid\": true, \"tickfont\": {\"color\": \"#4D5663\"}, \"title\": {\"font\": {\"color\": \"#4D5663\"}, \"text\": \"\"}, \"zerolinecolor\": \"#E1E5ED\"}, \"yaxis\": {\"gridcolor\": \"#E1E5ED\", \"showgrid\": true, \"tickfont\": {\"color\": \"#4D5663\"}, \"title\": {\"font\": {\"color\": \"#4D5663\"}, \"text\": \"\"}, \"zerolinecolor\": \"#E1E5ED\"}},\n",
       "                        {\"showLink\": true, \"linkText\": \"Export to plot.ly\", \"plotlyServerURL\": \"https://plot.ly\", \"responsive\": true}\n",
       "                    ).then(function(){\n",
       "                            \n",
       "var gd = document.getElementById('c2024e2e-b838-4746-9f5b-c276d644abf0');\n",
       "var x = new MutationObserver(function (mutations, observer) {{\n",
       "        var display = window.getComputedStyle(gd).display;\n",
       "        if (!display || display === 'none') {{\n",
       "            console.log([gd, 'removed!']);\n",
       "            Plotly.purge(gd);\n",
       "            observer.disconnect();\n",
       "        }}\n",
       "}});\n",
       "\n",
       "// Listen for the removal of the full notebook cells\n",
       "var notebookContainer = gd.closest('#notebook-container');\n",
       "if (notebookContainer) {{\n",
       "    x.observe(notebookContainer, {childList: true});\n",
       "}}\n",
       "\n",
       "// Listen for the clearing of the current output cell\n",
       "var outputEl = gd.closest('.output');\n",
       "if (outputEl) {{\n",
       "    x.observe(outputEl, {childList: true});\n",
       "}}\n",
       "\n",
       "                        })\n",
       "                };\n",
       "                });\n",
       "            </script>\n",
       "        </div>"
      ]
     },
     "metadata": {},
     "output_type": "display_data"
    }
   ],
   "source": [
    "df.iplot(kind='hist',bins=50)"
   ]
  },
  {
   "cell_type": "code",
   "execution_count": 39,
   "metadata": {},
   "outputs": [
    {
     "data": {
      "application/vnd.plotly.v1+json": {
       "config": {
        "linkText": "Export to plot.ly",
        "plotlyServerURL": "https://plot.ly",
        "showLink": true
       },
       "data": [
        {
         "line": {
          "color": "rgba(255, 153, 51, 1.0)",
          "dash": "solid",
          "shape": "linear",
          "width": 1.3
         },
         "mode": "lines",
         "name": "A",
         "text": "",
         "type": "scatter",
         "x": [
          0,
          1,
          2,
          3,
          4,
          5,
          6,
          7,
          8,
          9,
          10,
          11,
          12,
          13,
          14,
          15,
          16,
          17,
          18,
          19,
          20,
          21,
          22,
          23,
          24,
          25,
          26,
          27,
          28,
          29,
          30,
          31,
          32,
          33,
          34,
          35,
          36,
          37,
          38,
          39,
          40,
          41,
          42,
          43,
          44,
          45,
          46,
          47,
          48,
          49,
          50,
          51,
          52,
          53,
          54,
          55,
          56,
          57,
          58,
          59,
          60,
          61,
          62,
          63,
          64,
          65,
          66,
          67,
          68,
          69,
          70,
          71,
          72,
          73,
          74,
          75,
          76,
          77,
          78,
          79,
          80,
          81,
          82,
          83,
          84,
          85,
          86,
          87,
          88,
          89,
          90,
          91,
          92,
          93,
          94,
          95,
          96,
          97,
          98,
          99
         ],
         "y": [
          -0.171640601897393,
          -0.43651310026760143,
          0.1915612390123302,
          -1.056703312019151,
          0.4223324960551365,
          1.2877468203367912,
          -0.5709727518406853,
          2.1648676554773516,
          -1.2710537136872033,
          0.16778935785866875,
          1.0923398653718392,
          0.4925306791099881,
          -0.703668513206629,
          -1.4524459966421268,
          -1.2744387261513341,
          0.48551604613423355,
          -0.08955322711220023,
          -0.29027573121328615,
          0.7745650160804478,
          -1.1099619262798022,
          -1.9683383872344231,
          -0.29436352576008007,
          -0.6114534149828592,
          -0.6016002569315776,
          0.6621081449698877,
          0.21266807621964742,
          -0.14196204190623365,
          0.8455808080508328,
          2.218513523093423,
          1.225509030816993,
          -0.05744835346384874,
          -0.11673789320091013,
          -0.30301635565632434,
          -0.6627327489766144,
          -0.294755132084432,
          -0.133052082126597,
          -0.7027262561520775,
          0.21363941721995688,
          0.7533029620632767,
          0.9161599146948339,
          -0.38695616486884626,
          0.19596958959686875,
          2.1597457209110167,
          1.6330219307099394,
          -0.053064503558190354,
          0.6603445747130693,
          0.3207945904648976,
          -1.1050354243244225,
          1.5637954578971218,
          1.2541918745480611,
          -2.095064611555383,
          -0.7845842103111716,
          -0.19468049802855614,
          -0.4014548287149151,
          0.3407950800545804,
          0.03272595875779687,
          -1.3056241417427392,
          0.7438543233795972,
          -1.3227506872869208,
          1.0784707979095176,
          -0.815334722857213,
          -0.5373819359409527,
          -1.0606203281249487,
          0.441700587416723,
          -0.32878279305935415,
          -0.46581137917888865,
          -1.0904053135674916,
          -1.26924927808231,
          0.31270617806826667,
          0.6970749712875615,
          0.3153736148451356,
          -0.45080146910650637,
          -0.2720063615339261,
          1.4044677356602207,
          -0.019348041080346393,
          1.1049428128294767,
          -2.377128291270848,
          -1.5073793637973727,
          -0.926666748211941,
          1.8579700229276017,
          -1.2116095443091348,
          0.8236413783722552,
          -0.32430248425442165,
          2.0906677707983916,
          -0.7044681959680065,
          -0.1546026406012769,
          -0.9385406062305209,
          -0.8692498584291668,
          -2.3768058600922677,
          -2.4065090278566914,
          1.7172860060023276,
          0.16700914108697476,
          -1.0892987171083033,
          1.1821925982620303,
          0.3761064908178598,
          -0.6081613870137292,
          0.5683748477954369,
          -0.2666353852917895,
          0.9020386387275965,
          0.22303842334880358
         ]
        },
        {
         "line": {
          "color": "rgba(55, 128, 191, 1.0)",
          "dash": "solid",
          "shape": "linear",
          "width": 1.3
         },
         "mode": "lines",
         "name": "B",
         "text": "",
         "type": "scatter",
         "x": [
          0,
          1,
          2,
          3,
          4,
          5,
          6,
          7,
          8,
          9,
          10,
          11,
          12,
          13,
          14,
          15,
          16,
          17,
          18,
          19,
          20,
          21,
          22,
          23,
          24,
          25,
          26,
          27,
          28,
          29,
          30,
          31,
          32,
          33,
          34,
          35,
          36,
          37,
          38,
          39,
          40,
          41,
          42,
          43,
          44,
          45,
          46,
          47,
          48,
          49,
          50,
          51,
          52,
          53,
          54,
          55,
          56,
          57,
          58,
          59,
          60,
          61,
          62,
          63,
          64,
          65,
          66,
          67,
          68,
          69,
          70,
          71,
          72,
          73,
          74,
          75,
          76,
          77,
          78,
          79,
          80,
          81,
          82,
          83,
          84,
          85,
          86,
          87,
          88,
          89,
          90,
          91,
          92,
          93,
          94,
          95,
          96,
          97,
          98,
          99
         ],
         "y": [
          0.5484513444208927,
          -2.3254372400024663,
          -0.17768498503930882,
          -0.0413575571659648,
          1.0377678595702458,
          -0.7116014651027107,
          0.26857162154881,
          1.5290566395723573,
          -0.2567586755527022,
          -0.357121113255171,
          0.8094544672338446,
          -0.18796083964617127,
          -0.027477640202128045,
          -0.11870292311303313,
          -2.269461527526842,
          1.5955328577357266,
          -0.8644545357821648,
          -1.8642968220350373,
          0.09017916692978532,
          -1.344766726938334,
          1.1745824220442214,
          -0.8414367236253527,
          -0.7884004277579315,
          -0.1489331864549383,
          0.7728688387695918,
          -2.1409153230074534,
          0.34821592049908134,
          -0.27498245733340865,
          0.6490421722801153,
          -0.3095015003082018,
          1.3755435096077888,
          0.5295635663635087,
          0.3035655123758679,
          -0.15702303716074245,
          1.1704292564472734,
          -1.52193050513255,
          -0.17304696512117046,
          0.500742618651033,
          -2.411263379463824,
          -0.2764586244288876,
          -0.9354022868432563,
          1.6180987037807752,
          -0.5850556670966817,
          0.8064515288677078,
          -0.1925316499670654,
          2.1249498691984603,
          0.28824678756934996,
          1.0808924511417874,
          -1.0991069038596877,
          2.8523270968784757,
          -0.1462276160136622,
          -0.7269456317989939,
          1.009683169084365,
          -0.9128087165867703,
          2.739386314769789,
          -1.3757622114686658,
          1.4407905278507112,
          -2.1437891180414965,
          -0.8685438816408083,
          -1.0684204255937035,
          -1.3909622043143515,
          -1.708519617763413,
          -1.033225258404668,
          -0.9273179566800895,
          0.9622755612144613,
          0.4036958283171158,
          -2.066620915349806,
          -0.5313498777603,
          -0.37213553235231156,
          0.5566243901674788,
          0.46809411497026965,
          0.03231282758546965,
          1.5950315245268063,
          -0.8677057971639819,
          0.5934132541166431,
          0.6665791844271618,
          -1.070293341617307,
          0.23247746328414118,
          0.1636105945212715,
          1.3847638680189123,
          -0.7468787389615569,
          -0.6336863846695935,
          -0.15418321052239078,
          -0.022964779182480508,
          0.13067056650667006,
          -0.8346647281545524,
          -0.08276756281076375,
          -0.23593108329391443,
          1.4223691939157483,
          -1.475177034806321,
          -0.5631133271333681,
          -0.9498587583942311,
          -1.1180928581281955,
          -1.9290450825993415,
          0.22878195896987918,
          -1.16846732408735,
          -1.201800804545687,
          0.6324538976960572,
          -0.1723277128840355,
          0.2296303534317323
         ]
        },
        {
         "connectgaps": false,
         "fill": "tozeroy",
         "line": {
          "color": "green",
          "dash": "solid",
          "shape": "linear",
          "width": 0.5
         },
         "mode": "lines",
         "name": "Spread",
         "showlegend": false,
         "type": "scatter",
         "x": [
          0,
          1,
          2,
          3,
          4,
          5,
          6,
          7,
          8,
          9,
          10,
          11,
          12,
          13,
          14,
          15,
          16,
          17,
          18,
          19,
          20,
          21,
          22,
          23,
          24,
          25,
          26,
          27,
          28,
          29,
          30,
          31,
          32,
          33,
          34,
          35,
          36,
          37,
          38,
          39,
          40,
          41,
          42,
          43,
          44,
          45,
          46,
          47,
          48,
          49,
          50,
          51,
          52,
          53,
          54,
          55,
          56,
          57,
          58,
          59,
          60,
          61,
          62,
          63,
          64,
          65,
          66,
          67,
          68,
          69,
          70,
          71,
          72,
          73,
          74,
          75,
          76,
          77,
          78,
          79,
          80,
          81,
          82,
          83,
          84,
          85,
          86,
          87,
          88,
          89,
          90,
          91,
          92,
          93,
          94,
          95,
          96,
          97,
          98,
          99
         ],
         "xaxis": "x2",
         "y": [
          "",
          1.8889241397348648,
          0.369246224051639,
          "",
          "",
          1.999348285439502,
          "",
          0.6358110159049943,
          "",
          0.5249104711138397,
          0.2828853981379946,
          0.6804915187561593,
          "",
          "",
          0.9950228013755078,
          "",
          0.7749013086699645,
          1.5740210908217511,
          0.6843858491506625,
          0.23480480065853193,
          "",
          0.5470731978652726,
          0.1769470127750723,
          "",
          "",
          2.3535833992271007,
          "",
          1.1205632653842414,
          1.5694713508133078,
          1.5350105311251947,
          "",
          "",
          "",
          "",
          "",
          1.388878423005953,
          "",
          "",
          3.1645663415271006,
          1.1926185391237216,
          0.5484461219744101,
          "",
          2.7448013880076982,
          0.8265704018422316,
          0.13946714640887503,
          "",
          0.03254780289554765,
          "",
          2.6629023617568093,
          "",
          "",
          "",
          "",
          0.5113538878718552,
          "",
          1.4084881702264627,
          "",
          2.8876434414210936,
          "",
          2.1468912235032214,
          0.5756274814571385,
          1.1711376818224601,
          "",
          1.3690185440968126,
          "",
          "",
          0.9762156017823145,
          "",
          0.6848417104205782,
          0.14045058112008268,
          "",
          "",
          "",
          2.2721735328242025,
          "",
          0.4383636284023149,
          "",
          "",
          "",
          0.47320615490868945,
          "",
          1.4573277630418486,
          "",
          2.113632549980872,
          "",
          0.6800620875532755,
          "",
          "",
          "",
          "",
          2.280399333135696,
          1.1168678994812058,
          0.028794141019892194,
          3.1112376808613718,
          0.1473245318479806,
          0.5603059370736208,
          1.7701756523411238,
          "",
          1.074366351611632,
          ""
         ],
         "yaxis": "y2"
        },
        {
         "connectgaps": false,
         "fill": "tozeroy",
         "line": {
          "color": "red",
          "dash": "solid",
          "shape": "linear",
          "width": 0.5
         },
         "mode": "lines",
         "name": "Spread",
         "showlegend": false,
         "type": "scatter",
         "x": [
          0,
          1,
          2,
          3,
          4,
          5,
          6,
          7,
          8,
          9,
          10,
          11,
          12,
          13,
          14,
          15,
          16,
          17,
          18,
          19,
          20,
          21,
          22,
          23,
          24,
          25,
          26,
          27,
          28,
          29,
          30,
          31,
          32,
          33,
          34,
          35,
          36,
          37,
          38,
          39,
          40,
          41,
          42,
          43,
          44,
          45,
          46,
          47,
          48,
          49,
          50,
          51,
          52,
          53,
          54,
          55,
          56,
          57,
          58,
          59,
          60,
          61,
          62,
          63,
          64,
          65,
          66,
          67,
          68,
          69,
          70,
          71,
          72,
          73,
          74,
          75,
          76,
          77,
          78,
          79,
          80,
          81,
          82,
          83,
          84,
          85,
          86,
          87,
          88,
          89,
          90,
          91,
          92,
          93,
          94,
          95,
          96,
          97,
          98,
          99
         ],
         "xaxis": "x2",
         "y": [
          -0.7200919463182858,
          "",
          "",
          -1.0153457548531861,
          -0.6154353635151093,
          "",
          -0.8395443733894953,
          "",
          -1.014295038134501,
          "",
          "",
          "",
          -0.676190873004501,
          -1.3337430735290936,
          "",
          -1.110016811601493,
          "",
          "",
          "",
          "",
          -3.1429208092786443,
          "",
          "",
          -0.4526670704766393,
          -0.1107606937997041,
          "",
          -0.49017796240531497,
          "",
          "",
          "",
          -1.4329918630716376,
          -0.6463014595644188,
          -0.6065818680321922,
          -0.505709711815872,
          -1.4651843885317053,
          "",
          -0.529679291030907,
          -0.2871032014310761,
          "",
          "",
          "",
          -1.4221291141839065,
          "",
          "",
          "",
          -1.464605294485391,
          "",
          -2.18592787546621,
          "",
          -1.5981352223304146,
          -1.9488369955417209,
          -0.057638578512177796,
          -1.2043636671129212,
          "",
          -2.3985912347152087,
          "",
          -2.7464146695934506,
          "",
          -0.4542068056461125,
          "",
          "",
          "",
          -0.027395069720280718,
          "",
          -1.2910583542738154,
          -0.8695072074960044,
          "",
          -0.73789940032201,
          "",
          "",
          -0.15272050012513405,
          -0.48311429669197603,
          -1.8670378860607324,
          "",
          -0.6127612951969895,
          "",
          -1.3068349496535407,
          -1.7398568270815138,
          -1.0902773427332124,
          "",
          -0.46473080534757794,
          "",
          -0.17011927373203087,
          "",
          -0.8351387624746766,
          "",
          -0.8557730434197572,
          -0.6333187751352524,
          -3.799175054008016,
          -0.9313319930503705,
          "",
          "",
          "",
          "",
          "",
          "",
          "",
          -0.8990892829878467,
          "",
          -0.006591930082928715
         ],
         "yaxis": "y2"
        }
       ],
       "layout": {
        "hovermode": "x",
        "legend": {
         "bgcolor": "#F5F6F9",
         "font": {
          "color": "#4D5663"
         }
        },
        "paper_bgcolor": "#F5F6F9",
        "plot_bgcolor": "#F5F6F9",
        "template": {
         "data": {
          "bar": [
           {
            "error_x": {
             "color": "#2a3f5f"
            },
            "error_y": {
             "color": "#2a3f5f"
            },
            "marker": {
             "line": {
              "color": "#E5ECF6",
              "width": 0.5
             }
            },
            "type": "bar"
           }
          ],
          "barpolar": [
           {
            "marker": {
             "line": {
              "color": "#E5ECF6",
              "width": 0.5
             }
            },
            "type": "barpolar"
           }
          ],
          "carpet": [
           {
            "aaxis": {
             "endlinecolor": "#2a3f5f",
             "gridcolor": "white",
             "linecolor": "white",
             "minorgridcolor": "white",
             "startlinecolor": "#2a3f5f"
            },
            "baxis": {
             "endlinecolor": "#2a3f5f",
             "gridcolor": "white",
             "linecolor": "white",
             "minorgridcolor": "white",
             "startlinecolor": "#2a3f5f"
            },
            "type": "carpet"
           }
          ],
          "choropleth": [
           {
            "colorbar": {
             "outlinewidth": 0,
             "ticks": ""
            },
            "type": "choropleth"
           }
          ],
          "contour": [
           {
            "colorbar": {
             "outlinewidth": 0,
             "ticks": ""
            },
            "colorscale": [
             [
              0,
              "#0d0887"
             ],
             [
              0.1111111111111111,
              "#46039f"
             ],
             [
              0.2222222222222222,
              "#7201a8"
             ],
             [
              0.3333333333333333,
              "#9c179e"
             ],
             [
              0.4444444444444444,
              "#bd3786"
             ],
             [
              0.5555555555555556,
              "#d8576b"
             ],
             [
              0.6666666666666666,
              "#ed7953"
             ],
             [
              0.7777777777777778,
              "#fb9f3a"
             ],
             [
              0.8888888888888888,
              "#fdca26"
             ],
             [
              1,
              "#f0f921"
             ]
            ],
            "type": "contour"
           }
          ],
          "contourcarpet": [
           {
            "colorbar": {
             "outlinewidth": 0,
             "ticks": ""
            },
            "type": "contourcarpet"
           }
          ],
          "heatmap": [
           {
            "colorbar": {
             "outlinewidth": 0,
             "ticks": ""
            },
            "colorscale": [
             [
              0,
              "#0d0887"
             ],
             [
              0.1111111111111111,
              "#46039f"
             ],
             [
              0.2222222222222222,
              "#7201a8"
             ],
             [
              0.3333333333333333,
              "#9c179e"
             ],
             [
              0.4444444444444444,
              "#bd3786"
             ],
             [
              0.5555555555555556,
              "#d8576b"
             ],
             [
              0.6666666666666666,
              "#ed7953"
             ],
             [
              0.7777777777777778,
              "#fb9f3a"
             ],
             [
              0.8888888888888888,
              "#fdca26"
             ],
             [
              1,
              "#f0f921"
             ]
            ],
            "type": "heatmap"
           }
          ],
          "heatmapgl": [
           {
            "colorbar": {
             "outlinewidth": 0,
             "ticks": ""
            },
            "colorscale": [
             [
              0,
              "#0d0887"
             ],
             [
              0.1111111111111111,
              "#46039f"
             ],
             [
              0.2222222222222222,
              "#7201a8"
             ],
             [
              0.3333333333333333,
              "#9c179e"
             ],
             [
              0.4444444444444444,
              "#bd3786"
             ],
             [
              0.5555555555555556,
              "#d8576b"
             ],
             [
              0.6666666666666666,
              "#ed7953"
             ],
             [
              0.7777777777777778,
              "#fb9f3a"
             ],
             [
              0.8888888888888888,
              "#fdca26"
             ],
             [
              1,
              "#f0f921"
             ]
            ],
            "type": "heatmapgl"
           }
          ],
          "histogram": [
           {
            "marker": {
             "colorbar": {
              "outlinewidth": 0,
              "ticks": ""
             }
            },
            "type": "histogram"
           }
          ],
          "histogram2d": [
           {
            "colorbar": {
             "outlinewidth": 0,
             "ticks": ""
            },
            "colorscale": [
             [
              0,
              "#0d0887"
             ],
             [
              0.1111111111111111,
              "#46039f"
             ],
             [
              0.2222222222222222,
              "#7201a8"
             ],
             [
              0.3333333333333333,
              "#9c179e"
             ],
             [
              0.4444444444444444,
              "#bd3786"
             ],
             [
              0.5555555555555556,
              "#d8576b"
             ],
             [
              0.6666666666666666,
              "#ed7953"
             ],
             [
              0.7777777777777778,
              "#fb9f3a"
             ],
             [
              0.8888888888888888,
              "#fdca26"
             ],
             [
              1,
              "#f0f921"
             ]
            ],
            "type": "histogram2d"
           }
          ],
          "histogram2dcontour": [
           {
            "colorbar": {
             "outlinewidth": 0,
             "ticks": ""
            },
            "colorscale": [
             [
              0,
              "#0d0887"
             ],
             [
              0.1111111111111111,
              "#46039f"
             ],
             [
              0.2222222222222222,
              "#7201a8"
             ],
             [
              0.3333333333333333,
              "#9c179e"
             ],
             [
              0.4444444444444444,
              "#bd3786"
             ],
             [
              0.5555555555555556,
              "#d8576b"
             ],
             [
              0.6666666666666666,
              "#ed7953"
             ],
             [
              0.7777777777777778,
              "#fb9f3a"
             ],
             [
              0.8888888888888888,
              "#fdca26"
             ],
             [
              1,
              "#f0f921"
             ]
            ],
            "type": "histogram2dcontour"
           }
          ],
          "mesh3d": [
           {
            "colorbar": {
             "outlinewidth": 0,
             "ticks": ""
            },
            "type": "mesh3d"
           }
          ],
          "parcoords": [
           {
            "line": {
             "colorbar": {
              "outlinewidth": 0,
              "ticks": ""
             }
            },
            "type": "parcoords"
           }
          ],
          "pie": [
           {
            "automargin": true,
            "type": "pie"
           }
          ],
          "scatter": [
           {
            "marker": {
             "colorbar": {
              "outlinewidth": 0,
              "ticks": ""
             }
            },
            "type": "scatter"
           }
          ],
          "scatter3d": [
           {
            "line": {
             "colorbar": {
              "outlinewidth": 0,
              "ticks": ""
             }
            },
            "marker": {
             "colorbar": {
              "outlinewidth": 0,
              "ticks": ""
             }
            },
            "type": "scatter3d"
           }
          ],
          "scattercarpet": [
           {
            "marker": {
             "colorbar": {
              "outlinewidth": 0,
              "ticks": ""
             }
            },
            "type": "scattercarpet"
           }
          ],
          "scattergeo": [
           {
            "marker": {
             "colorbar": {
              "outlinewidth": 0,
              "ticks": ""
             }
            },
            "type": "scattergeo"
           }
          ],
          "scattergl": [
           {
            "marker": {
             "colorbar": {
              "outlinewidth": 0,
              "ticks": ""
             }
            },
            "type": "scattergl"
           }
          ],
          "scattermapbox": [
           {
            "marker": {
             "colorbar": {
              "outlinewidth": 0,
              "ticks": ""
             }
            },
            "type": "scattermapbox"
           }
          ],
          "scatterpolar": [
           {
            "marker": {
             "colorbar": {
              "outlinewidth": 0,
              "ticks": ""
             }
            },
            "type": "scatterpolar"
           }
          ],
          "scatterpolargl": [
           {
            "marker": {
             "colorbar": {
              "outlinewidth": 0,
              "ticks": ""
             }
            },
            "type": "scatterpolargl"
           }
          ],
          "scatterternary": [
           {
            "marker": {
             "colorbar": {
              "outlinewidth": 0,
              "ticks": ""
             }
            },
            "type": "scatterternary"
           }
          ],
          "surface": [
           {
            "colorbar": {
             "outlinewidth": 0,
             "ticks": ""
            },
            "colorscale": [
             [
              0,
              "#0d0887"
             ],
             [
              0.1111111111111111,
              "#46039f"
             ],
             [
              0.2222222222222222,
              "#7201a8"
             ],
             [
              0.3333333333333333,
              "#9c179e"
             ],
             [
              0.4444444444444444,
              "#bd3786"
             ],
             [
              0.5555555555555556,
              "#d8576b"
             ],
             [
              0.6666666666666666,
              "#ed7953"
             ],
             [
              0.7777777777777778,
              "#fb9f3a"
             ],
             [
              0.8888888888888888,
              "#fdca26"
             ],
             [
              1,
              "#f0f921"
             ]
            ],
            "type": "surface"
           }
          ],
          "table": [
           {
            "cells": {
             "fill": {
              "color": "#EBF0F8"
             },
             "line": {
              "color": "white"
             }
            },
            "header": {
             "fill": {
              "color": "#C8D4E3"
             },
             "line": {
              "color": "white"
             }
            },
            "type": "table"
           }
          ]
         },
         "layout": {
          "annotationdefaults": {
           "arrowcolor": "#2a3f5f",
           "arrowhead": 0,
           "arrowwidth": 1
          },
          "coloraxis": {
           "colorbar": {
            "outlinewidth": 0,
            "ticks": ""
           }
          },
          "colorscale": {
           "diverging": [
            [
             0,
             "#8e0152"
            ],
            [
             0.1,
             "#c51b7d"
            ],
            [
             0.2,
             "#de77ae"
            ],
            [
             0.3,
             "#f1b6da"
            ],
            [
             0.4,
             "#fde0ef"
            ],
            [
             0.5,
             "#f7f7f7"
            ],
            [
             0.6,
             "#e6f5d0"
            ],
            [
             0.7,
             "#b8e186"
            ],
            [
             0.8,
             "#7fbc41"
            ],
            [
             0.9,
             "#4d9221"
            ],
            [
             1,
             "#276419"
            ]
           ],
           "sequential": [
            [
             0,
             "#0d0887"
            ],
            [
             0.1111111111111111,
             "#46039f"
            ],
            [
             0.2222222222222222,
             "#7201a8"
            ],
            [
             0.3333333333333333,
             "#9c179e"
            ],
            [
             0.4444444444444444,
             "#bd3786"
            ],
            [
             0.5555555555555556,
             "#d8576b"
            ],
            [
             0.6666666666666666,
             "#ed7953"
            ],
            [
             0.7777777777777778,
             "#fb9f3a"
            ],
            [
             0.8888888888888888,
             "#fdca26"
            ],
            [
             1,
             "#f0f921"
            ]
           ],
           "sequentialminus": [
            [
             0,
             "#0d0887"
            ],
            [
             0.1111111111111111,
             "#46039f"
            ],
            [
             0.2222222222222222,
             "#7201a8"
            ],
            [
             0.3333333333333333,
             "#9c179e"
            ],
            [
             0.4444444444444444,
             "#bd3786"
            ],
            [
             0.5555555555555556,
             "#d8576b"
            ],
            [
             0.6666666666666666,
             "#ed7953"
            ],
            [
             0.7777777777777778,
             "#fb9f3a"
            ],
            [
             0.8888888888888888,
             "#fdca26"
            ],
            [
             1,
             "#f0f921"
            ]
           ]
          },
          "colorway": [
           "#636efa",
           "#EF553B",
           "#00cc96",
           "#ab63fa",
           "#FFA15A",
           "#19d3f3",
           "#FF6692",
           "#B6E880",
           "#FF97FF",
           "#FECB52"
          ],
          "font": {
           "color": "#2a3f5f"
          },
          "geo": {
           "bgcolor": "white",
           "lakecolor": "white",
           "landcolor": "#E5ECF6",
           "showlakes": true,
           "showland": true,
           "subunitcolor": "white"
          },
          "hoverlabel": {
           "align": "left"
          },
          "hovermode": "closest",
          "mapbox": {
           "style": "light"
          },
          "paper_bgcolor": "white",
          "plot_bgcolor": "#E5ECF6",
          "polar": {
           "angularaxis": {
            "gridcolor": "white",
            "linecolor": "white",
            "ticks": ""
           },
           "bgcolor": "#E5ECF6",
           "radialaxis": {
            "gridcolor": "white",
            "linecolor": "white",
            "ticks": ""
           }
          },
          "scene": {
           "xaxis": {
            "backgroundcolor": "#E5ECF6",
            "gridcolor": "white",
            "gridwidth": 2,
            "linecolor": "white",
            "showbackground": true,
            "ticks": "",
            "zerolinecolor": "white"
           },
           "yaxis": {
            "backgroundcolor": "#E5ECF6",
            "gridcolor": "white",
            "gridwidth": 2,
            "linecolor": "white",
            "showbackground": true,
            "ticks": "",
            "zerolinecolor": "white"
           },
           "zaxis": {
            "backgroundcolor": "#E5ECF6",
            "gridcolor": "white",
            "gridwidth": 2,
            "linecolor": "white",
            "showbackground": true,
            "ticks": "",
            "zerolinecolor": "white"
           }
          },
          "shapedefaults": {
           "line": {
            "color": "#2a3f5f"
           }
          },
          "ternary": {
           "aaxis": {
            "gridcolor": "white",
            "linecolor": "white",
            "ticks": ""
           },
           "baxis": {
            "gridcolor": "white",
            "linecolor": "white",
            "ticks": ""
           },
           "bgcolor": "#E5ECF6",
           "caxis": {
            "gridcolor": "white",
            "linecolor": "white",
            "ticks": ""
           }
          },
          "title": {
           "x": 0.05
          },
          "xaxis": {
           "automargin": true,
           "gridcolor": "white",
           "linecolor": "white",
           "ticks": "",
           "title": {
            "standoff": 15
           },
           "zerolinecolor": "white",
           "zerolinewidth": 2
          },
          "yaxis": {
           "automargin": true,
           "gridcolor": "white",
           "linecolor": "white",
           "ticks": "",
           "title": {
            "standoff": 15
           },
           "zerolinecolor": "white",
           "zerolinewidth": 2
          }
         }
        },
        "title": {
         "font": {
          "color": "#4D5663"
         }
        },
        "xaxis": {
         "gridcolor": "#E1E5ED",
         "showgrid": true,
         "tickfont": {
          "color": "#4D5663"
         },
         "title": {
          "font": {
           "color": "#4D5663"
          },
          "text": ""
         },
         "zerolinecolor": "#E1E5ED"
        },
        "xaxis2": {
         "anchor": "y2",
         "gridcolor": "#E1E5ED",
         "showgrid": true,
         "showticklabels": false,
         "tickfont": {
          "color": "#4D5663"
         },
         "title": {
          "font": {
           "color": "#4D5663"
          },
          "text": ""
         },
         "zerolinecolor": "#E1E5ED"
        },
        "yaxis": {
         "domain": [
          0.3,
          1
         ],
         "gridcolor": "#E1E5ED",
         "showgrid": true,
         "tickfont": {
          "color": "#4D5663"
         },
         "title": {
          "font": {
           "color": "#4D5663"
          },
          "text": ""
         },
         "zerolinecolor": "#E1E5ED"
        },
        "yaxis2": {
         "domain": [
          0,
          0.25
         ],
         "gridcolor": "#E1E5ED",
         "showgrid": true,
         "tickfont": {
          "color": "#4D5663"
         },
         "title": {
          "font": {
           "color": "#4D5663"
          },
          "text": "Spread"
         },
         "zerolinecolor": "#E1E5ED"
        }
       }
      },
      "text/html": [
       "<div>\n",
       "        \n",
       "        \n",
       "            <div id=\"a408cca7-efec-4c52-a8e6-f11ee41f011f\" class=\"plotly-graph-div\" style=\"height:525px; width:100%;\"></div>\n",
       "            <script type=\"text/javascript\">\n",
       "                require([\"plotly\"], function(Plotly) {\n",
       "                    window.PLOTLYENV=window.PLOTLYENV || {};\n",
       "                    window.PLOTLYENV.BASE_URL='https://plot.ly';\n",
       "                    \n",
       "                if (document.getElementById(\"a408cca7-efec-4c52-a8e6-f11ee41f011f\")) {\n",
       "                    Plotly.newPlot(\n",
       "                        'a408cca7-efec-4c52-a8e6-f11ee41f011f',\n",
       "                        [{\"line\": {\"color\": \"rgba(255, 153, 51, 1.0)\", \"dash\": \"solid\", \"shape\": \"linear\", \"width\": 1.3}, \"mode\": \"lines\", \"name\": \"A\", \"text\": \"\", \"type\": \"scatter\", \"x\": [0, 1, 2, 3, 4, 5, 6, 7, 8, 9, 10, 11, 12, 13, 14, 15, 16, 17, 18, 19, 20, 21, 22, 23, 24, 25, 26, 27, 28, 29, 30, 31, 32, 33, 34, 35, 36, 37, 38, 39, 40, 41, 42, 43, 44, 45, 46, 47, 48, 49, 50, 51, 52, 53, 54, 55, 56, 57, 58, 59, 60, 61, 62, 63, 64, 65, 66, 67, 68, 69, 70, 71, 72, 73, 74, 75, 76, 77, 78, 79, 80, 81, 82, 83, 84, 85, 86, 87, 88, 89, 90, 91, 92, 93, 94, 95, 96, 97, 98, 99], \"y\": [-0.171640601897393, -0.43651310026760143, 0.1915612390123302, -1.056703312019151, 0.4223324960551365, 1.2877468203367912, -0.5709727518406853, 2.1648676554773516, -1.2710537136872033, 0.16778935785866875, 1.0923398653718392, 0.4925306791099881, -0.703668513206629, -1.4524459966421268, -1.2744387261513341, 0.48551604613423355, -0.08955322711220023, -0.29027573121328615, 0.7745650160804478, -1.1099619262798022, -1.9683383872344231, -0.29436352576008007, -0.6114534149828592, -0.6016002569315776, 0.6621081449698877, 0.21266807621964742, -0.14196204190623365, 0.8455808080508328, 2.218513523093423, 1.225509030816993, -0.05744835346384874, -0.11673789320091013, -0.30301635565632434, -0.6627327489766144, -0.294755132084432, -0.133052082126597, -0.7027262561520775, 0.21363941721995688, 0.7533029620632767, 0.9161599146948339, -0.38695616486884626, 0.19596958959686875, 2.1597457209110167, 1.6330219307099394, -0.053064503558190354, 0.6603445747130693, 0.3207945904648976, -1.1050354243244225, 1.5637954578971218, 1.2541918745480611, -2.095064611555383, -0.7845842103111716, -0.19468049802855614, -0.4014548287149151, 0.3407950800545804, 0.03272595875779687, -1.3056241417427392, 0.7438543233795972, -1.3227506872869208, 1.0784707979095176, -0.815334722857213, -0.5373819359409527, -1.0606203281249487, 0.441700587416723, -0.32878279305935415, -0.46581137917888865, -1.0904053135674916, -1.26924927808231, 0.31270617806826667, 0.6970749712875615, 0.3153736148451356, -0.45080146910650637, -0.2720063615339261, 1.4044677356602207, -0.019348041080346393, 1.1049428128294767, -2.377128291270848, -1.5073793637973727, -0.926666748211941, 1.8579700229276017, -1.2116095443091348, 0.8236413783722552, -0.32430248425442165, 2.0906677707983916, -0.7044681959680065, -0.1546026406012769, -0.9385406062305209, -0.8692498584291668, -2.3768058600922677, -2.4065090278566914, 1.7172860060023276, 0.16700914108697476, -1.0892987171083033, 1.1821925982620303, 0.3761064908178598, -0.6081613870137292, 0.5683748477954369, -0.2666353852917895, 0.9020386387275965, 0.22303842334880358]}, {\"line\": {\"color\": \"rgba(55, 128, 191, 1.0)\", \"dash\": \"solid\", \"shape\": \"linear\", \"width\": 1.3}, \"mode\": \"lines\", \"name\": \"B\", \"text\": \"\", \"type\": \"scatter\", \"x\": [0, 1, 2, 3, 4, 5, 6, 7, 8, 9, 10, 11, 12, 13, 14, 15, 16, 17, 18, 19, 20, 21, 22, 23, 24, 25, 26, 27, 28, 29, 30, 31, 32, 33, 34, 35, 36, 37, 38, 39, 40, 41, 42, 43, 44, 45, 46, 47, 48, 49, 50, 51, 52, 53, 54, 55, 56, 57, 58, 59, 60, 61, 62, 63, 64, 65, 66, 67, 68, 69, 70, 71, 72, 73, 74, 75, 76, 77, 78, 79, 80, 81, 82, 83, 84, 85, 86, 87, 88, 89, 90, 91, 92, 93, 94, 95, 96, 97, 98, 99], \"y\": [0.5484513444208927, -2.3254372400024663, -0.17768498503930882, -0.0413575571659648, 1.0377678595702458, -0.7116014651027107, 0.26857162154881, 1.5290566395723573, -0.2567586755527022, -0.357121113255171, 0.8094544672338446, -0.18796083964617127, -0.027477640202128045, -0.11870292311303313, -2.269461527526842, 1.5955328577357266, -0.8644545357821648, -1.8642968220350373, 0.09017916692978532, -1.344766726938334, 1.1745824220442214, -0.8414367236253527, -0.7884004277579315, -0.1489331864549383, 0.7728688387695918, -2.1409153230074534, 0.34821592049908134, -0.27498245733340865, 0.6490421722801153, -0.3095015003082018, 1.3755435096077888, 0.5295635663635087, 0.3035655123758679, -0.15702303716074245, 1.1704292564472734, -1.52193050513255, -0.17304696512117046, 0.500742618651033, -2.411263379463824, -0.2764586244288876, -0.9354022868432563, 1.6180987037807752, -0.5850556670966817, 0.8064515288677078, -0.1925316499670654, 2.1249498691984603, 0.28824678756934996, 1.0808924511417874, -1.0991069038596877, 2.8523270968784757, -0.1462276160136622, -0.7269456317989939, 1.009683169084365, -0.9128087165867703, 2.739386314769789, -1.3757622114686658, 1.4407905278507112, -2.1437891180414965, -0.8685438816408083, -1.0684204255937035, -1.3909622043143515, -1.708519617763413, -1.033225258404668, -0.9273179566800895, 0.9622755612144613, 0.4036958283171158, -2.066620915349806, -0.5313498777603, -0.37213553235231156, 0.5566243901674788, 0.46809411497026965, 0.03231282758546965, 1.5950315245268063, -0.8677057971639819, 0.5934132541166431, 0.6665791844271618, -1.070293341617307, 0.23247746328414118, 0.1636105945212715, 1.3847638680189123, -0.7468787389615569, -0.6336863846695935, -0.15418321052239078, -0.022964779182480508, 0.13067056650667006, -0.8346647281545524, -0.08276756281076375, -0.23593108329391443, 1.4223691939157483, -1.475177034806321, -0.5631133271333681, -0.9498587583942311, -1.1180928581281955, -1.9290450825993415, 0.22878195896987918, -1.16846732408735, -1.201800804545687, 0.6324538976960572, -0.1723277128840355, 0.2296303534317323]}, {\"connectgaps\": false, \"fill\": \"tozeroy\", \"line\": {\"color\": \"green\", \"dash\": \"solid\", \"shape\": \"linear\", \"width\": 0.5}, \"mode\": \"lines\", \"name\": \"Spread\", \"showlegend\": false, \"type\": \"scatter\", \"x\": [0, 1, 2, 3, 4, 5, 6, 7, 8, 9, 10, 11, 12, 13, 14, 15, 16, 17, 18, 19, 20, 21, 22, 23, 24, 25, 26, 27, 28, 29, 30, 31, 32, 33, 34, 35, 36, 37, 38, 39, 40, 41, 42, 43, 44, 45, 46, 47, 48, 49, 50, 51, 52, 53, 54, 55, 56, 57, 58, 59, 60, 61, 62, 63, 64, 65, 66, 67, 68, 69, 70, 71, 72, 73, 74, 75, 76, 77, 78, 79, 80, 81, 82, 83, 84, 85, 86, 87, 88, 89, 90, 91, 92, 93, 94, 95, 96, 97, 98, 99], \"xaxis\": \"x2\", \"y\": [\"\", 1.8889241397348648, 0.369246224051639, \"\", \"\", 1.999348285439502, \"\", 0.6358110159049943, \"\", 0.5249104711138397, 0.2828853981379946, 0.6804915187561593, \"\", \"\", 0.9950228013755078, \"\", 0.7749013086699645, 1.5740210908217511, 0.6843858491506625, 0.23480480065853193, \"\", 0.5470731978652726, 0.1769470127750723, \"\", \"\", 2.3535833992271007, \"\", 1.1205632653842414, 1.5694713508133078, 1.5350105311251947, \"\", \"\", \"\", \"\", \"\", 1.388878423005953, \"\", \"\", 3.1645663415271006, 1.1926185391237216, 0.5484461219744101, \"\", 2.7448013880076982, 0.8265704018422316, 0.13946714640887503, \"\", 0.03254780289554765, \"\", 2.6629023617568093, \"\", \"\", \"\", \"\", 0.5113538878718552, \"\", 1.4084881702264627, \"\", 2.8876434414210936, \"\", 2.1468912235032214, 0.5756274814571385, 1.1711376818224601, \"\", 1.3690185440968126, \"\", \"\", 0.9762156017823145, \"\", 0.6848417104205782, 0.14045058112008268, \"\", \"\", \"\", 2.2721735328242025, \"\", 0.4383636284023149, \"\", \"\", \"\", 0.47320615490868945, \"\", 1.4573277630418486, \"\", 2.113632549980872, \"\", 0.6800620875532755, \"\", \"\", \"\", \"\", 2.280399333135696, 1.1168678994812058, 0.028794141019892194, 3.1112376808613718, 0.1473245318479806, 0.5603059370736208, 1.7701756523411238, \"\", 1.074366351611632, \"\"], \"yaxis\": \"y2\"}, {\"connectgaps\": false, \"fill\": \"tozeroy\", \"line\": {\"color\": \"red\", \"dash\": \"solid\", \"shape\": \"linear\", \"width\": 0.5}, \"mode\": \"lines\", \"name\": \"Spread\", \"showlegend\": false, \"type\": \"scatter\", \"x\": [0, 1, 2, 3, 4, 5, 6, 7, 8, 9, 10, 11, 12, 13, 14, 15, 16, 17, 18, 19, 20, 21, 22, 23, 24, 25, 26, 27, 28, 29, 30, 31, 32, 33, 34, 35, 36, 37, 38, 39, 40, 41, 42, 43, 44, 45, 46, 47, 48, 49, 50, 51, 52, 53, 54, 55, 56, 57, 58, 59, 60, 61, 62, 63, 64, 65, 66, 67, 68, 69, 70, 71, 72, 73, 74, 75, 76, 77, 78, 79, 80, 81, 82, 83, 84, 85, 86, 87, 88, 89, 90, 91, 92, 93, 94, 95, 96, 97, 98, 99], \"xaxis\": \"x2\", \"y\": [-0.7200919463182858, \"\", \"\", -1.0153457548531861, -0.6154353635151093, \"\", -0.8395443733894953, \"\", -1.014295038134501, \"\", \"\", \"\", -0.676190873004501, -1.3337430735290936, \"\", -1.110016811601493, \"\", \"\", \"\", \"\", -3.1429208092786443, \"\", \"\", -0.4526670704766393, -0.1107606937997041, \"\", -0.49017796240531497, \"\", \"\", \"\", -1.4329918630716376, -0.6463014595644188, -0.6065818680321922, -0.505709711815872, -1.4651843885317053, \"\", -0.529679291030907, -0.2871032014310761, \"\", \"\", \"\", -1.4221291141839065, \"\", \"\", \"\", -1.464605294485391, \"\", -2.18592787546621, \"\", -1.5981352223304146, -1.9488369955417209, -0.057638578512177796, -1.2043636671129212, \"\", -2.3985912347152087, \"\", -2.7464146695934506, \"\", -0.4542068056461125, \"\", \"\", \"\", -0.027395069720280718, \"\", -1.2910583542738154, -0.8695072074960044, \"\", -0.73789940032201, \"\", \"\", -0.15272050012513405, -0.48311429669197603, -1.8670378860607324, \"\", -0.6127612951969895, \"\", -1.3068349496535407, -1.7398568270815138, -1.0902773427332124, \"\", -0.46473080534757794, \"\", -0.17011927373203087, \"\", -0.8351387624746766, \"\", -0.8557730434197572, -0.6333187751352524, -3.799175054008016, -0.9313319930503705, \"\", \"\", \"\", \"\", \"\", \"\", \"\", -0.8990892829878467, \"\", -0.006591930082928715], \"yaxis\": \"y2\"}],\n",
       "                        {\"hovermode\": \"x\", \"legend\": {\"bgcolor\": \"#F5F6F9\", \"font\": {\"color\": \"#4D5663\"}}, \"paper_bgcolor\": \"#F5F6F9\", \"plot_bgcolor\": \"#F5F6F9\", \"template\": {\"data\": {\"bar\": [{\"error_x\": {\"color\": \"#2a3f5f\"}, \"error_y\": {\"color\": \"#2a3f5f\"}, \"marker\": {\"line\": {\"color\": \"#E5ECF6\", \"width\": 0.5}}, \"type\": \"bar\"}], \"barpolar\": [{\"marker\": {\"line\": {\"color\": \"#E5ECF6\", \"width\": 0.5}}, \"type\": \"barpolar\"}], \"carpet\": [{\"aaxis\": {\"endlinecolor\": \"#2a3f5f\", \"gridcolor\": \"white\", \"linecolor\": \"white\", \"minorgridcolor\": \"white\", \"startlinecolor\": \"#2a3f5f\"}, \"baxis\": {\"endlinecolor\": \"#2a3f5f\", \"gridcolor\": \"white\", \"linecolor\": \"white\", \"minorgridcolor\": \"white\", \"startlinecolor\": \"#2a3f5f\"}, \"type\": \"carpet\"}], \"choropleth\": [{\"colorbar\": {\"outlinewidth\": 0, \"ticks\": \"\"}, \"type\": \"choropleth\"}], \"contour\": [{\"colorbar\": {\"outlinewidth\": 0, \"ticks\": \"\"}, \"colorscale\": [[0.0, \"#0d0887\"], [0.1111111111111111, \"#46039f\"], [0.2222222222222222, \"#7201a8\"], [0.3333333333333333, \"#9c179e\"], [0.4444444444444444, \"#bd3786\"], [0.5555555555555556, \"#d8576b\"], [0.6666666666666666, \"#ed7953\"], [0.7777777777777778, \"#fb9f3a\"], [0.8888888888888888, \"#fdca26\"], [1.0, \"#f0f921\"]], \"type\": \"contour\"}], \"contourcarpet\": [{\"colorbar\": {\"outlinewidth\": 0, \"ticks\": \"\"}, \"type\": \"contourcarpet\"}], \"heatmap\": [{\"colorbar\": {\"outlinewidth\": 0, \"ticks\": \"\"}, \"colorscale\": [[0.0, \"#0d0887\"], [0.1111111111111111, \"#46039f\"], [0.2222222222222222, \"#7201a8\"], [0.3333333333333333, \"#9c179e\"], [0.4444444444444444, \"#bd3786\"], [0.5555555555555556, \"#d8576b\"], [0.6666666666666666, \"#ed7953\"], [0.7777777777777778, \"#fb9f3a\"], [0.8888888888888888, \"#fdca26\"], [1.0, \"#f0f921\"]], \"type\": \"heatmap\"}], \"heatmapgl\": [{\"colorbar\": {\"outlinewidth\": 0, \"ticks\": \"\"}, \"colorscale\": [[0.0, \"#0d0887\"], [0.1111111111111111, \"#46039f\"], [0.2222222222222222, \"#7201a8\"], [0.3333333333333333, \"#9c179e\"], [0.4444444444444444, \"#bd3786\"], [0.5555555555555556, \"#d8576b\"], [0.6666666666666666, \"#ed7953\"], [0.7777777777777778, \"#fb9f3a\"], [0.8888888888888888, \"#fdca26\"], [1.0, \"#f0f921\"]], \"type\": \"heatmapgl\"}], \"histogram\": [{\"marker\": {\"colorbar\": {\"outlinewidth\": 0, \"ticks\": \"\"}}, \"type\": \"histogram\"}], \"histogram2d\": [{\"colorbar\": {\"outlinewidth\": 0, \"ticks\": \"\"}, \"colorscale\": [[0.0, \"#0d0887\"], [0.1111111111111111, \"#46039f\"], [0.2222222222222222, \"#7201a8\"], [0.3333333333333333, \"#9c179e\"], [0.4444444444444444, \"#bd3786\"], [0.5555555555555556, \"#d8576b\"], [0.6666666666666666, \"#ed7953\"], [0.7777777777777778, \"#fb9f3a\"], [0.8888888888888888, \"#fdca26\"], [1.0, \"#f0f921\"]], \"type\": \"histogram2d\"}], \"histogram2dcontour\": [{\"colorbar\": {\"outlinewidth\": 0, \"ticks\": \"\"}, \"colorscale\": [[0.0, \"#0d0887\"], [0.1111111111111111, \"#46039f\"], [0.2222222222222222, \"#7201a8\"], [0.3333333333333333, \"#9c179e\"], [0.4444444444444444, \"#bd3786\"], [0.5555555555555556, \"#d8576b\"], [0.6666666666666666, \"#ed7953\"], [0.7777777777777778, \"#fb9f3a\"], [0.8888888888888888, \"#fdca26\"], [1.0, \"#f0f921\"]], \"type\": \"histogram2dcontour\"}], \"mesh3d\": [{\"colorbar\": {\"outlinewidth\": 0, \"ticks\": \"\"}, \"type\": \"mesh3d\"}], \"parcoords\": [{\"line\": {\"colorbar\": {\"outlinewidth\": 0, \"ticks\": \"\"}}, \"type\": \"parcoords\"}], \"pie\": [{\"automargin\": true, \"type\": \"pie\"}], \"scatter\": [{\"marker\": {\"colorbar\": {\"outlinewidth\": 0, \"ticks\": \"\"}}, \"type\": \"scatter\"}], \"scatter3d\": [{\"line\": {\"colorbar\": {\"outlinewidth\": 0, \"ticks\": \"\"}}, \"marker\": {\"colorbar\": {\"outlinewidth\": 0, \"ticks\": \"\"}}, \"type\": \"scatter3d\"}], \"scattercarpet\": [{\"marker\": {\"colorbar\": {\"outlinewidth\": 0, \"ticks\": \"\"}}, \"type\": \"scattercarpet\"}], \"scattergeo\": [{\"marker\": {\"colorbar\": {\"outlinewidth\": 0, \"ticks\": \"\"}}, \"type\": \"scattergeo\"}], \"scattergl\": [{\"marker\": {\"colorbar\": {\"outlinewidth\": 0, \"ticks\": \"\"}}, \"type\": \"scattergl\"}], \"scattermapbox\": [{\"marker\": {\"colorbar\": {\"outlinewidth\": 0, \"ticks\": \"\"}}, \"type\": \"scattermapbox\"}], \"scatterpolar\": [{\"marker\": {\"colorbar\": {\"outlinewidth\": 0, \"ticks\": \"\"}}, \"type\": \"scatterpolar\"}], \"scatterpolargl\": [{\"marker\": {\"colorbar\": {\"outlinewidth\": 0, \"ticks\": \"\"}}, \"type\": \"scatterpolargl\"}], \"scatterternary\": [{\"marker\": {\"colorbar\": {\"outlinewidth\": 0, \"ticks\": \"\"}}, \"type\": \"scatterternary\"}], \"surface\": [{\"colorbar\": {\"outlinewidth\": 0, \"ticks\": \"\"}, \"colorscale\": [[0.0, \"#0d0887\"], [0.1111111111111111, \"#46039f\"], [0.2222222222222222, \"#7201a8\"], [0.3333333333333333, \"#9c179e\"], [0.4444444444444444, \"#bd3786\"], [0.5555555555555556, \"#d8576b\"], [0.6666666666666666, \"#ed7953\"], [0.7777777777777778, \"#fb9f3a\"], [0.8888888888888888, \"#fdca26\"], [1.0, \"#f0f921\"]], \"type\": \"surface\"}], \"table\": [{\"cells\": {\"fill\": {\"color\": \"#EBF0F8\"}, \"line\": {\"color\": \"white\"}}, \"header\": {\"fill\": {\"color\": \"#C8D4E3\"}, \"line\": {\"color\": \"white\"}}, \"type\": \"table\"}]}, \"layout\": {\"annotationdefaults\": {\"arrowcolor\": \"#2a3f5f\", \"arrowhead\": 0, \"arrowwidth\": 1}, \"coloraxis\": {\"colorbar\": {\"outlinewidth\": 0, \"ticks\": \"\"}}, \"colorscale\": {\"diverging\": [[0, \"#8e0152\"], [0.1, \"#c51b7d\"], [0.2, \"#de77ae\"], [0.3, \"#f1b6da\"], [0.4, \"#fde0ef\"], [0.5, \"#f7f7f7\"], [0.6, \"#e6f5d0\"], [0.7, \"#b8e186\"], [0.8, \"#7fbc41\"], [0.9, \"#4d9221\"], [1, \"#276419\"]], \"sequential\": [[0.0, \"#0d0887\"], [0.1111111111111111, \"#46039f\"], [0.2222222222222222, \"#7201a8\"], [0.3333333333333333, \"#9c179e\"], [0.4444444444444444, \"#bd3786\"], [0.5555555555555556, \"#d8576b\"], [0.6666666666666666, \"#ed7953\"], [0.7777777777777778, \"#fb9f3a\"], [0.8888888888888888, \"#fdca26\"], [1.0, \"#f0f921\"]], \"sequentialminus\": [[0.0, \"#0d0887\"], [0.1111111111111111, \"#46039f\"], [0.2222222222222222, \"#7201a8\"], [0.3333333333333333, \"#9c179e\"], [0.4444444444444444, \"#bd3786\"], [0.5555555555555556, \"#d8576b\"], [0.6666666666666666, \"#ed7953\"], [0.7777777777777778, \"#fb9f3a\"], [0.8888888888888888, \"#fdca26\"], [1.0, \"#f0f921\"]]}, \"colorway\": [\"#636efa\", \"#EF553B\", \"#00cc96\", \"#ab63fa\", \"#FFA15A\", \"#19d3f3\", \"#FF6692\", \"#B6E880\", \"#FF97FF\", \"#FECB52\"], \"font\": {\"color\": \"#2a3f5f\"}, \"geo\": {\"bgcolor\": \"white\", \"lakecolor\": \"white\", \"landcolor\": \"#E5ECF6\", \"showlakes\": true, \"showland\": true, \"subunitcolor\": \"white\"}, \"hoverlabel\": {\"align\": \"left\"}, \"hovermode\": \"closest\", \"mapbox\": {\"style\": \"light\"}, \"paper_bgcolor\": \"white\", \"plot_bgcolor\": \"#E5ECF6\", \"polar\": {\"angularaxis\": {\"gridcolor\": \"white\", \"linecolor\": \"white\", \"ticks\": \"\"}, \"bgcolor\": \"#E5ECF6\", \"radialaxis\": {\"gridcolor\": \"white\", \"linecolor\": \"white\", \"ticks\": \"\"}}, \"scene\": {\"xaxis\": {\"backgroundcolor\": \"#E5ECF6\", \"gridcolor\": \"white\", \"gridwidth\": 2, \"linecolor\": \"white\", \"showbackground\": true, \"ticks\": \"\", \"zerolinecolor\": \"white\"}, \"yaxis\": {\"backgroundcolor\": \"#E5ECF6\", \"gridcolor\": \"white\", \"gridwidth\": 2, \"linecolor\": \"white\", \"showbackground\": true, \"ticks\": \"\", \"zerolinecolor\": \"white\"}, \"zaxis\": {\"backgroundcolor\": \"#E5ECF6\", \"gridcolor\": \"white\", \"gridwidth\": 2, \"linecolor\": \"white\", \"showbackground\": true, \"ticks\": \"\", \"zerolinecolor\": \"white\"}}, \"shapedefaults\": {\"line\": {\"color\": \"#2a3f5f\"}}, \"ternary\": {\"aaxis\": {\"gridcolor\": \"white\", \"linecolor\": \"white\", \"ticks\": \"\"}, \"baxis\": {\"gridcolor\": \"white\", \"linecolor\": \"white\", \"ticks\": \"\"}, \"bgcolor\": \"#E5ECF6\", \"caxis\": {\"gridcolor\": \"white\", \"linecolor\": \"white\", \"ticks\": \"\"}}, \"title\": {\"x\": 0.05}, \"xaxis\": {\"automargin\": true, \"gridcolor\": \"white\", \"linecolor\": \"white\", \"ticks\": \"\", \"title\": {\"standoff\": 15}, \"zerolinecolor\": \"white\", \"zerolinewidth\": 2}, \"yaxis\": {\"automargin\": true, \"gridcolor\": \"white\", \"linecolor\": \"white\", \"ticks\": \"\", \"title\": {\"standoff\": 15}, \"zerolinecolor\": \"white\", \"zerolinewidth\": 2}}}, \"title\": {\"font\": {\"color\": \"#4D5663\"}}, \"xaxis\": {\"gridcolor\": \"#E1E5ED\", \"showgrid\": true, \"tickfont\": {\"color\": \"#4D5663\"}, \"title\": {\"font\": {\"color\": \"#4D5663\"}, \"text\": \"\"}, \"zerolinecolor\": \"#E1E5ED\"}, \"xaxis2\": {\"anchor\": \"y2\", \"gridcolor\": \"#E1E5ED\", \"showgrid\": true, \"showticklabels\": false, \"tickfont\": {\"color\": \"#4D5663\"}, \"title\": {\"font\": {\"color\": \"#4D5663\"}, \"text\": \"\"}, \"zerolinecolor\": \"#E1E5ED\"}, \"yaxis\": {\"domain\": [0.3, 1], \"gridcolor\": \"#E1E5ED\", \"showgrid\": true, \"tickfont\": {\"color\": \"#4D5663\"}, \"title\": {\"font\": {\"color\": \"#4D5663\"}, \"text\": \"\"}, \"zerolinecolor\": \"#E1E5ED\"}, \"yaxis2\": {\"domain\": [0, 0.25], \"gridcolor\": \"#E1E5ED\", \"showgrid\": true, \"tickfont\": {\"color\": \"#4D5663\"}, \"title\": {\"font\": {\"color\": \"#4D5663\"}, \"text\": \"Spread\"}, \"zerolinecolor\": \"#E1E5ED\"}},\n",
       "                        {\"showLink\": true, \"linkText\": \"Export to plot.ly\", \"plotlyServerURL\": \"https://plot.ly\", \"responsive\": true}\n",
       "                    ).then(function(){\n",
       "                            \n",
       "var gd = document.getElementById('a408cca7-efec-4c52-a8e6-f11ee41f011f');\n",
       "var x = new MutationObserver(function (mutations, observer) {{\n",
       "        var display = window.getComputedStyle(gd).display;\n",
       "        if (!display || display === 'none') {{\n",
       "            console.log([gd, 'removed!']);\n",
       "            Plotly.purge(gd);\n",
       "            observer.disconnect();\n",
       "        }}\n",
       "}});\n",
       "\n",
       "// Listen for the removal of the full notebook cells\n",
       "var notebookContainer = gd.closest('#notebook-container');\n",
       "if (notebookContainer) {{\n",
       "    x.observe(notebookContainer, {childList: true});\n",
       "}}\n",
       "\n",
       "// Listen for the clearing of the current output cell\n",
       "var outputEl = gd.closest('.output');\n",
       "if (outputEl) {{\n",
       "    x.observe(outputEl, {childList: true});\n",
       "}}\n",
       "\n",
       "                        })\n",
       "                };\n",
       "                });\n",
       "            </script>\n",
       "        </div>"
      ]
     },
     "metadata": {},
     "output_type": "display_data"
    }
   ],
   "source": [
    "df[['A','B']].iplot(kind='spread')"
   ]
  },
  {
   "cell_type": "code",
   "execution_count": 40,
   "metadata": {},
   "outputs": [
    {
     "data": {
      "application/vnd.plotly.v1+json": {
       "config": {
        "linkText": "Export to plot.ly",
        "plotlyServerURL": "https://plot.ly",
        "showLink": true
       },
       "data": [
        {
         "marker": {
          "color": [
           "rgb(255, 153, 51)",
           "rgb(55, 128, 191)",
           "rgb(50, 171, 96)",
           "rgb(128, 0, 128)",
           "rgb(219, 64, 82)",
           "rgb(0, 128, 128)",
           "rgb(255, 255, 51)",
           "rgb(128, 128, 0)",
           "rgb(251, 128, 114)",
           "rgb(128, 177, 211)"
          ],
          "line": {
           "width": 1.3
          },
          "size": [
           53,
           12,
           51,
           55,
           43,
           74,
           87,
           70,
           83,
           82,
           51,
           53,
           54,
           57,
           64,
           86,
           77,
           56,
           71,
           87,
           101,
           78,
           63,
           78,
           56,
           84,
           88,
           66,
           81,
           94,
           40,
           74,
           78,
           60,
           75,
           96,
           71,
           71,
           92,
           63,
           21,
           82,
           93,
           75,
           103,
           72,
           73,
           43,
           52,
           63,
           85,
           20,
           76,
           77,
           66,
           56,
           95,
           71,
           83,
           89,
           33,
           81,
           103,
           59,
           58,
           60,
           51,
           30,
           84,
           68,
           41,
           74,
           36,
           66,
           64,
           83,
           68,
           105,
           33,
           80,
           85,
           43,
           36,
           39,
           48,
           74,
           74,
           47,
           53,
           73,
           70,
           43,
           59,
           98,
           86,
           62,
           48,
           78,
           59,
           112
          ],
          "symbol": "circle"
         },
         "mode": "markers",
         "text": "",
         "type": "scatter",
         "x": [
          -0.171640601897393,
          -0.43651310026760143,
          0.1915612390123302,
          -1.056703312019151,
          0.4223324960551365,
          1.2877468203367912,
          -0.5709727518406853,
          2.1648676554773516,
          -1.2710537136872033,
          0.16778935785866875,
          1.0923398653718392,
          0.4925306791099881,
          -0.703668513206629,
          -1.4524459966421268,
          -1.2744387261513341,
          0.48551604613423355,
          -0.08955322711220023,
          -0.29027573121328615,
          0.7745650160804478,
          -1.1099619262798022,
          -1.9683383872344231,
          -0.29436352576008007,
          -0.6114534149828592,
          -0.6016002569315776,
          0.6621081449698877,
          0.21266807621964742,
          -0.14196204190623365,
          0.8455808080508328,
          2.218513523093423,
          1.225509030816993,
          -0.05744835346384874,
          -0.11673789320091013,
          -0.30301635565632434,
          -0.6627327489766144,
          -0.294755132084432,
          -0.133052082126597,
          -0.7027262561520775,
          0.21363941721995688,
          0.7533029620632767,
          0.9161599146948339,
          -0.38695616486884626,
          0.19596958959686875,
          2.1597457209110167,
          1.6330219307099394,
          -0.053064503558190354,
          0.6603445747130693,
          0.3207945904648976,
          -1.1050354243244225,
          1.5637954578971218,
          1.2541918745480611,
          -2.095064611555383,
          -0.7845842103111716,
          -0.19468049802855614,
          -0.4014548287149151,
          0.3407950800545804,
          0.03272595875779687,
          -1.3056241417427392,
          0.7438543233795972,
          -1.3227506872869208,
          1.0784707979095176,
          -0.815334722857213,
          -0.5373819359409527,
          -1.0606203281249487,
          0.441700587416723,
          -0.32878279305935415,
          -0.46581137917888865,
          -1.0904053135674916,
          -1.26924927808231,
          0.31270617806826667,
          0.6970749712875615,
          0.3153736148451356,
          -0.45080146910650637,
          -0.2720063615339261,
          1.4044677356602207,
          -0.019348041080346393,
          1.1049428128294767,
          -2.377128291270848,
          -1.5073793637973727,
          -0.926666748211941,
          1.8579700229276017,
          -1.2116095443091348,
          0.8236413783722552,
          -0.32430248425442165,
          2.0906677707983916,
          -0.7044681959680065,
          -0.1546026406012769,
          -0.9385406062305209,
          -0.8692498584291668,
          -2.3768058600922677,
          -2.4065090278566914,
          1.7172860060023276,
          0.16700914108697476,
          -1.0892987171083033,
          1.1821925982620303,
          0.3761064908178598,
          -0.6081613870137292,
          0.5683748477954369,
          -0.2666353852917895,
          0.9020386387275965,
          0.22303842334880358
         ],
         "y": [
          0.5484513444208927,
          -2.3254372400024663,
          -0.17768498503930882,
          -0.0413575571659648,
          1.0377678595702458,
          -0.7116014651027107,
          0.26857162154881,
          1.5290566395723573,
          -0.2567586755527022,
          -0.357121113255171,
          0.8094544672338446,
          -0.18796083964617127,
          -0.027477640202128045,
          -0.11870292311303313,
          -2.269461527526842,
          1.5955328577357266,
          -0.8644545357821648,
          -1.8642968220350373,
          0.09017916692978532,
          -1.344766726938334,
          1.1745824220442214,
          -0.8414367236253527,
          -0.7884004277579315,
          -0.1489331864549383,
          0.7728688387695918,
          -2.1409153230074534,
          0.34821592049908134,
          -0.27498245733340865,
          0.6490421722801153,
          -0.3095015003082018,
          1.3755435096077888,
          0.5295635663635087,
          0.3035655123758679,
          -0.15702303716074245,
          1.1704292564472734,
          -1.52193050513255,
          -0.17304696512117046,
          0.500742618651033,
          -2.411263379463824,
          -0.2764586244288876,
          -0.9354022868432563,
          1.6180987037807752,
          -0.5850556670966817,
          0.8064515288677078,
          -0.1925316499670654,
          2.1249498691984603,
          0.28824678756934996,
          1.0808924511417874,
          -1.0991069038596877,
          2.8523270968784757,
          -0.1462276160136622,
          -0.7269456317989939,
          1.009683169084365,
          -0.9128087165867703,
          2.739386314769789,
          -1.3757622114686658,
          1.4407905278507112,
          -2.1437891180414965,
          -0.8685438816408083,
          -1.0684204255937035,
          -1.3909622043143515,
          -1.708519617763413,
          -1.033225258404668,
          -0.9273179566800895,
          0.9622755612144613,
          0.4036958283171158,
          -2.066620915349806,
          -0.5313498777603,
          -0.37213553235231156,
          0.5566243901674788,
          0.46809411497026965,
          0.03231282758546965,
          1.5950315245268063,
          -0.8677057971639819,
          0.5934132541166431,
          0.6665791844271618,
          -1.070293341617307,
          0.23247746328414118,
          0.1636105945212715,
          1.3847638680189123,
          -0.7468787389615569,
          -0.6336863846695935,
          -0.15418321052239078,
          -0.022964779182480508,
          0.13067056650667006,
          -0.8346647281545524,
          -0.08276756281076375,
          -0.23593108329391443,
          1.4223691939157483,
          -1.475177034806321,
          -0.5631133271333681,
          -0.9498587583942311,
          -1.1180928581281955,
          -1.9290450825993415,
          0.22878195896987918,
          -1.16846732408735,
          -1.201800804545687,
          0.6324538976960572,
          -0.1723277128840355,
          0.2296303534317323
         ]
        }
       ],
       "layout": {
        "legend": {
         "bgcolor": "#F5F6F9",
         "font": {
          "color": "#4D5663"
         }
        },
        "paper_bgcolor": "#F5F6F9",
        "plot_bgcolor": "#F5F6F9",
        "template": {
         "data": {
          "bar": [
           {
            "error_x": {
             "color": "#2a3f5f"
            },
            "error_y": {
             "color": "#2a3f5f"
            },
            "marker": {
             "line": {
              "color": "#E5ECF6",
              "width": 0.5
             }
            },
            "type": "bar"
           }
          ],
          "barpolar": [
           {
            "marker": {
             "line": {
              "color": "#E5ECF6",
              "width": 0.5
             }
            },
            "type": "barpolar"
           }
          ],
          "carpet": [
           {
            "aaxis": {
             "endlinecolor": "#2a3f5f",
             "gridcolor": "white",
             "linecolor": "white",
             "minorgridcolor": "white",
             "startlinecolor": "#2a3f5f"
            },
            "baxis": {
             "endlinecolor": "#2a3f5f",
             "gridcolor": "white",
             "linecolor": "white",
             "minorgridcolor": "white",
             "startlinecolor": "#2a3f5f"
            },
            "type": "carpet"
           }
          ],
          "choropleth": [
           {
            "colorbar": {
             "outlinewidth": 0,
             "ticks": ""
            },
            "type": "choropleth"
           }
          ],
          "contour": [
           {
            "colorbar": {
             "outlinewidth": 0,
             "ticks": ""
            },
            "colorscale": [
             [
              0,
              "#0d0887"
             ],
             [
              0.1111111111111111,
              "#46039f"
             ],
             [
              0.2222222222222222,
              "#7201a8"
             ],
             [
              0.3333333333333333,
              "#9c179e"
             ],
             [
              0.4444444444444444,
              "#bd3786"
             ],
             [
              0.5555555555555556,
              "#d8576b"
             ],
             [
              0.6666666666666666,
              "#ed7953"
             ],
             [
              0.7777777777777778,
              "#fb9f3a"
             ],
             [
              0.8888888888888888,
              "#fdca26"
             ],
             [
              1,
              "#f0f921"
             ]
            ],
            "type": "contour"
           }
          ],
          "contourcarpet": [
           {
            "colorbar": {
             "outlinewidth": 0,
             "ticks": ""
            },
            "type": "contourcarpet"
           }
          ],
          "heatmap": [
           {
            "colorbar": {
             "outlinewidth": 0,
             "ticks": ""
            },
            "colorscale": [
             [
              0,
              "#0d0887"
             ],
             [
              0.1111111111111111,
              "#46039f"
             ],
             [
              0.2222222222222222,
              "#7201a8"
             ],
             [
              0.3333333333333333,
              "#9c179e"
             ],
             [
              0.4444444444444444,
              "#bd3786"
             ],
             [
              0.5555555555555556,
              "#d8576b"
             ],
             [
              0.6666666666666666,
              "#ed7953"
             ],
             [
              0.7777777777777778,
              "#fb9f3a"
             ],
             [
              0.8888888888888888,
              "#fdca26"
             ],
             [
              1,
              "#f0f921"
             ]
            ],
            "type": "heatmap"
           }
          ],
          "heatmapgl": [
           {
            "colorbar": {
             "outlinewidth": 0,
             "ticks": ""
            },
            "colorscale": [
             [
              0,
              "#0d0887"
             ],
             [
              0.1111111111111111,
              "#46039f"
             ],
             [
              0.2222222222222222,
              "#7201a8"
             ],
             [
              0.3333333333333333,
              "#9c179e"
             ],
             [
              0.4444444444444444,
              "#bd3786"
             ],
             [
              0.5555555555555556,
              "#d8576b"
             ],
             [
              0.6666666666666666,
              "#ed7953"
             ],
             [
              0.7777777777777778,
              "#fb9f3a"
             ],
             [
              0.8888888888888888,
              "#fdca26"
             ],
             [
              1,
              "#f0f921"
             ]
            ],
            "type": "heatmapgl"
           }
          ],
          "histogram": [
           {
            "marker": {
             "colorbar": {
              "outlinewidth": 0,
              "ticks": ""
             }
            },
            "type": "histogram"
           }
          ],
          "histogram2d": [
           {
            "colorbar": {
             "outlinewidth": 0,
             "ticks": ""
            },
            "colorscale": [
             [
              0,
              "#0d0887"
             ],
             [
              0.1111111111111111,
              "#46039f"
             ],
             [
              0.2222222222222222,
              "#7201a8"
             ],
             [
              0.3333333333333333,
              "#9c179e"
             ],
             [
              0.4444444444444444,
              "#bd3786"
             ],
             [
              0.5555555555555556,
              "#d8576b"
             ],
             [
              0.6666666666666666,
              "#ed7953"
             ],
             [
              0.7777777777777778,
              "#fb9f3a"
             ],
             [
              0.8888888888888888,
              "#fdca26"
             ],
             [
              1,
              "#f0f921"
             ]
            ],
            "type": "histogram2d"
           }
          ],
          "histogram2dcontour": [
           {
            "colorbar": {
             "outlinewidth": 0,
             "ticks": ""
            },
            "colorscale": [
             [
              0,
              "#0d0887"
             ],
             [
              0.1111111111111111,
              "#46039f"
             ],
             [
              0.2222222222222222,
              "#7201a8"
             ],
             [
              0.3333333333333333,
              "#9c179e"
             ],
             [
              0.4444444444444444,
              "#bd3786"
             ],
             [
              0.5555555555555556,
              "#d8576b"
             ],
             [
              0.6666666666666666,
              "#ed7953"
             ],
             [
              0.7777777777777778,
              "#fb9f3a"
             ],
             [
              0.8888888888888888,
              "#fdca26"
             ],
             [
              1,
              "#f0f921"
             ]
            ],
            "type": "histogram2dcontour"
           }
          ],
          "mesh3d": [
           {
            "colorbar": {
             "outlinewidth": 0,
             "ticks": ""
            },
            "type": "mesh3d"
           }
          ],
          "parcoords": [
           {
            "line": {
             "colorbar": {
              "outlinewidth": 0,
              "ticks": ""
             }
            },
            "type": "parcoords"
           }
          ],
          "pie": [
           {
            "automargin": true,
            "type": "pie"
           }
          ],
          "scatter": [
           {
            "marker": {
             "colorbar": {
              "outlinewidth": 0,
              "ticks": ""
             }
            },
            "type": "scatter"
           }
          ],
          "scatter3d": [
           {
            "line": {
             "colorbar": {
              "outlinewidth": 0,
              "ticks": ""
             }
            },
            "marker": {
             "colorbar": {
              "outlinewidth": 0,
              "ticks": ""
             }
            },
            "type": "scatter3d"
           }
          ],
          "scattercarpet": [
           {
            "marker": {
             "colorbar": {
              "outlinewidth": 0,
              "ticks": ""
             }
            },
            "type": "scattercarpet"
           }
          ],
          "scattergeo": [
           {
            "marker": {
             "colorbar": {
              "outlinewidth": 0,
              "ticks": ""
             }
            },
            "type": "scattergeo"
           }
          ],
          "scattergl": [
           {
            "marker": {
             "colorbar": {
              "outlinewidth": 0,
              "ticks": ""
             }
            },
            "type": "scattergl"
           }
          ],
          "scattermapbox": [
           {
            "marker": {
             "colorbar": {
              "outlinewidth": 0,
              "ticks": ""
             }
            },
            "type": "scattermapbox"
           }
          ],
          "scatterpolar": [
           {
            "marker": {
             "colorbar": {
              "outlinewidth": 0,
              "ticks": ""
             }
            },
            "type": "scatterpolar"
           }
          ],
          "scatterpolargl": [
           {
            "marker": {
             "colorbar": {
              "outlinewidth": 0,
              "ticks": ""
             }
            },
            "type": "scatterpolargl"
           }
          ],
          "scatterternary": [
           {
            "marker": {
             "colorbar": {
              "outlinewidth": 0,
              "ticks": ""
             }
            },
            "type": "scatterternary"
           }
          ],
          "surface": [
           {
            "colorbar": {
             "outlinewidth": 0,
             "ticks": ""
            },
            "colorscale": [
             [
              0,
              "#0d0887"
             ],
             [
              0.1111111111111111,
              "#46039f"
             ],
             [
              0.2222222222222222,
              "#7201a8"
             ],
             [
              0.3333333333333333,
              "#9c179e"
             ],
             [
              0.4444444444444444,
              "#bd3786"
             ],
             [
              0.5555555555555556,
              "#d8576b"
             ],
             [
              0.6666666666666666,
              "#ed7953"
             ],
             [
              0.7777777777777778,
              "#fb9f3a"
             ],
             [
              0.8888888888888888,
              "#fdca26"
             ],
             [
              1,
              "#f0f921"
             ]
            ],
            "type": "surface"
           }
          ],
          "table": [
           {
            "cells": {
             "fill": {
              "color": "#EBF0F8"
             },
             "line": {
              "color": "white"
             }
            },
            "header": {
             "fill": {
              "color": "#C8D4E3"
             },
             "line": {
              "color": "white"
             }
            },
            "type": "table"
           }
          ]
         },
         "layout": {
          "annotationdefaults": {
           "arrowcolor": "#2a3f5f",
           "arrowhead": 0,
           "arrowwidth": 1
          },
          "coloraxis": {
           "colorbar": {
            "outlinewidth": 0,
            "ticks": ""
           }
          },
          "colorscale": {
           "diverging": [
            [
             0,
             "#8e0152"
            ],
            [
             0.1,
             "#c51b7d"
            ],
            [
             0.2,
             "#de77ae"
            ],
            [
             0.3,
             "#f1b6da"
            ],
            [
             0.4,
             "#fde0ef"
            ],
            [
             0.5,
             "#f7f7f7"
            ],
            [
             0.6,
             "#e6f5d0"
            ],
            [
             0.7,
             "#b8e186"
            ],
            [
             0.8,
             "#7fbc41"
            ],
            [
             0.9,
             "#4d9221"
            ],
            [
             1,
             "#276419"
            ]
           ],
           "sequential": [
            [
             0,
             "#0d0887"
            ],
            [
             0.1111111111111111,
             "#46039f"
            ],
            [
             0.2222222222222222,
             "#7201a8"
            ],
            [
             0.3333333333333333,
             "#9c179e"
            ],
            [
             0.4444444444444444,
             "#bd3786"
            ],
            [
             0.5555555555555556,
             "#d8576b"
            ],
            [
             0.6666666666666666,
             "#ed7953"
            ],
            [
             0.7777777777777778,
             "#fb9f3a"
            ],
            [
             0.8888888888888888,
             "#fdca26"
            ],
            [
             1,
             "#f0f921"
            ]
           ],
           "sequentialminus": [
            [
             0,
             "#0d0887"
            ],
            [
             0.1111111111111111,
             "#46039f"
            ],
            [
             0.2222222222222222,
             "#7201a8"
            ],
            [
             0.3333333333333333,
             "#9c179e"
            ],
            [
             0.4444444444444444,
             "#bd3786"
            ],
            [
             0.5555555555555556,
             "#d8576b"
            ],
            [
             0.6666666666666666,
             "#ed7953"
            ],
            [
             0.7777777777777778,
             "#fb9f3a"
            ],
            [
             0.8888888888888888,
             "#fdca26"
            ],
            [
             1,
             "#f0f921"
            ]
           ]
          },
          "colorway": [
           "#636efa",
           "#EF553B",
           "#00cc96",
           "#ab63fa",
           "#FFA15A",
           "#19d3f3",
           "#FF6692",
           "#B6E880",
           "#FF97FF",
           "#FECB52"
          ],
          "font": {
           "color": "#2a3f5f"
          },
          "geo": {
           "bgcolor": "white",
           "lakecolor": "white",
           "landcolor": "#E5ECF6",
           "showlakes": true,
           "showland": true,
           "subunitcolor": "white"
          },
          "hoverlabel": {
           "align": "left"
          },
          "hovermode": "closest",
          "mapbox": {
           "style": "light"
          },
          "paper_bgcolor": "white",
          "plot_bgcolor": "#E5ECF6",
          "polar": {
           "angularaxis": {
            "gridcolor": "white",
            "linecolor": "white",
            "ticks": ""
           },
           "bgcolor": "#E5ECF6",
           "radialaxis": {
            "gridcolor": "white",
            "linecolor": "white",
            "ticks": ""
           }
          },
          "scene": {
           "xaxis": {
            "backgroundcolor": "#E5ECF6",
            "gridcolor": "white",
            "gridwidth": 2,
            "linecolor": "white",
            "showbackground": true,
            "ticks": "",
            "zerolinecolor": "white"
           },
           "yaxis": {
            "backgroundcolor": "#E5ECF6",
            "gridcolor": "white",
            "gridwidth": 2,
            "linecolor": "white",
            "showbackground": true,
            "ticks": "",
            "zerolinecolor": "white"
           },
           "zaxis": {
            "backgroundcolor": "#E5ECF6",
            "gridcolor": "white",
            "gridwidth": 2,
            "linecolor": "white",
            "showbackground": true,
            "ticks": "",
            "zerolinecolor": "white"
           }
          },
          "shapedefaults": {
           "line": {
            "color": "#2a3f5f"
           }
          },
          "ternary": {
           "aaxis": {
            "gridcolor": "white",
            "linecolor": "white",
            "ticks": ""
           },
           "baxis": {
            "gridcolor": "white",
            "linecolor": "white",
            "ticks": ""
           },
           "bgcolor": "#E5ECF6",
           "caxis": {
            "gridcolor": "white",
            "linecolor": "white",
            "ticks": ""
           }
          },
          "title": {
           "x": 0.05
          },
          "xaxis": {
           "automargin": true,
           "gridcolor": "white",
           "linecolor": "white",
           "ticks": "",
           "title": {
            "standoff": 15
           },
           "zerolinecolor": "white",
           "zerolinewidth": 2
          },
          "yaxis": {
           "automargin": true,
           "gridcolor": "white",
           "linecolor": "white",
           "ticks": "",
           "title": {
            "standoff": 15
           },
           "zerolinecolor": "white",
           "zerolinewidth": 2
          }
         }
        },
        "title": {
         "font": {
          "color": "#4D5663"
         }
        },
        "xaxis": {
         "gridcolor": "#E1E5ED",
         "showgrid": true,
         "tickfont": {
          "color": "#4D5663"
         },
         "title": {
          "font": {
           "color": "#4D5663"
          },
          "text": ""
         },
         "zerolinecolor": "#E1E5ED"
        },
        "yaxis": {
         "gridcolor": "#E1E5ED",
         "showgrid": true,
         "tickfont": {
          "color": "#4D5663"
         },
         "title": {
          "font": {
           "color": "#4D5663"
          },
          "text": ""
         },
         "zerolinecolor": "#E1E5ED"
        }
       }
      },
      "text/html": [
       "<div>\n",
       "        \n",
       "        \n",
       "            <div id=\"95538457-3f7d-4c75-a6ea-22032a2933b2\" class=\"plotly-graph-div\" style=\"height:525px; width:100%;\"></div>\n",
       "            <script type=\"text/javascript\">\n",
       "                require([\"plotly\"], function(Plotly) {\n",
       "                    window.PLOTLYENV=window.PLOTLYENV || {};\n",
       "                    window.PLOTLYENV.BASE_URL='https://plot.ly';\n",
       "                    \n",
       "                if (document.getElementById(\"95538457-3f7d-4c75-a6ea-22032a2933b2\")) {\n",
       "                    Plotly.newPlot(\n",
       "                        '95538457-3f7d-4c75-a6ea-22032a2933b2',\n",
       "                        [{\"marker\": {\"color\": [\"rgb(255, 153, 51)\", \"rgb(55, 128, 191)\", \"rgb(50, 171, 96)\", \"rgb(128, 0, 128)\", \"rgb(219, 64, 82)\", \"rgb(0, 128, 128)\", \"rgb(255, 255, 51)\", \"rgb(128, 128, 0)\", \"rgb(251, 128, 114)\", \"rgb(128, 177, 211)\"], \"line\": {\"width\": 1.3}, \"size\": [53, 12, 51, 55, 43, 74, 87, 70, 83, 82, 51, 53, 54, 57, 64, 86, 77, 56, 71, 87, 101, 78, 63, 78, 56, 84, 88, 66, 81, 94, 40, 74, 78, 60, 75, 96, 71, 71, 92, 63, 21, 82, 93, 75, 103, 72, 73, 43, 52, 63, 85, 20, 76, 77, 66, 56, 95, 71, 83, 89, 33, 81, 103, 59, 58, 60, 51, 30, 84, 68, 41, 74, 36, 66, 64, 83, 68, 105, 33, 80, 85, 43, 36, 39, 48, 74, 74, 47, 53, 73, 70, 43, 59, 98, 86, 62, 48, 78, 59, 112], \"symbol\": \"circle\"}, \"mode\": \"markers\", \"text\": \"\", \"type\": \"scatter\", \"x\": [-0.171640601897393, -0.43651310026760143, 0.1915612390123302, -1.056703312019151, 0.4223324960551365, 1.2877468203367912, -0.5709727518406853, 2.1648676554773516, -1.2710537136872033, 0.16778935785866875, 1.0923398653718392, 0.4925306791099881, -0.703668513206629, -1.4524459966421268, -1.2744387261513341, 0.48551604613423355, -0.08955322711220023, -0.29027573121328615, 0.7745650160804478, -1.1099619262798022, -1.9683383872344231, -0.29436352576008007, -0.6114534149828592, -0.6016002569315776, 0.6621081449698877, 0.21266807621964742, -0.14196204190623365, 0.8455808080508328, 2.218513523093423, 1.225509030816993, -0.05744835346384874, -0.11673789320091013, -0.30301635565632434, -0.6627327489766144, -0.294755132084432, -0.133052082126597, -0.7027262561520775, 0.21363941721995688, 0.7533029620632767, 0.9161599146948339, -0.38695616486884626, 0.19596958959686875, 2.1597457209110167, 1.6330219307099394, -0.053064503558190354, 0.6603445747130693, 0.3207945904648976, -1.1050354243244225, 1.5637954578971218, 1.2541918745480611, -2.095064611555383, -0.7845842103111716, -0.19468049802855614, -0.4014548287149151, 0.3407950800545804, 0.03272595875779687, -1.3056241417427392, 0.7438543233795972, -1.3227506872869208, 1.0784707979095176, -0.815334722857213, -0.5373819359409527, -1.0606203281249487, 0.441700587416723, -0.32878279305935415, -0.46581137917888865, -1.0904053135674916, -1.26924927808231, 0.31270617806826667, 0.6970749712875615, 0.3153736148451356, -0.45080146910650637, -0.2720063615339261, 1.4044677356602207, -0.019348041080346393, 1.1049428128294767, -2.377128291270848, -1.5073793637973727, -0.926666748211941, 1.8579700229276017, -1.2116095443091348, 0.8236413783722552, -0.32430248425442165, 2.0906677707983916, -0.7044681959680065, -0.1546026406012769, -0.9385406062305209, -0.8692498584291668, -2.3768058600922677, -2.4065090278566914, 1.7172860060023276, 0.16700914108697476, -1.0892987171083033, 1.1821925982620303, 0.3761064908178598, -0.6081613870137292, 0.5683748477954369, -0.2666353852917895, 0.9020386387275965, 0.22303842334880358], \"y\": [0.5484513444208927, -2.3254372400024663, -0.17768498503930882, -0.0413575571659648, 1.0377678595702458, -0.7116014651027107, 0.26857162154881, 1.5290566395723573, -0.2567586755527022, -0.357121113255171, 0.8094544672338446, -0.18796083964617127, -0.027477640202128045, -0.11870292311303313, -2.269461527526842, 1.5955328577357266, -0.8644545357821648, -1.8642968220350373, 0.09017916692978532, -1.344766726938334, 1.1745824220442214, -0.8414367236253527, -0.7884004277579315, -0.1489331864549383, 0.7728688387695918, -2.1409153230074534, 0.34821592049908134, -0.27498245733340865, 0.6490421722801153, -0.3095015003082018, 1.3755435096077888, 0.5295635663635087, 0.3035655123758679, -0.15702303716074245, 1.1704292564472734, -1.52193050513255, -0.17304696512117046, 0.500742618651033, -2.411263379463824, -0.2764586244288876, -0.9354022868432563, 1.6180987037807752, -0.5850556670966817, 0.8064515288677078, -0.1925316499670654, 2.1249498691984603, 0.28824678756934996, 1.0808924511417874, -1.0991069038596877, 2.8523270968784757, -0.1462276160136622, -0.7269456317989939, 1.009683169084365, -0.9128087165867703, 2.739386314769789, -1.3757622114686658, 1.4407905278507112, -2.1437891180414965, -0.8685438816408083, -1.0684204255937035, -1.3909622043143515, -1.708519617763413, -1.033225258404668, -0.9273179566800895, 0.9622755612144613, 0.4036958283171158, -2.066620915349806, -0.5313498777603, -0.37213553235231156, 0.5566243901674788, 0.46809411497026965, 0.03231282758546965, 1.5950315245268063, -0.8677057971639819, 0.5934132541166431, 0.6665791844271618, -1.070293341617307, 0.23247746328414118, 0.1636105945212715, 1.3847638680189123, -0.7468787389615569, -0.6336863846695935, -0.15418321052239078, -0.022964779182480508, 0.13067056650667006, -0.8346647281545524, -0.08276756281076375, -0.23593108329391443, 1.4223691939157483, -1.475177034806321, -0.5631133271333681, -0.9498587583942311, -1.1180928581281955, -1.9290450825993415, 0.22878195896987918, -1.16846732408735, -1.201800804545687, 0.6324538976960572, -0.1723277128840355, 0.2296303534317323]}],\n",
       "                        {\"legend\": {\"bgcolor\": \"#F5F6F9\", \"font\": {\"color\": \"#4D5663\"}}, \"paper_bgcolor\": \"#F5F6F9\", \"plot_bgcolor\": \"#F5F6F9\", \"template\": {\"data\": {\"bar\": [{\"error_x\": {\"color\": \"#2a3f5f\"}, \"error_y\": {\"color\": \"#2a3f5f\"}, \"marker\": {\"line\": {\"color\": \"#E5ECF6\", \"width\": 0.5}}, \"type\": \"bar\"}], \"barpolar\": [{\"marker\": {\"line\": {\"color\": \"#E5ECF6\", \"width\": 0.5}}, \"type\": \"barpolar\"}], \"carpet\": [{\"aaxis\": {\"endlinecolor\": \"#2a3f5f\", \"gridcolor\": \"white\", \"linecolor\": \"white\", \"minorgridcolor\": \"white\", \"startlinecolor\": \"#2a3f5f\"}, \"baxis\": {\"endlinecolor\": \"#2a3f5f\", \"gridcolor\": \"white\", \"linecolor\": \"white\", \"minorgridcolor\": \"white\", \"startlinecolor\": \"#2a3f5f\"}, \"type\": \"carpet\"}], \"choropleth\": [{\"colorbar\": {\"outlinewidth\": 0, \"ticks\": \"\"}, \"type\": \"choropleth\"}], \"contour\": [{\"colorbar\": {\"outlinewidth\": 0, \"ticks\": \"\"}, \"colorscale\": [[0.0, \"#0d0887\"], [0.1111111111111111, \"#46039f\"], [0.2222222222222222, \"#7201a8\"], [0.3333333333333333, \"#9c179e\"], [0.4444444444444444, \"#bd3786\"], [0.5555555555555556, \"#d8576b\"], [0.6666666666666666, \"#ed7953\"], [0.7777777777777778, \"#fb9f3a\"], [0.8888888888888888, \"#fdca26\"], [1.0, \"#f0f921\"]], \"type\": \"contour\"}], \"contourcarpet\": [{\"colorbar\": {\"outlinewidth\": 0, \"ticks\": \"\"}, \"type\": \"contourcarpet\"}], \"heatmap\": [{\"colorbar\": {\"outlinewidth\": 0, \"ticks\": \"\"}, \"colorscale\": [[0.0, \"#0d0887\"], [0.1111111111111111, \"#46039f\"], [0.2222222222222222, \"#7201a8\"], [0.3333333333333333, \"#9c179e\"], [0.4444444444444444, \"#bd3786\"], [0.5555555555555556, \"#d8576b\"], [0.6666666666666666, \"#ed7953\"], [0.7777777777777778, \"#fb9f3a\"], [0.8888888888888888, \"#fdca26\"], [1.0, \"#f0f921\"]], \"type\": \"heatmap\"}], \"heatmapgl\": [{\"colorbar\": {\"outlinewidth\": 0, \"ticks\": \"\"}, \"colorscale\": [[0.0, \"#0d0887\"], [0.1111111111111111, \"#46039f\"], [0.2222222222222222, \"#7201a8\"], [0.3333333333333333, \"#9c179e\"], [0.4444444444444444, \"#bd3786\"], [0.5555555555555556, \"#d8576b\"], [0.6666666666666666, \"#ed7953\"], [0.7777777777777778, \"#fb9f3a\"], [0.8888888888888888, \"#fdca26\"], [1.0, \"#f0f921\"]], \"type\": \"heatmapgl\"}], \"histogram\": [{\"marker\": {\"colorbar\": {\"outlinewidth\": 0, \"ticks\": \"\"}}, \"type\": \"histogram\"}], \"histogram2d\": [{\"colorbar\": {\"outlinewidth\": 0, \"ticks\": \"\"}, \"colorscale\": [[0.0, \"#0d0887\"], [0.1111111111111111, \"#46039f\"], [0.2222222222222222, \"#7201a8\"], [0.3333333333333333, \"#9c179e\"], [0.4444444444444444, \"#bd3786\"], [0.5555555555555556, \"#d8576b\"], [0.6666666666666666, \"#ed7953\"], [0.7777777777777778, \"#fb9f3a\"], [0.8888888888888888, \"#fdca26\"], [1.0, \"#f0f921\"]], \"type\": \"histogram2d\"}], \"histogram2dcontour\": [{\"colorbar\": {\"outlinewidth\": 0, \"ticks\": \"\"}, \"colorscale\": [[0.0, \"#0d0887\"], [0.1111111111111111, \"#46039f\"], [0.2222222222222222, \"#7201a8\"], [0.3333333333333333, \"#9c179e\"], [0.4444444444444444, \"#bd3786\"], [0.5555555555555556, \"#d8576b\"], [0.6666666666666666, \"#ed7953\"], [0.7777777777777778, \"#fb9f3a\"], [0.8888888888888888, \"#fdca26\"], [1.0, \"#f0f921\"]], \"type\": \"histogram2dcontour\"}], \"mesh3d\": [{\"colorbar\": {\"outlinewidth\": 0, \"ticks\": \"\"}, \"type\": \"mesh3d\"}], \"parcoords\": [{\"line\": {\"colorbar\": {\"outlinewidth\": 0, \"ticks\": \"\"}}, \"type\": \"parcoords\"}], \"pie\": [{\"automargin\": true, \"type\": \"pie\"}], \"scatter\": [{\"marker\": {\"colorbar\": {\"outlinewidth\": 0, \"ticks\": \"\"}}, \"type\": \"scatter\"}], \"scatter3d\": [{\"line\": {\"colorbar\": {\"outlinewidth\": 0, \"ticks\": \"\"}}, \"marker\": {\"colorbar\": {\"outlinewidth\": 0, \"ticks\": \"\"}}, \"type\": \"scatter3d\"}], \"scattercarpet\": [{\"marker\": {\"colorbar\": {\"outlinewidth\": 0, \"ticks\": \"\"}}, \"type\": \"scattercarpet\"}], \"scattergeo\": [{\"marker\": {\"colorbar\": {\"outlinewidth\": 0, \"ticks\": \"\"}}, \"type\": \"scattergeo\"}], \"scattergl\": [{\"marker\": {\"colorbar\": {\"outlinewidth\": 0, \"ticks\": \"\"}}, \"type\": \"scattergl\"}], \"scattermapbox\": [{\"marker\": {\"colorbar\": {\"outlinewidth\": 0, \"ticks\": \"\"}}, \"type\": \"scattermapbox\"}], \"scatterpolar\": [{\"marker\": {\"colorbar\": {\"outlinewidth\": 0, \"ticks\": \"\"}}, \"type\": \"scatterpolar\"}], \"scatterpolargl\": [{\"marker\": {\"colorbar\": {\"outlinewidth\": 0, \"ticks\": \"\"}}, \"type\": \"scatterpolargl\"}], \"scatterternary\": [{\"marker\": {\"colorbar\": {\"outlinewidth\": 0, \"ticks\": \"\"}}, \"type\": \"scatterternary\"}], \"surface\": [{\"colorbar\": {\"outlinewidth\": 0, \"ticks\": \"\"}, \"colorscale\": [[0.0, \"#0d0887\"], [0.1111111111111111, \"#46039f\"], [0.2222222222222222, \"#7201a8\"], [0.3333333333333333, \"#9c179e\"], [0.4444444444444444, \"#bd3786\"], [0.5555555555555556, \"#d8576b\"], [0.6666666666666666, \"#ed7953\"], [0.7777777777777778, \"#fb9f3a\"], [0.8888888888888888, \"#fdca26\"], [1.0, \"#f0f921\"]], \"type\": \"surface\"}], \"table\": [{\"cells\": {\"fill\": {\"color\": \"#EBF0F8\"}, \"line\": {\"color\": \"white\"}}, \"header\": {\"fill\": {\"color\": \"#C8D4E3\"}, \"line\": {\"color\": \"white\"}}, \"type\": \"table\"}]}, \"layout\": {\"annotationdefaults\": {\"arrowcolor\": \"#2a3f5f\", \"arrowhead\": 0, \"arrowwidth\": 1}, \"coloraxis\": {\"colorbar\": {\"outlinewidth\": 0, \"ticks\": \"\"}}, \"colorscale\": {\"diverging\": [[0, \"#8e0152\"], [0.1, \"#c51b7d\"], [0.2, \"#de77ae\"], [0.3, \"#f1b6da\"], [0.4, \"#fde0ef\"], [0.5, \"#f7f7f7\"], [0.6, \"#e6f5d0\"], [0.7, \"#b8e186\"], [0.8, \"#7fbc41\"], [0.9, \"#4d9221\"], [1, \"#276419\"]], \"sequential\": [[0.0, \"#0d0887\"], [0.1111111111111111, \"#46039f\"], [0.2222222222222222, \"#7201a8\"], [0.3333333333333333, \"#9c179e\"], [0.4444444444444444, \"#bd3786\"], [0.5555555555555556, \"#d8576b\"], [0.6666666666666666, \"#ed7953\"], [0.7777777777777778, \"#fb9f3a\"], [0.8888888888888888, \"#fdca26\"], [1.0, \"#f0f921\"]], \"sequentialminus\": [[0.0, \"#0d0887\"], [0.1111111111111111, \"#46039f\"], [0.2222222222222222, \"#7201a8\"], [0.3333333333333333, \"#9c179e\"], [0.4444444444444444, \"#bd3786\"], [0.5555555555555556, \"#d8576b\"], [0.6666666666666666, \"#ed7953\"], [0.7777777777777778, \"#fb9f3a\"], [0.8888888888888888, \"#fdca26\"], [1.0, \"#f0f921\"]]}, \"colorway\": [\"#636efa\", \"#EF553B\", \"#00cc96\", \"#ab63fa\", \"#FFA15A\", \"#19d3f3\", \"#FF6692\", \"#B6E880\", \"#FF97FF\", \"#FECB52\"], \"font\": {\"color\": \"#2a3f5f\"}, \"geo\": {\"bgcolor\": \"white\", \"lakecolor\": \"white\", \"landcolor\": \"#E5ECF6\", \"showlakes\": true, \"showland\": true, \"subunitcolor\": \"white\"}, \"hoverlabel\": {\"align\": \"left\"}, \"hovermode\": \"closest\", \"mapbox\": {\"style\": \"light\"}, \"paper_bgcolor\": \"white\", \"plot_bgcolor\": \"#E5ECF6\", \"polar\": {\"angularaxis\": {\"gridcolor\": \"white\", \"linecolor\": \"white\", \"ticks\": \"\"}, \"bgcolor\": \"#E5ECF6\", \"radialaxis\": {\"gridcolor\": \"white\", \"linecolor\": \"white\", \"ticks\": \"\"}}, \"scene\": {\"xaxis\": {\"backgroundcolor\": \"#E5ECF6\", \"gridcolor\": \"white\", \"gridwidth\": 2, \"linecolor\": \"white\", \"showbackground\": true, \"ticks\": \"\", \"zerolinecolor\": \"white\"}, \"yaxis\": {\"backgroundcolor\": \"#E5ECF6\", \"gridcolor\": \"white\", \"gridwidth\": 2, \"linecolor\": \"white\", \"showbackground\": true, \"ticks\": \"\", \"zerolinecolor\": \"white\"}, \"zaxis\": {\"backgroundcolor\": \"#E5ECF6\", \"gridcolor\": \"white\", \"gridwidth\": 2, \"linecolor\": \"white\", \"showbackground\": true, \"ticks\": \"\", \"zerolinecolor\": \"white\"}}, \"shapedefaults\": {\"line\": {\"color\": \"#2a3f5f\"}}, \"ternary\": {\"aaxis\": {\"gridcolor\": \"white\", \"linecolor\": \"white\", \"ticks\": \"\"}, \"baxis\": {\"gridcolor\": \"white\", \"linecolor\": \"white\", \"ticks\": \"\"}, \"bgcolor\": \"#E5ECF6\", \"caxis\": {\"gridcolor\": \"white\", \"linecolor\": \"white\", \"ticks\": \"\"}}, \"title\": {\"x\": 0.05}, \"xaxis\": {\"automargin\": true, \"gridcolor\": \"white\", \"linecolor\": \"white\", \"ticks\": \"\", \"title\": {\"standoff\": 15}, \"zerolinecolor\": \"white\", \"zerolinewidth\": 2}, \"yaxis\": {\"automargin\": true, \"gridcolor\": \"white\", \"linecolor\": \"white\", \"ticks\": \"\", \"title\": {\"standoff\": 15}, \"zerolinecolor\": \"white\", \"zerolinewidth\": 2}}}, \"title\": {\"font\": {\"color\": \"#4D5663\"}}, \"xaxis\": {\"gridcolor\": \"#E1E5ED\", \"showgrid\": true, \"tickfont\": {\"color\": \"#4D5663\"}, \"title\": {\"font\": {\"color\": \"#4D5663\"}, \"text\": \"\"}, \"zerolinecolor\": \"#E1E5ED\"}, \"yaxis\": {\"gridcolor\": \"#E1E5ED\", \"showgrid\": true, \"tickfont\": {\"color\": \"#4D5663\"}, \"title\": {\"font\": {\"color\": \"#4D5663\"}, \"text\": \"\"}, \"zerolinecolor\": \"#E1E5ED\"}},\n",
       "                        {\"showLink\": true, \"linkText\": \"Export to plot.ly\", \"plotlyServerURL\": \"https://plot.ly\", \"responsive\": true}\n",
       "                    ).then(function(){\n",
       "                            \n",
       "var gd = document.getElementById('95538457-3f7d-4c75-a6ea-22032a2933b2');\n",
       "var x = new MutationObserver(function (mutations, observer) {{\n",
       "        var display = window.getComputedStyle(gd).display;\n",
       "        if (!display || display === 'none') {{\n",
       "            console.log([gd, 'removed!']);\n",
       "            Plotly.purge(gd);\n",
       "            observer.disconnect();\n",
       "        }}\n",
       "}});\n",
       "\n",
       "// Listen for the removal of the full notebook cells\n",
       "var notebookContainer = gd.closest('#notebook-container');\n",
       "if (notebookContainer) {{\n",
       "    x.observe(notebookContainer, {childList: true});\n",
       "}}\n",
       "\n",
       "// Listen for the clearing of the current output cell\n",
       "var outputEl = gd.closest('.output');\n",
       "if (outputEl) {{\n",
       "    x.observe(outputEl, {childList: true});\n",
       "}}\n",
       "\n",
       "                        })\n",
       "                };\n",
       "                });\n",
       "            </script>\n",
       "        </div>"
      ]
     },
     "metadata": {},
     "output_type": "display_data"
    }
   ],
   "source": [
    "df.iplot(kind='bubble',x='A',y='B',size='C')"
   ]
  },
  {
   "cell_type": "code",
   "execution_count": 41,
   "metadata": {},
   "outputs": [
    {
     "data": {
      "application/vnd.plotly.v1+json": {
       "config": {
        "linkText": "Export to plot.ly",
        "plotlyServerURL": "https://plot.ly",
        "showLink": true
       },
       "data": [
        {
         "histfunc": "count",
         "histnorm": "",
         "marker": {
          "color": "rgba(255, 153, 51, 1.0)",
          "line": {
           "color": "#4D5663",
           "width": 1.3
          }
         },
         "name": "A",
         "nbinsx": 10,
         "opacity": 0.8,
         "orientation": "v",
         "type": "histogram",
         "x": [
          -0.171640601897393,
          -0.43651310026760143,
          0.1915612390123302,
          -1.056703312019151,
          0.4223324960551365,
          1.2877468203367912,
          -0.5709727518406853,
          2.1648676554773516,
          -1.2710537136872033,
          0.16778935785866875,
          1.0923398653718392,
          0.4925306791099881,
          -0.703668513206629,
          -1.4524459966421268,
          -1.2744387261513341,
          0.48551604613423355,
          -0.08955322711220023,
          -0.29027573121328615,
          0.7745650160804478,
          -1.1099619262798022,
          -1.9683383872344231,
          -0.29436352576008007,
          -0.6114534149828592,
          -0.6016002569315776,
          0.6621081449698877,
          0.21266807621964742,
          -0.14196204190623365,
          0.8455808080508328,
          2.218513523093423,
          1.225509030816993,
          -0.05744835346384874,
          -0.11673789320091013,
          -0.30301635565632434,
          -0.6627327489766144,
          -0.294755132084432,
          -0.133052082126597,
          -0.7027262561520775,
          0.21363941721995688,
          0.7533029620632767,
          0.9161599146948339,
          -0.38695616486884626,
          0.19596958959686875,
          2.1597457209110167,
          1.6330219307099394,
          -0.053064503558190354,
          0.6603445747130693,
          0.3207945904648976,
          -1.1050354243244225,
          1.5637954578971218,
          1.2541918745480611,
          -2.095064611555383,
          -0.7845842103111716,
          -0.19468049802855614,
          -0.4014548287149151,
          0.3407950800545804,
          0.03272595875779687,
          -1.3056241417427392,
          0.7438543233795972,
          -1.3227506872869208,
          1.0784707979095176,
          -0.815334722857213,
          -0.5373819359409527,
          -1.0606203281249487,
          0.441700587416723,
          -0.32878279305935415,
          -0.46581137917888865,
          -1.0904053135674916,
          -1.26924927808231,
          0.31270617806826667,
          0.6970749712875615,
          0.3153736148451356,
          -0.45080146910650637,
          -0.2720063615339261,
          1.4044677356602207,
          -0.019348041080346393,
          1.1049428128294767,
          -2.377128291270848,
          -1.5073793637973727,
          -0.926666748211941,
          1.8579700229276017,
          -1.2116095443091348,
          0.8236413783722552,
          -0.32430248425442165,
          2.0906677707983916,
          -0.7044681959680065,
          -0.1546026406012769,
          -0.9385406062305209,
          -0.8692498584291668,
          -2.3768058600922677,
          -2.4065090278566914,
          1.7172860060023276,
          0.16700914108697476,
          -1.0892987171083033,
          1.1821925982620303,
          0.3761064908178598,
          -0.6081613870137292,
          0.5683748477954369,
          -0.2666353852917895,
          0.9020386387275965,
          0.22303842334880358
         ],
         "xaxis": "x",
         "yaxis": "y"
        },
        {
         "line": {
          "color": "rgba(128, 128, 128, 1.0)",
          "dash": "solid",
          "shape": "linear",
          "width": 1.3
         },
         "marker": {
          "size": 2,
          "symbol": "circle"
         },
         "mode": "markers",
         "name": "A",
         "text": "",
         "type": "scatter",
         "x": [
          0.5484513444208927,
          -2.3254372400024663,
          -0.17768498503930882,
          -0.0413575571659648,
          1.0377678595702458,
          -0.7116014651027107,
          0.26857162154881,
          1.5290566395723573,
          -0.2567586755527022,
          -0.357121113255171,
          0.8094544672338446,
          -0.18796083964617127,
          -0.027477640202128045,
          -0.11870292311303313,
          -2.269461527526842,
          1.5955328577357266,
          -0.8644545357821648,
          -1.8642968220350373,
          0.09017916692978532,
          -1.344766726938334,
          1.1745824220442214,
          -0.8414367236253527,
          -0.7884004277579315,
          -0.1489331864549383,
          0.7728688387695918,
          -2.1409153230074534,
          0.34821592049908134,
          -0.27498245733340865,
          0.6490421722801153,
          -0.3095015003082018,
          1.3755435096077888,
          0.5295635663635087,
          0.3035655123758679,
          -0.15702303716074245,
          1.1704292564472734,
          -1.52193050513255,
          -0.17304696512117046,
          0.500742618651033,
          -2.411263379463824,
          -0.2764586244288876,
          -0.9354022868432563,
          1.6180987037807752,
          -0.5850556670966817,
          0.8064515288677078,
          -0.1925316499670654,
          2.1249498691984603,
          0.28824678756934996,
          1.0808924511417874,
          -1.0991069038596877,
          2.8523270968784757,
          -0.1462276160136622,
          -0.7269456317989939,
          1.009683169084365,
          -0.9128087165867703,
          2.739386314769789,
          -1.3757622114686658,
          1.4407905278507112,
          -2.1437891180414965,
          -0.8685438816408083,
          -1.0684204255937035,
          -1.3909622043143515,
          -1.708519617763413,
          -1.033225258404668,
          -0.9273179566800895,
          0.9622755612144613,
          0.4036958283171158,
          -2.066620915349806,
          -0.5313498777603,
          -0.37213553235231156,
          0.5566243901674788,
          0.46809411497026965,
          0.03231282758546965,
          1.5950315245268063,
          -0.8677057971639819,
          0.5934132541166431,
          0.6665791844271618,
          -1.070293341617307,
          0.23247746328414118,
          0.1636105945212715,
          1.3847638680189123,
          -0.7468787389615569,
          -0.6336863846695935,
          -0.15418321052239078,
          -0.022964779182480508,
          0.13067056650667006,
          -0.8346647281545524,
          -0.08276756281076375,
          -0.23593108329391443,
          1.4223691939157483,
          -1.475177034806321,
          -0.5631133271333681,
          -0.9498587583942311,
          -1.1180928581281955,
          -1.9290450825993415,
          0.22878195896987918,
          -1.16846732408735,
          -1.201800804545687,
          0.6324538976960572,
          -0.1723277128840355,
          0.2296303534317323
         ],
         "xaxis": "x2",
         "y": [
          -0.171640601897393,
          -0.43651310026760143,
          0.1915612390123302,
          -1.056703312019151,
          0.4223324960551365,
          1.2877468203367912,
          -0.5709727518406853,
          2.1648676554773516,
          -1.2710537136872033,
          0.16778935785866875,
          1.0923398653718392,
          0.4925306791099881,
          -0.703668513206629,
          -1.4524459966421268,
          -1.2744387261513341,
          0.48551604613423355,
          -0.08955322711220023,
          -0.29027573121328615,
          0.7745650160804478,
          -1.1099619262798022,
          -1.9683383872344231,
          -0.29436352576008007,
          -0.6114534149828592,
          -0.6016002569315776,
          0.6621081449698877,
          0.21266807621964742,
          -0.14196204190623365,
          0.8455808080508328,
          2.218513523093423,
          1.225509030816993,
          -0.05744835346384874,
          -0.11673789320091013,
          -0.30301635565632434,
          -0.6627327489766144,
          -0.294755132084432,
          -0.133052082126597,
          -0.7027262561520775,
          0.21363941721995688,
          0.7533029620632767,
          0.9161599146948339,
          -0.38695616486884626,
          0.19596958959686875,
          2.1597457209110167,
          1.6330219307099394,
          -0.053064503558190354,
          0.6603445747130693,
          0.3207945904648976,
          -1.1050354243244225,
          1.5637954578971218,
          1.2541918745480611,
          -2.095064611555383,
          -0.7845842103111716,
          -0.19468049802855614,
          -0.4014548287149151,
          0.3407950800545804,
          0.03272595875779687,
          -1.3056241417427392,
          0.7438543233795972,
          -1.3227506872869208,
          1.0784707979095176,
          -0.815334722857213,
          -0.5373819359409527,
          -1.0606203281249487,
          0.441700587416723,
          -0.32878279305935415,
          -0.46581137917888865,
          -1.0904053135674916,
          -1.26924927808231,
          0.31270617806826667,
          0.6970749712875615,
          0.3153736148451356,
          -0.45080146910650637,
          -0.2720063615339261,
          1.4044677356602207,
          -0.019348041080346393,
          1.1049428128294767,
          -2.377128291270848,
          -1.5073793637973727,
          -0.926666748211941,
          1.8579700229276017,
          -1.2116095443091348,
          0.8236413783722552,
          -0.32430248425442165,
          2.0906677707983916,
          -0.7044681959680065,
          -0.1546026406012769,
          -0.9385406062305209,
          -0.8692498584291668,
          -2.3768058600922677,
          -2.4065090278566914,
          1.7172860060023276,
          0.16700914108697476,
          -1.0892987171083033,
          1.1821925982620303,
          0.3761064908178598,
          -0.6081613870137292,
          0.5683748477954369,
          -0.2666353852917895,
          0.9020386387275965,
          0.22303842334880358
         ],
         "yaxis": "y2"
        },
        {
         "line": {
          "color": "rgba(128, 128, 128, 1.0)",
          "dash": "solid",
          "shape": "linear",
          "width": 1.3
         },
         "marker": {
          "size": 2,
          "symbol": "circle"
         },
         "mode": "markers",
         "name": "A",
         "text": "",
         "type": "scatter",
         "x": [
          -0.5983437620713272,
          -2.6604175619961046,
          -0.6893577279175397,
          -0.5229880431507179,
          -1.1142570311277662,
          0.4144329010324235,
          1.0709199857046865,
          0.24185000081928387,
          0.8679028870583181,
          0.8552503604199,
          -0.6897875923656063,
          -0.6170711861715913,
          -0.574019045561744,
          -0.42602932488795464,
          -0.06540747052858152,
          1.01225862618407,
          0.5725334774448296,
          -0.47718574956385784,
          0.29591534234625394,
          1.0713609097573518,
          1.7850760760870759,
          0.6615370182444141,
          -0.09975617128227394,
          0.6265897988876452,
          -0.434442435536369,
          0.9189381575943047,
          1.1426297546254645,
          0.05469376367844408,
          0.7664286517069745,
          1.4460545893069578,
          -1.2564294325418002,
          0.4220576687942533,
          0.6289966738488311,
          -0.2788764402500565,
          0.5015049964356932,
          1.514458160544959,
          0.2782476011345647,
          0.269754598159741,
          1.3519102352351455,
          -0.12193137836822808,
          -2.178769420790974,
          0.8539668969339135,
          1.3839608405729358,
          0.46683197255988956,
          1.8590406800885484,
          0.3395093676304781,
          0.40311363481143375,
          -1.0741084327550467,
          -0.6594594819662645,
          -0.1065325263332107,
          1.0030409948514505,
          -2.2465625425281024,
          0.5250755374331697,
          0.5874277050905309,
          0.06617762829699439,
          -0.44520947266094435,
          1.5031363729296439,
          0.2683309891489996,
          0.8941013914258936,
          1.1900921079684381,
          -1.592338528514025,
          0.7848888225422255,
          1.8842823892513476,
          -0.2825083302404101,
          -0.33813550666448006,
          -0.25537087832581873,
          -0.7211597678307854,
          -1.734912570192576,
          0.9561537011128859,
          0.16208957636882837,
          -1.2000533555518906,
          0.4408341380584331,
          -1.449277089723586,
          0.034329587009165954,
          -0.04604054983925971,
          0.8974630060064327,
          0.16304891450080738,
          1.9638360203986867,
          -1.5776099100630412,
          0.7609264198270365,
          0.969561171471672,
          -1.0991506011551149,
          -1.465825439340637,
          -1.314898729207641,
          -0.8380424127033789,
          0.4373953826702947,
          0.45037384631284544,
          -0.8904920643002715,
          -0.5810637913845554,
          0.3925376368775025,
          0.2579651317698921,
          -1.0810556062247758,
          -0.31741955255737236,
          1.618570911321861,
          1.0238726864773395,
          -0.13573365567790135,
          -0.8632715661196068,
          0.6288163109271624,
          -0.2819767637068381,
          2.2988019665203265
         ],
         "xaxis": "x3",
         "y": [
          -0.171640601897393,
          -0.43651310026760143,
          0.1915612390123302,
          -1.056703312019151,
          0.4223324960551365,
          1.2877468203367912,
          -0.5709727518406853,
          2.1648676554773516,
          -1.2710537136872033,
          0.16778935785866875,
          1.0923398653718392,
          0.4925306791099881,
          -0.703668513206629,
          -1.4524459966421268,
          -1.2744387261513341,
          0.48551604613423355,
          -0.08955322711220023,
          -0.29027573121328615,
          0.7745650160804478,
          -1.1099619262798022,
          -1.9683383872344231,
          -0.29436352576008007,
          -0.6114534149828592,
          -0.6016002569315776,
          0.6621081449698877,
          0.21266807621964742,
          -0.14196204190623365,
          0.8455808080508328,
          2.218513523093423,
          1.225509030816993,
          -0.05744835346384874,
          -0.11673789320091013,
          -0.30301635565632434,
          -0.6627327489766144,
          -0.294755132084432,
          -0.133052082126597,
          -0.7027262561520775,
          0.21363941721995688,
          0.7533029620632767,
          0.9161599146948339,
          -0.38695616486884626,
          0.19596958959686875,
          2.1597457209110167,
          1.6330219307099394,
          -0.053064503558190354,
          0.6603445747130693,
          0.3207945904648976,
          -1.1050354243244225,
          1.5637954578971218,
          1.2541918745480611,
          -2.095064611555383,
          -0.7845842103111716,
          -0.19468049802855614,
          -0.4014548287149151,
          0.3407950800545804,
          0.03272595875779687,
          -1.3056241417427392,
          0.7438543233795972,
          -1.3227506872869208,
          1.0784707979095176,
          -0.815334722857213,
          -0.5373819359409527,
          -1.0606203281249487,
          0.441700587416723,
          -0.32878279305935415,
          -0.46581137917888865,
          -1.0904053135674916,
          -1.26924927808231,
          0.31270617806826667,
          0.6970749712875615,
          0.3153736148451356,
          -0.45080146910650637,
          -0.2720063615339261,
          1.4044677356602207,
          -0.019348041080346393,
          1.1049428128294767,
          -2.377128291270848,
          -1.5073793637973727,
          -0.926666748211941,
          1.8579700229276017,
          -1.2116095443091348,
          0.8236413783722552,
          -0.32430248425442165,
          2.0906677707983916,
          -0.7044681959680065,
          -0.1546026406012769,
          -0.9385406062305209,
          -0.8692498584291668,
          -2.3768058600922677,
          -2.4065090278566914,
          1.7172860060023276,
          0.16700914108697476,
          -1.0892987171083033,
          1.1821925982620303,
          0.3761064908178598,
          -0.6081613870137292,
          0.5683748477954369,
          -0.2666353852917895,
          0.9020386387275965,
          0.22303842334880358
         ],
         "yaxis": "y3"
        },
        {
         "line": {
          "color": "rgba(128, 128, 128, 1.0)",
          "dash": "solid",
          "shape": "linear",
          "width": 1.3
         },
         "marker": {
          "size": 2,
          "symbol": "circle"
         },
         "mode": "markers",
         "name": "A",
         "text": "",
         "type": "scatter",
         "x": [
          0.8338514606350064,
          -0.10584992645229413,
          -0.2706609825615641,
          0.5996801983644825,
          0.40359100466599535,
          2.641790207427108,
          0.13224103676807694,
          0.35313713991942014,
          1.144896307631846,
          1.9946928047934107,
          -0.9171338011956501,
          -0.4791782716060962,
          -0.6726579700852056,
          1.831020641813482,
          -0.1523547432486442,
          0.3354427663278796,
          -2.441582962241704,
          1.9715015842875654,
          0.5494742773319939,
          0.6145317653973147,
          -1.1806025799960154,
          0.5155567640803262,
          -1.3242560220644943,
          0.041700160836206965,
          0.9468186268366223,
          -0.5619512409700159,
          -0.7413321342009079,
          0.820528530608833,
          -0.6458138002254487,
          0.050524454707551014,
          0.862396604461523,
          2.253816471768166,
          0.4648313687438735,
          -0.16136990451619151,
          2.1987705070284673,
          -0.5727987959263574,
          -1.7115241145055666,
          2.073776369230856,
          0.625241141366843,
          1.5292209070329297,
          -0.5107014925784714,
          -0.31939413263433497,
          0.646758037652685,
          -0.2779513216230143,
          -0.19124944161845978,
          0.9571695847179208,
          -1.1048580560914822,
          -0.8984915407298146,
          1.3273431506933735,
          -1.333150838500644,
          -0.1985793201190395,
          2.019330939054003,
          1.2948297395951902,
          -0.3749962350083088,
          0.7563352984444898,
          0.1117176438204793,
          0.5872748114399307,
          -0.429718197605014,
          1.1580569489872719,
          -0.7458610043235129,
          0.8355882588036868,
          0.42485291323705143,
          0.4424168054773275,
          0.14127394287620942,
          -0.6154617117321134,
          -0.5110598682054509,
          0.13496982598516002,
          1.0245401663215845,
          -2.0311036813716705,
          -1.0250819271742715,
          -1.8636033313844171,
          0.8574905588910688,
          0.049503038730056084,
          -0.4104207782106683,
          -0.13764615619265963,
          0.2844344254242617,
          -0.7411574434948729,
          -0.9502016965746825,
          0.8689197050008775,
          -1.9318681506349502,
          0.471433643085626,
          0.585171420032461,
          0.6404961794771034,
          -0.22741488276623759,
          -1.0205085255341666,
          0.05233227104990713,
          0.49628856355218215,
          -0.8950524060645041,
          1.8180841461402975,
          -0.817214388120829,
          1.1765542892213678,
          0.6038964891497567,
          -0.29640169240258973,
          1.7917165418241447,
          -0.9923304082753172,
          1.4156913840918108,
          -0.37184430284858083,
          0.3670786989417944,
          -1.0405526567533496,
          0.9209916696959721
         ],
         "xaxis": "x4",
         "y": [
          -0.171640601897393,
          -0.43651310026760143,
          0.1915612390123302,
          -1.056703312019151,
          0.4223324960551365,
          1.2877468203367912,
          -0.5709727518406853,
          2.1648676554773516,
          -1.2710537136872033,
          0.16778935785866875,
          1.0923398653718392,
          0.4925306791099881,
          -0.703668513206629,
          -1.4524459966421268,
          -1.2744387261513341,
          0.48551604613423355,
          -0.08955322711220023,
          -0.29027573121328615,
          0.7745650160804478,
          -1.1099619262798022,
          -1.9683383872344231,
          -0.29436352576008007,
          -0.6114534149828592,
          -0.6016002569315776,
          0.6621081449698877,
          0.21266807621964742,
          -0.14196204190623365,
          0.8455808080508328,
          2.218513523093423,
          1.225509030816993,
          -0.05744835346384874,
          -0.11673789320091013,
          -0.30301635565632434,
          -0.6627327489766144,
          -0.294755132084432,
          -0.133052082126597,
          -0.7027262561520775,
          0.21363941721995688,
          0.7533029620632767,
          0.9161599146948339,
          -0.38695616486884626,
          0.19596958959686875,
          2.1597457209110167,
          1.6330219307099394,
          -0.053064503558190354,
          0.6603445747130693,
          0.3207945904648976,
          -1.1050354243244225,
          1.5637954578971218,
          1.2541918745480611,
          -2.095064611555383,
          -0.7845842103111716,
          -0.19468049802855614,
          -0.4014548287149151,
          0.3407950800545804,
          0.03272595875779687,
          -1.3056241417427392,
          0.7438543233795972,
          -1.3227506872869208,
          1.0784707979095176,
          -0.815334722857213,
          -0.5373819359409527,
          -1.0606203281249487,
          0.441700587416723,
          -0.32878279305935415,
          -0.46581137917888865,
          -1.0904053135674916,
          -1.26924927808231,
          0.31270617806826667,
          0.6970749712875615,
          0.3153736148451356,
          -0.45080146910650637,
          -0.2720063615339261,
          1.4044677356602207,
          -0.019348041080346393,
          1.1049428128294767,
          -2.377128291270848,
          -1.5073793637973727,
          -0.926666748211941,
          1.8579700229276017,
          -1.2116095443091348,
          0.8236413783722552,
          -0.32430248425442165,
          2.0906677707983916,
          -0.7044681959680065,
          -0.1546026406012769,
          -0.9385406062305209,
          -0.8692498584291668,
          -2.3768058600922677,
          -2.4065090278566914,
          1.7172860060023276,
          0.16700914108697476,
          -1.0892987171083033,
          1.1821925982620303,
          0.3761064908178598,
          -0.6081613870137292,
          0.5683748477954369,
          -0.2666353852917895,
          0.9020386387275965,
          0.22303842334880358
         ],
         "yaxis": "y4"
        },
        {
         "line": {
          "color": "rgba(128, 128, 128, 1.0)",
          "dash": "solid",
          "shape": "linear",
          "width": 1.3
         },
         "marker": {
          "size": 2,
          "symbol": "circle"
         },
         "mode": "markers",
         "name": "B",
         "text": "",
         "type": "scatter",
         "x": [
          -0.171640601897393,
          -0.43651310026760143,
          0.1915612390123302,
          -1.056703312019151,
          0.4223324960551365,
          1.2877468203367912,
          -0.5709727518406853,
          2.1648676554773516,
          -1.2710537136872033,
          0.16778935785866875,
          1.0923398653718392,
          0.4925306791099881,
          -0.703668513206629,
          -1.4524459966421268,
          -1.2744387261513341,
          0.48551604613423355,
          -0.08955322711220023,
          -0.29027573121328615,
          0.7745650160804478,
          -1.1099619262798022,
          -1.9683383872344231,
          -0.29436352576008007,
          -0.6114534149828592,
          -0.6016002569315776,
          0.6621081449698877,
          0.21266807621964742,
          -0.14196204190623365,
          0.8455808080508328,
          2.218513523093423,
          1.225509030816993,
          -0.05744835346384874,
          -0.11673789320091013,
          -0.30301635565632434,
          -0.6627327489766144,
          -0.294755132084432,
          -0.133052082126597,
          -0.7027262561520775,
          0.21363941721995688,
          0.7533029620632767,
          0.9161599146948339,
          -0.38695616486884626,
          0.19596958959686875,
          2.1597457209110167,
          1.6330219307099394,
          -0.053064503558190354,
          0.6603445747130693,
          0.3207945904648976,
          -1.1050354243244225,
          1.5637954578971218,
          1.2541918745480611,
          -2.095064611555383,
          -0.7845842103111716,
          -0.19468049802855614,
          -0.4014548287149151,
          0.3407950800545804,
          0.03272595875779687,
          -1.3056241417427392,
          0.7438543233795972,
          -1.3227506872869208,
          1.0784707979095176,
          -0.815334722857213,
          -0.5373819359409527,
          -1.0606203281249487,
          0.441700587416723,
          -0.32878279305935415,
          -0.46581137917888865,
          -1.0904053135674916,
          -1.26924927808231,
          0.31270617806826667,
          0.6970749712875615,
          0.3153736148451356,
          -0.45080146910650637,
          -0.2720063615339261,
          1.4044677356602207,
          -0.019348041080346393,
          1.1049428128294767,
          -2.377128291270848,
          -1.5073793637973727,
          -0.926666748211941,
          1.8579700229276017,
          -1.2116095443091348,
          0.8236413783722552,
          -0.32430248425442165,
          2.0906677707983916,
          -0.7044681959680065,
          -0.1546026406012769,
          -0.9385406062305209,
          -0.8692498584291668,
          -2.3768058600922677,
          -2.4065090278566914,
          1.7172860060023276,
          0.16700914108697476,
          -1.0892987171083033,
          1.1821925982620303,
          0.3761064908178598,
          -0.6081613870137292,
          0.5683748477954369,
          -0.2666353852917895,
          0.9020386387275965,
          0.22303842334880358
         ],
         "xaxis": "x5",
         "y": [
          0.5484513444208927,
          -2.3254372400024663,
          -0.17768498503930882,
          -0.0413575571659648,
          1.0377678595702458,
          -0.7116014651027107,
          0.26857162154881,
          1.5290566395723573,
          -0.2567586755527022,
          -0.357121113255171,
          0.8094544672338446,
          -0.18796083964617127,
          -0.027477640202128045,
          -0.11870292311303313,
          -2.269461527526842,
          1.5955328577357266,
          -0.8644545357821648,
          -1.8642968220350373,
          0.09017916692978532,
          -1.344766726938334,
          1.1745824220442214,
          -0.8414367236253527,
          -0.7884004277579315,
          -0.1489331864549383,
          0.7728688387695918,
          -2.1409153230074534,
          0.34821592049908134,
          -0.27498245733340865,
          0.6490421722801153,
          -0.3095015003082018,
          1.3755435096077888,
          0.5295635663635087,
          0.3035655123758679,
          -0.15702303716074245,
          1.1704292564472734,
          -1.52193050513255,
          -0.17304696512117046,
          0.500742618651033,
          -2.411263379463824,
          -0.2764586244288876,
          -0.9354022868432563,
          1.6180987037807752,
          -0.5850556670966817,
          0.8064515288677078,
          -0.1925316499670654,
          2.1249498691984603,
          0.28824678756934996,
          1.0808924511417874,
          -1.0991069038596877,
          2.8523270968784757,
          -0.1462276160136622,
          -0.7269456317989939,
          1.009683169084365,
          -0.9128087165867703,
          2.739386314769789,
          -1.3757622114686658,
          1.4407905278507112,
          -2.1437891180414965,
          -0.8685438816408083,
          -1.0684204255937035,
          -1.3909622043143515,
          -1.708519617763413,
          -1.033225258404668,
          -0.9273179566800895,
          0.9622755612144613,
          0.4036958283171158,
          -2.066620915349806,
          -0.5313498777603,
          -0.37213553235231156,
          0.5566243901674788,
          0.46809411497026965,
          0.03231282758546965,
          1.5950315245268063,
          -0.8677057971639819,
          0.5934132541166431,
          0.6665791844271618,
          -1.070293341617307,
          0.23247746328414118,
          0.1636105945212715,
          1.3847638680189123,
          -0.7468787389615569,
          -0.6336863846695935,
          -0.15418321052239078,
          -0.022964779182480508,
          0.13067056650667006,
          -0.8346647281545524,
          -0.08276756281076375,
          -0.23593108329391443,
          1.4223691939157483,
          -1.475177034806321,
          -0.5631133271333681,
          -0.9498587583942311,
          -1.1180928581281955,
          -1.9290450825993415,
          0.22878195896987918,
          -1.16846732408735,
          -1.201800804545687,
          0.6324538976960572,
          -0.1723277128840355,
          0.2296303534317323
         ],
         "yaxis": "y5"
        },
        {
         "histfunc": "count",
         "histnorm": "",
         "marker": {
          "color": "rgba(55, 128, 191, 1.0)",
          "line": {
           "color": "#4D5663",
           "width": 1.3
          }
         },
         "name": "B",
         "nbinsx": 10,
         "opacity": 0.8,
         "orientation": "v",
         "type": "histogram",
         "x": [
          0.5484513444208927,
          -2.3254372400024663,
          -0.17768498503930882,
          -0.0413575571659648,
          1.0377678595702458,
          -0.7116014651027107,
          0.26857162154881,
          1.5290566395723573,
          -0.2567586755527022,
          -0.357121113255171,
          0.8094544672338446,
          -0.18796083964617127,
          -0.027477640202128045,
          -0.11870292311303313,
          -2.269461527526842,
          1.5955328577357266,
          -0.8644545357821648,
          -1.8642968220350373,
          0.09017916692978532,
          -1.344766726938334,
          1.1745824220442214,
          -0.8414367236253527,
          -0.7884004277579315,
          -0.1489331864549383,
          0.7728688387695918,
          -2.1409153230074534,
          0.34821592049908134,
          -0.27498245733340865,
          0.6490421722801153,
          -0.3095015003082018,
          1.3755435096077888,
          0.5295635663635087,
          0.3035655123758679,
          -0.15702303716074245,
          1.1704292564472734,
          -1.52193050513255,
          -0.17304696512117046,
          0.500742618651033,
          -2.411263379463824,
          -0.2764586244288876,
          -0.9354022868432563,
          1.6180987037807752,
          -0.5850556670966817,
          0.8064515288677078,
          -0.1925316499670654,
          2.1249498691984603,
          0.28824678756934996,
          1.0808924511417874,
          -1.0991069038596877,
          2.8523270968784757,
          -0.1462276160136622,
          -0.7269456317989939,
          1.009683169084365,
          -0.9128087165867703,
          2.739386314769789,
          -1.3757622114686658,
          1.4407905278507112,
          -2.1437891180414965,
          -0.8685438816408083,
          -1.0684204255937035,
          -1.3909622043143515,
          -1.708519617763413,
          -1.033225258404668,
          -0.9273179566800895,
          0.9622755612144613,
          0.4036958283171158,
          -2.066620915349806,
          -0.5313498777603,
          -0.37213553235231156,
          0.5566243901674788,
          0.46809411497026965,
          0.03231282758546965,
          1.5950315245268063,
          -0.8677057971639819,
          0.5934132541166431,
          0.6665791844271618,
          -1.070293341617307,
          0.23247746328414118,
          0.1636105945212715,
          1.3847638680189123,
          -0.7468787389615569,
          -0.6336863846695935,
          -0.15418321052239078,
          -0.022964779182480508,
          0.13067056650667006,
          -0.8346647281545524,
          -0.08276756281076375,
          -0.23593108329391443,
          1.4223691939157483,
          -1.475177034806321,
          -0.5631133271333681,
          -0.9498587583942311,
          -1.1180928581281955,
          -1.9290450825993415,
          0.22878195896987918,
          -1.16846732408735,
          -1.201800804545687,
          0.6324538976960572,
          -0.1723277128840355,
          0.2296303534317323
         ],
         "xaxis": "x6",
         "yaxis": "y6"
        },
        {
         "line": {
          "color": "rgba(128, 128, 128, 1.0)",
          "dash": "solid",
          "shape": "linear",
          "width": 1.3
         },
         "marker": {
          "size": 2,
          "symbol": "circle"
         },
         "mode": "markers",
         "name": "B",
         "text": "",
         "type": "scatter",
         "x": [
          -0.5983437620713272,
          -2.6604175619961046,
          -0.6893577279175397,
          -0.5229880431507179,
          -1.1142570311277662,
          0.4144329010324235,
          1.0709199857046865,
          0.24185000081928387,
          0.8679028870583181,
          0.8552503604199,
          -0.6897875923656063,
          -0.6170711861715913,
          -0.574019045561744,
          -0.42602932488795464,
          -0.06540747052858152,
          1.01225862618407,
          0.5725334774448296,
          -0.47718574956385784,
          0.29591534234625394,
          1.0713609097573518,
          1.7850760760870759,
          0.6615370182444141,
          -0.09975617128227394,
          0.6265897988876452,
          -0.434442435536369,
          0.9189381575943047,
          1.1426297546254645,
          0.05469376367844408,
          0.7664286517069745,
          1.4460545893069578,
          -1.2564294325418002,
          0.4220576687942533,
          0.6289966738488311,
          -0.2788764402500565,
          0.5015049964356932,
          1.514458160544959,
          0.2782476011345647,
          0.269754598159741,
          1.3519102352351455,
          -0.12193137836822808,
          -2.178769420790974,
          0.8539668969339135,
          1.3839608405729358,
          0.46683197255988956,
          1.8590406800885484,
          0.3395093676304781,
          0.40311363481143375,
          -1.0741084327550467,
          -0.6594594819662645,
          -0.1065325263332107,
          1.0030409948514505,
          -2.2465625425281024,
          0.5250755374331697,
          0.5874277050905309,
          0.06617762829699439,
          -0.44520947266094435,
          1.5031363729296439,
          0.2683309891489996,
          0.8941013914258936,
          1.1900921079684381,
          -1.592338528514025,
          0.7848888225422255,
          1.8842823892513476,
          -0.2825083302404101,
          -0.33813550666448006,
          -0.25537087832581873,
          -0.7211597678307854,
          -1.734912570192576,
          0.9561537011128859,
          0.16208957636882837,
          -1.2000533555518906,
          0.4408341380584331,
          -1.449277089723586,
          0.034329587009165954,
          -0.04604054983925971,
          0.8974630060064327,
          0.16304891450080738,
          1.9638360203986867,
          -1.5776099100630412,
          0.7609264198270365,
          0.969561171471672,
          -1.0991506011551149,
          -1.465825439340637,
          -1.314898729207641,
          -0.8380424127033789,
          0.4373953826702947,
          0.45037384631284544,
          -0.8904920643002715,
          -0.5810637913845554,
          0.3925376368775025,
          0.2579651317698921,
          -1.0810556062247758,
          -0.31741955255737236,
          1.618570911321861,
          1.0238726864773395,
          -0.13573365567790135,
          -0.8632715661196068,
          0.6288163109271624,
          -0.2819767637068381,
          2.2988019665203265
         ],
         "xaxis": "x7",
         "y": [
          0.5484513444208927,
          -2.3254372400024663,
          -0.17768498503930882,
          -0.0413575571659648,
          1.0377678595702458,
          -0.7116014651027107,
          0.26857162154881,
          1.5290566395723573,
          -0.2567586755527022,
          -0.357121113255171,
          0.8094544672338446,
          -0.18796083964617127,
          -0.027477640202128045,
          -0.11870292311303313,
          -2.269461527526842,
          1.5955328577357266,
          -0.8644545357821648,
          -1.8642968220350373,
          0.09017916692978532,
          -1.344766726938334,
          1.1745824220442214,
          -0.8414367236253527,
          -0.7884004277579315,
          -0.1489331864549383,
          0.7728688387695918,
          -2.1409153230074534,
          0.34821592049908134,
          -0.27498245733340865,
          0.6490421722801153,
          -0.3095015003082018,
          1.3755435096077888,
          0.5295635663635087,
          0.3035655123758679,
          -0.15702303716074245,
          1.1704292564472734,
          -1.52193050513255,
          -0.17304696512117046,
          0.500742618651033,
          -2.411263379463824,
          -0.2764586244288876,
          -0.9354022868432563,
          1.6180987037807752,
          -0.5850556670966817,
          0.8064515288677078,
          -0.1925316499670654,
          2.1249498691984603,
          0.28824678756934996,
          1.0808924511417874,
          -1.0991069038596877,
          2.8523270968784757,
          -0.1462276160136622,
          -0.7269456317989939,
          1.009683169084365,
          -0.9128087165867703,
          2.739386314769789,
          -1.3757622114686658,
          1.4407905278507112,
          -2.1437891180414965,
          -0.8685438816408083,
          -1.0684204255937035,
          -1.3909622043143515,
          -1.708519617763413,
          -1.033225258404668,
          -0.9273179566800895,
          0.9622755612144613,
          0.4036958283171158,
          -2.066620915349806,
          -0.5313498777603,
          -0.37213553235231156,
          0.5566243901674788,
          0.46809411497026965,
          0.03231282758546965,
          1.5950315245268063,
          -0.8677057971639819,
          0.5934132541166431,
          0.6665791844271618,
          -1.070293341617307,
          0.23247746328414118,
          0.1636105945212715,
          1.3847638680189123,
          -0.7468787389615569,
          -0.6336863846695935,
          -0.15418321052239078,
          -0.022964779182480508,
          0.13067056650667006,
          -0.8346647281545524,
          -0.08276756281076375,
          -0.23593108329391443,
          1.4223691939157483,
          -1.475177034806321,
          -0.5631133271333681,
          -0.9498587583942311,
          -1.1180928581281955,
          -1.9290450825993415,
          0.22878195896987918,
          -1.16846732408735,
          -1.201800804545687,
          0.6324538976960572,
          -0.1723277128840355,
          0.2296303534317323
         ],
         "yaxis": "y7"
        },
        {
         "line": {
          "color": "rgba(128, 128, 128, 1.0)",
          "dash": "solid",
          "shape": "linear",
          "width": 1.3
         },
         "marker": {
          "size": 2,
          "symbol": "circle"
         },
         "mode": "markers",
         "name": "B",
         "text": "",
         "type": "scatter",
         "x": [
          0.8338514606350064,
          -0.10584992645229413,
          -0.2706609825615641,
          0.5996801983644825,
          0.40359100466599535,
          2.641790207427108,
          0.13224103676807694,
          0.35313713991942014,
          1.144896307631846,
          1.9946928047934107,
          -0.9171338011956501,
          -0.4791782716060962,
          -0.6726579700852056,
          1.831020641813482,
          -0.1523547432486442,
          0.3354427663278796,
          -2.441582962241704,
          1.9715015842875654,
          0.5494742773319939,
          0.6145317653973147,
          -1.1806025799960154,
          0.5155567640803262,
          -1.3242560220644943,
          0.041700160836206965,
          0.9468186268366223,
          -0.5619512409700159,
          -0.7413321342009079,
          0.820528530608833,
          -0.6458138002254487,
          0.050524454707551014,
          0.862396604461523,
          2.253816471768166,
          0.4648313687438735,
          -0.16136990451619151,
          2.1987705070284673,
          -0.5727987959263574,
          -1.7115241145055666,
          2.073776369230856,
          0.625241141366843,
          1.5292209070329297,
          -0.5107014925784714,
          -0.31939413263433497,
          0.646758037652685,
          -0.2779513216230143,
          -0.19124944161845978,
          0.9571695847179208,
          -1.1048580560914822,
          -0.8984915407298146,
          1.3273431506933735,
          -1.333150838500644,
          -0.1985793201190395,
          2.019330939054003,
          1.2948297395951902,
          -0.3749962350083088,
          0.7563352984444898,
          0.1117176438204793,
          0.5872748114399307,
          -0.429718197605014,
          1.1580569489872719,
          -0.7458610043235129,
          0.8355882588036868,
          0.42485291323705143,
          0.4424168054773275,
          0.14127394287620942,
          -0.6154617117321134,
          -0.5110598682054509,
          0.13496982598516002,
          1.0245401663215845,
          -2.0311036813716705,
          -1.0250819271742715,
          -1.8636033313844171,
          0.8574905588910688,
          0.049503038730056084,
          -0.4104207782106683,
          -0.13764615619265963,
          0.2844344254242617,
          -0.7411574434948729,
          -0.9502016965746825,
          0.8689197050008775,
          -1.9318681506349502,
          0.471433643085626,
          0.585171420032461,
          0.6404961794771034,
          -0.22741488276623759,
          -1.0205085255341666,
          0.05233227104990713,
          0.49628856355218215,
          -0.8950524060645041,
          1.8180841461402975,
          -0.817214388120829,
          1.1765542892213678,
          0.6038964891497567,
          -0.29640169240258973,
          1.7917165418241447,
          -0.9923304082753172,
          1.4156913840918108,
          -0.37184430284858083,
          0.3670786989417944,
          -1.0405526567533496,
          0.9209916696959721
         ],
         "xaxis": "x8",
         "y": [
          0.5484513444208927,
          -2.3254372400024663,
          -0.17768498503930882,
          -0.0413575571659648,
          1.0377678595702458,
          -0.7116014651027107,
          0.26857162154881,
          1.5290566395723573,
          -0.2567586755527022,
          -0.357121113255171,
          0.8094544672338446,
          -0.18796083964617127,
          -0.027477640202128045,
          -0.11870292311303313,
          -2.269461527526842,
          1.5955328577357266,
          -0.8644545357821648,
          -1.8642968220350373,
          0.09017916692978532,
          -1.344766726938334,
          1.1745824220442214,
          -0.8414367236253527,
          -0.7884004277579315,
          -0.1489331864549383,
          0.7728688387695918,
          -2.1409153230074534,
          0.34821592049908134,
          -0.27498245733340865,
          0.6490421722801153,
          -0.3095015003082018,
          1.3755435096077888,
          0.5295635663635087,
          0.3035655123758679,
          -0.15702303716074245,
          1.1704292564472734,
          -1.52193050513255,
          -0.17304696512117046,
          0.500742618651033,
          -2.411263379463824,
          -0.2764586244288876,
          -0.9354022868432563,
          1.6180987037807752,
          -0.5850556670966817,
          0.8064515288677078,
          -0.1925316499670654,
          2.1249498691984603,
          0.28824678756934996,
          1.0808924511417874,
          -1.0991069038596877,
          2.8523270968784757,
          -0.1462276160136622,
          -0.7269456317989939,
          1.009683169084365,
          -0.9128087165867703,
          2.739386314769789,
          -1.3757622114686658,
          1.4407905278507112,
          -2.1437891180414965,
          -0.8685438816408083,
          -1.0684204255937035,
          -1.3909622043143515,
          -1.708519617763413,
          -1.033225258404668,
          -0.9273179566800895,
          0.9622755612144613,
          0.4036958283171158,
          -2.066620915349806,
          -0.5313498777603,
          -0.37213553235231156,
          0.5566243901674788,
          0.46809411497026965,
          0.03231282758546965,
          1.5950315245268063,
          -0.8677057971639819,
          0.5934132541166431,
          0.6665791844271618,
          -1.070293341617307,
          0.23247746328414118,
          0.1636105945212715,
          1.3847638680189123,
          -0.7468787389615569,
          -0.6336863846695935,
          -0.15418321052239078,
          -0.022964779182480508,
          0.13067056650667006,
          -0.8346647281545524,
          -0.08276756281076375,
          -0.23593108329391443,
          1.4223691939157483,
          -1.475177034806321,
          -0.5631133271333681,
          -0.9498587583942311,
          -1.1180928581281955,
          -1.9290450825993415,
          0.22878195896987918,
          -1.16846732408735,
          -1.201800804545687,
          0.6324538976960572,
          -0.1723277128840355,
          0.2296303534317323
         ],
         "yaxis": "y8"
        },
        {
         "line": {
          "color": "rgba(128, 128, 128, 1.0)",
          "dash": "solid",
          "shape": "linear",
          "width": 1.3
         },
         "marker": {
          "size": 2,
          "symbol": "circle"
         },
         "mode": "markers",
         "name": "C",
         "text": "",
         "type": "scatter",
         "x": [
          -0.171640601897393,
          -0.43651310026760143,
          0.1915612390123302,
          -1.056703312019151,
          0.4223324960551365,
          1.2877468203367912,
          -0.5709727518406853,
          2.1648676554773516,
          -1.2710537136872033,
          0.16778935785866875,
          1.0923398653718392,
          0.4925306791099881,
          -0.703668513206629,
          -1.4524459966421268,
          -1.2744387261513341,
          0.48551604613423355,
          -0.08955322711220023,
          -0.29027573121328615,
          0.7745650160804478,
          -1.1099619262798022,
          -1.9683383872344231,
          -0.29436352576008007,
          -0.6114534149828592,
          -0.6016002569315776,
          0.6621081449698877,
          0.21266807621964742,
          -0.14196204190623365,
          0.8455808080508328,
          2.218513523093423,
          1.225509030816993,
          -0.05744835346384874,
          -0.11673789320091013,
          -0.30301635565632434,
          -0.6627327489766144,
          -0.294755132084432,
          -0.133052082126597,
          -0.7027262561520775,
          0.21363941721995688,
          0.7533029620632767,
          0.9161599146948339,
          -0.38695616486884626,
          0.19596958959686875,
          2.1597457209110167,
          1.6330219307099394,
          -0.053064503558190354,
          0.6603445747130693,
          0.3207945904648976,
          -1.1050354243244225,
          1.5637954578971218,
          1.2541918745480611,
          -2.095064611555383,
          -0.7845842103111716,
          -0.19468049802855614,
          -0.4014548287149151,
          0.3407950800545804,
          0.03272595875779687,
          -1.3056241417427392,
          0.7438543233795972,
          -1.3227506872869208,
          1.0784707979095176,
          -0.815334722857213,
          -0.5373819359409527,
          -1.0606203281249487,
          0.441700587416723,
          -0.32878279305935415,
          -0.46581137917888865,
          -1.0904053135674916,
          -1.26924927808231,
          0.31270617806826667,
          0.6970749712875615,
          0.3153736148451356,
          -0.45080146910650637,
          -0.2720063615339261,
          1.4044677356602207,
          -0.019348041080346393,
          1.1049428128294767,
          -2.377128291270848,
          -1.5073793637973727,
          -0.926666748211941,
          1.8579700229276017,
          -1.2116095443091348,
          0.8236413783722552,
          -0.32430248425442165,
          2.0906677707983916,
          -0.7044681959680065,
          -0.1546026406012769,
          -0.9385406062305209,
          -0.8692498584291668,
          -2.3768058600922677,
          -2.4065090278566914,
          1.7172860060023276,
          0.16700914108697476,
          -1.0892987171083033,
          1.1821925982620303,
          0.3761064908178598,
          -0.6081613870137292,
          0.5683748477954369,
          -0.2666353852917895,
          0.9020386387275965,
          0.22303842334880358
         ],
         "xaxis": "x9",
         "y": [
          -0.5983437620713272,
          -2.6604175619961046,
          -0.6893577279175397,
          -0.5229880431507179,
          -1.1142570311277662,
          0.4144329010324235,
          1.0709199857046865,
          0.24185000081928387,
          0.8679028870583181,
          0.8552503604199,
          -0.6897875923656063,
          -0.6170711861715913,
          -0.574019045561744,
          -0.42602932488795464,
          -0.06540747052858152,
          1.01225862618407,
          0.5725334774448296,
          -0.47718574956385784,
          0.29591534234625394,
          1.0713609097573518,
          1.7850760760870759,
          0.6615370182444141,
          -0.09975617128227394,
          0.6265897988876452,
          -0.434442435536369,
          0.9189381575943047,
          1.1426297546254645,
          0.05469376367844408,
          0.7664286517069745,
          1.4460545893069578,
          -1.2564294325418002,
          0.4220576687942533,
          0.6289966738488311,
          -0.2788764402500565,
          0.5015049964356932,
          1.514458160544959,
          0.2782476011345647,
          0.269754598159741,
          1.3519102352351455,
          -0.12193137836822808,
          -2.178769420790974,
          0.8539668969339135,
          1.3839608405729358,
          0.46683197255988956,
          1.8590406800885484,
          0.3395093676304781,
          0.40311363481143375,
          -1.0741084327550467,
          -0.6594594819662645,
          -0.1065325263332107,
          1.0030409948514505,
          -2.2465625425281024,
          0.5250755374331697,
          0.5874277050905309,
          0.06617762829699439,
          -0.44520947266094435,
          1.5031363729296439,
          0.2683309891489996,
          0.8941013914258936,
          1.1900921079684381,
          -1.592338528514025,
          0.7848888225422255,
          1.8842823892513476,
          -0.2825083302404101,
          -0.33813550666448006,
          -0.25537087832581873,
          -0.7211597678307854,
          -1.734912570192576,
          0.9561537011128859,
          0.16208957636882837,
          -1.2000533555518906,
          0.4408341380584331,
          -1.449277089723586,
          0.034329587009165954,
          -0.04604054983925971,
          0.8974630060064327,
          0.16304891450080738,
          1.9638360203986867,
          -1.5776099100630412,
          0.7609264198270365,
          0.969561171471672,
          -1.0991506011551149,
          -1.465825439340637,
          -1.314898729207641,
          -0.8380424127033789,
          0.4373953826702947,
          0.45037384631284544,
          -0.8904920643002715,
          -0.5810637913845554,
          0.3925376368775025,
          0.2579651317698921,
          -1.0810556062247758,
          -0.31741955255737236,
          1.618570911321861,
          1.0238726864773395,
          -0.13573365567790135,
          -0.8632715661196068,
          0.6288163109271624,
          -0.2819767637068381,
          2.2988019665203265
         ],
         "yaxis": "y9"
        },
        {
         "line": {
          "color": "rgba(128, 128, 128, 1.0)",
          "dash": "solid",
          "shape": "linear",
          "width": 1.3
         },
         "marker": {
          "size": 2,
          "symbol": "circle"
         },
         "mode": "markers",
         "name": "C",
         "text": "",
         "type": "scatter",
         "x": [
          0.5484513444208927,
          -2.3254372400024663,
          -0.17768498503930882,
          -0.0413575571659648,
          1.0377678595702458,
          -0.7116014651027107,
          0.26857162154881,
          1.5290566395723573,
          -0.2567586755527022,
          -0.357121113255171,
          0.8094544672338446,
          -0.18796083964617127,
          -0.027477640202128045,
          -0.11870292311303313,
          -2.269461527526842,
          1.5955328577357266,
          -0.8644545357821648,
          -1.8642968220350373,
          0.09017916692978532,
          -1.344766726938334,
          1.1745824220442214,
          -0.8414367236253527,
          -0.7884004277579315,
          -0.1489331864549383,
          0.7728688387695918,
          -2.1409153230074534,
          0.34821592049908134,
          -0.27498245733340865,
          0.6490421722801153,
          -0.3095015003082018,
          1.3755435096077888,
          0.5295635663635087,
          0.3035655123758679,
          -0.15702303716074245,
          1.1704292564472734,
          -1.52193050513255,
          -0.17304696512117046,
          0.500742618651033,
          -2.411263379463824,
          -0.2764586244288876,
          -0.9354022868432563,
          1.6180987037807752,
          -0.5850556670966817,
          0.8064515288677078,
          -0.1925316499670654,
          2.1249498691984603,
          0.28824678756934996,
          1.0808924511417874,
          -1.0991069038596877,
          2.8523270968784757,
          -0.1462276160136622,
          -0.7269456317989939,
          1.009683169084365,
          -0.9128087165867703,
          2.739386314769789,
          -1.3757622114686658,
          1.4407905278507112,
          -2.1437891180414965,
          -0.8685438816408083,
          -1.0684204255937035,
          -1.3909622043143515,
          -1.708519617763413,
          -1.033225258404668,
          -0.9273179566800895,
          0.9622755612144613,
          0.4036958283171158,
          -2.066620915349806,
          -0.5313498777603,
          -0.37213553235231156,
          0.5566243901674788,
          0.46809411497026965,
          0.03231282758546965,
          1.5950315245268063,
          -0.8677057971639819,
          0.5934132541166431,
          0.6665791844271618,
          -1.070293341617307,
          0.23247746328414118,
          0.1636105945212715,
          1.3847638680189123,
          -0.7468787389615569,
          -0.6336863846695935,
          -0.15418321052239078,
          -0.022964779182480508,
          0.13067056650667006,
          -0.8346647281545524,
          -0.08276756281076375,
          -0.23593108329391443,
          1.4223691939157483,
          -1.475177034806321,
          -0.5631133271333681,
          -0.9498587583942311,
          -1.1180928581281955,
          -1.9290450825993415,
          0.22878195896987918,
          -1.16846732408735,
          -1.201800804545687,
          0.6324538976960572,
          -0.1723277128840355,
          0.2296303534317323
         ],
         "xaxis": "x10",
         "y": [
          -0.5983437620713272,
          -2.6604175619961046,
          -0.6893577279175397,
          -0.5229880431507179,
          -1.1142570311277662,
          0.4144329010324235,
          1.0709199857046865,
          0.24185000081928387,
          0.8679028870583181,
          0.8552503604199,
          -0.6897875923656063,
          -0.6170711861715913,
          -0.574019045561744,
          -0.42602932488795464,
          -0.06540747052858152,
          1.01225862618407,
          0.5725334774448296,
          -0.47718574956385784,
          0.29591534234625394,
          1.0713609097573518,
          1.7850760760870759,
          0.6615370182444141,
          -0.09975617128227394,
          0.6265897988876452,
          -0.434442435536369,
          0.9189381575943047,
          1.1426297546254645,
          0.05469376367844408,
          0.7664286517069745,
          1.4460545893069578,
          -1.2564294325418002,
          0.4220576687942533,
          0.6289966738488311,
          -0.2788764402500565,
          0.5015049964356932,
          1.514458160544959,
          0.2782476011345647,
          0.269754598159741,
          1.3519102352351455,
          -0.12193137836822808,
          -2.178769420790974,
          0.8539668969339135,
          1.3839608405729358,
          0.46683197255988956,
          1.8590406800885484,
          0.3395093676304781,
          0.40311363481143375,
          -1.0741084327550467,
          -0.6594594819662645,
          -0.1065325263332107,
          1.0030409948514505,
          -2.2465625425281024,
          0.5250755374331697,
          0.5874277050905309,
          0.06617762829699439,
          -0.44520947266094435,
          1.5031363729296439,
          0.2683309891489996,
          0.8941013914258936,
          1.1900921079684381,
          -1.592338528514025,
          0.7848888225422255,
          1.8842823892513476,
          -0.2825083302404101,
          -0.33813550666448006,
          -0.25537087832581873,
          -0.7211597678307854,
          -1.734912570192576,
          0.9561537011128859,
          0.16208957636882837,
          -1.2000533555518906,
          0.4408341380584331,
          -1.449277089723586,
          0.034329587009165954,
          -0.04604054983925971,
          0.8974630060064327,
          0.16304891450080738,
          1.9638360203986867,
          -1.5776099100630412,
          0.7609264198270365,
          0.969561171471672,
          -1.0991506011551149,
          -1.465825439340637,
          -1.314898729207641,
          -0.8380424127033789,
          0.4373953826702947,
          0.45037384631284544,
          -0.8904920643002715,
          -0.5810637913845554,
          0.3925376368775025,
          0.2579651317698921,
          -1.0810556062247758,
          -0.31741955255737236,
          1.618570911321861,
          1.0238726864773395,
          -0.13573365567790135,
          -0.8632715661196068,
          0.6288163109271624,
          -0.2819767637068381,
          2.2988019665203265
         ],
         "yaxis": "y10"
        },
        {
         "histfunc": "count",
         "histnorm": "",
         "marker": {
          "color": "rgba(50, 171, 96, 1.0)",
          "line": {
           "color": "#4D5663",
           "width": 1.3
          }
         },
         "name": "C",
         "nbinsx": 10,
         "opacity": 0.8,
         "orientation": "v",
         "type": "histogram",
         "x": [
          -0.5983437620713272,
          -2.6604175619961046,
          -0.6893577279175397,
          -0.5229880431507179,
          -1.1142570311277662,
          0.4144329010324235,
          1.0709199857046865,
          0.24185000081928387,
          0.8679028870583181,
          0.8552503604199,
          -0.6897875923656063,
          -0.6170711861715913,
          -0.574019045561744,
          -0.42602932488795464,
          -0.06540747052858152,
          1.01225862618407,
          0.5725334774448296,
          -0.47718574956385784,
          0.29591534234625394,
          1.0713609097573518,
          1.7850760760870759,
          0.6615370182444141,
          -0.09975617128227394,
          0.6265897988876452,
          -0.434442435536369,
          0.9189381575943047,
          1.1426297546254645,
          0.05469376367844408,
          0.7664286517069745,
          1.4460545893069578,
          -1.2564294325418002,
          0.4220576687942533,
          0.6289966738488311,
          -0.2788764402500565,
          0.5015049964356932,
          1.514458160544959,
          0.2782476011345647,
          0.269754598159741,
          1.3519102352351455,
          -0.12193137836822808,
          -2.178769420790974,
          0.8539668969339135,
          1.3839608405729358,
          0.46683197255988956,
          1.8590406800885484,
          0.3395093676304781,
          0.40311363481143375,
          -1.0741084327550467,
          -0.6594594819662645,
          -0.1065325263332107,
          1.0030409948514505,
          -2.2465625425281024,
          0.5250755374331697,
          0.5874277050905309,
          0.06617762829699439,
          -0.44520947266094435,
          1.5031363729296439,
          0.2683309891489996,
          0.8941013914258936,
          1.1900921079684381,
          -1.592338528514025,
          0.7848888225422255,
          1.8842823892513476,
          -0.2825083302404101,
          -0.33813550666448006,
          -0.25537087832581873,
          -0.7211597678307854,
          -1.734912570192576,
          0.9561537011128859,
          0.16208957636882837,
          -1.2000533555518906,
          0.4408341380584331,
          -1.449277089723586,
          0.034329587009165954,
          -0.04604054983925971,
          0.8974630060064327,
          0.16304891450080738,
          1.9638360203986867,
          -1.5776099100630412,
          0.7609264198270365,
          0.969561171471672,
          -1.0991506011551149,
          -1.465825439340637,
          -1.314898729207641,
          -0.8380424127033789,
          0.4373953826702947,
          0.45037384631284544,
          -0.8904920643002715,
          -0.5810637913845554,
          0.3925376368775025,
          0.2579651317698921,
          -1.0810556062247758,
          -0.31741955255737236,
          1.618570911321861,
          1.0238726864773395,
          -0.13573365567790135,
          -0.8632715661196068,
          0.6288163109271624,
          -0.2819767637068381,
          2.2988019665203265
         ],
         "xaxis": "x11",
         "yaxis": "y11"
        },
        {
         "line": {
          "color": "rgba(128, 128, 128, 1.0)",
          "dash": "solid",
          "shape": "linear",
          "width": 1.3
         },
         "marker": {
          "size": 2,
          "symbol": "circle"
         },
         "mode": "markers",
         "name": "C",
         "text": "",
         "type": "scatter",
         "x": [
          0.8338514606350064,
          -0.10584992645229413,
          -0.2706609825615641,
          0.5996801983644825,
          0.40359100466599535,
          2.641790207427108,
          0.13224103676807694,
          0.35313713991942014,
          1.144896307631846,
          1.9946928047934107,
          -0.9171338011956501,
          -0.4791782716060962,
          -0.6726579700852056,
          1.831020641813482,
          -0.1523547432486442,
          0.3354427663278796,
          -2.441582962241704,
          1.9715015842875654,
          0.5494742773319939,
          0.6145317653973147,
          -1.1806025799960154,
          0.5155567640803262,
          -1.3242560220644943,
          0.041700160836206965,
          0.9468186268366223,
          -0.5619512409700159,
          -0.7413321342009079,
          0.820528530608833,
          -0.6458138002254487,
          0.050524454707551014,
          0.862396604461523,
          2.253816471768166,
          0.4648313687438735,
          -0.16136990451619151,
          2.1987705070284673,
          -0.5727987959263574,
          -1.7115241145055666,
          2.073776369230856,
          0.625241141366843,
          1.5292209070329297,
          -0.5107014925784714,
          -0.31939413263433497,
          0.646758037652685,
          -0.2779513216230143,
          -0.19124944161845978,
          0.9571695847179208,
          -1.1048580560914822,
          -0.8984915407298146,
          1.3273431506933735,
          -1.333150838500644,
          -0.1985793201190395,
          2.019330939054003,
          1.2948297395951902,
          -0.3749962350083088,
          0.7563352984444898,
          0.1117176438204793,
          0.5872748114399307,
          -0.429718197605014,
          1.1580569489872719,
          -0.7458610043235129,
          0.8355882588036868,
          0.42485291323705143,
          0.4424168054773275,
          0.14127394287620942,
          -0.6154617117321134,
          -0.5110598682054509,
          0.13496982598516002,
          1.0245401663215845,
          -2.0311036813716705,
          -1.0250819271742715,
          -1.8636033313844171,
          0.8574905588910688,
          0.049503038730056084,
          -0.4104207782106683,
          -0.13764615619265963,
          0.2844344254242617,
          -0.7411574434948729,
          -0.9502016965746825,
          0.8689197050008775,
          -1.9318681506349502,
          0.471433643085626,
          0.585171420032461,
          0.6404961794771034,
          -0.22741488276623759,
          -1.0205085255341666,
          0.05233227104990713,
          0.49628856355218215,
          -0.8950524060645041,
          1.8180841461402975,
          -0.817214388120829,
          1.1765542892213678,
          0.6038964891497567,
          -0.29640169240258973,
          1.7917165418241447,
          -0.9923304082753172,
          1.4156913840918108,
          -0.37184430284858083,
          0.3670786989417944,
          -1.0405526567533496,
          0.9209916696959721
         ],
         "xaxis": "x12",
         "y": [
          -0.5983437620713272,
          -2.6604175619961046,
          -0.6893577279175397,
          -0.5229880431507179,
          -1.1142570311277662,
          0.4144329010324235,
          1.0709199857046865,
          0.24185000081928387,
          0.8679028870583181,
          0.8552503604199,
          -0.6897875923656063,
          -0.6170711861715913,
          -0.574019045561744,
          -0.42602932488795464,
          -0.06540747052858152,
          1.01225862618407,
          0.5725334774448296,
          -0.47718574956385784,
          0.29591534234625394,
          1.0713609097573518,
          1.7850760760870759,
          0.6615370182444141,
          -0.09975617128227394,
          0.6265897988876452,
          -0.434442435536369,
          0.9189381575943047,
          1.1426297546254645,
          0.05469376367844408,
          0.7664286517069745,
          1.4460545893069578,
          -1.2564294325418002,
          0.4220576687942533,
          0.6289966738488311,
          -0.2788764402500565,
          0.5015049964356932,
          1.514458160544959,
          0.2782476011345647,
          0.269754598159741,
          1.3519102352351455,
          -0.12193137836822808,
          -2.178769420790974,
          0.8539668969339135,
          1.3839608405729358,
          0.46683197255988956,
          1.8590406800885484,
          0.3395093676304781,
          0.40311363481143375,
          -1.0741084327550467,
          -0.6594594819662645,
          -0.1065325263332107,
          1.0030409948514505,
          -2.2465625425281024,
          0.5250755374331697,
          0.5874277050905309,
          0.06617762829699439,
          -0.44520947266094435,
          1.5031363729296439,
          0.2683309891489996,
          0.8941013914258936,
          1.1900921079684381,
          -1.592338528514025,
          0.7848888225422255,
          1.8842823892513476,
          -0.2825083302404101,
          -0.33813550666448006,
          -0.25537087832581873,
          -0.7211597678307854,
          -1.734912570192576,
          0.9561537011128859,
          0.16208957636882837,
          -1.2000533555518906,
          0.4408341380584331,
          -1.449277089723586,
          0.034329587009165954,
          -0.04604054983925971,
          0.8974630060064327,
          0.16304891450080738,
          1.9638360203986867,
          -1.5776099100630412,
          0.7609264198270365,
          0.969561171471672,
          -1.0991506011551149,
          -1.465825439340637,
          -1.314898729207641,
          -0.8380424127033789,
          0.4373953826702947,
          0.45037384631284544,
          -0.8904920643002715,
          -0.5810637913845554,
          0.3925376368775025,
          0.2579651317698921,
          -1.0810556062247758,
          -0.31741955255737236,
          1.618570911321861,
          1.0238726864773395,
          -0.13573365567790135,
          -0.8632715661196068,
          0.6288163109271624,
          -0.2819767637068381,
          2.2988019665203265
         ],
         "yaxis": "y12"
        },
        {
         "line": {
          "color": "rgba(128, 128, 128, 1.0)",
          "dash": "solid",
          "shape": "linear",
          "width": 1.3
         },
         "marker": {
          "size": 2,
          "symbol": "circle"
         },
         "mode": "markers",
         "name": "D",
         "text": "",
         "type": "scatter",
         "x": [
          -0.171640601897393,
          -0.43651310026760143,
          0.1915612390123302,
          -1.056703312019151,
          0.4223324960551365,
          1.2877468203367912,
          -0.5709727518406853,
          2.1648676554773516,
          -1.2710537136872033,
          0.16778935785866875,
          1.0923398653718392,
          0.4925306791099881,
          -0.703668513206629,
          -1.4524459966421268,
          -1.2744387261513341,
          0.48551604613423355,
          -0.08955322711220023,
          -0.29027573121328615,
          0.7745650160804478,
          -1.1099619262798022,
          -1.9683383872344231,
          -0.29436352576008007,
          -0.6114534149828592,
          -0.6016002569315776,
          0.6621081449698877,
          0.21266807621964742,
          -0.14196204190623365,
          0.8455808080508328,
          2.218513523093423,
          1.225509030816993,
          -0.05744835346384874,
          -0.11673789320091013,
          -0.30301635565632434,
          -0.6627327489766144,
          -0.294755132084432,
          -0.133052082126597,
          -0.7027262561520775,
          0.21363941721995688,
          0.7533029620632767,
          0.9161599146948339,
          -0.38695616486884626,
          0.19596958959686875,
          2.1597457209110167,
          1.6330219307099394,
          -0.053064503558190354,
          0.6603445747130693,
          0.3207945904648976,
          -1.1050354243244225,
          1.5637954578971218,
          1.2541918745480611,
          -2.095064611555383,
          -0.7845842103111716,
          -0.19468049802855614,
          -0.4014548287149151,
          0.3407950800545804,
          0.03272595875779687,
          -1.3056241417427392,
          0.7438543233795972,
          -1.3227506872869208,
          1.0784707979095176,
          -0.815334722857213,
          -0.5373819359409527,
          -1.0606203281249487,
          0.441700587416723,
          -0.32878279305935415,
          -0.46581137917888865,
          -1.0904053135674916,
          -1.26924927808231,
          0.31270617806826667,
          0.6970749712875615,
          0.3153736148451356,
          -0.45080146910650637,
          -0.2720063615339261,
          1.4044677356602207,
          -0.019348041080346393,
          1.1049428128294767,
          -2.377128291270848,
          -1.5073793637973727,
          -0.926666748211941,
          1.8579700229276017,
          -1.2116095443091348,
          0.8236413783722552,
          -0.32430248425442165,
          2.0906677707983916,
          -0.7044681959680065,
          -0.1546026406012769,
          -0.9385406062305209,
          -0.8692498584291668,
          -2.3768058600922677,
          -2.4065090278566914,
          1.7172860060023276,
          0.16700914108697476,
          -1.0892987171083033,
          1.1821925982620303,
          0.3761064908178598,
          -0.6081613870137292,
          0.5683748477954369,
          -0.2666353852917895,
          0.9020386387275965,
          0.22303842334880358
         ],
         "xaxis": "x13",
         "y": [
          0.8338514606350064,
          -0.10584992645229413,
          -0.2706609825615641,
          0.5996801983644825,
          0.40359100466599535,
          2.641790207427108,
          0.13224103676807694,
          0.35313713991942014,
          1.144896307631846,
          1.9946928047934107,
          -0.9171338011956501,
          -0.4791782716060962,
          -0.6726579700852056,
          1.831020641813482,
          -0.1523547432486442,
          0.3354427663278796,
          -2.441582962241704,
          1.9715015842875654,
          0.5494742773319939,
          0.6145317653973147,
          -1.1806025799960154,
          0.5155567640803262,
          -1.3242560220644943,
          0.041700160836206965,
          0.9468186268366223,
          -0.5619512409700159,
          -0.7413321342009079,
          0.820528530608833,
          -0.6458138002254487,
          0.050524454707551014,
          0.862396604461523,
          2.253816471768166,
          0.4648313687438735,
          -0.16136990451619151,
          2.1987705070284673,
          -0.5727987959263574,
          -1.7115241145055666,
          2.073776369230856,
          0.625241141366843,
          1.5292209070329297,
          -0.5107014925784714,
          -0.31939413263433497,
          0.646758037652685,
          -0.2779513216230143,
          -0.19124944161845978,
          0.9571695847179208,
          -1.1048580560914822,
          -0.8984915407298146,
          1.3273431506933735,
          -1.333150838500644,
          -0.1985793201190395,
          2.019330939054003,
          1.2948297395951902,
          -0.3749962350083088,
          0.7563352984444898,
          0.1117176438204793,
          0.5872748114399307,
          -0.429718197605014,
          1.1580569489872719,
          -0.7458610043235129,
          0.8355882588036868,
          0.42485291323705143,
          0.4424168054773275,
          0.14127394287620942,
          -0.6154617117321134,
          -0.5110598682054509,
          0.13496982598516002,
          1.0245401663215845,
          -2.0311036813716705,
          -1.0250819271742715,
          -1.8636033313844171,
          0.8574905588910688,
          0.049503038730056084,
          -0.4104207782106683,
          -0.13764615619265963,
          0.2844344254242617,
          -0.7411574434948729,
          -0.9502016965746825,
          0.8689197050008775,
          -1.9318681506349502,
          0.471433643085626,
          0.585171420032461,
          0.6404961794771034,
          -0.22741488276623759,
          -1.0205085255341666,
          0.05233227104990713,
          0.49628856355218215,
          -0.8950524060645041,
          1.8180841461402975,
          -0.817214388120829,
          1.1765542892213678,
          0.6038964891497567,
          -0.29640169240258973,
          1.7917165418241447,
          -0.9923304082753172,
          1.4156913840918108,
          -0.37184430284858083,
          0.3670786989417944,
          -1.0405526567533496,
          0.9209916696959721
         ],
         "yaxis": "y13"
        },
        {
         "line": {
          "color": "rgba(128, 128, 128, 1.0)",
          "dash": "solid",
          "shape": "linear",
          "width": 1.3
         },
         "marker": {
          "size": 2,
          "symbol": "circle"
         },
         "mode": "markers",
         "name": "D",
         "text": "",
         "type": "scatter",
         "x": [
          0.5484513444208927,
          -2.3254372400024663,
          -0.17768498503930882,
          -0.0413575571659648,
          1.0377678595702458,
          -0.7116014651027107,
          0.26857162154881,
          1.5290566395723573,
          -0.2567586755527022,
          -0.357121113255171,
          0.8094544672338446,
          -0.18796083964617127,
          -0.027477640202128045,
          -0.11870292311303313,
          -2.269461527526842,
          1.5955328577357266,
          -0.8644545357821648,
          -1.8642968220350373,
          0.09017916692978532,
          -1.344766726938334,
          1.1745824220442214,
          -0.8414367236253527,
          -0.7884004277579315,
          -0.1489331864549383,
          0.7728688387695918,
          -2.1409153230074534,
          0.34821592049908134,
          -0.27498245733340865,
          0.6490421722801153,
          -0.3095015003082018,
          1.3755435096077888,
          0.5295635663635087,
          0.3035655123758679,
          -0.15702303716074245,
          1.1704292564472734,
          -1.52193050513255,
          -0.17304696512117046,
          0.500742618651033,
          -2.411263379463824,
          -0.2764586244288876,
          -0.9354022868432563,
          1.6180987037807752,
          -0.5850556670966817,
          0.8064515288677078,
          -0.1925316499670654,
          2.1249498691984603,
          0.28824678756934996,
          1.0808924511417874,
          -1.0991069038596877,
          2.8523270968784757,
          -0.1462276160136622,
          -0.7269456317989939,
          1.009683169084365,
          -0.9128087165867703,
          2.739386314769789,
          -1.3757622114686658,
          1.4407905278507112,
          -2.1437891180414965,
          -0.8685438816408083,
          -1.0684204255937035,
          -1.3909622043143515,
          -1.708519617763413,
          -1.033225258404668,
          -0.9273179566800895,
          0.9622755612144613,
          0.4036958283171158,
          -2.066620915349806,
          -0.5313498777603,
          -0.37213553235231156,
          0.5566243901674788,
          0.46809411497026965,
          0.03231282758546965,
          1.5950315245268063,
          -0.8677057971639819,
          0.5934132541166431,
          0.6665791844271618,
          -1.070293341617307,
          0.23247746328414118,
          0.1636105945212715,
          1.3847638680189123,
          -0.7468787389615569,
          -0.6336863846695935,
          -0.15418321052239078,
          -0.022964779182480508,
          0.13067056650667006,
          -0.8346647281545524,
          -0.08276756281076375,
          -0.23593108329391443,
          1.4223691939157483,
          -1.475177034806321,
          -0.5631133271333681,
          -0.9498587583942311,
          -1.1180928581281955,
          -1.9290450825993415,
          0.22878195896987918,
          -1.16846732408735,
          -1.201800804545687,
          0.6324538976960572,
          -0.1723277128840355,
          0.2296303534317323
         ],
         "xaxis": "x14",
         "y": [
          0.8338514606350064,
          -0.10584992645229413,
          -0.2706609825615641,
          0.5996801983644825,
          0.40359100466599535,
          2.641790207427108,
          0.13224103676807694,
          0.35313713991942014,
          1.144896307631846,
          1.9946928047934107,
          -0.9171338011956501,
          -0.4791782716060962,
          -0.6726579700852056,
          1.831020641813482,
          -0.1523547432486442,
          0.3354427663278796,
          -2.441582962241704,
          1.9715015842875654,
          0.5494742773319939,
          0.6145317653973147,
          -1.1806025799960154,
          0.5155567640803262,
          -1.3242560220644943,
          0.041700160836206965,
          0.9468186268366223,
          -0.5619512409700159,
          -0.7413321342009079,
          0.820528530608833,
          -0.6458138002254487,
          0.050524454707551014,
          0.862396604461523,
          2.253816471768166,
          0.4648313687438735,
          -0.16136990451619151,
          2.1987705070284673,
          -0.5727987959263574,
          -1.7115241145055666,
          2.073776369230856,
          0.625241141366843,
          1.5292209070329297,
          -0.5107014925784714,
          -0.31939413263433497,
          0.646758037652685,
          -0.2779513216230143,
          -0.19124944161845978,
          0.9571695847179208,
          -1.1048580560914822,
          -0.8984915407298146,
          1.3273431506933735,
          -1.333150838500644,
          -0.1985793201190395,
          2.019330939054003,
          1.2948297395951902,
          -0.3749962350083088,
          0.7563352984444898,
          0.1117176438204793,
          0.5872748114399307,
          -0.429718197605014,
          1.1580569489872719,
          -0.7458610043235129,
          0.8355882588036868,
          0.42485291323705143,
          0.4424168054773275,
          0.14127394287620942,
          -0.6154617117321134,
          -0.5110598682054509,
          0.13496982598516002,
          1.0245401663215845,
          -2.0311036813716705,
          -1.0250819271742715,
          -1.8636033313844171,
          0.8574905588910688,
          0.049503038730056084,
          -0.4104207782106683,
          -0.13764615619265963,
          0.2844344254242617,
          -0.7411574434948729,
          -0.9502016965746825,
          0.8689197050008775,
          -1.9318681506349502,
          0.471433643085626,
          0.585171420032461,
          0.6404961794771034,
          -0.22741488276623759,
          -1.0205085255341666,
          0.05233227104990713,
          0.49628856355218215,
          -0.8950524060645041,
          1.8180841461402975,
          -0.817214388120829,
          1.1765542892213678,
          0.6038964891497567,
          -0.29640169240258973,
          1.7917165418241447,
          -0.9923304082753172,
          1.4156913840918108,
          -0.37184430284858083,
          0.3670786989417944,
          -1.0405526567533496,
          0.9209916696959721
         ],
         "yaxis": "y14"
        },
        {
         "line": {
          "color": "rgba(128, 128, 128, 1.0)",
          "dash": "solid",
          "shape": "linear",
          "width": 1.3
         },
         "marker": {
          "size": 2,
          "symbol": "circle"
         },
         "mode": "markers",
         "name": "D",
         "text": "",
         "type": "scatter",
         "x": [
          -0.5983437620713272,
          -2.6604175619961046,
          -0.6893577279175397,
          -0.5229880431507179,
          -1.1142570311277662,
          0.4144329010324235,
          1.0709199857046865,
          0.24185000081928387,
          0.8679028870583181,
          0.8552503604199,
          -0.6897875923656063,
          -0.6170711861715913,
          -0.574019045561744,
          -0.42602932488795464,
          -0.06540747052858152,
          1.01225862618407,
          0.5725334774448296,
          -0.47718574956385784,
          0.29591534234625394,
          1.0713609097573518,
          1.7850760760870759,
          0.6615370182444141,
          -0.09975617128227394,
          0.6265897988876452,
          -0.434442435536369,
          0.9189381575943047,
          1.1426297546254645,
          0.05469376367844408,
          0.7664286517069745,
          1.4460545893069578,
          -1.2564294325418002,
          0.4220576687942533,
          0.6289966738488311,
          -0.2788764402500565,
          0.5015049964356932,
          1.514458160544959,
          0.2782476011345647,
          0.269754598159741,
          1.3519102352351455,
          -0.12193137836822808,
          -2.178769420790974,
          0.8539668969339135,
          1.3839608405729358,
          0.46683197255988956,
          1.8590406800885484,
          0.3395093676304781,
          0.40311363481143375,
          -1.0741084327550467,
          -0.6594594819662645,
          -0.1065325263332107,
          1.0030409948514505,
          -2.2465625425281024,
          0.5250755374331697,
          0.5874277050905309,
          0.06617762829699439,
          -0.44520947266094435,
          1.5031363729296439,
          0.2683309891489996,
          0.8941013914258936,
          1.1900921079684381,
          -1.592338528514025,
          0.7848888225422255,
          1.8842823892513476,
          -0.2825083302404101,
          -0.33813550666448006,
          -0.25537087832581873,
          -0.7211597678307854,
          -1.734912570192576,
          0.9561537011128859,
          0.16208957636882837,
          -1.2000533555518906,
          0.4408341380584331,
          -1.449277089723586,
          0.034329587009165954,
          -0.04604054983925971,
          0.8974630060064327,
          0.16304891450080738,
          1.9638360203986867,
          -1.5776099100630412,
          0.7609264198270365,
          0.969561171471672,
          -1.0991506011551149,
          -1.465825439340637,
          -1.314898729207641,
          -0.8380424127033789,
          0.4373953826702947,
          0.45037384631284544,
          -0.8904920643002715,
          -0.5810637913845554,
          0.3925376368775025,
          0.2579651317698921,
          -1.0810556062247758,
          -0.31741955255737236,
          1.618570911321861,
          1.0238726864773395,
          -0.13573365567790135,
          -0.8632715661196068,
          0.6288163109271624,
          -0.2819767637068381,
          2.2988019665203265
         ],
         "xaxis": "x15",
         "y": [
          0.8338514606350064,
          -0.10584992645229413,
          -0.2706609825615641,
          0.5996801983644825,
          0.40359100466599535,
          2.641790207427108,
          0.13224103676807694,
          0.35313713991942014,
          1.144896307631846,
          1.9946928047934107,
          -0.9171338011956501,
          -0.4791782716060962,
          -0.6726579700852056,
          1.831020641813482,
          -0.1523547432486442,
          0.3354427663278796,
          -2.441582962241704,
          1.9715015842875654,
          0.5494742773319939,
          0.6145317653973147,
          -1.1806025799960154,
          0.5155567640803262,
          -1.3242560220644943,
          0.041700160836206965,
          0.9468186268366223,
          -0.5619512409700159,
          -0.7413321342009079,
          0.820528530608833,
          -0.6458138002254487,
          0.050524454707551014,
          0.862396604461523,
          2.253816471768166,
          0.4648313687438735,
          -0.16136990451619151,
          2.1987705070284673,
          -0.5727987959263574,
          -1.7115241145055666,
          2.073776369230856,
          0.625241141366843,
          1.5292209070329297,
          -0.5107014925784714,
          -0.31939413263433497,
          0.646758037652685,
          -0.2779513216230143,
          -0.19124944161845978,
          0.9571695847179208,
          -1.1048580560914822,
          -0.8984915407298146,
          1.3273431506933735,
          -1.333150838500644,
          -0.1985793201190395,
          2.019330939054003,
          1.2948297395951902,
          -0.3749962350083088,
          0.7563352984444898,
          0.1117176438204793,
          0.5872748114399307,
          -0.429718197605014,
          1.1580569489872719,
          -0.7458610043235129,
          0.8355882588036868,
          0.42485291323705143,
          0.4424168054773275,
          0.14127394287620942,
          -0.6154617117321134,
          -0.5110598682054509,
          0.13496982598516002,
          1.0245401663215845,
          -2.0311036813716705,
          -1.0250819271742715,
          -1.8636033313844171,
          0.8574905588910688,
          0.049503038730056084,
          -0.4104207782106683,
          -0.13764615619265963,
          0.2844344254242617,
          -0.7411574434948729,
          -0.9502016965746825,
          0.8689197050008775,
          -1.9318681506349502,
          0.471433643085626,
          0.585171420032461,
          0.6404961794771034,
          -0.22741488276623759,
          -1.0205085255341666,
          0.05233227104990713,
          0.49628856355218215,
          -0.8950524060645041,
          1.8180841461402975,
          -0.817214388120829,
          1.1765542892213678,
          0.6038964891497567,
          -0.29640169240258973,
          1.7917165418241447,
          -0.9923304082753172,
          1.4156913840918108,
          -0.37184430284858083,
          0.3670786989417944,
          -1.0405526567533496,
          0.9209916696959721
         ],
         "yaxis": "y15"
        },
        {
         "histfunc": "count",
         "histnorm": "",
         "marker": {
          "color": "rgba(128, 0, 128, 1.0)",
          "line": {
           "color": "#4D5663",
           "width": 1.3
          }
         },
         "name": "D",
         "nbinsx": 10,
         "opacity": 0.8,
         "orientation": "v",
         "type": "histogram",
         "x": [
          0.8338514606350064,
          -0.10584992645229413,
          -0.2706609825615641,
          0.5996801983644825,
          0.40359100466599535,
          2.641790207427108,
          0.13224103676807694,
          0.35313713991942014,
          1.144896307631846,
          1.9946928047934107,
          -0.9171338011956501,
          -0.4791782716060962,
          -0.6726579700852056,
          1.831020641813482,
          -0.1523547432486442,
          0.3354427663278796,
          -2.441582962241704,
          1.9715015842875654,
          0.5494742773319939,
          0.6145317653973147,
          -1.1806025799960154,
          0.5155567640803262,
          -1.3242560220644943,
          0.041700160836206965,
          0.9468186268366223,
          -0.5619512409700159,
          -0.7413321342009079,
          0.820528530608833,
          -0.6458138002254487,
          0.050524454707551014,
          0.862396604461523,
          2.253816471768166,
          0.4648313687438735,
          -0.16136990451619151,
          2.1987705070284673,
          -0.5727987959263574,
          -1.7115241145055666,
          2.073776369230856,
          0.625241141366843,
          1.5292209070329297,
          -0.5107014925784714,
          -0.31939413263433497,
          0.646758037652685,
          -0.2779513216230143,
          -0.19124944161845978,
          0.9571695847179208,
          -1.1048580560914822,
          -0.8984915407298146,
          1.3273431506933735,
          -1.333150838500644,
          -0.1985793201190395,
          2.019330939054003,
          1.2948297395951902,
          -0.3749962350083088,
          0.7563352984444898,
          0.1117176438204793,
          0.5872748114399307,
          -0.429718197605014,
          1.1580569489872719,
          -0.7458610043235129,
          0.8355882588036868,
          0.42485291323705143,
          0.4424168054773275,
          0.14127394287620942,
          -0.6154617117321134,
          -0.5110598682054509,
          0.13496982598516002,
          1.0245401663215845,
          -2.0311036813716705,
          -1.0250819271742715,
          -1.8636033313844171,
          0.8574905588910688,
          0.049503038730056084,
          -0.4104207782106683,
          -0.13764615619265963,
          0.2844344254242617,
          -0.7411574434948729,
          -0.9502016965746825,
          0.8689197050008775,
          -1.9318681506349502,
          0.471433643085626,
          0.585171420032461,
          0.6404961794771034,
          -0.22741488276623759,
          -1.0205085255341666,
          0.05233227104990713,
          0.49628856355218215,
          -0.8950524060645041,
          1.8180841461402975,
          -0.817214388120829,
          1.1765542892213678,
          0.6038964891497567,
          -0.29640169240258973,
          1.7917165418241447,
          -0.9923304082753172,
          1.4156913840918108,
          -0.37184430284858083,
          0.3670786989417944,
          -1.0405526567533496,
          0.9209916696959721
         ],
         "xaxis": "x16",
         "yaxis": "y16"
        }
       ],
       "layout": {
        "bargap": 0.02,
        "legend": {
         "bgcolor": "#F5F6F9",
         "font": {
          "color": "#4D5663"
         }
        },
        "paper_bgcolor": "#F5F6F9",
        "plot_bgcolor": "#F5F6F9",
        "showlegend": false,
        "template": {
         "data": {
          "bar": [
           {
            "error_x": {
             "color": "#2a3f5f"
            },
            "error_y": {
             "color": "#2a3f5f"
            },
            "marker": {
             "line": {
              "color": "#E5ECF6",
              "width": 0.5
             }
            },
            "type": "bar"
           }
          ],
          "barpolar": [
           {
            "marker": {
             "line": {
              "color": "#E5ECF6",
              "width": 0.5
             }
            },
            "type": "barpolar"
           }
          ],
          "carpet": [
           {
            "aaxis": {
             "endlinecolor": "#2a3f5f",
             "gridcolor": "white",
             "linecolor": "white",
             "minorgridcolor": "white",
             "startlinecolor": "#2a3f5f"
            },
            "baxis": {
             "endlinecolor": "#2a3f5f",
             "gridcolor": "white",
             "linecolor": "white",
             "minorgridcolor": "white",
             "startlinecolor": "#2a3f5f"
            },
            "type": "carpet"
           }
          ],
          "choropleth": [
           {
            "colorbar": {
             "outlinewidth": 0,
             "ticks": ""
            },
            "type": "choropleth"
           }
          ],
          "contour": [
           {
            "colorbar": {
             "outlinewidth": 0,
             "ticks": ""
            },
            "colorscale": [
             [
              0,
              "#0d0887"
             ],
             [
              0.1111111111111111,
              "#46039f"
             ],
             [
              0.2222222222222222,
              "#7201a8"
             ],
             [
              0.3333333333333333,
              "#9c179e"
             ],
             [
              0.4444444444444444,
              "#bd3786"
             ],
             [
              0.5555555555555556,
              "#d8576b"
             ],
             [
              0.6666666666666666,
              "#ed7953"
             ],
             [
              0.7777777777777778,
              "#fb9f3a"
             ],
             [
              0.8888888888888888,
              "#fdca26"
             ],
             [
              1,
              "#f0f921"
             ]
            ],
            "type": "contour"
           }
          ],
          "contourcarpet": [
           {
            "colorbar": {
             "outlinewidth": 0,
             "ticks": ""
            },
            "type": "contourcarpet"
           }
          ],
          "heatmap": [
           {
            "colorbar": {
             "outlinewidth": 0,
             "ticks": ""
            },
            "colorscale": [
             [
              0,
              "#0d0887"
             ],
             [
              0.1111111111111111,
              "#46039f"
             ],
             [
              0.2222222222222222,
              "#7201a8"
             ],
             [
              0.3333333333333333,
              "#9c179e"
             ],
             [
              0.4444444444444444,
              "#bd3786"
             ],
             [
              0.5555555555555556,
              "#d8576b"
             ],
             [
              0.6666666666666666,
              "#ed7953"
             ],
             [
              0.7777777777777778,
              "#fb9f3a"
             ],
             [
              0.8888888888888888,
              "#fdca26"
             ],
             [
              1,
              "#f0f921"
             ]
            ],
            "type": "heatmap"
           }
          ],
          "heatmapgl": [
           {
            "colorbar": {
             "outlinewidth": 0,
             "ticks": ""
            },
            "colorscale": [
             [
              0,
              "#0d0887"
             ],
             [
              0.1111111111111111,
              "#46039f"
             ],
             [
              0.2222222222222222,
              "#7201a8"
             ],
             [
              0.3333333333333333,
              "#9c179e"
             ],
             [
              0.4444444444444444,
              "#bd3786"
             ],
             [
              0.5555555555555556,
              "#d8576b"
             ],
             [
              0.6666666666666666,
              "#ed7953"
             ],
             [
              0.7777777777777778,
              "#fb9f3a"
             ],
             [
              0.8888888888888888,
              "#fdca26"
             ],
             [
              1,
              "#f0f921"
             ]
            ],
            "type": "heatmapgl"
           }
          ],
          "histogram": [
           {
            "marker": {
             "colorbar": {
              "outlinewidth": 0,
              "ticks": ""
             }
            },
            "type": "histogram"
           }
          ],
          "histogram2d": [
           {
            "colorbar": {
             "outlinewidth": 0,
             "ticks": ""
            },
            "colorscale": [
             [
              0,
              "#0d0887"
             ],
             [
              0.1111111111111111,
              "#46039f"
             ],
             [
              0.2222222222222222,
              "#7201a8"
             ],
             [
              0.3333333333333333,
              "#9c179e"
             ],
             [
              0.4444444444444444,
              "#bd3786"
             ],
             [
              0.5555555555555556,
              "#d8576b"
             ],
             [
              0.6666666666666666,
              "#ed7953"
             ],
             [
              0.7777777777777778,
              "#fb9f3a"
             ],
             [
              0.8888888888888888,
              "#fdca26"
             ],
             [
              1,
              "#f0f921"
             ]
            ],
            "type": "histogram2d"
           }
          ],
          "histogram2dcontour": [
           {
            "colorbar": {
             "outlinewidth": 0,
             "ticks": ""
            },
            "colorscale": [
             [
              0,
              "#0d0887"
             ],
             [
              0.1111111111111111,
              "#46039f"
             ],
             [
              0.2222222222222222,
              "#7201a8"
             ],
             [
              0.3333333333333333,
              "#9c179e"
             ],
             [
              0.4444444444444444,
              "#bd3786"
             ],
             [
              0.5555555555555556,
              "#d8576b"
             ],
             [
              0.6666666666666666,
              "#ed7953"
             ],
             [
              0.7777777777777778,
              "#fb9f3a"
             ],
             [
              0.8888888888888888,
              "#fdca26"
             ],
             [
              1,
              "#f0f921"
             ]
            ],
            "type": "histogram2dcontour"
           }
          ],
          "mesh3d": [
           {
            "colorbar": {
             "outlinewidth": 0,
             "ticks": ""
            },
            "type": "mesh3d"
           }
          ],
          "parcoords": [
           {
            "line": {
             "colorbar": {
              "outlinewidth": 0,
              "ticks": ""
             }
            },
            "type": "parcoords"
           }
          ],
          "pie": [
           {
            "automargin": true,
            "type": "pie"
           }
          ],
          "scatter": [
           {
            "marker": {
             "colorbar": {
              "outlinewidth": 0,
              "ticks": ""
             }
            },
            "type": "scatter"
           }
          ],
          "scatter3d": [
           {
            "line": {
             "colorbar": {
              "outlinewidth": 0,
              "ticks": ""
             }
            },
            "marker": {
             "colorbar": {
              "outlinewidth": 0,
              "ticks": ""
             }
            },
            "type": "scatter3d"
           }
          ],
          "scattercarpet": [
           {
            "marker": {
             "colorbar": {
              "outlinewidth": 0,
              "ticks": ""
             }
            },
            "type": "scattercarpet"
           }
          ],
          "scattergeo": [
           {
            "marker": {
             "colorbar": {
              "outlinewidth": 0,
              "ticks": ""
             }
            },
            "type": "scattergeo"
           }
          ],
          "scattergl": [
           {
            "marker": {
             "colorbar": {
              "outlinewidth": 0,
              "ticks": ""
             }
            },
            "type": "scattergl"
           }
          ],
          "scattermapbox": [
           {
            "marker": {
             "colorbar": {
              "outlinewidth": 0,
              "ticks": ""
             }
            },
            "type": "scattermapbox"
           }
          ],
          "scatterpolar": [
           {
            "marker": {
             "colorbar": {
              "outlinewidth": 0,
              "ticks": ""
             }
            },
            "type": "scatterpolar"
           }
          ],
          "scatterpolargl": [
           {
            "marker": {
             "colorbar": {
              "outlinewidth": 0,
              "ticks": ""
             }
            },
            "type": "scatterpolargl"
           }
          ],
          "scatterternary": [
           {
            "marker": {
             "colorbar": {
              "outlinewidth": 0,
              "ticks": ""
             }
            },
            "type": "scatterternary"
           }
          ],
          "surface": [
           {
            "colorbar": {
             "outlinewidth": 0,
             "ticks": ""
            },
            "colorscale": [
             [
              0,
              "#0d0887"
             ],
             [
              0.1111111111111111,
              "#46039f"
             ],
             [
              0.2222222222222222,
              "#7201a8"
             ],
             [
              0.3333333333333333,
              "#9c179e"
             ],
             [
              0.4444444444444444,
              "#bd3786"
             ],
             [
              0.5555555555555556,
              "#d8576b"
             ],
             [
              0.6666666666666666,
              "#ed7953"
             ],
             [
              0.7777777777777778,
              "#fb9f3a"
             ],
             [
              0.8888888888888888,
              "#fdca26"
             ],
             [
              1,
              "#f0f921"
             ]
            ],
            "type": "surface"
           }
          ],
          "table": [
           {
            "cells": {
             "fill": {
              "color": "#EBF0F8"
             },
             "line": {
              "color": "white"
             }
            },
            "header": {
             "fill": {
              "color": "#C8D4E3"
             },
             "line": {
              "color": "white"
             }
            },
            "type": "table"
           }
          ]
         },
         "layout": {
          "annotationdefaults": {
           "arrowcolor": "#2a3f5f",
           "arrowhead": 0,
           "arrowwidth": 1
          },
          "coloraxis": {
           "colorbar": {
            "outlinewidth": 0,
            "ticks": ""
           }
          },
          "colorscale": {
           "diverging": [
            [
             0,
             "#8e0152"
            ],
            [
             0.1,
             "#c51b7d"
            ],
            [
             0.2,
             "#de77ae"
            ],
            [
             0.3,
             "#f1b6da"
            ],
            [
             0.4,
             "#fde0ef"
            ],
            [
             0.5,
             "#f7f7f7"
            ],
            [
             0.6,
             "#e6f5d0"
            ],
            [
             0.7,
             "#b8e186"
            ],
            [
             0.8,
             "#7fbc41"
            ],
            [
             0.9,
             "#4d9221"
            ],
            [
             1,
             "#276419"
            ]
           ],
           "sequential": [
            [
             0,
             "#0d0887"
            ],
            [
             0.1111111111111111,
             "#46039f"
            ],
            [
             0.2222222222222222,
             "#7201a8"
            ],
            [
             0.3333333333333333,
             "#9c179e"
            ],
            [
             0.4444444444444444,
             "#bd3786"
            ],
            [
             0.5555555555555556,
             "#d8576b"
            ],
            [
             0.6666666666666666,
             "#ed7953"
            ],
            [
             0.7777777777777778,
             "#fb9f3a"
            ],
            [
             0.8888888888888888,
             "#fdca26"
            ],
            [
             1,
             "#f0f921"
            ]
           ],
           "sequentialminus": [
            [
             0,
             "#0d0887"
            ],
            [
             0.1111111111111111,
             "#46039f"
            ],
            [
             0.2222222222222222,
             "#7201a8"
            ],
            [
             0.3333333333333333,
             "#9c179e"
            ],
            [
             0.4444444444444444,
             "#bd3786"
            ],
            [
             0.5555555555555556,
             "#d8576b"
            ],
            [
             0.6666666666666666,
             "#ed7953"
            ],
            [
             0.7777777777777778,
             "#fb9f3a"
            ],
            [
             0.8888888888888888,
             "#fdca26"
            ],
            [
             1,
             "#f0f921"
            ]
           ]
          },
          "colorway": [
           "#636efa",
           "#EF553B",
           "#00cc96",
           "#ab63fa",
           "#FFA15A",
           "#19d3f3",
           "#FF6692",
           "#B6E880",
           "#FF97FF",
           "#FECB52"
          ],
          "font": {
           "color": "#2a3f5f"
          },
          "geo": {
           "bgcolor": "white",
           "lakecolor": "white",
           "landcolor": "#E5ECF6",
           "showlakes": true,
           "showland": true,
           "subunitcolor": "white"
          },
          "hoverlabel": {
           "align": "left"
          },
          "hovermode": "closest",
          "mapbox": {
           "style": "light"
          },
          "paper_bgcolor": "white",
          "plot_bgcolor": "#E5ECF6",
          "polar": {
           "angularaxis": {
            "gridcolor": "white",
            "linecolor": "white",
            "ticks": ""
           },
           "bgcolor": "#E5ECF6",
           "radialaxis": {
            "gridcolor": "white",
            "linecolor": "white",
            "ticks": ""
           }
          },
          "scene": {
           "xaxis": {
            "backgroundcolor": "#E5ECF6",
            "gridcolor": "white",
            "gridwidth": 2,
            "linecolor": "white",
            "showbackground": true,
            "ticks": "",
            "zerolinecolor": "white"
           },
           "yaxis": {
            "backgroundcolor": "#E5ECF6",
            "gridcolor": "white",
            "gridwidth": 2,
            "linecolor": "white",
            "showbackground": true,
            "ticks": "",
            "zerolinecolor": "white"
           },
           "zaxis": {
            "backgroundcolor": "#E5ECF6",
            "gridcolor": "white",
            "gridwidth": 2,
            "linecolor": "white",
            "showbackground": true,
            "ticks": "",
            "zerolinecolor": "white"
           }
          },
          "shapedefaults": {
           "line": {
            "color": "#2a3f5f"
           }
          },
          "ternary": {
           "aaxis": {
            "gridcolor": "white",
            "linecolor": "white",
            "ticks": ""
           },
           "baxis": {
            "gridcolor": "white",
            "linecolor": "white",
            "ticks": ""
           },
           "bgcolor": "#E5ECF6",
           "caxis": {
            "gridcolor": "white",
            "linecolor": "white",
            "ticks": ""
           }
          },
          "title": {
           "x": 0.05
          },
          "xaxis": {
           "automargin": true,
           "gridcolor": "white",
           "linecolor": "white",
           "ticks": "",
           "title": {
            "standoff": 15
           },
           "zerolinecolor": "white",
           "zerolinewidth": 2
          },
          "yaxis": {
           "automargin": true,
           "gridcolor": "white",
           "linecolor": "white",
           "ticks": "",
           "title": {
            "standoff": 15
           },
           "zerolinecolor": "white",
           "zerolinewidth": 2
          }
         }
        },
        "title": {
         "font": {
          "color": "#4D5663"
         }
        },
        "xaxis": {
         "anchor": "y",
         "domain": [
          0,
          0.2125
         ],
         "gridcolor": "#E1E5ED",
         "showgrid": false,
         "tickfont": {
          "color": "#4D5663"
         },
         "title": {
          "font": {
           "color": "#4D5663"
          },
          "text": ""
         },
         "zerolinecolor": "#E1E5ED"
        },
        "xaxis10": {
         "anchor": "y10",
         "domain": [
          0.2625,
          0.475
         ],
         "gridcolor": "#E1E5ED",
         "showgrid": false,
         "tickfont": {
          "color": "#4D5663"
         },
         "title": {
          "font": {
           "color": "#4D5663"
          },
          "text": ""
         },
         "zerolinecolor": "#E1E5ED"
        },
        "xaxis11": {
         "anchor": "y11",
         "domain": [
          0.525,
          0.7375
         ],
         "gridcolor": "#E1E5ED",
         "showgrid": false,
         "tickfont": {
          "color": "#4D5663"
         },
         "title": {
          "font": {
           "color": "#4D5663"
          },
          "text": ""
         },
         "zerolinecolor": "#E1E5ED"
        },
        "xaxis12": {
         "anchor": "y12",
         "domain": [
          0.7875,
          1
         ],
         "gridcolor": "#E1E5ED",
         "showgrid": false,
         "tickfont": {
          "color": "#4D5663"
         },
         "title": {
          "font": {
           "color": "#4D5663"
          },
          "text": ""
         },
         "zerolinecolor": "#E1E5ED"
        },
        "xaxis13": {
         "anchor": "y13",
         "domain": [
          0,
          0.2125
         ],
         "gridcolor": "#E1E5ED",
         "showgrid": false,
         "tickfont": {
          "color": "#4D5663"
         },
         "title": {
          "font": {
           "color": "#4D5663"
          },
          "text": ""
         },
         "zerolinecolor": "#E1E5ED"
        },
        "xaxis14": {
         "anchor": "y14",
         "domain": [
          0.2625,
          0.475
         ],
         "gridcolor": "#E1E5ED",
         "showgrid": false,
         "tickfont": {
          "color": "#4D5663"
         },
         "title": {
          "font": {
           "color": "#4D5663"
          },
          "text": ""
         },
         "zerolinecolor": "#E1E5ED"
        },
        "xaxis15": {
         "anchor": "y15",
         "domain": [
          0.525,
          0.7375
         ],
         "gridcolor": "#E1E5ED",
         "showgrid": false,
         "tickfont": {
          "color": "#4D5663"
         },
         "title": {
          "font": {
           "color": "#4D5663"
          },
          "text": ""
         },
         "zerolinecolor": "#E1E5ED"
        },
        "xaxis16": {
         "anchor": "y16",
         "domain": [
          0.7875,
          1
         ],
         "gridcolor": "#E1E5ED",
         "showgrid": false,
         "tickfont": {
          "color": "#4D5663"
         },
         "title": {
          "font": {
           "color": "#4D5663"
          },
          "text": ""
         },
         "zerolinecolor": "#E1E5ED"
        },
        "xaxis2": {
         "anchor": "y2",
         "domain": [
          0.2625,
          0.475
         ],
         "gridcolor": "#E1E5ED",
         "showgrid": false,
         "tickfont": {
          "color": "#4D5663"
         },
         "title": {
          "font": {
           "color": "#4D5663"
          },
          "text": ""
         },
         "zerolinecolor": "#E1E5ED"
        },
        "xaxis3": {
         "anchor": "y3",
         "domain": [
          0.525,
          0.7375
         ],
         "gridcolor": "#E1E5ED",
         "showgrid": false,
         "tickfont": {
          "color": "#4D5663"
         },
         "title": {
          "font": {
           "color": "#4D5663"
          },
          "text": ""
         },
         "zerolinecolor": "#E1E5ED"
        },
        "xaxis4": {
         "anchor": "y4",
         "domain": [
          0.7875,
          1
         ],
         "gridcolor": "#E1E5ED",
         "showgrid": false,
         "tickfont": {
          "color": "#4D5663"
         },
         "title": {
          "font": {
           "color": "#4D5663"
          },
          "text": ""
         },
         "zerolinecolor": "#E1E5ED"
        },
        "xaxis5": {
         "anchor": "y5",
         "domain": [
          0,
          0.2125
         ],
         "gridcolor": "#E1E5ED",
         "showgrid": false,
         "tickfont": {
          "color": "#4D5663"
         },
         "title": {
          "font": {
           "color": "#4D5663"
          },
          "text": ""
         },
         "zerolinecolor": "#E1E5ED"
        },
        "xaxis6": {
         "anchor": "y6",
         "domain": [
          0.2625,
          0.475
         ],
         "gridcolor": "#E1E5ED",
         "showgrid": false,
         "tickfont": {
          "color": "#4D5663"
         },
         "title": {
          "font": {
           "color": "#4D5663"
          },
          "text": ""
         },
         "zerolinecolor": "#E1E5ED"
        },
        "xaxis7": {
         "anchor": "y7",
         "domain": [
          0.525,
          0.7375
         ],
         "gridcolor": "#E1E5ED",
         "showgrid": false,
         "tickfont": {
          "color": "#4D5663"
         },
         "title": {
          "font": {
           "color": "#4D5663"
          },
          "text": ""
         },
         "zerolinecolor": "#E1E5ED"
        },
        "xaxis8": {
         "anchor": "y8",
         "domain": [
          0.7875,
          1
         ],
         "gridcolor": "#E1E5ED",
         "showgrid": false,
         "tickfont": {
          "color": "#4D5663"
         },
         "title": {
          "font": {
           "color": "#4D5663"
          },
          "text": ""
         },
         "zerolinecolor": "#E1E5ED"
        },
        "xaxis9": {
         "anchor": "y9",
         "domain": [
          0,
          0.2125
         ],
         "gridcolor": "#E1E5ED",
         "showgrid": false,
         "tickfont": {
          "color": "#4D5663"
         },
         "title": {
          "font": {
           "color": "#4D5663"
          },
          "text": ""
         },
         "zerolinecolor": "#E1E5ED"
        },
        "yaxis": {
         "anchor": "x",
         "domain": [
          0.8025,
          1
         ],
         "gridcolor": "#E1E5ED",
         "showgrid": false,
         "tickfont": {
          "color": "#4D5663"
         },
         "title": {
          "font": {
           "color": "#4D5663"
          },
          "text": ""
         },
         "zerolinecolor": "#E1E5ED"
        },
        "yaxis10": {
         "anchor": "x10",
         "domain": [
          0.2675,
          0.465
         ],
         "gridcolor": "#E1E5ED",
         "showgrid": false,
         "tickfont": {
          "color": "#4D5663"
         },
         "title": {
          "font": {
           "color": "#4D5663"
          },
          "text": ""
         },
         "zerolinecolor": "#E1E5ED"
        },
        "yaxis11": {
         "anchor": "x11",
         "domain": [
          0.2675,
          0.465
         ],
         "gridcolor": "#E1E5ED",
         "showgrid": false,
         "tickfont": {
          "color": "#4D5663"
         },
         "title": {
          "font": {
           "color": "#4D5663"
          },
          "text": ""
         },
         "zerolinecolor": "#E1E5ED"
        },
        "yaxis12": {
         "anchor": "x12",
         "domain": [
          0.2675,
          0.465
         ],
         "gridcolor": "#E1E5ED",
         "showgrid": false,
         "tickfont": {
          "color": "#4D5663"
         },
         "title": {
          "font": {
           "color": "#4D5663"
          },
          "text": ""
         },
         "zerolinecolor": "#E1E5ED"
        },
        "yaxis13": {
         "anchor": "x13",
         "domain": [
          0,
          0.1975
         ],
         "gridcolor": "#E1E5ED",
         "showgrid": false,
         "tickfont": {
          "color": "#4D5663"
         },
         "title": {
          "font": {
           "color": "#4D5663"
          },
          "text": ""
         },
         "zerolinecolor": "#E1E5ED"
        },
        "yaxis14": {
         "anchor": "x14",
         "domain": [
          0,
          0.1975
         ],
         "gridcolor": "#E1E5ED",
         "showgrid": false,
         "tickfont": {
          "color": "#4D5663"
         },
         "title": {
          "font": {
           "color": "#4D5663"
          },
          "text": ""
         },
         "zerolinecolor": "#E1E5ED"
        },
        "yaxis15": {
         "anchor": "x15",
         "domain": [
          0,
          0.1975
         ],
         "gridcolor": "#E1E5ED",
         "showgrid": false,
         "tickfont": {
          "color": "#4D5663"
         },
         "title": {
          "font": {
           "color": "#4D5663"
          },
          "text": ""
         },
         "zerolinecolor": "#E1E5ED"
        },
        "yaxis16": {
         "anchor": "x16",
         "domain": [
          0,
          0.1975
         ],
         "gridcolor": "#E1E5ED",
         "showgrid": false,
         "tickfont": {
          "color": "#4D5663"
         },
         "title": {
          "font": {
           "color": "#4D5663"
          },
          "text": ""
         },
         "zerolinecolor": "#E1E5ED"
        },
        "yaxis2": {
         "anchor": "x2",
         "domain": [
          0.8025,
          1
         ],
         "gridcolor": "#E1E5ED",
         "showgrid": false,
         "tickfont": {
          "color": "#4D5663"
         },
         "title": {
          "font": {
           "color": "#4D5663"
          },
          "text": ""
         },
         "zerolinecolor": "#E1E5ED"
        },
        "yaxis3": {
         "anchor": "x3",
         "domain": [
          0.8025,
          1
         ],
         "gridcolor": "#E1E5ED",
         "showgrid": false,
         "tickfont": {
          "color": "#4D5663"
         },
         "title": {
          "font": {
           "color": "#4D5663"
          },
          "text": ""
         },
         "zerolinecolor": "#E1E5ED"
        },
        "yaxis4": {
         "anchor": "x4",
         "domain": [
          0.8025,
          1
         ],
         "gridcolor": "#E1E5ED",
         "showgrid": false,
         "tickfont": {
          "color": "#4D5663"
         },
         "title": {
          "font": {
           "color": "#4D5663"
          },
          "text": ""
         },
         "zerolinecolor": "#E1E5ED"
        },
        "yaxis5": {
         "anchor": "x5",
         "domain": [
          0.535,
          0.7325
         ],
         "gridcolor": "#E1E5ED",
         "showgrid": false,
         "tickfont": {
          "color": "#4D5663"
         },
         "title": {
          "font": {
           "color": "#4D5663"
          },
          "text": ""
         },
         "zerolinecolor": "#E1E5ED"
        },
        "yaxis6": {
         "anchor": "x6",
         "domain": [
          0.535,
          0.7325
         ],
         "gridcolor": "#E1E5ED",
         "showgrid": false,
         "tickfont": {
          "color": "#4D5663"
         },
         "title": {
          "font": {
           "color": "#4D5663"
          },
          "text": ""
         },
         "zerolinecolor": "#E1E5ED"
        },
        "yaxis7": {
         "anchor": "x7",
         "domain": [
          0.535,
          0.7325
         ],
         "gridcolor": "#E1E5ED",
         "showgrid": false,
         "tickfont": {
          "color": "#4D5663"
         },
         "title": {
          "font": {
           "color": "#4D5663"
          },
          "text": ""
         },
         "zerolinecolor": "#E1E5ED"
        },
        "yaxis8": {
         "anchor": "x8",
         "domain": [
          0.535,
          0.7325
         ],
         "gridcolor": "#E1E5ED",
         "showgrid": false,
         "tickfont": {
          "color": "#4D5663"
         },
         "title": {
          "font": {
           "color": "#4D5663"
          },
          "text": ""
         },
         "zerolinecolor": "#E1E5ED"
        },
        "yaxis9": {
         "anchor": "x9",
         "domain": [
          0.2675,
          0.465
         ],
         "gridcolor": "#E1E5ED",
         "showgrid": false,
         "tickfont": {
          "color": "#4D5663"
         },
         "title": {
          "font": {
           "color": "#4D5663"
          },
          "text": ""
         },
         "zerolinecolor": "#E1E5ED"
        }
       }
      },
      "text/html": [
       "<div>\n",
       "        \n",
       "        \n",
       "            <div id=\"bcabcab2-8080-4555-88cd-68d457aa4ed4\" class=\"plotly-graph-div\" style=\"height:525px; width:100%;\"></div>\n",
       "            <script type=\"text/javascript\">\n",
       "                require([\"plotly\"], function(Plotly) {\n",
       "                    window.PLOTLYENV=window.PLOTLYENV || {};\n",
       "                    window.PLOTLYENV.BASE_URL='https://plot.ly';\n",
       "                    \n",
       "                if (document.getElementById(\"bcabcab2-8080-4555-88cd-68d457aa4ed4\")) {\n",
       "                    Plotly.newPlot(\n",
       "                        'bcabcab2-8080-4555-88cd-68d457aa4ed4',\n",
       "                        [{\"histfunc\": \"count\", \"histnorm\": \"\", \"marker\": {\"color\": \"rgba(255, 153, 51, 1.0)\", \"line\": {\"color\": \"#4D5663\", \"width\": 1.3}}, \"name\": \"A\", \"nbinsx\": 10, \"opacity\": 0.8, \"orientation\": \"v\", \"type\": \"histogram\", \"x\": [-0.171640601897393, -0.43651310026760143, 0.1915612390123302, -1.056703312019151, 0.4223324960551365, 1.2877468203367912, -0.5709727518406853, 2.1648676554773516, -1.2710537136872033, 0.16778935785866875, 1.0923398653718392, 0.4925306791099881, -0.703668513206629, -1.4524459966421268, -1.2744387261513341, 0.48551604613423355, -0.08955322711220023, -0.29027573121328615, 0.7745650160804478, -1.1099619262798022, -1.9683383872344231, -0.29436352576008007, -0.6114534149828592, -0.6016002569315776, 0.6621081449698877, 0.21266807621964742, -0.14196204190623365, 0.8455808080508328, 2.218513523093423, 1.225509030816993, -0.05744835346384874, -0.11673789320091013, -0.30301635565632434, -0.6627327489766144, -0.294755132084432, -0.133052082126597, -0.7027262561520775, 0.21363941721995688, 0.7533029620632767, 0.9161599146948339, -0.38695616486884626, 0.19596958959686875, 2.1597457209110167, 1.6330219307099394, -0.053064503558190354, 0.6603445747130693, 0.3207945904648976, -1.1050354243244225, 1.5637954578971218, 1.2541918745480611, -2.095064611555383, -0.7845842103111716, -0.19468049802855614, -0.4014548287149151, 0.3407950800545804, 0.03272595875779687, -1.3056241417427392, 0.7438543233795972, -1.3227506872869208, 1.0784707979095176, -0.815334722857213, -0.5373819359409527, -1.0606203281249487, 0.441700587416723, -0.32878279305935415, -0.46581137917888865, -1.0904053135674916, -1.26924927808231, 0.31270617806826667, 0.6970749712875615, 0.3153736148451356, -0.45080146910650637, -0.2720063615339261, 1.4044677356602207, -0.019348041080346393, 1.1049428128294767, -2.377128291270848, -1.5073793637973727, -0.926666748211941, 1.8579700229276017, -1.2116095443091348, 0.8236413783722552, -0.32430248425442165, 2.0906677707983916, -0.7044681959680065, -0.1546026406012769, -0.9385406062305209, -0.8692498584291668, -2.3768058600922677, -2.4065090278566914, 1.7172860060023276, 0.16700914108697476, -1.0892987171083033, 1.1821925982620303, 0.3761064908178598, -0.6081613870137292, 0.5683748477954369, -0.2666353852917895, 0.9020386387275965, 0.22303842334880358], \"xaxis\": \"x\", \"yaxis\": \"y\"}, {\"line\": {\"color\": \"rgba(128, 128, 128, 1.0)\", \"dash\": \"solid\", \"shape\": \"linear\", \"width\": 1.3}, \"marker\": {\"size\": 2, \"symbol\": \"circle\"}, \"mode\": \"markers\", \"name\": \"A\", \"text\": \"\", \"type\": \"scatter\", \"x\": [0.5484513444208927, -2.3254372400024663, -0.17768498503930882, -0.0413575571659648, 1.0377678595702458, -0.7116014651027107, 0.26857162154881, 1.5290566395723573, -0.2567586755527022, -0.357121113255171, 0.8094544672338446, -0.18796083964617127, -0.027477640202128045, -0.11870292311303313, -2.269461527526842, 1.5955328577357266, -0.8644545357821648, -1.8642968220350373, 0.09017916692978532, -1.344766726938334, 1.1745824220442214, -0.8414367236253527, -0.7884004277579315, -0.1489331864549383, 0.7728688387695918, -2.1409153230074534, 0.34821592049908134, -0.27498245733340865, 0.6490421722801153, -0.3095015003082018, 1.3755435096077888, 0.5295635663635087, 0.3035655123758679, -0.15702303716074245, 1.1704292564472734, -1.52193050513255, -0.17304696512117046, 0.500742618651033, -2.411263379463824, -0.2764586244288876, -0.9354022868432563, 1.6180987037807752, -0.5850556670966817, 0.8064515288677078, -0.1925316499670654, 2.1249498691984603, 0.28824678756934996, 1.0808924511417874, -1.0991069038596877, 2.8523270968784757, -0.1462276160136622, -0.7269456317989939, 1.009683169084365, -0.9128087165867703, 2.739386314769789, -1.3757622114686658, 1.4407905278507112, -2.1437891180414965, -0.8685438816408083, -1.0684204255937035, -1.3909622043143515, -1.708519617763413, -1.033225258404668, -0.9273179566800895, 0.9622755612144613, 0.4036958283171158, -2.066620915349806, -0.5313498777603, -0.37213553235231156, 0.5566243901674788, 0.46809411497026965, 0.03231282758546965, 1.5950315245268063, -0.8677057971639819, 0.5934132541166431, 0.6665791844271618, -1.070293341617307, 0.23247746328414118, 0.1636105945212715, 1.3847638680189123, -0.7468787389615569, -0.6336863846695935, -0.15418321052239078, -0.022964779182480508, 0.13067056650667006, -0.8346647281545524, -0.08276756281076375, -0.23593108329391443, 1.4223691939157483, -1.475177034806321, -0.5631133271333681, -0.9498587583942311, -1.1180928581281955, -1.9290450825993415, 0.22878195896987918, -1.16846732408735, -1.201800804545687, 0.6324538976960572, -0.1723277128840355, 0.2296303534317323], \"xaxis\": \"x2\", \"y\": [-0.171640601897393, -0.43651310026760143, 0.1915612390123302, -1.056703312019151, 0.4223324960551365, 1.2877468203367912, -0.5709727518406853, 2.1648676554773516, -1.2710537136872033, 0.16778935785866875, 1.0923398653718392, 0.4925306791099881, -0.703668513206629, -1.4524459966421268, -1.2744387261513341, 0.48551604613423355, -0.08955322711220023, -0.29027573121328615, 0.7745650160804478, -1.1099619262798022, -1.9683383872344231, -0.29436352576008007, -0.6114534149828592, -0.6016002569315776, 0.6621081449698877, 0.21266807621964742, -0.14196204190623365, 0.8455808080508328, 2.218513523093423, 1.225509030816993, -0.05744835346384874, -0.11673789320091013, -0.30301635565632434, -0.6627327489766144, -0.294755132084432, -0.133052082126597, -0.7027262561520775, 0.21363941721995688, 0.7533029620632767, 0.9161599146948339, -0.38695616486884626, 0.19596958959686875, 2.1597457209110167, 1.6330219307099394, -0.053064503558190354, 0.6603445747130693, 0.3207945904648976, -1.1050354243244225, 1.5637954578971218, 1.2541918745480611, -2.095064611555383, -0.7845842103111716, -0.19468049802855614, -0.4014548287149151, 0.3407950800545804, 0.03272595875779687, -1.3056241417427392, 0.7438543233795972, -1.3227506872869208, 1.0784707979095176, -0.815334722857213, -0.5373819359409527, -1.0606203281249487, 0.441700587416723, -0.32878279305935415, -0.46581137917888865, -1.0904053135674916, -1.26924927808231, 0.31270617806826667, 0.6970749712875615, 0.3153736148451356, -0.45080146910650637, -0.2720063615339261, 1.4044677356602207, -0.019348041080346393, 1.1049428128294767, -2.377128291270848, -1.5073793637973727, -0.926666748211941, 1.8579700229276017, -1.2116095443091348, 0.8236413783722552, -0.32430248425442165, 2.0906677707983916, -0.7044681959680065, -0.1546026406012769, -0.9385406062305209, -0.8692498584291668, -2.3768058600922677, -2.4065090278566914, 1.7172860060023276, 0.16700914108697476, -1.0892987171083033, 1.1821925982620303, 0.3761064908178598, -0.6081613870137292, 0.5683748477954369, -0.2666353852917895, 0.9020386387275965, 0.22303842334880358], \"yaxis\": \"y2\"}, {\"line\": {\"color\": \"rgba(128, 128, 128, 1.0)\", \"dash\": \"solid\", \"shape\": \"linear\", \"width\": 1.3}, \"marker\": {\"size\": 2, \"symbol\": \"circle\"}, \"mode\": \"markers\", \"name\": \"A\", \"text\": \"\", \"type\": \"scatter\", \"x\": [-0.5983437620713272, -2.6604175619961046, -0.6893577279175397, -0.5229880431507179, -1.1142570311277662, 0.4144329010324235, 1.0709199857046865, 0.24185000081928387, 0.8679028870583181, 0.8552503604199, -0.6897875923656063, -0.6170711861715913, -0.574019045561744, -0.42602932488795464, -0.06540747052858152, 1.01225862618407, 0.5725334774448296, -0.47718574956385784, 0.29591534234625394, 1.0713609097573518, 1.7850760760870759, 0.6615370182444141, -0.09975617128227394, 0.6265897988876452, -0.434442435536369, 0.9189381575943047, 1.1426297546254645, 0.05469376367844408, 0.7664286517069745, 1.4460545893069578, -1.2564294325418002, 0.4220576687942533, 0.6289966738488311, -0.2788764402500565, 0.5015049964356932, 1.514458160544959, 0.2782476011345647, 0.269754598159741, 1.3519102352351455, -0.12193137836822808, -2.178769420790974, 0.8539668969339135, 1.3839608405729358, 0.46683197255988956, 1.8590406800885484, 0.3395093676304781, 0.40311363481143375, -1.0741084327550467, -0.6594594819662645, -0.1065325263332107, 1.0030409948514505, -2.2465625425281024, 0.5250755374331697, 0.5874277050905309, 0.06617762829699439, -0.44520947266094435, 1.5031363729296439, 0.2683309891489996, 0.8941013914258936, 1.1900921079684381, -1.592338528514025, 0.7848888225422255, 1.8842823892513476, -0.2825083302404101, -0.33813550666448006, -0.25537087832581873, -0.7211597678307854, -1.734912570192576, 0.9561537011128859, 0.16208957636882837, -1.2000533555518906, 0.4408341380584331, -1.449277089723586, 0.034329587009165954, -0.04604054983925971, 0.8974630060064327, 0.16304891450080738, 1.9638360203986867, -1.5776099100630412, 0.7609264198270365, 0.969561171471672, -1.0991506011551149, -1.465825439340637, -1.314898729207641, -0.8380424127033789, 0.4373953826702947, 0.45037384631284544, -0.8904920643002715, -0.5810637913845554, 0.3925376368775025, 0.2579651317698921, -1.0810556062247758, -0.31741955255737236, 1.618570911321861, 1.0238726864773395, -0.13573365567790135, -0.8632715661196068, 0.6288163109271624, -0.2819767637068381, 2.2988019665203265], \"xaxis\": \"x3\", \"y\": [-0.171640601897393, -0.43651310026760143, 0.1915612390123302, -1.056703312019151, 0.4223324960551365, 1.2877468203367912, -0.5709727518406853, 2.1648676554773516, -1.2710537136872033, 0.16778935785866875, 1.0923398653718392, 0.4925306791099881, -0.703668513206629, -1.4524459966421268, -1.2744387261513341, 0.48551604613423355, -0.08955322711220023, -0.29027573121328615, 0.7745650160804478, -1.1099619262798022, -1.9683383872344231, -0.29436352576008007, -0.6114534149828592, -0.6016002569315776, 0.6621081449698877, 0.21266807621964742, -0.14196204190623365, 0.8455808080508328, 2.218513523093423, 1.225509030816993, -0.05744835346384874, -0.11673789320091013, -0.30301635565632434, -0.6627327489766144, -0.294755132084432, -0.133052082126597, -0.7027262561520775, 0.21363941721995688, 0.7533029620632767, 0.9161599146948339, -0.38695616486884626, 0.19596958959686875, 2.1597457209110167, 1.6330219307099394, -0.053064503558190354, 0.6603445747130693, 0.3207945904648976, -1.1050354243244225, 1.5637954578971218, 1.2541918745480611, -2.095064611555383, -0.7845842103111716, -0.19468049802855614, -0.4014548287149151, 0.3407950800545804, 0.03272595875779687, -1.3056241417427392, 0.7438543233795972, -1.3227506872869208, 1.0784707979095176, -0.815334722857213, -0.5373819359409527, -1.0606203281249487, 0.441700587416723, -0.32878279305935415, -0.46581137917888865, -1.0904053135674916, -1.26924927808231, 0.31270617806826667, 0.6970749712875615, 0.3153736148451356, -0.45080146910650637, -0.2720063615339261, 1.4044677356602207, -0.019348041080346393, 1.1049428128294767, -2.377128291270848, -1.5073793637973727, -0.926666748211941, 1.8579700229276017, -1.2116095443091348, 0.8236413783722552, -0.32430248425442165, 2.0906677707983916, -0.7044681959680065, -0.1546026406012769, -0.9385406062305209, -0.8692498584291668, -2.3768058600922677, -2.4065090278566914, 1.7172860060023276, 0.16700914108697476, -1.0892987171083033, 1.1821925982620303, 0.3761064908178598, -0.6081613870137292, 0.5683748477954369, -0.2666353852917895, 0.9020386387275965, 0.22303842334880358], \"yaxis\": \"y3\"}, {\"line\": {\"color\": \"rgba(128, 128, 128, 1.0)\", \"dash\": \"solid\", \"shape\": \"linear\", \"width\": 1.3}, \"marker\": {\"size\": 2, \"symbol\": \"circle\"}, \"mode\": \"markers\", \"name\": \"A\", \"text\": \"\", \"type\": \"scatter\", \"x\": [0.8338514606350064, -0.10584992645229413, -0.2706609825615641, 0.5996801983644825, 0.40359100466599535, 2.641790207427108, 0.13224103676807694, 0.35313713991942014, 1.144896307631846, 1.9946928047934107, -0.9171338011956501, -0.4791782716060962, -0.6726579700852056, 1.831020641813482, -0.1523547432486442, 0.3354427663278796, -2.441582962241704, 1.9715015842875654, 0.5494742773319939, 0.6145317653973147, -1.1806025799960154, 0.5155567640803262, -1.3242560220644943, 0.041700160836206965, 0.9468186268366223, -0.5619512409700159, -0.7413321342009079, 0.820528530608833, -0.6458138002254487, 0.050524454707551014, 0.862396604461523, 2.253816471768166, 0.4648313687438735, -0.16136990451619151, 2.1987705070284673, -0.5727987959263574, -1.7115241145055666, 2.073776369230856, 0.625241141366843, 1.5292209070329297, -0.5107014925784714, -0.31939413263433497, 0.646758037652685, -0.2779513216230143, -0.19124944161845978, 0.9571695847179208, -1.1048580560914822, -0.8984915407298146, 1.3273431506933735, -1.333150838500644, -0.1985793201190395, 2.019330939054003, 1.2948297395951902, -0.3749962350083088, 0.7563352984444898, 0.1117176438204793, 0.5872748114399307, -0.429718197605014, 1.1580569489872719, -0.7458610043235129, 0.8355882588036868, 0.42485291323705143, 0.4424168054773275, 0.14127394287620942, -0.6154617117321134, -0.5110598682054509, 0.13496982598516002, 1.0245401663215845, -2.0311036813716705, -1.0250819271742715, -1.8636033313844171, 0.8574905588910688, 0.049503038730056084, -0.4104207782106683, -0.13764615619265963, 0.2844344254242617, -0.7411574434948729, -0.9502016965746825, 0.8689197050008775, -1.9318681506349502, 0.471433643085626, 0.585171420032461, 0.6404961794771034, -0.22741488276623759, -1.0205085255341666, 0.05233227104990713, 0.49628856355218215, -0.8950524060645041, 1.8180841461402975, -0.817214388120829, 1.1765542892213678, 0.6038964891497567, -0.29640169240258973, 1.7917165418241447, -0.9923304082753172, 1.4156913840918108, -0.37184430284858083, 0.3670786989417944, -1.0405526567533496, 0.9209916696959721], \"xaxis\": \"x4\", \"y\": [-0.171640601897393, -0.43651310026760143, 0.1915612390123302, -1.056703312019151, 0.4223324960551365, 1.2877468203367912, -0.5709727518406853, 2.1648676554773516, -1.2710537136872033, 0.16778935785866875, 1.0923398653718392, 0.4925306791099881, -0.703668513206629, -1.4524459966421268, -1.2744387261513341, 0.48551604613423355, -0.08955322711220023, -0.29027573121328615, 0.7745650160804478, -1.1099619262798022, -1.9683383872344231, -0.29436352576008007, -0.6114534149828592, -0.6016002569315776, 0.6621081449698877, 0.21266807621964742, -0.14196204190623365, 0.8455808080508328, 2.218513523093423, 1.225509030816993, -0.05744835346384874, -0.11673789320091013, -0.30301635565632434, -0.6627327489766144, -0.294755132084432, -0.133052082126597, -0.7027262561520775, 0.21363941721995688, 0.7533029620632767, 0.9161599146948339, -0.38695616486884626, 0.19596958959686875, 2.1597457209110167, 1.6330219307099394, -0.053064503558190354, 0.6603445747130693, 0.3207945904648976, -1.1050354243244225, 1.5637954578971218, 1.2541918745480611, -2.095064611555383, -0.7845842103111716, -0.19468049802855614, -0.4014548287149151, 0.3407950800545804, 0.03272595875779687, -1.3056241417427392, 0.7438543233795972, -1.3227506872869208, 1.0784707979095176, -0.815334722857213, -0.5373819359409527, -1.0606203281249487, 0.441700587416723, -0.32878279305935415, -0.46581137917888865, -1.0904053135674916, -1.26924927808231, 0.31270617806826667, 0.6970749712875615, 0.3153736148451356, -0.45080146910650637, -0.2720063615339261, 1.4044677356602207, -0.019348041080346393, 1.1049428128294767, -2.377128291270848, -1.5073793637973727, -0.926666748211941, 1.8579700229276017, -1.2116095443091348, 0.8236413783722552, -0.32430248425442165, 2.0906677707983916, -0.7044681959680065, -0.1546026406012769, -0.9385406062305209, -0.8692498584291668, -2.3768058600922677, -2.4065090278566914, 1.7172860060023276, 0.16700914108697476, -1.0892987171083033, 1.1821925982620303, 0.3761064908178598, -0.6081613870137292, 0.5683748477954369, -0.2666353852917895, 0.9020386387275965, 0.22303842334880358], \"yaxis\": \"y4\"}, {\"line\": {\"color\": \"rgba(128, 128, 128, 1.0)\", \"dash\": \"solid\", \"shape\": \"linear\", \"width\": 1.3}, \"marker\": {\"size\": 2, \"symbol\": \"circle\"}, \"mode\": \"markers\", \"name\": \"B\", \"text\": \"\", \"type\": \"scatter\", \"x\": [-0.171640601897393, -0.43651310026760143, 0.1915612390123302, -1.056703312019151, 0.4223324960551365, 1.2877468203367912, -0.5709727518406853, 2.1648676554773516, -1.2710537136872033, 0.16778935785866875, 1.0923398653718392, 0.4925306791099881, -0.703668513206629, -1.4524459966421268, -1.2744387261513341, 0.48551604613423355, -0.08955322711220023, -0.29027573121328615, 0.7745650160804478, -1.1099619262798022, -1.9683383872344231, -0.29436352576008007, -0.6114534149828592, -0.6016002569315776, 0.6621081449698877, 0.21266807621964742, -0.14196204190623365, 0.8455808080508328, 2.218513523093423, 1.225509030816993, -0.05744835346384874, -0.11673789320091013, -0.30301635565632434, -0.6627327489766144, -0.294755132084432, -0.133052082126597, -0.7027262561520775, 0.21363941721995688, 0.7533029620632767, 0.9161599146948339, -0.38695616486884626, 0.19596958959686875, 2.1597457209110167, 1.6330219307099394, -0.053064503558190354, 0.6603445747130693, 0.3207945904648976, -1.1050354243244225, 1.5637954578971218, 1.2541918745480611, -2.095064611555383, -0.7845842103111716, -0.19468049802855614, -0.4014548287149151, 0.3407950800545804, 0.03272595875779687, -1.3056241417427392, 0.7438543233795972, -1.3227506872869208, 1.0784707979095176, -0.815334722857213, -0.5373819359409527, -1.0606203281249487, 0.441700587416723, -0.32878279305935415, -0.46581137917888865, -1.0904053135674916, -1.26924927808231, 0.31270617806826667, 0.6970749712875615, 0.3153736148451356, -0.45080146910650637, -0.2720063615339261, 1.4044677356602207, -0.019348041080346393, 1.1049428128294767, -2.377128291270848, -1.5073793637973727, -0.926666748211941, 1.8579700229276017, -1.2116095443091348, 0.8236413783722552, -0.32430248425442165, 2.0906677707983916, -0.7044681959680065, -0.1546026406012769, -0.9385406062305209, -0.8692498584291668, -2.3768058600922677, -2.4065090278566914, 1.7172860060023276, 0.16700914108697476, -1.0892987171083033, 1.1821925982620303, 0.3761064908178598, -0.6081613870137292, 0.5683748477954369, -0.2666353852917895, 0.9020386387275965, 0.22303842334880358], \"xaxis\": \"x5\", \"y\": [0.5484513444208927, -2.3254372400024663, -0.17768498503930882, -0.0413575571659648, 1.0377678595702458, -0.7116014651027107, 0.26857162154881, 1.5290566395723573, -0.2567586755527022, -0.357121113255171, 0.8094544672338446, -0.18796083964617127, -0.027477640202128045, -0.11870292311303313, -2.269461527526842, 1.5955328577357266, -0.8644545357821648, -1.8642968220350373, 0.09017916692978532, -1.344766726938334, 1.1745824220442214, -0.8414367236253527, -0.7884004277579315, -0.1489331864549383, 0.7728688387695918, -2.1409153230074534, 0.34821592049908134, -0.27498245733340865, 0.6490421722801153, -0.3095015003082018, 1.3755435096077888, 0.5295635663635087, 0.3035655123758679, -0.15702303716074245, 1.1704292564472734, -1.52193050513255, -0.17304696512117046, 0.500742618651033, -2.411263379463824, -0.2764586244288876, -0.9354022868432563, 1.6180987037807752, -0.5850556670966817, 0.8064515288677078, -0.1925316499670654, 2.1249498691984603, 0.28824678756934996, 1.0808924511417874, -1.0991069038596877, 2.8523270968784757, -0.1462276160136622, -0.7269456317989939, 1.009683169084365, -0.9128087165867703, 2.739386314769789, -1.3757622114686658, 1.4407905278507112, -2.1437891180414965, -0.8685438816408083, -1.0684204255937035, -1.3909622043143515, -1.708519617763413, -1.033225258404668, -0.9273179566800895, 0.9622755612144613, 0.4036958283171158, -2.066620915349806, -0.5313498777603, -0.37213553235231156, 0.5566243901674788, 0.46809411497026965, 0.03231282758546965, 1.5950315245268063, -0.8677057971639819, 0.5934132541166431, 0.6665791844271618, -1.070293341617307, 0.23247746328414118, 0.1636105945212715, 1.3847638680189123, -0.7468787389615569, -0.6336863846695935, -0.15418321052239078, -0.022964779182480508, 0.13067056650667006, -0.8346647281545524, -0.08276756281076375, -0.23593108329391443, 1.4223691939157483, -1.475177034806321, -0.5631133271333681, -0.9498587583942311, -1.1180928581281955, -1.9290450825993415, 0.22878195896987918, -1.16846732408735, -1.201800804545687, 0.6324538976960572, -0.1723277128840355, 0.2296303534317323], \"yaxis\": \"y5\"}, {\"histfunc\": \"count\", \"histnorm\": \"\", \"marker\": {\"color\": \"rgba(55, 128, 191, 1.0)\", \"line\": {\"color\": \"#4D5663\", \"width\": 1.3}}, \"name\": \"B\", \"nbinsx\": 10, \"opacity\": 0.8, \"orientation\": \"v\", \"type\": \"histogram\", \"x\": [0.5484513444208927, -2.3254372400024663, -0.17768498503930882, -0.0413575571659648, 1.0377678595702458, -0.7116014651027107, 0.26857162154881, 1.5290566395723573, -0.2567586755527022, -0.357121113255171, 0.8094544672338446, -0.18796083964617127, -0.027477640202128045, -0.11870292311303313, -2.269461527526842, 1.5955328577357266, -0.8644545357821648, -1.8642968220350373, 0.09017916692978532, -1.344766726938334, 1.1745824220442214, -0.8414367236253527, -0.7884004277579315, -0.1489331864549383, 0.7728688387695918, -2.1409153230074534, 0.34821592049908134, -0.27498245733340865, 0.6490421722801153, -0.3095015003082018, 1.3755435096077888, 0.5295635663635087, 0.3035655123758679, -0.15702303716074245, 1.1704292564472734, -1.52193050513255, -0.17304696512117046, 0.500742618651033, -2.411263379463824, -0.2764586244288876, -0.9354022868432563, 1.6180987037807752, -0.5850556670966817, 0.8064515288677078, -0.1925316499670654, 2.1249498691984603, 0.28824678756934996, 1.0808924511417874, -1.0991069038596877, 2.8523270968784757, -0.1462276160136622, -0.7269456317989939, 1.009683169084365, -0.9128087165867703, 2.739386314769789, -1.3757622114686658, 1.4407905278507112, -2.1437891180414965, -0.8685438816408083, -1.0684204255937035, -1.3909622043143515, -1.708519617763413, -1.033225258404668, -0.9273179566800895, 0.9622755612144613, 0.4036958283171158, -2.066620915349806, -0.5313498777603, -0.37213553235231156, 0.5566243901674788, 0.46809411497026965, 0.03231282758546965, 1.5950315245268063, -0.8677057971639819, 0.5934132541166431, 0.6665791844271618, -1.070293341617307, 0.23247746328414118, 0.1636105945212715, 1.3847638680189123, -0.7468787389615569, -0.6336863846695935, -0.15418321052239078, -0.022964779182480508, 0.13067056650667006, -0.8346647281545524, -0.08276756281076375, -0.23593108329391443, 1.4223691939157483, -1.475177034806321, -0.5631133271333681, -0.9498587583942311, -1.1180928581281955, -1.9290450825993415, 0.22878195896987918, -1.16846732408735, -1.201800804545687, 0.6324538976960572, -0.1723277128840355, 0.2296303534317323], \"xaxis\": \"x6\", \"yaxis\": \"y6\"}, {\"line\": {\"color\": \"rgba(128, 128, 128, 1.0)\", \"dash\": \"solid\", \"shape\": \"linear\", \"width\": 1.3}, \"marker\": {\"size\": 2, \"symbol\": \"circle\"}, \"mode\": \"markers\", \"name\": \"B\", \"text\": \"\", \"type\": \"scatter\", \"x\": [-0.5983437620713272, -2.6604175619961046, -0.6893577279175397, -0.5229880431507179, -1.1142570311277662, 0.4144329010324235, 1.0709199857046865, 0.24185000081928387, 0.8679028870583181, 0.8552503604199, -0.6897875923656063, -0.6170711861715913, -0.574019045561744, -0.42602932488795464, -0.06540747052858152, 1.01225862618407, 0.5725334774448296, -0.47718574956385784, 0.29591534234625394, 1.0713609097573518, 1.7850760760870759, 0.6615370182444141, -0.09975617128227394, 0.6265897988876452, -0.434442435536369, 0.9189381575943047, 1.1426297546254645, 0.05469376367844408, 0.7664286517069745, 1.4460545893069578, -1.2564294325418002, 0.4220576687942533, 0.6289966738488311, -0.2788764402500565, 0.5015049964356932, 1.514458160544959, 0.2782476011345647, 0.269754598159741, 1.3519102352351455, -0.12193137836822808, -2.178769420790974, 0.8539668969339135, 1.3839608405729358, 0.46683197255988956, 1.8590406800885484, 0.3395093676304781, 0.40311363481143375, -1.0741084327550467, -0.6594594819662645, -0.1065325263332107, 1.0030409948514505, -2.2465625425281024, 0.5250755374331697, 0.5874277050905309, 0.06617762829699439, -0.44520947266094435, 1.5031363729296439, 0.2683309891489996, 0.8941013914258936, 1.1900921079684381, -1.592338528514025, 0.7848888225422255, 1.8842823892513476, -0.2825083302404101, -0.33813550666448006, -0.25537087832581873, -0.7211597678307854, -1.734912570192576, 0.9561537011128859, 0.16208957636882837, -1.2000533555518906, 0.4408341380584331, -1.449277089723586, 0.034329587009165954, -0.04604054983925971, 0.8974630060064327, 0.16304891450080738, 1.9638360203986867, -1.5776099100630412, 0.7609264198270365, 0.969561171471672, -1.0991506011551149, -1.465825439340637, -1.314898729207641, -0.8380424127033789, 0.4373953826702947, 0.45037384631284544, -0.8904920643002715, -0.5810637913845554, 0.3925376368775025, 0.2579651317698921, -1.0810556062247758, -0.31741955255737236, 1.618570911321861, 1.0238726864773395, -0.13573365567790135, -0.8632715661196068, 0.6288163109271624, -0.2819767637068381, 2.2988019665203265], \"xaxis\": \"x7\", \"y\": [0.5484513444208927, -2.3254372400024663, -0.17768498503930882, -0.0413575571659648, 1.0377678595702458, -0.7116014651027107, 0.26857162154881, 1.5290566395723573, -0.2567586755527022, -0.357121113255171, 0.8094544672338446, -0.18796083964617127, -0.027477640202128045, -0.11870292311303313, -2.269461527526842, 1.5955328577357266, -0.8644545357821648, -1.8642968220350373, 0.09017916692978532, -1.344766726938334, 1.1745824220442214, -0.8414367236253527, -0.7884004277579315, -0.1489331864549383, 0.7728688387695918, -2.1409153230074534, 0.34821592049908134, -0.27498245733340865, 0.6490421722801153, -0.3095015003082018, 1.3755435096077888, 0.5295635663635087, 0.3035655123758679, -0.15702303716074245, 1.1704292564472734, -1.52193050513255, -0.17304696512117046, 0.500742618651033, -2.411263379463824, -0.2764586244288876, -0.9354022868432563, 1.6180987037807752, -0.5850556670966817, 0.8064515288677078, -0.1925316499670654, 2.1249498691984603, 0.28824678756934996, 1.0808924511417874, -1.0991069038596877, 2.8523270968784757, -0.1462276160136622, -0.7269456317989939, 1.009683169084365, -0.9128087165867703, 2.739386314769789, -1.3757622114686658, 1.4407905278507112, -2.1437891180414965, -0.8685438816408083, -1.0684204255937035, -1.3909622043143515, -1.708519617763413, -1.033225258404668, -0.9273179566800895, 0.9622755612144613, 0.4036958283171158, -2.066620915349806, -0.5313498777603, -0.37213553235231156, 0.5566243901674788, 0.46809411497026965, 0.03231282758546965, 1.5950315245268063, -0.8677057971639819, 0.5934132541166431, 0.6665791844271618, -1.070293341617307, 0.23247746328414118, 0.1636105945212715, 1.3847638680189123, -0.7468787389615569, -0.6336863846695935, -0.15418321052239078, -0.022964779182480508, 0.13067056650667006, -0.8346647281545524, -0.08276756281076375, -0.23593108329391443, 1.4223691939157483, -1.475177034806321, -0.5631133271333681, -0.9498587583942311, -1.1180928581281955, -1.9290450825993415, 0.22878195896987918, -1.16846732408735, -1.201800804545687, 0.6324538976960572, -0.1723277128840355, 0.2296303534317323], \"yaxis\": \"y7\"}, {\"line\": {\"color\": \"rgba(128, 128, 128, 1.0)\", \"dash\": \"solid\", \"shape\": \"linear\", \"width\": 1.3}, \"marker\": {\"size\": 2, \"symbol\": \"circle\"}, \"mode\": \"markers\", \"name\": \"B\", \"text\": \"\", \"type\": \"scatter\", \"x\": [0.8338514606350064, -0.10584992645229413, -0.2706609825615641, 0.5996801983644825, 0.40359100466599535, 2.641790207427108, 0.13224103676807694, 0.35313713991942014, 1.144896307631846, 1.9946928047934107, -0.9171338011956501, -0.4791782716060962, -0.6726579700852056, 1.831020641813482, -0.1523547432486442, 0.3354427663278796, -2.441582962241704, 1.9715015842875654, 0.5494742773319939, 0.6145317653973147, -1.1806025799960154, 0.5155567640803262, -1.3242560220644943, 0.041700160836206965, 0.9468186268366223, -0.5619512409700159, -0.7413321342009079, 0.820528530608833, -0.6458138002254487, 0.050524454707551014, 0.862396604461523, 2.253816471768166, 0.4648313687438735, -0.16136990451619151, 2.1987705070284673, -0.5727987959263574, -1.7115241145055666, 2.073776369230856, 0.625241141366843, 1.5292209070329297, -0.5107014925784714, -0.31939413263433497, 0.646758037652685, -0.2779513216230143, -0.19124944161845978, 0.9571695847179208, -1.1048580560914822, -0.8984915407298146, 1.3273431506933735, -1.333150838500644, -0.1985793201190395, 2.019330939054003, 1.2948297395951902, -0.3749962350083088, 0.7563352984444898, 0.1117176438204793, 0.5872748114399307, -0.429718197605014, 1.1580569489872719, -0.7458610043235129, 0.8355882588036868, 0.42485291323705143, 0.4424168054773275, 0.14127394287620942, -0.6154617117321134, -0.5110598682054509, 0.13496982598516002, 1.0245401663215845, -2.0311036813716705, -1.0250819271742715, -1.8636033313844171, 0.8574905588910688, 0.049503038730056084, -0.4104207782106683, -0.13764615619265963, 0.2844344254242617, -0.7411574434948729, -0.9502016965746825, 0.8689197050008775, -1.9318681506349502, 0.471433643085626, 0.585171420032461, 0.6404961794771034, -0.22741488276623759, -1.0205085255341666, 0.05233227104990713, 0.49628856355218215, -0.8950524060645041, 1.8180841461402975, -0.817214388120829, 1.1765542892213678, 0.6038964891497567, -0.29640169240258973, 1.7917165418241447, -0.9923304082753172, 1.4156913840918108, -0.37184430284858083, 0.3670786989417944, -1.0405526567533496, 0.9209916696959721], \"xaxis\": \"x8\", \"y\": [0.5484513444208927, -2.3254372400024663, -0.17768498503930882, -0.0413575571659648, 1.0377678595702458, -0.7116014651027107, 0.26857162154881, 1.5290566395723573, -0.2567586755527022, -0.357121113255171, 0.8094544672338446, -0.18796083964617127, -0.027477640202128045, -0.11870292311303313, -2.269461527526842, 1.5955328577357266, -0.8644545357821648, -1.8642968220350373, 0.09017916692978532, -1.344766726938334, 1.1745824220442214, -0.8414367236253527, -0.7884004277579315, -0.1489331864549383, 0.7728688387695918, -2.1409153230074534, 0.34821592049908134, -0.27498245733340865, 0.6490421722801153, -0.3095015003082018, 1.3755435096077888, 0.5295635663635087, 0.3035655123758679, -0.15702303716074245, 1.1704292564472734, -1.52193050513255, -0.17304696512117046, 0.500742618651033, -2.411263379463824, -0.2764586244288876, -0.9354022868432563, 1.6180987037807752, -0.5850556670966817, 0.8064515288677078, -0.1925316499670654, 2.1249498691984603, 0.28824678756934996, 1.0808924511417874, -1.0991069038596877, 2.8523270968784757, -0.1462276160136622, -0.7269456317989939, 1.009683169084365, -0.9128087165867703, 2.739386314769789, -1.3757622114686658, 1.4407905278507112, -2.1437891180414965, -0.8685438816408083, -1.0684204255937035, -1.3909622043143515, -1.708519617763413, -1.033225258404668, -0.9273179566800895, 0.9622755612144613, 0.4036958283171158, -2.066620915349806, -0.5313498777603, -0.37213553235231156, 0.5566243901674788, 0.46809411497026965, 0.03231282758546965, 1.5950315245268063, -0.8677057971639819, 0.5934132541166431, 0.6665791844271618, -1.070293341617307, 0.23247746328414118, 0.1636105945212715, 1.3847638680189123, -0.7468787389615569, -0.6336863846695935, -0.15418321052239078, -0.022964779182480508, 0.13067056650667006, -0.8346647281545524, -0.08276756281076375, -0.23593108329391443, 1.4223691939157483, -1.475177034806321, -0.5631133271333681, -0.9498587583942311, -1.1180928581281955, -1.9290450825993415, 0.22878195896987918, -1.16846732408735, -1.201800804545687, 0.6324538976960572, -0.1723277128840355, 0.2296303534317323], \"yaxis\": \"y8\"}, {\"line\": {\"color\": \"rgba(128, 128, 128, 1.0)\", \"dash\": \"solid\", \"shape\": \"linear\", \"width\": 1.3}, \"marker\": {\"size\": 2, \"symbol\": \"circle\"}, \"mode\": \"markers\", \"name\": \"C\", \"text\": \"\", \"type\": \"scatter\", \"x\": [-0.171640601897393, -0.43651310026760143, 0.1915612390123302, -1.056703312019151, 0.4223324960551365, 1.2877468203367912, -0.5709727518406853, 2.1648676554773516, -1.2710537136872033, 0.16778935785866875, 1.0923398653718392, 0.4925306791099881, -0.703668513206629, -1.4524459966421268, -1.2744387261513341, 0.48551604613423355, -0.08955322711220023, -0.29027573121328615, 0.7745650160804478, -1.1099619262798022, -1.9683383872344231, -0.29436352576008007, -0.6114534149828592, -0.6016002569315776, 0.6621081449698877, 0.21266807621964742, -0.14196204190623365, 0.8455808080508328, 2.218513523093423, 1.225509030816993, -0.05744835346384874, -0.11673789320091013, -0.30301635565632434, -0.6627327489766144, -0.294755132084432, -0.133052082126597, -0.7027262561520775, 0.21363941721995688, 0.7533029620632767, 0.9161599146948339, -0.38695616486884626, 0.19596958959686875, 2.1597457209110167, 1.6330219307099394, -0.053064503558190354, 0.6603445747130693, 0.3207945904648976, -1.1050354243244225, 1.5637954578971218, 1.2541918745480611, -2.095064611555383, -0.7845842103111716, -0.19468049802855614, -0.4014548287149151, 0.3407950800545804, 0.03272595875779687, -1.3056241417427392, 0.7438543233795972, -1.3227506872869208, 1.0784707979095176, -0.815334722857213, -0.5373819359409527, -1.0606203281249487, 0.441700587416723, -0.32878279305935415, -0.46581137917888865, -1.0904053135674916, -1.26924927808231, 0.31270617806826667, 0.6970749712875615, 0.3153736148451356, -0.45080146910650637, -0.2720063615339261, 1.4044677356602207, -0.019348041080346393, 1.1049428128294767, -2.377128291270848, -1.5073793637973727, -0.926666748211941, 1.8579700229276017, -1.2116095443091348, 0.8236413783722552, -0.32430248425442165, 2.0906677707983916, -0.7044681959680065, -0.1546026406012769, -0.9385406062305209, -0.8692498584291668, -2.3768058600922677, -2.4065090278566914, 1.7172860060023276, 0.16700914108697476, -1.0892987171083033, 1.1821925982620303, 0.3761064908178598, -0.6081613870137292, 0.5683748477954369, -0.2666353852917895, 0.9020386387275965, 0.22303842334880358], \"xaxis\": \"x9\", \"y\": [-0.5983437620713272, -2.6604175619961046, -0.6893577279175397, -0.5229880431507179, -1.1142570311277662, 0.4144329010324235, 1.0709199857046865, 0.24185000081928387, 0.8679028870583181, 0.8552503604199, -0.6897875923656063, -0.6170711861715913, -0.574019045561744, -0.42602932488795464, -0.06540747052858152, 1.01225862618407, 0.5725334774448296, -0.47718574956385784, 0.29591534234625394, 1.0713609097573518, 1.7850760760870759, 0.6615370182444141, -0.09975617128227394, 0.6265897988876452, -0.434442435536369, 0.9189381575943047, 1.1426297546254645, 0.05469376367844408, 0.7664286517069745, 1.4460545893069578, -1.2564294325418002, 0.4220576687942533, 0.6289966738488311, -0.2788764402500565, 0.5015049964356932, 1.514458160544959, 0.2782476011345647, 0.269754598159741, 1.3519102352351455, -0.12193137836822808, -2.178769420790974, 0.8539668969339135, 1.3839608405729358, 0.46683197255988956, 1.8590406800885484, 0.3395093676304781, 0.40311363481143375, -1.0741084327550467, -0.6594594819662645, -0.1065325263332107, 1.0030409948514505, -2.2465625425281024, 0.5250755374331697, 0.5874277050905309, 0.06617762829699439, -0.44520947266094435, 1.5031363729296439, 0.2683309891489996, 0.8941013914258936, 1.1900921079684381, -1.592338528514025, 0.7848888225422255, 1.8842823892513476, -0.2825083302404101, -0.33813550666448006, -0.25537087832581873, -0.7211597678307854, -1.734912570192576, 0.9561537011128859, 0.16208957636882837, -1.2000533555518906, 0.4408341380584331, -1.449277089723586, 0.034329587009165954, -0.04604054983925971, 0.8974630060064327, 0.16304891450080738, 1.9638360203986867, -1.5776099100630412, 0.7609264198270365, 0.969561171471672, -1.0991506011551149, -1.465825439340637, -1.314898729207641, -0.8380424127033789, 0.4373953826702947, 0.45037384631284544, -0.8904920643002715, -0.5810637913845554, 0.3925376368775025, 0.2579651317698921, -1.0810556062247758, -0.31741955255737236, 1.618570911321861, 1.0238726864773395, -0.13573365567790135, -0.8632715661196068, 0.6288163109271624, -0.2819767637068381, 2.2988019665203265], \"yaxis\": \"y9\"}, {\"line\": {\"color\": \"rgba(128, 128, 128, 1.0)\", \"dash\": \"solid\", \"shape\": \"linear\", \"width\": 1.3}, \"marker\": {\"size\": 2, \"symbol\": \"circle\"}, \"mode\": \"markers\", \"name\": \"C\", \"text\": \"\", \"type\": \"scatter\", \"x\": [0.5484513444208927, -2.3254372400024663, -0.17768498503930882, -0.0413575571659648, 1.0377678595702458, -0.7116014651027107, 0.26857162154881, 1.5290566395723573, -0.2567586755527022, -0.357121113255171, 0.8094544672338446, -0.18796083964617127, -0.027477640202128045, -0.11870292311303313, -2.269461527526842, 1.5955328577357266, -0.8644545357821648, -1.8642968220350373, 0.09017916692978532, -1.344766726938334, 1.1745824220442214, -0.8414367236253527, -0.7884004277579315, -0.1489331864549383, 0.7728688387695918, -2.1409153230074534, 0.34821592049908134, -0.27498245733340865, 0.6490421722801153, -0.3095015003082018, 1.3755435096077888, 0.5295635663635087, 0.3035655123758679, -0.15702303716074245, 1.1704292564472734, -1.52193050513255, -0.17304696512117046, 0.500742618651033, -2.411263379463824, -0.2764586244288876, -0.9354022868432563, 1.6180987037807752, -0.5850556670966817, 0.8064515288677078, -0.1925316499670654, 2.1249498691984603, 0.28824678756934996, 1.0808924511417874, -1.0991069038596877, 2.8523270968784757, -0.1462276160136622, -0.7269456317989939, 1.009683169084365, -0.9128087165867703, 2.739386314769789, -1.3757622114686658, 1.4407905278507112, -2.1437891180414965, -0.8685438816408083, -1.0684204255937035, -1.3909622043143515, -1.708519617763413, -1.033225258404668, -0.9273179566800895, 0.9622755612144613, 0.4036958283171158, -2.066620915349806, -0.5313498777603, -0.37213553235231156, 0.5566243901674788, 0.46809411497026965, 0.03231282758546965, 1.5950315245268063, -0.8677057971639819, 0.5934132541166431, 0.6665791844271618, -1.070293341617307, 0.23247746328414118, 0.1636105945212715, 1.3847638680189123, -0.7468787389615569, -0.6336863846695935, -0.15418321052239078, -0.022964779182480508, 0.13067056650667006, -0.8346647281545524, -0.08276756281076375, -0.23593108329391443, 1.4223691939157483, -1.475177034806321, -0.5631133271333681, -0.9498587583942311, -1.1180928581281955, -1.9290450825993415, 0.22878195896987918, -1.16846732408735, -1.201800804545687, 0.6324538976960572, -0.1723277128840355, 0.2296303534317323], \"xaxis\": \"x10\", \"y\": [-0.5983437620713272, -2.6604175619961046, -0.6893577279175397, -0.5229880431507179, -1.1142570311277662, 0.4144329010324235, 1.0709199857046865, 0.24185000081928387, 0.8679028870583181, 0.8552503604199, -0.6897875923656063, -0.6170711861715913, -0.574019045561744, -0.42602932488795464, -0.06540747052858152, 1.01225862618407, 0.5725334774448296, -0.47718574956385784, 0.29591534234625394, 1.0713609097573518, 1.7850760760870759, 0.6615370182444141, -0.09975617128227394, 0.6265897988876452, -0.434442435536369, 0.9189381575943047, 1.1426297546254645, 0.05469376367844408, 0.7664286517069745, 1.4460545893069578, -1.2564294325418002, 0.4220576687942533, 0.6289966738488311, -0.2788764402500565, 0.5015049964356932, 1.514458160544959, 0.2782476011345647, 0.269754598159741, 1.3519102352351455, -0.12193137836822808, -2.178769420790974, 0.8539668969339135, 1.3839608405729358, 0.46683197255988956, 1.8590406800885484, 0.3395093676304781, 0.40311363481143375, -1.0741084327550467, -0.6594594819662645, -0.1065325263332107, 1.0030409948514505, -2.2465625425281024, 0.5250755374331697, 0.5874277050905309, 0.06617762829699439, -0.44520947266094435, 1.5031363729296439, 0.2683309891489996, 0.8941013914258936, 1.1900921079684381, -1.592338528514025, 0.7848888225422255, 1.8842823892513476, -0.2825083302404101, -0.33813550666448006, -0.25537087832581873, -0.7211597678307854, -1.734912570192576, 0.9561537011128859, 0.16208957636882837, -1.2000533555518906, 0.4408341380584331, -1.449277089723586, 0.034329587009165954, -0.04604054983925971, 0.8974630060064327, 0.16304891450080738, 1.9638360203986867, -1.5776099100630412, 0.7609264198270365, 0.969561171471672, -1.0991506011551149, -1.465825439340637, -1.314898729207641, -0.8380424127033789, 0.4373953826702947, 0.45037384631284544, -0.8904920643002715, -0.5810637913845554, 0.3925376368775025, 0.2579651317698921, -1.0810556062247758, -0.31741955255737236, 1.618570911321861, 1.0238726864773395, -0.13573365567790135, -0.8632715661196068, 0.6288163109271624, -0.2819767637068381, 2.2988019665203265], \"yaxis\": \"y10\"}, {\"histfunc\": \"count\", \"histnorm\": \"\", \"marker\": {\"color\": \"rgba(50, 171, 96, 1.0)\", \"line\": {\"color\": \"#4D5663\", \"width\": 1.3}}, \"name\": \"C\", \"nbinsx\": 10, \"opacity\": 0.8, \"orientation\": \"v\", \"type\": \"histogram\", \"x\": [-0.5983437620713272, -2.6604175619961046, -0.6893577279175397, -0.5229880431507179, -1.1142570311277662, 0.4144329010324235, 1.0709199857046865, 0.24185000081928387, 0.8679028870583181, 0.8552503604199, -0.6897875923656063, -0.6170711861715913, -0.574019045561744, -0.42602932488795464, -0.06540747052858152, 1.01225862618407, 0.5725334774448296, -0.47718574956385784, 0.29591534234625394, 1.0713609097573518, 1.7850760760870759, 0.6615370182444141, -0.09975617128227394, 0.6265897988876452, -0.434442435536369, 0.9189381575943047, 1.1426297546254645, 0.05469376367844408, 0.7664286517069745, 1.4460545893069578, -1.2564294325418002, 0.4220576687942533, 0.6289966738488311, -0.2788764402500565, 0.5015049964356932, 1.514458160544959, 0.2782476011345647, 0.269754598159741, 1.3519102352351455, -0.12193137836822808, -2.178769420790974, 0.8539668969339135, 1.3839608405729358, 0.46683197255988956, 1.8590406800885484, 0.3395093676304781, 0.40311363481143375, -1.0741084327550467, -0.6594594819662645, -0.1065325263332107, 1.0030409948514505, -2.2465625425281024, 0.5250755374331697, 0.5874277050905309, 0.06617762829699439, -0.44520947266094435, 1.5031363729296439, 0.2683309891489996, 0.8941013914258936, 1.1900921079684381, -1.592338528514025, 0.7848888225422255, 1.8842823892513476, -0.2825083302404101, -0.33813550666448006, -0.25537087832581873, -0.7211597678307854, -1.734912570192576, 0.9561537011128859, 0.16208957636882837, -1.2000533555518906, 0.4408341380584331, -1.449277089723586, 0.034329587009165954, -0.04604054983925971, 0.8974630060064327, 0.16304891450080738, 1.9638360203986867, -1.5776099100630412, 0.7609264198270365, 0.969561171471672, -1.0991506011551149, -1.465825439340637, -1.314898729207641, -0.8380424127033789, 0.4373953826702947, 0.45037384631284544, -0.8904920643002715, -0.5810637913845554, 0.3925376368775025, 0.2579651317698921, -1.0810556062247758, -0.31741955255737236, 1.618570911321861, 1.0238726864773395, -0.13573365567790135, -0.8632715661196068, 0.6288163109271624, -0.2819767637068381, 2.2988019665203265], \"xaxis\": \"x11\", \"yaxis\": \"y11\"}, {\"line\": {\"color\": \"rgba(128, 128, 128, 1.0)\", \"dash\": \"solid\", \"shape\": \"linear\", \"width\": 1.3}, \"marker\": {\"size\": 2, \"symbol\": \"circle\"}, \"mode\": \"markers\", \"name\": \"C\", \"text\": \"\", \"type\": \"scatter\", \"x\": [0.8338514606350064, -0.10584992645229413, -0.2706609825615641, 0.5996801983644825, 0.40359100466599535, 2.641790207427108, 0.13224103676807694, 0.35313713991942014, 1.144896307631846, 1.9946928047934107, -0.9171338011956501, -0.4791782716060962, -0.6726579700852056, 1.831020641813482, -0.1523547432486442, 0.3354427663278796, -2.441582962241704, 1.9715015842875654, 0.5494742773319939, 0.6145317653973147, -1.1806025799960154, 0.5155567640803262, -1.3242560220644943, 0.041700160836206965, 0.9468186268366223, -0.5619512409700159, -0.7413321342009079, 0.820528530608833, -0.6458138002254487, 0.050524454707551014, 0.862396604461523, 2.253816471768166, 0.4648313687438735, -0.16136990451619151, 2.1987705070284673, -0.5727987959263574, -1.7115241145055666, 2.073776369230856, 0.625241141366843, 1.5292209070329297, -0.5107014925784714, -0.31939413263433497, 0.646758037652685, -0.2779513216230143, -0.19124944161845978, 0.9571695847179208, -1.1048580560914822, -0.8984915407298146, 1.3273431506933735, -1.333150838500644, -0.1985793201190395, 2.019330939054003, 1.2948297395951902, -0.3749962350083088, 0.7563352984444898, 0.1117176438204793, 0.5872748114399307, -0.429718197605014, 1.1580569489872719, -0.7458610043235129, 0.8355882588036868, 0.42485291323705143, 0.4424168054773275, 0.14127394287620942, -0.6154617117321134, -0.5110598682054509, 0.13496982598516002, 1.0245401663215845, -2.0311036813716705, -1.0250819271742715, -1.8636033313844171, 0.8574905588910688, 0.049503038730056084, -0.4104207782106683, -0.13764615619265963, 0.2844344254242617, -0.7411574434948729, -0.9502016965746825, 0.8689197050008775, -1.9318681506349502, 0.471433643085626, 0.585171420032461, 0.6404961794771034, -0.22741488276623759, -1.0205085255341666, 0.05233227104990713, 0.49628856355218215, -0.8950524060645041, 1.8180841461402975, -0.817214388120829, 1.1765542892213678, 0.6038964891497567, -0.29640169240258973, 1.7917165418241447, -0.9923304082753172, 1.4156913840918108, -0.37184430284858083, 0.3670786989417944, -1.0405526567533496, 0.9209916696959721], \"xaxis\": \"x12\", \"y\": [-0.5983437620713272, -2.6604175619961046, -0.6893577279175397, -0.5229880431507179, -1.1142570311277662, 0.4144329010324235, 1.0709199857046865, 0.24185000081928387, 0.8679028870583181, 0.8552503604199, -0.6897875923656063, -0.6170711861715913, -0.574019045561744, -0.42602932488795464, -0.06540747052858152, 1.01225862618407, 0.5725334774448296, -0.47718574956385784, 0.29591534234625394, 1.0713609097573518, 1.7850760760870759, 0.6615370182444141, -0.09975617128227394, 0.6265897988876452, -0.434442435536369, 0.9189381575943047, 1.1426297546254645, 0.05469376367844408, 0.7664286517069745, 1.4460545893069578, -1.2564294325418002, 0.4220576687942533, 0.6289966738488311, -0.2788764402500565, 0.5015049964356932, 1.514458160544959, 0.2782476011345647, 0.269754598159741, 1.3519102352351455, -0.12193137836822808, -2.178769420790974, 0.8539668969339135, 1.3839608405729358, 0.46683197255988956, 1.8590406800885484, 0.3395093676304781, 0.40311363481143375, -1.0741084327550467, -0.6594594819662645, -0.1065325263332107, 1.0030409948514505, -2.2465625425281024, 0.5250755374331697, 0.5874277050905309, 0.06617762829699439, -0.44520947266094435, 1.5031363729296439, 0.2683309891489996, 0.8941013914258936, 1.1900921079684381, -1.592338528514025, 0.7848888225422255, 1.8842823892513476, -0.2825083302404101, -0.33813550666448006, -0.25537087832581873, -0.7211597678307854, -1.734912570192576, 0.9561537011128859, 0.16208957636882837, -1.2000533555518906, 0.4408341380584331, -1.449277089723586, 0.034329587009165954, -0.04604054983925971, 0.8974630060064327, 0.16304891450080738, 1.9638360203986867, -1.5776099100630412, 0.7609264198270365, 0.969561171471672, -1.0991506011551149, -1.465825439340637, -1.314898729207641, -0.8380424127033789, 0.4373953826702947, 0.45037384631284544, -0.8904920643002715, -0.5810637913845554, 0.3925376368775025, 0.2579651317698921, -1.0810556062247758, -0.31741955255737236, 1.618570911321861, 1.0238726864773395, -0.13573365567790135, -0.8632715661196068, 0.6288163109271624, -0.2819767637068381, 2.2988019665203265], \"yaxis\": \"y12\"}, {\"line\": {\"color\": \"rgba(128, 128, 128, 1.0)\", \"dash\": \"solid\", \"shape\": \"linear\", \"width\": 1.3}, \"marker\": {\"size\": 2, \"symbol\": \"circle\"}, \"mode\": \"markers\", \"name\": \"D\", \"text\": \"\", \"type\": \"scatter\", \"x\": [-0.171640601897393, -0.43651310026760143, 0.1915612390123302, -1.056703312019151, 0.4223324960551365, 1.2877468203367912, -0.5709727518406853, 2.1648676554773516, -1.2710537136872033, 0.16778935785866875, 1.0923398653718392, 0.4925306791099881, -0.703668513206629, -1.4524459966421268, -1.2744387261513341, 0.48551604613423355, -0.08955322711220023, -0.29027573121328615, 0.7745650160804478, -1.1099619262798022, -1.9683383872344231, -0.29436352576008007, -0.6114534149828592, -0.6016002569315776, 0.6621081449698877, 0.21266807621964742, -0.14196204190623365, 0.8455808080508328, 2.218513523093423, 1.225509030816993, -0.05744835346384874, -0.11673789320091013, -0.30301635565632434, -0.6627327489766144, -0.294755132084432, -0.133052082126597, -0.7027262561520775, 0.21363941721995688, 0.7533029620632767, 0.9161599146948339, -0.38695616486884626, 0.19596958959686875, 2.1597457209110167, 1.6330219307099394, -0.053064503558190354, 0.6603445747130693, 0.3207945904648976, -1.1050354243244225, 1.5637954578971218, 1.2541918745480611, -2.095064611555383, -0.7845842103111716, -0.19468049802855614, -0.4014548287149151, 0.3407950800545804, 0.03272595875779687, -1.3056241417427392, 0.7438543233795972, -1.3227506872869208, 1.0784707979095176, -0.815334722857213, -0.5373819359409527, -1.0606203281249487, 0.441700587416723, -0.32878279305935415, -0.46581137917888865, -1.0904053135674916, -1.26924927808231, 0.31270617806826667, 0.6970749712875615, 0.3153736148451356, -0.45080146910650637, -0.2720063615339261, 1.4044677356602207, -0.019348041080346393, 1.1049428128294767, -2.377128291270848, -1.5073793637973727, -0.926666748211941, 1.8579700229276017, -1.2116095443091348, 0.8236413783722552, -0.32430248425442165, 2.0906677707983916, -0.7044681959680065, -0.1546026406012769, -0.9385406062305209, -0.8692498584291668, -2.3768058600922677, -2.4065090278566914, 1.7172860060023276, 0.16700914108697476, -1.0892987171083033, 1.1821925982620303, 0.3761064908178598, -0.6081613870137292, 0.5683748477954369, -0.2666353852917895, 0.9020386387275965, 0.22303842334880358], \"xaxis\": \"x13\", \"y\": [0.8338514606350064, -0.10584992645229413, -0.2706609825615641, 0.5996801983644825, 0.40359100466599535, 2.641790207427108, 0.13224103676807694, 0.35313713991942014, 1.144896307631846, 1.9946928047934107, -0.9171338011956501, -0.4791782716060962, -0.6726579700852056, 1.831020641813482, -0.1523547432486442, 0.3354427663278796, -2.441582962241704, 1.9715015842875654, 0.5494742773319939, 0.6145317653973147, -1.1806025799960154, 0.5155567640803262, -1.3242560220644943, 0.041700160836206965, 0.9468186268366223, -0.5619512409700159, -0.7413321342009079, 0.820528530608833, -0.6458138002254487, 0.050524454707551014, 0.862396604461523, 2.253816471768166, 0.4648313687438735, -0.16136990451619151, 2.1987705070284673, -0.5727987959263574, -1.7115241145055666, 2.073776369230856, 0.625241141366843, 1.5292209070329297, -0.5107014925784714, -0.31939413263433497, 0.646758037652685, -0.2779513216230143, -0.19124944161845978, 0.9571695847179208, -1.1048580560914822, -0.8984915407298146, 1.3273431506933735, -1.333150838500644, -0.1985793201190395, 2.019330939054003, 1.2948297395951902, -0.3749962350083088, 0.7563352984444898, 0.1117176438204793, 0.5872748114399307, -0.429718197605014, 1.1580569489872719, -0.7458610043235129, 0.8355882588036868, 0.42485291323705143, 0.4424168054773275, 0.14127394287620942, -0.6154617117321134, -0.5110598682054509, 0.13496982598516002, 1.0245401663215845, -2.0311036813716705, -1.0250819271742715, -1.8636033313844171, 0.8574905588910688, 0.049503038730056084, -0.4104207782106683, -0.13764615619265963, 0.2844344254242617, -0.7411574434948729, -0.9502016965746825, 0.8689197050008775, -1.9318681506349502, 0.471433643085626, 0.585171420032461, 0.6404961794771034, -0.22741488276623759, -1.0205085255341666, 0.05233227104990713, 0.49628856355218215, -0.8950524060645041, 1.8180841461402975, -0.817214388120829, 1.1765542892213678, 0.6038964891497567, -0.29640169240258973, 1.7917165418241447, -0.9923304082753172, 1.4156913840918108, -0.37184430284858083, 0.3670786989417944, -1.0405526567533496, 0.9209916696959721], \"yaxis\": \"y13\"}, {\"line\": {\"color\": \"rgba(128, 128, 128, 1.0)\", \"dash\": \"solid\", \"shape\": \"linear\", \"width\": 1.3}, \"marker\": {\"size\": 2, \"symbol\": \"circle\"}, \"mode\": \"markers\", \"name\": \"D\", \"text\": \"\", \"type\": \"scatter\", \"x\": [0.5484513444208927, -2.3254372400024663, -0.17768498503930882, -0.0413575571659648, 1.0377678595702458, -0.7116014651027107, 0.26857162154881, 1.5290566395723573, -0.2567586755527022, -0.357121113255171, 0.8094544672338446, -0.18796083964617127, -0.027477640202128045, -0.11870292311303313, -2.269461527526842, 1.5955328577357266, -0.8644545357821648, -1.8642968220350373, 0.09017916692978532, -1.344766726938334, 1.1745824220442214, -0.8414367236253527, -0.7884004277579315, -0.1489331864549383, 0.7728688387695918, -2.1409153230074534, 0.34821592049908134, -0.27498245733340865, 0.6490421722801153, -0.3095015003082018, 1.3755435096077888, 0.5295635663635087, 0.3035655123758679, -0.15702303716074245, 1.1704292564472734, -1.52193050513255, -0.17304696512117046, 0.500742618651033, -2.411263379463824, -0.2764586244288876, -0.9354022868432563, 1.6180987037807752, -0.5850556670966817, 0.8064515288677078, -0.1925316499670654, 2.1249498691984603, 0.28824678756934996, 1.0808924511417874, -1.0991069038596877, 2.8523270968784757, -0.1462276160136622, -0.7269456317989939, 1.009683169084365, -0.9128087165867703, 2.739386314769789, -1.3757622114686658, 1.4407905278507112, -2.1437891180414965, -0.8685438816408083, -1.0684204255937035, -1.3909622043143515, -1.708519617763413, -1.033225258404668, -0.9273179566800895, 0.9622755612144613, 0.4036958283171158, -2.066620915349806, -0.5313498777603, -0.37213553235231156, 0.5566243901674788, 0.46809411497026965, 0.03231282758546965, 1.5950315245268063, -0.8677057971639819, 0.5934132541166431, 0.6665791844271618, -1.070293341617307, 0.23247746328414118, 0.1636105945212715, 1.3847638680189123, -0.7468787389615569, -0.6336863846695935, -0.15418321052239078, -0.022964779182480508, 0.13067056650667006, -0.8346647281545524, -0.08276756281076375, -0.23593108329391443, 1.4223691939157483, -1.475177034806321, -0.5631133271333681, -0.9498587583942311, -1.1180928581281955, -1.9290450825993415, 0.22878195896987918, -1.16846732408735, -1.201800804545687, 0.6324538976960572, -0.1723277128840355, 0.2296303534317323], \"xaxis\": \"x14\", \"y\": [0.8338514606350064, -0.10584992645229413, -0.2706609825615641, 0.5996801983644825, 0.40359100466599535, 2.641790207427108, 0.13224103676807694, 0.35313713991942014, 1.144896307631846, 1.9946928047934107, -0.9171338011956501, -0.4791782716060962, -0.6726579700852056, 1.831020641813482, -0.1523547432486442, 0.3354427663278796, -2.441582962241704, 1.9715015842875654, 0.5494742773319939, 0.6145317653973147, -1.1806025799960154, 0.5155567640803262, -1.3242560220644943, 0.041700160836206965, 0.9468186268366223, -0.5619512409700159, -0.7413321342009079, 0.820528530608833, -0.6458138002254487, 0.050524454707551014, 0.862396604461523, 2.253816471768166, 0.4648313687438735, -0.16136990451619151, 2.1987705070284673, -0.5727987959263574, -1.7115241145055666, 2.073776369230856, 0.625241141366843, 1.5292209070329297, -0.5107014925784714, -0.31939413263433497, 0.646758037652685, -0.2779513216230143, -0.19124944161845978, 0.9571695847179208, -1.1048580560914822, -0.8984915407298146, 1.3273431506933735, -1.333150838500644, -0.1985793201190395, 2.019330939054003, 1.2948297395951902, -0.3749962350083088, 0.7563352984444898, 0.1117176438204793, 0.5872748114399307, -0.429718197605014, 1.1580569489872719, -0.7458610043235129, 0.8355882588036868, 0.42485291323705143, 0.4424168054773275, 0.14127394287620942, -0.6154617117321134, -0.5110598682054509, 0.13496982598516002, 1.0245401663215845, -2.0311036813716705, -1.0250819271742715, -1.8636033313844171, 0.8574905588910688, 0.049503038730056084, -0.4104207782106683, -0.13764615619265963, 0.2844344254242617, -0.7411574434948729, -0.9502016965746825, 0.8689197050008775, -1.9318681506349502, 0.471433643085626, 0.585171420032461, 0.6404961794771034, -0.22741488276623759, -1.0205085255341666, 0.05233227104990713, 0.49628856355218215, -0.8950524060645041, 1.8180841461402975, -0.817214388120829, 1.1765542892213678, 0.6038964891497567, -0.29640169240258973, 1.7917165418241447, -0.9923304082753172, 1.4156913840918108, -0.37184430284858083, 0.3670786989417944, -1.0405526567533496, 0.9209916696959721], \"yaxis\": \"y14\"}, {\"line\": {\"color\": \"rgba(128, 128, 128, 1.0)\", \"dash\": \"solid\", \"shape\": \"linear\", \"width\": 1.3}, \"marker\": {\"size\": 2, \"symbol\": \"circle\"}, \"mode\": \"markers\", \"name\": \"D\", \"text\": \"\", \"type\": \"scatter\", \"x\": [-0.5983437620713272, -2.6604175619961046, -0.6893577279175397, -0.5229880431507179, -1.1142570311277662, 0.4144329010324235, 1.0709199857046865, 0.24185000081928387, 0.8679028870583181, 0.8552503604199, -0.6897875923656063, -0.6170711861715913, -0.574019045561744, -0.42602932488795464, -0.06540747052858152, 1.01225862618407, 0.5725334774448296, -0.47718574956385784, 0.29591534234625394, 1.0713609097573518, 1.7850760760870759, 0.6615370182444141, -0.09975617128227394, 0.6265897988876452, -0.434442435536369, 0.9189381575943047, 1.1426297546254645, 0.05469376367844408, 0.7664286517069745, 1.4460545893069578, -1.2564294325418002, 0.4220576687942533, 0.6289966738488311, -0.2788764402500565, 0.5015049964356932, 1.514458160544959, 0.2782476011345647, 0.269754598159741, 1.3519102352351455, -0.12193137836822808, -2.178769420790974, 0.8539668969339135, 1.3839608405729358, 0.46683197255988956, 1.8590406800885484, 0.3395093676304781, 0.40311363481143375, -1.0741084327550467, -0.6594594819662645, -0.1065325263332107, 1.0030409948514505, -2.2465625425281024, 0.5250755374331697, 0.5874277050905309, 0.06617762829699439, -0.44520947266094435, 1.5031363729296439, 0.2683309891489996, 0.8941013914258936, 1.1900921079684381, -1.592338528514025, 0.7848888225422255, 1.8842823892513476, -0.2825083302404101, -0.33813550666448006, -0.25537087832581873, -0.7211597678307854, -1.734912570192576, 0.9561537011128859, 0.16208957636882837, -1.2000533555518906, 0.4408341380584331, -1.449277089723586, 0.034329587009165954, -0.04604054983925971, 0.8974630060064327, 0.16304891450080738, 1.9638360203986867, -1.5776099100630412, 0.7609264198270365, 0.969561171471672, -1.0991506011551149, -1.465825439340637, -1.314898729207641, -0.8380424127033789, 0.4373953826702947, 0.45037384631284544, -0.8904920643002715, -0.5810637913845554, 0.3925376368775025, 0.2579651317698921, -1.0810556062247758, -0.31741955255737236, 1.618570911321861, 1.0238726864773395, -0.13573365567790135, -0.8632715661196068, 0.6288163109271624, -0.2819767637068381, 2.2988019665203265], \"xaxis\": \"x15\", \"y\": [0.8338514606350064, -0.10584992645229413, -0.2706609825615641, 0.5996801983644825, 0.40359100466599535, 2.641790207427108, 0.13224103676807694, 0.35313713991942014, 1.144896307631846, 1.9946928047934107, -0.9171338011956501, -0.4791782716060962, -0.6726579700852056, 1.831020641813482, -0.1523547432486442, 0.3354427663278796, -2.441582962241704, 1.9715015842875654, 0.5494742773319939, 0.6145317653973147, -1.1806025799960154, 0.5155567640803262, -1.3242560220644943, 0.041700160836206965, 0.9468186268366223, -0.5619512409700159, -0.7413321342009079, 0.820528530608833, -0.6458138002254487, 0.050524454707551014, 0.862396604461523, 2.253816471768166, 0.4648313687438735, -0.16136990451619151, 2.1987705070284673, -0.5727987959263574, -1.7115241145055666, 2.073776369230856, 0.625241141366843, 1.5292209070329297, -0.5107014925784714, -0.31939413263433497, 0.646758037652685, -0.2779513216230143, -0.19124944161845978, 0.9571695847179208, -1.1048580560914822, -0.8984915407298146, 1.3273431506933735, -1.333150838500644, -0.1985793201190395, 2.019330939054003, 1.2948297395951902, -0.3749962350083088, 0.7563352984444898, 0.1117176438204793, 0.5872748114399307, -0.429718197605014, 1.1580569489872719, -0.7458610043235129, 0.8355882588036868, 0.42485291323705143, 0.4424168054773275, 0.14127394287620942, -0.6154617117321134, -0.5110598682054509, 0.13496982598516002, 1.0245401663215845, -2.0311036813716705, -1.0250819271742715, -1.8636033313844171, 0.8574905588910688, 0.049503038730056084, -0.4104207782106683, -0.13764615619265963, 0.2844344254242617, -0.7411574434948729, -0.9502016965746825, 0.8689197050008775, -1.9318681506349502, 0.471433643085626, 0.585171420032461, 0.6404961794771034, -0.22741488276623759, -1.0205085255341666, 0.05233227104990713, 0.49628856355218215, -0.8950524060645041, 1.8180841461402975, -0.817214388120829, 1.1765542892213678, 0.6038964891497567, -0.29640169240258973, 1.7917165418241447, -0.9923304082753172, 1.4156913840918108, -0.37184430284858083, 0.3670786989417944, -1.0405526567533496, 0.9209916696959721], \"yaxis\": \"y15\"}, {\"histfunc\": \"count\", \"histnorm\": \"\", \"marker\": {\"color\": \"rgba(128, 0, 128, 1.0)\", \"line\": {\"color\": \"#4D5663\", \"width\": 1.3}}, \"name\": \"D\", \"nbinsx\": 10, \"opacity\": 0.8, \"orientation\": \"v\", \"type\": \"histogram\", \"x\": [0.8338514606350064, -0.10584992645229413, -0.2706609825615641, 0.5996801983644825, 0.40359100466599535, 2.641790207427108, 0.13224103676807694, 0.35313713991942014, 1.144896307631846, 1.9946928047934107, -0.9171338011956501, -0.4791782716060962, -0.6726579700852056, 1.831020641813482, -0.1523547432486442, 0.3354427663278796, -2.441582962241704, 1.9715015842875654, 0.5494742773319939, 0.6145317653973147, -1.1806025799960154, 0.5155567640803262, -1.3242560220644943, 0.041700160836206965, 0.9468186268366223, -0.5619512409700159, -0.7413321342009079, 0.820528530608833, -0.6458138002254487, 0.050524454707551014, 0.862396604461523, 2.253816471768166, 0.4648313687438735, -0.16136990451619151, 2.1987705070284673, -0.5727987959263574, -1.7115241145055666, 2.073776369230856, 0.625241141366843, 1.5292209070329297, -0.5107014925784714, -0.31939413263433497, 0.646758037652685, -0.2779513216230143, -0.19124944161845978, 0.9571695847179208, -1.1048580560914822, -0.8984915407298146, 1.3273431506933735, -1.333150838500644, -0.1985793201190395, 2.019330939054003, 1.2948297395951902, -0.3749962350083088, 0.7563352984444898, 0.1117176438204793, 0.5872748114399307, -0.429718197605014, 1.1580569489872719, -0.7458610043235129, 0.8355882588036868, 0.42485291323705143, 0.4424168054773275, 0.14127394287620942, -0.6154617117321134, -0.5110598682054509, 0.13496982598516002, 1.0245401663215845, -2.0311036813716705, -1.0250819271742715, -1.8636033313844171, 0.8574905588910688, 0.049503038730056084, -0.4104207782106683, -0.13764615619265963, 0.2844344254242617, -0.7411574434948729, -0.9502016965746825, 0.8689197050008775, -1.9318681506349502, 0.471433643085626, 0.585171420032461, 0.6404961794771034, -0.22741488276623759, -1.0205085255341666, 0.05233227104990713, 0.49628856355218215, -0.8950524060645041, 1.8180841461402975, -0.817214388120829, 1.1765542892213678, 0.6038964891497567, -0.29640169240258973, 1.7917165418241447, -0.9923304082753172, 1.4156913840918108, -0.37184430284858083, 0.3670786989417944, -1.0405526567533496, 0.9209916696959721], \"xaxis\": \"x16\", \"yaxis\": \"y16\"}],\n",
       "                        {\"bargap\": 0.02, \"legend\": {\"bgcolor\": \"#F5F6F9\", \"font\": {\"color\": \"#4D5663\"}}, \"paper_bgcolor\": \"#F5F6F9\", \"plot_bgcolor\": \"#F5F6F9\", \"showlegend\": false, \"template\": {\"data\": {\"bar\": [{\"error_x\": {\"color\": \"#2a3f5f\"}, \"error_y\": {\"color\": \"#2a3f5f\"}, \"marker\": {\"line\": {\"color\": \"#E5ECF6\", \"width\": 0.5}}, \"type\": \"bar\"}], \"barpolar\": [{\"marker\": {\"line\": {\"color\": \"#E5ECF6\", \"width\": 0.5}}, \"type\": \"barpolar\"}], \"carpet\": [{\"aaxis\": {\"endlinecolor\": \"#2a3f5f\", \"gridcolor\": \"white\", \"linecolor\": \"white\", \"minorgridcolor\": \"white\", \"startlinecolor\": \"#2a3f5f\"}, \"baxis\": {\"endlinecolor\": \"#2a3f5f\", \"gridcolor\": \"white\", \"linecolor\": \"white\", \"minorgridcolor\": \"white\", \"startlinecolor\": \"#2a3f5f\"}, \"type\": \"carpet\"}], \"choropleth\": [{\"colorbar\": {\"outlinewidth\": 0, \"ticks\": \"\"}, \"type\": \"choropleth\"}], \"contour\": [{\"colorbar\": {\"outlinewidth\": 0, \"ticks\": \"\"}, \"colorscale\": [[0.0, \"#0d0887\"], [0.1111111111111111, \"#46039f\"], [0.2222222222222222, \"#7201a8\"], [0.3333333333333333, \"#9c179e\"], [0.4444444444444444, \"#bd3786\"], [0.5555555555555556, \"#d8576b\"], [0.6666666666666666, \"#ed7953\"], [0.7777777777777778, \"#fb9f3a\"], [0.8888888888888888, \"#fdca26\"], [1.0, \"#f0f921\"]], \"type\": \"contour\"}], \"contourcarpet\": [{\"colorbar\": {\"outlinewidth\": 0, \"ticks\": \"\"}, \"type\": \"contourcarpet\"}], \"heatmap\": [{\"colorbar\": {\"outlinewidth\": 0, \"ticks\": \"\"}, \"colorscale\": [[0.0, \"#0d0887\"], [0.1111111111111111, \"#46039f\"], [0.2222222222222222, \"#7201a8\"], [0.3333333333333333, \"#9c179e\"], [0.4444444444444444, \"#bd3786\"], [0.5555555555555556, \"#d8576b\"], [0.6666666666666666, \"#ed7953\"], [0.7777777777777778, \"#fb9f3a\"], [0.8888888888888888, \"#fdca26\"], [1.0, \"#f0f921\"]], \"type\": \"heatmap\"}], \"heatmapgl\": [{\"colorbar\": {\"outlinewidth\": 0, \"ticks\": \"\"}, \"colorscale\": [[0.0, \"#0d0887\"], [0.1111111111111111, \"#46039f\"], [0.2222222222222222, \"#7201a8\"], [0.3333333333333333, \"#9c179e\"], [0.4444444444444444, \"#bd3786\"], [0.5555555555555556, \"#d8576b\"], [0.6666666666666666, \"#ed7953\"], [0.7777777777777778, \"#fb9f3a\"], [0.8888888888888888, \"#fdca26\"], [1.0, \"#f0f921\"]], \"type\": \"heatmapgl\"}], \"histogram\": [{\"marker\": {\"colorbar\": {\"outlinewidth\": 0, \"ticks\": \"\"}}, \"type\": \"histogram\"}], \"histogram2d\": [{\"colorbar\": {\"outlinewidth\": 0, \"ticks\": \"\"}, \"colorscale\": [[0.0, \"#0d0887\"], [0.1111111111111111, \"#46039f\"], [0.2222222222222222, \"#7201a8\"], [0.3333333333333333, \"#9c179e\"], [0.4444444444444444, \"#bd3786\"], [0.5555555555555556, \"#d8576b\"], [0.6666666666666666, \"#ed7953\"], [0.7777777777777778, \"#fb9f3a\"], [0.8888888888888888, \"#fdca26\"], [1.0, \"#f0f921\"]], \"type\": \"histogram2d\"}], \"histogram2dcontour\": [{\"colorbar\": {\"outlinewidth\": 0, \"ticks\": \"\"}, \"colorscale\": [[0.0, \"#0d0887\"], [0.1111111111111111, \"#46039f\"], [0.2222222222222222, \"#7201a8\"], [0.3333333333333333, \"#9c179e\"], [0.4444444444444444, \"#bd3786\"], [0.5555555555555556, \"#d8576b\"], [0.6666666666666666, \"#ed7953\"], [0.7777777777777778, \"#fb9f3a\"], [0.8888888888888888, \"#fdca26\"], [1.0, \"#f0f921\"]], \"type\": \"histogram2dcontour\"}], \"mesh3d\": [{\"colorbar\": {\"outlinewidth\": 0, \"ticks\": \"\"}, \"type\": \"mesh3d\"}], \"parcoords\": [{\"line\": {\"colorbar\": {\"outlinewidth\": 0, \"ticks\": \"\"}}, \"type\": \"parcoords\"}], \"pie\": [{\"automargin\": true, \"type\": \"pie\"}], \"scatter\": [{\"marker\": {\"colorbar\": {\"outlinewidth\": 0, \"ticks\": \"\"}}, \"type\": \"scatter\"}], \"scatter3d\": [{\"line\": {\"colorbar\": {\"outlinewidth\": 0, \"ticks\": \"\"}}, \"marker\": {\"colorbar\": {\"outlinewidth\": 0, \"ticks\": \"\"}}, \"type\": \"scatter3d\"}], \"scattercarpet\": [{\"marker\": {\"colorbar\": {\"outlinewidth\": 0, \"ticks\": \"\"}}, \"type\": \"scattercarpet\"}], \"scattergeo\": [{\"marker\": {\"colorbar\": {\"outlinewidth\": 0, \"ticks\": \"\"}}, \"type\": \"scattergeo\"}], \"scattergl\": [{\"marker\": {\"colorbar\": {\"outlinewidth\": 0, \"ticks\": \"\"}}, \"type\": \"scattergl\"}], \"scattermapbox\": [{\"marker\": {\"colorbar\": {\"outlinewidth\": 0, \"ticks\": \"\"}}, \"type\": \"scattermapbox\"}], \"scatterpolar\": [{\"marker\": {\"colorbar\": {\"outlinewidth\": 0, \"ticks\": \"\"}}, \"type\": \"scatterpolar\"}], \"scatterpolargl\": [{\"marker\": {\"colorbar\": {\"outlinewidth\": 0, \"ticks\": \"\"}}, \"type\": \"scatterpolargl\"}], \"scatterternary\": [{\"marker\": {\"colorbar\": {\"outlinewidth\": 0, \"ticks\": \"\"}}, \"type\": \"scatterternary\"}], \"surface\": [{\"colorbar\": {\"outlinewidth\": 0, \"ticks\": \"\"}, \"colorscale\": [[0.0, \"#0d0887\"], [0.1111111111111111, \"#46039f\"], [0.2222222222222222, \"#7201a8\"], [0.3333333333333333, \"#9c179e\"], [0.4444444444444444, \"#bd3786\"], [0.5555555555555556, \"#d8576b\"], [0.6666666666666666, \"#ed7953\"], [0.7777777777777778, \"#fb9f3a\"], [0.8888888888888888, \"#fdca26\"], [1.0, \"#f0f921\"]], \"type\": \"surface\"}], \"table\": [{\"cells\": {\"fill\": {\"color\": \"#EBF0F8\"}, \"line\": {\"color\": \"white\"}}, \"header\": {\"fill\": {\"color\": \"#C8D4E3\"}, \"line\": {\"color\": \"white\"}}, \"type\": \"table\"}]}, \"layout\": {\"annotationdefaults\": {\"arrowcolor\": \"#2a3f5f\", \"arrowhead\": 0, \"arrowwidth\": 1}, \"coloraxis\": {\"colorbar\": {\"outlinewidth\": 0, \"ticks\": \"\"}}, \"colorscale\": {\"diverging\": [[0, \"#8e0152\"], [0.1, \"#c51b7d\"], [0.2, \"#de77ae\"], [0.3, \"#f1b6da\"], [0.4, \"#fde0ef\"], [0.5, \"#f7f7f7\"], [0.6, \"#e6f5d0\"], [0.7, \"#b8e186\"], [0.8, \"#7fbc41\"], [0.9, \"#4d9221\"], [1, \"#276419\"]], \"sequential\": [[0.0, \"#0d0887\"], [0.1111111111111111, \"#46039f\"], [0.2222222222222222, \"#7201a8\"], [0.3333333333333333, \"#9c179e\"], [0.4444444444444444, \"#bd3786\"], [0.5555555555555556, \"#d8576b\"], [0.6666666666666666, \"#ed7953\"], [0.7777777777777778, \"#fb9f3a\"], [0.8888888888888888, \"#fdca26\"], [1.0, \"#f0f921\"]], \"sequentialminus\": [[0.0, \"#0d0887\"], [0.1111111111111111, \"#46039f\"], [0.2222222222222222, \"#7201a8\"], [0.3333333333333333, \"#9c179e\"], [0.4444444444444444, \"#bd3786\"], [0.5555555555555556, \"#d8576b\"], [0.6666666666666666, \"#ed7953\"], [0.7777777777777778, \"#fb9f3a\"], [0.8888888888888888, \"#fdca26\"], [1.0, \"#f0f921\"]]}, \"colorway\": [\"#636efa\", \"#EF553B\", \"#00cc96\", \"#ab63fa\", \"#FFA15A\", \"#19d3f3\", \"#FF6692\", \"#B6E880\", \"#FF97FF\", \"#FECB52\"], \"font\": {\"color\": \"#2a3f5f\"}, \"geo\": {\"bgcolor\": \"white\", \"lakecolor\": \"white\", \"landcolor\": \"#E5ECF6\", \"showlakes\": true, \"showland\": true, \"subunitcolor\": \"white\"}, \"hoverlabel\": {\"align\": \"left\"}, \"hovermode\": \"closest\", \"mapbox\": {\"style\": \"light\"}, \"paper_bgcolor\": \"white\", \"plot_bgcolor\": \"#E5ECF6\", \"polar\": {\"angularaxis\": {\"gridcolor\": \"white\", \"linecolor\": \"white\", \"ticks\": \"\"}, \"bgcolor\": \"#E5ECF6\", \"radialaxis\": {\"gridcolor\": \"white\", \"linecolor\": \"white\", \"ticks\": \"\"}}, \"scene\": {\"xaxis\": {\"backgroundcolor\": \"#E5ECF6\", \"gridcolor\": \"white\", \"gridwidth\": 2, \"linecolor\": \"white\", \"showbackground\": true, \"ticks\": \"\", \"zerolinecolor\": \"white\"}, \"yaxis\": {\"backgroundcolor\": \"#E5ECF6\", \"gridcolor\": \"white\", \"gridwidth\": 2, \"linecolor\": \"white\", \"showbackground\": true, \"ticks\": \"\", \"zerolinecolor\": \"white\"}, \"zaxis\": {\"backgroundcolor\": \"#E5ECF6\", \"gridcolor\": \"white\", \"gridwidth\": 2, \"linecolor\": \"white\", \"showbackground\": true, \"ticks\": \"\", \"zerolinecolor\": \"white\"}}, \"shapedefaults\": {\"line\": {\"color\": \"#2a3f5f\"}}, \"ternary\": {\"aaxis\": {\"gridcolor\": \"white\", \"linecolor\": \"white\", \"ticks\": \"\"}, \"baxis\": {\"gridcolor\": \"white\", \"linecolor\": \"white\", \"ticks\": \"\"}, \"bgcolor\": \"#E5ECF6\", \"caxis\": {\"gridcolor\": \"white\", \"linecolor\": \"white\", \"ticks\": \"\"}}, \"title\": {\"x\": 0.05}, \"xaxis\": {\"automargin\": true, \"gridcolor\": \"white\", \"linecolor\": \"white\", \"ticks\": \"\", \"title\": {\"standoff\": 15}, \"zerolinecolor\": \"white\", \"zerolinewidth\": 2}, \"yaxis\": {\"automargin\": true, \"gridcolor\": \"white\", \"linecolor\": \"white\", \"ticks\": \"\", \"title\": {\"standoff\": 15}, \"zerolinecolor\": \"white\", \"zerolinewidth\": 2}}}, \"title\": {\"font\": {\"color\": \"#4D5663\"}}, \"xaxis\": {\"anchor\": \"y\", \"domain\": [0.0, 0.2125], \"gridcolor\": \"#E1E5ED\", \"showgrid\": false, \"tickfont\": {\"color\": \"#4D5663\"}, \"title\": {\"font\": {\"color\": \"#4D5663\"}, \"text\": \"\"}, \"zerolinecolor\": \"#E1E5ED\"}, \"xaxis10\": {\"anchor\": \"y10\", \"domain\": [0.2625, 0.475], \"gridcolor\": \"#E1E5ED\", \"showgrid\": false, \"tickfont\": {\"color\": \"#4D5663\"}, \"title\": {\"font\": {\"color\": \"#4D5663\"}, \"text\": \"\"}, \"zerolinecolor\": \"#E1E5ED\"}, \"xaxis11\": {\"anchor\": \"y11\", \"domain\": [0.525, 0.7375], \"gridcolor\": \"#E1E5ED\", \"showgrid\": false, \"tickfont\": {\"color\": \"#4D5663\"}, \"title\": {\"font\": {\"color\": \"#4D5663\"}, \"text\": \"\"}, \"zerolinecolor\": \"#E1E5ED\"}, \"xaxis12\": {\"anchor\": \"y12\", \"domain\": [0.7875, 1.0], \"gridcolor\": \"#E1E5ED\", \"showgrid\": false, \"tickfont\": {\"color\": \"#4D5663\"}, \"title\": {\"font\": {\"color\": \"#4D5663\"}, \"text\": \"\"}, \"zerolinecolor\": \"#E1E5ED\"}, \"xaxis13\": {\"anchor\": \"y13\", \"domain\": [0.0, 0.2125], \"gridcolor\": \"#E1E5ED\", \"showgrid\": false, \"tickfont\": {\"color\": \"#4D5663\"}, \"title\": {\"font\": {\"color\": \"#4D5663\"}, \"text\": \"\"}, \"zerolinecolor\": \"#E1E5ED\"}, \"xaxis14\": {\"anchor\": \"y14\", \"domain\": [0.2625, 0.475], \"gridcolor\": \"#E1E5ED\", \"showgrid\": false, \"tickfont\": {\"color\": \"#4D5663\"}, \"title\": {\"font\": {\"color\": \"#4D5663\"}, \"text\": \"\"}, \"zerolinecolor\": \"#E1E5ED\"}, \"xaxis15\": {\"anchor\": \"y15\", \"domain\": [0.525, 0.7375], \"gridcolor\": \"#E1E5ED\", \"showgrid\": false, \"tickfont\": {\"color\": \"#4D5663\"}, \"title\": {\"font\": {\"color\": \"#4D5663\"}, \"text\": \"\"}, \"zerolinecolor\": \"#E1E5ED\"}, \"xaxis16\": {\"anchor\": \"y16\", \"domain\": [0.7875, 1.0], \"gridcolor\": \"#E1E5ED\", \"showgrid\": false, \"tickfont\": {\"color\": \"#4D5663\"}, \"title\": {\"font\": {\"color\": \"#4D5663\"}, \"text\": \"\"}, \"zerolinecolor\": \"#E1E5ED\"}, \"xaxis2\": {\"anchor\": \"y2\", \"domain\": [0.2625, 0.475], \"gridcolor\": \"#E1E5ED\", \"showgrid\": false, \"tickfont\": {\"color\": \"#4D5663\"}, \"title\": {\"font\": {\"color\": \"#4D5663\"}, \"text\": \"\"}, \"zerolinecolor\": \"#E1E5ED\"}, \"xaxis3\": {\"anchor\": \"y3\", \"domain\": [0.525, 0.7375], \"gridcolor\": \"#E1E5ED\", \"showgrid\": false, \"tickfont\": {\"color\": \"#4D5663\"}, \"title\": {\"font\": {\"color\": \"#4D5663\"}, \"text\": \"\"}, \"zerolinecolor\": \"#E1E5ED\"}, \"xaxis4\": {\"anchor\": \"y4\", \"domain\": [0.7875, 1.0], \"gridcolor\": \"#E1E5ED\", \"showgrid\": false, \"tickfont\": {\"color\": \"#4D5663\"}, \"title\": {\"font\": {\"color\": \"#4D5663\"}, \"text\": \"\"}, \"zerolinecolor\": \"#E1E5ED\"}, \"xaxis5\": {\"anchor\": \"y5\", \"domain\": [0.0, 0.2125], \"gridcolor\": \"#E1E5ED\", \"showgrid\": false, \"tickfont\": {\"color\": \"#4D5663\"}, \"title\": {\"font\": {\"color\": \"#4D5663\"}, \"text\": \"\"}, \"zerolinecolor\": \"#E1E5ED\"}, \"xaxis6\": {\"anchor\": \"y6\", \"domain\": [0.2625, 0.475], \"gridcolor\": \"#E1E5ED\", \"showgrid\": false, \"tickfont\": {\"color\": \"#4D5663\"}, \"title\": {\"font\": {\"color\": \"#4D5663\"}, \"text\": \"\"}, \"zerolinecolor\": \"#E1E5ED\"}, \"xaxis7\": {\"anchor\": \"y7\", \"domain\": [0.525, 0.7375], \"gridcolor\": \"#E1E5ED\", \"showgrid\": false, \"tickfont\": {\"color\": \"#4D5663\"}, \"title\": {\"font\": {\"color\": \"#4D5663\"}, \"text\": \"\"}, \"zerolinecolor\": \"#E1E5ED\"}, \"xaxis8\": {\"anchor\": \"y8\", \"domain\": [0.7875, 1.0], \"gridcolor\": \"#E1E5ED\", \"showgrid\": false, \"tickfont\": {\"color\": \"#4D5663\"}, \"title\": {\"font\": {\"color\": \"#4D5663\"}, \"text\": \"\"}, \"zerolinecolor\": \"#E1E5ED\"}, \"xaxis9\": {\"anchor\": \"y9\", \"domain\": [0.0, 0.2125], \"gridcolor\": \"#E1E5ED\", \"showgrid\": false, \"tickfont\": {\"color\": \"#4D5663\"}, \"title\": {\"font\": {\"color\": \"#4D5663\"}, \"text\": \"\"}, \"zerolinecolor\": \"#E1E5ED\"}, \"yaxis\": {\"anchor\": \"x\", \"domain\": [0.8025, 1.0], \"gridcolor\": \"#E1E5ED\", \"showgrid\": false, \"tickfont\": {\"color\": \"#4D5663\"}, \"title\": {\"font\": {\"color\": \"#4D5663\"}, \"text\": \"\"}, \"zerolinecolor\": \"#E1E5ED\"}, \"yaxis10\": {\"anchor\": \"x10\", \"domain\": [0.2675, 0.465], \"gridcolor\": \"#E1E5ED\", \"showgrid\": false, \"tickfont\": {\"color\": \"#4D5663\"}, \"title\": {\"font\": {\"color\": \"#4D5663\"}, \"text\": \"\"}, \"zerolinecolor\": \"#E1E5ED\"}, \"yaxis11\": {\"anchor\": \"x11\", \"domain\": [0.2675, 0.465], \"gridcolor\": \"#E1E5ED\", \"showgrid\": false, \"tickfont\": {\"color\": \"#4D5663\"}, \"title\": {\"font\": {\"color\": \"#4D5663\"}, \"text\": \"\"}, \"zerolinecolor\": \"#E1E5ED\"}, \"yaxis12\": {\"anchor\": \"x12\", \"domain\": [0.2675, 0.465], \"gridcolor\": \"#E1E5ED\", \"showgrid\": false, \"tickfont\": {\"color\": \"#4D5663\"}, \"title\": {\"font\": {\"color\": \"#4D5663\"}, \"text\": \"\"}, \"zerolinecolor\": \"#E1E5ED\"}, \"yaxis13\": {\"anchor\": \"x13\", \"domain\": [0.0, 0.1975], \"gridcolor\": \"#E1E5ED\", \"showgrid\": false, \"tickfont\": {\"color\": \"#4D5663\"}, \"title\": {\"font\": {\"color\": \"#4D5663\"}, \"text\": \"\"}, \"zerolinecolor\": \"#E1E5ED\"}, \"yaxis14\": {\"anchor\": \"x14\", \"domain\": [0.0, 0.1975], \"gridcolor\": \"#E1E5ED\", \"showgrid\": false, \"tickfont\": {\"color\": \"#4D5663\"}, \"title\": {\"font\": {\"color\": \"#4D5663\"}, \"text\": \"\"}, \"zerolinecolor\": \"#E1E5ED\"}, \"yaxis15\": {\"anchor\": \"x15\", \"domain\": [0.0, 0.1975], \"gridcolor\": \"#E1E5ED\", \"showgrid\": false, \"tickfont\": {\"color\": \"#4D5663\"}, \"title\": {\"font\": {\"color\": \"#4D5663\"}, \"text\": \"\"}, \"zerolinecolor\": \"#E1E5ED\"}, \"yaxis16\": {\"anchor\": \"x16\", \"domain\": [0.0, 0.1975], \"gridcolor\": \"#E1E5ED\", \"showgrid\": false, \"tickfont\": {\"color\": \"#4D5663\"}, \"title\": {\"font\": {\"color\": \"#4D5663\"}, \"text\": \"\"}, \"zerolinecolor\": \"#E1E5ED\"}, \"yaxis2\": {\"anchor\": \"x2\", \"domain\": [0.8025, 1.0], \"gridcolor\": \"#E1E5ED\", \"showgrid\": false, \"tickfont\": {\"color\": \"#4D5663\"}, \"title\": {\"font\": {\"color\": \"#4D5663\"}, \"text\": \"\"}, \"zerolinecolor\": \"#E1E5ED\"}, \"yaxis3\": {\"anchor\": \"x3\", \"domain\": [0.8025, 1.0], \"gridcolor\": \"#E1E5ED\", \"showgrid\": false, \"tickfont\": {\"color\": \"#4D5663\"}, \"title\": {\"font\": {\"color\": \"#4D5663\"}, \"text\": \"\"}, \"zerolinecolor\": \"#E1E5ED\"}, \"yaxis4\": {\"anchor\": \"x4\", \"domain\": [0.8025, 1.0], \"gridcolor\": \"#E1E5ED\", \"showgrid\": false, \"tickfont\": {\"color\": \"#4D5663\"}, \"title\": {\"font\": {\"color\": \"#4D5663\"}, \"text\": \"\"}, \"zerolinecolor\": \"#E1E5ED\"}, \"yaxis5\": {\"anchor\": \"x5\", \"domain\": [0.535, 0.7325], \"gridcolor\": \"#E1E5ED\", \"showgrid\": false, \"tickfont\": {\"color\": \"#4D5663\"}, \"title\": {\"font\": {\"color\": \"#4D5663\"}, \"text\": \"\"}, \"zerolinecolor\": \"#E1E5ED\"}, \"yaxis6\": {\"anchor\": \"x6\", \"domain\": [0.535, 0.7325], \"gridcolor\": \"#E1E5ED\", \"showgrid\": false, \"tickfont\": {\"color\": \"#4D5663\"}, \"title\": {\"font\": {\"color\": \"#4D5663\"}, \"text\": \"\"}, \"zerolinecolor\": \"#E1E5ED\"}, \"yaxis7\": {\"anchor\": \"x7\", \"domain\": [0.535, 0.7325], \"gridcolor\": \"#E1E5ED\", \"showgrid\": false, \"tickfont\": {\"color\": \"#4D5663\"}, \"title\": {\"font\": {\"color\": \"#4D5663\"}, \"text\": \"\"}, \"zerolinecolor\": \"#E1E5ED\"}, \"yaxis8\": {\"anchor\": \"x8\", \"domain\": [0.535, 0.7325], \"gridcolor\": \"#E1E5ED\", \"showgrid\": false, \"tickfont\": {\"color\": \"#4D5663\"}, \"title\": {\"font\": {\"color\": \"#4D5663\"}, \"text\": \"\"}, \"zerolinecolor\": \"#E1E5ED\"}, \"yaxis9\": {\"anchor\": \"x9\", \"domain\": [0.2675, 0.465], \"gridcolor\": \"#E1E5ED\", \"showgrid\": false, \"tickfont\": {\"color\": \"#4D5663\"}, \"title\": {\"font\": {\"color\": \"#4D5663\"}, \"text\": \"\"}, \"zerolinecolor\": \"#E1E5ED\"}},\n",
       "                        {\"showLink\": true, \"linkText\": \"Export to plot.ly\", \"plotlyServerURL\": \"https://plot.ly\", \"responsive\": true}\n",
       "                    ).then(function(){\n",
       "                            \n",
       "var gd = document.getElementById('bcabcab2-8080-4555-88cd-68d457aa4ed4');\n",
       "var x = new MutationObserver(function (mutations, observer) {{\n",
       "        var display = window.getComputedStyle(gd).display;\n",
       "        if (!display || display === 'none') {{\n",
       "            console.log([gd, 'removed!']);\n",
       "            Plotly.purge(gd);\n",
       "            observer.disconnect();\n",
       "        }}\n",
       "}});\n",
       "\n",
       "// Listen for the removal of the full notebook cells\n",
       "var notebookContainer = gd.closest('#notebook-container');\n",
       "if (notebookContainer) {{\n",
       "    x.observe(notebookContainer, {childList: true});\n",
       "}}\n",
       "\n",
       "// Listen for the clearing of the current output cell\n",
       "var outputEl = gd.closest('.output');\n",
       "if (outputEl) {{\n",
       "    x.observe(outputEl, {childList: true});\n",
       "}}\n",
       "\n",
       "                        })\n",
       "                };\n",
       "                });\n",
       "            </script>\n",
       "        </div>"
      ]
     },
     "metadata": {},
     "output_type": "display_data"
    }
   ],
   "source": [
    "#Takes time to plot \n",
    "df.scatter_matrix()"
   ]
  },
  {
   "cell_type": "code",
   "execution_count": null,
   "metadata": {},
   "outputs": [],
   "source": []
  }
 ],
 "metadata": {
  "kernelspec": {
   "display_name": "Python 3",
   "language": "python",
   "name": "python3"
  },
  "language_info": {
   "codemirror_mode": {
    "name": "ipython",
    "version": 3
   },
   "file_extension": ".py",
   "mimetype": "text/x-python",
   "name": "python",
   "nbconvert_exporter": "python",
   "pygments_lexer": "ipython3",
   "version": "3.7.4"
  }
 },
 "nbformat": 4,
 "nbformat_minor": 2
}
