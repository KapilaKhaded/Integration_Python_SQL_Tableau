{
 "cells": [
  {
   "cell_type": "code",
   "execution_count": 3,
   "metadata": {},
   "outputs": [],
   "source": [
    "import seaborn as sns\n",
    "import pandas as pd\n",
    "%matplotlib inline"
   ]
  },
  {
   "cell_type": "code",
   "execution_count": 4,
   "metadata": {},
   "outputs": [],
   "source": [
    "dfCorona = pd.read_html('file:///Users/kapilakhaded/GIT/Corona_Virus_Analysis/Coronavirus%20Update%20(Live):%201,827,144%20Cases%20and%20112,410%20Deaths%20from%20COVID-19%20Virus%20Pandemic%20-%20Worldom.webarchive')"
   ]
  },
  {
   "cell_type": "code",
   "execution_count": 5,
   "metadata": {},
   "outputs": [],
   "source": [
    "df = dfCorona[0].head(20)"
   ]
  },
  {
   "cell_type": "code",
   "execution_count": 6,
   "metadata": {},
   "outputs": [
    {
     "data": {
      "text/html": [
       "<div>\n",
       "<style scoped>\n",
       "    .dataframe tbody tr th:only-of-type {\n",
       "        vertical-align: middle;\n",
       "    }\n",
       "\n",
       "    .dataframe tbody tr th {\n",
       "        vertical-align: top;\n",
       "    }\n",
       "\n",
       "    .dataframe thead th {\n",
       "        text-align: right;\n",
       "    }\n",
       "</style>\n",
       "<table border=\"1\" class=\"dataframe\">\n",
       "  <thead>\n",
       "    <tr style=\"text-align: right;\">\n",
       "      <th></th>\n",
       "      <th>Country,Other</th>\n",
       "      <th>TotalCases</th>\n",
       "      <th>NewCases</th>\n",
       "      <th>TotalDeaths</th>\n",
       "      <th>NewDeaths</th>\n",
       "      <th>TotalRecovered</th>\n",
       "      <th>ActiveCases</th>\n",
       "      <th>Serious,Critical</th>\n",
       "      <th>Tot Cases/1M pop</th>\n",
       "      <th>Deaths/1M pop</th>\n",
       "      <th>TotalTests</th>\n",
       "      <th>Tests/ 1M pop</th>\n",
       "    </tr>\n",
       "  </thead>\n",
       "  <tbody>\n",
       "    <tr>\n",
       "      <td>1</td>\n",
       "      <td>USA</td>\n",
       "      <td>545827</td>\n",
       "      <td>+12,948</td>\n",
       "      <td>21474.0</td>\n",
       "      <td>+897</td>\n",
       "      <td>31113.0</td>\n",
       "      <td>493240</td>\n",
       "      <td>11665.0</td>\n",
       "      <td>1649.0</td>\n",
       "      <td>65.0</td>\n",
       "      <td>2754989.0</td>\n",
       "      <td>8323.0</td>\n",
       "    </tr>\n",
       "    <tr>\n",
       "      <td>2</td>\n",
       "      <td>Spain</td>\n",
       "      <td>166019</td>\n",
       "      <td>+2,992</td>\n",
       "      <td>16972.0</td>\n",
       "      <td>+366</td>\n",
       "      <td>62391.0</td>\n",
       "      <td>86656</td>\n",
       "      <td>7371.0</td>\n",
       "      <td>3551.0</td>\n",
       "      <td>363.0</td>\n",
       "      <td>355000.0</td>\n",
       "      <td>7593.0</td>\n",
       "    </tr>\n",
       "    <tr>\n",
       "      <td>3</td>\n",
       "      <td>Italy</td>\n",
       "      <td>156363</td>\n",
       "      <td>+4,092</td>\n",
       "      <td>19899.0</td>\n",
       "      <td>+431</td>\n",
       "      <td>34211.0</td>\n",
       "      <td>102253</td>\n",
       "      <td>3343.0</td>\n",
       "      <td>2586.0</td>\n",
       "      <td>329.0</td>\n",
       "      <td>1010193.0</td>\n",
       "      <td>16708.0</td>\n",
       "    </tr>\n",
       "    <tr>\n",
       "      <td>4</td>\n",
       "      <td>France</td>\n",
       "      <td>129654</td>\n",
       "      <td>NaN</td>\n",
       "      <td>13832.0</td>\n",
       "      <td>NaN</td>\n",
       "      <td>26391.0</td>\n",
       "      <td>89431</td>\n",
       "      <td>6883.0</td>\n",
       "      <td>1986.0</td>\n",
       "      <td>212.0</td>\n",
       "      <td>333807.0</td>\n",
       "      <td>5114.0</td>\n",
       "    </tr>\n",
       "    <tr>\n",
       "      <td>5</td>\n",
       "      <td>Germany</td>\n",
       "      <td>126656</td>\n",
       "      <td>+1,204</td>\n",
       "      <td>2908.0</td>\n",
       "      <td>+37</td>\n",
       "      <td>57400.0</td>\n",
       "      <td>66348</td>\n",
       "      <td>4895.0</td>\n",
       "      <td>1512.0</td>\n",
       "      <td>35.0</td>\n",
       "      <td>1317887.0</td>\n",
       "      <td>15730.0</td>\n",
       "    </tr>\n",
       "    <tr>\n",
       "      <td>6</td>\n",
       "      <td>UK</td>\n",
       "      <td>84279</td>\n",
       "      <td>+5,288</td>\n",
       "      <td>10612.0</td>\n",
       "      <td>+737</td>\n",
       "      <td>344.0</td>\n",
       "      <td>73323</td>\n",
       "      <td>1559.0</td>\n",
       "      <td>1241.0</td>\n",
       "      <td>156.0</td>\n",
       "      <td>352974.0</td>\n",
       "      <td>5200.0</td>\n",
       "    </tr>\n",
       "    <tr>\n",
       "      <td>7</td>\n",
       "      <td>China</td>\n",
       "      <td>82052</td>\n",
       "      <td>+99</td>\n",
       "      <td>3339.0</td>\n",
       "      <td>NaN</td>\n",
       "      <td>77575.0</td>\n",
       "      <td>1138</td>\n",
       "      <td>139.0</td>\n",
       "      <td>57.0</td>\n",
       "      <td>2.0</td>\n",
       "      <td>NaN</td>\n",
       "      <td>NaN</td>\n",
       "    </tr>\n",
       "    <tr>\n",
       "      <td>8</td>\n",
       "      <td>Iran</td>\n",
       "      <td>71686</td>\n",
       "      <td>+1,657</td>\n",
       "      <td>4474.0</td>\n",
       "      <td>+117</td>\n",
       "      <td>43894.0</td>\n",
       "      <td>23318</td>\n",
       "      <td>3930.0</td>\n",
       "      <td>853.0</td>\n",
       "      <td>53.0</td>\n",
       "      <td>263388.0</td>\n",
       "      <td>3136.0</td>\n",
       "    </tr>\n",
       "    <tr>\n",
       "      <td>9</td>\n",
       "      <td>Turkey</td>\n",
       "      <td>56956</td>\n",
       "      <td>+4,789</td>\n",
       "      <td>1198.0</td>\n",
       "      <td>+97</td>\n",
       "      <td>3446.0</td>\n",
       "      <td>52312</td>\n",
       "      <td>1665.0</td>\n",
       "      <td>675.0</td>\n",
       "      <td>14.0</td>\n",
       "      <td>376100.0</td>\n",
       "      <td>4459.0</td>\n",
       "    </tr>\n",
       "    <tr>\n",
       "      <td>10</td>\n",
       "      <td>Belgium</td>\n",
       "      <td>29647</td>\n",
       "      <td>+1,629</td>\n",
       "      <td>3600.0</td>\n",
       "      <td>+254</td>\n",
       "      <td>6463.0</td>\n",
       "      <td>19584</td>\n",
       "      <td>1223.0</td>\n",
       "      <td>2558.0</td>\n",
       "      <td>311.0</td>\n",
       "      <td>102151.0</td>\n",
       "      <td>8814.0</td>\n",
       "    </tr>\n",
       "    <tr>\n",
       "      <td>11</td>\n",
       "      <td>Netherlands</td>\n",
       "      <td>25587</td>\n",
       "      <td>+1,174</td>\n",
       "      <td>2737.0</td>\n",
       "      <td>+94</td>\n",
       "      <td>250.0</td>\n",
       "      <td>22600</td>\n",
       "      <td>1384.0</td>\n",
       "      <td>1493.0</td>\n",
       "      <td>160.0</td>\n",
       "      <td>101534.0</td>\n",
       "      <td>5926.0</td>\n",
       "    </tr>\n",
       "    <tr>\n",
       "      <td>12</td>\n",
       "      <td>Switzerland</td>\n",
       "      <td>25407</td>\n",
       "      <td>+300</td>\n",
       "      <td>1089.0</td>\n",
       "      <td>+53</td>\n",
       "      <td>12100.0</td>\n",
       "      <td>12218</td>\n",
       "      <td>386.0</td>\n",
       "      <td>2936.0</td>\n",
       "      <td>126.0</td>\n",
       "      <td>193800.0</td>\n",
       "      <td>22393.0</td>\n",
       "    </tr>\n",
       "    <tr>\n",
       "      <td>13</td>\n",
       "      <td>Canada</td>\n",
       "      <td>23719</td>\n",
       "      <td>+401</td>\n",
       "      <td>674.0</td>\n",
       "      <td>+21</td>\n",
       "      <td>6661.0</td>\n",
       "      <td>16384</td>\n",
       "      <td>557.0</td>\n",
       "      <td>628.0</td>\n",
       "      <td>18.0</td>\n",
       "      <td>401552.0</td>\n",
       "      <td>10639.0</td>\n",
       "    </tr>\n",
       "    <tr>\n",
       "      <td>14</td>\n",
       "      <td>Brazil</td>\n",
       "      <td>21065</td>\n",
       "      <td>+103</td>\n",
       "      <td>1144.0</td>\n",
       "      <td>+4</td>\n",
       "      <td>173.0</td>\n",
       "      <td>19748</td>\n",
       "      <td>296.0</td>\n",
       "      <td>99.0</td>\n",
       "      <td>5.0</td>\n",
       "      <td>62985.0</td>\n",
       "      <td>296.0</td>\n",
       "    </tr>\n",
       "    <tr>\n",
       "      <td>15</td>\n",
       "      <td>Portugal</td>\n",
       "      <td>16585</td>\n",
       "      <td>+598</td>\n",
       "      <td>504.0</td>\n",
       "      <td>+34</td>\n",
       "      <td>277.0</td>\n",
       "      <td>15804</td>\n",
       "      <td>228.0</td>\n",
       "      <td>1627.0</td>\n",
       "      <td>49.0</td>\n",
       "      <td>163616.0</td>\n",
       "      <td>16046.0</td>\n",
       "    </tr>\n",
       "    <tr>\n",
       "      <td>16</td>\n",
       "      <td>Russia</td>\n",
       "      <td>15770</td>\n",
       "      <td>+2,186</td>\n",
       "      <td>130.0</td>\n",
       "      <td>+24</td>\n",
       "      <td>1291.0</td>\n",
       "      <td>14349</td>\n",
       "      <td>8.0</td>\n",
       "      <td>108.0</td>\n",
       "      <td>0.9</td>\n",
       "      <td>1200000.0</td>\n",
       "      <td>8223.0</td>\n",
       "    </tr>\n",
       "    <tr>\n",
       "      <td>17</td>\n",
       "      <td>Austria</td>\n",
       "      <td>13945</td>\n",
       "      <td>+139</td>\n",
       "      <td>350.0</td>\n",
       "      <td>+13</td>\n",
       "      <td>6987.0</td>\n",
       "      <td>6608</td>\n",
       "      <td>243.0</td>\n",
       "      <td>1548.0</td>\n",
       "      <td>39.0</td>\n",
       "      <td>144877.0</td>\n",
       "      <td>16086.0</td>\n",
       "    </tr>\n",
       "    <tr>\n",
       "      <td>18</td>\n",
       "      <td>Israel</td>\n",
       "      <td>10878</td>\n",
       "      <td>+135</td>\n",
       "      <td>103.0</td>\n",
       "      <td>+2</td>\n",
       "      <td>1388.0</td>\n",
       "      <td>9387</td>\n",
       "      <td>174.0</td>\n",
       "      <td>1257.0</td>\n",
       "      <td>12.0</td>\n",
       "      <td>117339.0</td>\n",
       "      <td>13557.0</td>\n",
       "    </tr>\n",
       "    <tr>\n",
       "      <td>19</td>\n",
       "      <td>S. Korea</td>\n",
       "      <td>10512</td>\n",
       "      <td>+32</td>\n",
       "      <td>214.0</td>\n",
       "      <td>+3</td>\n",
       "      <td>7368.0</td>\n",
       "      <td>2930</td>\n",
       "      <td>55.0</td>\n",
       "      <td>205.0</td>\n",
       "      <td>4.0</td>\n",
       "      <td>514621.0</td>\n",
       "      <td>10038.0</td>\n",
       "    </tr>\n",
       "  </tbody>\n",
       "</table>\n",
       "</div>"
      ],
      "text/plain": [
       "   Country,Other  TotalCases NewCases  TotalDeaths NewDeaths  TotalRecovered  \\\n",
       "1            USA      545827  +12,948      21474.0      +897         31113.0   \n",
       "2          Spain      166019   +2,992      16972.0      +366         62391.0   \n",
       "3          Italy      156363   +4,092      19899.0      +431         34211.0   \n",
       "4         France      129654      NaN      13832.0       NaN         26391.0   \n",
       "5        Germany      126656   +1,204       2908.0       +37         57400.0   \n",
       "6             UK       84279   +5,288      10612.0      +737           344.0   \n",
       "7          China       82052      +99       3339.0       NaN         77575.0   \n",
       "8           Iran       71686   +1,657       4474.0      +117         43894.0   \n",
       "9         Turkey       56956   +4,789       1198.0       +97          3446.0   \n",
       "10       Belgium       29647   +1,629       3600.0      +254          6463.0   \n",
       "11   Netherlands       25587   +1,174       2737.0       +94           250.0   \n",
       "12   Switzerland       25407     +300       1089.0       +53         12100.0   \n",
       "13        Canada       23719     +401        674.0       +21          6661.0   \n",
       "14        Brazil       21065     +103       1144.0        +4           173.0   \n",
       "15      Portugal       16585     +598        504.0       +34           277.0   \n",
       "16        Russia       15770   +2,186        130.0       +24          1291.0   \n",
       "17       Austria       13945     +139        350.0       +13          6987.0   \n",
       "18        Israel       10878     +135        103.0        +2          1388.0   \n",
       "19      S. Korea       10512      +32        214.0        +3          7368.0   \n",
       "\n",
       "    ActiveCases  Serious,Critical  Tot Cases/1M pop  Deaths/1M pop  \\\n",
       "1        493240           11665.0            1649.0           65.0   \n",
       "2         86656            7371.0            3551.0          363.0   \n",
       "3        102253            3343.0            2586.0          329.0   \n",
       "4         89431            6883.0            1986.0          212.0   \n",
       "5         66348            4895.0            1512.0           35.0   \n",
       "6         73323            1559.0            1241.0          156.0   \n",
       "7          1138             139.0              57.0            2.0   \n",
       "8         23318            3930.0             853.0           53.0   \n",
       "9         52312            1665.0             675.0           14.0   \n",
       "10        19584            1223.0            2558.0          311.0   \n",
       "11        22600            1384.0            1493.0          160.0   \n",
       "12        12218             386.0            2936.0          126.0   \n",
       "13        16384             557.0             628.0           18.0   \n",
       "14        19748             296.0              99.0            5.0   \n",
       "15        15804             228.0            1627.0           49.0   \n",
       "16        14349               8.0             108.0            0.9   \n",
       "17         6608             243.0            1548.0           39.0   \n",
       "18         9387             174.0            1257.0           12.0   \n",
       "19         2930              55.0             205.0            4.0   \n",
       "\n",
       "    TotalTests  Tests/ 1M pop  \n",
       "1    2754989.0         8323.0  \n",
       "2     355000.0         7593.0  \n",
       "3    1010193.0        16708.0  \n",
       "4     333807.0         5114.0  \n",
       "5    1317887.0        15730.0  \n",
       "6     352974.0         5200.0  \n",
       "7          NaN            NaN  \n",
       "8     263388.0         3136.0  \n",
       "9     376100.0         4459.0  \n",
       "10    102151.0         8814.0  \n",
       "11    101534.0         5926.0  \n",
       "12    193800.0        22393.0  \n",
       "13    401552.0        10639.0  \n",
       "14     62985.0          296.0  \n",
       "15    163616.0        16046.0  \n",
       "16   1200000.0         8223.0  \n",
       "17    144877.0        16086.0  \n",
       "18    117339.0        13557.0  \n",
       "19    514621.0        10038.0  "
      ]
     },
     "execution_count": 6,
     "metadata": {},
     "output_type": "execute_result"
    }
   ],
   "source": [
    "#Remove first row for world count\n",
    "df = df.drop(0,axis=0)\n",
    "df"
   ]
  },
  {
   "cell_type": "code",
   "execution_count": 7,
   "metadata": {},
   "outputs": [
    {
     "data": {
      "text/plain": [
       "<matplotlib.axes._subplots.AxesSubplot at 0x1a226669d0>"
      ]
     },
     "execution_count": 7,
     "metadata": {},
     "output_type": "execute_result"
    },
    {
     "data": {
      "image/png": "[encoded data removed]",
      "text/plain": [
       "<Figure size 432x288 with 1 Axes>"
      ]
     },
     "metadata": {
      "needs_background": "light"
     },
     "output_type": "display_data"
    }
   ],
   "source": [
    "df['TotalCases'].head(10).plot.kde()"
   ]
  },
  {
   "cell_type": "code",
   "execution_count": 8,
   "metadata": {},
   "outputs": [
    {
     "data": {
      "text/plain": [
       "<matplotlib.axes._subplots.AxesSubplot at 0x1a23297410>"
      ]
     },
     "execution_count": 8,
     "metadata": {},
     "output_type": "execute_result"
    },
    {
     "data": {
      "image/png": "[encoded data removed]",
      "text/plain": [
       "<Figure size 432x288 with 1 Axes>"
      ]
     },
     "metadata": {
      "needs_background": "light"
     },
     "output_type": "display_data"
    }
   ],
   "source": [
    "df.head(10).plot.scatter(x='TotalDeaths',y='TotalCases')"
   ]
  },
  {
   "cell_type": "markdown",
   "metadata": {},
   "source": [
    "# Create Figure (empty canvas)\n",
    "fig = plt.figure()\n",
    "\n",
    "# Add set of axes to figure\n",
    "axes = fig.add_axes([0.1, 0.1, 0.8, 0.8]) # left, bottom, width, height (range 0 to 1)\n",
    "\n",
    "# Plot on that set of axes\n",
    "axes.plot(dfCor['Country,Other'].head(10), dfCor['TotalCases'].head(10), 'b')\n",
    "#axes.set_xlabel('Set X Label') # Notice the use of set_ to begin methods\n",
    "#axes.set_ylabel('Set y Label')\n",
    "#axes.set_title('Set Title')"
   ]
  },
  {
   "cell_type": "code",
   "execution_count": 9,
   "metadata": {},
   "outputs": [
    {
     "data": {
      "text/plain": [
       "<matplotlib.axes._subplots.AxesSubplot at 0x1a23ca1290>"
      ]
     },
     "execution_count": 9,
     "metadata": {},
     "output_type": "execute_result"
    },
    {
     "data": {
      "image/png": "[encoded data removed]",
      "text/plain": [
       "<Figure size 432x288 with 1 Axes>"
      ]
     },
     "metadata": {
      "needs_background": "light"
     },
     "output_type": "display_data"
    }
   ],
   "source": [
    "\n",
    "#plt.hist2d(dfCor['Country,Other'].head(10), dfCor['TotalCases'].head(10))\n",
    "df.head(20).plot.bar('Country,Other', 'TotalCases')"
   ]
  },
  {
   "cell_type": "code",
   "execution_count": 10,
   "metadata": {},
   "outputs": [
    {
     "data": {
      "text/plain": [
       "<seaborn.axisgrid.JointGrid at 0x1a23dfcd50>"
      ]
     },
     "execution_count": 10,
     "metadata": {},
     "output_type": "execute_result"
    },
    {
     "data": {
      "image/png": "[encoded data removed]",
      "text/plain": [
       "<Figure size 432x432 with 3 Axes>"
      ]
     },
     "metadata": {
      "needs_background": "light"
     },
     "output_type": "display_data"
    }
   ],
   "source": [
    "sns.jointplot(x='TotalCases',y='TotalDeaths',data=df,kind='reg')"
   ]
  },
  {
   "cell_type": "code",
   "execution_count": 11,
   "metadata": {
    "scrolled": false
   },
   "outputs": [
    {
     "data": {
      "text/plain": [
       "<matplotlib.axes._subplots.AxesSubplot at 0x1a1f0be3d0>"
      ]
     },
     "execution_count": 11,
     "metadata": {},
     "output_type": "execute_result"
    },
    {
     "data": {
      "image/png": "[encoded data removed]",
      "text/plain": [
       "<Figure size 432x288 with 1 Axes>"
      ]
     },
     "metadata": {
      "needs_background": "light"
     },
     "output_type": "display_data"
    }
   ],
   "source": [
    "sns.kdeplot(df['TotalCases'])\n",
    "sns.rugplot(df['TotalCases'])"
   ]
  },
  {
   "cell_type": "code",
   "execution_count": 12,
   "metadata": {},
   "outputs": [
    {
     "data": {
      "text/plain": [
       "<matplotlib.axes._subplots.AxesSubplot at 0x1a1efc19d0>"
      ]
     },
     "execution_count": 12,
     "metadata": {},
     "output_type": "execute_result"
    },
    {
     "data": {
      "image/png": "[encoded data removed]",
      "text/plain": [
       "<Figure size 432x288 with 1 Axes>"
      ]
     },
     "metadata": {
      "needs_background": "light"
     },
     "output_type": "display_data"
    }
   ],
   "source": [
    "sns.kdeplot(df['TotalDeaths'])\n",
    "sns.rugplot(df['TotalDeaths'])"
   ]
  },
  {
   "cell_type": "code",
   "execution_count": null,
   "metadata": {},
   "outputs": [],
   "source": []
  }
 ],
 "metadata": {
  "kernelspec": {
   "display_name": "Python 3",
   "language": "python",
   "name": "python3"
  },
  "language_info": {
   "codemirror_mode": {
    "name": "ipython",
    "version": 3
   },
   "file_extension": ".py",
   "mimetype": "text/x-python",
   "name": "python",
   "nbconvert_exporter": "python",
   "pygments_lexer": "ipython3",
   "version": "3.7.4"
  }
 },
 "nbformat": 4,
 "nbformat_minor": 2
}
